{
 "cells": [
  {
   "cell_type": "code",
   "execution_count": 10,
   "id": "b37df9c1",
   "metadata": {},
   "outputs": [
    {
     "ename": "ImportError",
     "evalue": "cannot import name 'Convert_Int_To_List' from 'riz' (c:\\Users\\BAPS\\Desktop\\Python\\python_files\\riz.py)",
     "output_type": "error",
     "traceback": [
      "\u001b[31m---------------------------------------------------------------------------\u001b[39m",
      "\u001b[31mImportError\u001b[39m                               Traceback (most recent call last)",
      "\u001b[36mCell\u001b[39m\u001b[36m \u001b[39m\u001b[32mIn[10]\u001b[39m\u001b[32m, line 1\u001b[39m\n\u001b[32m----> \u001b[39m\u001b[32m1\u001b[39m \u001b[38;5;28;01mfrom\u001b[39;00m\u001b[38;5;250m \u001b[39m\u001b[34;01mriz\u001b[39;00m\u001b[38;5;250m \u001b[39m\u001b[38;5;28;01mimport\u001b[39;00m Convert_Int_To_List\n\u001b[32m      2\u001b[39m n=\u001b[38;5;28mint\u001b[39m(\u001b[38;5;28minput\u001b[39m())\n\u001b[32m      3\u001b[39m Convert_Int_To_List(n)\n",
      "\u001b[31mImportError\u001b[39m: cannot import name 'Convert_Int_To_List' from 'riz' (c:\\Users\\BAPS\\Desktop\\Python\\python_files\\riz.py)"
     ]
    }
   ],
   "source": [
    "from riz import Convert_Int_To_List\n",
    "n=int(input())\n",
    "Convert_Int_To_List(n)"
   ]
  },
  {
   "cell_type": "code",
   "execution_count": null,
   "id": "8a97bc6c",
   "metadata": {},
   "outputs": [],
   "source": []
  }
 ],
 "metadata": {
  "kernelspec": {
   "display_name": "Python 3",
   "language": "python",
   "name": "python3"
  },
  "language_info": {
   "codemirror_mode": {
    "name": "ipython",
    "version": 3
   },
   "file_extension": ".py",
   "mimetype": "text/x-python",
   "name": "python",
   "nbconvert_exporter": "python",
   "pygments_lexer": "ipython3",
   "version": "3.11.0"
  }
 },
 "nbformat": 4,
 "nbformat_minor": 5
}
