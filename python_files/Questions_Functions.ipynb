{
 "cells": [
  {
   "cell_type": "markdown",
   "id": "e1fc049a",
   "metadata": {},
   "source": [
    "1. Find the max of three numbers\n"
   ]
  },
  {
   "cell_type": "code",
   "execution_count": 18,
   "id": "73fd4a02",
   "metadata": {},
   "outputs": [
    {
     "name": "stdout",
     "output_type": "stream",
     "text": [
      "The Biggest number between  12 32 3  is  32\n"
     ]
    }
   ],
   "source": [
    "def Max_Of_Three(a,b,c):\n",
    "    print(\"The Biggest number between \",a,b,c,\" is \",max(a,b,c))\n",
    "\n",
    "a=int(input(\"enter a: \" ))\n",
    "b=int(input(\"enter b: \" ))\n",
    "c=int(input(\"enter c: \" ))\n",
    "Max_Of_Three(a,b,c)"
   ]
  },
  {
   "cell_type": "markdown",
   "id": "3e32def7",
   "metadata": {},
   "source": [
    "2. Sum of all numbers in a list\n"
   ]
  },
  {
   "cell_type": "code",
   "execution_count": 19,
   "id": "952dab2d",
   "metadata": {},
   "outputs": [
    {
     "name": "stdout",
     "output_type": "stream",
     "text": [
      "Sum of the list [212, 3, 43, 453] is 711\n"
     ]
    }
   ],
   "source": [
    "def ListSum(lst):\n",
    "    sum=0\n",
    "    for i in lst:\n",
    "        sum+=i\n",
    "    print(\"Sum of the list\",lst,\"is\",sum)\n",
    "\n",
    "a2=[212,3,43,453]\n",
    "ListSum(a2)"
   ]
  },
  {
   "cell_type": "markdown",
   "id": "926623a7",
   "metadata": {},
   "source": [
    "3. Write a function to take integers as input and give list containing these numbers as output"
   ]
  },
  {
   "cell_type": "code",
   "execution_count": null,
   "id": "24152df9",
   "metadata": {},
   "outputs": [
    {
     "name": "stdout",
     "output_type": "stream",
     "text": [
      "Sum of the list [1, 2, 43, 54, 1] is 101\n"
     ]
    }
   ],
   "source": [
    "# This code is First Taking the elements and putting them in a list then calling the ListSum function to calculate the sum of elements of the list\n",
    "def Convert_Int_To_List(n):\n",
    "    lst=[]\n",
    "    for i in range(n):\n",
    "        a=int(input(\"enter the element for list : \"))\n",
    "        lst.append(a)\n",
    "    return lst\n",
    "\n",
    "n=int(input(\"enter an element for the list:\"))\n",
    "lst1= Convert_Int_To_List(n)\n",
    "ListSum(lst1)       #This uses the Function that sums the values of list "
   ]
  },
  {
   "cell_type": "markdown",
   "id": "e5d56c58",
   "metadata": {},
   "source": [
    "4. Multiply all elements in a list\n"
   ]
  },
  {
   "cell_type": "code",
   "execution_count": 30,
   "id": "c84f5f54",
   "metadata": {},
   "outputs": [
    {
     "name": "stdout",
     "output_type": "stream",
     "text": [
      "Product of all elements is: -1032\n"
     ]
    }
   ],
   "source": [
    "def List_Multiply(lst):\n",
    "    multiply=1\n",
    "    for i in lst:\n",
    "        multiply*=i\n",
    "    print(\"Product of all elements is:\",multiply)\n",
    "ls=[1,43,6,-4]\n",
    "List_Multiply(ls)"
   ]
  },
  {
   "cell_type": "markdown",
   "id": "81748d32",
   "metadata": {},
   "source": [
    "5. Reverse a string "
   ]
  },
  {
   "cell_type": "code",
   "execution_count": 41,
   "id": "2ebe42c7",
   "metadata": {},
   "outputs": [
    {
     "name": "stdout",
     "output_type": "stream",
     "text": [
      "maS si eman yM olleH\n"
     ]
    }
   ],
   "source": [
    "def Reverse_strimg(str):\n",
    "    str1=str[::-1]\n",
    "    print(str1)\n",
    "a=\"Hello My name is Sam\"\n",
    "Reverse_strimg(a)"
   ]
  },
  {
   "cell_type": "markdown",
   "id": "c0dea071",
   "metadata": {},
   "source": [
    "6. Factorial of a number"
   ]
  },
  {
   "cell_type": "code",
   "execution_count": 33,
   "id": "b52c2237",
   "metadata": {},
   "outputs": [
    {
     "name": "stdout",
     "output_type": "stream",
     "text": [
      "120\n"
     ]
    }
   ],
   "source": [
    "def Fact(n):\n",
    "    Factorial=1\n",
    "    if n==0 or n==1:\n",
    "        return 1\n",
    "    else:\n",
    "        for i in range(n):\n",
    "            Factorial=n*Fact(n-1)\n",
    "    return Factorial\n",
    "\n",
    "X=Fact(5)\n",
    "print(X)"
   ]
  },
  {
   "cell_type": "markdown",
   "id": "b0544806",
   "metadata": {},
   "source": [
    "7. Check whether a number is in between a given range\n"
   ]
  },
  {
   "cell_type": "code",
   "execution_count": 8,
   "id": "91b2b28a",
   "metadata": {},
   "outputs": [
    {
     "name": "stdout",
     "output_type": "stream",
     "text": [
      "element found\n"
     ]
    }
   ],
   "source": [
    "def In_Range(start,end,element):\n",
    "    if element in range(start,end):\n",
    "        print(\"element found\")\n",
    "    else:\n",
    "        print(\"element not found\")\n",
    "\n",
    "In_Range(start=10,element=80,end=100)"
   ]
  },
  {
   "cell_type": "markdown",
   "id": "7db4c2b9",
   "metadata": {},
   "source": [
    "8. Count Uppercase and Lowercase Letters in a String"
   ]
  },
  {
   "cell_type": "code",
   "execution_count": 43,
   "id": "f3d0cff1",
   "metadata": {},
   "outputs": [
    {
     "name": "stdout",
     "output_type": "stream",
     "text": [
      "Upper Case letters are: 3\n",
      "Lower Case letters are: 13\n"
     ]
    }
   ],
   "source": [
    "def Count_Upper_Lower(str):\n",
    "    Uctr=0\n",
    "    Lctr=0\n",
    "    for i in str:\n",
    "        if i!=\" \":\n",
    "            if i.isupper()==True:\n",
    "                Uctr+=1\n",
    "            else: \n",
    "                Lctr+=1\n",
    "    print(\"Upper Case letters are:\",Uctr)\n",
    "    print(\"Lower Case letters are:\",Lctr)\n",
    "\n",
    "Count_Upper_Lower(a)"
   ]
  },
  {
   "cell_type": "markdown",
   "id": "5c5d5ff1",
   "metadata": {},
   "source": [
    "9. Check Whether a Number is Prime"
   ]
  },
  {
   "cell_type": "code",
   "execution_count": 7,
   "id": "0165b5b2",
   "metadata": {},
   "outputs": [
    {
     "name": "stdout",
     "output_type": "stream",
     "text": [
      "Prime\n"
     ]
    }
   ],
   "source": [
    "def Is_Prime(n):\n",
    "    x=n//2\n",
    "    f=0\n",
    "    if n<=1:\n",
    "        print(\"enter a valid number\")\n",
    "    elif n==2 or n==3:\n",
    "        print(\"Prime\")\n",
    "    elif n==4:\n",
    "        print(\"Non Prime\")\n",
    "    else:\n",
    "        for i in range(2,x):\n",
    "            if n%i==0:\n",
    "                f=1\n",
    "                break\n",
    "        if f==0:\n",
    "            print(\"Prime\")\n",
    "        else:\n",
    "            print(\"Non Prime\")\n",
    "\n",
    "Is_Prime(7)"
   ]
  },
  {
   "cell_type": "markdown",
   "id": "d3ac7fd9",
   "metadata": {},
   "source": [
    "10. To check whether all elements in an string are of same datatype or not"
   ]
  },
  {
   "cell_type": "code",
   "execution_count": 85,
   "id": "db673a9f",
   "metadata": {},
   "outputs": [
    {
     "name": "stdout",
     "output_type": "stream",
     "text": [
      "True\n"
     ]
    }
   ],
   "source": [
    "def Is_Same_DataType(lst):\n",
    "    set10=set()\n",
    "    for i in lst:\n",
    "        set10.add(type(i))\n",
    "    if len(set10)>1:\n",
    "        print(\"False\")\n",
    "    else:\n",
    "        print(\"True\")\n",
    "lst=[\"Yess is a 2\",\"Ji humne batting me momentum unhe dediya\",\"bowling me unhone momentum  humse leliya\"]\n",
    "Is_Same_DataType(lst)\n"
   ]
  },
  {
   "cell_type": "code",
   "execution_count": null,
   "id": "f28ceab5",
   "metadata": {},
   "outputs": [
    {
     "data": {
      "text/plain": [
       "False"
      ]
     },
     "execution_count": 58,
     "metadata": {},
     "output_type": "execute_result"
    }
   ],
   "source": [
    "b=len(set(type(x) for x in lst))==1     # in this it is storing the type of x in a set and then checking the length ,if length is more than 1 it will return false ,otherwise it will return true\n",
    "b"
   ]
  },
  {
   "cell_type": "code",
   "execution_count": null,
   "id": "f05fcdc0",
   "metadata": {},
   "outputs": [
    {
     "name": "stdout",
     "output_type": "stream",
     "text": [
      "True\n"
     ]
    }
   ],
   "source": [
    "def Is_Same_DataType(lst):\n",
    "    set10=set()\n",
    "    for i in lst:\n",
    "        set10.add(type(i))\n",
    "        if len(set10)>1:\n",
    "            res = False\n",
    "            break\n",
    "        else:\n",
    "            res = True\n",
    "    return res,i\n",
    "lst=[\"Yess is a 2\",\"Ji humne batting me momentum unhe dediya\",21,\"bowling me unhone momentum  humse leliya\"]\n",
    "Is_Same_DataType(lst)\n"
   ]
  },
  {
   "cell_type": "markdown",
   "id": "76f8b1dd",
   "metadata": {},
   "source": [
    "\\R Usage"
   ]
  },
  {
   "cell_type": "code",
   "execution_count": null,
   "id": "ed777e61",
   "metadata": {},
   "outputs": [
    {
     "name": "stdout",
     "output_type": "stream",
     "text": [
      "he\n",
      "llo\n",
      "he\n",
      " LLO\n"
     ]
    }
   ],
   "source": [
    "str=\"he\\nllo\\r\"\n",
    "print(str)\n",
    "str1=\"LLO\"      #whenever \\r is in a string it moves the cursor to the beginning of the same line it is alreay on\n",
    "print(str,str1)"
   ]
  },
  {
   "cell_type": "code",
   "execution_count": 134,
   "id": "6afa7cbc",
   "metadata": {},
   "outputs": [
    {
     "name": "stdout",
     "output_type": "stream",
     "text": [
      "10101010101010101010\n",
      "999999\n",
      "888888\n",
      "777\n",
      "666\n",
      "5\n",
      "4\n",
      "\n",
      "\n"
     ]
    }
   ],
   "source": [
    "for k in range(10,1,-1):\n",
    "    for i in range(1,k//2):\n",
    "        for j in range(i):\n",
    "            print(k,end=\"\")\n",
    "    print()\n",
    "        "
   ]
  },
  {
   "cell_type": "markdown",
   "id": "5ad6bb17",
   "metadata": {},
   "source": [
    "12. Print element at 0 index"
   ]
  },
  {
   "cell_type": "code",
   "execution_count": 147,
   "id": "ec6d7b6d",
   "metadata": {},
   "outputs": [
    {
     "name": "stdout",
     "output_type": "stream",
     "text": [
      "coding\n"
     ]
    }
   ],
   "source": [
    "s=\"coding for all\"\n",
    "x=s.split()\n",
    "print(x[0])"
   ]
  },
  {
   "cell_type": "markdown",
   "id": "243d8482",
   "metadata": {},
   "source": [
    "13. Check if a Number is Perfect\n",
    "\n"
   ]
  },
  {
   "cell_type": "code",
   "execution_count": 155,
   "id": "c6afe38b",
   "metadata": {},
   "outputs": [
    {
     "name": "stdout",
     "output_type": "stream",
     "text": [
      "Perfect number\n"
     ]
    }
   ],
   "source": [
    "def Perfect_Num(n):\n",
    "    sum=0\n",
    "    for i in range(1,n//2+1):\n",
    "        if n%i==0:\n",
    "            sum+=i\n",
    "    if sum==n:\n",
    "        print(\"Perfect number\")\n",
    "    else:\n",
    "        print(\"Not perfect number\")\n",
    "\n",
    "\n",
    "Perfect_Num(496)"
   ]
  },
  {
   "cell_type": "markdown",
   "id": "550db7cd",
   "metadata": {},
   "source": [
    "Lambda Function"
   ]
  },
  {
   "cell_type": "markdown",
   "id": "ee0ed1f7",
   "metadata": {},
   "source": [
    "1. Function to add two numbers"
   ]
  },
  {
   "cell_type": "code",
   "execution_count": null,
   "id": "b7b910d6",
   "metadata": {},
   "outputs": [
    {
     "name": "stdout",
     "output_type": "stream",
     "text": [
      "9\n"
     ]
    }
   ],
   "source": [
    "x= lambda n,m: print(n+m)\n",
    "x(4,5)"
   ]
  },
  {
   "cell_type": "code",
   "execution_count": 168,
   "id": "cbd5e62d",
   "metadata": {},
   "outputs": [
    {
     "name": "stdout",
     "output_type": "stream",
     "text": [
      "4\n",
      "8\n",
      "12\n",
      "16\n"
     ]
    }
   ],
   "source": [
    "x=[lambda arg=n: arg*n for n in range(1,5)]\n",
    "for i in x:\n",
    "    print(i())"
   ]
  },
  {
   "cell_type": "markdown",
   "id": "f1b26659",
   "metadata": {},
   "source": [
    "14. adding \"ing\" at the end if str >3 and if str ends with \"ing\" add \"ly\" at the end"
   ]
  },
  {
   "cell_type": "code",
   "execution_count": 5,
   "id": "09619cc0",
   "metadata": {},
   "outputs": [
    {
     "name": "stdout",
     "output_type": "stream",
     "text": [
      "saingly\n"
     ]
    }
   ],
   "source": [
    "def Addin(str):\n",
    "    if len(str)<3:\n",
    "        return str\n",
    "    else:\n",
    "        if str.endswith(\"ing\"):\n",
    "            x=str+\"ly\"\n",
    "        else:\n",
    "            x=str+\"ing\"\n",
    "    \n",
    "    return x \n",
    "\n",
    "s=Addin(\"saing\")\n",
    "print(s)"
   ]
  },
  {
   "cell_type": "markdown",
   "id": "4831c3dd",
   "metadata": {},
   "source": [
    "15. Replace the words in string if not is followed by poor ,replace it with good else return the string as it is "
   ]
  },
  {
   "cell_type": "code",
   "execution_count": 24,
   "id": "e7cc6d29",
   "metadata": {},
   "outputs": [
    {
     "data": {
      "text/plain": [
       "'the lyrics is good'"
      ]
     },
     "execution_count": 24,
     "metadata": {},
     "output_type": "execute_result"
    }
   ],
   "source": [
    "def rep(str):\n",
    "    if 'not' not in str:\n",
    "        return str\n",
    "    else: \n",
    "        i=str.index(\"not\")\n",
    "        x= str.find('poor',i,len(str))\n",
    "        if x!=-1:\n",
    "            str=str.replace(str[i:x+4],\"good\")\n",
    "    return str\n",
    "str=\"the lyrics is not poor\"\n",
    "rep(str)"
   ]
  },
  {
   "cell_type": "markdown",
   "id": "4509fb3c",
   "metadata": {},
   "source": [
    "16. Use map to create a new list by changing each country to uppercase in the countries list"
   ]
  },
  {
   "cell_type": "code",
   "execution_count": 8,
   "id": "70cbf015",
   "metadata": {},
   "outputs": [],
   "source": [
    "lst16=['india','england','lithuania',\"bosnia and herzagovina\",\"serbia\",\"canada\",\"mexico\"]"
   ]
  },
  {
   "cell_type": "code",
   "execution_count": 9,
   "id": "f2cc5ff6",
   "metadata": {},
   "outputs": [
    {
     "name": "stdout",
     "output_type": "stream",
     "text": [
      "['INDIA', 'ENGLAND', 'LITHUANIA', 'BOSNIA AND HERZAGOVINA', 'SERBIA', 'CANADA', 'MEXICO']\n"
     ]
    }
   ],
   "source": [
    "def upper_case(n):\n",
    "    return n.upper()\n",
    "ulst16=list(map(upper_case,lst16))\n",
    "print(ulst16)"
   ]
  },
  {
   "cell_type": "markdown",
   "id": "7abf5199",
   "metadata": {},
   "source": [
    "17. Use filter to filter out countries containing 'stan'."
   ]
  },
  {
   "cell_type": "code",
   "execution_count": 7,
   "id": "d0380922",
   "metadata": {},
   "outputs": [
    {
     "data": {
      "text/plain": [
       "['afghanistan', 'tajikistan', 'turkmenistan']"
      ]
     },
     "execution_count": 7,
     "metadata": {},
     "output_type": "execute_result"
    }
   ],
   "source": [
    "lst17=[\"afghanistan\",\"tajikistan\",\"turkmenistan\",\"azerbaijan\",\"armenia\",\"georgia\"]\n",
    "\n",
    "f17=list(filter(lambda x:x.endswith(\"stan\"),lst17))\n",
    "f17"
   ]
  },
  {
   "cell_type": "markdown",
   "id": "d6587203",
   "metadata": {},
   "source": [
    "18. Use filter to filter out countries having exactly six characters."
   ]
  },
  {
   "cell_type": "code",
   "execution_count": 10,
   "id": "69dd937e",
   "metadata": {},
   "outputs": [
    {
     "data": {
      "text/plain": [
       "['serbia', 'canada', 'mexico']"
      ]
     },
     "execution_count": 10,
     "metadata": {},
     "output_type": "execute_result"
    }
   ],
   "source": [
    "f18=list(filter(lambda x: len(x)==6,lst16))\n",
    "f18"
   ]
  },
  {
   "cell_type": "markdown",
   "id": "703f9b11",
   "metadata": {},
   "source": [
    "19. Use filter to filter out countries starting with an 'e'"
   ]
  },
  {
   "cell_type": "code",
   "execution_count": 13,
   "id": "a0826145",
   "metadata": {},
   "outputs": [
    {
     "data": {
      "text/plain": [
       "['england']"
      ]
     },
     "execution_count": 13,
     "metadata": {},
     "output_type": "execute_result"
    }
   ],
   "source": [
    "f19=list(filter(lambda x: x.startswith(\"e\"),lst16))\n",
    "f19"
   ]
  },
  {
   "cell_type": "markdown",
   "id": "d20e2b6e",
   "metadata": {},
   "source": [
    "20. Declare a function called get_string_lists which takes a list as a parameter and then returns a list containing only string items."
   ]
  },
  {
   "cell_type": "code",
   "execution_count": 17,
   "id": "f23e6d2b",
   "metadata": {},
   "outputs": [
    {
     "data": {
      "text/plain": [
       "['sachit', 'nehal']"
      ]
     },
     "execution_count": 17,
     "metadata": {},
     "output_type": "execute_result"
    }
   ],
   "source": [
    "def is_string(lst):\n",
    "    lst1=[]\n",
    "    for i in lst:\n",
    "        # print(type(i))\n",
    "        if type(i) ==str :\n",
    "            lst1.append(i)\n",
    "    return lst1\n",
    "\n",
    "x=[2132,'sachit',68657,\"nehal\"]\n",
    "v20=is_string(x)\n",
    "v20"
   ]
  },
  {
   "cell_type": "code",
   "execution_count": 20,
   "id": "efa7d2bb",
   "metadata": {},
   "outputs": [
    {
     "data": {
      "text/plain": [
       "['sachit', 'nehal']"
      ]
     },
     "execution_count": 20,
     "metadata": {},
     "output_type": "execute_result"
    }
   ],
   "source": [
    "is_string=list(filter(lambda x:  type(x)==str,x))\n",
    "is_string"
   ]
  },
  {
   "cell_type": "markdown",
   "id": "c07eaf3f",
   "metadata": {},
   "source": [
    "21. Use reduce to concatenate all the countries and to produce a sentence like this: Estonia, Finland, Sweden, Denmark, Norway, and Iceland are north European countries"
   ]
  },
  {
   "cell_type": "code",
   "execution_count": 2,
   "metadata": {},
   "outputs": [],
   "source": [
    "from functools import reduce"
   ]
  },
  {
   "cell_type": "code",
   "execution_count": 3,
   "id": "b056ef12",
   "metadata": {},
   "outputs": [
    {
     "data": {
      "text/plain": [
       "'India, England, Lithuania, Bosnia and herzagovina, Serbia, Canada, Mexico are countries in the world.'"
      ]
     },
     "execution_count": 3,
     "metadata": {},
     "output_type": "execute_result"
    }
   ],
   "source": [
    "lst16=['india','england','lithuania',\"bosnia and herzagovina\",\"serbia\",\"canada\",\"mexico\"]\n",
    "lst16=list(map(lambda x: x.capitalize(),lst16))\n",
    "f21=reduce(lambda x,y: x+', ' + y,lst16)\n",
    "f22= f21 + \" are countries in the world.\"\n",
    "f22"
   ]
  },
  {
   "cell_type": "code",
   "execution_count": null,
   "id": "4627d517",
   "metadata": {},
   "outputs": [],
   "source": []
  },
  {
   "cell_type": "code",
   "execution_count": null,
   "id": "d8891aea",
   "metadata": {},
   "outputs": [],
   "source": []
  }
 ],
 "metadata": {
  "kernelspec": {
   "display_name": "Python 3",
   "language": "python",
   "name": "python3"
  },
  "language_info": {
   "codemirror_mode": {
    "name": "ipython",
    "version": 3
   },
   "file_extension": ".py",
   "mimetype": "text/x-python",
   "name": "python",
   "nbconvert_exporter": "python",
   "pygments_lexer": "ipython3",
   "version": "3.11.0"
  }
 },
 "nbformat": 4,
 "nbformat_minor": 5
}
