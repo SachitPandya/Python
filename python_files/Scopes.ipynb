{
 "cells": [
  {
   "cell_type": "markdown",
   "id": "1304a1be",
   "metadata": {},
   "source": [
    "Local Variable "
   ]
  },
  {
   "cell_type": "code",
   "execution_count": 28,
   "id": "2d624675",
   "metadata": {},
   "outputs": [
    {
     "name": "stdout",
     "output_type": "stream",
     "text": [
      "heo\n"
     ]
    }
   ],
   "source": [
    "def s():\n",
    "    f=\"heo\"\n",
    "    print(f)\n",
    "s()\n",
    "# print(f)"
   ]
  },
  {
   "cell_type": "markdown",
   "id": "be3cb0c3",
   "metadata": {},
   "source": [
    "Global Variable"
   ]
  },
  {
   "cell_type": "code",
   "execution_count": 3,
   "id": "fccd6622",
   "metadata": {},
   "outputs": [
    {
     "name": "stdout",
     "output_type": "stream",
     "text": [
      "hey\n"
     ]
    }
   ],
   "source": [
    "def g():\n",
    "    print(s)\n",
    "s=\"hey\"\n",
    "g()"
   ]
  },
  {
   "cell_type": "markdown",
   "id": "5e271cb9",
   "metadata": {},
   "source": [
    "Local and Global together "
   ]
  },
  {
   "cell_type": "code",
   "execution_count": null,
   "id": "fe563dad",
   "metadata": {},
   "outputs": [
    {
     "name": "stdout",
     "output_type": "stream",
     "text": [
      "hey 2150075420080\n",
      "HEY 2150075428784\n",
      "HEY 2150075428784\n"
     ]
    }
   ],
   "source": [
    "def lg():\n",
    "    global s\n",
    "    print(s,id(s))\n",
    "    s=\"HEY\"\n",
    "    print(s,id(s))    #when using global keyword ,it will change the value of variable outside the function also \n",
    "s=\"hey\"               #its a single variable in same memory location only the value can be changed \n",
    "lg()\n",
    "print(s,id(s))"
   ]
  },
  {
   "cell_type": "markdown",
   "id": "6fc4de08",
   "metadata": {},
   "source": [
    "Non Local Variable"
   ]
  },
  {
   "cell_type": "code",
   "execution_count": null,
   "id": "58b6bc6c",
   "metadata": {},
   "outputs": [
    {
     "name": "stdout",
     "output_type": "stream",
     "text": [
      "10 140707996292168\n",
      "12 140707996292232\n",
      "12 140707996292232\n"
     ]
    }
   ],
   "source": [
    "def o():\n",
    "    a=10\n",
    "    print(a,id(a))\n",
    "    def i():\n",
    "        nonlocal a\n",
    "        a=12\n",
    "        print(a,id(a))      # it doesn't change the memory location only the value is changed \n",
    "    i()\n",
    "    print(a, id(a))\n",
    "o()"
   ]
  },
  {
   "cell_type": "code",
   "execution_count": 31,
   "id": "01fae686",
   "metadata": {},
   "outputs": [
    {
     "name": "stdout",
     "output_type": "stream",
     "text": [
      "10 140707996292168\n",
      "20 140707996292488\n"
     ]
    }
   ],
   "source": [
    "def outer():\n",
    "    a=10\n",
    "    print(a,id(a))\n",
    "    def innner():\n",
    "        a=20\n",
    "        print(a,id(a))\n",
    "    innner()\n",
    "    # print(a,id(a))\n",
    "outer()"
   ]
  },
  {
   "cell_type": "code",
   "execution_count": 37,
   "id": "b5a48ee4",
   "metadata": {},
   "outputs": [],
   "source": [
    "# n=4\n",
    "\n",
    "# def f1():\n",
    "\n",
    "#     n=n**4\n",
    "\n",
    "#     print(n)\n",
    "\n",
    "# f1()"
   ]
  },
  {
   "cell_type": "code",
   "execution_count": 36,
   "id": "02f44805",
   "metadata": {},
   "outputs": [],
   "source": [
    "# def f1():\n",
    "\n",
    "#     def f2():\n",
    "\n",
    "#         global m\n",
    "\n",
    "#         m=3\n",
    "\n",
    "#     print(m)\n",
    "\n",
    "# f1()"
   ]
  },
  {
   "cell_type": "code",
   "execution_count": 35,
   "id": "8b411009",
   "metadata": {},
   "outputs": [],
   "source": [
    "# def f1():\n",
    "\n",
    "#     def f2():\n",
    "\n",
    "#         m=3\n",
    "\n",
    "#     f2()\n",
    "\n",
    "#     print(m)\n",
    "\n",
    "# f1()"
   ]
  },
  {
   "cell_type": "code",
   "execution_count": null,
   "id": "f608aff0",
   "metadata": {},
   "outputs": [],
   "source": []
  }
 ],
 "metadata": {
  "kernelspec": {
   "display_name": "Python 3",
   "language": "python",
   "name": "python3"
  },
  "language_info": {
   "codemirror_mode": {
    "name": "ipython",
    "version": 3
   },
   "file_extension": ".py",
   "mimetype": "text/x-python",
   "name": "python",
   "nbconvert_exporter": "python",
   "pygments_lexer": "ipython3",
   "version": "3.11.0"
  }
 },
 "nbformat": 4,
 "nbformat_minor": 5
}
