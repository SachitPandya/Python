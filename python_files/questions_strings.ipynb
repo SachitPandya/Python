{
 "cells": [
  {
   "cell_type": "markdown",
   "id": "96946bb0",
   "metadata": {},
   "source": [
    "1. Length of a string"
   ]
  },
  {
   "cell_type": "code",
   "execution_count": 44,
   "id": "e3259a5a",
   "metadata": {},
   "outputs": [
    {
     "name": "stdout",
     "output_type": "stream",
     "text": [
      "<class 'str'>\n"
     ]
    },
    {
     "data": {
      "text/plain": [
       "23"
      ]
     },
     "execution_count": 44,
     "metadata": {},
     "output_type": "execute_result"
    }
   ],
   "source": [
    "str1=\"hello my name is sachit\"\n",
    "print(type(str1))\n",
    "len(str1)"
   ]
  },
  {
   "cell_type": "markdown",
   "id": "73b921f4",
   "metadata": {},
   "source": [
    "2. Count character frequency in a string."
   ]
  },
  {
   "cell_type": "code",
   "execution_count": 45,
   "id": "b420c397",
   "metadata": {},
   "outputs": [
    {
     "name": "stdout",
     "output_type": "stream",
     "text": [
      "{'h': 2, 'e': 2, 'l': 2, 'o': 1, ' ': 4, 'm': 2, 'y': 1, 'n': 1, 'a': 2, 'i': 2, 's': 2, 'c': 1, 't': 1}\n"
     ]
    }
   ],
   "source": [
    "d={}\n",
    "lstr=list(str1)\n",
    "for i in range(len(lstr)):\n",
    "    d[lstr[i]]=lstr.count(lstr[i])\n",
    "print(d)"
   ]
  },
  {
   "cell_type": "markdown",
   "id": "d54f4f0f",
   "metadata": {},
   "source": [
    "3. Slicing"
   ]
  },
  {
   "cell_type": "code",
   "execution_count": 46,
   "id": "b174ed03",
   "metadata": {},
   "outputs": [],
   "source": [
    "s='abcbadf'\n"
   ]
  },
  {
   "cell_type": "code",
   "execution_count": 47,
   "id": "82d89a22",
   "metadata": {},
   "outputs": [
    {
     "data": {
      "text/plain": [
       "'fdabc'"
      ]
     },
     "execution_count": 47,
     "metadata": {},
     "output_type": "execute_result"
    }
   ],
   "source": [
    "s[:1:-1]"
   ]
  },
  {
   "cell_type": "code",
   "execution_count": 48,
   "id": "76d615ac",
   "metadata": {},
   "outputs": [],
   "source": [
    "s=\"1234567890987654321\""
   ]
  },
  {
   "cell_type": "markdown",
   "id": "14d739a5",
   "metadata": {},
   "source": [
    "4. Get string of first and last 2 chars."
   ]
  },
  {
   "cell_type": "code",
   "execution_count": 49,
   "id": "01aedc79",
   "metadata": {},
   "outputs": [
    {
     "name": "stdout",
     "output_type": "stream",
     "text": [
      "heit\n"
     ]
    }
   ],
   "source": [
    "str3=str1[:2]+str1[len(str1)-2:]\n",
    "if len(str3)<4:\n",
    "    print('NOT VALID INPUT')\n",
    "else:\n",
    "    print(str3)"
   ]
  },
  {
   "cell_type": "markdown",
   "id": "d5016692",
   "metadata": {},
   "source": [
    "5. Replace first char occurrences with $. apart from the first"
   ]
  },
  {
   "cell_type": "code",
   "execution_count": 50,
   "id": "bef65c1a",
   "metadata": {},
   "outputs": [
    {
     "data": {
      "text/plain": [
       "'hello my name is sac$it'"
      ]
     },
     "execution_count": 50,
     "metadata": {},
     "output_type": "execute_result"
    }
   ],
   "source": [
    "a=str1[:1]\n",
    "b=str1[1:]\n",
    "c=b.maketrans(a,'$')\n",
    "d=b.translate(c)\n",
    "str1=a+d\n",
    "str1"
   ]
  },
  {
   "cell_type": "markdown",
   "id": "9aa300e6",
   "metadata": {},
   "source": [
    "6. Swap first 2 chars of 2 strings"
   ]
  },
  {
   "cell_type": "code",
   "execution_count": 51,
   "id": "437b1af2",
   "metadata": {},
   "outputs": [
    {
     "name": "stdout",
     "output_type": "stream",
     "text": [
      "ab\n"
     ]
    },
    {
     "data": {
      "text/plain": [
       "['xyc', 'abz']"
      ]
     },
     "execution_count": 51,
     "metadata": {},
     "output_type": "execute_result"
    }
   ],
   "source": [
    "ls=[\"abc\",\"xyz\"]\n",
    "ls1=ls[0][:2]\n",
    "ls2=ls[1][:2]\n",
    "print(ls1)\n",
    "ls[1]=ls[1].replace(ls2,ls1)\n",
    "ls[0]=ls[0].replace(ls1,ls2)\n",
    "ls"
   ]
  },
  {
   "cell_type": "markdown",
   "id": "1b94703f",
   "metadata": {},
   "source": [
    "7. Add ing or ly to a string."
   ]
  },
  {
   "cell_type": "code",
   "execution_count": 52,
   "id": "46b8e38a",
   "metadata": {},
   "outputs": [
    {
     "name": "stdout",
     "output_type": "stream",
     "text": [
      "string\n"
     ]
    }
   ],
   "source": [
    "s1=\"str\"\n",
    "f=0\n",
    "if len(s1)>=3:\n",
    "    if s1.endswith(\"ing\"):\n",
    "        s2=s1+\"ly\"\n",
    "        f=1\n",
    "    else:\n",
    "        s2=s1+\"ing\"\n",
    "        f=1\n",
    "if f==1:\n",
    "    print(s2)\n",
    "else:\n",
    "    print(s1)"
   ]
  },
  {
   "cell_type": "markdown",
   "id": "9675af33",
   "metadata": {},
   "source": [
    "8. Find longest word in a list."
   ]
  },
  {
   "cell_type": "code",
   "execution_count": 53,
   "id": "d9741ffd",
   "metadata": {},
   "outputs": [],
   "source": [
    "str=\" Python Exercise for Beginner : Practice makes perfect in everything , and this is especially true when learning Python. If you're a beginner, regularly practicing Python exercises will build your confidence and sharpen your skills. To help you improve, try these Python exercises with solutions to test your knowledge. You might have seen various Python tutorials that explain the concepts in detail but that might not be enough to get hold of this language. The best way to learn is by practicing it more and more.\""
   ]
  },
  {
   "cell_type": "code",
   "execution_count": 54,
   "id": "27c6bf34",
   "metadata": {},
   "outputs": [
    {
     "name": "stdout",
     "output_type": "stream",
     "text": [
      "everything 10\n"
     ]
    }
   ],
   "source": [
    "lst=str.split(' ')\n",
    "# print(lst)\n",
    "# print(max(lst))\n",
    "re=\"\"\n",
    "for i in lst:\n",
    "    if len(i)>len(re):\n",
    "        re= i\n",
    "\n",
    "print(re,len(re))"
   ]
  },
  {
   "cell_type": "markdown",
   "id": "904ed685",
   "metadata": {},
   "source": [
    "9. Check whether the given string is palindrome or symmetrical\n"
   ]
  },
  {
   "cell_type": "code",
   "execution_count": 55,
   "id": "d8f97747",
   "metadata": {},
   "outputs": [
    {
     "name": "stdout",
     "output_type": "stream",
     "text": [
      "String is symmetrical\n"
     ]
    }
   ],
   "source": [
    "q9=\"amaama\"\n",
    "n=len(q9)//2\n",
    "if len(q9)%2 ==0:\n",
    "    if q9[:n]==q9[n:]:\n",
    "        print(\"String is symmetrical\")\n",
    "    else:\n",
    "        print(\"string is palindrome\")\n",
    "else:\n",
    "    if q9[:n+1]==q9[n+1:]:\n",
    "        print(\"String is symmetrical\")\n",
    "    else:\n",
    "        print(\"string is palindrome\")"
   ]
  },
  {
   "cell_type": "markdown",
   "id": "e10ffe77",
   "metadata": {},
   "source": [
    "10. Find the length of string"
   ]
  },
  {
   "cell_type": "code",
   "execution_count": 56,
   "id": "277fe6f4",
   "metadata": {},
   "outputs": [
    {
     "name": "stdout",
     "output_type": "stream",
     "text": [
      "Number of words:  5\n"
     ]
    }
   ],
   "source": [
    "Q10=\"Hello my name is Sachit .\"\n",
    "# print(len(Q10))\n",
    "ctr=0\n",
    "for i in Q10:\n",
    "    if i==\" \":\n",
    "        Q10.split()\n",
    "        ctr+=1\n",
    "print(\"Number of words: \",ctr)"
   ]
  },
  {
   "cell_type": "markdown",
   "id": "09953f72",
   "metadata": {},
   "source": [
    "11. Reverse words in a given String"
   ]
  },
  {
   "cell_type": "code",
   "execution_count": 57,
   "id": "d0be1932",
   "metadata": {},
   "outputs": [
    {
     "name": "stdout",
     "output_type": "stream",
     "text": [
      "['.', 'Sachit', 'is', 'name', 'my', 'Hello']\n",
      ". Sachit is name my Hello\n"
     ]
    }
   ],
   "source": [
    "L10=Q10.split()\n",
    "L10.reverse()\n",
    "print(L10)\n",
    "Q10=\" \".join(L10)\n",
    "print(Q10)"
   ]
  },
  {
   "cell_type": "markdown",
   "id": "eb0daa61",
   "metadata": {},
   "source": [
    "12. Find the Length of string but don't count the white spaces"
   ]
  },
  {
   "cell_type": "code",
   "execution_count": 58,
   "id": "c8b31688",
   "metadata": {},
   "outputs": [
    {
     "name": "stdout",
     "output_type": "stream",
     "text": [
      "20\n"
     ]
    }
   ],
   "source": [
    "x=len(Q10)\n",
    "for i in Q10:\n",
    "    if i==\" \":\n",
    "        x-=1\n",
    "print(x)"
   ]
  },
  {
   "cell_type": "markdown",
   "id": "14442607",
   "metadata": {},
   "source": [
    "13. Remove the i'th character from the string\n"
   ]
  },
  {
   "cell_type": "code",
   "execution_count": 59,
   "id": "d492f956",
   "metadata": {},
   "outputs": [
    {
     "data": {
      "text/plain": [
       "'. Sachit is name my Hello'"
      ]
     },
     "execution_count": 59,
     "metadata": {},
     "output_type": "execute_result"
    }
   ],
   "source": [
    "Q10"
   ]
  },
  {
   "cell_type": "code",
   "execution_count": 60,
   "id": "d553ffb3",
   "metadata": {},
   "outputs": [
    {
     "name": "stdout",
     "output_type": "stream",
     "text": [
      ". Schit is name my Hello\n"
     ]
    }
   ],
   "source": [
    "i=int(input(\"enter the element you want to be delete\"))\n",
    "q13=Q10[:i] + Q10[i+1:]\n",
    "print(q13)"
   ]
  },
  {
   "cell_type": "markdown",
   "id": "4af3a903",
   "metadata": {},
   "source": [
    "14. Print even length words in a string"
   ]
  },
  {
   "cell_type": "code",
   "execution_count": 61,
   "id": "75d78e12",
   "metadata": {},
   "outputs": [
    {
     "name": "stdout",
     "output_type": "stream",
     "text": [
      "  Sachit is name my\n"
     ]
    }
   ],
   "source": [
    "ls14=Q10.split()\n",
    "q14=\" \"\n",
    "for i in ls14:\n",
    "    if len(i)%2==0:\n",
    "        q14=q14+ \" \"+i\n",
    "print(q14)"
   ]
  },
  {
   "cell_type": "markdown",
   "id": "95fbe238",
   "metadata": {},
   "source": [
    "15. Uppercase Half String"
   ]
  },
  {
   "cell_type": "code",
   "execution_count": 62,
   "id": "7e5f37fd",
   "metadata": {},
   "outputs": [
    {
     "name": "stdout",
     "output_type": "stream",
     "text": [
      "HEY U A datatype\n"
     ]
    }
   ],
   "source": [
    "Q1=\"hey u a datatype\"\n",
    "Q1.split()\n",
    "n=len(Q1)//2\n",
    "Q15=Q1[:n].upper() + Q1[n:].lower()\n",
    "print(Q15)          #"
   ]
  },
  {
   "cell_type": "code",
   "execution_count": 63,
   "id": "75756d38",
   "metadata": {},
   "outputs": [
    {
     "name": "stdout",
     "output_type": "stream",
     "text": [
      "  HEY U a data type\n"
     ]
    }
   ],
   "source": [
    "Q1=\"hey u a data type \"\n",
    "Q15=\" \"\n",
    "q1=Q1.split()\n",
    "n=len(q1)//2\n",
    "for i in range(len(q1)):\n",
    "    if i<n:\n",
    "        q2= q1[i].upper()\n",
    "        Q15=Q15+\" \" +q2\n",
    "    else:\n",
    "        q2= q1[i].lower()\n",
    "        Q15=Q15 + \" \" +q2\n",
    "print(Q15)"
   ]
  },
  {
   "cell_type": "markdown",
   "id": "ae6e9050",
   "metadata": {},
   "source": [
    "16. Capitalize the first and last character of each word in a string"
   ]
  },
  {
   "cell_type": "code",
   "execution_count": 64,
   "id": "92a18c23",
   "metadata": {},
   "outputs": [
    {
     "name": "stdout",
     "output_type": "stream",
     "text": [
      "HeY U A DatA TypE\n"
     ]
    }
   ],
   "source": [
    "l16=Q1.split()\n",
    "for i in range(len(l16)):\n",
    "    if len(l16[i])>1:\n",
    "        l16[i]=(l16[i][0].upper()) + (l16[i][1:len(l16[i])-1]) + (l16[i][-1].upper())\n",
    "    else: \n",
    "        l16[i]=(l16[i][0].upper()) + (l16[i][1:len(l16[i])-1])\n",
    "        # l16[i]= l16[i].capitalize()\n",
    "Q1=\" \".join(l16)\n",
    "print(Q1)"
   ]
  },
  {
   "cell_type": "markdown",
   "id": "825ba4f5",
   "metadata": {},
   "source": [
    "17. Count of a string"
   ]
  },
  {
   "cell_type": "code",
   "execution_count": 65,
   "id": "af281e8a",
   "metadata": {},
   "outputs": [
    {
     "name": "stdout",
     "output_type": "stream",
     "text": [
      "4\n"
     ]
    }
   ],
   "source": [
    "s=\"erk\"\n",
    "l=s.count('')   #finds an empty string in a string\n",
    "print(l)        #there is an empty string just before and after a char in a string"
   ]
  },
  {
   "cell_type": "markdown",
   "id": "12b96d64",
   "metadata": {},
   "source": [
    "18. Check if a string has at least one letter and one number"
   ]
  },
  {
   "cell_type": "code",
   "execution_count": 66,
   "id": "3b484311",
   "metadata": {},
   "outputs": [
    {
     "data": {
      "text/plain": [
       "True"
      ]
     },
     "execution_count": 66,
     "metadata": {},
     "output_type": "execute_result"
    }
   ],
   "source": [
    "s18=\"abcdeiouoss\"\n",
    "s18.isalnum()"
   ]
  },
  {
   "cell_type": "markdown",
   "id": "84c4451d",
   "metadata": {},
   "source": [
    "19. Accept the strings which contains all vowels"
   ]
  },
  {
   "cell_type": "code",
   "execution_count": 67,
   "id": "fb31d568",
   "metadata": {},
   "outputs": [],
   "source": [
    "lst=[\"a\",'e','i','o','u']\n",
    "d=set()"
   ]
  },
  {
   "cell_type": "code",
   "execution_count": 68,
   "id": "573fdb4d",
   "metadata": {},
   "outputs": [
    {
     "data": {
      "text/plain": [
       "{1, 2}"
      ]
     },
     "execution_count": 68,
     "metadata": {},
     "output_type": "execute_result"
    }
   ],
   "source": [
    "for i in lst:\n",
    "    x=int(s18.count(i))\n",
    "    d.add(x)\n",
    "d"
   ]
  },
  {
   "cell_type": "code",
   "execution_count": 69,
   "id": "bf5596df",
   "metadata": {},
   "outputs": [
    {
     "name": "stdout",
     "output_type": "stream",
     "text": [
      "accepted\n"
     ]
    }
   ],
   "source": [
    "if 0 in d:\n",
    "    print(\"not accepted\")\n",
    "else:\n",
    "    print(\"accepted\")"
   ]
  },
  {
   "cell_type": "markdown",
   "id": "7c6d8f8d",
   "metadata": {},
   "source": [
    "20. Count the Number of matching characters in a pair of string"
   ]
  },
  {
   "cell_type": "code",
   "execution_count": 70,
   "id": "75805341",
   "metadata": {},
   "outputs": [],
   "source": [
    "s1=\"abhggfutd\"\n",
    "s2=\"ffdredcvgacgfdta\"\n",
    "d=set()\n",
    "ctr=0"
   ]
  },
  {
   "cell_type": "code",
   "execution_count": 71,
   "id": "42119cd4",
   "metadata": {},
   "outputs": [
    {
     "name": "stdout",
     "output_type": "stream",
     "text": [
      "{'a', 'd', 'g', 't', 'f'} 5\n"
     ]
    }
   ],
   "source": [
    "for i in s1:\n",
    "    if i in s2:\n",
    "        d.add(i)\n",
    "ctr=len(d)\n",
    "print(d,ctr)"
   ]
  },
  {
   "cell_type": "markdown",
   "id": "9a9f34c6",
   "metadata": {},
   "source": [
    "21. Count number of vowels using sets in given string"
   ]
  },
  {
   "cell_type": "code",
   "execution_count": 72,
   "id": "d2f746c3",
   "metadata": {},
   "outputs": [
    {
     "name": "stdout",
     "output_type": "stream",
     "text": [
      "{'a': 1, 'e': 4, 'i': 3, 'o': 3, 'u': 2} 13\n"
     ]
    }
   ],
   "source": [
    "A=\"This question has to be done using sets\"\n",
    "s=set()\n",
    "c21=0\n",
    "d={}\n",
    "sum=0\n",
    "for i in lst:\n",
    "    c21=A.count(i)\n",
    "    sum=sum+A.count(i)\n",
    "    d[i]=c21\n",
    "print(d,sum)"
   ]
  },
  {
   "cell_type": "markdown",
   "id": "35b0316d",
   "metadata": {},
   "source": [
    "22. Remove all duplicates from a given string"
   ]
  },
  {
   "cell_type": "code",
   "execution_count": 73,
   "id": "bf7a5f2a",
   "metadata": {},
   "outputs": [],
   "source": [
    "Q1=\"hey u a data type\"\n",
    "Q22=\" \"\n",
    "d22={}"
   ]
  },
  {
   "cell_type": "code",
   "execution_count": 74,
   "id": "fbf05123",
   "metadata": {},
   "outputs": [
    {
     "data": {
      "text/plain": [
       "'hey uadtp'"
      ]
     },
     "execution_count": 74,
     "metadata": {},
     "output_type": "execute_result"
    }
   ],
   "source": [
    "for i in Q1:\n",
    "    x=Q1.count(i)\n",
    "    d22[i]=x\n",
    "    if(x>1):\n",
    "        Q22=Q1.rsplit(i,(x))\n",
    "d22\n",
    "Q22=\"\".join(d22)\n",
    "Q22"
   ]
  },
  {
   "cell_type": "code",
   "execution_count": 75,
   "id": "867ca595",
   "metadata": {},
   "outputs": [
    {
     "data": {
      "text/plain": [
       "'hey u a data type'"
      ]
     },
     "execution_count": 75,
     "metadata": {},
     "output_type": "execute_result"
    }
   ],
   "source": [
    "Q1"
   ]
  },
  {
   "cell_type": "code",
   "execution_count": 76,
   "id": "db5ba40a",
   "metadata": {},
   "outputs": [
    {
     "data": {
      "text/plain": [
       "'hey u a data typ'"
      ]
     },
     "execution_count": 76,
     "metadata": {},
     "output_type": "execute_result"
    }
   ],
   "source": [
    "Q1.rstrip('e')"
   ]
  },
  {
   "cell_type": "markdown",
   "id": "4e6167f6",
   "metadata": {},
   "source": [
    "23. Is the string pan gram or not"
   ]
  },
  {
   "cell_type": "code",
   "execution_count": 77,
   "id": "046db7a7",
   "metadata": {},
   "outputs": [],
   "source": [
    "str=\"The quick brown fox jumps over lazy dog\"\n",
    "str26=str.lower()\n",
    "s=set()"
   ]
  },
  {
   "cell_type": "code",
   "execution_count": 78,
   "id": "2424651f",
   "metadata": {},
   "outputs": [
    {
     "name": "stdout",
     "output_type": "stream",
     "text": [
      "List is PanGram\n",
      "26\n",
      "['a', 'b', 'c', 'd', 'e', 'f', 'g', 'h', 'i', 'j', 'k', 'l', 'm', 'n', 'o', 'p', 'q', 'r', 's', 't', 'u', 'v', 'w', 'x', 'y', 'z']\n"
     ]
    }
   ],
   "source": [
    "for i in str26:\n",
    "    if i.isalpha()==True and i!=\" \":\n",
    "        s.add(i)\n",
    "if len(s)==26:\n",
    "    print(\"List is PanGram\")\n",
    "else:\n",
    "    print(\"Its not\")\n",
    "print(len(s))\n",
    "print(sorted(s))"
   ]
  },
  {
   "cell_type": "code",
   "execution_count": 88,
   "id": "3bcd947f",
   "metadata": {},
   "outputs": [
    {
     "name": "stdout",
     "output_type": "stream",
     "text": [
      "{'a', 'i', 'g', 'y', 'l', 'x', 'm', 'c', 'u', ' ', 'q', 'v', 'r', 'z', 'f', 'j', 'p', 'k', 'n', 'w', 'b', 'd', 'o', 't', 's', 'h', 'e'} "
     ]
    }
   ],
   "source": [
    "pan = \"The quick brown fox jumps over the lazy dog\"\n",
    "\n",
    "b1 = pan.lower()\n",
    "\n",
    "c1 = set(b1)\n",
    "\n",
    "c1\n",
    "\n",
    "if b1.isalnum() == True and len(c1) == 26:\n",
    "\n",
    "    print(\"The string is pangram\")\n",
    "\n",
    "print(c1,end=\" \")"
   ]
  },
  {
   "cell_type": "code",
   "execution_count": null,
   "id": "d9afad21",
   "metadata": {},
   "outputs": [
    {
     "name": "stdout",
     "output_type": "stream",
     "text": [
      " helo\n"
     ]
    }
   ],
   "source": [
    "index=2\n",
    "x=index+1\n",
    "str=\"hello\"\n",
    "str1=\" \"\n",
    "for i in range(len(str)):\n",
    "    if i!=index:\n",
    "        str1=str1+str[i]\n",
    "\n",
    "print(str1)"
   ]
  },
  {
   "cell_type": "code",
   "execution_count": 86,
   "id": "5880b78f",
   "metadata": {},
   "outputs": [
    {
     "name": "stdout",
     "output_type": "stream",
     "text": [
      "helo\n"
     ]
    }
   ],
   "source": [
    "str2=str[:index]+str[index+1:]\n",
    "print(str2)"
   ]
  },
  {
   "cell_type": "code",
   "execution_count": null,
   "id": "ae5c6646",
   "metadata": {},
   "outputs": [],
   "source": []
  }
 ],
 "metadata": {
  "kernelspec": {
   "display_name": "Python 3",
   "language": "python",
   "name": "python3"
  },
  "language_info": {
   "codemirror_mode": {
    "name": "ipython",
    "version": 3
   },
   "file_extension": ".py",
   "mimetype": "text/x-python",
   "name": "python",
   "nbconvert_exporter": "python",
   "pygments_lexer": "ipython3",
   "version": "3.11.0"
  }
 },
 "nbformat": 4,
 "nbformat_minor": 5
}
