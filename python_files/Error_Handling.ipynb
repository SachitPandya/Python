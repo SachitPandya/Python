{
 "cells": [
  {
   "cell_type": "markdown",
   "id": "73f8d185",
   "metadata": {},
   "source": [
    "ZeroDivisionError"
   ]
  },
  {
   "cell_type": "code",
   "execution_count": 1,
   "id": "b5a59306",
   "metadata": {},
   "outputs": [
    {
     "name": "stdout",
     "output_type": "stream",
     "text": [
      "Can't be divided by zero\n",
      "10.0\n",
      "5.0\n",
      "3.3333333333333335\n",
      "2.5\n",
      "2.0\n",
      "1.6666666666666667\n",
      "1.4285714285714286\n",
      "1.25\n",
      "1.1111111111111112\n"
     ]
    }
   ],
   "source": [
    "n=10\n",
    "for i in range(10):\n",
    "    try:\n",
    "        res=n/i\n",
    "        print(res)\n",
    "    except ZeroDivisionError:\n",
    "        print(\"Can't be divided by zero\")\n"
   ]
  },
  {
   "cell_type": "markdown",
   "id": "62dbc597",
   "metadata": {},
   "source": [
    "OverFlowError -> Occurs when the value of an numeric variable becomes too large according to it's datatype"
   ]
  },
  {
   "cell_type": "code",
   "execution_count": null,
   "id": "9e225e6e",
   "metadata": {},
   "outputs": [
    {
     "name": "stdout",
     "output_type": "stream",
     "text": [
      "93326215443944152681699238856266700490715968264381621468592963895217599993229915608941463976156518286253697920827223758251185210916864000000000000000000000000\n"
     ]
    }
   ],
   "source": [
    "# def fact(N):\n",
    "#     try:\n",
    "#         if N==0:\n",
    "#             return 1\n",
    "#         else:\n",
    "#             return N*fact(N-1)\n",
    "#     except RecursionError:\n",
    "#         print(\"Enter a smaller number\")\n",
    "#         # break\n",
    "# x=fact(100)\n",
    "# print(x)"
   ]
  },
  {
   "cell_type": "code",
   "execution_count": 14,
   "id": "90dd1b03",
   "metadata": {},
   "outputs": [
    {
     "name": "stdout",
     "output_type": "stream",
     "text": [
      "enter a smaller number\n"
     ]
    }
   ],
   "source": [
    "import math\n",
    "try:\n",
    "    r=math.exp(10000)\n",
    "    print(r)\n",
    "except OverflowError:\n",
    "    print(\"enter a smaller number\")"
   ]
  },
  {
   "cell_type": "code",
   "execution_count": null,
   "id": "8095eb52",
   "metadata": {},
   "outputs": [],
   "source": [
    "# def fact(n):\n",
    "#     if n<0:\n",
    "#         raise ValueError(\"Enter number bigger than zero\")\n",
    "#     if n==0:\n",
    "#         return 1\n",
    "#     result=1\n",
    "#     try:\n",
    "#         for i in range(1,n+1):\n",
    "#             result*=i\n",
    "#     except OverflowError:\n",
    "#         raise OverflowError(\"NUMBER TOO BIG\")\n",
    "#     return result\n",
    "\n",
    "# try:\n",
    "#     x=fact(1009)\n",
    "#     print\n",
    "#     (x)\n",
    "# except OverflowError as e:\n",
    "#     print(e)"
   ]
  },
  {
   "cell_type": "markdown",
   "id": "6ff46473",
   "metadata": {},
   "source": [
    "FloatingPointError"
   ]
  },
  {
   "cell_type": "code",
   "execution_count": 52,
   "id": "a69b0aa6",
   "metadata": {},
   "outputs": [
    {
     "name": "stdout",
     "output_type": "stream",
     "text": [
      "0.3 0.299999999999999988897769753748\n"
     ]
    }
   ],
   "source": [
    "x=0.3\n",
    "x1=format(x,'.30f')\n",
    "print(x,x1)"
   ]
  },
  {
   "cell_type": "code",
   "execution_count": 56,
   "id": "1573de89",
   "metadata": {},
   "outputs": [
    {
     "name": "stdout",
     "output_type": "stream",
     "text": [
      "1.0\n"
     ]
    }
   ],
   "source": [
    "x=1.0/3.0\n",
    "x3=x+x+x\n",
    "print(x3)"
   ]
  },
  {
   "cell_type": "code",
   "execution_count": 57,
   "id": "25c4f04a",
   "metadata": {},
   "outputs": [
    {
     "name": "stdout",
     "output_type": "stream",
     "text": [
      "0.9999999999999999\n"
     ]
    }
   ],
   "source": [
    "x=0.0\n",
    "for i in range(10):\n",
    "    x+=0.1\n",
    "print(x)"
   ]
  },
  {
   "cell_type": "code",
   "execution_count": 3,
   "id": "78065e6c",
   "metadata": {},
   "outputs": [
    {
     "name": "stdout",
     "output_type": "stream",
     "text": [
      "True 0.30000000000000004 0.3\n"
     ]
    }
   ],
   "source": [
    "a=0.1+0.2\n",
    "c=0.3\n",
    "print(a!=c,a,c)"
   ]
  },
  {
   "cell_type": "code",
   "execution_count": 11,
   "id": "edf8878c",
   "metadata": {},
   "outputs": [
    {
     "data": {
      "text/plain": [
       "0.3"
      ]
     },
     "execution_count": 11,
     "metadata": {},
     "output_type": "execute_result"
    }
   ],
   "source": [
    "a1=round(a,1)\n",
    "a1"
   ]
  },
  {
   "cell_type": "code",
   "execution_count": 22,
   "id": "787f70b1",
   "metadata": {},
   "outputs": [
    {
     "name": "stdout",
     "output_type": "stream",
     "text": [
      "3.1428571428571428571\n"
     ]
    }
   ],
   "source": [
    "from decimal import Decimal,getcontext\n",
    "getcontext().prec=20\n",
    "a=Decimal('22')/Decimal('7')\n",
    "print(a)"
   ]
  },
  {
   "cell_type": "code",
   "execution_count": 34,
   "id": "59daad92",
   "metadata": {},
   "outputs": [
    {
     "name": "stdout",
     "output_type": "stream",
     "text": [
      "<class 'fractions.Fraction'> -4/5\n"
     ]
    }
   ],
   "source": [
    "from fractions import Fraction\n",
    "x=Fraction('1.2')-Fraction(\"2.0\")\n",
    "print(type(x),x)"
   ]
  },
  {
   "cell_type": "code",
   "execution_count": 48,
   "id": "e22c707a",
   "metadata": {},
   "outputs": [
    {
     "name": "stdout",
     "output_type": "stream",
     "text": [
      "0.5\n"
     ]
    }
   ],
   "source": [
    "x3=Fraction(x)+Fraction(\"1.3\")\n",
    "print(float(x3))"
   ]
  },
  {
   "cell_type": "markdown",
   "id": "18cc8120",
   "metadata": {},
   "source": [
    "Assertion Error -> It is used to check the condition before moving on,if the condition is true it moves on,but if it's false it will throw the error "
   ]
  },
  {
   "cell_type": "code",
   "execution_count": null,
   "id": "7b8e415d",
   "metadata": {},
   "outputs": [
    {
     "name": "stdout",
     "output_type": "stream",
     "text": [
      "Invalid op\n"
     ]
    }
   ],
   "source": [
    "try:\n",
    "    a=10\n",
    "    b=0\n",
    "    assert b!= 0, \"Invalid op\"\n",
    "    print(a/b)\n",
    "except AssertionError as a:\n",
    "    print(a)"
   ]
  },
  {
   "cell_type": "code",
   "execution_count": null,
   "id": "9da5d0d8",
   "metadata": {},
   "outputs": [
    {
     "name": "stdout",
     "output_type": "stream",
     "text": [
      "prime\n"
     ]
    }
   ],
   "source": [
    "def prime(n):\n",
    "    try:\n",
    "        f=0\n",
    "        assert n>1,\"Not a valid number\"\n",
    "        assert n!=2 or n!=3, \"Prime\"\n",
    "        for i in range(2,n):\n",
    "            if n%i==0:\n",
    "                f=1\n",
    "                break\n",
    "        if f==1:\n",
    "            print('non prime')\n",
    "        else: \n",
    "            print(\"prime\")\n",
    "    except AssertionError as a:\n",
    "        print(a)\n",
    "\n",
    "prime(2)"
   ]
  },
  {
   "cell_type": "markdown",
   "id": "46370c94",
   "metadata": {},
   "source": [
    "Attribute Error-> It is occured when incorrect attribute reference is made like, for a integervan append method is runned\n"
   ]
  },
  {
   "cell_type": "code",
   "execution_count": 71,
   "id": "fea54c2c",
   "metadata": {},
   "outputs": [
    {
     "name": "stdout",
     "output_type": "stream",
     "text": [
      "no\n"
     ]
    }
   ],
   "source": [
    "try:\n",
    "    a=10\n",
    "    a.append(20)\n",
    "except AttributeError:\n",
    "    print(\"no\")"
   ]
  },
  {
   "cell_type": "markdown",
   "id": "fa51abe4",
   "metadata": {},
   "source": [
    "Index Error -> It occurs when we try to access an index which is not present in the item "
   ]
  },
  {
   "cell_type": "code",
   "execution_count": 73,
   "id": "05309541",
   "metadata": {},
   "outputs": [
    {
     "name": "stdout",
     "output_type": "stream",
     "text": [
      "1\n",
      "2\n",
      "3\n",
      "3\n",
      "4\n",
      "5\n",
      "list index is not present\n"
     ]
    }
   ],
   "source": [
    "a=[1,2,3,3,4,5]\n",
    "try:\n",
    "    for i in range(len(a)+1):\n",
    "        print(a[i])\n",
    "except IndexError:\n",
    "    print(\"list index is not present\")"
   ]
  },
  {
   "cell_type": "markdown",
   "id": "5979911a",
   "metadata": {},
   "source": [
    "KeyError-> Occurs when we try to access a key which is not present in dictionary"
   ]
  },
  {
   "cell_type": "code",
   "execution_count": 74,
   "id": "ce1551b9",
   "metadata": {},
   "outputs": [
    {
     "name": "stdout",
     "output_type": "stream",
     "text": [
      "{'1': 2, 'b': 2}\n"
     ]
    }
   ],
   "source": [
    "dict1={\"1\":2,\"b\":2}\n",
    "print(dict1)"
   ]
  },
  {
   "cell_type": "code",
   "execution_count": null,
   "id": "011b83f5",
   "metadata": {},
   "outputs": [
    {
     "name": "stdout",
     "output_type": "stream",
     "text": [
      "2\n"
     ]
    }
   ],
   "source": [
    "print(dict1['1'])"
   ]
  },
  {
   "cell_type": "code",
   "execution_count": 77,
   "id": "6441f7d8",
   "metadata": {},
   "outputs": [
    {
     "name": "stdout",
     "output_type": "stream",
     "text": [
      "key is not present\n"
     ]
    }
   ],
   "source": [
    "try:\n",
    "    print(dict1[\"a\"])\n",
    "except:\n",
    "    print(\"key is not present\")"
   ]
  },
  {
   "cell_type": "code",
   "execution_count": null,
   "id": "9071b2af",
   "metadata": {},
   "outputs": [
    {
     "name": "stdout",
     "output_type": "stream",
     "text": [
      "doesn't exist\n"
     ]
    }
   ],
   "source": [
    "sub=dict1.get(\"ab\",\"doesn't exist\") #Returns none if no default value is passed else,the msg passed is printed\n",
    "print(sub)"
   ]
  },
  {
   "cell_type": "markdown",
   "id": "aa7ef961",
   "metadata": {},
   "source": [
    "MemoryError -> Occurs when the program runs out of the total available memory of the system"
   ]
  },
  {
   "cell_type": "code",
   "execution_count": 2,
   "id": "34b29761",
   "metadata": {},
   "outputs": [
    {
     "name": "stdout",
     "output_type": "stream",
     "text": [
      "['datadatadatadatadatadatadatadatadatadata']\n",
      "['datadatadatadatadatadatadatadatadatadata', 'datadatadatadatadatadatadatadatadatadata']\n",
      "['datadatadatadatadatadatadatadatadatadata', 'datadatadatadatadatadatadatadatadatadata', 'datadatadatadatadatadatadatadatadatadata']\n",
      "['datadatadatadatadatadatadatadatadatadata', 'datadatadatadatadatadatadatadatadatadata', 'datadatadatadatadatadatadatadatadatadata', 'datadatadatadatadatadatadatadatadatadata']\n",
      "['datadatadatadatadatadatadatadatadatadata', 'datadatadatadatadatadatadatadatadatadata', 'datadatadatadatadatadatadatadatadatadata', 'datadatadatadatadatadatadatadatadatadata', 'datadatadatadatadatadatadatadatadatadata']\n",
      "['datadatadatadatadatadatadatadatadatadata', 'datadatadatadatadatadatadatadatadatadata', 'datadatadatadatadatadatadatadatadatadata', 'datadatadatadatadatadatadatadatadatadata', 'datadatadatadatadatadatadatadatadatadata', 'datadatadatadatadatadatadatadatadatadata']\n",
      "['datadatadatadatadatadatadatadatadatadata', 'datadatadatadatadatadatadatadatadatadata', 'datadatadatadatadatadatadatadatadatadata', 'datadatadatadatadatadatadatadatadatadata', 'datadatadatadatadatadatadatadatadatadata', 'datadatadatadatadatadatadatadatadatadata', 'datadatadatadatadatadatadatadatadatadata']\n",
      "['datadatadatadatadatadatadatadatadatadata', 'datadatadatadatadatadatadatadatadatadata', 'datadatadatadatadatadatadatadatadatadata', 'datadatadatadatadatadatadatadatadatadata', 'datadatadatadatadatadatadatadatadatadata', 'datadatadatadatadatadatadatadatadatadata', 'datadatadatadatadatadatadatadatadatadata', 'datadatadatadatadatadatadatadatadatadata']\n",
      "['datadatadatadatadatadatadatadatadatadata', 'datadatadatadatadatadatadatadatadatadata', 'datadatadatadatadatadatadatadatadatadata', 'datadatadatadatadatadatadatadatadatadata', 'datadatadatadatadatadatadatadatadatadata', 'datadatadatadatadatadatadatadatadatadata', 'datadatadatadatadatadatadatadatadatadata', 'datadatadatadatadatadatadatadatadatadata', 'datadatadatadatadatadatadatadatadatadata']\n",
      "['datadatadatadatadatadatadatadatadatadata', 'datadatadatadatadatadatadatadatadatadata', 'datadatadatadatadatadatadatadatadatadata', 'datadatadatadatadatadatadatadatadatadata', 'datadatadatadatadatadatadatadatadatadata', 'datadatadatadatadatadatadatadatadatadata', 'datadatadatadatadatadatadatadatadatadata', 'datadatadatadatadatadatadatadatadatadata', 'datadatadatadatadatadatadatadatadatadata', 'datadatadatadatadatadatadatadatadatadata']\n"
     ]
    }
   ],
   "source": [
    "def large():\n",
    "    large_list=[]\n",
    "    i=0\n",
    "    while i<10:\n",
    "        large_list.append(\"data\"*10)\n",
    "        print(large_list)\n",
    "        i+=1\n",
    "large()"
   ]
  },
  {
   "cell_type": "markdown",
   "id": "1cc7483c",
   "metadata": {},
   "source": [
    "TypeError -> Occurs when we use invalid operation on a datatype"
   ]
  },
  {
   "cell_type": "code",
   "execution_count": 6,
   "id": "9b3ce8c0",
   "metadata": {},
   "outputs": [
    {
     "name": "stdout",
     "output_type": "stream",
     "text": [
      "String can't be multiplied\n"
     ]
    }
   ],
   "source": [
    "try:\n",
    "    a=\"20.0\"\n",
    "    b=\"5\"\n",
    "    c=a*b\n",
    "except TypeError:\n",
    "    print(\"String can't be multiplied\")"
   ]
  },
  {
   "cell_type": "markdown",
   "id": "99d12878",
   "metadata": {},
   "source": [
    "ValueError -> Occurs when an invalid value is given to an variable"
   ]
  },
  {
   "cell_type": "code",
   "execution_count": 9,
   "id": "c8bc6eab",
   "metadata": {},
   "outputs": [
    {
     "name": "stdout",
     "output_type": "stream",
     "text": [
      "10.0\n",
      "This can't be done\n"
     ]
    }
   ],
   "source": [
    "try:\n",
    "    a=10\n",
    "    b=\"hello\"\n",
    "    print(float(a))\n",
    "    print(float(b))\n",
    "\n",
    "except ValueError:\n",
    "    print(\"This can't be done\")"
   ]
  },
  {
   "cell_type": "code",
   "execution_count": 16,
   "id": "c3d91765",
   "metadata": {},
   "outputs": [
    {
     "name": "stdout",
     "output_type": "stream",
     "text": [
      "NO NO NO NO\n"
     ]
    }
   ],
   "source": [
    "try: \n",
    "    list1=[1,2,3,1]\n",
    "    a,b,d=list1\n",
    "    print(a,b,d)\n",
    "except ValueError:\n",
    "    print(\"NO NO NO NO\")\n"
   ]
  },
  {
   "cell_type": "code",
   "execution_count": null,
   "id": "82c5e407",
   "metadata": {},
   "outputs": [],
   "source": []
  }
 ],
 "metadata": {
  "kernelspec": {
   "display_name": "Python 3",
   "language": "python",
   "name": "python3"
  },
  "language_info": {
   "codemirror_mode": {
    "name": "ipython",
    "version": 3
   },
   "file_extension": ".py",
   "mimetype": "text/x-python",
   "name": "python",
   "nbconvert_exporter": "python",
   "pygments_lexer": "ipython3",
   "version": "3.11.0"
  }
 },
 "nbformat": 4,
 "nbformat_minor": 5
}
