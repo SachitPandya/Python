{
 "cells": [
  {
   "cell_type": "code",
   "execution_count": 2,
   "id": "8c539f18",
   "metadata": {},
   "outputs": [],
   "source": [
    "import os\n",
    "base_dir=r\"C:\\Users\\BAPS\\Desktop\\Python\\txt_files\""
   ]
  },
  {
   "cell_type": "code",
   "execution_count": 3,
   "id": "e1d258a3",
   "metadata": {},
   "outputs": [
    {
     "name": "stdout",
     "output_type": "stream",
     "text": [
      "C:\\Users\\BAPS\\Desktop\\Python\\txt_files\\file.txt\n"
     ]
    }
   ],
   "source": [
    "file_name=\"file.txt\"\n",
    "file_path=os.path.join(base_dir,file_name)\n",
    "print(file_path)"
   ]
  },
  {
   "cell_type": "code",
   "execution_count": 4,
   "id": "28da007d",
   "metadata": {},
   "outputs": [
    {
     "name": "stdout",
     "output_type": "stream",
     "text": [
      "<_io.TextIOWrapper name='C:\\\\Users\\\\BAPS\\\\Desktop\\\\Python\\\\txt_files\\\\file.txt' mode='r' encoding='ascii'>\n",
      "When opening a file, we must specify the mode we want to which specifies what we want to do with the file. \n",
      "Here a table of the different modes available:\n",
      "Letter\\nUppercase\\nLowercase\n",
      "Beta\t    \\xce\\x92          \\xce\\xb2\n",
      "Gamma\t    \\xce\\x93\t       \\xce\\xb3\n",
      "Delta\t    \\xce\\x94\t       \\xce\\xb4\n",
      "Epsilon     \\xce\\x95\t       \\xce\\xb5\n"
     ]
    }
   ],
   "source": [
    "with open(file_path,\"r\",encoding=\"ascii\", errors=\"backslashreplace\") as file1:\n",
    "    print(file1)\n",
    "    c=file1.read()\n",
    "    print(c)"
   ]
  },
  {
   "cell_type": "markdown",
   "id": "ff94bc85",
   "metadata": {},
   "source": [
    "1.  Read Entire File"
   ]
  },
  {
   "cell_type": "code",
   "execution_count": 5,
   "id": "cdde4f26",
   "metadata": {},
   "outputs": [
    {
     "ename": "NameError",
     "evalue": "name 'r' is not defined",
     "output_type": "error",
     "traceback": [
      "\u001b[31m---------------------------------------------------------------------------\u001b[39m",
      "\u001b[31mNameError\u001b[39m                                 Traceback (most recent call last)",
      "\u001b[36mCell\u001b[39m\u001b[36m \u001b[39m\u001b[32mIn[5]\u001b[39m\u001b[32m, line 5\u001b[39m\n\u001b[32m      3\u001b[39m \u001b[38;5;28;01mwith\u001b[39;00m \u001b[38;5;28mopen\u001b[39m(file12_path,\u001b[33m'\u001b[39m\u001b[33mr\u001b[39m\u001b[33m'\u001b[39m) \u001b[38;5;28;01mas\u001b[39;00m file1:\n\u001b[32m      4\u001b[39m     c1=file1.read()\n\u001b[32m----> \u001b[39m\u001b[32m5\u001b[39m     \u001b[38;5;28mprint\u001b[39m(\u001b[43mr\u001b[49m)\n",
      "\u001b[31mNameError\u001b[39m: name 'r' is not defined"
     ]
    }
   ],
   "source": [
    "file12_name=\"file12.txt\"\n",
    "file12_path=os.path.join(base_dir,file12_name)\n",
    "with open(file12_path,'r') as file1:\n",
    "    c1=file1.read()\n",
    "    print(r)"
   ]
  },
  {
   "cell_type": "markdown",
   "id": "efa1ea93",
   "metadata": {},
   "source": [
    "2.Read First N Lines"
   ]
  },
  {
   "cell_type": "code",
   "execution_count": null,
   "id": "2a9bd0be",
   "metadata": {},
   "outputs": [
    {
     "name": "stdout",
     "output_type": "stream",
     "text": [
      "['A black hole is a massive, compact astronomical object so dense that its gravity prevents anything from escaping, even light.\\n', \"Albert Einstein's theory of general relativity predicts that a sufficiently compact mass will form a black hole.\\n\", '[3] The boundary of no escape is called the event horizon. A black hole has a great effect on the fate and circumstances of an object crossing it, but has no locally detectable features according to general relativity.\\n', '[4] In many ways, a black hole acts like an ideal black body, as it reflects no light.[5][6] Quantum field theory in curved spacetime predicts that event horizons emit Hawking radiation, with the same spectrum as a black body of a temperature inversely proportional to its mass. \\n', 'This temperature is of the order of billionths of a kelvin for stellar black holes, making it essentially impossible to observe directly.\\n']\n"
     ]
    }
   ],
   "source": [
    "n=int(input())\n",
    "with open(file12_path,'r') as file2:\n",
    "    c2=file2.readlines()\n",
    "    print(c2[:n+1])"
   ]
  },
  {
   "cell_type": "markdown",
   "id": "cbb79b2b",
   "metadata": {},
   "source": [
    "3. Append Text and Display"
   ]
  },
  {
   "cell_type": "code",
   "execution_count": null,
   "id": "c247838f",
   "metadata": {},
   "outputs": [
    {
     "name": "stdout",
     "output_type": "stream",
     "text": [
      " dense that its gravity prevents anything from escaping, even light.\n",
      "Albert Einstein's theory of general relativity predicts that a sufficiently compact mass will form a black hole.\n",
      "[3] The boundary of no escape is called the event horizon. A black hole has a great effect on the fate and circumstances of an object crossing it, but has no locally detectable features according to general relativity.\n",
      "[4] In many ways, a black hole acts like an ideal black body, as it reflects no light.[5][6] Quantum field theory in curved spacetime predicts that event horizons emit Hawking radiation, with the same spectrum as a black body of a temperature inversely proportional to its mass. \n",
      "This temperature is of the order of billionths of a kelvin for stellar black holes, making it essentially impossible to observe directly.\n",
      "Objects whose gravitational fields are too strong for light to escape were first considered in the 18th century by John Michell and Pierre-Simon Laplace. \n",
      "In 1916, Karl Schwarzschild found the first modern solution of general relativity that would characterise a black hole. Due to his influential research, the Schwarzschild metric is named after him.\n",
      "David Finkelstein, in 1958, first published the interpretation of \"black hole\" as a region of space from which nothing can escape. Black holes were long considered a mathematical curiosity; it was not until the 1960s that theoretical work showed they were a generic prediction of general relativity. The discovery of neutron stars by Jocelyn Bell Burnell in 1967 sparked interest in gravitationally collapsed compact objects as a possible astrophysical reality. The first black hole known was Cygnus X-1, identified by several researchers independently in 1971.[7][8]\n",
      "Black holes typically form when massive stars collapse at the end of their life cycle. After a black hole has formed, it can grow by absorbing mass from its surroundings. Supermassive black holes of millions of solar masses may form by absorbing other stars and merging with other black holes, or via direct collapse of gas clouds. There is consensus that supermassive black holes exist in the centres of most galaxies.\n",
      "The presence of a black hole can be inferred through its interaction with other matter and with electromagnetic radiation such as visible light. Matter falling toward a black hole can form an accretion disk of infalling plasma, heated by friction and emitting light. In extreme cases, this creates a quasar, some of the brightest objects in the universe. Stars passing too close to a supermassive black hole can be shredded into streamers that shine very brightly before being \"swallowed.\"[9] If other stars are orbiting a black hole, their orbits can be used to determine the black hole's mass and location. Such observations can be used to exclude possible alternatives such as neutron stars. In this way, astronomers have identified numerous stellar black hole candidates in binary systems and established that the radio source known as Sagittarius A*, at the core of the Milky Way galaxy, contains a supermassive black hole of about 4.3 million solar masses.\n",
      "\n",
      "History\n",
      "The idea of a body so big that even light could not escape was briefly proposed by English astronomical pioneer and clergyman John Michell and independently by French scientist Pierre-Simon Laplace. Both scholars proposed very large stars rather than the modern model of stars with extraordinary density.[10]\n",
      "Michell's idea, in a short part of a letter published in 1784, calculated that a star with the same density but 500 times the radius of the sun would not let any emitted light escape; the surface escape velocity would exceed the speed of light. Michell correctly noted that such supermassive but non-radiating bodies might be detectable through their gravitational effects on nearby visible bodies.[10][11][12]\n",
      "In 1796, Laplace mentioned that a star could be invisible if it were sufficiently large while speculating on the origin of the Solar System in his book Exposition du SystÃ¨me du Monde. Franz Xaver von Zach asked Laplace for a mathematical analysis, which Laplace provided and published in journal edited by von Zach.[10]\n",
      "Scholars of the time were initially excited by the proposal that giant but invisible 'dark stars' might be hiding in plain view, but enthusiasm dampened when the wavelike nature of light became apparent in the early nineteenth century,[13] since light was understood as a wave rather than a particle, it was unclear what, if any, influence gravity would have on escaping light waves.[10][12]\n",
      " We very recently got the first pictures of black holes\n",
      " \n"
     ]
    }
   ],
   "source": [
    "with open(file12_path,\"r+\") as file3:\n",
    "    file3.write(\"\\n We very recently got the first pictures of black holes\")\n",
    "    c3=file3.read()\n",
    "    print(c3)"
   ]
  },
  {
   "cell_type": "markdown",
   "id": "a8ff2848",
   "metadata": {},
   "source": [
    "4. Read Last N Lines"
   ]
  },
  {
   "cell_type": "code",
   "execution_count": null,
   "id": "fc3b6d2e",
   "metadata": {},
   "outputs": [
    {
     "name": "stdout",
     "output_type": "stream",
     "text": [
      "['[3] The boundary of no escape is called the event horizon. A black hole has a great effect on the fate and circumstances of an object crossing it, but has no locally detectable features according to general relativity.\\n', '[4] In many ways, a black hole acts like an ideal black body, as it reflects no light.[5][6] Quantum field theory in curved spacetime predicts that event horizons emit Hawking radiation, with the same spectrum as a black body of a temperature inversely proportional to its mass. \\n', 'This temperature is of the order of billionths of a kelvin for stellar black holes, making it essentially impossible to observe directly.\\n', 'Objects whose gravitational fields are too strong for light to escape were first considered in the 18th century by John Michell and Pierre-Simon Laplace. \\n', 'In 1916, Karl Schwarzschild found the first modern solution of general relativity that would characterise a black hole. Due to his influential research, the Schwarzschild metric is named after him.\\n', 'David Finkelstein, in 1958, first published the interpretation of \"black hole\" as a region of space from which nothing can escape. Black holes were long considered a mathematical curiosity; it was not until the 1960s that theoretical work showed they were a generic prediction of general relativity. The discovery of neutron stars by Jocelyn Bell Burnell in 1967 sparked interest in gravitationally collapsed compact objects as a possible astrophysical reality. The first black hole known was Cygnus X-1, identified by several researchers independently in 1971.[7][8]\\n', 'Black holes typically form when massive stars collapse at the end of their life cycle. After a black hole has formed, it can grow by absorbing mass from its surroundings. Supermassive black holes of millions of solar masses may form by absorbing other stars and merging with other black holes, or via direct collapse of gas clouds. There is consensus that supermassive black holes exist in the centres of most galaxies.\\n', 'The presence of a black hole can be inferred through its interaction with other matter and with electromagnetic radiation such as visible light. Matter falling toward a black hole can form an accretion disk of infalling plasma, heated by friction and emitting light. In extreme cases, this creates a quasar, some of the brightest objects in the universe. Stars passing too close to a supermassive black hole can be shredded into streamers that shine very brightly before being \"swallowed.\"[9] If other stars are orbiting a black hole, their orbits can be used to determine the black hole\\'s mass and location. Such observations can be used to exclude possible alternatives such as neutron stars. In this way, astronomers have identified numerous stellar black hole candidates in binary systems and established that the radio source known as Sagittarius A*, at the core of the Milky Way galaxy, contains a supermassive black hole of about 4.3 million solar masses.\\n', '\\n', 'History\\n', 'The idea of a body so big that even light could not escape was briefly proposed by English astronomical pioneer and clergyman John Michell and independently by French scientist Pierre-Simon Laplace. Both scholars proposed very large stars rather than the modern model of stars with extraordinary density.[10]\\n', \"Michell's idea, in a short part of a letter published in 1784, calculated that a star with the same density but 500 times the radius of the sun would not let any emitted light escape; the surface escape velocity would exceed the speed of light. Michell correctly noted that such supermassive but non-radiating bodies might be detectable through their gravitational effects on nearby visible bodies.[10][11][12]\\n\", 'In 1796, Laplace mentioned that a star could be invisible if it were sufficiently large while speculating on the origin of the Solar System in his book Exposition du SystÃ¨me du Monde. Franz Xaver von Zach asked Laplace for a mathematical analysis, which Laplace provided and published in journal edited by von Zach.[10]\\n', \"Scholars of the time were initially excited by the proposal that giant but invisible 'dark stars' might be hiding in plain view, but enthusiasm dampened when the wavelike nature of light became apparent in the early nineteenth century,[13] since light was understood as a wave rather than a particle, it was unclear what, if any, influence gravity would have on escaping light waves.[10][12]\\n\", ' We very recently got the first pictures of black holes\\n', ' ']\n"
     ]
    }
   ],
   "source": [
    "n=int(input())\n",
    "with open (file12_path,'r') as f:\n",
    "    c4=f.readlines()\n",
    "    print(c4[n:])"
   ]
  },
  {
   "cell_type": "code",
   "execution_count": null,
   "id": "f8e2de1d",
   "metadata": {},
   "outputs": [
    {
     "name": "stdout",
     "output_type": "stream",
     "text": [
      "['\\n', ' We very recently got the first pictures of black holes dense that its gravity prevents anything from escaping, even light.\\n', \"Albert Einstein's theory of general relativity predicts that a sufficiently compact mass will form a black hole.\\n\", '[3] The boundary of no escape is called the event horizon. A black hole has a great effect on the fate and circumstances of an object crossing it, but has no locally detectable features according to general relativity.\\n', '[4] In many ways, a black hole acts like an ideal black body, as it reflects no light.[5][6] Quantum field theory in curved spacetime predicts that event horizons emit Hawking radiation, with the same spectrum as a black body of a temperature inversely proportional to its mass. \\n', 'This temperature is of the order of billionths of a kelvin for stellar black holes, making it essentially impossible to observe directly.\\n', 'Objects whose gravitational fields are too strong for light to escape were first considered in the 18th century by John Michell and Pierre-Simon Laplace. \\n', 'In 1916, Karl Schwarzschild found the first modern solution of general relativity that would characterise a black hole. Due to his influential research, the Schwarzschild metric is named after him.\\n', 'David Finkelstein, in 1958, first published the interpretation of \"black hole\" as a region of space from which nothing can escape. Black holes were long considered a mathematical curiosity; it was not until the 1960s that theoretical work showed they were a generic prediction of general relativity. The discovery of neutron stars by Jocelyn Bell Burnell in 1967 sparked interest in gravitationally collapsed compact objects as a possible astrophysical reality. The first black hole known was Cygnus X-1, identified by several researchers independently in 1971.[7][8]\\n', 'Black holes typically form when massive stars collapse at the end of their life cycle. After a black hole has formed, it can grow by absorbing mass from its surroundings. Supermassive black holes of millions of solar masses may form by absorbing other stars and merging with other black holes, or via direct collapse of gas clouds. There is consensus that supermassive black holes exist in the centres of most galaxies.\\n', 'The presence of a black hole can be inferred through its interaction with other matter and with electromagnetic radiation such as visible light. Matter falling toward a black hole can form an accretion disk of infalling plasma, heated by friction and emitting light. In extreme cases, this creates a quasar, some of the brightest objects in the universe. Stars passing too close to a supermassive black hole can be shredded into streamers that shine very brightly before being \"swallowed.\"[9] If other stars are orbiting a black hole, their orbits can be used to determine the black hole\\'s mass and location. Such observations can be used to exclude possible alternatives such as neutron stars. In this way, astronomers have identified numerous stellar black hole candidates in binary systems and established that the radio source known as Sagittarius A*, at the core of the Milky Way galaxy, contains a supermassive black hole of about 4.3 million solar masses.\\n', '\\n', 'History\\n', 'The idea of a body so big that even light could not escape was briefly proposed by English astronomical pioneer and clergyman John Michell and independently by French scientist Pierre-Simon Laplace. Both scholars proposed very large stars rather than the modern model of stars with extraordinary density.[10]\\n', \"Michell's idea, in a short part of a letter published in 1784, calculated that a star with the same density but 500 times the radius of the sun would not let any emitted light escape; the surface escape velocity would exceed the speed of light. Michell correctly noted that such supermassive but non-radiating bodies might be detectable through their gravitational effects on nearby visible bodies.[10][11][12]\\n\", 'In 1796, Laplace mentioned that a star could be invisible if it were sufficiently large while speculating on the origin of the Solar System in his book Exposition du SystÃ¨me du Monde. Franz Xaver von Zach asked Laplace for a mathematical analysis, which Laplace provided and published in journal edited by von Zach.[10]\\n', \"Scholars of the time were initially excited by the proposal that giant but invisible 'dark stars' might be hiding in plain view, but enthusiasm dampened when the wavelike nature of light became apparent in the early nineteenth century,[13] since light was understood as a wave rather than a particle, it was unclear what, if any, influence gravity would have on escaping light waves.[10][12]\\n\", ' We very recently got the first pictures of black holes\\n', ' ']\n"
     ]
    }
   ],
   "source": [
    "with open (file12_path,'r') as f:\n",
    "    print(f.readlines())"
   ]
  },
  {
   "cell_type": "code",
   "execution_count": null,
   "id": "24e97d50",
   "metadata": {},
   "outputs": [
    {
     "name": "stdout",
     "output_type": "stream",
     "text": [
      "['Letter', 'Uppercase', 'Lowercase\\n']\n"
     ]
    }
   ],
   "source": [
    "n=int(input())\n",
    "with open(file_path,'r') as f:\n",
    "    for i in range(n):\n",
    "        f.readline()\n",
    "    x=f.readline().split(\"\\\\n\")\n",
    "    print(x)"
   ]
  },
  {
   "cell_type": "markdown",
   "id": "06b2aef9",
   "metadata": {},
   "source": [
    "5. find a word in the file"
   ]
  },
  {
   "cell_type": "code",
   "execution_count": null,
   "id": "1f5f9b69",
   "metadata": {},
   "outputs": [
    {
     "name": "stdout",
     "output_type": "stream",
     "text": [
      "\n",
      "\n",
      " We very recently got the first pictures of black holes dense that its gravity prevents anything from escaping, even light.\n",
      "\n",
      "Albert Einstein's theory of general relativity predicts that a sufficiently compact mass will form a black hole.\n",
      "\n",
      "[3] The boundary of no escape is called the event horizon. A black hole has a great effect on the fate and circumstances of an object crossing it, but has no locally detectable features according to general relativity.\n",
      "\n",
      "[4] In many ways, a black hole acts like an ideal black body, as it reflects no light.[5][6] Quantum field theory in curved spacetime predicts that event horizons emit Hawking radiation, with the same spectrum as a black body of a temperature inversely proportional to its mass. \n",
      "\n",
      "This temperature is of the order of billionths of a kelvin for stellar black holes, making it essentially impossible to observe directly.\n",
      "\n",
      "Objects whose gravitational fields are too strong for light to escape were first considered in the 18th century by John Michell and Pierre-Simon Laplace. \n",
      "\n",
      "In 1916, Karl Schwarzschild found the first modern solution of general relativity that would characterise a black hole. Due to his influential research, the Schwarzschild metric is named after him.\n",
      "\n",
      "David Finkelstein, in 1958, first published the interpretation of \"black hole\" as a region of space from which nothing can escape. Black holes were long considered a mathematical curiosity; it was not until the 1960s that theoretical work showed they were a generic prediction of general relativity. The discovery of neutron stars by Jocelyn Bell Burnell in 1967 sparked interest in gravitationally collapsed compact objects as a possible astrophysical reality. The first black hole known was Cygnus X-1, identified by several researchers independently in 1971.[7][8]\n",
      "\n",
      "David Finkelstein, in 1958, first published the interpretation of \"black hole\" as a region of space from which nothing can escape. Black holes were long considered a mathematical curiosity; it was not until the 1960s that theoretical work showed they were a generic prediction of general relativity. The discovery of neutron stars by Jocelyn Bell Burnell in 1967 sparked interest in gravitationally collapsed compact objects as a possible astrophysical reality. The first black hole known was Cygnus X-1, identified by several researchers independently in 1971.[7][8]\n",
      "\n",
      "element found at line 8\n"
     ]
    }
   ],
   "source": [
    "word=\"end\"\n",
    "f=1\n",
    "ctr=0\n",
    "with open(file12_path,'r') as f:\n",
    "    x=f.readlines()\n",
    "    # print(x)\n",
    "    for i in x:\n",
    "        print(i)\n",
    "        if word in i:\n",
    "            print(i)\n",
    "            f=1\n",
    "            break\n",
    "        else:\n",
    "            f=0\n",
    "        ctr+=1\n",
    "\n",
    "    if f==1:\n",
    "        print(\"element found at line\",ctr)\n",
    "    else:\n",
    "        print(\"not found \")"
   ]
  },
  {
   "cell_type": "markdown",
   "id": "75439783",
   "metadata": {},
   "source": [
    "6. There's a matix in file and you want to calculate the mean of columns in bottom row and sum of rows in new column"
   ]
  },
  {
   "cell_type": "code",
   "execution_count": 3,
   "id": "2f6b12df",
   "metadata": {},
   "outputs": [],
   "source": [
    "file13_name=\"file13.txt\"\n",
    "file13_path=os.path.join(base_dir,file13_name)"
   ]
  },
  {
   "cell_type": "code",
   "execution_count": 4,
   "id": "97b43106",
   "metadata": {},
   "outputs": [
    {
     "name": "stdout",
     "output_type": "stream",
     "text": [
      "56, 45, 89\n",
      "64, 34, 23\n",
      "12, 23, 73 \n"
     ]
    }
   ],
   "source": [
    "with open(file13_path,'r+') as file13:\n",
    "    x=file13.read()\n",
    "    print(x)\n",
    "    while True:\n",
    "        num=file13.readlines()\n",
    "        if not num:\n",
    "            break\n",
    "        \n",
    "        a1=int(num.split(\",\")[0])\n",
    "        a2=int(num.split(\",\")[1])\n",
    "        a3=int(num.split(\",\")[2])\n",
    "        print(a1,a2,a3)\n",
    "        "
   ]
  },
  {
   "cell_type": "code",
   "execution_count": 2,
   "id": "d6cd9e16",
   "metadata": {},
   "outputs": [
    {
     "name": "stdout",
     "output_type": "stream",
     "text": [
      "['4', '2']\n"
     ]
    }
   ],
   "source": [
    "import os\n",
    "f = open('python.txt', 'w')\n",
    "f.write(\"4,1,3,5,2\")\n",
    "f.close()\n",
    "\n",
    "def even():\n",
    "          try:        \n",
    "               with open('python.txt', 'r') as file:\n",
    "                    file1 = file.read().split(',')\n",
    "               even_num = [num for num in file1 if int(num) % 2 == 0]\n",
    "               print(even_num)    \n",
    "          except:\n",
    "               print(\"file not exists\")  \n",
    " \n",
    "even()"
   ]
  },
  {
   "cell_type": "code",
   "execution_count": null,
   "id": "9667654e",
   "metadata": {},
   "outputs": [],
   "source": []
  }
 ],
 "metadata": {
  "kernelspec": {
   "display_name": "Python 3",
   "language": "python",
   "name": "python3"
  },
  "language_info": {
   "codemirror_mode": {
    "name": "ipython",
    "version": 3
   },
   "file_extension": ".py",
   "mimetype": "text/x-python",
   "name": "python",
   "nbconvert_exporter": "python",
   "pygments_lexer": "ipython3",
   "version": "3.11.0"
  }
 },
 "nbformat": 4,
 "nbformat_minor": 5
}
