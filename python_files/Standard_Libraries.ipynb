{
 "cells": [
  {
   "cell_type": "markdown",
   "id": "c4bb78fe",
   "metadata": {},
   "source": [
    "Math Libraries\n"
   ]
  },
  {
   "cell_type": "code",
   "execution_count": 130,
   "id": "502ca633",
   "metadata": {},
   "outputs": [],
   "source": [
    "import math"
   ]
  },
  {
   "cell_type": "markdown",
   "id": "7863864f",
   "metadata": {},
   "source": [
    "math.acos() and math.acosh()"
   ]
  },
  {
   "cell_type": "code",
   "execution_count": 131,
   "id": "4337d0a2",
   "metadata": {},
   "outputs": [
    {
     "data": {
      "text/plain": [
       "3.5827464389221464"
      ]
     },
     "execution_count": 131,
     "metadata": {},
     "output_type": "execute_result"
    }
   ],
   "source": [
    "math.acos(1)           #Value range[-1,1]   -1==3.14       \n",
    "#Cosine angele of num\n",
    "\n",
    "math.acosh(18)         #Value range x>=1  \n",
    "#inverse hyperbolic cosnie"
   ]
  },
  {
   "cell_type": "markdown",
   "id": "099f53f1",
   "metadata": {},
   "source": [
    "Like this there is math.asin(),math.asinh(),math.atan(),math.atanh()"
   ]
  },
  {
   "cell_type": "code",
   "execution_count": 132,
   "id": "76bb1465",
   "metadata": {},
   "outputs": [
    {
     "data": {
      "text/plain": [
       "5.288292537319899"
      ]
     },
     "execution_count": 132,
     "metadata": {},
     "output_type": "execute_result"
    }
   ],
   "source": [
    "math.asin(-1)\n",
    "math.asinh(99)"
   ]
  },
  {
   "cell_type": "code",
   "execution_count": 133,
   "id": "946658c9",
   "metadata": {},
   "outputs": [
    {
     "data": {
      "text/plain": [
       "-1.421925871130636"
      ]
     },
     "execution_count": 133,
     "metadata": {},
     "output_type": "execute_result"
    }
   ],
   "source": [
    "math.atan(0.99)         # value range [-infinity, +infinity] \n",
    "math.atanh(-0.89)       # value range (-1,1)"
   ]
  },
  {
   "cell_type": "code",
   "execution_count": 134,
   "id": "f9343afa",
   "metadata": {},
   "outputs": [
    {
     "data": {
      "text/plain": [
       "-0.008196537749912585"
      ]
     },
     "execution_count": 134,
     "metadata": {},
     "output_type": "execute_result"
    }
   ],
   "source": [
    "math.atan2(-1,122)      # 2 parameter , range [-infinity, +infinity]"
   ]
  },
  {
   "cell_type": "code",
   "execution_count": 135,
   "id": "5c701a19",
   "metadata": {},
   "outputs": [
    {
     "name": "stdout",
     "output_type": "stream",
     "text": [
      "1.3 2\n"
     ]
    }
   ],
   "source": [
    "x=0.2+1.1\n",
    "print(x,math.ceil(x))       #It rounds the number to nearest upper interger "
   ]
  },
  {
   "cell_type": "code",
   "execution_count": 136,
   "id": "f467d740",
   "metadata": {},
   "outputs": [
    {
     "data": {
      "text/plain": [
       "1"
      ]
     },
     "execution_count": 136,
     "metadata": {},
     "output_type": "execute_result"
    }
   ],
   "source": [
    "math.floor(x)           #It rounds the number to nearest lower interger "
   ]
  },
  {
   "cell_type": "code",
   "execution_count": 137,
   "id": "b4916ffc",
   "metadata": {},
   "outputs": [
    {
     "name": "stdout",
     "output_type": "stream",
     "text": [
      "220\n"
     ]
    }
   ],
   "source": [
    "print(math.comb(12,9))         \n",
    "#\"\"\"It selects the number of possiblities of k things from n items first param -> n second param -> k .n,k range [0,+infinity]\"\"\"\n",
    "#NO repetation and no order\n"
   ]
  },
  {
   "cell_type": "code",
   "execution_count": 138,
   "id": "b0538ef1",
   "metadata": {},
   "outputs": [
    {
     "data": {
      "text/plain": [
       "5.0"
      ]
     },
     "execution_count": 138,
     "metadata": {},
     "output_type": "execute_result"
    }
   ],
   "source": [
    "math.copysign(-5,1) #Takes the first parameter and puts the sign of second on it"
   ]
  },
  {
   "cell_type": "code",
   "execution_count": 139,
   "id": "e89c2388",
   "metadata": {},
   "outputs": [
    {
     "data": {
      "text/plain": [
       "1.1169973830808555e+308"
      ]
     },
     "execution_count": 139,
     "metadata": {},
     "output_type": "execute_result"
    }
   ],
   "source": [
    "math.cos(10)            #returns cosine of number  range[-infinity, +infinity]\n",
    "math.cosh(710)          #return the hyperbloic cosine of number range [-710,710] "
   ]
  },
  {
   "cell_type": "markdown",
   "id": "32369479",
   "metadata": {},
   "source": [
    "Similarly math.sin(),math.sinh(),math.tan(),math.tanh()"
   ]
  },
  {
   "cell_type": "code",
   "execution_count": 140,
   "id": "5f9205bd",
   "metadata": {},
   "outputs": [
    {
     "name": "stdout",
     "output_type": "stream",
     "text": [
      "-0.45990349068959124\n",
      "1.598433782661997e+92\n",
      "17.37088685952675\n",
      "1.0\n"
     ]
    }
   ],
   "source": [
    "print(math.sin(123))\n",
    "print(math.sinh(213))\n",
    "print(math.tan(212))\n",
    "print(math.tanh(212))"
   ]
  },
  {
   "cell_type": "code",
   "execution_count": 141,
   "id": "4fa9c7d2",
   "metadata": {},
   "outputs": [
    {
     "data": {
      "text/plain": [
       "0.9948376736367679"
      ]
     },
     "execution_count": 141,
     "metadata": {},
     "output_type": "execute_result"
    }
   ],
   "source": [
    "math.radians(57)        #convert degrees into radians "
   ]
  },
  {
   "cell_type": "code",
   "execution_count": 142,
   "id": "8cf1fb0b",
   "metadata": {},
   "outputs": [
    {
     "data": {
      "text/plain": [
       "7.615773105863909"
      ]
     },
     "execution_count": 142,
     "metadata": {},
     "output_type": "execute_result"
    }
   ],
   "source": [
    "math.dist([1,6],[8,9])      #input should be in form of an iterable\n",
    "#It is eucliean distance"
   ]
  },
  {
   "cell_type": "code",
   "execution_count": 143,
   "id": "e07e77d8",
   "metadata": {},
   "outputs": [
    {
     "data": {
      "text/plain": [
       "-0.7175367528055908"
      ]
     },
     "execution_count": 143,
     "metadata": {},
     "output_type": "execute_result"
    }
   ],
   "source": [
    "math.erf(-0.76)     # returns error function        return range -> [-1,1]"
   ]
  },
  {
   "cell_type": "code",
   "execution_count": 144,
   "id": "f8b78210",
   "metadata": {},
   "outputs": [
    {
     "data": {
      "text/plain": [
       "0.20309178757716786"
      ]
     },
     "execution_count": 144,
     "metadata": {},
     "output_type": "execute_result"
    }
   ],
   "source": [
    "math.erfc(0.9)  #returns complemnetry error finction    return range -> [0,2]"
   ]
  },
  {
   "cell_type": "code",
   "execution_count": 145,
   "id": "3286b918",
   "metadata": {},
   "outputs": [
    {
     "data": {
      "text/plain": [
       "7.38905609893065"
      ]
     },
     "execution_count": 145,
     "metadata": {},
     "output_type": "execute_result"
    }
   ],
   "source": [
    "math.exp(2)     #return e**n"
   ]
  },
  {
   "cell_type": "code",
   "execution_count": 146,
   "id": "32bd251c",
   "metadata": {},
   "outputs": [
    {
     "data": {
      "text/plain": [
       "6.38905609893065"
      ]
     },
     "execution_count": 146,
     "metadata": {},
     "output_type": "execute_result"
    }
   ],
   "source": [
    "math.expm1(2)       #return (e**n)-1"
   ]
  },
  {
   "cell_type": "code",
   "execution_count": 147,
   "id": "dedfd75f",
   "metadata": {},
   "outputs": [
    {
     "data": {
      "text/plain": [
       "1.3"
      ]
     },
     "execution_count": 147,
     "metadata": {},
     "output_type": "execute_result"
    }
   ],
   "source": [
    "math.fabs(x)        #returns the absolute value of n"
   ]
  },
  {
   "cell_type": "code",
   "execution_count": 148,
   "id": "a1bd821b",
   "metadata": {},
   "outputs": [
    {
     "data": {
      "text/plain": [
       "24"
      ]
     },
     "execution_count": 148,
     "metadata": {},
     "output_type": "execute_result"
    }
   ],
   "source": [
    "math.factorial(4)"
   ]
  },
  {
   "cell_type": "code",
   "execution_count": 149,
   "id": "b2208cf4",
   "metadata": {},
   "outputs": [
    {
     "data": {
      "text/plain": [
       "1.0"
      ]
     },
     "execution_count": 149,
     "metadata": {},
     "output_type": "execute_result"
    }
   ],
   "source": [
    "math.fmod(6,5)         # return remiander of x1/x2"
   ]
  },
  {
   "cell_type": "code",
   "execution_count": 150,
   "id": "296e6213",
   "metadata": {},
   "outputs": [
    {
     "data": {
      "text/plain": [
       "(0.5, 3)"
      ]
     },
     "execution_count": 150,
     "metadata": {},
     "output_type": "execute_result"
    }
   ],
   "source": [
    "math.frexp(4)       #result=n*(2**e)    \n",
    "#returns a tuple (result,exponent of x)"
   ]
  },
  {
   "cell_type": "code",
   "execution_count": 151,
   "id": "67012795",
   "metadata": {},
   "outputs": [
    {
     "data": {
      "text/plain": [
       "58.0"
      ]
     },
     "execution_count": 151,
     "metadata": {},
     "output_type": "execute_result"
    }
   ],
   "source": [
    "lst=[1,2,4,45,6]        \n",
    "math.fsum(lst)      #return sum if an iterable"
   ]
  },
  {
   "cell_type": "code",
   "execution_count": 152,
   "id": "904a1e36",
   "metadata": {},
   "outputs": [
    {
     "data": {
      "text/plain": [
       "5040.0"
      ]
     },
     "execution_count": 152,
     "metadata": {},
     "output_type": "execute_result"
    }
   ],
   "source": [
    "math.gamma(8)   #returns gamma function of number"
   ]
  },
  {
   "cell_type": "code",
   "execution_count": 153,
   "id": "c6e8a751",
   "metadata": {},
   "outputs": [
    {
     "data": {
      "text/plain": [
       "15"
      ]
     },
     "execution_count": 153,
     "metadata": {},
     "output_type": "execute_result"
    }
   ],
   "source": [
    "math.gcd(45,30)     #return greatest common factor of 2 numbers"
   ]
  },
  {
   "cell_type": "code",
   "execution_count": 154,
   "id": "60c59916",
   "metadata": {},
   "outputs": [
    {
     "data": {
      "text/plain": [
       "5.385164807134504"
      ]
     },
     "execution_count": 154,
     "metadata": {},
     "output_type": "execute_result"
    }
   ],
   "source": [
    "math.hypot(7,8)     # returns euclidean norm of numbers\n",
    "math.hypot(3,2,4)    #can pass multiple args"
   ]
  },
  {
   "cell_type": "code",
   "execution_count": 155,
   "id": "73b131c2",
   "metadata": {},
   "outputs": [
    {
     "data": {
      "text/plain": [
       "True"
      ]
     },
     "execution_count": 155,
     "metadata": {},
     "output_type": "execute_result"
    }
   ],
   "source": [
    "math.isclose(4,4.001,abs_tol=0.2)   #returns bool whether 2 numbers are close or not\n",
    "# abs_tol=tolerance limit"
   ]
  },
  {
   "cell_type": "code",
   "execution_count": 156,
   "id": "599101c5",
   "metadata": {},
   "outputs": [
    {
     "data": {
      "text/plain": [
       "True"
      ]
     },
     "execution_count": 156,
     "metadata": {},
     "output_type": "execute_result"
    }
   ],
   "source": [
    "math.isfinite(11)       #return whether num is finite or not"
   ]
  },
  {
   "cell_type": "code",
   "execution_count": 157,
   "id": "73e7bc68",
   "metadata": {},
   "outputs": [
    {
     "data": {
      "text/plain": [
       "False"
      ]
     },
     "execution_count": 157,
     "metadata": {},
     "output_type": "execute_result"
    }
   ],
   "source": [
    "math.isnan(1)           #return whether is NaN or not"
   ]
  },
  {
   "cell_type": "code",
   "execution_count": 158,
   "id": "d028e5ec",
   "metadata": {},
   "outputs": [
    {
     "data": {
      "text/plain": [
       "False"
      ]
     },
     "execution_count": 158,
     "metadata": {},
     "output_type": "execute_result"
    }
   ],
   "source": [
    "math.isinf(12)          #return whether num is infinite or not"
   ]
  },
  {
   "cell_type": "code",
   "execution_count": 159,
   "id": "3390b8fc",
   "metadata": {},
   "outputs": [
    {
     "data": {
      "text/plain": [
       "4"
      ]
     },
     "execution_count": 159,
     "metadata": {},
     "output_type": "execute_result"
    }
   ],
   "source": [
    "math.isqrt(24)      #rounds the sqrt to nearest lower int"
   ]
  },
  {
   "cell_type": "code",
   "execution_count": 160,
   "id": "01079a11",
   "metadata": {},
   "outputs": [
    {
     "data": {
      "text/plain": [
       "2.8284271247461903"
      ]
     },
     "execution_count": 160,
     "metadata": {},
     "output_type": "execute_result"
    }
   ],
   "source": [
    "math.sqrt(8)        #returns sqrt of number"
   ]
  },
  {
   "cell_type": "code",
   "execution_count": 161,
   "id": "9ff56ddd",
   "metadata": {},
   "outputs": [
    {
     "data": {
      "text/plain": [
       "16.0"
      ]
     },
     "execution_count": 161,
     "metadata": {},
     "output_type": "execute_result"
    }
   ],
   "source": [
    "math.ldexp(4,2)     #returns num1*(2**num2)"
   ]
  },
  {
   "cell_type": "code",
   "execution_count": 162,
   "id": "01ab465a",
   "metadata": {},
   "outputs": [
    {
     "data": {
      "text/plain": [
       "8.525161361065415"
      ]
     },
     "execution_count": 162,
     "metadata": {},
     "output_type": "execute_result"
    }
   ],
   "source": [
    "math.lgamma(8)      #returns the log gamma value"
   ]
  },
  {
   "cell_type": "code",
   "execution_count": 163,
   "id": "07f99b2f",
   "metadata": {},
   "outputs": [
    {
     "data": {
      "text/plain": [
       "1.0"
      ]
     },
     "execution_count": 163,
     "metadata": {},
     "output_type": "execute_result"
    }
   ],
   "source": [
    "math.log(2,2)       #returns the log of a number\n",
    "#If 1 arg is passed natural log is calculated \n",
    "#if 2 arg are passed num1 log base num2 is calculated"
   ]
  },
  {
   "cell_type": "code",
   "execution_count": 164,
   "id": "21a9089f",
   "metadata": {},
   "outputs": [
    {
     "data": {
      "text/plain": [
       "0.6020599913279624"
      ]
     },
     "execution_count": 164,
     "metadata": {},
     "output_type": "execute_result"
    }
   ],
   "source": [
    "math.log10(4)       #returns log bbase 10"
   ]
  },
  {
   "cell_type": "code",
   "execution_count": 165,
   "id": "0f57ce33",
   "metadata": {},
   "outputs": [
    {
     "data": {
      "text/plain": [
       "2.807354922057604"
      ]
     },
     "execution_count": 165,
     "metadata": {},
     "output_type": "execute_result"
    }
   ],
   "source": [
    "math.log2(7)        #return log base 2"
   ]
  },
  {
   "cell_type": "code",
   "execution_count": 166,
   "id": "1a1c3ccf",
   "metadata": {},
   "outputs": [
    {
     "data": {
      "text/plain": [
       "2.1972245773362196"
      ]
     },
     "execution_count": 166,
     "metadata": {},
     "output_type": "execute_result"
    }
   ],
   "source": [
    "math.log1p(8)       #returns natural log 1+num"
   ]
  },
  {
   "cell_type": "code",
   "execution_count": 167,
   "id": "4be023e1",
   "metadata": {},
   "outputs": [
    {
     "data": {
      "text/plain": [
       "336"
      ]
     },
     "execution_count": 167,
     "metadata": {},
     "output_type": "execute_result"
    }
   ],
   "source": [
    "math.perm(8,3)      #returns number of ways to choose k items from n objects with order and no repetetion"
   ]
  },
  {
   "cell_type": "code",
   "execution_count": 168,
   "id": "b5c8ccd3",
   "metadata": {},
   "outputs": [
    {
     "data": {
      "text/plain": [
       "8.0"
      ]
     },
     "execution_count": 168,
     "metadata": {},
     "output_type": "execute_result"
    }
   ],
   "source": [
    "math.pow(2,3)   #returns num1**num2"
   ]
  },
  {
   "cell_type": "code",
   "execution_count": 169,
   "id": "7a2a4648",
   "metadata": {},
   "outputs": [
    {
     "data": {
      "text/plain": [
       "2160"
      ]
     },
     "execution_count": 169,
     "metadata": {},
     "output_type": "execute_result"
    }
   ],
   "source": [
    "math.prod(lst)  #return product of an iterable"
   ]
  },
  {
   "cell_type": "code",
   "execution_count": 170,
   "id": "df85f8c4",
   "metadata": {},
   "outputs": [
    {
     "data": {
      "text/plain": [
       "2.0"
      ]
     },
     "execution_count": 170,
     "metadata": {},
     "output_type": "execute_result"
    }
   ],
   "source": [
    "math.remainder(56,6)        #returns the remiander num1%num2"
   ]
  },
  {
   "cell_type": "code",
   "execution_count": 171,
   "id": "002a04c1",
   "metadata": {},
   "outputs": [
    {
     "name": "stdout",
     "output_type": "stream",
     "text": [
      "<class 'int'> 2\n"
     ]
    }
   ],
   "source": [
    "x=math.trunc(2.9987)        #removes the decimal part and converts the num into int\n",
    "print(type(x),x)"
   ]
  },
  {
   "cell_type": "markdown",
   "id": "3fa1818d",
   "metadata": {},
   "source": [
    "Random Library"
   ]
  },
  {
   "cell_type": "code",
   "execution_count": 172,
   "id": "1f31b9a7",
   "metadata": {},
   "outputs": [],
   "source": [
    "import random"
   ]
  },
  {
   "cell_type": "code",
   "execution_count": 173,
   "id": "09bd40bd",
   "metadata": {},
   "outputs": [
    {
     "name": "stdout",
     "output_type": "stream",
     "text": [
      "(3, (2147483648, 163610392, 3414454684, 213706556, 4107842212, 2345084137, 1370141154, 308032203, 1333762497, 62788148, 3897778028, 747877958, 1467715487, 3456091536, 2761063683, 1618744790, 1478419815, 1764113510, 846282508, 2723886408, 4169581479, 1502702845, 2646586442, 2469253028, 2959591262, 4098450497, 884511481, 335884721, 3599209546, 513139374, 3325056467, 728657986, 4258769976, 1345736399, 2025918085, 3316918730, 2943630414, 2227403036, 2570027851, 3647123330, 1428539568, 3871201705, 1751794003, 270064251, 1795576567, 1369598507, 618682879, 2451807245, 529121120, 3890334672, 1711572734, 3489061444, 651351815, 4134812839, 69921281, 166843555, 3639104358, 1220147039, 1949863666, 1735631448, 1274775129, 2568486724, 1135749407, 4184445328, 1474571425, 2839972547, 1408182003, 244421551, 3350038055, 1060682618, 4280572247, 1303862814, 2374039070, 2105482037, 3963285136, 1813783878, 3843306449, 1550621711, 3201633678, 3993032609, 2696521485, 1737817996, 2171565928, 2455244480, 1159916282, 512285753, 3858590612, 4026374369, 1315072297, 1616330716, 2575452881, 2244992328, 3829642776, 3110057432, 2014659424, 2754832975, 325146004, 2099885769, 2020308731, 1285440480, 3077009376, 2090384422, 1391632928, 3117180829, 446498285, 441350144, 2181843108, 2070907054, 159173329, 2146887474, 2552448310, 2804228090, 1104855231, 3423489232, 571551281, 2985027384, 2539165306, 297570257, 2726511311, 4153586362, 2738372079, 136762299, 632694665, 2321868360, 405387135, 3889854117, 3664524696, 2155352969, 3438225114, 1479423152, 3490667914, 1428754172, 4202177206, 3666900963, 1589695458, 1376009076, 2045844259, 2570438673, 4062196720, 2557681198, 3588069788, 3816335341, 1913661670, 2760431498, 473535928, 886428644, 3042733200, 3514611376, 1727272720, 1352272367, 1182350217, 2770160529, 1408757716, 1236436838, 2638114048, 2288958075, 1907848138, 2513183981, 430007381, 1410996817, 2893861882, 93734637, 889812797, 1746269177, 2955589432, 2154616085, 2341907336, 3667241034, 3612199480, 3276336868, 2147135321, 1218242541, 4191308092, 3390432817, 3936122595, 2082616352, 2829353186, 2952040553, 713551976, 2561783586, 1479607462, 3332321760, 1309567703, 22089850, 2486755466, 381044148, 159099040, 388730878, 609513646, 2552905871, 3544022117, 3805737844, 2227334610, 2494928250, 3378607757, 3524817012, 2139887110, 1238988590, 1805829162, 517563348, 3523030613, 2561647659, 2457033094, 110524459, 3060194499, 1371354234, 3106249499, 654135201, 3060697207, 1782090502, 3493197751, 2011962950, 3463067072, 2125293843, 3618129160, 264083333, 1779954467, 2211720346, 4182937327, 2941369992, 3794523672, 1330988599, 234225856, 90287582, 2051877036, 3960155203, 2325302511, 1243082884, 2254641221, 3139095438, 2202182478, 2713924425, 891524757, 4005270835, 387403269, 1030701411, 2326221003, 3972817848, 37068874, 4188732375, 4170743689, 1563571666, 3264605422, 1224007347, 2388878847, 2696076550, 1160443253, 3998214265, 3911940885, 309058713, 1299838128, 301738434, 1868013930, 2026352840, 29203600, 99450731, 2742148479, 1264016868, 2461978269, 3930600891, 158658524, 1095791153, 431156709, 1089146157, 3086708774, 3913479923, 3488886065, 662837957, 512314933, 2687580555, 1640087888, 1842891598, 2484638237, 1503175697, 2919500073, 935426647, 3390674322, 3710660216, 3948785403, 3859267761, 886850881, 3266066614, 2405923502, 1778892505, 1078419801, 1202668153, 394351055, 415838974, 3983768587, 825332883, 3634217853, 1472412051, 1551030949, 931843079, 427180435, 725935900, 4262431060, 939768058, 1301081958, 636087235, 271721944, 2204560285, 2497269100, 2473167459, 21620607, 3335975034, 3517674840, 3222417599, 3447164101, 1339565348, 3349704368, 3857516299, 1095981426, 544959111, 234180808, 2480014075, 3949935942, 1047216236, 589300123, 950190608, 1291006957, 424096100, 1214133370, 2491845264, 1910609750, 515729687, 1468575130, 3508223487, 3358189942, 3760910659, 662492595, 3290816602, 1495146986, 3554891657, 2379549908, 1284425649, 3908438764, 500208693, 370734844, 1862397830, 2496258349, 643941428, 3847013908, 430464089, 757441939, 4234893488, 2402089443, 3885899272, 123955394, 2911486454, 3570245885, 305823305, 3521973682, 1134143933, 1822715901, 3771209687, 3765835594, 503306148, 2350585095, 74213553, 244012694, 802358191, 2625353188, 2628956054, 145736569, 2172920852, 1568086026, 733619507, 145496153, 2787717823, 880654765, 1331585910, 1509465018, 2573573594, 1824150333, 1865181627, 4223844607, 2293788278, 2772801702, 3925583439, 356447406, 2275228672, 1673212648, 2042698565, 551936189, 3909795553, 567834322, 338699308, 2642651442, 3561630650, 3766126637, 274749558, 223928195, 3276818380, 3595671621, 1529598288, 3512135371, 990408170, 2187846354, 952429742, 3852385894, 1322368093, 163246556, 3259930194, 3283300532, 323737423, 1292813868, 3393309894, 3713892438, 1677062690, 2298850951, 1458909664, 1403814726, 2831530730, 4228128557, 3781052071, 925731853, 4201869440, 875580200, 1391612016, 1456821743, 1236774598, 655110906, 2237702866, 2535339850, 3500123217, 1831097575, 2339509975, 3223214024, 3242702888, 3348863740, 4116159753, 2639186856, 1354770100, 117843731, 1020244916, 351111739, 1986396569, 424269361, 2196821979, 2537273993, 1099950039, 2929886044, 2892244184, 1264517853, 203709692, 2382681067, 742099144, 1432956886, 1044385927, 429332988, 3613380401, 49444759, 756116338, 1251280805, 2433090297, 780894170, 323183842, 1323214767, 2433951660, 2719446105, 3017944748, 2520180279, 756337248, 1982568823, 2576088552, 63554701, 1246766315, 308294942, 1783051840, 2559719156, 2508295691, 2220094509, 1885560612, 1389554963, 2409332505, 3551025026, 935038925, 2282550240, 567151253, 1056625473, 1361090054, 1830928174, 1948837568, 604804332, 175213352, 1616532552, 2864856813, 3664285213, 1796704245, 2207154019, 1703148797, 3029510914, 3916216499, 3046424967, 2469057762, 3688516508, 4174594823, 826735065, 3609658778, 2706825366, 1721894425, 4102204064, 2372640683, 873998586, 4645688, 342108091, 1052229759, 2885481328, 3846566736, 2725335273, 3141905149, 1944588128, 3338309352, 1217293365, 758904441, 908714149, 1857017353, 3158344528, 407367111, 1832778363, 2870192017, 195421260, 2082695712, 2299786895, 3924633962, 3816319308, 4174469444, 352017743, 3919653893, 3552084113, 4084281710, 217019257, 2220897032, 2831356070, 517986126, 2126042467, 3500893938, 486038748, 282202472, 62418345, 4243706353, 3034591456, 2928836324, 2433510828, 1171220900, 3151109281, 4133436617, 3496079655, 889039997, 3169404797, 4218370257, 3184524119, 3222673742, 955349275, 2029908831, 410243278, 2276423897, 4200509024, 427092757, 2393598070, 1849682457, 3026238934, 2818453350, 2830402705, 910713912, 1567238953, 2857806016, 4178086031, 3618315352, 2721672244, 1362169819, 2879403111, 944177284, 3409592433, 3148312349, 117073596, 2159545286, 667249336, 442234702, 1437245782, 1195451558, 3555215932, 3898790982, 2775911198, 2796500044, 4192572470, 61910163, 1144565006, 1759081450, 4217561358, 3851781926, 1895855845, 2978681379, 3636215304, 1364798791, 791350095, 1253102225, 2548766165, 4180900150, 1987462070, 1190937574, 312972162, 1033899022, 3652779080, 1460108538, 2200492031, 2596682597, 2194804720, 1702535764, 2371568706, 3426924971, 1084035508, 1270666209, 2966270095, 3594748641, 2314251442, 662353580, 4005784134, 4037513750, 2711695041, 402334646, 906313207, 1781494222, 624), None)\n"
     ]
    }
   ],
   "source": [
    "random.seed(1)       #  it is used to initialize random number generator ,so that the random number series is reproducible\n",
    "print(random.getstate())"
   ]
  },
  {
   "cell_type": "code",
   "execution_count": 174,
   "id": "e109dcfb",
   "metadata": {},
   "outputs": [
    {
     "name": "stdout",
     "output_type": "stream",
     "text": [
      "(3, (2147483648, 163610392, 3414454684, 213706556, 4107842212, 2345084137, 1370141154, 308032203, 1333762497, 62788148, 3897778028, 747877958, 1467715487, 3456091536, 2761063683, 1618744790, 1478419815, 1764113510, 846282508, 2723886408, 4169581479, 1502702845, 2646586442, 2469253028, 2959591262, 4098450497, 884511481, 335884721, 3599209546, 513139374, 3325056467, 728657986, 4258769976, 1345736399, 2025918085, 3316918730, 2943630414, 2227403036, 2570027851, 3647123330, 1428539568, 3871201705, 1751794003, 270064251, 1795576567, 1369598507, 618682879, 2451807245, 529121120, 3890334672, 1711572734, 3489061444, 651351815, 4134812839, 69921281, 166843555, 3639104358, 1220147039, 1949863666, 1735631448, 1274775129, 2568486724, 1135749407, 4184445328, 1474571425, 2839972547, 1408182003, 244421551, 3350038055, 1060682618, 4280572247, 1303862814, 2374039070, 2105482037, 3963285136, 1813783878, 3843306449, 1550621711, 3201633678, 3993032609, 2696521485, 1737817996, 2171565928, 2455244480, 1159916282, 512285753, 3858590612, 4026374369, 1315072297, 1616330716, 2575452881, 2244992328, 3829642776, 3110057432, 2014659424, 2754832975, 325146004, 2099885769, 2020308731, 1285440480, 3077009376, 2090384422, 1391632928, 3117180829, 446498285, 441350144, 2181843108, 2070907054, 159173329, 2146887474, 2552448310, 2804228090, 1104855231, 3423489232, 571551281, 2985027384, 2539165306, 297570257, 2726511311, 4153586362, 2738372079, 136762299, 632694665, 2321868360, 405387135, 3889854117, 3664524696, 2155352969, 3438225114, 1479423152, 3490667914, 1428754172, 4202177206, 3666900963, 1589695458, 1376009076, 2045844259, 2570438673, 4062196720, 2557681198, 3588069788, 3816335341, 1913661670, 2760431498, 473535928, 886428644, 3042733200, 3514611376, 1727272720, 1352272367, 1182350217, 2770160529, 1408757716, 1236436838, 2638114048, 2288958075, 1907848138, 2513183981, 430007381, 1410996817, 2893861882, 93734637, 889812797, 1746269177, 2955589432, 2154616085, 2341907336, 3667241034, 3612199480, 3276336868, 2147135321, 1218242541, 4191308092, 3390432817, 3936122595, 2082616352, 2829353186, 2952040553, 713551976, 2561783586, 1479607462, 3332321760, 1309567703, 22089850, 2486755466, 381044148, 159099040, 388730878, 609513646, 2552905871, 3544022117, 3805737844, 2227334610, 2494928250, 3378607757, 3524817012, 2139887110, 1238988590, 1805829162, 517563348, 3523030613, 2561647659, 2457033094, 110524459, 3060194499, 1371354234, 3106249499, 654135201, 3060697207, 1782090502, 3493197751, 2011962950, 3463067072, 2125293843, 3618129160, 264083333, 1779954467, 2211720346, 4182937327, 2941369992, 3794523672, 1330988599, 234225856, 90287582, 2051877036, 3960155203, 2325302511, 1243082884, 2254641221, 3139095438, 2202182478, 2713924425, 891524757, 4005270835, 387403269, 1030701411, 2326221003, 3972817848, 37068874, 4188732375, 4170743689, 1563571666, 3264605422, 1224007347, 2388878847, 2696076550, 1160443253, 3998214265, 3911940885, 309058713, 1299838128, 301738434, 1868013930, 2026352840, 29203600, 99450731, 2742148479, 1264016868, 2461978269, 3930600891, 158658524, 1095791153, 431156709, 1089146157, 3086708774, 3913479923, 3488886065, 662837957, 512314933, 2687580555, 1640087888, 1842891598, 2484638237, 1503175697, 2919500073, 935426647, 3390674322, 3710660216, 3948785403, 3859267761, 886850881, 3266066614, 2405923502, 1778892505, 1078419801, 1202668153, 394351055, 415838974, 3983768587, 825332883, 3634217853, 1472412051, 1551030949, 931843079, 427180435, 725935900, 4262431060, 939768058, 1301081958, 636087235, 271721944, 2204560285, 2497269100, 2473167459, 21620607, 3335975034, 3517674840, 3222417599, 3447164101, 1339565348, 3349704368, 3857516299, 1095981426, 544959111, 234180808, 2480014075, 3949935942, 1047216236, 589300123, 950190608, 1291006957, 424096100, 1214133370, 2491845264, 1910609750, 515729687, 1468575130, 3508223487, 3358189942, 3760910659, 662492595, 3290816602, 1495146986, 3554891657, 2379549908, 1284425649, 3908438764, 500208693, 370734844, 1862397830, 2496258349, 643941428, 3847013908, 430464089, 757441939, 4234893488, 2402089443, 3885899272, 123955394, 2911486454, 3570245885, 305823305, 3521973682, 1134143933, 1822715901, 3771209687, 3765835594, 503306148, 2350585095, 74213553, 244012694, 802358191, 2625353188, 2628956054, 145736569, 2172920852, 1568086026, 733619507, 145496153, 2787717823, 880654765, 1331585910, 1509465018, 2573573594, 1824150333, 1865181627, 4223844607, 2293788278, 2772801702, 3925583439, 356447406, 2275228672, 1673212648, 2042698565, 551936189, 3909795553, 567834322, 338699308, 2642651442, 3561630650, 3766126637, 274749558, 223928195, 3276818380, 3595671621, 1529598288, 3512135371, 990408170, 2187846354, 952429742, 3852385894, 1322368093, 163246556, 3259930194, 3283300532, 323737423, 1292813868, 3393309894, 3713892438, 1677062690, 2298850951, 1458909664, 1403814726, 2831530730, 4228128557, 3781052071, 925731853, 4201869440, 875580200, 1391612016, 1456821743, 1236774598, 655110906, 2237702866, 2535339850, 3500123217, 1831097575, 2339509975, 3223214024, 3242702888, 3348863740, 4116159753, 2639186856, 1354770100, 117843731, 1020244916, 351111739, 1986396569, 424269361, 2196821979, 2537273993, 1099950039, 2929886044, 2892244184, 1264517853, 203709692, 2382681067, 742099144, 1432956886, 1044385927, 429332988, 3613380401, 49444759, 756116338, 1251280805, 2433090297, 780894170, 323183842, 1323214767, 2433951660, 2719446105, 3017944748, 2520180279, 756337248, 1982568823, 2576088552, 63554701, 1246766315, 308294942, 1783051840, 2559719156, 2508295691, 2220094509, 1885560612, 1389554963, 2409332505, 3551025026, 935038925, 2282550240, 567151253, 1056625473, 1361090054, 1830928174, 1948837568, 604804332, 175213352, 1616532552, 2864856813, 3664285213, 1796704245, 2207154019, 1703148797, 3029510914, 3916216499, 3046424967, 2469057762, 3688516508, 4174594823, 826735065, 3609658778, 2706825366, 1721894425, 4102204064, 2372640683, 873998586, 4645688, 342108091, 1052229759, 2885481328, 3846566736, 2725335273, 3141905149, 1944588128, 3338309352, 1217293365, 758904441, 908714149, 1857017353, 3158344528, 407367111, 1832778363, 2870192017, 195421260, 2082695712, 2299786895, 3924633962, 3816319308, 4174469444, 352017743, 3919653893, 3552084113, 4084281710, 217019257, 2220897032, 2831356070, 517986126, 2126042467, 3500893938, 486038748, 282202472, 62418345, 4243706353, 3034591456, 2928836324, 2433510828, 1171220900, 3151109281, 4133436617, 3496079655, 889039997, 3169404797, 4218370257, 3184524119, 3222673742, 955349275, 2029908831, 410243278, 2276423897, 4200509024, 427092757, 2393598070, 1849682457, 3026238934, 2818453350, 2830402705, 910713912, 1567238953, 2857806016, 4178086031, 3618315352, 2721672244, 1362169819, 2879403111, 944177284, 3409592433, 3148312349, 117073596, 2159545286, 667249336, 442234702, 1437245782, 1195451558, 3555215932, 3898790982, 2775911198, 2796500044, 4192572470, 61910163, 1144565006, 1759081450, 4217561358, 3851781926, 1895855845, 2978681379, 3636215304, 1364798791, 791350095, 1253102225, 2548766165, 4180900150, 1987462070, 1190937574, 312972162, 1033899022, 3652779080, 1460108538, 2200492031, 2596682597, 2194804720, 1702535764, 2371568706, 3426924971, 1084035508, 1270666209, 2966270095, 3594748641, 2314251442, 662353580, 4005784134, 4037513750, 2711695041, 402334646, 906313207, 1781494222, 624), None)\n"
     ]
    }
   ],
   "source": [
    "print(random.getstate())    #returns the current state of random number generator"
   ]
  },
  {
   "cell_type": "code",
   "execution_count": 175,
   "id": "869ebf02",
   "metadata": {},
   "outputs": [
    {
     "name": "stdout",
     "output_type": "stream",
     "text": [
      "0.13436424411240122\n",
      "0.8474337369372327\n",
      "0.8474337369372327\n"
     ]
    }
   ],
   "source": [
    "print(random.random())\n",
    "state=random.getstate()\n",
    "print(random.random())      \n",
    "(random.setstate(state))        #setstate is used to restore the state of RNG to specified state\n",
    "print(random.random())"
   ]
  },
  {
   "cell_type": "code",
   "execution_count": 176,
   "id": "2520f3ca",
   "metadata": {},
   "outputs": [
    {
     "name": "stdout",
     "output_type": "stream",
     "text": [
      "12\n"
     ]
    }
   ],
   "source": [
    "print(random.getrandbits(4))        #it returns an interger of the specided number of bits "
   ]
  },
  {
   "cell_type": "code",
   "execution_count": 177,
   "id": "226b2703",
   "metadata": {},
   "outputs": [
    {
     "name": "stdout",
     "output_type": "stream",
     "text": [
      "54\n"
     ]
    }
   ],
   "source": [
    "print(random.randrange(48,98,6))       #returns an random int in the given range\n",
    "# upper linit and lower limit should be int\n",
    "#num1 -> lower limit\n",
    "#num2 ->upper limit\n",
    "#num3 -> step after at which num is generated"
   ]
  },
  {
   "cell_type": "code",
   "execution_count": 178,
   "id": "f6e07438",
   "metadata": {},
   "outputs": [
    {
     "data": {
      "text/plain": [
       "40"
      ]
     },
     "execution_count": 178,
     "metadata": {},
     "output_type": "execute_result"
    }
   ],
   "source": [
    "random.randint(8,90)        #returns an random int in the given range"
   ]
  },
  {
   "cell_type": "code",
   "execution_count": 179,
   "id": "eae786f0",
   "metadata": {},
   "outputs": [
    {
     "data": {
      "text/plain": [
       "2"
      ]
     },
     "execution_count": 179,
     "metadata": {},
     "output_type": "execute_result"
    }
   ],
   "source": [
    "lst=[1,2,3,4,5,6,4546,6,45,64645,645,6,45,645]\n",
    "random.choice(lst)      # returns a random element from an iterable"
   ]
  },
  {
   "cell_type": "code",
   "execution_count": 180,
   "id": "7d952e0c",
   "metadata": {},
   "outputs": [
    {
     "data": {
      "text/plain": [
       "[4546]"
      ]
     },
     "execution_count": 180,
     "metadata": {},
     "output_type": "execute_result"
    }
   ],
   "source": [
    "random.choices(lst)     #return random element in form of a list"
   ]
  },
  {
   "cell_type": "code",
   "execution_count": 181,
   "id": "b0b8b389",
   "metadata": {},
   "outputs": [
    {
     "name": "stdout",
     "output_type": "stream",
     "text": [
      "[5, 45, 3, 6, 6, 64645, 1, 45, 2, 4, 4546, 645, 645, 6]\n"
     ]
    }
   ],
   "source": [
    "random.shuffle(lst)     #shuffles the iterable in random order\n",
    "print(lst)  "
   ]
  },
  {
   "cell_type": "code",
   "execution_count": 182,
   "id": "7ea9391d",
   "metadata": {},
   "outputs": [
    {
     "data": {
      "text/plain": [
       "[6, 645, 6, 4]"
      ]
     },
     "execution_count": 182,
     "metadata": {},
     "output_type": "execute_result"
    }
   ],
   "source": [
    "random.sample(lst,4)        #returns the random sample from the iterable \n",
    "# arg1 -> iterable  arg2 -> sample size"
   ]
  },
  {
   "cell_type": "code",
   "execution_count": 183,
   "id": "f207245b",
   "metadata": {},
   "outputs": [
    {
     "data": {
      "text/plain": [
       "0.9452706955539223"
      ]
     },
     "execution_count": 183,
     "metadata": {},
     "output_type": "execute_result"
    }
   ],
   "source": [
    "random.random()     #returns a random float  number between 0 and 1"
   ]
  },
  {
   "cell_type": "code",
   "execution_count": 184,
   "id": "658946ae",
   "metadata": {},
   "outputs": [
    {
     "data": {
      "text/plain": [
       "7.605709830445934"
      ]
     },
     "execution_count": 184,
     "metadata": {},
     "output_type": "execute_result"
    }
   ],
   "source": [
    "random.uniform(4,8)     #returns a random float number in given range"
   ]
  },
  {
   "cell_type": "code",
   "execution_count": 185,
   "id": "482cd25f",
   "metadata": {},
   "outputs": [
    {
     "name": "stdout",
     "output_type": "stream",
     "text": [
      "21.106164237960233\n"
     ]
    }
   ],
   "source": [
    "print(random.triangular(20,30,24))      #returns random number in given range \n",
    "# arg1 -> lower limit\n",
    "# arg2 -> upper limit\n",
    "# arg3 -> a number used to weigh result in a direction,by default this is mid point"
   ]
  },
  {
   "cell_type": "code",
   "execution_count": 186,
   "id": "0dc56f01",
   "metadata": {},
   "outputs": [
    {
     "data": {
      "text/plain": [
       "0.4245426372274213"
      ]
     },
     "execution_count": 186,
     "metadata": {},
     "output_type": "execute_result"
    }
   ],
   "source": [
    "random.betavariate(87,98)       #returns float between 0 and 1,based on beta distriution\n",
    "# arg1 -> alpha\n",
    "# arg2 -> beta"
   ]
  },
  {
   "cell_type": "code",
   "execution_count": 187,
   "id": "2b3a7d7d",
   "metadata": {},
   "outputs": [
    {
     "data": {
      "text/plain": [
       "2902.365267826598"
      ]
     },
     "execution_count": 187,
     "metadata": {},
     "output_type": "execute_result"
    }
   ],
   "source": [
    "random.gammavariate(87,34)  #return random value based on gamma distibution\n",
    "# arg1 -> alpha\n",
    "# arg2 -> beta"
   ]
  },
  {
   "cell_type": "code",
   "execution_count": 188,
   "id": "8750219b",
   "metadata": {},
   "outputs": [
    {
     "data": {
      "text/plain": [
       "0.003050328601323414"
      ]
     },
     "execution_count": 188,
     "metadata": {},
     "output_type": "execute_result"
    }
   ],
   "source": [
    "random.expovariate(87)      #return random value based exponential distribution\n",
    "# 1 arg"
   ]
  },
  {
   "cell_type": "code",
   "execution_count": 189,
   "id": "c2c03522",
   "metadata": {},
   "outputs": [
    {
     "data": {
      "text/plain": [
       "97.0729678761336"
      ]
     },
     "execution_count": 189,
     "metadata": {},
     "output_type": "execute_result"
    }
   ],
   "source": [
    "random.gauss(98,-11)        #Returns a random float number based on the Gaussian distribution\n",
    "# 1-2 args \n",
    "# arg1 -> mean\n",
    "# arg2 -> standard deviation"
   ]
  },
  {
   "cell_type": "code",
   "execution_count": 190,
   "id": "cf5d5abf",
   "metadata": {},
   "outputs": [
    {
     "data": {
      "text/plain": [
       "394914248316684.6"
      ]
     },
     "execution_count": 190,
     "metadata": {},
     "output_type": "execute_result"
    }
   ],
   "source": [
    "random.lognormvariate(34,4)     #Returns a random float number based on a log-normal distribution\n",
    "# 2 args\n",
    "# arg1 -> mean\n",
    "# arg2 -> standard deviation"
   ]
  },
  {
   "cell_type": "code",
   "execution_count": 191,
   "id": "5d4c1689",
   "metadata": {},
   "outputs": [
    {
     "data": {
      "text/plain": [
       "214.62450263355615"
      ]
     },
     "execution_count": 191,
     "metadata": {},
     "output_type": "execute_result"
    }
   ],
   "source": [
    "random.normalvariate(213,6)     #Returns a random float number based on the normal distribution\n",
    "# arg1 -> mean\n",
    "# arg2 -> standard deviation\n"
   ]
  },
  {
   "cell_type": "code",
   "execution_count": 192,
   "id": "7bafca5b",
   "metadata": {},
   "outputs": [
    {
     "data": {
      "text/plain": [
       "1.9506961352077585"
      ]
     },
     "execution_count": 192,
     "metadata": {},
     "output_type": "execute_result"
    }
   ],
   "source": [
    "random.vonmisesvariate(8,6)     #Returns a random float number based on the von Mises distribution\n",
    "# arg1 -> mean angle in radians\n",
    "# arg2 -> kappa which is concentration parameter"
   ]
  },
  {
   "cell_type": "code",
   "execution_count": 193,
   "id": "fb8f0d6d",
   "metadata": {},
   "outputs": [
    {
     "data": {
      "text/plain": [
       "1.0011328433889457"
      ]
     },
     "execution_count": 193,
     "metadata": {},
     "output_type": "execute_result"
    }
   ],
   "source": [
    "random.paretovariate(2434)      #\tReturns a random float number based on the Pareto distribution\n",
    "# arg1 -> alpha"
   ]
  },
  {
   "cell_type": "code",
   "execution_count": 194,
   "id": "e92d27f4",
   "metadata": {},
   "outputs": [
    {
     "data": {
      "text/plain": [
       "440.90570464269183"
      ]
     },
     "execution_count": 194,
     "metadata": {},
     "output_type": "execute_result"
    }
   ],
   "source": [
    "random.weibullvariate(445,65)  #Returns a random float number based on the Weibull distribution\n",
    "# arg1 -> alpha\n",
    "# arg2 -> beta"
   ]
  },
  {
   "cell_type": "markdown",
   "id": "8821fafb",
   "metadata": {},
   "source": [
    "DateTime Library"
   ]
  },
  {
   "cell_type": "code",
   "execution_count": 195,
   "id": "e0826a45",
   "metadata": {},
   "outputs": [],
   "source": [
    "import datetime"
   ]
  },
  {
   "cell_type": "markdown",
   "id": "d3647706",
   "metadata": {},
   "source": [
    "Date Module"
   ]
  },
  {
   "cell_type": "code",
   "execution_count": 196,
   "id": "2287bec0",
   "metadata": {},
   "outputs": [],
   "source": [
    "from datetime import date"
   ]
  },
  {
   "cell_type": "code",
   "execution_count": 197,
   "id": "883a54a9",
   "metadata": {},
   "outputs": [
    {
     "data": {
      "text/plain": [
       "datetime.date(2025, 6, 6)"
      ]
     },
     "execution_count": 197,
     "metadata": {},
     "output_type": "execute_result"
    }
   ],
   "source": [
    "t=date.today()      #gives you today's date in [YYYY,MM,DD]\n",
    "t"
   ]
  },
  {
   "cell_type": "code",
   "execution_count": 198,
   "id": "2a09ad60",
   "metadata": {},
   "outputs": [
    {
     "name": "stdout",
     "output_type": "stream",
     "text": [
      "6 6 2025\n"
     ]
    }
   ],
   "source": [
    "y=t.year\n",
    "m=t.month\n",
    "d=t.day\n",
    "print(d,m,y)            #This is done so that we can store year , month , date seprately"
   ]
  },
  {
   "cell_type": "code",
   "execution_count": 199,
   "id": "f65c99d3",
   "metadata": {},
   "outputs": [
    {
     "name": "stdout",
     "output_type": "stream",
     "text": [
      "2004-02-29 <class 'datetime.date'>\n"
     ]
    }
   ],
   "source": [
    "my_date=date(2004,2,29)             #if i put dd wrong for the according month it will give an error,this is also true for 29/02 apart from leap year\n",
    "print(my_date,type(my_date))        #this will convert integers into a date and i can't pass an whole iterable in it "
   ]
  },
  {
   "cell_type": "code",
   "execution_count": 200,
   "id": "291b776f",
   "metadata": {},
   "outputs": [
    {
     "data": {
      "text/plain": [
       "datetime.date(1, 1, 1)"
      ]
     },
     "execution_count": 200,
     "metadata": {},
     "output_type": "execute_result"
    }
   ],
   "source": [
    "date.min            #gives the minimun/earliest representable date"
   ]
  },
  {
   "cell_type": "code",
   "execution_count": 201,
   "id": "311abfaf",
   "metadata": {},
   "outputs": [
    {
     "data": {
      "text/plain": [
       "datetime.date(9999, 12, 31)"
      ]
     },
     "execution_count": 201,
     "metadata": {},
     "output_type": "execute_result"
    }
   ],
   "source": [
    "date.max           #gives the maximun/latest representable date"
   ]
  },
  {
   "cell_type": "code",
   "execution_count": 202,
   "id": "2c19dc2f",
   "metadata": {},
   "outputs": [
    {
     "name": "stdout",
     "output_type": "stream",
     "text": [
      "0:00:00.000001\n"
     ]
    }
   ],
   "source": [
    "# re=date.today().resolution\n",
    "# print(re)   \n",
    "\n",
    "# re1=datetime.datetime.now().resolution\n",
    "# print(re1)\n",
    "\n",
    "de1=datetime.datetime(2004,1,18,12,34,5,654)        #[YYYY,MM,DD,HH,mm,ss,ms]\n",
    "print(de1.resolution)           #This giver ths smalest amt of time that can be measured between two dates"
   ]
  },
  {
   "cell_type": "code",
   "execution_count": 203,
   "id": "77741b23",
   "metadata": {},
   "outputs": [
    {
     "name": "stdout",
     "output_type": "stream",
     "text": [
      "7810 days, 0:00:00\n"
     ]
    }
   ],
   "source": [
    "date1=date(2004,1,18)\n",
    "date2=date(2025,6,6)\n",
    "r=date2-date1\n",
    "print(r)"
   ]
  },
  {
   "cell_type": "code",
   "execution_count": 204,
   "id": "62ef4e76",
   "metadata": {},
   "outputs": [
    {
     "name": "stdout",
     "output_type": "stream",
     "text": [
      "7670 days, 12:48:29.000335\n"
     ]
    }
   ],
   "source": [
    "d1=datetime.datetime(2004,1,18,22,34,5,654)\n",
    "d2=datetime.datetime(2025,1,18,11,22,34,989)\n",
    "res=d2-d1\n",
    "print(res)          #using this we can find out the difference between two dates"
   ]
  },
  {
   "cell_type": "code",
   "execution_count": 205,
   "id": "b01c18c5",
   "metadata": {},
   "outputs": [
    {
     "data": {
      "text/plain": [
       "'Sat Jan 18 00:00:00 2025'"
      ]
     },
     "execution_count": 205,
     "metadata": {},
     "output_type": "execute_result"
    }
   ],
   "source": [
    "date.ctime(d2) "
   ]
  },
  {
   "cell_type": "code",
   "execution_count": 206,
   "id": "358331af",
   "metadata": {},
   "outputs": [
    {
     "name": "stdout",
     "output_type": "stream",
     "text": [
      "Fri Jun  6 14:23:41 2025\n"
     ]
    },
    {
     "data": {
      "text/plain": [
       "1749200021.4241316"
      ]
     },
     "execution_count": 206,
     "metadata": {},
     "output_type": "execute_result"
    }
   ],
   "source": [
    "import time\n",
    "crtime=time.time()\n",
    "print(time.ctime(crtime))          #gives the current time\n",
    "\n",
    "time.time()             #gives current time in seconds from epoch(1 jan 1970 00:00:00"
   ]
  },
  {
   "cell_type": "code",
   "execution_count": 207,
   "id": "a2e539be",
   "metadata": {},
   "outputs": [
    {
     "data": {
      "text/plain": [
       "datetime.date(2025, 1, 8)"
      ]
     },
     "execution_count": 207,
     "metadata": {},
     "output_type": "execute_result"
    }
   ],
   "source": [
    "date.fromisocalendar(2025,2,3)          #Returns date from ISO calender i.e from 1 Jan of that year\n",
    "# Input [YYYY,WW,DD]"
   ]
  },
  {
   "cell_type": "code",
   "execution_count": 208,
   "id": "b5ede285",
   "metadata": {},
   "outputs": [
    {
     "name": "stdout",
     "output_type": "stream",
     "text": [
      "2023-04-01\n"
     ]
    }
   ],
   "source": [
    "s=date.fromisoformat('2023-04-01')            # will only take value in single inverted comma values\n",
    "print(s)"
   ]
  },
  {
   "cell_type": "code",
   "execution_count": null,
   "id": "3d68613c",
   "metadata": {},
   "outputs": [
    {
     "data": {
      "text/plain": [
       "datetime.IsoCalendarDate(year=2023, week=13, weekday=6)"
      ]
     },
     "execution_count": 212,
     "metadata": {},
     "output_type": "execute_result"
    }
   ],
   "source": [
    "date.isocalendar(s)         #takes datetime.datetime as inout ,doesn't take str or intas input\n",
    "# return (Year,week ,weekday)       weekday -> monday=1-sundday=7"
   ]
  },
  {
   "cell_type": "code",
   "execution_count": null,
   "id": "e6761dc0",
   "metadata": {},
   "outputs": [
    {
     "data": {
      "text/plain": [
       "6"
      ]
     },
     "execution_count": 213,
     "metadata": {},
     "output_type": "execute_result"
    }
   ],
   "source": [
    "date.isoweekday(s)      #returns the weekday of date"
   ]
  },
  {
   "cell_type": "code",
   "execution_count": null,
   "id": "28acffa1",
   "metadata": {},
   "outputs": [
    {
     "data": {
      "text/plain": [
       "'2025-06-06'"
      ]
     },
     "execution_count": 215,
     "metadata": {},
     "output_type": "execute_result"
    }
   ],
   "source": [
    "date.isoformat(date2)       #returns the date in iso format "
   ]
  },
  {
   "cell_type": "code",
   "execution_count": 218,
   "id": "e9bc042e",
   "metadata": {},
   "outputs": [
    {
     "data": {
      "text/plain": [
       "datetime.date(2004, 1, 18)"
      ]
     },
     "execution_count": 218,
     "metadata": {},
     "output_type": "execute_result"
    }
   ],
   "source": [
    "date2.replace(year=2004,month=1,day=18)     #replaces the date from the given parameter"
   ]
  },
  {
   "cell_type": "code",
   "execution_count": null,
   "id": "4f4c6733",
   "metadata": {},
   "outputs": [
    {
     "data": {
      "text/plain": [
       "'06-06-2025'"
      ]
     },
     "execution_count": 221,
     "metadata": {},
     "output_type": "execute_result"
    }
   ],
   "source": [
    "date2.strftime(\"%d-%m-%Y\")      #returns the date time in specified format"
   ]
  },
  {
   "cell_type": "code",
   "execution_count": null,
   "id": "79904049",
   "metadata": {},
   "outputs": [
    {
     "data": {
      "text/plain": [
       "time.struct_time(tm_year=2025, tm_mon=6, tm_mday=6, tm_hour=0, tm_min=0, tm_sec=0, tm_wday=4, tm_yday=157, tm_isdst=-1)"
      ]
     },
     "execution_count": 223,
     "metadata": {},
     "output_type": "execute_result"
    }
   ],
   "source": [
    "date.timetuple(date2)           #returns a tuple containgthe info about the arg passed"
   ]
  },
  {
   "cell_type": "code",
   "execution_count": 225,
   "id": "e0d730bc",
   "metadata": {},
   "outputs": [
    {
     "data": {
      "text/plain": [
       "datetime.date(2025, 6, 6)"
      ]
     },
     "execution_count": 225,
     "metadata": {},
     "output_type": "execute_result"
    }
   ],
   "source": [
    "date.today()        #returns the today's date"
   ]
  },
  {
   "cell_type": "code",
   "execution_count": 233,
   "id": "472606a5",
   "metadata": {},
   "outputs": [
    {
     "data": {
      "text/plain": [
       "739408"
      ]
     },
     "execution_count": 233,
     "metadata": {},
     "output_type": "execute_result"
    }
   ],
   "source": [
    "date2.toordinal()           #return a value of gregorian ordinal where jan 1 of year 1 has ordinal one"
   ]
  },
  {
   "cell_type": "code",
   "execution_count": null,
   "id": "3969bcde",
   "metadata": {},
   "outputs": [
    {
     "data": {
      "text/plain": [
       "4"
      ]
     },
     "execution_count": 234,
     "metadata": {},
     "output_type": "execute_result"
    }
   ],
   "source": [
    "date2.weekday()         #returns a int based on weekday  [monday=0,sudnay=6]"
   ]
  },
  {
   "cell_type": "markdown",
   "id": "979571ed",
   "metadata": {},
   "source": [
    "DateTime Module"
   ]
  },
  {
   "cell_type": "code",
   "execution_count": 236,
   "id": "0c1aa70d",
   "metadata": {},
   "outputs": [],
   "source": [
    "from datetime import datetime"
   ]
  },
  {
   "cell_type": "code",
   "execution_count": null,
   "id": "74f940cb",
   "metadata": {},
   "outputs": [
    {
     "name": "stdout",
     "output_type": "stream",
     "text": [
      "2001-09-09 07:16:36\n"
     ]
    }
   ],
   "source": [
    "d=datetime.datetime.fromtimestamp(999999996)        #it is the amt of seconds passed from 1 Jan 1970\n",
    "print(d)"
   ]
  },
  {
   "cell_type": "code",
   "execution_count": null,
   "id": "ce8e1cc4",
   "metadata": {},
   "outputs": [
    {
     "name": "stdout",
     "output_type": "stream",
     "text": [
      "2025-09-05 22:34:45.045433\n"
     ]
    }
   ],
   "source": [
    "d1=datetime(2025,9,5,22,34,45,45433)        #return the crrent date with time\n",
    "print(d1)"
   ]
  },
  {
   "cell_type": "code",
   "execution_count": 243,
   "id": "d39d0742",
   "metadata": {},
   "outputs": [
    {
     "name": "stdout",
     "output_type": "stream",
     "text": [
      "<attribute 'tzinfo' of 'datetime.datetime' objects> <attribute 'fold' of 'datetime.datetime' objects>\n"
     ]
    }
   ],
   "source": [
    "t1=datetime.tzinfo\n",
    "t2=datetime.fold\n",
    "print(t1,t2)"
   ]
  },
  {
   "cell_type": "code",
   "execution_count": null,
   "id": "574511cf",
   "metadata": {},
   "outputs": [
    {
     "data": {
      "text/plain": [
       "datetime.datetime(2025, 9, 5, 22, 34, 45, 45433, tzinfo=datetime.timezone(datetime.timedelta(seconds=19800), 'India Standard Time'))"
      ]
     },
     "execution_count": 248,
     "metadata": {},
     "output_type": "execute_result"
    }
   ],
   "source": [
    "datetime.astimezone(d1)         #returns the info aboy the date \n",
    "# returns [YYYY,MM,DD,HH,Mi,s,ms,timedelta_from_GMT in sec, Time_Zone_Name]"
   ]
  },
  {
   "cell_type": "code",
   "execution_count": 253,
   "id": "f2795988",
   "metadata": {},
   "outputs": [
    {
     "data": {
      "text/plain": [
       "datetime.datetime(2025, 9, 7, 22, 34, 45, 45433)"
      ]
     },
     "execution_count": 253,
     "metadata": {},
     "output_type": "execute_result"
    }
   ],
   "source": [
    "c1=date(2025,9,7)\n",
    "c2=datetime.time(d1)\n",
    "datetime.combine(c1,c2)"
   ]
  },
  {
   "cell_type": "code",
   "execution_count": 254,
   "id": "752b09ba",
   "metadata": {},
   "outputs": [
    {
     "name": "stdout",
     "output_type": "stream",
     "text": [
      "2025-09-07\n"
     ]
    }
   ],
   "source": [
    "print(c1)"
   ]
  },
  {
   "cell_type": "code",
   "execution_count": 261,
   "id": "fec42fa8",
   "metadata": {},
   "outputs": [
    {
     "data": {
      "text/plain": [
       "datetime.datetime(37, 7, 13, 0, 0)"
      ]
     },
     "execution_count": 261,
     "metadata": {},
     "output_type": "execute_result"
    }
   ],
   "source": [
    "datetime.fromordinal(13343)     #returns [YYYY,MM,DD,time] from ordinal"
   ]
  },
  {
   "cell_type": "code",
   "execution_count": 269,
   "id": "9dbf0956",
   "metadata": {},
   "outputs": [
    {
     "data": {
      "text/plain": [
       "datetime.datetime(1970, 1, 1, 5, 30, 1)"
      ]
     },
     "execution_count": 269,
     "metadata": {},
     "output_type": "execute_result"
    }
   ],
   "source": [
    "datetime.fromtimestamp(1)           #returns a date from time stamp,starts at epoch with time"
   ]
  },
  {
   "cell_type": "code",
   "execution_count": 270,
   "id": "7fd7cbba",
   "metadata": {},
   "outputs": [
    {
     "data": {
      "text/plain": [
       "datetime.datetime(2025, 6, 6, 15, 49, 16, 91775)"
      ]
     },
     "execution_count": 270,
     "metadata": {},
     "output_type": "execute_result"
    }
   ],
   "source": [
    "datetime.now()          #gives currect date and time"
   ]
  },
  {
   "cell_type": "code",
   "execution_count": null,
   "id": "89ca0f3c",
   "metadata": {},
   "outputs": [
    {
     "data": {
      "text/plain": [
       "datetime.datetime(2004, 1, 18, 0, 0)"
      ]
     },
     "execution_count": 284,
     "metadata": {},
     "output_type": "execute_result"
    }
   ],
   "source": [
    "a1=\"18-1-2004\"\n",
    "datetime.strptime(a1,\"%d-%m-%Y\")        #returns date with time"
   ]
  },
  {
   "cell_type": "code",
   "execution_count": 289,
   "id": "5597ae83",
   "metadata": {},
   "outputs": [
    {
     "data": {
      "text/plain": [
       "datetime.time(22, 34, 45, 45433)"
      ]
     },
     "execution_count": 289,
     "metadata": {},
     "output_type": "execute_result"
    }
   ],
   "source": [
    "datetime.time(d1)           #returns the time "
   ]
  },
  {
   "cell_type": "code",
   "execution_count": null,
   "id": "f0012d1a",
   "metadata": {},
   "outputs": [
    {
     "data": {
      "text/plain": [
       "time.struct_time(tm_year=2025, tm_mon=9, tm_mday=5, tm_hour=22, tm_min=34, tm_sec=45, tm_wday=4, tm_yday=248, tm_isdst=-1)"
      ]
     },
     "execution_count": 293,
     "metadata": {},
     "output_type": "execute_result"
    }
   ],
   "source": [
    "datetime.timetuple(d1)          #return info about the date and time in tuple"
   ]
  },
  {
   "cell_type": "code",
   "execution_count": null,
   "id": "c3137498",
   "metadata": {},
   "outputs": [
    {
     "data": {
      "text/plain": [
       "<method 'timetz' of 'datetime.datetime' objects>"
      ]
     },
     "execution_count": 294,
     "metadata": {},
     "output_type": "execute_result"
    }
   ],
   "source": [
    "datetime.timetz"
   ]
  },
  {
   "cell_type": "code",
   "execution_count": null,
   "id": "3773b3a6",
   "metadata": {},
   "outputs": [
    {
     "data": {
      "text/plain": [
       "datetime.datetime(2025, 6, 6, 16, 12, 4, 689158)"
      ]
     },
     "execution_count": 297,
     "metadata": {},
     "output_type": "execute_result"
    }
   ],
   "source": [
    "t=datetime.today()        #return today's date"
   ]
  },
  {
   "cell_type": "code",
   "execution_count": 302,
   "id": "b64a4a63",
   "metadata": {},
   "outputs": [
    {
     "ename": "TypeError",
     "evalue": "descriptor 'tzname' for 'datetime.datetime' objects doesn't apply to a 'datetime.date' object",
     "output_type": "error",
     "traceback": [
      "\u001b[31m---------------------------------------------------------------------------\u001b[39m",
      "\u001b[31mTypeError\u001b[39m                                 Traceback (most recent call last)",
      "\u001b[36mCell\u001b[39m\u001b[36m \u001b[39m\u001b[32mIn[302]\u001b[39m\u001b[32m, line 1\u001b[39m\n\u001b[32m----> \u001b[39m\u001b[32m1\u001b[39m \u001b[43mdatetime\u001b[49m\u001b[43m.\u001b[49m\u001b[43mtzname\u001b[49m\u001b[43m(\u001b[49m\u001b[43mt\u001b[49m\u001b[43m)\u001b[49m\n",
      "\u001b[31mTypeError\u001b[39m: descriptor 'tzname' for 'datetime.datetime' objects doesn't apply to a 'datetime.date' object"
     ]
    }
   ],
   "source": [
    "datetime.tzname(t)"
   ]
  },
  {
   "cell_type": "code",
   "execution_count": null,
   "id": "dc20588f",
   "metadata": {},
   "outputs": [],
   "source": []
  },
  {
   "cell_type": "code",
   "execution_count": null,
   "id": "b4f37767",
   "metadata": {},
   "outputs": [],
   "source": []
  },
  {
   "cell_type": "code",
   "execution_count": null,
   "id": "9c66d68b",
   "metadata": {},
   "outputs": [],
   "source": [
    "    "
   ]
  }
 ],
 "metadata": {
  "kernelspec": {
   "display_name": "Python 3",
   "language": "python",
   "name": "python3"
  },
  "language_info": {
   "codemirror_mode": {
    "name": "ipython",
    "version": 3
   },
   "file_extension": ".py",
   "mimetype": "text/x-python",
   "name": "python",
   "nbconvert_exporter": "python",
   "pygments_lexer": "ipython3",
   "version": "3.11.0"
  }
 },
 "nbformat": 4,
 "nbformat_minor": 5
}
