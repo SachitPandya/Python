{
 "cells": [
  {
   "cell_type": "code",
   "execution_count": 2,
   "id": "ab5b9f69",
   "metadata": {},
   "outputs": [
    {
     "name": "stdout",
     "output_type": "stream",
     "text": [
      "{1: 'hello', 2: 'this', 3: 'is', 4: 'dictionary'}\n"
     ]
    }
   ],
   "source": [
    "dic={1:\"hello\",2:\"this\",3:\"is\",4:\"dictionary\"}\n",
    "print(dic)"
   ]
  },
  {
   "cell_type": "code",
   "execution_count": 3,
   "id": "49b9489a",
   "metadata": {},
   "outputs": [
    {
     "name": "stdout",
     "output_type": "stream",
     "text": [
      "hello\n"
     ]
    }
   ],
   "source": [
    "print(dic[1])"
   ]
  },
  {
   "cell_type": "code",
   "execution_count": 4,
   "id": "14ce11b0",
   "metadata": {},
   "outputs": [
    {
     "name": "stdout",
     "output_type": "stream",
     "text": [
      "this\n"
     ]
    }
   ],
   "source": [
    "print(dic[2])"
   ]
  },
  {
   "cell_type": "code",
   "execution_count": 5,
   "id": "bacc35a9",
   "metadata": {},
   "outputs": [
    {
     "name": "stdout",
     "output_type": "stream",
     "text": [
      "this\n"
     ]
    }
   ],
   "source": [
    "print(dic.get(2))"
   ]
  },
  {
   "cell_type": "code",
   "execution_count": 6,
   "id": "90c9ec64",
   "metadata": {},
   "outputs": [
    {
     "name": "stdout",
     "output_type": "stream",
     "text": [
      "{1: 'hello', 2: 'why', 3: 'is', 4: 'dictionary'}\n"
     ]
    }
   ],
   "source": [
    "dic[2]=\"why\"\n",
    "print(dic)"
   ]
  },
  {
   "cell_type": "code",
   "execution_count": 7,
   "id": "97ea82bf",
   "metadata": {},
   "outputs": [
    {
     "name": "stdout",
     "output_type": "stream",
     "text": [
      "{1: 'hello', 2: 'why', 3: 'is', 4: 'dictionary'}\n"
     ]
    }
   ],
   "source": [
    "dic1=dic.copy()\n",
    "print(dic1)"
   ]
  },
  {
   "cell_type": "code",
   "execution_count": 8,
   "id": "469a6198",
   "metadata": {},
   "outputs": [
    {
     "name": "stdout",
     "output_type": "stream",
     "text": [
      "{}\n"
     ]
    }
   ],
   "source": [
    "dic1.clear()\n",
    "print(dic1)"
   ]
  },
  {
   "cell_type": "code",
   "execution_count": 9,
   "id": "71c1792b",
   "metadata": {},
   "outputs": [],
   "source": [
    "a={1:\"sam\",2:\"sum\"}\n",
    "b=(\"sam\",\"sun\",\"sim\")\n"
   ]
  },
  {
   "cell_type": "code",
   "execution_count": 10,
   "id": "65821e62",
   "metadata": {},
   "outputs": [
    {
     "name": "stdout",
     "output_type": "stream",
     "text": [
      "{1: {1: 'sam', 2: 'sum'}, 2: {1: 'sam', 2: 'sum'}}\n"
     ]
    }
   ],
   "source": [
    "td=dict.fromkeys(a,a)\n",
    "print((td))"
   ]
  },
  {
   "cell_type": "code",
   "execution_count": 11,
   "id": "71a41be3",
   "metadata": {},
   "outputs": [
    {
     "name": "stdout",
     "output_type": "stream",
     "text": [
      "{1: {1: {1: 'sam', 2: 'sum'}, 2: {1: 'sam', 2: 'sum'}}, 2: {1: {1: 'sam', 2: 'sum'}, 2: {1: 'sam', 2: 'sum'}}}\n"
     ]
    }
   ],
   "source": [
    "td1=dict.fromkeys(td,td)\n",
    "print(td1)\n"
   ]
  },
  {
   "cell_type": "code",
   "execution_count": 12,
   "id": "814fd997",
   "metadata": {},
   "outputs": [],
   "source": [
    "a.get(b)\n"
   ]
  },
  {
   "cell_type": "code",
   "execution_count": 13,
   "id": "34e155af",
   "metadata": {},
   "outputs": [
    {
     "name": "stdout",
     "output_type": "stream",
     "text": [
      "{1: {1: 'sam', 2: 'sum'}, 2: {1: 'sam', 2: 'sum'}}\n",
      "dict_items([(1, {1: 'sam', 2: 'sum'}), (2, {1: 'sam', 2: 'sum'})])\n",
      "<class 'dict_items'>\n"
     ]
    }
   ],
   "source": [
    "tdict=td.items()\n",
    "print(td)\n",
    "print(tdict)\n",
    "print(type(tdict))"
   ]
  },
  {
   "cell_type": "code",
   "execution_count": 14,
   "id": "4029779c",
   "metadata": {},
   "outputs": [
    {
     "name": "stdout",
     "output_type": "stream",
     "text": [
      "<class 'dict_keys'>\n"
     ]
    },
    {
     "data": {
      "text/plain": [
       "dict_keys([1, 2])"
      ]
     },
     "execution_count": 14,
     "metadata": {},
     "output_type": "execute_result"
    }
   ],
   "source": [
    "td1=print(type(td.keys()))\n",
    "td.keys()"
   ]
  },
  {
   "cell_type": "code",
   "execution_count": 15,
   "id": "1521af81",
   "metadata": {},
   "outputs": [
    {
     "name": "stdout",
     "output_type": "stream",
     "text": [
      "{1: {1: 'sam', 2: 'sum'}, 2: {1: 'sam', 2: 'sum'}}\n"
     ]
    },
    {
     "data": {
      "text/plain": [
       "{1: 'sam', 2: 'sum'}"
      ]
     },
     "execution_count": 15,
     "metadata": {},
     "output_type": "execute_result"
    }
   ],
   "source": [
    "print(td)\n",
    "td.get(1)"
   ]
  },
  {
   "cell_type": "code",
   "execution_count": 16,
   "id": "db73aec1",
   "metadata": {},
   "outputs": [
    {
     "name": "stdout",
     "output_type": "stream",
     "text": [
      "{2: 'sum'}\n"
     ]
    }
   ],
   "source": [
    "a.pop(1)\n",
    "print(a)"
   ]
  },
  {
   "cell_type": "code",
   "execution_count": null,
   "id": "fd9a232e",
   "metadata": {},
   "outputs": [
    {
     "name": "stdout",
     "output_type": "stream",
     "text": [
      "{2: 'ss', 'apple': 20}\n"
     ]
    }
   ],
   "source": [
    "a[\"apple\"]=20\n",
    "a[2]='ss'\n",
    "print(a)"
   ]
  },
  {
   "cell_type": "code",
   "execution_count": 18,
   "id": "1fcb5b54",
   "metadata": {},
   "outputs": [
    {
     "name": "stdout",
     "output_type": "stream",
     "text": [
      "<class 'tuple'>\n",
      "{2: 'ss'}\n"
     ]
    }
   ],
   "source": [
    "print(type(a.popitem()))\n",
    "print(a)"
   ]
  },
  {
   "cell_type": "code",
   "execution_count": 19,
   "id": "3c56d38a",
   "metadata": {},
   "outputs": [],
   "source": [
    "aa=a.setdefault('2',\"sam\")"
   ]
  },
  {
   "cell_type": "code",
   "execution_count": 20,
   "id": "2fea4c9e",
   "metadata": {},
   "outputs": [
    {
     "name": "stdout",
     "output_type": "stream",
     "text": [
      "sam\n"
     ]
    }
   ],
   "source": [
    "print(aa)"
   ]
  },
  {
   "cell_type": "code",
   "execution_count": 21,
   "id": "bd609bea",
   "metadata": {},
   "outputs": [
    {
     "name": "stdout",
     "output_type": "stream",
     "text": [
      "{2: 'ss', '2': 'sam'}\n"
     ]
    }
   ],
   "source": [
    "print(a)"
   ]
  },
  {
   "cell_type": "code",
   "execution_count": 22,
   "id": "9768fa86",
   "metadata": {},
   "outputs": [],
   "source": [
    "adict={1:'aa',2:'bb',3:'cc',4:'dd'}"
   ]
  },
  {
   "cell_type": "code",
   "execution_count": 23,
   "id": "45c57663",
   "metadata": {},
   "outputs": [
    {
     "data": {
      "text/plain": [
       "'sam'"
      ]
     },
     "execution_count": 23,
     "metadata": {},
     "output_type": "execute_result"
    }
   ],
   "source": [
    "adict.setdefault(5,\"sam\")"
   ]
  },
  {
   "cell_type": "code",
   "execution_count": 24,
   "id": "7b5f631c",
   "metadata": {},
   "outputs": [
    {
     "name": "stdout",
     "output_type": "stream",
     "text": [
      "{1: 'aa', 2: 'bb', 3: 'cc', 4: 'dd', 5: 'sam'}\n"
     ]
    }
   ],
   "source": [
    "print(adict)"
   ]
  },
  {
   "cell_type": "code",
   "execution_count": 25,
   "id": "c048c457",
   "metadata": {},
   "outputs": [],
   "source": [
    "adict.update({6:\"sun\"})"
   ]
  },
  {
   "cell_type": "code",
   "execution_count": 26,
   "id": "432371aa",
   "metadata": {},
   "outputs": [
    {
     "name": "stdout",
     "output_type": "stream",
     "text": [
      "{1: 'aa', 2: 'bb', 3: 'cc', 4: 'dd', 5: 'sam', 6: 'sun'}\n"
     ]
    }
   ],
   "source": [
    "print(adict)"
   ]
  },
  {
   "cell_type": "code",
   "execution_count": 27,
   "id": "499f9432",
   "metadata": {},
   "outputs": [],
   "source": [
    "adict.update({2:\"bun\"})"
   ]
  },
  {
   "cell_type": "code",
   "execution_count": 28,
   "id": "e84e2453",
   "metadata": {},
   "outputs": [
    {
     "name": "stdout",
     "output_type": "stream",
     "text": [
      "{1: 'aa', 2: 'bun', 3: 'cc', 4: 'dd', 5: 'sam', 6: 'sun'}\n"
     ]
    }
   ],
   "source": [
    "print(adict)"
   ]
  },
  {
   "cell_type": "code",
   "execution_count": 29,
   "id": "fffa29e4",
   "metadata": {},
   "outputs": [
    {
     "name": "stdout",
     "output_type": "stream",
     "text": [
      "[10, 20, [200, 300, [400, 500, 300], 40]]\n"
     ]
    }
   ],
   "source": [
    "list1=[10,20,[200,300,[400,500],40]]\n",
    "list1[2][2].insert(2, 300)\n",
    "\n",
    "print(list1)"
   ]
  },
  {
   "cell_type": "code",
   "execution_count": 30,
   "id": "55a4c45c",
   "metadata": {},
   "outputs": [],
   "source": [
    "vdict=((adict.values()))"
   ]
  },
  {
   "cell_type": "code",
   "execution_count": 31,
   "id": "16a16dbb",
   "metadata": {},
   "outputs": [
    {
     "name": "stdout",
     "output_type": "stream",
     "text": [
      "dict_items([(1, {2: 'ss', '2': 'sam'}), (2, {2: 'ss', '2': 'sam'})])\n"
     ]
    }
   ],
   "source": [
    "print(tdict)"
   ]
  },
  {
   "cell_type": "code",
   "execution_count": 32,
   "id": "a916a397",
   "metadata": {},
   "outputs": [
    {
     "data": {
      "text/plain": [
       "False"
      ]
     },
     "execution_count": 32,
     "metadata": {},
     "output_type": "execute_result"
    }
   ],
   "source": [
    "tdict.isdisjoint(tdict)"
   ]
  },
  {
   "cell_type": "code",
   "execution_count": 33,
   "id": "9796633d",
   "metadata": {},
   "outputs": [
    {
     "name": "stdout",
     "output_type": "stream",
     "text": [
      "{2: 'ss', '2': 'sam', '222': 'ssss'}\n"
     ]
    }
   ],
   "source": [
    "a[\"222\"]=\"ssss\"\n",
    "print(a)"
   ]
  },
  {
   "cell_type": "code",
   "execution_count": 34,
   "id": "a0ff99bb",
   "metadata": {},
   "outputs": [
    {
     "name": "stdout",
     "output_type": "stream",
     "text": [
      "{2: 'why', '2': 'sam', '222': 'ssss', 1: 'hello', 3: 'is', 4: 'dictionary'}\n"
     ]
    }
   ],
   "source": [
    "mdict={}\n",
    "for i in (a,dic):\n",
    "    mdict.update(i)\n",
    "print(mdict)"
   ]
  },
  {
   "cell_type": "code",
   "execution_count": 35,
   "id": "26ad5969",
   "metadata": {},
   "outputs": [
    {
     "name": "stdout",
     "output_type": "stream",
     "text": [
      "key found\n"
     ]
    }
   ],
   "source": [
    "target_key=4\n",
    "for i in mdict.keys():\n",
    "    if i == target_key:\n",
    "        f=1\n",
    "        break\n",
    "    else:\n",
    "        f=0\n",
    "\n",
    "if f==1:\n",
    "    print(\"key found\")\n",
    "else:\n",
    "    print(\"key not found\")"
   ]
  },
  {
   "cell_type": "code",
   "execution_count": 36,
   "id": "205235c3",
   "metadata": {},
   "outputs": [
    {
     "name": "stdout",
     "output_type": "stream",
     "text": [
      "None\n",
      "hello\n",
      "why\n",
      "is\n",
      "dictionary\n",
      "None\n"
     ]
    }
   ],
   "source": [
    "for i in range(len(mdict)):\n",
    "    print(mdict.get(i))"
   ]
  },
  {
   "cell_type": "code",
   "execution_count": 37,
   "id": "90ac5dfc",
   "metadata": {},
   "outputs": [
    {
     "name": "stdout",
     "output_type": "stream",
     "text": [
      "{1: None, 2: None, 3: None, 4: None}\n"
     ]
    }
   ],
   "source": [
    "a=[1,2,3,4]\n",
    "b=dict.fromkeys(a)\n",
    "for n in b :\n",
    "    if b.values=='none':\n",
    "        b.update[n]=n*n\n",
    "\n",
    "print(b)"
   ]
  },
  {
   "cell_type": "markdown",
   "id": "24f4fdaf",
   "metadata": {},
   "source": [
    "Practice Questions "
   ]
  },
  {
   "cell_type": "code",
   "execution_count": 38,
   "id": "7764395f",
   "metadata": {},
   "outputs": [],
   "source": [
    "sdict={x:x*x for x in range(1,16)}"
   ]
  },
  {
   "cell_type": "code",
   "execution_count": 39,
   "id": "06b72a25",
   "metadata": {},
   "outputs": [
    {
     "name": "stdout",
     "output_type": "stream",
     "text": [
      "{1: 1, 2: 4, 3: 9, 4: 16, 5: 25, 6: 36, 7: 49, 8: 64, 9: 81, 10: 100, 11: 121, 12: 144, 13: 169, 14: 196, 15: 225}\n"
     ]
    }
   ],
   "source": [
    "print((sdict))"
   ]
  },
  {
   "cell_type": "code",
   "execution_count": 40,
   "id": "5efc9292",
   "metadata": {},
   "outputs": [
    {
     "data": {
      "text/plain": [
       "{1: 3, 2: 3, 3: 1, 4: 2}"
      ]
     },
     "execution_count": 40,
     "metadata": {},
     "output_type": "execute_result"
    }
   ],
   "source": [
    "a=[1,1,2,3,4,2,4,2,1]\n",
    "c={} \n",
    "for i in range(len(a)):\n",
    "    # c[a[i]]=a.count(a[i])\n",
    "    c.update({a[i]:a.count(a[i])})\n",
    "c"
   ]
  },
  {
   "cell_type": "code",
   "execution_count": 41,
   "id": "22499bda",
   "metadata": {},
   "outputs": [
    {
     "name": "stdout",
     "output_type": "stream",
     "text": [
      "{1: 1, 2: 4, 3: 9, 4: 16, 5: 25, 6: 36, 7: 49, 8: 64, 9: 81, 10: 100, 11: 121, 12: 144, 13: 169, 14: 196, 15: 225}\n"
     ]
    }
   ],
   "source": [
    "d={}\n",
    "for i in (c,sdict):\n",
    "    d.update(i)\n",
    "print(d)\n",
    "# d\n"
   ]
  },
  {
   "cell_type": "code",
   "execution_count": 42,
   "id": "d8fad821",
   "metadata": {},
   "outputs": [
    {
     "name": "stdout",
     "output_type": "stream",
     "text": [
      "{1: 1, 2: 4, 3: 9, 4: 16, 5: 25, 6: 36, 7: 49, 8: 64, 9: 81, 10: 100, 11: 121, 12: 144, 13: 169, 14: 196, 15: 225}\n"
     ]
    }
   ],
   "source": [
    "print(d)"
   ]
  },
  {
   "cell_type": "code",
   "execution_count": 102,
   "id": "bd167468",
   "metadata": {},
   "outputs": [
    {
     "data": {
      "text/plain": [
       "{'a': 300, 'b': 600, 'c': 700, 'd': 800}"
      ]
     },
     "execution_count": 102,
     "metadata": {},
     "output_type": "execute_result"
    }
   ],
   "source": [
    "# d1 = {'a': 100, 'b': 200, 'c':300}\n",
    "# d2 = {'a': 300, 'b': 200, 'd':400}\n",
    "d1={'a':100,'b':200,'c':500,'d':800}\n",
    "d2={'a':200,'c':200,'b':400}\n",
    "a=[]\n",
    "for i in (d1.keys()):\n",
    "    for j in d2.keys():\n",
    "        if i==j:\n",
    "            a.append(i)\n",
    "\n",
    "for i in a:\n",
    "    ba= d1.get(i) + d2.get(i)\n",
    "    d2[i]=ba\n",
    "d1.update(d2)\n",
    "d1"
   ]
  },
  {
   "cell_type": "code",
   "execution_count": 108,
   "id": "207ad9c6",
   "metadata": {},
   "outputs": [
    {
     "name": "stdout",
     "output_type": "stream",
     "text": [
      "[1, 3, 4]\n"
     ]
    }
   ],
   "source": [
    "list=[1,2,3,4]\n",
    "del list[1]\n",
    "    \n",
    "print(list)"
   ]
  },
  {
   "cell_type": "markdown",
   "id": "00461e33",
   "metadata": {},
   "source": [
    "Test - I:\n",
    "1. You are given a list of integers where each value represents the index to jump to next. Write a function to detect if there's a loop (infinite cycle).\n",
    "2. Given a list of integers and a target number, return the indices of two numbers that add up to the target.\n",
    "3. Write a function that checks if brackets in a string are balanced. Consider {}, [], and () as valid brackets.\n",
    "4. Write a program to construct a magic square, where each row, column, and diagonal sum to the same value.\n",
    "5. Arrange n people in a circle and kill every kth person until only one remains. Find the survivor based on initial position and k.\n",
    "6. Given a string, find the longest substring without repeating characters."
   ]
  },
  {
   "cell_type": "code",
   "execution_count": null,
   "id": "01b217e3",
   "metadata": {},
   "outputs": [],
   "source": []
  }
 ],
 "metadata": {
  "kernelspec": {
   "display_name": "Python 3",
   "language": "python",
   "name": "python3"
  },
  "language_info": {
   "codemirror_mode": {
    "name": "ipython",
    "version": 3
   },
   "file_extension": ".py",
   "mimetype": "text/x-python",
   "name": "python",
   "nbconvert_exporter": "python",
   "pygments_lexer": "ipython3",
   "version": "3.9.0"
  }
 },
 "nbformat": 4,
 "nbformat_minor": 5
}
