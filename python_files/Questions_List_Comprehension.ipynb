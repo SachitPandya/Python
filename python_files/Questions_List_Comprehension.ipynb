{
 "cells": [
  {
   "cell_type": "markdown",
   "id": "6a8a6615",
   "metadata": {},
   "source": [
    "1. Create a List of Squares of numbers from 1 to 10"
   ]
  },
  {
   "cell_type": "code",
   "execution_count": null,
   "id": "c43262bb",
   "metadata": {},
   "outputs": [
    {
     "name": "stdout",
     "output_type": "stream",
     "text": [
      "[1, 4, 9, 16, 25, 36, 49, 64, 81, 100]\n"
     ]
    }
   ],
   "source": [
    "x1=[i*i for i in range(1,11)]\n",
    "print(x1)"
   ]
  },
  {
   "cell_type": "markdown",
   "id": "e483497e",
   "metadata": {},
   "source": [
    "2.  Create a List of Even numbers from 1 to 20"
   ]
  },
  {
   "cell_type": "code",
   "execution_count": null,
   "id": "624c8d53",
   "metadata": {},
   "outputs": [
    {
     "name": "stdout",
     "output_type": "stream",
     "text": [
      "[2, 4, 6, 8, 10, 12, 14, 16, 18, 20]\n"
     ]
    }
   ],
   "source": [
    "x2=[i for i in range(1,21) if i%2==0]\n",
    "print(x2)"
   ]
  },
  {
   "cell_type": "markdown",
   "id": "91961b5f",
   "metadata": {},
   "source": [
    "3. Generate a list of characters from a string"
   ]
  },
  {
   "cell_type": "code",
   "execution_count": 7,
   "id": "48460549",
   "metadata": {},
   "outputs": [
    {
     "name": "stdout",
     "output_type": "stream",
     "text": [
      "['h', 'e', 'l', 'l', 'o', 'm', 'y', 'n', 'a', 'm', 'e', 'i', 's', 's', 'a', 'm']\n"
     ]
    }
   ],
   "source": [
    "str3=\"hello my name is sam\"\n",
    "x3=[i for i in str3 if i!=\" \"] \n",
    "print(x3)"
   ]
  },
  {
   "cell_type": "markdown",
   "id": "82491752",
   "metadata": {},
   "source": [
    "4.  Create a list of lengths of words in a sentence"
   ]
  },
  {
   "cell_type": "code",
   "execution_count": 15,
   "id": "2e14a61b",
   "metadata": {},
   "outputs": [
    {
     "name": "stdout",
     "output_type": "stream",
     "text": [
      "[5, 2, 4, 2, 3]\n"
     ]
    }
   ],
   "source": [
    "x4=[len(i) for i in str3.split()]\n",
    "print(x4)"
   ]
  },
  {
   "cell_type": "markdown",
   "id": "363de0e6",
   "metadata": {},
   "source": [
    "5. Generate a list of tuples containing a number and its square"
   ]
  },
  {
   "cell_type": "code",
   "execution_count": null,
   "id": "9a014dfd",
   "metadata": {},
   "outputs": [
    {
     "name": "stdout",
     "output_type": "stream",
     "text": [
      "[(1, 1), (2, 4), (3, 9), (4, 16), (5, 25)]\n"
     ]
    }
   ],
   "source": [
    "x5=[(i,i*i)for i in range(1,6)]\n",
    "print(x5)"
   ]
  },
  {
   "cell_type": "markdown",
   "id": "a8720598",
   "metadata": {},
   "source": [
    "6. Create a list of lowercase letters"
   ]
  },
  {
   "cell_type": "code",
   "execution_count": 22,
   "id": "81ee4560",
   "metadata": {},
   "outputs": [
    {
     "name": "stdout",
     "output_type": "stream",
     "text": [
      "['a', 'b', 'c', 'd', 'e', 'f', 'g', 'h', 'i', 'j', 'k', 'l', 'm', 'n', 'o', 'p', 'q', 'r', 's', 't', 'u', 'v', 'w', 'x', 'y', 'z']\n"
     ]
    }
   ],
   "source": [
    "x6=[chr(i) for i in range(ord('a'),ord('z')+1)]\n",
    "print(x6)"
   ]
  },
  {
   "cell_type": "markdown",
   "id": "12da0a05",
   "metadata": {},
   "source": [
    "7. Create a list of uppercase letters"
   ]
  },
  {
   "cell_type": "code",
   "execution_count": 23,
   "id": "74372a93",
   "metadata": {},
   "outputs": [
    {
     "name": "stdout",
     "output_type": "stream",
     "text": [
      "['A', 'B', 'C', 'D', 'E', 'F', 'G', 'H', 'I', 'J', 'K', 'L', 'M', 'N', 'O', 'P', 'Q', 'R', 'S', 'T', 'U', 'V', 'W', 'X', 'Y', 'Z']\n"
     ]
    }
   ],
   "source": [
    "x7=[chr(i) for i in range(ord(\"A\"),ord(\"Z\")+1)]\n",
    "print(x7)"
   ]
  },
  {
   "cell_type": "markdown",
   "id": "0c651901",
   "metadata": {},
   "source": [
    "8. Create a list of even numbers squared and odd numbers cubed from 1 to 10"
   ]
  },
  {
   "cell_type": "code",
   "execution_count": 26,
   "id": "3f3cebc8",
   "metadata": {},
   "outputs": [
    {
     "name": "stdout",
     "output_type": "stream",
     "text": [
      "[1, 4, 27, 16, 125, 36, 343, 64, 729, 100]\n"
     ]
    }
   ],
   "source": [
    "x8=[i**2 if i%2==0 else i**3 for i in range(1,11)]\n",
    "print(x8)"
   ]
  },
  {
   "cell_type": "markdown",
   "id": "a4ac4828",
   "metadata": {},
   "source": [
    "9.  Generate a list of common multiples of 3 and 5 up to 100"
   ]
  },
  {
   "cell_type": "code",
   "execution_count": 27,
   "id": "ca47351e",
   "metadata": {},
   "outputs": [
    {
     "name": "stdout",
     "output_type": "stream",
     "text": [
      "[15, 30, 45, 60, 75, 90]\n"
     ]
    }
   ],
   "source": [
    "x9=[i for i in range(1,101) if i%3==0 and i%5==0]\n",
    "print(x9)"
   ]
  },
  {
   "cell_type": "markdown",
   "id": "d8886baa",
   "metadata": {},
   "source": [
    "10. Create a list of reversed strings from another list"
   ]
  },
  {
   "cell_type": "code",
   "execution_count": 32,
   "id": "00e5148f",
   "metadata": {},
   "outputs": [
    {
     "name": "stdout",
     "output_type": "stream",
     "text": [
      "['olleh', 'ym', 'eman', 'si', 'mas']\n"
     ]
    }
   ],
   "source": [
    "x10=[i for i in str3[::-1].split()]\n",
    "print(x10[::-1])"
   ]
  },
  {
   "cell_type": "markdown",
   "id": "0f245feb",
   "metadata": {},
   "source": [
    "11.  Generate a list of prime numbers from 1 to 50\n"
   ]
  },
  {
   "cell_type": "code",
   "execution_count": 42,
   "id": "bdb0bd03",
   "metadata": {},
   "outputs": [
    {
     "name": "stdout",
     "output_type": "stream",
     "text": [
      "[24, 48]\n"
     ]
    }
   ],
   "source": [
    "list1=[]\n",
    "for i in range(1,51):\n",
    "    list1.append(i)\n",
    "    for n in range(i//2):\n",
    "        x11=filter(lambda i:i%1==0 and i%i==0 and i%n==0 ,list1)\n",
    "print(list(x11))"
   ]
  },
  {
   "cell_type": "code",
   "execution_count": null,
   "id": "ac07971b",
   "metadata": {},
   "outputs": [
    {
     "name": "stdout",
     "output_type": "stream",
     "text": [
      "{11, 13, 15, 17, 19, 21, 23, 25, 27, 29, 31, 33, 35, 37, 39, 41, 43, 45, 47, 49}\n"
     ]
    }
   ],
   "source": [
    "x11=[x for x in range(1,51) for y in range(3,x//2) if x%y!=0 and x%2!=0 ]\n",
    "print(set(x11))"
   ]
  },
  {
   "cell_type": "code",
   "execution_count": 102,
   "id": "975e224e",
   "metadata": {},
   "outputs": [
    {
     "name": "stdout",
     "output_type": "stream",
     "text": [
      "[2, 3, 5, 7, 11, 13, 17, 19, 23, 29, 31, 37, 41, 43, 47, 53, 59, 61, 67, 71, 73, 79, 83, 89, 97, 101, 103, 107, 109, 113, 127, 131, 137, 139, 149, 151, 157, 163, 167, 173, 179, 181, 191, 193, 197, 199, 211, 223, 227, 229, 233, 239, 241, 251, 257, 263, 269, 271, 277, 281, 283, 293, 307, 311, 313, 317, 331, 337, 347, 349, 353, 359, 367, 373, 379, 383, 389, 397, 401, 409, 419, 421, 431, 433, 439, 443, 449, 457, 461, 463, 467, 479, 487, 491, 499]\n"
     ]
    }
   ],
   "source": [
    "def is_prime(n):\n",
    "    x=n//2\n",
    "    f=0\n",
    "    if n<=1:\n",
    "        pass\n",
    "    elif n==2 :\n",
    "        return 2\n",
    "    elif n==3:\n",
    "        return 3\n",
    "    elif n==4:\n",
    "        pass\n",
    "    else:\n",
    "        for i in range(2,x):\n",
    "            if n%i==0:\n",
    "                f=1\n",
    "                break\n",
    "        if f==0:\n",
    "            return True\n",
    "        else:\n",
    "            return False\n",
    "\n",
    "x11=[x for x in range(2,500) if is_prime(x)]\n",
    "print(x11)"
   ]
  },
  {
   "cell_type": "markdown",
   "id": "d45deb60",
   "metadata": {},
   "source": [
    "12. Create a list of squares of even numbers and cubes of odd numbers from -5 to 5"
   ]
  },
  {
   "cell_type": "code",
   "execution_count": 103,
   "id": "f1257b48",
   "metadata": {},
   "outputs": [
    {
     "name": "stdout",
     "output_type": "stream",
     "text": [
      "[-125, 16, -27, 4, -1, 0, 1, 4, 27, 16, 125]\n"
     ]
    }
   ],
   "source": [
    "x12=[i**2 if i%2==0 else i**3 for i in range(-5,6)]\n",
    "print(x12)"
   ]
  },
  {
   "cell_type": "markdown",
   "id": "e827111c",
   "metadata": {},
   "source": [
    "13. Generate a list of strings with their lengths from another list"
   ]
  },
  {
   "cell_type": "code",
   "execution_count": 116,
   "id": "01b01a6a",
   "metadata": {},
   "outputs": [
    {
     "name": "stdout",
     "output_type": "stream",
     "text": [
      "[('apple', 5), ('banana', 6), ('cherry', 6)]\n"
     ]
    }
   ],
   "source": [
    "str13=[\"apple\",\"banana\",\"cherry\"]\n",
    "x13=[(x,len(x)) for x in str13]\n",
    "print(x13)"
   ]
  },
  {
   "cell_type": "markdown",
   "id": "5c9f1cc4",
   "metadata": {},
   "source": [
    "14. Count the white spaces in the str"
   ]
  },
  {
   "cell_type": "code",
   "execution_count": null,
   "id": "4b89f53d",
   "metadata": {},
   "outputs": [
    {
     "name": "stdout",
     "output_type": "stream",
     "text": [
      "4 [' ', ' ', ' ', ' ']\n"
     ]
    }
   ],
   "source": [
    "str14=\"hello my name is sam\"\n",
    "x14=[x for x in str14 if x==\" \"]\n",
    "print(len(x14),x14)"
   ]
  },
  {
   "cell_type": "markdown",
   "id": "e59cef37",
   "metadata": {},
   "source": [
    "15. Create a list of first characters from a list of words"
   ]
  },
  {
   "cell_type": "code",
   "execution_count": 119,
   "id": "5cba15ce",
   "metadata": {},
   "outputs": [
    {
     "name": "stdout",
     "output_type": "stream",
     "text": [
      "['a', 'b', 'c']\n"
     ]
    }
   ],
   "source": [
    "x15=[i[0] for i in str13]\n",
    "print(x15)"
   ]
  }
 ],
 "metadata": {
  "kernelspec": {
   "display_name": "Python 3",
   "language": "python",
   "name": "python3"
  },
  "language_info": {
   "codemirror_mode": {
    "name": "ipython",
    "version": 3
   },
   "file_extension": ".py",
   "mimetype": "text/x-python",
   "name": "python",
   "nbconvert_exporter": "python",
   "pygments_lexer": "ipython3",
   "version": "3.11.0"
  }
 },
 "nbformat": 4,
 "nbformat_minor": 5
}
