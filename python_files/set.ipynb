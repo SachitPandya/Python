{
 "cells": [
  {
   "cell_type": "code",
   "execution_count": 1,
   "id": "5d5a88cb",
   "metadata": {},
   "outputs": [
    {
     "name": "stdout",
     "output_type": "stream",
     "text": [
      "hello\n",
      "30\n"
     ]
    }
   ],
   "source": [
    "print(\"hello\")\n",
    "a=10\n",
    "b=20\n",
    "c=a+b\n",
    "print(c)"
   ]
  },
  {
   "cell_type": "code",
   "execution_count": 35,
   "id": "1ec32750",
   "metadata": {},
   "outputs": [
    {
     "name": "stdout",
     "output_type": "stream",
     "text": [
      "{1, 2, 3, 5} <class 'set'>\n"
     ]
    }
   ],
   "source": [
    "s={1,2,3,5,3}\n",
    "print(s,type(s))"
   ]
  },
  {
   "cell_type": "code",
   "execution_count": 42,
   "id": "40576d62",
   "metadata": {},
   "outputs": [
    {
     "name": "stdout",
     "output_type": "stream",
     "text": [
      "1 2 3 5 "
     ]
    }
   ],
   "source": [
    "for a in s:\n",
    "    print(a,end=\" \")"
   ]
  },
  {
   "cell_type": "code",
   "execution_count": 84,
   "id": "1e46cbc7",
   "metadata": {},
   "outputs": [
    {
     "name": "stdout",
     "output_type": "stream",
     "text": [
      "{1, 2, 3, 5, 40}\n"
     ]
    }
   ],
   "source": [
    "s.add(40)\n",
    "print(s)"
   ]
  },
  {
   "cell_type": "code",
   "execution_count": 85,
   "id": "ecd77881",
   "metadata": {},
   "outputs": [
    {
     "name": "stdout",
     "output_type": "stream",
     "text": [
      "{1, 2, 3, 5}\n"
     ]
    }
   ],
   "source": [
    "s.remove(40)\n",
    "print(s)"
   ]
  },
  {
   "cell_type": "code",
   "execution_count": 86,
   "id": "903c9fca",
   "metadata": {},
   "outputs": [
    {
     "name": "stdout",
     "output_type": "stream",
     "text": [
      "{2, 3, 5}\n"
     ]
    }
   ],
   "source": [
    "s.pop()\n",
    "print(s)"
   ]
  },
  {
   "cell_type": "code",
   "execution_count": 10,
   "id": "39e13713",
   "metadata": {},
   "outputs": [
    {
     "name": "stdout",
     "output_type": "stream",
     "text": [
      "{8, 6, 7}\n"
     ]
    }
   ],
   "source": [
    "s1={2,3,6,7,8}\n",
    "s={1,2,3,5,3}\n",
    "s4={1,3,5,6}\n",
    "s2=s1.difference(s)\n",
    "print(s2)"
   ]
  },
  {
   "cell_type": "code",
   "execution_count": 11,
   "id": "3911fea4",
   "metadata": {},
   "outputs": [
    {
     "name": "stdout",
     "output_type": "stream",
     "text": [
      "{2, 3, 6, 7, 8}\n",
      "set()\n"
     ]
    }
   ],
   "source": [
    "print(s1)\n",
    "s1.clear()\n",
    "print(s1)\n",
    "s1.clear()\n"
   ]
  },
  {
   "cell_type": "code",
   "execution_count": 12,
   "id": "48f5b26c",
   "metadata": {},
   "outputs": [
    {
     "name": "stdout",
     "output_type": "stream",
     "text": [
      "{2}\n"
     ]
    }
   ],
   "source": [
    "s.difference_update(s4)\n",
    "print(s)"
   ]
  },
  {
   "cell_type": "code",
   "execution_count": 90,
   "id": "09c59dc6",
   "metadata": {},
   "outputs": [
    {
     "name": "stdout",
     "output_type": "stream",
     "text": [
      "{3, 4, 5, 85, 7}\n"
     ]
    }
   ],
   "source": [
    "s3={2,3,4,5,7,85,3}\n",
    "s3.remove(2)\n",
    "print(s3)"
   ]
  },
  {
   "cell_type": "code",
   "execution_count": 91,
   "id": "1aa4b250",
   "metadata": {},
   "outputs": [
    {
     "name": "stdout",
     "output_type": "stream",
     "text": [
      "{1, 2, 3, 5}\n"
     ]
    }
   ],
   "source": [
    "s.update(s1)\n",
    "print(s)"
   ]
  },
  {
   "cell_type": "code",
   "execution_count": 92,
   "id": "69c0808c",
   "metadata": {},
   "outputs": [
    {
     "name": "stdout",
     "output_type": "stream",
     "text": [
      "{1, 2, 3, 5, 89, 988, 877}\n"
     ]
    }
   ],
   "source": [
    "s4={89,988,877}\n",
    "s.update(s4)\n",
    "print(s)"
   ]
  },
  {
   "cell_type": "code",
   "execution_count": 93,
   "id": "95bcd658",
   "metadata": {},
   "outputs": [
    {
     "name": "stdout",
     "output_type": "stream",
     "text": [
      "{1, 2, 3, 5, 988, 877}\n"
     ]
    }
   ],
   "source": [
    "s.discard(89)\n",
    "s.discard(9999)\n",
    "print(s)"
   ]
  },
  {
   "cell_type": "code",
   "execution_count": 94,
   "id": "25d25a94",
   "metadata": {},
   "outputs": [
    {
     "name": "stdout",
     "output_type": "stream",
     "text": [
      "{3, 5}\n",
      "{1, 2, 3, 5, 988, 877}\n",
      "{3, 4, 5, 85, 7}\n"
     ]
    }
   ],
   "source": [
    "s14= s3.intersection(s)\n",
    "print(s14)\n",
    "print(s)\n",
    "print(s3)"
   ]
  },
  {
   "cell_type": "code",
   "execution_count": 95,
   "id": "d305898c",
   "metadata": {},
   "outputs": [],
   "source": [
    "from copy import deepcopy\n",
    "s12={1,2,3,5}\n",
    "s133={}\n",
    "s122={}\n",
    "s133=s12.copy()\n",
    "s122=deepcopy(s12)\n"
   ]
  },
  {
   "cell_type": "code",
   "execution_count": 96,
   "id": "aaf89313",
   "metadata": {},
   "outputs": [
    {
     "name": "stdout",
     "output_type": "stream",
     "text": [
      "{1, 2, 3, 5, 6, 7, 8}\n",
      "{1, 2, 3, 5}\n",
      "{1, 2, 3, 5}\n"
     ]
    }
   ],
   "source": [
    "s12.update(s2)\n",
    "print(s12)\n",
    "print(s122)\n",
    "print(s133)\n"
   ]
  },
  {
   "cell_type": "code",
   "execution_count": 97,
   "id": "175961dc",
   "metadata": {},
   "outputs": [
    {
     "name": "stdout",
     "output_type": "stream",
     "text": [
      "{3, 5}\n"
     ]
    }
   ],
   "source": [
    "s.intersection_update(s3)\n",
    "print(s)"
   ]
  },
  {
   "cell_type": "code",
   "execution_count": 13,
   "id": "78d43a6b",
   "metadata": {},
   "outputs": [
    {
     "name": "stdout",
     "output_type": "stream",
     "text": [
      "{2} {1, 3, 5, 6}\n"
     ]
    }
   ],
   "source": [
    "s.isdisjoint(s4)\n",
    "print(s,s4)"
   ]
  },
  {
   "cell_type": "code",
   "execution_count": 21,
   "id": "38f0e10f",
   "metadata": {},
   "outputs": [
    {
     "data": {
      "text/plain": [
       "False"
      ]
     },
     "execution_count": 21,
     "metadata": {},
     "output_type": "execute_result"
    }
   ],
   "source": [
    "# s1111=s.issubset(s12)\n",
    "# print(s,s12)\n",
    "# print(s1111)\n",
    "s5={3,4,5}\n",
    "s6={3,4,1,5,2,6}\n",
    "s7={3,4,5}\n",
    "s5<=s7\n",
    "s5>s7"
   ]
  },
  {
   "cell_type": "code",
   "execution_count": 100,
   "id": "6b09846e",
   "metadata": {},
   "outputs": [
    {
     "data": {
      "text/plain": [
       "False"
      ]
     },
     "execution_count": 100,
     "metadata": {},
     "output_type": "execute_result"
    }
   ],
   "source": [
    "s.issuperset(s12)"
   ]
  },
  {
   "cell_type": "code",
   "execution_count": 101,
   "id": "a3322d00",
   "metadata": {},
   "outputs": [],
   "source": [
    "s123={1,2,3,4,5,6}"
   ]
  },
  {
   "cell_type": "code",
   "execution_count": 102,
   "id": "7fcf3ecf",
   "metadata": {},
   "outputs": [
    {
     "name": "stdout",
     "output_type": "stream",
     "text": [
      "{1, 2, 3, 6}\n",
      "{1, 2, 3, 4, 5, 6}\n"
     ]
    }
   ],
   "source": [
    "s124={4,5,8,9,0}\n",
    "s125=s123.difference(s124)\n",
    "print(s125)\n",
    "print(s123)\n",
    "\n"
   ]
  },
  {
   "cell_type": "code",
   "execution_count": 103,
   "id": "5bcb92e6",
   "metadata": {},
   "outputs": [
    {
     "name": "stdout",
     "output_type": "stream",
     "text": [
      "{1, 2, 3, 6}\n"
     ]
    }
   ],
   "source": [
    "s123.difference_update(s124)\n",
    "print(s123)\n"
   ]
  },
  {
   "cell_type": "code",
   "execution_count": 104,
   "id": "b3c73f65",
   "metadata": {},
   "outputs": [
    {
     "name": "stdout",
     "output_type": "stream",
     "text": [
      "{3, 5}\n"
     ]
    }
   ],
   "source": [
    "s1=s.copy()\n",
    "print(s1)"
   ]
  },
  {
   "cell_type": "code",
   "execution_count": 22,
   "id": "b320ea46",
   "metadata": {},
   "outputs": [],
   "source": [
    "s123={2,3,5,6}\n",
    "s124={3,6,8,7}\n",
    "\n",
    "s1256=s124.symmetric_difference(s123)"
   ]
  },
  {
   "cell_type": "code",
   "execution_count": 106,
   "id": "6a309365",
   "metadata": {},
   "outputs": [
    {
     "name": "stdout",
     "output_type": "stream",
     "text": [
      "{2, 5, 7, 8}\n"
     ]
    }
   ],
   "source": [
    "print(s1256)"
   ]
  },
  {
   "cell_type": "code",
   "execution_count": 107,
   "id": "8872778a",
   "metadata": {},
   "outputs": [
    {
     "name": "stdout",
     "output_type": "stream",
     "text": [
      "{2, 5, 7, 8}\n"
     ]
    }
   ],
   "source": [
    "s123.symmetric_difference_update(s124)\n",
    "print(s123)"
   ]
  },
  {
   "cell_type": "code",
   "execution_count": 109,
   "id": "62654fde",
   "metadata": {},
   "outputs": [
    {
     "name": "stdout",
     "output_type": "stream",
     "text": [
      "{2, 3, 5, 6, 7, 8}\n"
     ]
    }
   ],
   "source": [
    "s12345=s123.union(s124)\n",
    "print(s12345)"
   ]
  },
  {
   "cell_type": "code",
   "execution_count": 110,
   "id": "05a04c2c",
   "metadata": {},
   "outputs": [],
   "source": [
    "set1=s123.intersection(s124)"
   ]
  },
  {
   "cell_type": "code",
   "execution_count": 111,
   "id": "c268e0d9",
   "metadata": {},
   "outputs": [
    {
     "name": "stdout",
     "output_type": "stream",
     "text": [
      "{8, 7}\n"
     ]
    }
   ],
   "source": [
    "print(set1)"
   ]
  },
  {
   "cell_type": "code",
   "execution_count": 112,
   "id": "fd4a004e",
   "metadata": {},
   "outputs": [],
   "source": [
    "set2=s123 | s124"
   ]
  },
  {
   "cell_type": "code",
   "execution_count": null,
   "id": "be1f0e1f",
   "metadata": {},
   "outputs": [
    {
     "name": "stdout",
     "output_type": "stream",
     "text": [
      "{2, 3, 5, 6, 7, 8}\n"
     ]
    }
   ],
   "source": [
    "print(set2)"
   ]
  },
  {
   "cell_type": "code",
   "execution_count": null,
   "id": "397ee94f",
   "metadata": {},
   "outputs": [
    {
     "name": "stdout",
     "output_type": "stream",
     "text": [
      "{2, 5}\n"
     ]
    }
   ],
   "source": [
    "set3=s123-s124\n",
    "\n",
    "print(set3)"
   ]
  },
  {
   "cell_type": "code",
   "execution_count": 115,
   "id": "7e8648f1",
   "metadata": {},
   "outputs": [],
   "source": [
    "s12345.clear()"
   ]
  },
  {
   "cell_type": "code",
   "execution_count": 116,
   "id": "0839066b",
   "metadata": {},
   "outputs": [
    {
     "name": "stdout",
     "output_type": "stream",
     "text": [
      "set()\n"
     ]
    }
   ],
   "source": [
    "print(s12345)"
   ]
  },
  {
   "cell_type": "code",
   "execution_count": 118,
   "id": "300ebc51",
   "metadata": {},
   "outputs": [
    {
     "name": "stdout",
     "output_type": "stream",
     "text": [
      "frozenset({1, 2, 34, 6}) <class 'frozenset'>\n"
     ]
    }
   ],
   "source": [
    "set5={1,2,34,6}\n",
    "set6=frozenset(set5)\n",
    "print(set6,type(set6))\n"
   ]
  },
  {
   "cell_type": "code",
   "execution_count": 119,
   "id": "07ea8ab7",
   "metadata": {},
   "outputs": [
    {
     "name": "stdout",
     "output_type": "stream",
     "text": [
      "4\n"
     ]
    }
   ],
   "source": [
    "print(len(set6))"
   ]
  },
  {
   "cell_type": "code",
   "execution_count": 123,
   "id": "28529ac0",
   "metadata": {},
   "outputs": [
    {
     "name": "stdout",
     "output_type": "stream",
     "text": [
      "not found\n"
     ]
    }
   ],
   "source": [
    "if 0 in set6:\n",
    "    print(\"found\")\n",
    "else:\n",
    "    print(\"not found\")"
   ]
  },
  {
   "cell_type": "code",
   "execution_count": 125,
   "id": "c12307ef",
   "metadata": {},
   "outputs": [
    {
     "data": {
      "text/plain": [
       "False"
      ]
     },
     "execution_count": 125,
     "metadata": {},
     "output_type": "execute_result"
    }
   ],
   "source": [
    "s123 > s123"
   ]
  },
  {
   "cell_type": "code",
   "execution_count": 129,
   "id": "87a1c450",
   "metadata": {},
   "outputs": [
    {
     "name": "stdout",
     "output_type": "stream",
     "text": [
      "{8, 2, 5, 7}\n"
     ]
    }
   ],
   "source": [
    "s125=s123.difference(s124)\n",
    "set7=set()\n",
    "for i in s123:\n",
    "    for j in s125:\n",
    "        if i !=j:\n",
    "            set7.add(i)\n",
    "print(set7)\n"
   ]
  },
  {
   "cell_type": "code",
   "execution_count": 135,
   "id": "04d46bbf",
   "metadata": {},
   "outputs": [],
   "source": [
    "set8={1,2,3,5}\n",
    "set9={2,3,5}\n",
    "set10=set()"
   ]
  },
  {
   "cell_type": "code",
   "execution_count": 23,
   "id": "2458a705",
   "metadata": {},
   "outputs": [
    {
     "name": "stdout",
     "output_type": "stream",
     "text": [
      "{1}\n"
     ]
    }
   ],
   "source": [
    "set8={1,2,3,5}\n",
    "set9={2,3,5}\n",
    "set10=set()\n",
    "for num in sorted(set8):\n",
    "    for j in sorted(set9):\n",
    "     if num == j:\n",
    "        set8.discard(j)\n",
    "       # set10.add(j)\n",
    "\n",
    "print(set8)\n",
    "# print(set10)  \n",
    "# print(sorted(set10))   \n",
    "# print(type(set10))  \n",
    "\n",
    "    "
   ]
  },
  {
   "cell_type": "code",
   "execution_count": 29,
   "id": "1cfce409",
   "metadata": {},
   "outputs": [
    {
     "name": "stdout",
     "output_type": "stream",
     "text": [
      "{43232, 4353, 5454, 66566}\n"
     ]
    }
   ],
   "source": [
    "set11={5,5,1,5,8,3,2,1,9,1}\n",
    "# print(set11)\n",
    "# print(set11)\n",
    "# print(set11)\n",
    "set111={43232,4353,5454,66566}\n",
    "print(set111) "
   ]
  },
  {
   "cell_type": "code",
   "execution_count": 26,
   "id": "37e67333",
   "metadata": {},
   "outputs": [
    {
     "name": "stdout",
     "output_type": "stream",
     "text": [
      "[1, 3, 5]\n",
      "[1, 5, 3]\n",
      "[2, 2, 5]\n",
      "[2, 5, 2]\n",
      "[3, 1, 5]\n",
      "[3, 3, 3]\n",
      "[3, 5, 1]\n",
      "[5, 1, 3]\n",
      "[5, 2, 2]\n",
      "[5, 3, 1]\n"
     ]
    }
   ],
   "source": [
    "sum1=9\n",
    "# set12=set()\n",
    "# lst=[]\n",
    "for i in sorted(set11):\n",
    "    for j in sorted(set11):\n",
    "        for k in sorted(set11):\n",
    "            if i+j+k==sum1:\n",
    "                print([i,j,k])\n"
   ]
  },
  {
   "cell_type": "code",
   "execution_count": 181,
   "id": "36883fc2",
   "metadata": {},
   "outputs": [],
   "source": [
    "for i in sorted(set11):\n",
    "    for j in sorted(set11):\n",
    "        pass"
   ]
  },
  {
   "cell_type": "code",
   "execution_count": 186,
   "id": "2f8e7d70",
   "metadata": {},
   "outputs": [],
   "source": [
    "set13=sorted(set11)"
   ]
  },
  {
   "cell_type": "code",
   "execution_count": 187,
   "id": "682c3b4a",
   "metadata": {},
   "outputs": [
    {
     "name": "stdout",
     "output_type": "stream",
     "text": [
      "72\n"
     ]
    }
   ],
   "source": [
    "a=set13[-1]*set13[-2]\n",
    "print(a)"
   ]
  },
  {
   "cell_type": "code",
   "execution_count": 195,
   "id": "af07f290",
   "metadata": {},
   "outputs": [],
   "source": [
    "str1=[\"a\",'b','b','c']\n",
    "str2=[1,2,3,4,1]"
   ]
  },
  {
   "cell_type": "code",
   "execution_count": 196,
   "id": "2eecbab2",
   "metadata": {},
   "outputs": [
    {
     "name": "stdout",
     "output_type": "stream",
     "text": [
      "{'b', 'c', 'a'}\n",
      "{1, 2, 3, 4}\n"
     ]
    }
   ],
   "source": [
    "se2=set(str1)\n",
    "print(se2)\n",
    "se3=set(str2)\n",
    "print(se3)"
   ]
  },
  {
   "cell_type": "code",
   "execution_count": 65,
   "id": "586ad59a",
   "metadata": {},
   "outputs": [
    {
     "name": "stdout",
     "output_type": "stream",
     "text": [
      "frozenset({1, 2, 3, 4})\n"
     ]
    }
   ],
   "source": [
    "fset=frozenset([1,2,4,3])\n",
    "fset2=frozenset([5,6,7,3])\n",
    "fset1=frozenset([])\n",
    "print(fset)"
   ]
  },
  {
   "cell_type": "code",
   "execution_count": 206,
   "id": "c932f604",
   "metadata": {},
   "outputs": [
    {
     "name": "stdout",
     "output_type": "stream",
     "text": [
      "frozenset({1, 2, 4})\n"
     ]
    }
   ],
   "source": [
    "fset1=fset.difference(fset2)\n",
    "print(fset1)"
   ]
  },
  {
   "cell_type": "code",
   "execution_count": 208,
   "id": "57d9d3db",
   "metadata": {},
   "outputs": [],
   "source": [
    "fset1=fset.intersection(fset2)"
   ]
  },
  {
   "cell_type": "code",
   "execution_count": 209,
   "id": "e56f6f7f",
   "metadata": {},
   "outputs": [
    {
     "name": "stdout",
     "output_type": "stream",
     "text": [
      "frozenset({3})\n"
     ]
    }
   ],
   "source": [
    "print(fset1)"
   ]
  },
  {
   "cell_type": "code",
   "execution_count": 210,
   "id": "767db555",
   "metadata": {},
   "outputs": [
    {
     "data": {
      "text/plain": [
       "False"
      ]
     },
     "execution_count": 210,
     "metadata": {},
     "output_type": "execute_result"
    }
   ],
   "source": [
    "fset.isdisjoint(fset1)"
   ]
  },
  {
   "cell_type": "code",
   "execution_count": 211,
   "id": "26539e7d",
   "metadata": {},
   "outputs": [
    {
     "data": {
      "text/plain": [
       "False"
      ]
     },
     "execution_count": 211,
     "metadata": {},
     "output_type": "execute_result"
    }
   ],
   "source": [
    "fset.issubset(fset2)"
   ]
  },
  {
   "cell_type": "code",
   "execution_count": 212,
   "id": "01e219f8",
   "metadata": {},
   "outputs": [
    {
     "data": {
      "text/plain": [
       "frozenset({1, 2, 4})"
      ]
     },
     "execution_count": 212,
     "metadata": {},
     "output_type": "execute_result"
    }
   ],
   "source": [
    "fset.symmetric_difference(fset1)"
   ]
  },
  {
   "cell_type": "code",
   "execution_count": 66,
   "id": "e9663b07",
   "metadata": {},
   "outputs": [
    {
     "data": {
      "text/plain": [
       "frozenset({1, 2, 3, 4, 5, 6, 7})"
      ]
     },
     "execution_count": 66,
     "metadata": {},
     "output_type": "execute_result"
    }
   ],
   "source": [
    "fset.union(fset2)"
   ]
  },
  {
   "cell_type": "code",
   "execution_count": 214,
   "id": "3e2b1afb",
   "metadata": {},
   "outputs": [],
   "source": [
    "fset3=frozenset([])\n",
    "fset3=fset1.copy()"
   ]
  },
  {
   "cell_type": "code",
   "execution_count": 215,
   "id": "287b40fb",
   "metadata": {},
   "outputs": [
    {
     "name": "stdout",
     "output_type": "stream",
     "text": [
      "frozenset({3})\n"
     ]
    }
   ],
   "source": [
    "print(fset3)"
   ]
  },
  {
   "cell_type": "code",
   "execution_count": 216,
   "id": "c7fb9fbd",
   "metadata": {},
   "outputs": [
    {
     "name": "stdout",
     "output_type": "stream",
     "text": [
      "frozenset({3})\n"
     ]
    }
   ],
   "source": [
    "print(fset1)"
   ]
  },
  {
   "cell_type": "code",
   "execution_count": 217,
   "id": "ed08a431",
   "metadata": {},
   "outputs": [],
   "source": [
    "set10.symmetric_difference_update(set11)"
   ]
  },
  {
   "cell_type": "code",
   "execution_count": 218,
   "id": "042bcefe",
   "metadata": {},
   "outputs": [
    {
     "name": "stdout",
     "output_type": "stream",
     "text": [
      "{1, 8, 9}\n"
     ]
    }
   ],
   "source": [
    "print(set10)"
   ]
  },
  {
   "cell_type": "code",
   "execution_count": 219,
   "id": "85cf2c9c",
   "metadata": {},
   "outputs": [
    {
     "name": "stdout",
     "output_type": "stream",
     "text": [
      "{1, 8, 9}\n",
      "{1, 2, 3, 5, 8, 9}\n"
     ]
    }
   ],
   "source": [
    "print(set10)\n",
    "print(set11)"
   ]
  },
  {
   "cell_type": "code",
   "execution_count": null,
   "id": "7f60eca5",
   "metadata": {},
   "outputs": [
    {
     "name": "stdout",
     "output_type": "stream",
     "text": [
      "<class 'frozenset'>\n",
      "<class 'set'>\n"
     ]
    }
   ],
   "source": [
    "print(type(fset1))\n",
    "set111=set(fset1)\n",
    "print(type(set111))\n"
   ]
  },
  {
   "cell_type": "code",
   "execution_count": 222,
   "id": "5ef56591",
   "metadata": {},
   "outputs": [
    {
     "name": "stdout",
     "output_type": "stream",
     "text": [
      "frozenset({1, 2, 3, 4, 5, 6, 7})\n"
     ]
    }
   ],
   "source": [
    "frozeset=fset.union(fset1,fset2,fset3)\n",
    "print(frozeset)"
   ]
  },
  {
   "cell_type": "code",
   "execution_count": 226,
   "id": "c80b05a3",
   "metadata": {},
   "outputs": [
    {
     "name": "stdout",
     "output_type": "stream",
     "text": [
      "{8, 7}\n"
     ]
    }
   ],
   "source": [
    "print(set1)"
   ]
  },
  {
   "cell_type": "code",
   "execution_count": 227,
   "id": "9a7a2b4b",
   "metadata": {},
   "outputs": [],
   "source": [
    "lset=frozenset(set111)"
   ]
  },
  {
   "cell_type": "code",
   "execution_count": 228,
   "id": "9cc67cc3",
   "metadata": {},
   "outputs": [
    {
     "name": "stdout",
     "output_type": "stream",
     "text": [
      "frozenset({3})\n"
     ]
    }
   ],
   "source": [
    "print(lset)"
   ]
  },
  {
   "cell_type": "code",
   "execution_count": null,
   "id": "c8509a01",
   "metadata": {},
   "outputs": [
    {
     "data": {
      "text/plain": [
       "{'h': None, 'e': None, 'l': None, 'o': None}"
      ]
     },
     "execution_count": 48,
     "metadata": {},
     "output_type": "execute_result"
    }
   ],
   "source": [
    "str=\"hello\"\n",
    "dict.fromkeys(str)"
   ]
  },
  {
   "cell_type": "code",
   "execution_count": 16,
   "id": "72004b37",
   "metadata": {},
   "outputs": [
    {
     "name": "stdout",
     "output_type": "stream",
     "text": [
      "{'a': [2], 'b': [2], 'c': [2]}\n"
     ]
    }
   ],
   "source": [
    "d = dict.fromkeys(['a', 'b', 'c'], [])\n",
    "d['c'].append(2)\n",
    "print(d)"
   ]
  },
  {
   "cell_type": "code",
   "execution_count": 23,
   "id": "5f7eddae",
   "metadata": {},
   "outputs": [
    {
     "name": "stdout",
     "output_type": "stream",
     "text": [
      "{1, 2, 3, 4, 6, 7}\n"
     ]
    }
   ],
   "source": [
    "s1111={1,2,3,4}\n",
    "s222={1,3,6,7}\n",
    "s1111.update(s222)\n",
    "print(s1111)"
   ]
  },
  {
   "cell_type": "code",
   "execution_count": 28,
   "id": "aba69285",
   "metadata": {},
   "outputs": [
    {
     "name": "stdout",
     "output_type": "stream",
     "text": [
      "{'w', 'h', 'r', 'l', ' ', 'o', 'd'}\n"
     ]
    }
   ],
   "source": [
    "uch={char for char in \"hlo world\"}\n",
    "print(uch)"
   ]
  },
  {
   "cell_type": "code",
   "execution_count": 30,
   "id": "4ab51de0",
   "metadata": {},
   "outputs": [
    {
     "name": "stdout",
     "output_type": "stream",
     "text": [
      "{(2, 4), (4, 16), (0, 0), (1, 1), (3, 9)}\n"
     ]
    }
   ],
   "source": [
    "ts={(x,x*x) for x in range(5)}\n",
    "print(ts)"
   ]
  },
  {
   "cell_type": "code",
   "execution_count": 31,
   "id": "278e3be1",
   "metadata": {},
   "outputs": [
    {
     "name": "stdout",
     "output_type": "stream",
     "text": [
      "{'hlo world'} {'hlo world'}\n"
     ]
    }
   ],
   "source": [
    "print(s,s1)"
   ]
  },
  {
   "cell_type": "code",
   "execution_count": 59,
   "id": "59e9d822",
   "metadata": {},
   "outputs": [],
   "source": [
    "s={1,2,3,4}\n",
    "s1=s.copy()\n"
   ]
  },
  {
   "cell_type": "code",
   "execution_count": 60,
   "id": "e77da69f",
   "metadata": {},
   "outputs": [
    {
     "name": "stdout",
     "output_type": "stream",
     "text": [
      "{2, 3, 4} {1, 2, 3, 4}\n"
     ]
    }
   ],
   "source": [
    "s.pop()\n",
    "print(s,s1)"
   ]
  },
  {
   "cell_type": "code",
   "execution_count": 61,
   "id": "27bd6707",
   "metadata": {},
   "outputs": [],
   "source": [
    "s.update([10,12],[14],(10,20),{90,99})"
   ]
  },
  {
   "cell_type": "code",
   "execution_count": 62,
   "id": "eba3e4be",
   "metadata": {},
   "outputs": [
    {
     "name": "stdout",
     "output_type": "stream",
     "text": [
      "{2, 3, 4, 99, 10, 12, 14, 20, 90}\n"
     ]
    }
   ],
   "source": [
    "print(s)"
   ]
  },
  {
   "cell_type": "code",
   "execution_count": 63,
   "id": "d44682dd",
   "metadata": {},
   "outputs": [
    {
     "name": "stdout",
     "output_type": "stream",
     "text": [
      "{3, 4, 99, 10, 12, 14, 20, 90}\n",
      "{4, 99, 10, 12, 14, 20, 90}\n",
      "{99, 10, 12, 14, 20, 90}\n"
     ]
    }
   ],
   "source": [
    "s.pop()\n",
    "print(s)\n",
    "s.pop()\n",
    "print(s)\n",
    "s.pop()\n",
    "print(s)"
   ]
  },
  {
   "cell_type": "code",
   "execution_count": null,
   "id": "a8b56b5f",
   "metadata": {},
   "outputs": [],
   "source": []
  }
 ],
 "metadata": {
  "kernelspec": {
   "display_name": "Python 3",
   "language": "python",
   "name": "python3"
  },
  "language_info": {
   "codemirror_mode": {
    "name": "ipython",
    "version": 3
   },
   "file_extension": ".py",
   "mimetype": "text/x-python",
   "name": "python",
   "nbconvert_exporter": "python",
   "pygments_lexer": "ipython3",
   "version": "3.9.0"
  }
 },
 "nbformat": 4,
 "nbformat_minor": 5
}
