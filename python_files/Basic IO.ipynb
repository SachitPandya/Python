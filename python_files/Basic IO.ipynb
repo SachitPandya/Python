{
 "cells": [
  {
   "cell_type": "markdown",
   "id": "8905ab29",
   "metadata": {},
   "source": [
    "Print()"
   ]
  },
  {
   "cell_type": "code",
   "execution_count": 1,
   "id": "f0c29f73",
   "metadata": {},
   "outputs": [
    {
     "name": "stdout",
     "output_type": "stream",
     "text": [
      "sam\n"
     ]
    }
   ],
   "source": [
    "print (\"sam\")"
   ]
  },
  {
   "cell_type": "markdown",
   "id": "05ad4d74",
   "metadata": {},
   "source": [
    "Input()"
   ]
  },
  {
   "cell_type": "code",
   "execution_count": 2,
   "id": "4b459490",
   "metadata": {},
   "outputs": [],
   "source": [
    "x=input(\"enter name: \")\n",
    "y=\"Hello!\",x,\"How are you?\""
   ]
  },
  {
   "cell_type": "code",
   "execution_count": 3,
   "id": "5c7041ce",
   "metadata": {},
   "outputs": [
    {
     "name": "stdout",
     "output_type": "stream",
     "text": [
      "hello sam your age is 21\n"
     ]
    }
   ],
   "source": [
    "s=int(input(\"enter age\"))\n",
    "print('hello',x,\"your age is\",s)"
   ]
  },
  {
   "cell_type": "markdown",
   "id": "c8b505ca",
   "metadata": {},
   "source": [
    "Taking multiple inputs at once using split()"
   ]
  },
  {
   "cell_type": "code",
   "execution_count": 9,
   "id": "fcfb795a",
   "metadata": {},
   "outputs": [
    {
     "name": "stdout",
     "output_type": "stream",
     "text": [
      "1\n",
      "2\n",
      "3\n"
     ]
    }
   ],
   "source": [
    "x,y,z=input(\"enter three numbers:\").split()\n",
    "print(x)\n",
    "print(y)\n",
    "print(z)"
   ]
  },
  {
   "cell_type": "code",
   "execution_count": 7,
   "id": "d607ceca",
   "metadata": {},
   "outputs": [
    {
     "name": "stdout",
     "output_type": "stream",
     "text": [
      "[1, 2, 3, 4, 5, 6, 7]\n"
     ]
    }
   ],
   "source": [
    "n =list(map(int,input(\"enter three numbers:\").split()))\n",
    "print(n)"
   ]
  },
  {
   "cell_type": "code",
   "execution_count": null,
   "id": "a8bd0c44",
   "metadata": {},
   "outputs": [
    {
     "name": "stdout",
     "output_type": "stream",
     "text": [
      "red\n"
     ]
    }
   ],
   "source": [
    "color=input(\"enter a color:\")\n",
    "print(color)"
   ]
  },
  {
   "cell_type": "code",
   "execution_count": null,
   "id": "7eb17986",
   "metadata": {},
   "outputs": [
    {
     "name": "stdout",
     "output_type": "stream",
     "text": [
      "21\n"
     ]
    }
   ],
   "source": [
    "c1=(input(\"how many color in rainbow?\"))\n",
    "print(c1)"
   ]
  },
  {
   "cell_type": "code",
   "execution_count": null,
   "id": "f4d296af",
   "metadata": {},
   "outputs": [
    {
     "name": "stdout",
     "output_type": "stream",
     "text": [
      "3234.5432\n"
     ]
    }
   ],
   "source": [
    "c2=float(input(\"bank balance:\"))\n",
    "print(c2)"
   ]
  },
  {
   "cell_type": "code",
   "execution_count": null,
   "id": "8ac11699",
   "metadata": {},
   "outputs": [
    {
     "name": "stdout",
     "output_type": "stream",
     "text": [
      "bank balance is 100.79\n"
     ]
    }
   ],
   "source": [
    "c3=100.7898\n",
    "print(\"bank balance is {:.2f}\".format(c3))"
   ]
  },
  {
   "cell_type": "code",
   "execution_count": null,
   "id": "26010665",
   "metadata": {},
   "outputs": [],
   "source": []
  }
 ],
 "metadata": {
  "kernelspec": {
   "display_name": "Python 3",
   "language": "python",
   "name": "python3"
  },
  "language_info": {
   "codemirror_mode": {
    "name": "ipython",
    "version": 3
   },
   "file_extension": ".py",
   "mimetype": "text/x-python",
   "name": "python",
   "nbconvert_exporter": "python",
   "pygments_lexer": "ipython3",
   "version": "3.11.0"
  }
 },
 "nbformat": 4,
 "nbformat_minor": 5
}
