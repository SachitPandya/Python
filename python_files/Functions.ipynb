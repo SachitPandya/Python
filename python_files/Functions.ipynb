{
 "cells": [
  {
   "cell_type": "markdown",
   "id": "3c22668c",
   "metadata": {},
   "source": [
    "Practicing on how to define and use Functions in python\n"
   ]
  },
  {
   "cell_type": "code",
   "execution_count": 22,
   "id": "5eec913a",
   "metadata": {},
   "outputs": [
    {
     "name": "stdout",
     "output_type": "stream",
     "text": [
      "hello\n"
     ]
    }
   ],
   "source": [
    "def fun():\n",
    "    print(\"hello\")\n",
    "fun()"
   ]
  },
  {
   "cell_type": "code",
   "execution_count": 23,
   "id": "65b103c2",
   "metadata": {},
   "outputs": [
    {
     "name": "stdout",
     "output_type": "stream",
     "text": [
      "h\n",
      "h\n",
      "h\n",
      "h\n",
      "h\n",
      "h\n"
     ]
    }
   ],
   "source": [
    "def fun1(n):\n",
    "    for i in range(n):\n",
    "        print('h')\n",
    "fun1(6)"
   ]
  },
  {
   "cell_type": "code",
   "execution_count": 24,
   "id": "4a815024",
   "metadata": {},
   "outputs": [
    {
     "name": "stdout",
     "output_type": "stream",
     "text": [
      "number is not prime\n"
     ]
    }
   ],
   "source": [
    "def prime(n):\n",
    "    f=0\n",
    "    x=n//2\n",
    "    if n<=1:\n",
    "        print(\"Enter a valid number\")\n",
    "    elif n==2 or n==3:\n",
    "        print(\"Prime\")\n",
    "    else:\n",
    "        for i in range(5,x):\n",
    "            if n%i==0:\n",
    "                f=1\n",
    "                break\n",
    "            else:\n",
    "                f=0\n",
    "    if f==0:\n",
    "        print(\"number is prime\")\n",
    "    else:\n",
    "        print(\"number is not prime\")\n",
    "\n",
    "prime(108)"
   ]
  },
  {
   "cell_type": "markdown",
   "id": "894db03e",
   "metadata": {},
   "source": [
    "Default argument"
   ]
  },
  {
   "cell_type": "code",
   "execution_count": 25,
   "id": "2f3eab10",
   "metadata": {},
   "outputs": [
    {
     "name": "stdout",
     "output_type": "stream",
     "text": [
      "1 7\n"
     ]
    }
   ],
   "source": [
    "def default1(x,y=7):\n",
    "    print(x,y)\n",
    "default1(1)"
   ]
  },
  {
   "cell_type": "markdown",
   "id": "73d925ee",
   "metadata": {},
   "source": [
    "Keyword argument"
   ]
  },
  {
   "cell_type": "code",
   "execution_count": 26,
   "id": "1729c8ff",
   "metadata": {},
   "outputs": [
    {
     "name": "stdout",
     "output_type": "stream",
     "text": [
      "sachit 21\n",
      "sachit 21\n"
     ]
    }
   ],
   "source": [
    "def keyword1(name,age):\n",
    "    print(name, age)\n",
    "keyword1(age=21 ,name=\"sachit\")\n",
    "keyword1(name=\"sachit\",age=21 )"
   ]
  },
  {
   "cell_type": "markdown",
   "id": "ebd5da7d",
   "metadata": {},
   "source": [
    "Positional argument"
   ]
  },
  {
   "cell_type": "code",
   "execution_count": 27,
   "id": "018f5564",
   "metadata": {},
   "outputs": [
    {
     "name": "stdout",
     "output_type": "stream",
     "text": [
      "Rohit 1\n",
      "2 Shubhman\n"
     ]
    }
   ],
   "source": [
    "def Pos1(Name,Batting_order):\n",
    "    print(Name,Batting_order)\n",
    "Pos1(\"Rohit\",1)\n",
    "Pos1(2,'Shubhman')"
   ]
  },
  {
   "cell_type": "markdown",
   "id": "c1e94590",
   "metadata": {},
   "source": [
    "Arbitary Keyword"
   ]
  },
  {
   "cell_type": "markdown",
   "id": "d1e70365",
   "metadata": {},
   "source": [
    "1. *args"
   ]
  },
  {
   "cell_type": "code",
   "execution_count": 28,
   "id": "4cc6b08b",
   "metadata": {},
   "outputs": [
    {
     "name": "stdout",
     "output_type": "stream",
     "text": [
      "Hello\n",
      "my\n",
      "name\n",
      "is\n",
      "Sam\n"
     ]
    }
   ],
   "source": [
    "def ar(*argsv):\n",
    "    for i in argsv:\n",
    "        print(i)\n",
    "\n",
    "ar(\"Hello\",\"my\",\"name\",\"is\",\"Sam\")"
   ]
  },
  {
   "cell_type": "markdown",
   "id": "deb61829",
   "metadata": {},
   "source": [
    "2. **kwargs"
   ]
  },
  {
   "cell_type": "code",
   "execution_count": 29,
   "id": "4703dbe1",
   "metadata": {},
   "outputs": [
    {
     "name": "stdout",
     "output_type": "stream",
     "text": [
      "c my\n",
      "b name\n",
      "a is\n"
     ]
    }
   ],
   "source": [
    "def kar(**kwargs):\n",
    "    for k,val in kwargs.items():\n",
    "        print(k,val)\n",
    "kar(c=\"my\",b=\"name\",a=\"is\")"
   ]
  },
  {
   "cell_type": "markdown",
   "id": "e69f93e4",
   "metadata": {},
   "source": [
    "Mix of both *args and **kwargs"
   ]
  },
  {
   "cell_type": "code",
   "execution_count": 30,
   "id": "a8e558f4",
   "metadata": {},
   "outputs": [
    {
     "name": "stdout",
     "output_type": "stream",
     "text": [
      "args:  ('heyyyyyyy', 'helo')\n",
      "kwargs:  {'a': 1, 'b': 3}\n",
      "<class 'tuple'>\n",
      "<class 'dict'>\n"
     ]
    }
   ],
   "source": [
    "def akr(*abc,**kwargs):\n",
    "        print(\"args: \",abc)\n",
    "        print(\"kwargs: \",kwargs)\n",
    "        print(type(abc))\n",
    "        print(type(kwargs))\n",
    "        \n",
    "# *args and **kwargs directly stores their respected values in them \n",
    "akr(\"heyyyyyyy\",\"helo\",a=1,b=3)     "
   ]
  },
  {
   "cell_type": "markdown",
   "id": "e5f7161b",
   "metadata": {},
   "source": [
    "LAMBDA Function"
   ]
  },
  {
   "cell_type": "code",
   "execution_count": 1,
   "id": "8e4ced2f",
   "metadata": {},
   "outputs": [
    {
     "name": "stdout",
     "output_type": "stream",
     "text": [
      "HELLO MY NAME IS SAM\n"
     ]
    }
   ],
   "source": [
    "strl=\"Hello my name is sam\"\n",
    "s2= lambda func: func.upper()\n",
    "\n",
    "print(s2(strl))"
   ]
  },
  {
   "cell_type": "markdown",
   "id": "55d7158a",
   "metadata": {},
   "source": [
    "get the sign of numbr"
   ]
  },
  {
   "cell_type": "code",
   "execution_count": 32,
   "id": "75f44f59",
   "metadata": {},
   "outputs": [
    {
     "data": {
      "text/plain": [
       "'Zero'"
      ]
     },
     "execution_count": 32,
     "metadata": {},
     "output_type": "execute_result"
    }
   ],
   "source": [
    "n= lambda x: \"Positive\" if x>0 else \"Negative\" if x<0 else \"Zero\"\n",
    "n(-0)       "
   ]
  },
  {
   "cell_type": "markdown",
   "id": "4a8c3b80",
   "metadata": {},
   "source": [
    "Number is even or odd"
   ]
  },
  {
   "cell_type": "code",
   "execution_count": 33,
   "id": "761b7318",
   "metadata": {},
   "outputs": [
    {
     "name": "stdout",
     "output_type": "stream",
     "text": [
      "odd\n"
     ]
    }
   ],
   "source": [
    "x= lambda n: \"even\" if n%2==0 else \"odd\"\n",
    "print(x(9))"
   ]
  },
  {
   "cell_type": "markdown",
   "id": "0eb34f5c",
   "metadata": {},
   "source": [
    "Lambda with filter()"
   ]
  },
  {
   "cell_type": "markdown",
   "id": "8abe8a76",
   "metadata": {},
   "source": [
    "Filter with a normal function"
   ]
  },
  {
   "cell_type": "markdown",
   "id": "c4e90e96",
   "metadata": {},
   "source": [
    "#Filter can only be used to check when we have to print something based on condition"
   ]
  },
  {
   "cell_type": "code",
   "execution_count": 2,
   "id": "ca07a510",
   "metadata": {},
   "outputs": [
    {
     "name": "stdout",
     "output_type": "stream",
     "text": [
      "[34, 52, 4]\n"
     ]
    }
   ],
   "source": [
    "def even(n):\n",
    "    return n%2==0\n",
    "\n",
    "a=[1,3,34,52,4]\n",
    "b=filter(even,a)\n",
    "print(list(b))"
   ]
  },
  {
   "cell_type": "markdown",
   "id": "d132f114",
   "metadata": {},
   "source": [
    "Filter with lambda"
   ]
  },
  {
   "cell_type": "code",
   "execution_count": 35,
   "id": "d3c96551",
   "metadata": {},
   "outputs": [
    {
     "name": "stdout",
     "output_type": "stream",
     "text": [
      "[34, 52, 4] [1, 3, 34, 52, 4]\n"
     ]
    }
   ],
   "source": [
    "x=list(filter(lambda x: x%2==0,a))\n",
    "print(x,a)"
   ]
  },
  {
   "cell_type": "code",
   "execution_count": 36,
   "id": "cc608c7b",
   "metadata": {},
   "outputs": [
    {
     "name": "stdout",
     "output_type": "stream",
     "text": [
      "[34, 52]\n"
     ]
    }
   ],
   "source": [
    "x=list(filter(lambda x: x>18,a))\n",
    "print(x)    "
   ]
  },
  {
   "cell_type": "code",
   "execution_count": 37,
   "id": "3b5588fc",
   "metadata": {},
   "outputs": [
    {
     "name": "stdout",
     "output_type": "stream",
     "text": [
      "[1, 3, 34, 52, 4]\n"
     ]
    }
   ],
   "source": [
    "x=list(filter(lambda x: x**2,a))\n",
    "print(x)                        # for this filter can't be used as there is no condition"
   ]
  },
  {
   "cell_type": "code",
   "execution_count": 3,
   "id": "af2d259a",
   "metadata": {},
   "outputs": [
    {
     "name": "stdout",
     "output_type": "stream",
     "text": [
      "[1, 2, 3, 4, 5, 67788, 54]\n",
      "[5]\n"
     ]
    }
   ],
   "source": [
    "def check_prime(n):\n",
    "    half=int(n**0.5)\n",
    "    f=0\n",
    "    for i in range(2,half+1):\n",
    "        if n%i == 0:\n",
    "            f=0\n",
    "            break\n",
    "        else:\n",
    "            f=1\n",
    "    \n",
    "    if f==1:\n",
    "        return n\n",
    " \n",
    "input_list = list(map(int,input().split()))\n",
    "print(input_list)\n",
    "  \n",
    "result = filter(check_prime,input_list)\n",
    "print(list(result))"
   ]
  },
  {
   "cell_type": "markdown",
   "id": "cff4559f",
   "metadata": {},
   "source": [
    "Lamdba with map()"
   ]
  },
  {
   "cell_type": "markdown",
   "id": "3cbd0d56",
   "metadata": {},
   "source": [
    "Map() with normal function"
   ]
  },
  {
   "cell_type": "code",
   "execution_count": 51,
   "id": "0ce38d3d",
   "metadata": {},
   "outputs": [
    {
     "name": "stdout",
     "output_type": "stream",
     "text": [
      "[1, 4, 9, 16, 25, 16, 16]\n"
     ]
    }
   ],
   "source": [
    "def square(n):\n",
    "    return n*n\n",
    "                # It maps the values that are changed in the function to its corresponding indices in new list based on the original list passed in the function\n",
    "                # Like (1*1) is mapped at first index as 1 is on the first index\n",
    "s=[1,2,3,4,5,4,4]\n",
    "x=list(map(square,s))\n",
    "print(x)"
   ]
  },
  {
   "cell_type": "markdown",
   "id": "d3516c3b",
   "metadata": {},
   "source": [
    "Map with labda"
   ]
  },
  {
   "cell_type": "code",
   "execution_count": 39,
   "id": "1fc901ee",
   "metadata": {},
   "outputs": [
    {
     "name": "stdout",
     "output_type": "stream",
     "text": [
      "[2, 4, 6, 8, 10] [1, 2, 3, 4, 5]\n"
     ]
    }
   ],
   "source": [
    "x=list(map(lambda x: x*2,s))\n",
    "print(x,s)"
   ]
  },
  {
   "cell_type": "code",
   "execution_count": 40,
   "id": "dbda43ad",
   "metadata": {},
   "outputs": [
    {
     "name": "stdout",
     "output_type": "stream",
     "text": [
      "[1, 4, 9, 16, 25]\n"
     ]
    }
   ],
   "source": [
    "x=list(map(lambda x: x**2,s))\n",
    "print(x)"
   ]
  },
  {
   "cell_type": "code",
   "execution_count": null,
   "id": "1a37e0ca",
   "metadata": {},
   "outputs": [
    {
     "name": "stdout",
     "output_type": "stream",
     "text": [
      "[10, 10, 10, 10, 10, 8]\n"
     ]
    }
   ],
   "source": [
    "a=[9,8,7,6,5,4]\n",
    "x=map(lambda x,y: x+y , a,s)\n",
    "print(list(x))          #when passing two iterables with map both should have equal values,if that's not the case then map will not map the extra value that is not in the other."
   ]
  },
  {
   "cell_type": "code",
   "execution_count": 4,
   "id": "333cd132",
   "metadata": {},
   "outputs": [
    {
     "data": {
      "text/plain": [
       "{-40: -40.0, 32: 89.6, 30: 86.0, 1: 33.8}"
      ]
     },
     "execution_count": 4,
     "metadata": {},
     "output_type": "execute_result"
    }
   ],
   "source": [
    "c=[-40,32,30,1]\n",
    "d={}\n",
    "f=list(map(lambda x: (x*9/5)+32,c))\n",
    "\n",
    "for i in range(len(c)) :\n",
    "    d[c[i]]=f[i]\n",
    "d"
   ]
  },
  {
   "cell_type": "markdown",
   "id": "8b28d434",
   "metadata": {},
   "source": [
    "Yield with normal function"
   ]
  },
  {
   "cell_type": "code",
   "execution_count": null,
   "id": "71509899",
   "metadata": {},
   "outputs": [
    {
     "name": "stdout",
     "output_type": "stream",
     "text": [
      "Hello\n",
      "51\n",
      "Good Bye\n"
     ]
    }
   ],
   "source": [
    "def myFunc():\n",
    "  yield \"Hello\"\n",
    "  yield 51\n",
    "  yield \"Good Bye\"\n",
    "                    # Yield doesn't stop execution ,but return does stops\n",
    "x = myFunc()\n",
    "# print(x)\n",
    "for z in x: \n",
    "  print(z)\n"
   ]
  },
  {
   "cell_type": "code",
   "execution_count": 115,
   "id": "7fbbb7a6",
   "metadata": {},
   "outputs": [
    {
     "name": "stdout",
     "output_type": "stream",
     "text": [
      "0\n",
      "2\n",
      "4\n",
      "6\n",
      "8\n"
     ]
    }
   ],
   "source": [
    "def y_even(n):\n",
    "    for i in range(n):\n",
    "        yield i\n",
    "        # print(i)\n",
    "        # return i\n",
    "\n",
    "for i in y_even(10):\n",
    "    x=input()\n",
    "    # if x==\"Y\" or \"y\":\n",
    "    if i%2==0:\n",
    "        print(i)\n",
    "    \n",
    "    "
   ]
  },
  {
   "cell_type": "markdown",
   "id": "5f1d33f4",
   "metadata": {},
   "source": [
    "Yield with boolean"
   ]
  },
  {
   "cell_type": "code",
   "execution_count": 1,
   "id": "8dc2a2de",
   "metadata": {},
   "outputs": [
    {
     "name": "stdout",
     "output_type": "stream",
     "text": [
      "1\n"
     ]
    }
   ],
   "source": [
    "def func(text,key):\n",
    "    w=text.split()\n",
    "    for n in w:\n",
    "        if n==key:\n",
    "            yield True\n",
    "\n",
    "txt=\"S a m\"\n",
    "s=func(txt,'a')\n",
    "print(sum(s))"
   ]
  },
  {
   "cell_type": "markdown",
   "id": "33878bb9",
   "metadata": {},
   "source": [
    "Reduce() function"
   ]
  },
  {
   "cell_type": "code",
   "execution_count": 152,
   "id": "a0baf2f2",
   "metadata": {},
   "outputs": [
    {
     "name": "stdout",
     "output_type": "stream",
     "text": [
      "15\n"
     ]
    }
   ],
   "source": [
    "from functools import reduce\n",
    "def r(x,y):\n",
    "    return x+y\n",
    "\n",
    "s=(1,2,3,4,5)\n",
    "a=reduce(r,s)\n",
    "print(a)"
   ]
  },
  {
   "cell_type": "code",
   "execution_count": null,
   "id": "b09abb7e",
   "metadata": {},
   "outputs": [
    {
     "name": "stdout",
     "output_type": "stream",
     "text": [
      "15\n"
     ]
    }
   ],
   "source": [
    "x=reduce(lambda x,y: x+y,s)\n",
    "print(x)"
   ]
  },
  {
   "cell_type": "code",
   "execution_count": 154,
   "id": "99bee58d",
   "metadata": {},
   "outputs": [
    {
     "name": "stdout",
     "output_type": "stream",
     "text": [
      "120\n"
     ]
    }
   ],
   "source": [
    "x=reduce(lambda x,y: x*y,s)         #Same as accumulate but only difference is that it will one value that will be the final value,but accumulate will give intermmediate values or it giver values as it traverses through the list\n",
    "print(x)"
   ]
  },
  {
   "cell_type": "markdown",
   "id": "8802629d",
   "metadata": {},
   "source": [
    "Accumalte() Function"
   ]
  },
  {
   "cell_type": "code",
   "execution_count": 168,
   "id": "be78b32e",
   "metadata": {},
   "outputs": [
    {
     "name": "stdout",
     "output_type": "stream",
     "text": [
      "[6, 10, 18, 21]\n"
     ]
    }
   ],
   "source": [
    "import itertools\n",
    "import operator\n",
    "s=(6,4,8,3)\n",
    "print(list(itertools.accumulate(s)))            # It also prints the intermediate values in form of list when iterating over the list\n"
   ]
  },
  {
   "cell_type": "code",
   "execution_count": 175,
   "id": "fd62f33c",
   "metadata": {},
   "outputs": [
    {
     "name": "stdout",
     "output_type": "stream",
     "text": [
      "[6, 24, 192, 576]\n"
     ]
    }
   ],
   "source": [
    "x=itertools.accumulate(s,operator.mul)\n",
    "print(list(x))"
   ]
  },
  {
   "cell_type": "code",
   "execution_count": 157,
   "id": "0e97a23d",
   "metadata": {},
   "outputs": [
    {
     "name": "stdout",
     "output_type": "stream",
     "text": [
      "[6, 4, 4, 3, 0]\n"
     ]
    }
   ],
   "source": [
    "x=itertools.accumulate(s,min)\n",
    "print(list(x))"
   ]
  },
  {
   "cell_type": "code",
   "execution_count": 137,
   "id": "28e04ab9",
   "metadata": {},
   "outputs": [
    {
     "name": "stdout",
     "output_type": "stream",
     "text": [
      "[6, 10, 18, 21, 21]\n"
     ]
    }
   ],
   "source": [
    "x=itertools.accumulate(s,lambda x,y:x+y)\n",
    "print(list(x))"
   ]
  },
  {
   "cell_type": "code",
   "execution_count": null,
   "id": "56f0953a",
   "metadata": {},
   "outputs": [
    {
     "name": "stdout",
     "output_type": "stream",
     "text": [
      "[6, 24, 192, 576, 0]\n"
     ]
    }
   ],
   "source": [
    "x=itertools.accumulate(s,lambda x,y:x*y)\n",
    "print(list(x))       #accumalate can only work when operations are performed on the 2 items of the list,and will not work for one"
   ]
  }
 ],
 "metadata": {
  "kernelspec": {
   "display_name": "Python 3",
   "language": "python",
   "name": "python3"
  },
  "language_info": {
   "codemirror_mode": {
    "name": "ipython",
    "version": 3
   },
   "file_extension": ".py",
   "mimetype": "text/x-python",
   "name": "python",
   "nbconvert_exporter": "python",
   "pygments_lexer": "ipython3",
   "version": "3.11.0"
  }
 },
 "nbformat": 4,
 "nbformat_minor": 5
}
