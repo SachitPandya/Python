{
 "cells": [
  {
   "cell_type": "markdown",
   "id": "f7c7d9aa",
   "metadata": {},
   "source": [
    "Arithmatic Operators\n"
   ]
  },
  {
   "cell_type": "code",
   "execution_count": 2,
   "id": "4ceb3015",
   "metadata": {},
   "outputs": [
    {
     "name": "stdout",
     "output_type": "stream",
     "text": [
      "<class 'int'>\n",
      "<class 'float'> 33.2\n",
      "26.8\n",
      "<class 'float'> 96.0\n",
      "9.375 <class 'float'>\n",
      "9.0\n",
      "1.1999999999999984\n",
      "823.974609375\n"
     ]
    }
   ],
   "source": [
    "a=30\n",
    "b=3.2\n",
    "d=3\n",
    "c=0\n",
    "print(type(c))\n",
    "print(type(a+b),a+b)   #adds two numbers\n",
    "print(a-b)             #subs two numbers\n",
    "print(type(a*b),a*b)   #multiplies two numbers\n",
    "c=a/b                  #divides two numbers and if stored in another integer type casts it into an float    \n",
    "print(c,type(c))\n",
    "print(a//b)            #Floor Division provides the quotient of two numbers\n",
    "print(a%b)             #modulus, provides the remainder of two numbers\n",
    "print(c**d)            #exponent, raises the power of one to another,e.g(c is raised to the power of d)\n"
   ]
  },
  {
   "cell_type": "code",
   "execution_count": null,
   "id": "b0b54b38",
   "metadata": {},
   "outputs": [
    {
     "name": "stdout",
     "output_type": "stream",
     "text": [
      "2\n",
      "[1, 2, 3, 4, 5, 6, 3]\n"
     ]
    }
   ],
   "source": [
    "a=2\n",
    "b=3\n",
    "c=1\n",
    "print(a**c**b)      #Power iterates right to left "
   ]
  },
  {
   "cell_type": "code",
   "execution_count": 22,
   "id": "3fb6efa5",
   "metadata": {},
   "outputs": [
    {
     "name": "stdout",
     "output_type": "stream",
     "text": [
      "13.0\n"
     ]
    }
   ],
   "source": [
    "d=2\n",
    "e=1\n",
    "f=5\n",
    "print(a+b/e*e*d+f)"
   ]
  },
  {
   "cell_type": "code",
   "execution_count": null,
   "id": "1c536a26",
   "metadata": {},
   "outputs": [],
   "source": [
    "l1=[1,2,3,4]\n",
    "l2=[5,6,3,8]\n",
    "l3=l1+l2          #only (+) operator can be used with list"
   ]
  },
  {
   "cell_type": "code",
   "execution_count": null,
   "id": "b29dc171",
   "metadata": {},
   "outputs": [
    {
     "name": "stdout",
     "output_type": "stream",
     "text": [
      "(1, 2, 4, 5, 1, 3, 6, 4)\n"
     ]
    }
   ],
   "source": [
    "t1=(1,2,4,5)\n",
    "t2=(1,3,6,4)\n",
    "t3=t1+t2        #only (+) can be used with tuples\n",
    "print(t3)"
   ]
  },
  {
   "cell_type": "code",
   "execution_count": 19,
   "id": "0235d091",
   "metadata": {},
   "outputs": [
    {
     "name": "stdout",
     "output_type": "stream",
     "text": [
      "{2, 4}\n"
     ]
    }
   ],
   "source": [
    "s1={1,2,4,5}\n",
    "s2={1,3,5,3}\n",
    "print(s1-s2)        #In sets only (-) can be used"
   ]
  },
  {
   "cell_type": "code",
   "execution_count": 59,
   "id": "1b3e93e2",
   "metadata": {},
   "outputs": [],
   "source": [
    "# No Arithmatic operator can be used directly on a dictionary"
   ]
  },
  {
   "cell_type": "markdown",
   "id": "a312312b",
   "metadata": {},
   "source": [
    "Comparison Operator "
   ]
  },
  {
   "cell_type": "code",
   "execution_count": null,
   "id": "600c93e1",
   "metadata": {},
   "outputs": [
    {
     "data": {
      "text/plain": [
       "True"
      ]
     },
     "execution_count": 6,
     "metadata": {},
     "output_type": "execute_result"
    }
   ],
   "source": [
    "a>b     #greater than"
   ]
  },
  {
   "cell_type": "code",
   "execution_count": null,
   "id": "14b5583c",
   "metadata": {},
   "outputs": [
    {
     "data": {
      "text/plain": [
       "False"
      ]
     },
     "execution_count": 7,
     "metadata": {},
     "output_type": "execute_result"
    }
   ],
   "source": [
    "a<b     #less than"
   ]
  },
  {
   "cell_type": "code",
   "execution_count": null,
   "id": "f765f528",
   "metadata": {},
   "outputs": [
    {
     "data": {
      "text/plain": [
       "False"
      ]
     },
     "execution_count": 8,
     "metadata": {},
     "output_type": "execute_result"
    }
   ],
   "source": [
    "a==b    #equals to "
   ]
  },
  {
   "cell_type": "code",
   "execution_count": null,
   "id": "958bfd97",
   "metadata": {},
   "outputs": [
    {
     "data": {
      "text/plain": [
       "True"
      ]
     },
     "execution_count": 15,
     "metadata": {},
     "output_type": "execute_result"
    }
   ],
   "source": [
    "a!=b    #not equals to  "
   ]
  },
  {
   "cell_type": "code",
   "execution_count": null,
   "id": "da04dc49",
   "metadata": {},
   "outputs": [
    {
     "data": {
      "text/plain": [
       "True"
      ]
     },
     "execution_count": 16,
     "metadata": {},
     "output_type": "execute_result"
    }
   ],
   "source": [
    "a>=b    #greater than equals to "
   ]
  },
  {
   "cell_type": "code",
   "execution_count": null,
   "id": "206522ab",
   "metadata": {},
   "outputs": [
    {
     "data": {
      "text/plain": [
       "False"
      ]
     },
     "execution_count": 17,
     "metadata": {},
     "output_type": "execute_result"
    }
   ],
   "source": [
    "a<=b   #less than equals to"
   ]
  },
  {
   "cell_type": "code",
   "execution_count": null,
   "id": "414bdaae",
   "metadata": {},
   "outputs": [
    {
     "name": "stdout",
     "output_type": "stream",
     "text": [
      "False\n",
      "False\n"
     ]
    }
   ],
   "source": [
    "print(s1>=s2)       # in case of sets (>,>==) are used to compare wheter set s1 is superset of s2\n",
    "print(s1<=s2)       # in case of sets (<,<==) are used to compare wheter set s1 is subsetset of s2\n",
    "print(s1==s2)       # in case of sets (!=,==) are used to compare wheter sets s1 and s2 are equal to each other or not"
   ]
  },
  {
   "cell_type": "code",
   "execution_count": null,
   "id": "8f6c1fa7",
   "metadata": {},
   "outputs": [
    {
     "name": "stdout",
     "output_type": "stream",
     "text": [
      "False\n",
      "False\n",
      "True\n",
      "True\n",
      "True\n",
      "False\n"
     ]
    }
   ],
   "source": [
    "l1=[5,4]\n",
    "l2=[5,4,1,8]\n",
    "print(l1>l2)       # in lists (>) greater than operator checks the elements at first index and if elements at first index are equal then it will check elements at next index..based on this it returns true or false\n",
    "print(l1>=l2)      # in lists(>=) greater than or equals to operator checks the elememts sequentially and return true or false if all the elements are equal or elements in l1 are bigger at corresponding positions\n",
    "print(l1<l2)       # in lists (<) less than operator checks the elements at first index and if elements at first index are equal then it will check elements at next index..based on this it returns true or false\n",
    "print(l1<=l2)      # in lists(<=) less than or equals to operator checks the elememts sequentially and return true or false if all the elements are equal or elements in l1 are smaller at corresponding positions\n",
    "print(l1!=l2)      # in list(!=) not equals to operator retruns True if elements in list are not equal \n",
    "print(l1==l2)      # in list(==) equals to operator returns True of all the elements in list are equal\n"
   ]
  },
  {
   "cell_type": "code",
   "execution_count": null,
   "id": "91297c8d",
   "metadata": {},
   "outputs": [
    {
     "data": {
      "text/plain": [
       "True"
      ]
     },
     "execution_count": 71,
     "metadata": {},
     "output_type": "execute_result"
    }
   ],
   "source": [
    "t1=(1,4,4,5)\n",
    "t2=(1,3,6,4)\n",
    "print(t1>t2)       # in tuples (>) greater than operator checks the elements at first index and if elements at first index are equal then it will check elements at next index..based on this it returns true or false\n",
    "print(t1>=t2)      # in tuples (>=) greater than or equals to operator checks the elememts sequentially and return true or false if all the elements are equal or elements in l1 are bigger at corresponding positions\n",
    "print(t1<t2)       # in tuples (<) less than operator checks the elements at first index and if elements at first index are equal then it will check elements at next index..based on this it returns true or false\n",
    "print(t1<=t2)      # in tuples(<=) less than or equals to operator checks the elememts sequentially and return true or false if all the elements are equal or elements in l1 are smaller at corresponding positions\n",
    "print(t1!=t2)      # in tuples(!=) not equals to operator retruns True if elements in list are not equal \n",
    "print(t1==t2)      # in tuples(==) equals to operator returns True of all the elements in list are equal\n"
   ]
  },
  {
   "cell_type": "code",
   "execution_count": 100,
   "id": "ccfd4505",
   "metadata": {},
   "outputs": [
    {
     "data": {
      "text/plain": [
       "False"
      ]
     },
     "execution_count": 100,
     "metadata": {},
     "output_type": "execute_result"
    }
   ],
   "source": [
    "d1={1:\"s\",2:\"a\",3:\"m\"}\n",
    "d2={4:\"e\",5:\"a\",6:\"t\"}\n",
    "d1==d2          # (<,<=,>,>=) are not supported on dictionary only (==,!=) operators can be used on dictionaries"
   ]
  },
  {
   "cell_type": "markdown",
   "id": "0534e0dd",
   "metadata": {},
   "source": [
    "Unary Operator"
   ]
  },
  {
   "cell_type": "code",
   "execution_count": 119,
   "id": "fb35eb11",
   "metadata": {},
   "outputs": [
    {
     "name": "stdout",
     "output_type": "stream",
     "text": [
      "10\n",
      "42\n",
      "32\n"
     ]
    }
   ],
   "source": [
    "a=10\n",
    "b=20\n",
    "print(a)\n",
    "a+=12+b     #Post Operator is not supported in python\n",
    "print(a)\n",
    "a=+12       # it will replace the value of a with 12\n",
    "c=a+b\n",
    "print(c)\n",
    "d=-1"
   ]
  },
  {
   "cell_type": "code",
   "execution_count": 124,
   "id": "a02d7539",
   "metadata": {},
   "outputs": [
    {
     "name": "stdout",
     "output_type": "stream",
     "text": [
      "-20\n",
      "-1\n"
     ]
    }
   ],
   "source": [
    "print(-b)   # unary (-) sign is used to reverse the sign of the integer\n",
    "print(+d)   # unary (+) sign is used to keep the sign of integer as it is"
   ]
  },
  {
   "cell_type": "code",
   "execution_count": 144,
   "id": "b0a8702f",
   "metadata": {},
   "outputs": [
    {
     "name": "stdout",
     "output_type": "stream",
     "text": [
      "True\n",
      "-2\n"
     ]
    }
   ],
   "source": [
    "bo=False\n",
    "print(not bo)  # Unary not is used to neget the result of a bool\n",
    "\n",
    "bt=1\n",
    "\n",
    "print(~bt)     # Reverses the bits of the variable"
   ]
  },
  {
   "cell_type": "code",
   "execution_count": null,
   "id": "abd4ac0a",
   "metadata": {},
   "outputs": [
    {
     "name": "stdout",
     "output_type": "stream",
     "text": [
      "True\n",
      "-1\n"
     ]
    }
   ],
   "source": [
    "f1=False\n",
    "f1=not(f1)\n",
    "print(f1)\n",
    "f1=-f1          # (-) operator can only be applied on integers that's why bool is converted into its integer equivalent\n",
    "print(f1)"
   ]
  },
  {
   "cell_type": "markdown",
   "id": "30318a71",
   "metadata": {},
   "source": [
    "Walrus Operator"
   ]
  },
  {
   "cell_type": "code",
   "execution_count": null,
   "id": "0066ebd4",
   "metadata": {},
   "outputs": [
    {
     "data": {
      "text/plain": [
       "22"
      ]
     },
     "execution_count": 153,
     "metadata": {},
     "output_type": "execute_result"
    }
   ],
   "source": [
    "d=10\n",
    "(w:=d+a)"
   ]
  },
  {
   "cell_type": "code",
   "execution_count": 154,
   "id": "eda1c4fe",
   "metadata": {},
   "outputs": [
    {
     "name": "stdout",
     "output_type": "stream",
     "text": [
      "12\n"
     ]
    }
   ],
   "source": [
    "print(a)          "
   ]
  },
  {
   "cell_type": "markdown",
   "id": "e4568c41",
   "metadata": {},
   "source": [
    "Logical Operators"
   ]
  },
  {
   "cell_type": "code",
   "execution_count": 159,
   "id": "1972643a",
   "metadata": {},
   "outputs": [],
   "source": [
    "c,b,a=True,False,False"
   ]
  },
  {
   "cell_type": "code",
   "execution_count": 161,
   "id": "a249e07e",
   "metadata": {},
   "outputs": [
    {
     "name": "stdout",
     "output_type": "stream",
     "text": [
      "print\n",
      "False  Is Negative \n"
     ]
    }
   ],
   "source": [
    "if a and c:\n",
    "    print(\"Sam\")\n",
    "if b or c :\n",
    "    print(\"print\")\n",
    "if not a:\n",
    "    print(a,\" Is Negative \")"
   ]
  },
  {
   "cell_type": "code",
   "execution_count": null,
   "id": "74d3273d",
   "metadata": {},
   "outputs": [
    {
     "name": "stdout",
     "output_type": "stream",
     "text": [
      "False\n",
      "True\n",
      "True\n"
     ]
    }
   ],
   "source": [
    "n1=False\n",
    "n2=True\n",
    "print(n1 and n2)\n",
    "print(n1 or n2)\n",
    "print(not n1)"
   ]
  },
  {
   "cell_type": "code",
   "execution_count": null,
   "id": "57ec6d2c",
   "metadata": {},
   "outputs": [
    {
     "name": "stdout",
     "output_type": "stream",
     "text": [
      "True\n",
      "-1\n"
     ]
    }
   ],
   "source": [
    "n1=123\n",
    "n2=0\n",
    "print(not n2)  # not is giving true b'coz value of n2 is 0 and if we would have an value of n2 output would be false\n",
    "print(~n2) "
   ]
  },
  {
   "cell_type": "code",
   "execution_count": 24,
   "id": "f73f4f9c",
   "metadata": {},
   "outputs": [
    {
     "name": "stdout",
     "output_type": "stream",
     "text": [
      "2 <class 'int'> 0.3333333333333333 0\n"
     ]
    }
   ],
   "source": [
    "x=2%6\n",
    "y=2/6\n",
    "z=2//6\n",
    "print(x,type(x),y,z)"
   ]
  },
  {
   "cell_type": "markdown",
   "id": "35194512",
   "metadata": {},
   "source": [
    "BitWise Operator\n"
   ]
  },
  {
   "cell_type": "code",
   "execution_count": 4,
   "id": "e203bd35",
   "metadata": {},
   "outputs": [],
   "source": [
    "a=10\n",
    "b=14"
   ]
  },
  {
   "cell_type": "code",
   "execution_count": 28,
   "id": "c5862510",
   "metadata": {},
   "outputs": [
    {
     "name": "stdout",
     "output_type": "stream",
     "text": [
      "0b1010\n",
      "0b1110\n"
     ]
    }
   ],
   "source": [
    "print(bin(a))\n",
    "print(bin(b))"
   ]
  },
  {
   "cell_type": "code",
   "execution_count": 33,
   "id": "dd054f48",
   "metadata": {},
   "outputs": [
    {
     "name": "stdout",
     "output_type": "stream",
     "text": [
      "10\n"
     ]
    }
   ],
   "source": [
    "print(a&b)"
   ]
  },
  {
   "cell_type": "code",
   "execution_count": 34,
   "id": "6bcb2fd4",
   "metadata": {},
   "outputs": [
    {
     "name": "stdout",
     "output_type": "stream",
     "text": [
      "14\n"
     ]
    }
   ],
   "source": [
    "print(a|b)"
   ]
  },
  {
   "cell_type": "code",
   "execution_count": 35,
   "id": "4b0240be",
   "metadata": {},
   "outputs": [
    {
     "data": {
      "text/plain": [
       "-11"
      ]
     },
     "execution_count": 35,
     "metadata": {},
     "output_type": "execute_result"
    }
   ],
   "source": [
    "~a"
   ]
  },
  {
   "cell_type": "code",
   "execution_count": null,
   "id": "29659779",
   "metadata": {},
   "outputs": [
    {
     "name": "stdout",
     "output_type": "stream",
     "text": [
      "True\n",
      "False\n"
     ]
    }
   ],
   "source": [
    "x=50.0\n",
    "y=50\n",
    "print(x==y)         #checked the value in same datatype i.e. numeric\n",
    "print(x is y)"
   ]
  },
  {
   "cell_type": "code",
   "execution_count": null,
   "id": "b6bf44b9",
   "metadata": {},
   "outputs": [
    {
     "data": {
      "text/plain": [
       "False"
      ]
     },
     "execution_count": 37,
     "metadata": {},
     "output_type": "execute_result"
    }
   ],
   "source": [
    "x='90'\n",
    "y=90    \n",
    "x==y            #datatype is different i.e numeric and string"
   ]
  },
  {
   "cell_type": "code",
   "execution_count": 39,
   "id": "e683b269",
   "metadata": {},
   "outputs": [
    {
     "data": {
      "text/plain": [
       "False"
      ]
     },
     "execution_count": 39,
     "metadata": {},
     "output_type": "execute_result"
    }
   ],
   "source": [
    "x is y"
   ]
  },
  {
   "cell_type": "code",
   "execution_count": null,
   "id": "1de68856",
   "metadata": {},
   "outputs": [
    {
     "data": {
      "text/plain": [
       "5"
      ]
     },
     "execution_count": 42,
     "metadata": {},
     "output_type": "execute_result"
    }
   ],
   "source": [
    "3 and 0 or 5        # left to right"
   ]
  },
  {
   "cell_type": "code",
   "execution_count": null,
   "id": "51e27f0f",
   "metadata": {},
   "outputs": [
    {
     "data": {
      "text/plain": [
       "'-0b101'"
      ]
     },
     "execution_count": 43,
     "metadata": {},
     "output_type": "execute_result"
    }
   ],
   "source": [
    "bin(-5)     "
   ]
  },
  {
   "cell_type": "code",
   "execution_count": null,
   "id": "26e56310",
   "metadata": {},
   "outputs": [
    {
     "data": {
      "text/plain": [
       "4"
      ]
     },
     "execution_count": 2,
     "metadata": {},
     "output_type": "execute_result"
    }
   ],
   "source": [
    "a^b     #converts same bits as 0 and different as 1"
   ]
  },
  {
   "cell_type": "code",
   "execution_count": 16,
   "id": "1332d289",
   "metadata": {},
   "outputs": [
    {
     "data": {
      "text/plain": [
       "'-00000000000b101'"
      ]
     },
     "execution_count": 16,
     "metadata": {},
     "output_type": "execute_result"
    }
   ],
   "source": [
    "bin(-5).zfill(16)"
   ]
  },
  {
   "cell_type": "code",
   "execution_count": 5,
   "id": "f8996026",
   "metadata": {},
   "outputs": [
    {
     "data": {
      "text/plain": [
       "-15"
      ]
     },
     "execution_count": 5,
     "metadata": {},
     "output_type": "execute_result"
    }
   ],
   "source": [
    "~b"
   ]
  },
  {
   "cell_type": "code",
   "execution_count": 2,
   "id": "39852015",
   "metadata": {},
   "outputs": [
    {
     "name": "stdout",
     "output_type": "stream",
     "text": [
      "100000 0b11000011010100000 -0b11000011010100001 -100001\n",
      "100001 0b11000011010100001 -0b11000011010100010 -100002\n",
      "100002 0b11000011010100010 -0b11000011010100011 -100003\n",
      "100003 0b11000011010100011 -0b11000011010100100 -100004\n",
      "100004 0b11000011010100100 -0b11000011010100101 -100005\n",
      "100005 0b11000011010100101 -0b11000011010100110 -100006\n",
      "100006 0b11000011010100110 -0b11000011010100111 -100007\n",
      "100007 0b11000011010100111 -0b11000011010101000 -100008\n",
      "100008 0b11000011010101000 -0b11000011010101001 -100009\n",
      "100009 0b11000011010101001 -0b11000011010101010 -100010\n",
      "100010 0b11000011010101010 -0b11000011010101011 -100011\n",
      "100011 0b11000011010101011 -0b11000011010101100 -100012\n",
      "100012 0b11000011010101100 -0b11000011010101101 -100013\n",
      "100013 0b11000011010101101 -0b11000011010101110 -100014\n",
      "100014 0b11000011010101110 -0b11000011010101111 -100015\n",
      "100015 0b11000011010101111 -0b11000011010110000 -100016\n",
      "100016 0b11000011010110000 -0b11000011010110001 -100017\n",
      "100017 0b11000011010110001 -0b11000011010110010 -100018\n",
      "100018 0b11000011010110010 -0b11000011010110011 -100019\n",
      "100019 0b11000011010110011 -0b11000011010110100 -100020\n",
      "100020 0b11000011010110100 -0b11000011010110101 -100021\n",
      "100021 0b11000011010110101 -0b11000011010110110 -100022\n",
      "100022 0b11000011010110110 -0b11000011010110111 -100023\n",
      "100023 0b11000011010110111 -0b11000011010111000 -100024\n",
      "100024 0b11000011010111000 -0b11000011010111001 -100025\n",
      "100025 0b11000011010111001 -0b11000011010111010 -100026\n",
      "100026 0b11000011010111010 -0b11000011010111011 -100027\n",
      "100027 0b11000011010111011 -0b11000011010111100 -100028\n",
      "100028 0b11000011010111100 -0b11000011010111101 -100029\n",
      "100029 0b11000011010111101 -0b11000011010111110 -100030\n",
      "100030 0b11000011010111110 -0b11000011010111111 -100031\n",
      "100031 0b11000011010111111 -0b11000011011000000 -100032\n",
      "100032 0b11000011011000000 -0b11000011011000001 -100033\n",
      "100033 0b11000011011000001 -0b11000011011000010 -100034\n",
      "100034 0b11000011011000010 -0b11000011011000011 -100035\n",
      "100035 0b11000011011000011 -0b11000011011000100 -100036\n",
      "100036 0b11000011011000100 -0b11000011011000101 -100037\n",
      "100037 0b11000011011000101 -0b11000011011000110 -100038\n",
      "100038 0b11000011011000110 -0b11000011011000111 -100039\n",
      "100039 0b11000011011000111 -0b11000011011001000 -100040\n",
      "100040 0b11000011011001000 -0b11000011011001001 -100041\n",
      "100041 0b11000011011001001 -0b11000011011001010 -100042\n",
      "100042 0b11000011011001010 -0b11000011011001011 -100043\n",
      "100043 0b11000011011001011 -0b11000011011001100 -100044\n",
      "100044 0b11000011011001100 -0b11000011011001101 -100045\n",
      "100045 0b11000011011001101 -0b11000011011001110 -100046\n",
      "100046 0b11000011011001110 -0b11000011011001111 -100047\n",
      "100047 0b11000011011001111 -0b11000011011010000 -100048\n",
      "100048 0b11000011011010000 -0b11000011011010001 -100049\n",
      "100049 0b11000011011010001 -0b11000011011010010 -100050\n",
      "100050 0b11000011011010010 -0b11000011011010011 -100051\n",
      "100051 0b11000011011010011 -0b11000011011010100 -100052\n",
      "100052 0b11000011011010100 -0b11000011011010101 -100053\n",
      "100053 0b11000011011010101 -0b11000011011010110 -100054\n",
      "100054 0b11000011011010110 -0b11000011011010111 -100055\n",
      "100055 0b11000011011010111 -0b11000011011011000 -100056\n",
      "100056 0b11000011011011000 -0b11000011011011001 -100057\n",
      "100057 0b11000011011011001 -0b11000011011011010 -100058\n",
      "100058 0b11000011011011010 -0b11000011011011011 -100059\n",
      "100059 0b11000011011011011 -0b11000011011011100 -100060\n",
      "100060 0b11000011011011100 -0b11000011011011101 -100061\n",
      "100061 0b11000011011011101 -0b11000011011011110 -100062\n",
      "100062 0b11000011011011110 -0b11000011011011111 -100063\n",
      "100063 0b11000011011011111 -0b11000011011100000 -100064\n",
      "100064 0b11000011011100000 -0b11000011011100001 -100065\n",
      "100065 0b11000011011100001 -0b11000011011100010 -100066\n",
      "100066 0b11000011011100010 -0b11000011011100011 -100067\n",
      "100067 0b11000011011100011 -0b11000011011100100 -100068\n",
      "100068 0b11000011011100100 -0b11000011011100101 -100069\n",
      "100069 0b11000011011100101 -0b11000011011100110 -100070\n",
      "100070 0b11000011011100110 -0b11000011011100111 -100071\n",
      "100071 0b11000011011100111 -0b11000011011101000 -100072\n",
      "100072 0b11000011011101000 -0b11000011011101001 -100073\n",
      "100073 0b11000011011101001 -0b11000011011101010 -100074\n",
      "100074 0b11000011011101010 -0b11000011011101011 -100075\n",
      "100075 0b11000011011101011 -0b11000011011101100 -100076\n",
      "100076 0b11000011011101100 -0b11000011011101101 -100077\n",
      "100077 0b11000011011101101 -0b11000011011101110 -100078\n",
      "100078 0b11000011011101110 -0b11000011011101111 -100079\n",
      "100079 0b11000011011101111 -0b11000011011110000 -100080\n",
      "100080 0b11000011011110000 -0b11000011011110001 -100081\n",
      "100081 0b11000011011110001 -0b11000011011110010 -100082\n",
      "100082 0b11000011011110010 -0b11000011011110011 -100083\n",
      "100083 0b11000011011110011 -0b11000011011110100 -100084\n",
      "100084 0b11000011011110100 -0b11000011011110101 -100085\n",
      "100085 0b11000011011110101 -0b11000011011110110 -100086\n",
      "100086 0b11000011011110110 -0b11000011011110111 -100087\n",
      "100087 0b11000011011110111 -0b11000011011111000 -100088\n",
      "100088 0b11000011011111000 -0b11000011011111001 -100089\n",
      "100089 0b11000011011111001 -0b11000011011111010 -100090\n",
      "100090 0b11000011011111010 -0b11000011011111011 -100091\n",
      "100091 0b11000011011111011 -0b11000011011111100 -100092\n",
      "100092 0b11000011011111100 -0b11000011011111101 -100093\n",
      "100093 0b11000011011111101 -0b11000011011111110 -100094\n",
      "100094 0b11000011011111110 -0b11000011011111111 -100095\n",
      "100095 0b11000011011111111 -0b11000011100000000 -100096\n",
      "100096 0b11000011100000000 -0b11000011100000001 -100097\n",
      "100097 0b11000011100000001 -0b11000011100000010 -100098\n",
      "100098 0b11000011100000010 -0b11000011100000011 -100099\n",
      "100099 0b11000011100000011 -0b11000011100000100 -100100\n",
      "100100 0b11000011100000100 -0b11000011100000101 -100101\n",
      "100101 0b11000011100000101 -0b11000011100000110 -100102\n",
      "100102 0b11000011100000110 -0b11000011100000111 -100103\n",
      "100103 0b11000011100000111 -0b11000011100001000 -100104\n",
      "100104 0b11000011100001000 -0b11000011100001001 -100105\n",
      "100105 0b11000011100001001 -0b11000011100001010 -100106\n",
      "100106 0b11000011100001010 -0b11000011100001011 -100107\n",
      "100107 0b11000011100001011 -0b11000011100001100 -100108\n",
      "100108 0b11000011100001100 -0b11000011100001101 -100109\n",
      "100109 0b11000011100001101 -0b11000011100001110 -100110\n",
      "100110 0b11000011100001110 -0b11000011100001111 -100111\n",
      "100111 0b11000011100001111 -0b11000011100010000 -100112\n",
      "100112 0b11000011100010000 -0b11000011100010001 -100113\n",
      "100113 0b11000011100010001 -0b11000011100010010 -100114\n",
      "100114 0b11000011100010010 -0b11000011100010011 -100115\n",
      "100115 0b11000011100010011 -0b11000011100010100 -100116\n",
      "100116 0b11000011100010100 -0b11000011100010101 -100117\n",
      "100117 0b11000011100010101 -0b11000011100010110 -100118\n",
      "100118 0b11000011100010110 -0b11000011100010111 -100119\n",
      "100119 0b11000011100010111 -0b11000011100011000 -100120\n",
      "100120 0b11000011100011000 -0b11000011100011001 -100121\n",
      "100121 0b11000011100011001 -0b11000011100011010 -100122\n",
      "100122 0b11000011100011010 -0b11000011100011011 -100123\n",
      "100123 0b11000011100011011 -0b11000011100011100 -100124\n",
      "100124 0b11000011100011100 -0b11000011100011101 -100125\n",
      "100125 0b11000011100011101 -0b11000011100011110 -100126\n",
      "100126 0b11000011100011110 -0b11000011100011111 -100127\n",
      "100127 0b11000011100011111 -0b11000011100100000 -100128\n",
      "100128 0b11000011100100000 -0b11000011100100001 -100129\n",
      "100129 0b11000011100100001 -0b11000011100100010 -100130\n",
      "100130 0b11000011100100010 -0b11000011100100011 -100131\n",
      "100131 0b11000011100100011 -0b11000011100100100 -100132\n",
      "100132 0b11000011100100100 -0b11000011100100101 -100133\n",
      "100133 0b11000011100100101 -0b11000011100100110 -100134\n",
      "100134 0b11000011100100110 -0b11000011100100111 -100135\n",
      "100135 0b11000011100100111 -0b11000011100101000 -100136\n",
      "100136 0b11000011100101000 -0b11000011100101001 -100137\n",
      "100137 0b11000011100101001 -0b11000011100101010 -100138\n",
      "100138 0b11000011100101010 -0b11000011100101011 -100139\n",
      "100139 0b11000011100101011 -0b11000011100101100 -100140\n",
      "100140 0b11000011100101100 -0b11000011100101101 -100141\n",
      "100141 0b11000011100101101 -0b11000011100101110 -100142\n",
      "100142 0b11000011100101110 -0b11000011100101111 -100143\n",
      "100143 0b11000011100101111 -0b11000011100110000 -100144\n",
      "100144 0b11000011100110000 -0b11000011100110001 -100145\n",
      "100145 0b11000011100110001 -0b11000011100110010 -100146\n",
      "100146 0b11000011100110010 -0b11000011100110011 -100147\n",
      "100147 0b11000011100110011 -0b11000011100110100 -100148\n",
      "100148 0b11000011100110100 -0b11000011100110101 -100149\n",
      "100149 0b11000011100110101 -0b11000011100110110 -100150\n",
      "100150 0b11000011100110110 -0b11000011100110111 -100151\n",
      "100151 0b11000011100110111 -0b11000011100111000 -100152\n",
      "100152 0b11000011100111000 -0b11000011100111001 -100153\n",
      "100153 0b11000011100111001 -0b11000011100111010 -100154\n",
      "100154 0b11000011100111010 -0b11000011100111011 -100155\n",
      "100155 0b11000011100111011 -0b11000011100111100 -100156\n",
      "100156 0b11000011100111100 -0b11000011100111101 -100157\n",
      "100157 0b11000011100111101 -0b11000011100111110 -100158\n",
      "100158 0b11000011100111110 -0b11000011100111111 -100159\n",
      "100159 0b11000011100111111 -0b11000011101000000 -100160\n",
      "100160 0b11000011101000000 -0b11000011101000001 -100161\n",
      "100161 0b11000011101000001 -0b11000011101000010 -100162\n",
      "100162 0b11000011101000010 -0b11000011101000011 -100163\n",
      "100163 0b11000011101000011 -0b11000011101000100 -100164\n",
      "100164 0b11000011101000100 -0b11000011101000101 -100165\n",
      "100165 0b11000011101000101 -0b11000011101000110 -100166\n",
      "100166 0b11000011101000110 -0b11000011101000111 -100167\n",
      "100167 0b11000011101000111 -0b11000011101001000 -100168\n",
      "100168 0b11000011101001000 -0b11000011101001001 -100169\n",
      "100169 0b11000011101001001 -0b11000011101001010 -100170\n",
      "100170 0b11000011101001010 -0b11000011101001011 -100171\n",
      "100171 0b11000011101001011 -0b11000011101001100 -100172\n",
      "100172 0b11000011101001100 -0b11000011101001101 -100173\n",
      "100173 0b11000011101001101 -0b11000011101001110 -100174\n",
      "100174 0b11000011101001110 -0b11000011101001111 -100175\n",
      "100175 0b11000011101001111 -0b11000011101010000 -100176\n",
      "100176 0b11000011101010000 -0b11000011101010001 -100177\n",
      "100177 0b11000011101010001 -0b11000011101010010 -100178\n",
      "100178 0b11000011101010010 -0b11000011101010011 -100179\n",
      "100179 0b11000011101010011 -0b11000011101010100 -100180\n",
      "100180 0b11000011101010100 -0b11000011101010101 -100181\n",
      "100181 0b11000011101010101 -0b11000011101010110 -100182\n",
      "100182 0b11000011101010110 -0b11000011101010111 -100183\n",
      "100183 0b11000011101010111 -0b11000011101011000 -100184\n",
      "100184 0b11000011101011000 -0b11000011101011001 -100185\n",
      "100185 0b11000011101011001 -0b11000011101011010 -100186\n",
      "100186 0b11000011101011010 -0b11000011101011011 -100187\n",
      "100187 0b11000011101011011 -0b11000011101011100 -100188\n",
      "100188 0b11000011101011100 -0b11000011101011101 -100189\n",
      "100189 0b11000011101011101 -0b11000011101011110 -100190\n",
      "100190 0b11000011101011110 -0b11000011101011111 -100191\n",
      "100191 0b11000011101011111 -0b11000011101100000 -100192\n",
      "100192 0b11000011101100000 -0b11000011101100001 -100193\n",
      "100193 0b11000011101100001 -0b11000011101100010 -100194\n",
      "100194 0b11000011101100010 -0b11000011101100011 -100195\n",
      "100195 0b11000011101100011 -0b11000011101100100 -100196\n",
      "100196 0b11000011101100100 -0b11000011101100101 -100197\n",
      "100197 0b11000011101100101 -0b11000011101100110 -100198\n",
      "100198 0b11000011101100110 -0b11000011101100111 -100199\n",
      "100199 0b11000011101100111 -0b11000011101101000 -100200\n"
     ]
    }
   ],
   "source": [
    "for b in range(100000,100200):\n",
    "    print(b,bin(b),bin(~b),~b)"
   ]
  },
  {
   "cell_type": "code",
   "execution_count": 3,
   "id": "c1aa0384",
   "metadata": {},
   "outputs": [
    {
     "data": {
      "text/plain": [
       "8"
      ]
     },
     "execution_count": 3,
     "metadata": {},
     "output_type": "execute_result"
    }
   ],
   "source": [
    "10&9"
   ]
  },
  {
   "cell_type": "code",
   "execution_count": 4,
   "id": "3d769f2a",
   "metadata": {},
   "outputs": [
    {
     "data": {
      "text/plain": [
       "8"
      ]
     },
     "execution_count": 4,
     "metadata": {},
     "output_type": "execute_result"
    }
   ],
   "source": [
    "11&12"
   ]
  },
  {
   "cell_type": "code",
   "execution_count": 5,
   "id": "c12b19ab",
   "metadata": {},
   "outputs": [
    {
     "data": {
      "text/plain": [
       "12"
      ]
     },
     "execution_count": 5,
     "metadata": {},
     "output_type": "execute_result"
    }
   ],
   "source": [
    "12&13"
   ]
  },
  {
   "cell_type": "code",
   "execution_count": 6,
   "id": "a4da31ae",
   "metadata": {},
   "outputs": [
    {
     "data": {
      "text/plain": [
       "12"
      ]
     },
     "execution_count": 6,
     "metadata": {},
     "output_type": "execute_result"
    }
   ],
   "source": [
    "13&14"
   ]
  },
  {
   "cell_type": "code",
   "execution_count": 119,
   "id": "09ac0848",
   "metadata": {},
   "outputs": [
    {
     "name": "stdout",
     "output_type": "stream",
     "text": [
      "0b1010111 87\n"
     ]
    }
   ],
   "source": [
    "import random\n",
    "a=random.randint(1,100)\n",
    "print(bin(a),a)"
   ]
  },
  {
   "cell_type": "code",
   "execution_count": 115,
   "id": "a7f0efaf",
   "metadata": {},
   "outputs": [
    {
     "name": "stdout",
     "output_type": "stream",
     "text": [
      "10 5\n",
      "11 5\n",
      "12 6\n",
      "13 6\n",
      "14 7\n",
      "15 7\n",
      "16 8\n",
      "17 8\n",
      "18 9\n",
      "19 9\n",
      "20 10\n",
      "21 10\n",
      "22 11\n",
      "23 11\n",
      "24 12\n",
      "25 12\n",
      "26 13\n",
      "27 13\n",
      "28 14\n",
      "29 14\n",
      "30 15\n",
      "31 15\n",
      "32 16\n",
      "33 16\n"
     ]
    }
   ],
   "source": [
    "for i in range(10,34):\n",
    "    print(i,i>>1)"
   ]
  },
  {
   "cell_type": "code",
   "execution_count": 22,
   "id": "d437d9f7",
   "metadata": {},
   "outputs": [],
   "source": [
    "for i in range(1,100000):\n",
    "    if ~i != -(i+1):\n",
    "        print(i,bin(i),bin(~i),~i)"
   ]
  },
  {
   "cell_type": "code",
   "execution_count": 19,
   "id": "dd24b232",
   "metadata": {},
   "outputs": [
    {
     "name": "stdout",
     "output_type": "stream",
     "text": [
      "4 0 0\n",
      "4 1 0\n",
      "4 2 0\n",
      "4 3 0\n",
      "4 4 4\n",
      "4 5 4\n",
      "4 6 4\n",
      "4 7 4\n",
      "4 8 0\n",
      "5 0 0\n",
      "5 1 1\n",
      "5 2 0\n",
      "5 3 1\n",
      "5 4 4\n",
      "5 5 5\n",
      "5 6 4\n",
      "5 7 5\n",
      "5 8 0\n",
      "6 0 0\n",
      "6 1 0\n",
      "6 2 2\n",
      "6 3 2\n",
      "6 4 4\n",
      "6 5 4\n",
      "6 6 6\n",
      "6 7 6\n",
      "6 8 0\n"
     ]
    }
   ],
   "source": [
    "for i in range(4,7):\n",
    "    for j in range(0,2**3+1):\n",
    "        print(i,j ,i & j)"
   ]
  },
  {
   "cell_type": "code",
   "execution_count": 13,
   "id": "2342b778",
   "metadata": {},
   "outputs": [
    {
     "data": {
      "text/plain": [
       "('0b1', '0b10')"
      ]
     },
     "execution_count": 13,
     "metadata": {},
     "output_type": "execute_result"
    }
   ],
   "source": [
    "1 & 2\n",
    "bin(1),bin(2)"
   ]
  },
  {
   "cell_type": "code",
   "execution_count": 39,
   "id": "b42a391e",
   "metadata": {},
   "outputs": [
    {
     "name": "stdout",
     "output_type": "stream",
     "text": [
      "0\n",
      "-3\n",
      "-6\n",
      "-9\n",
      "-12\n",
      "-15\n",
      "-18\n",
      "-21\n",
      "-24\n",
      "-27\n"
     ]
    }
   ],
   "source": [
    "for i in range(0,-10,-1):\n",
    "    print(3*i)"
   ]
  },
  {
   "cell_type": "code",
   "execution_count": null,
   "id": "5e134923",
   "metadata": {},
   "outputs": [
    {
     "data": {
      "text/plain": [
       "2"
      ]
     },
     "execution_count": 68,
     "metadata": {},
     "output_type": "execute_result"
    }
   ],
   "source": [
    "-10%3       # output is 2 b'coz we have to find an number smaller than -10 i.e is -12 that's why remainder is 2 hence the output"
   ]
  },
  {
   "cell_type": "markdown",
   "id": "d8b4ae82",
   "metadata": {},
   "source": [
    "Practice Questions"
   ]
  },
  {
   "cell_type": "code",
   "execution_count": 69,
   "id": "0a5efc3a",
   "metadata": {},
   "outputs": [
    {
     "data": {
      "text/plain": [
       "-1"
      ]
     },
     "execution_count": 69,
     "metadata": {},
     "output_type": "execute_result"
    }
   ],
   "source": [
    "-4%-3"
   ]
  },
  {
   "cell_type": "code",
   "execution_count": 120,
   "id": "e3a5b5d5",
   "metadata": {},
   "outputs": [
    {
     "data": {
      "text/plain": [
       "10"
      ]
     },
     "execution_count": 120,
     "metadata": {},
     "output_type": "execute_result"
    }
   ],
   "source": [
    "87>>3"
   ]
  },
  {
   "cell_type": "code",
   "execution_count": 41,
   "id": "82d9f7c7",
   "metadata": {},
   "outputs": [
    {
     "data": {
      "text/plain": [
       "5"
      ]
     },
     "execution_count": 41,
     "metadata": {},
     "output_type": "execute_result"
    }
   ],
   "source": [
    "5%7"
   ]
  },
  {
   "cell_type": "code",
   "execution_count": 63,
   "id": "e8e207cc",
   "metadata": {},
   "outputs": [
    {
     "data": {
      "text/plain": [
       "1"
      ]
     },
     "execution_count": 63,
     "metadata": {},
     "output_type": "execute_result"
    }
   ],
   "source": [
    "1%2"
   ]
  },
  {
   "cell_type": "code",
   "execution_count": 62,
   "id": "e772a367",
   "metadata": {},
   "outputs": [
    {
     "data": {
      "text/plain": [
       "1.0"
      ]
     },
     "execution_count": 62,
     "metadata": {},
     "output_type": "execute_result"
    }
   ],
   "source": [
    "2/2"
   ]
  },
  {
   "cell_type": "code",
   "execution_count": 90,
   "id": "0b1260cc",
   "metadata": {},
   "outputs": [
    {
     "name": "stdout",
     "output_type": "stream",
     "text": [
      "24 50.00003200002\n"
     ]
    }
   ],
   "source": [
    "import sys\n",
    "a=20.00000000002\n",
    "b=30.000032\n",
    "c=a+b\n",
    "print(sys.getsizeof(c),c)"
   ]
  },
  {
   "cell_type": "code",
   "execution_count": 103,
   "id": "fbd9a451",
   "metadata": {},
   "outputs": [
    {
     "name": "stdout",
     "output_type": "stream",
     "text": [
      "10.0\n"
     ]
    }
   ],
   "source": [
    "a=10/3\n",
    "b=a*3\n",
    "print(b)"
   ]
  },
  {
   "cell_type": "code",
   "execution_count": 136,
   "id": "04c84fb4",
   "metadata": {},
   "outputs": [
    {
     "name": "stdout",
     "output_type": "stream",
     "text": [
      "50\n",
      "100\n"
     ]
    }
   ],
   "source": [
    "x='100'\n",
    "y=50\n",
    "print(x and y)\n",
    "print(y and x)"
   ]
  },
  {
   "cell_type": "markdown",
   "id": "bbdddc26",
   "metadata": {},
   "source": [
    "Membership Operators"
   ]
  },
  {
   "cell_type": "code",
   "execution_count": 139,
   "id": "13a7a27d",
   "metadata": {},
   "outputs": [
    {
     "data": {
      "text/plain": [
       "False"
      ]
     },
     "execution_count": 139,
     "metadata": {},
     "output_type": "execute_result"
    }
   ],
   "source": [
    "( '9' in x)"
   ]
  },
  {
   "cell_type": "code",
   "execution_count": 140,
   "id": "4bfd3400",
   "metadata": {},
   "outputs": [
    {
     "data": {
      "text/plain": [
       "True"
      ]
     },
     "execution_count": 140,
     "metadata": {},
     "output_type": "execute_result"
    }
   ],
   "source": [
    "'o' not in x"
   ]
  },
  {
   "cell_type": "code",
   "execution_count": 141,
   "id": "4d6ce3a8",
   "metadata": {},
   "outputs": [
    {
     "name": "stdout",
     "output_type": "stream",
     "text": [
      "True\n"
     ]
    }
   ],
   "source": [
    "print(bool(1.0+1j))"
   ]
  },
  {
   "cell_type": "markdown",
   "id": "60209ee5",
   "metadata": {},
   "source": [
    "Identity Operator\n"
   ]
  },
  {
   "cell_type": "code",
   "execution_count": 143,
   "id": "d4a92f20",
   "metadata": {},
   "outputs": [
    {
     "data": {
      "text/plain": [
       "False"
      ]
     },
     "execution_count": 143,
     "metadata": {},
     "output_type": "execute_result"
    }
   ],
   "source": [
    "a is b"
   ]
  },
  {
   "cell_type": "code",
   "execution_count": 144,
   "id": "42822192",
   "metadata": {},
   "outputs": [
    {
     "data": {
      "text/plain": [
       "True"
      ]
     },
     "execution_count": 144,
     "metadata": {},
     "output_type": "execute_result"
    }
   ],
   "source": [
    "b is not a"
   ]
  }
 ],
 "metadata": {
  "kernelspec": {
   "display_name": "Python 3",
   "language": "python",
   "name": "python3"
  },
  "language_info": {
   "codemirror_mode": {
    "name": "ipython",
    "version": 3
   },
   "file_extension": ".py",
   "mimetype": "text/x-python",
   "name": "python",
   "nbconvert_exporter": "python",
   "pygments_lexer": "ipython3",
   "version": "3.11.0"
  }
 },
 "nbformat": 4,
 "nbformat_minor": 5
}
