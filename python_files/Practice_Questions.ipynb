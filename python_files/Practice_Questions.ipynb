{
 "cells": [
  {
   "cell_type": "markdown",
   "id": "c53e51d3",
   "metadata": {},
   "source": [
    "Exercise 1: Print first 10 natural numbers using while loop"
   ]
  },
  {
   "cell_type": "code",
   "execution_count": 48,
   "id": "4aca6e76",
   "metadata": {},
   "outputs": [
    {
     "name": "stdout",
     "output_type": "stream",
     "text": [
      "1 2 3 4 5 6 7 8 9 10 "
     ]
    }
   ],
   "source": [
    "i=1\n",
    "while i<=10:\n",
    "    print(i,end=\" \")\n",
    "    i+=1"
   ]
  },
  {
   "cell_type": "markdown",
   "id": "702cbfd0",
   "metadata": {},
   "source": [
    "Excersice 2: Print the patterns"
   ]
  },
  {
   "cell_type": "code",
   "execution_count": 49,
   "id": "920d89fc",
   "metadata": {},
   "outputs": [
    {
     "name": "stdout",
     "output_type": "stream",
     "text": [
      "1 \n",
      "1 2 \n",
      "1 2 3 \n",
      "1 2 3 4 \n",
      "1 2 3 4 5 \n"
     ]
    }
   ],
   "source": [
    "for i in range(1,6):\n",
    "    for j in range(1,i+1):\n",
    "        print(j,end=\" \")\n",
    "    print()"
   ]
  },
  {
   "cell_type": "markdown",
   "id": "53a308ef",
   "metadata": {},
   "source": [
    "Exercise 3: Calculate sum of all numbers from 1 to a given number"
   ]
  },
  {
   "cell_type": "code",
   "execution_count": 50,
   "id": "4eb9d9a3",
   "metadata": {},
   "outputs": [
    {
     "name": "stdout",
     "output_type": "stream",
     "text": [
      "10\n"
     ]
    }
   ],
   "source": [
    "n=int(input(\"enter n:\"))\n",
    "sum=0\n",
    "for i in range(n+1):\n",
    "    sum+=i\n",
    "print(sum)"
   ]
  },
  {
   "cell_type": "markdown",
   "id": "090d67ed",
   "metadata": {},
   "source": [
    "Exercise 4: Print multiplication table of a given number"
   ]
  },
  {
   "cell_type": "code",
   "execution_count": 51,
   "id": "9dddaa2b",
   "metadata": {},
   "outputs": [
    {
     "name": "stdout",
     "output_type": "stream",
     "text": [
      "1 * 1 = 1\n",
      "1 * 2 = 2\n",
      "1 * 3 = 3\n",
      "1 * 4 = 4\n",
      "1 * 5 = 5\n",
      "1 * 6 = 6\n",
      "1 * 7 = 7\n",
      "1 * 8 = 8\n",
      "1 * 9 = 9\n",
      "1 * 10 = 10\n"
     ]
    }
   ],
   "source": [
    "n=int(input(\"enter number:\"))\n",
    "for i in range(1,11):\n",
    "    print(n,\"*\",i,\"=\",n*i)"
   ]
  },
  {
   "cell_type": "markdown",
   "id": "8db2f860",
   "metadata": {},
   "source": [
    "Exercise 5: Display numbers from a list using a loop"
   ]
  },
  {
   "cell_type": "code",
   "execution_count": 52,
   "id": "4713d0b6",
   "metadata": {},
   "outputs": [
    {
     "name": "stdout",
     "output_type": "stream",
     "text": [
      "1 2 3 4 "
     ]
    }
   ],
   "source": [
    "i=0\n",
    "lst=[1,2,3,4]\n",
    "while i in range(len(lst)):\n",
    "    print(lst[i],end=\" \")\n",
    "    i+=1"
   ]
  },
  {
   "cell_type": "code",
   "execution_count": 53,
   "id": "1199a643",
   "metadata": {},
   "outputs": [
    {
     "name": "stdout",
     "output_type": "stream",
     "text": [
      "1 2 34 "
     ]
    }
   ],
   "source": [
    "lst=[1,2,34]\n",
    "for i in lst:\n",
    "    print(i,end=\" \")"
   ]
  },
  {
   "cell_type": "markdown",
   "id": "298b55f5",
   "metadata": {},
   "source": [
    "Exercise 6: Count the total number of digits in a number"
   ]
  },
  {
   "cell_type": "code",
   "execution_count": 55,
   "id": "20efb8ad",
   "metadata": {},
   "outputs": [
    {
     "ename": "TypeError",
     "evalue": "'str' object is not callable",
     "output_type": "error",
     "traceback": [
      "\u001b[31m---------------------------------------------------------------------------\u001b[39m",
      "\u001b[31mTypeError\u001b[39m                                 Traceback (most recent call last)",
      "\u001b[36mCell\u001b[39m\u001b[36m \u001b[39m\u001b[32mIn[55]\u001b[39m\u001b[32m, line 2\u001b[39m\n\u001b[32m      1\u001b[39m a=\u001b[32m122345\u001b[39m\n\u001b[32m----> \u001b[39m\u001b[32m2\u001b[39m aws=\u001b[38;5;28;43mstr\u001b[39;49m\u001b[43m(\u001b[49m\u001b[43ma\u001b[49m\u001b[43m)\u001b[49m\n\u001b[32m      3\u001b[39m ctr=\u001b[32m0\u001b[39m\n\u001b[32m      4\u001b[39m \u001b[38;5;28;01mfor\u001b[39;00m i \u001b[38;5;129;01min\u001b[39;00m aws:\n",
      "\u001b[31mTypeError\u001b[39m: 'str' object is not callable"
     ]
    }
   ],
   "source": [
    "a=122345\n",
    "aws=str(a)\n",
    "ctr=0\n",
    "for i in aws:\n",
    "    ctr+=1\n",
    "print(ctr)"
   ]
  },
  {
   "cell_type": "code",
   "execution_count": null,
   "id": "558168de",
   "metadata": {},
   "outputs": [
    {
     "name": "stdout",
     "output_type": "stream",
     "text": [
      "6\n"
     ]
    }
   ],
   "source": [
    "a=122345\n",
    "ctr=0\n",
    "while a!=0:\n",
    "    a=a//10\n",
    "    ctr+=1\n",
    "print(ctr)"
   ]
  },
  {
   "cell_type": "markdown",
   "id": "13040ac1",
   "metadata": {},
   "source": [
    "Exercise 7: Print the following pattern"
   ]
  },
  {
   "cell_type": "code",
   "execution_count": null,
   "id": "caba7e9f",
   "metadata": {},
   "outputs": [
    {
     "name": "stdout",
     "output_type": "stream",
     "text": [
      "5 4 3 2 1 \n",
      "4 3 2 1 \n",
      "3 2 1 \n",
      "2 1 \n",
      "1 \n"
     ]
    }
   ],
   "source": [
    "for i in range(5,0,-1):\n",
    "    for j in range(i,0,-1):\n",
    "        print(j,end=\" \")\n",
    "    print()"
   ]
  },
  {
   "cell_type": "markdown",
   "id": "294598c6",
   "metadata": {},
   "source": [
    "Exercise 8: Print list in reverse order using a loop"
   ]
  },
  {
   "cell_type": "code",
   "execution_count": null,
   "id": "0d80dbb2",
   "metadata": {},
   "outputs": [
    {
     "name": "stdout",
     "output_type": "stream",
     "text": [
      "3 2 1 "
     ]
    }
   ],
   "source": [
    "for i in range(len(lst),0,-1):\n",
    "    print(i,end=\" \")\n"
   ]
  },
  {
   "cell_type": "markdown",
   "id": "b64d13f8",
   "metadata": {},
   "source": [
    "Exercise 9: Display numbers from -10 to -1 using for loop"
   ]
  },
  {
   "cell_type": "code",
   "execution_count": null,
   "id": "a9855cc0",
   "metadata": {},
   "outputs": [
    {
     "name": "stdout",
     "output_type": "stream",
     "text": [
      "-10 -9 -8 -7 -6 -5 -4 -3 -2 -1 "
     ]
    }
   ],
   "source": [
    "for i in range(-10,0):\n",
    "    print(i,end=\" \")"
   ]
  },
  {
   "cell_type": "markdown",
   "id": "96a5fe8d",
   "metadata": {},
   "source": [
    "Exercise 10: Display a message “Done” after the successful execution of the for loop"
   ]
  },
  {
   "cell_type": "code",
   "execution_count": null,
   "id": "83cec9d9",
   "metadata": {},
   "outputs": [
    {
     "name": "stdout",
     "output_type": "stream",
     "text": [
      "0 1 2 3 4 Done!!\n"
     ]
    }
   ],
   "source": [
    "for i in range(5):\n",
    "    print(i,end=\" \")\n",
    "print(\"Done!!\")"
   ]
  },
  {
   "cell_type": "code",
   "execution_count": null,
   "id": "b0014796",
   "metadata": {},
   "outputs": [
    {
     "name": "stdout",
     "output_type": "stream",
     "text": [
      "Prime numbers between 25 and 50 are:\n",
      "{37, 41, 43, 47, 29, 31}\n"
     ]
    }
   ],
   "source": [
    "n=int(input(\"enter start:\"))\n",
    "m=int(input(\"enter end:\"))\n",
    "set1=set()\n",
    "f=0\n",
    "print(\"Prime numbers between\",n,\"and\",m,\"are:\")\n",
    "for i in range(n,m+1):\n",
    "    if i<=1:\n",
    "        continue\n",
    "    elif i==2 or i==3:\n",
    "        set1.add(i)\n",
    "    else:\n",
    "        x=i//2\n",
    "        for a in range(2,i):\n",
    "            if i%a==0:\n",
    "                break\n",
    "        else:\n",
    "            set1.add(i)\n",
    "print(set1)"
   ]
  },
  {
   "cell_type": "code",
   "execution_count": null,
   "id": "1dc560a1",
   "metadata": {},
   "outputs": [
    {
     "name": "stdout",
     "output_type": "stream",
     "text": [
      "['1', '2', '3', '4', '5', '6', 'a', 'b', 'c', 'd', 'e', 'f', 'g', 'h', 'i', 'j', 'k', 'l', 'm', 'n', 'o', 'p', 'q', 'r', 's', 't', 'u', 'v', 'w', 'x', 'y', 'z']\n",
      "yes its a pangram\n"
     ]
    }
   ],
   "source": [
    "import string\n",
    "s= string.ascii_lowercase\n",
    "s1 = \"abccdefghijklmnopqrstuvwxyz123456\"\n",
    "s2 = set((s1))\n",
    "s3 = \"\"\n",
    "for x in s2:\n",
    "    if x.isalpha():\n",
    "        s3+=x\n",
    "if len(s3)==26:\n",
    "    print('yes its a pangram')\n",
    "else:\n",
    "    print(\"no\")"
   ]
  },
  {
   "cell_type": "code",
   "execution_count": null,
   "id": "b1a1054a",
   "metadata": {},
   "outputs": [
    {
     "name": "stdout",
     "output_type": "stream",
     "text": [
      "{'q', '4', 'c', 'e', 'i', 'f', 'v', '3', 'm', 'x', 'p', 'j', 'a', '2', 'y', 'd', 'w', 'g', '1', 'u', 'b', 'o', 't', 'h', 'k', 'n', 's', 'r', '5', 'l'}\n",
      "pangram\n"
     ]
    }
   ],
   "source": [
    "t = \"abccdefghijklmnopqrstuvwxy12345\"\n",
    "t1 = set(t)\n",
    "print(t1)\n",
    " \n",
    "ctr = 0\n",
    "for x in t1:\n",
    "    if x.isalpha():\n",
    "        ctr+=1\n",
    "   \n",
    "if ctr == 25:\n",
    "    print(\"pangram\")\n",
    " \n",
    "else:\n",
    "    print(\"no\")"
   ]
  },
  {
   "cell_type": "code",
   "execution_count": null,
   "id": "76d5ec44",
   "metadata": {},
   "outputs": [
    {
     "name": "stdout",
     "output_type": "stream",
     "text": [
      "Pangram\n"
     ]
    }
   ],
   "source": [
    "s1 = \"abccdefghijklmnopqrstuvwxyz123456\"\n",
    "str1=s1.lower()\n",
    "set2=set()\n",
    "for i in str1:\n",
    "    if i.isalpha()==True:\n",
    "        set2.add(i)\n",
    "\n",
    "if len(set2)==26:\n",
    "    print(\"Pangram\")\n",
    "else:\n",
    "    print(\"non pangram\")"
   ]
  },
  {
   "cell_type": "code",
   "execution_count": null,
   "id": "f5d90f4c",
   "metadata": {},
   "outputs": [
    {
     "name": "stdout",
     "output_type": "stream",
     "text": [
      "inner of line 27\n",
      "None\n",
      "inner of line 15,5\n",
      "None\n"
     ]
    }
   ],
   "source": [
    "def fun():\n",
    "    # global x\n",
    "    x = \"outer\"\n",
    "    # print(x , \"of line 5\")\n",
    "    # return\n",
    " \n",
    " \n",
    "    def infun():\n",
    "        # global x\n",
    "        nonlocal x\n",
    "        x = \"inner\"\n",
    "        print(x , \"of line 27\")\n",
    "        # return\n",
    "    print(infun())\n",
    "    print(x , \"of line 15,5\")    \n",
    "      \n",
    "print(fun())"
   ]
  },
  {
   "cell_type": "markdown",
   "id": "387b839c",
   "metadata": {},
   "source": [
    "Exercise 13: Find the factorial of a given number"
   ]
  },
  {
   "cell_type": "code",
   "execution_count": null,
   "id": "1ba0cc3c",
   "metadata": {},
   "outputs": [
    {
     "name": "stdout",
     "output_type": "stream",
     "text": [
      "24\n"
     ]
    }
   ],
   "source": [
    "n=int(input(\"entr a number:\"))\n",
    "fact=1\n",
    "for i in range(n,0,-1):\n",
    "    fact=fact*i\n",
    "print(fact)"
   ]
  },
  {
   "cell_type": "markdown",
   "id": "ab906519",
   "metadata": {},
   "source": [
    "Exercise 14: Reverse a integer number"
   ]
  },
  {
   "cell_type": "code",
   "execution_count": null,
   "id": "92a708b9",
   "metadata": {},
   "outputs": [
    {
     "name": "stdout",
     "output_type": "stream",
     "text": [
      "9876543234567899999999954321\n"
     ]
    }
   ],
   "source": [
    "n=12345999999999876543234567890\n",
    "\n",
    "b=0\n",
    "while n>0:\n",
    "    a=n%10\n",
    "    b=(b*10)+a\n",
    "    n=n//10\n",
    "print(b)"
   ]
  },
  {
   "cell_type": "markdown",
   "id": "a895eea9",
   "metadata": {},
   "source": [
    "Exercise 15: Print elements from a given list present at odd index positions"
   ]
  },
  {
   "cell_type": "code",
   "execution_count": null,
   "id": "53135380",
   "metadata": {},
   "outputs": [],
   "source": [
    "lst = [10, 20, 30, 40, 50, 60, 70, 80, 90, 100]"
   ]
  },
  {
   "cell_type": "code",
   "execution_count": null,
   "id": "7eceb012",
   "metadata": {},
   "outputs": [
    {
     "name": "stdout",
     "output_type": "stream",
     "text": [
      "20 40 60 80 100 "
     ]
    }
   ],
   "source": [
    "for i in range(len(lst)):\n",
    "    if i%2!=0:\n",
    "        print(lst[i],end=\" \")"
   ]
  },
  {
   "cell_type": "markdown",
   "id": "b0df5cd8",
   "metadata": {},
   "source": [
    "Exercise 16: Calculate the cube of all numbers from 1 to a given number"
   ]
  },
  {
   "cell_type": "code",
   "execution_count": null,
   "id": "db382b59",
   "metadata": {},
   "outputs": [
    {
     "name": "stdout",
     "output_type": "stream",
     "text": [
      "1 8 27 64 125 216 343 "
     ]
    }
   ],
   "source": [
    "n=int(input(\"enter n\"))\n",
    "for i in range(1,n+1):\n",
    "    print(i**3,end=\" \")"
   ]
  },
  {
   "cell_type": "markdown",
   "id": "44ec598d",
   "metadata": {},
   "source": [
    "17. Alphabetically arrange the string wth using sort function"
   ]
  },
  {
   "cell_type": "code",
   "execution_count": null,
   "id": "f1d817e1",
   "metadata": {},
   "outputs": [
    {
     "name": "stdout",
     "output_type": "stream",
     "text": [
      "['m', 'u', 'k', 'u', 'n', 'd']\n",
      "['d', 'k', 'm', 'n', 'u', 'u']\n",
      "dkmnuu\n"
     ]
    }
   ],
   "source": [
    "str17=\"mukund\"\n",
    "lst=[]\n",
    "str1=\"\"\n",
    "for i in str17:\n",
    "    lst.append(i)\n",
    "print(lst)\n",
    "for i in range(0,len(lst)):\n",
    "    for j in range(i+1,len(lst)):\n",
    "        if lst[i]>=lst[j]:\n",
    "            lst[i],lst[j]=lst[j],lst[i]\n",
    "print(lst)\n",
    "\n",
    "for i in lst:\n",
    "    str1=str1+i\n",
    "print(str1)"
   ]
  },
  {
   "cell_type": "markdown",
   "id": "e84e729e",
   "metadata": {},
   "source": [
    "18. Get the first item, the middle item and the last item of the list\n",
    "\n"
   ]
  },
  {
   "cell_type": "code",
   "execution_count": null,
   "id": "b4321280",
   "metadata": {},
   "outputs": [
    {
     "name": "stdout",
     "output_type": "stream",
     "text": [
      "1 3 sum\n"
     ]
    }
   ],
   "source": [
    "lst=[1,2,3,\"sam\",\"sum\"]\n",
    "n=len(lst)//2\n",
    "print(lst[0],lst[n],lst[-1])"
   ]
  },
  {
   "cell_type": "markdown",
   "id": "77e3de8d",
   "metadata": {},
   "source": [
    "19. Remove the duplicates from a string with using set\n"
   ]
  },
  {
   "cell_type": "code",
   "execution_count": null,
   "id": "3b1d958f",
   "metadata": {},
   "outputs": [
    {
     "name": "stdout",
     "output_type": "stream",
     "text": [
      "hello my name is \n",
      "hloynameis \n"
     ]
    }
   ],
   "source": [
    "str19=\"hello my name is \"\n",
    "print(str19)\n",
    "str1=\"\"\n",
    "for i in range(len(str19)):\n",
    "    if i !=\" \":\n",
    "        x= str19.find(str19[i],i+1,len(str19))\n",
    "    if x== -1:\n",
    "        str1=str1+\"\"+str19[i]\n",
    "print(str1)"
   ]
  },
  {
   "cell_type": "code",
   "execution_count": null,
   "id": "c48fdc9f",
   "metadata": {},
   "outputs": [
    {
     "name": "stdout",
     "output_type": "stream",
     "text": [
      "helo my na is \n"
     ]
    }
   ],
   "source": [
    "str2=\"\"\n",
    "for i in str19:\n",
    "    if i !=\" \":\n",
    "        if i not in str2:\n",
    "            str2+=i\n",
    "    else:\n",
    "        str2+=i\n",
    "print(str2)\n"
   ]
  },
  {
   "cell_type": "code",
   "execution_count": null,
   "id": "93a17dff",
   "metadata": {},
   "outputs": [],
   "source": [
    "# a=153\n",
    "# ctr=0\n",
    "# na,nb=a,a\n",
    "# n1=0\n",
    "# while na > 0:\n",
    "#     ctr+=1\n",
    "#     na=na//10\n",
    "# print(ctr)\n",
    "\n",
    "# while a>0:\n",
    "#     b=nb%10\n",
    "#     n1=n1 + (b**ctr)\n",
    "#     nb=nb//10\n",
    "# print(n1)\n",
    "\n",
    "# if n1==a:\n",
    "#     print(\"Armstrong\")\n",
    "# else:\n",
    "#     print(\"non armstrong\")\n"
   ]
  },
  {
   "cell_type": "code",
   "execution_count": null,
   "id": "bb35fc2d",
   "metadata": {},
   "outputs": [],
   "source": [
    "# number = 153\n",
    "\n",
    "# # initialize required variable\n",
    "# sum = 0\n",
    "# temp = number\n",
    "# n = len(str(number))\n",
    "\n",
    "# while temp > 0:\n",
    "#   val = temp % 10\n",
    "#   sum += val ** n\n",
    "#   temp //= 10\n",
    "\n",
    "# print(\"Number is: \", number)\n",
    "# print(\"Sum is: \", sum)\n",
    "\n",
    "# if number == sum:\n",
    "#   print(\"{} is an Armstrong number\".format(number))\n",
    "# else:\n",
    "#   print(\"{} is not an Armstrong number\".format(number))"
   ]
  },
  {
   "cell_type": "code",
   "execution_count": 59,
   "id": "2aac6ea6",
   "metadata": {},
   "outputs": [
    {
     "name": "stdout",
     "output_type": "stream",
     "text": [
      "The original list is :  [{1, 4, 5, 6}, {1, 4, 5, 6}, {1, 3, 4}, {1, 3, 4}, {8, 9, 7}]\n",
      "Duplicate sets list :  [frozenset({1, 4, 5, 6}), frozenset({1, 3, 4})]\n",
      "{frozenset({1, 4, 5, 6}), frozenset({1, 3, 4}), frozenset({8, 9, 7})}\n"
     ]
    }
   ],
   "source": [
    "test_list = [{4, 5, 6, 1}, {6, 4, 1, 5}, {1, 3, 4, 3}, \n",
    "\t\t\t{1, 4, 3}, {7, 8, 9}]\n",
    "# printing original list\n",
    "print(\"The original list is : \" ,test_list)\n",
    "# creating an empty set to store the result\n",
    "result = set()\n",
    "# nested for loop to compare sets\n",
    "for i in range(len(test_list)):\n",
    "\tfor j in range(i+1, len(test_list)):\n",
    "\t\tif test_list[i] != test_list[j]:\n",
    "\t\t\tresult.add(frozenset(test_list[i]))\n",
    "# printing result\n",
    "print(\"Duplicate sets list : \" ,list(result))\n",
    "unique_set=set(frozenset(i) for i in test_list )\n",
    "print(unique_set)"
   ]
  },
  {
   "cell_type": "code",
   "execution_count": null,
   "id": "d56cf032",
   "metadata": {},
   "outputs": [
    {
     "name": "stdout",
     "output_type": "stream",
     "text": [
      "[{1, 4, 5, 6}, {1, 4, 5, 6}, {1, 3, 4}, {1, 3, 4}, {8, 9, 7}]\n"
     ]
    },
    {
     "ename": "IndexError",
     "evalue": "list index out of range",
     "output_type": "error",
     "traceback": [
      "\u001b[31m---------------------------------------------------------------------------\u001b[39m",
      "\u001b[31mIndexError\u001b[39m                                Traceback (most recent call last)",
      "\u001b[36mCell\u001b[39m\u001b[36m \u001b[39m\u001b[32mIn[67]\u001b[39m\u001b[32m, line 7\u001b[39m\n\u001b[32m      5\u001b[39m \u001b[38;5;28;01mfor\u001b[39;00m i \u001b[38;5;129;01min\u001b[39;00m \u001b[38;5;28mrange\u001b[39m(\u001b[38;5;28mlen\u001b[39m(test_list)):\n\u001b[32m      6\u001b[39m     \u001b[38;5;28;01mfor\u001b[39;00m j \u001b[38;5;129;01min\u001b[39;00m \u001b[38;5;28mrange\u001b[39m(i+\u001b[32m1\u001b[39m,\u001b[38;5;28mlen\u001b[39m(test_list)):\n\u001b[32m----> \u001b[39m\u001b[32m7\u001b[39m         \u001b[38;5;28;01mif\u001b[39;00m test_list[i]==\u001b[43mtest_list\u001b[49m\u001b[43m[\u001b[49m\u001b[43mj\u001b[49m\u001b[43m]\u001b[49m:\n\u001b[32m      8\u001b[39m             test_list.remove(test_list[i])\n\u001b[32m      9\u001b[39m             test_list.remove(test_list[j])\n",
      "\u001b[31mIndexError\u001b[39m: list index out of range"
     ]
    }
   ],
   "source": [
    "test_list = [{4, 5, 6, 1}, {6, 4, 1, 5}, {1, 3, 4, 3}, {1, 4, 3}, {7, 8, 9}]\n",
    "print(test_list)\n",
    "set1=set()\n",
    "res_list=[]\n",
    "for i in range(len(test_list)):\n",
    "    for j in range(i+1,len(test_list)):\n",
    "        if test_list[i]==test_list[j]:\n",
    "            test_list.remove(test_list[i])\n",
    "            test_list.remove(test_list[j])\n",
    "test_list\n"
   ]
  },
  {
   "cell_type": "code",
   "execution_count": null,
   "id": "44d4e6d5",
   "metadata": {},
   "outputs": [],
   "source": []
  }
 ],
 "metadata": {
  "kernelspec": {
   "display_name": "Python 3",
   "language": "python",
   "name": "python3"
  },
  "language_info": {
   "codemirror_mode": {
    "name": "ipython",
    "version": 3
   },
   "file_extension": ".py",
   "mimetype": "text/x-python",
   "name": "python",
   "nbconvert_exporter": "python",
   "pygments_lexer": "ipython3",
   "version": "3.11.0"
  }
 },
 "nbformat": 4,
 "nbformat_minor": 5
}
