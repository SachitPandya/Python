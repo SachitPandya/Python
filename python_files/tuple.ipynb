{
 "cells": [
  {
   "cell_type": "code",
   "execution_count": 66,
   "id": "7f6dfb15",
   "metadata": {},
   "outputs": [],
   "source": [
    "tup=(1,2,3,4,2,1)"
   ]
  },
  {
   "cell_type": "code",
   "execution_count": 6,
   "id": "66a5e76c",
   "metadata": {},
   "outputs": [],
   "source": [
    "c=tup.count(2)"
   ]
  },
  {
   "cell_type": "code",
   "execution_count": 7,
   "id": "d56bd33b",
   "metadata": {},
   "outputs": [
    {
     "name": "stdout",
     "output_type": "stream",
     "text": [
      "2\n"
     ]
    }
   ],
   "source": [
    "print(c)"
   ]
  },
  {
   "cell_type": "code",
   "execution_count": 8,
   "id": "1af19914",
   "metadata": {},
   "outputs": [],
   "source": [
    "c=tup.index(2)"
   ]
  },
  {
   "cell_type": "code",
   "execution_count": 9,
   "id": "2a7144ef",
   "metadata": {},
   "outputs": [
    {
     "name": "stdout",
     "output_type": "stream",
     "text": [
      "1\n"
     ]
    }
   ],
   "source": [
    "print(c)"
   ]
  },
  {
   "cell_type": "code",
   "execution_count": 14,
   "id": "bf41d6ed",
   "metadata": {},
   "outputs": [
    {
     "name": "stdout",
     "output_type": "stream",
     "text": [
      "1\n"
     ]
    }
   ],
   "source": [
    "c=tup.index(2,1,5)\n",
    "print(c)"
   ]
  },
  {
   "cell_type": "code",
   "execution_count": 15,
   "id": "7744ebd8",
   "metadata": {},
   "outputs": [
    {
     "name": "stdout",
     "output_type": "stream",
     "text": [
      "(3, 4, 5, 6, 1, 2, 3, 4, 2, 1)\n"
     ]
    }
   ],
   "source": [
    "tup2=(3,4,5,6)\n",
    "tup3=tup2+tup\n",
    "print(tup3)"
   ]
  },
  {
   "cell_type": "code",
   "execution_count": 16,
   "id": "518eed4a",
   "metadata": {},
   "outputs": [
    {
     "name": "stdout",
     "output_type": "stream",
     "text": [
      "6\n"
     ]
    }
   ],
   "source": [
    "print(tup3[3])"
   ]
  },
  {
   "cell_type": "code",
   "execution_count": 20,
   "id": "1d72cc34",
   "metadata": {},
   "outputs": [
    {
     "name": "stdout",
     "output_type": "stream",
     "text": [
      "[(1, 2, 3, 4, 2, 1), (1, 2, 3, 4, 2, 1)]\n"
     ]
    }
   ],
   "source": [
    "tup4=[(tup)]+[(tup)]\n",
    "print(tup4)"
   ]
  },
  {
   "cell_type": "code",
   "execution_count": 21,
   "id": "e940c005",
   "metadata": {},
   "outputs": [
    {
     "name": "stdout",
     "output_type": "stream",
     "text": [
      "(1, 2, 3, 4, 2, 1, 1, 2, 3, 4, 2, 1, 1, 2, 3, 4, 2, 1)\n"
     ]
    }
   ],
   "source": [
    "tup5=tup*3\n",
    "print(tup5)"
   ]
  },
  {
   "cell_type": "code",
   "execution_count": 22,
   "id": "2551def0",
   "metadata": {},
   "outputs": [
    {
     "name": "stdout",
     "output_type": "stream",
     "text": [
      "(3, 4, 2, 1)\n"
     ]
    }
   ],
   "source": [
    "print(tup[2:])\n"
   ]
  },
  {
   "cell_type": "code",
   "execution_count": 24,
   "id": "670aafff",
   "metadata": {},
   "outputs": [
    {
     "name": "stdout",
     "output_type": "stream",
     "text": [
      "6\n"
     ]
    }
   ],
   "source": [
    "print(len(tup))"
   ]
  },
  {
   "cell_type": "code",
   "execution_count": 25,
   "id": "92b7d747",
   "metadata": {},
   "outputs": [],
   "source": [
    "del tup5"
   ]
  },
  {
   "cell_type": "code",
   "execution_count": 27,
   "id": "2627c3cf",
   "metadata": {},
   "outputs": [],
   "source": [
    "a=[1,2,3,4]\n",
    "tup5=tuple(a)"
   ]
  },
  {
   "cell_type": "code",
   "execution_count": 28,
   "id": "1d6f22d3",
   "metadata": {},
   "outputs": [
    {
     "name": "stdout",
     "output_type": "stream",
     "text": [
      "<class 'tuple'> (1, 2, 3, 4)\n"
     ]
    }
   ],
   "source": [
    "print(type(tup5),tup5)"
   ]
  },
  {
   "cell_type": "code",
   "execution_count": 29,
   "id": "ea6bf29c",
   "metadata": {},
   "outputs": [],
   "source": [
    "tup5=tup"
   ]
  },
  {
   "cell_type": "code",
   "execution_count": 30,
   "id": "eb444a83",
   "metadata": {},
   "outputs": [
    {
     "name": "stdout",
     "output_type": "stream",
     "text": [
      "(1, 2, 3, 4, 2, 1)\n"
     ]
    }
   ],
   "source": [
    "print(tup5)"
   ]
  },
  {
   "cell_type": "code",
   "execution_count": 31,
   "id": "c842439e",
   "metadata": {},
   "outputs": [
    {
     "name": "stdout",
     "output_type": "stream",
     "text": [
      "[(1, 2, 3, 4, 2, 1, 3, 4, 5, 6)] [(1, 2, 3, 4, 2, 1)]\n"
     ]
    }
   ],
   "source": [
    "tup=tup+tup2\n",
    "print([tup],[tup5])"
   ]
  },
  {
   "cell_type": "code",
   "execution_count": 46,
   "id": "07314e6b",
   "metadata": {},
   "outputs": [
    {
     "name": "stdout",
     "output_type": "stream",
     "text": [
      "[1, 2, 3, 4, 4, 5] [1, 2, 3, 4]\n",
      "[1, 2, 3, 4, 4, 5] [2, 2, 3, 4]\n",
      "2362848912000 2362850149952\n",
      "2362745710896 2362745710928\n"
     ]
    }
   ],
   "source": [
    "a=[1,2,3,4]\n",
    "b=a.copy()\n",
    "b+=[4,5]\n",
    "print(b,a)\n",
    "a[0]=2\n",
    "print(b,a)\n",
    "print(id(b),id(a))\n",
    "print(id(b[0]),id(a[0]))\n"
   ]
  },
  {
   "cell_type": "code",
   "execution_count": 44,
   "id": "f48c7d51",
   "metadata": {},
   "outputs": [
    {
     "name": "stdout",
     "output_type": "stream",
     "text": [
      "{40, 1, 2, 3} {1, 2, 3}\n",
      "2362849660256 2362849659808\n",
      "2362849660256 2362849659808\n"
     ]
    }
   ],
   "source": [
    "set1={1,2,3}\n",
    "set2=set1.copy()\n",
    "set1.add(40)\n",
    "\n",
    "print(set1,set2)\n",
    "print(id(set1),id(set2))\n",
    "print(id(set1),id(set2))"
   ]
  },
  {
   "cell_type": "code",
   "execution_count": 51,
   "id": "db4a9f08",
   "metadata": {},
   "outputs": [
    {
     "name": "stdout",
     "output_type": "stream",
     "text": [
      "[1]   [2]   "
     ]
    }
   ],
   "source": [
    "n=2\n",
    "for i in range(n):\n",
    "    print(([tup[i]]),end=\"   \")"
   ]
  },
  {
   "cell_type": "code",
   "execution_count": 59,
   "id": "af44730e",
   "metadata": {},
   "outputs": [
    {
     "name": "stdout",
     "output_type": "stream",
     "text": [
      "(1, 2, 3, 4, 2, 1, 3, 4, 5, 6, 1, 2, 3, 4, 2, 1, 3, 4, 5, 6)\n"
     ]
    }
   ],
   "source": [
    "t3=tup+tup\n",
    "print(t3)"
   ]
  },
  {
   "cell_type": "code",
   "execution_count": 67,
   "id": "c4f81297",
   "metadata": {},
   "outputs": [],
   "source": [
    "str1=str(tup)"
   ]
  },
  {
   "cell_type": "code",
   "execution_count": 68,
   "id": "6384438d",
   "metadata": {},
   "outputs": [
    {
     "name": "stdout",
     "output_type": "stream",
     "text": [
      "<class 'tuple'> (1, 2, 3, 4, 2, 1)\n"
     ]
    }
   ],
   "source": [
    "print(type(tup),tup)"
   ]
  },
  {
   "cell_type": "code",
   "execution_count": 69,
   "id": "ae077ffb",
   "metadata": {},
   "outputs": [],
   "source": [
    "tstr=(1,2,3,5)\n"
   ]
  },
  {
   "cell_type": "code",
   "execution_count": 70,
   "id": "295ffc65",
   "metadata": {},
   "outputs": [
    {
     "name": "stdout",
     "output_type": "stream",
     "text": [
      "<class 'tuple'> <class 'str'>\n"
     ]
    }
   ],
   "source": [
    "tstr1=str(tstr)\n",
    "print(type(tstr),type(tstr1))"
   ]
  },
  {
   "cell_type": "code",
   "execution_count": 128,
   "id": "9d216537",
   "metadata": {},
   "outputs": [
    {
     "name": "stdout",
     "output_type": "stream",
     "text": [
      "('Tutor', 'J', 23, 56.67, [23, 12], True)\n",
      "<class 'tuple'>\n",
      "<class 'tuple'>\n",
      "('Tutor', 'J', 23, 56.67, [23, 12, 50], True)\n",
      "('Tutor', 'J', 23, 56.67, [23, 12], True)\n",
      "2362851951136 2362851778720\n"
     ]
    }
   ],
   "source": [
    "from copy import deepcopy\n",
    "#create a tuple\n",
    "t = (\"Tutor\", 'J', 23 , 56.67 , [23,12] , True) \n",
    "print(t)\n",
    "print(type(t))\n",
    "#make a copy of a tuple using deepcopy() function\n",
    "tc = deepcopy(t)\n",
    "print(type(tc))\n",
    "tc[4].append(50)\n",
    "print(tc)\n",
    "print(t)\n",
    "print(id(t),id(tc))"
   ]
  },
  {
   "cell_type": "markdown",
   "id": "dac20f76",
   "metadata": {},
   "source": [
    "Deepcopy"
   ]
  },
  {
   "cell_type": "code",
   "execution_count": 80,
   "id": "bb9b140f",
   "metadata": {},
   "outputs": [
    {
     "name": "stdout",
     "output_type": "stream",
     "text": [
      "2362850525968 2362850525968\n"
     ]
    }
   ],
   "source": [
    "t1=(1,2,2333, \"sam\")\n",
    "t2=deepcopy(t1)\n",
    "print(id(t1),id(t2))"
   ]
  },
  {
   "cell_type": "code",
   "execution_count": 93,
   "id": "5416b9d5",
   "metadata": {},
   "outputs": [
    {
     "name": "stdout",
     "output_type": "stream",
     "text": [
      "23\n"
     ]
    }
   ],
   "source": [
    "print(t[-4])"
   ]
  },
  {
   "cell_type": "code",
   "execution_count": 94,
   "id": "0191d7b8",
   "metadata": {},
   "outputs": [
    {
     "name": "stdout",
     "output_type": "stream",
     "text": [
      "2\n"
     ]
    }
   ],
   "source": [
    "ctr=0\n",
    "n=2\n",
    "for i in tup:\n",
    "    if i==n:\n",
    "        ctr+=1\n",
    "print(ctr)"
   ]
  },
  {
   "cell_type": "code",
   "execution_count": 97,
   "id": "216f7386",
   "metadata": {},
   "outputs": [
    {
     "name": "stdout",
     "output_type": "stream",
     "text": [
      "not found\n",
      "found\n"
     ]
    }
   ],
   "source": [
    "n=2\n",
    "for i in tup:\n",
    "    if i==n:\n",
    "        print(\"found\")\n",
    "        break\n",
    "    else:\n",
    "        print(\"not found\")"
   ]
  },
  {
   "cell_type": "code",
   "execution_count": 98,
   "id": "9456ee35",
   "metadata": {},
   "outputs": [
    {
     "name": "stdout",
     "output_type": "stream",
     "text": [
      "(1, 2, 3, 5) <class 'tuple'>\n"
     ]
    }
   ],
   "source": [
    "l=[1,2,3,5]\n",
    "tup22=tuple(l)\n",
    "print(tup22,type(tup22))"
   ]
  },
  {
   "cell_type": "code",
   "execution_count": 100,
   "id": "72ed01ea",
   "metadata": {},
   "outputs": [
    {
     "data": {
      "text/plain": [
       "2"
      ]
     },
     "execution_count": 100,
     "metadata": {},
     "output_type": "execute_result"
    }
   ],
   "source": [
    "tup22.index(3)"
   ]
  },
  {
   "cell_type": "code",
   "execution_count": 103,
   "id": "f2790112",
   "metadata": {},
   "outputs": [
    {
     "name": "stdout",
     "output_type": "stream",
     "text": [
      "6\n",
      "(1, 2, 3, 4, 2, 1)\n"
     ]
    }
   ],
   "source": [
    "print(len(tup))\n",
    "print(tup)"
   ]
  },
  {
   "cell_type": "code",
   "execution_count": 104,
   "id": "775c4cd0",
   "metadata": {},
   "outputs": [
    {
     "name": "stdout",
     "output_type": "stream",
     "text": [
      "(1, 2, 4, 3, 2, 1)\n"
     ]
    }
   ],
   "source": [
    "print(tup[::-1])\n"
   ]
  },
  {
   "cell_type": "code",
   "execution_count": 106,
   "id": "6a24960e",
   "metadata": {},
   "outputs": [
    {
     "name": "stdout",
     "output_type": "stream",
     "text": [
      "This is a tuple: (1, 2, 3, 4, 2, 1)\n"
     ]
    }
   ],
   "source": [
    "print(\"This is a tuple:\",tup)"
   ]
  },
  {
   "cell_type": "code",
   "execution_count": null,
   "id": "1cf23d25",
   "metadata": {},
   "outputs": [
    {
     "name": "stdout",
     "output_type": "stream",
     "text": [
      "([1, 2, 10], [2, 3, 20], [3, 4, 30])\n"
     ]
    }
   ],
   "source": [
    "tup=([1,2,10],[2,3,20],[3,4,30])\n",
    "for i in range(len(tup)):\n",
    "    tup[i][-1]=='100'\n",
    "print(tup)\n",
    "\n"
   ]
  },
  {
   "cell_type": "code",
   "execution_count": 114,
   "id": "dbe62037",
   "metadata": {},
   "outputs": [
    {
     "name": "stdout",
     "output_type": "stream",
     "text": [
      "<class 'dict'> {'a': 1, 'b': 2, 'c': 3}\n"
     ]
    }
   ],
   "source": [
    "tup=((\"a\",1),(\"b\",2),(\"c\",3))\n",
    "dic=dict(tup)\n",
    "print(type(dic),dic)"
   ]
  },
  {
   "cell_type": "code",
   "execution_count": 117,
   "id": "c49d3db6",
   "metadata": {},
   "outputs": [
    {
     "name": "stdout",
     "output_type": "stream",
     "text": [
      "(3, 4, 5, 6)\n"
     ]
    }
   ],
   "source": [
    "print(tup2)"
   ]
  },
  {
   "cell_type": "code",
   "execution_count": 124,
   "id": "4382c689",
   "metadata": {},
   "outputs": [
    {
     "name": "stdout",
     "output_type": "stream",
     "text": [
      "18\n"
     ]
    }
   ],
   "source": [
    "a,b,c,d=tup2\n",
    "print(a+b+c+d)"
   ]
  },
  {
   "cell_type": "code",
   "execution_count": 125,
   "id": "5a4e7f0b",
   "metadata": {},
   "outputs": [
    {
     "name": "stdout",
     "output_type": "stream",
     "text": [
      "(10, 20, 30, 40)\n"
     ]
    }
   ],
   "source": [
    "a,b,c,d=10,20,30,40\n",
    "tup11=a,b,c,d\n",
    "print(tup11)"
   ]
  },
  {
   "cell_type": "code",
   "execution_count": 126,
   "id": "939960d6",
   "metadata": {},
   "outputs": [
    {
     "name": "stdout",
     "output_type": "stream",
     "text": [
      "(10, 20, 30, 40, 5)\n"
     ]
    }
   ],
   "source": [
    "tup11=tup11+(5,)\n",
    "print(tup11)"
   ]
  },
  {
   "cell_type": "code",
   "execution_count": 132,
   "id": "b98cce8a",
   "metadata": {},
   "outputs": [
    {
     "name": "stdout",
     "output_type": "stream",
     "text": [
      "(3, 4, 5, 6, 1, 2, 3, 4, 2, 1)\n"
     ]
    }
   ],
   "source": [
    "print(tup3)\n"
   ]
  },
  {
   "cell_type": "code",
   "execution_count": 136,
   "id": "5fa4e553",
   "metadata": {},
   "outputs": [
    {
     "name": "stdout",
     "output_type": "stream",
     "text": [
      "{1, 2, 3, 4, 5, 6}\n"
     ]
    }
   ],
   "source": [
    "Uni_Lst=set()\n",
    "for i in tup3:\n",
    "    if tup3.count(i) >=1:\n",
    "        Uni_Lst.add(i)\n",
    "print(Uni_Lst)"
   ]
  },
  {
   "cell_type": "code",
   "execution_count": 7,
   "id": "b4d6f892",
   "metadata": {},
   "outputs": [
    {
     "name": "stdout",
     "output_type": "stream",
     "text": [
      "(1, 3, 5) (2, 4, 6)\n"
     ]
    }
   ],
   "source": [
    "tuple2=[(1,2),(3,4),(5,6)]\n",
    "i1,i2=(zip(*tuple2))\n",
    "print(i1,i2)"
   ]
  },
  {
   "cell_type": "code",
   "execution_count": 189,
   "id": "4371f661",
   "metadata": {},
   "outputs": [
    {
     "name": "stdout",
     "output_type": "stream",
     "text": [
      "[10, 10, 10]\n"
     ]
    }
   ],
   "source": [
    "lr=list(i2)\n",
    "for i in lr:\n",
    "    i=10\n",
    "print(lr)\n",
    "i2=lr"
   ]
  },
  {
   "cell_type": "code",
   "execution_count": null,
   "id": "4c7405bf",
   "metadata": {},
   "outputs": [
    {
     "name": "stdout",
     "output_type": "stream",
     "text": [
      "[(1, 10), (3, 10), (5, 10)]\n"
     ]
    }
   ],
   "source": [
    "tuple2=list(zip(i1,i2))\n",
    "print(tuple2)"
   ]
  },
  {
   "cell_type": "code",
   "execution_count": null,
   "id": "10daf0cd",
   "metadata": {},
   "outputs": [
    {
     "name": "stdout",
     "output_type": "stream",
     "text": [
      "[('',), ('a', 'b'), ('a', 'b', 'c'), 'd']\n"
     ]
    }
   ],
   "source": [
    "f_tup=[(), (), ('',), ('a', 'b'), ('a', 'b', 'c'), ('d')]\n",
    "f_tup=[f for f in f_tup if f]\n",
    "\n",
    "\n",
    "print(f_tup)"
   ]
  },
  {
   "cell_type": "code",
   "execution_count": 209,
   "id": "b556d401",
   "metadata": {},
   "outputs": [
    {
     "name": "stdout",
     "output_type": "stream",
     "text": [
      "[('',), ('a', 'b'), ('a', 'b', 'c'), 'd']\n"
     ]
    }
   ],
   "source": [
    "# for i in range(len(f_tup)):\n",
    "#     if f_tup[i]==():\n",
    "        # f_tup.remove(i)\n",
    "print(f_tup)"
   ]
  },
  {
   "cell_type": "code",
   "execution_count": 109,
   "id": "f4567496",
   "metadata": {},
   "outputs": [
    {
     "name": "stdout",
     "output_type": "stream",
     "text": [
      "{1: 2, 3: 4}\n"
     ]
    }
   ],
   "source": [
    "lst=[[1,2],[3,4]]\n",
    "dicti=dict(lst)\n",
    "print(dicti)"
   ]
  },
  {
   "cell_type": "code",
   "execution_count": 57,
   "id": "67a2942d",
   "metadata": {},
   "outputs": [
    {
     "name": "stdout",
     "output_type": "stream",
     "text": [
      "[('b', 3), ('d', 1), ('a', 2), ('c', 0)]\n",
      "('b', 'd', 'a', 'c') (3, 1, 2, 0)\n"
     ]
    }
   ],
   "source": [
    "lt=[('b',3),('d',1),('a',2),('c',0)]\n",
    "print(lt)\n",
    "zlts,zlti=list(zip(*lt))\n",
    "print(zlts,zlti)\n"
   ]
  },
  {
   "cell_type": "code",
   "execution_count": 58,
   "id": "42aee645",
   "metadata": {},
   "outputs": [
    {
     "name": "stdout",
     "output_type": "stream",
     "text": [
      "<class 'tuple'>\n"
     ]
    }
   ],
   "source": [
    "print(type(zlti))"
   ]
  },
  {
   "cell_type": "code",
   "execution_count": 59,
   "id": "31fd80c5",
   "metadata": {},
   "outputs": [],
   "source": [
    "lzlti=list(zlti)\n",
    "lzlts=list(zlts)"
   ]
  },
  {
   "cell_type": "code",
   "execution_count": 60,
   "id": "2eec2327",
   "metadata": {},
   "outputs": [
    {
     "name": "stdout",
     "output_type": "stream",
     "text": [
      "[0, 1, 2, 3]\n"
     ]
    }
   ],
   "source": [
    "lzlti.sort()\n",
    "print(lzlti)\n",
    "lzlts.sort()"
   ]
  },
  {
   "cell_type": "code",
   "execution_count": 63,
   "id": "dc2db964",
   "metadata": {},
   "outputs": [
    {
     "name": "stdout",
     "output_type": "stream",
     "text": [
      "<class 'tuple'>\n"
     ]
    }
   ],
   "source": [
    "zlti=tuple(lzlti)\n",
    "print(type(zlti))\n",
    "zlts=tuple(lzlts)"
   ]
  },
  {
   "cell_type": "code",
   "execution_count": 65,
   "id": "503040af",
   "metadata": {},
   "outputs": [
    {
     "name": "stdout",
     "output_type": "stream",
     "text": [
      "[('a', 0), ('b', 1), ('c', 2), ('d', 3)]\n"
     ]
    }
   ],
   "source": [
    "lt=list(zip(zlts,zlti))\n",
    "print(lt)"
   ]
  },
  {
   "cell_type": "code",
   "execution_count": 1,
   "id": "01e6be69",
   "metadata": {},
   "outputs": [],
   "source": [
    "d1 = {'a': 100, 'b': 200, 'c':300}\n",
    "d2 = {'a': 300, 'b': 200, 'd':400}\n",
    "a=[]"
   ]
  },
  {
   "cell_type": "code",
   "execution_count": 2,
   "id": "68cfadc1",
   "metadata": {},
   "outputs": [],
   "source": [
    "for i in (d1.keys()):\n",
    "    for j in d2.keys():\n",
    "        if i==j:\n",
    "            a.append(i)"
   ]
  },
  {
   "cell_type": "code",
   "execution_count": 3,
   "id": "d7c12df9",
   "metadata": {},
   "outputs": [
    {
     "name": "stdout",
     "output_type": "stream",
     "text": [
      "['a', 'b']\n"
     ]
    }
   ],
   "source": [
    "print(a)"
   ]
  },
  {
   "cell_type": "code",
   "execution_count": 125,
   "id": "c4be2545",
   "metadata": {},
   "outputs": [],
   "source": [
    "for i in a:\n",
    "    ba= d1.get(i) + d2.get(i)\n",
    "    d2[i]=ba\n"
   ]
  },
  {
   "cell_type": "code",
   "execution_count": null,
   "id": "b99aff84",
   "metadata": {},
   "outputs": [],
   "source": [
    "d1.update(d2)"
   ]
  },
  {
   "cell_type": "code",
   "execution_count": 127,
   "id": "b8e027de",
   "metadata": {},
   "outputs": [
    {
     "name": "stdout",
     "output_type": "stream",
     "text": [
      "{'a': 400, 'b': 400, 'c': 300, 'd': 400}\n"
     ]
    }
   ],
   "source": [
    "print(d1)"
   ]
  },
  {
   "cell_type": "code",
   "execution_count": null,
   "id": "2c94b57f",
   "metadata": {},
   "outputs": [
    {
     "name": "stdout",
     "output_type": "stream",
     "text": [
      "<class 'dict'>\n",
      "{1, (1, 2), 3, (3, 4)}\n",
      "<class 'set'>\n",
      "{(1, 2), 3, (3, 4)}\n",
      "{(1, 2), 5, (3, 4)}\n"
     ]
    }
   ],
   "source": [
    "\n",
    "set3={(1,2),(3,4),(1,2),1,3}\n",
    "print(set3)\n",
    "print(type(set3))\n",
    "set3.discard(1)\n",
    "print(set3)\n",
    "for i in set3:\n",
    "    if i == 3:\n",
    "        set3.remove(i)\n",
    "        set3.add(5)\n",
    "        break\n",
    "print(set3)"
   ]
  },
  {
   "cell_type": "code",
   "execution_count": null,
   "id": "b122dd4b",
   "metadata": {},
   "outputs": [
    {
     "name": "stdout",
     "output_type": "stream",
     "text": [
      "['S001', 'S002', 'S001', 'S005', 'S005', 'S009', 'S007']\n"
     ]
    }
   ],
   "source": [
    "ud= [{\"V\":\"S001\"}, {\"V\":\"S002\"}, {\"VI\": \"S001\"}, {\"VI\": \"S005\"}, {\"VII\":\"S005\"}, {\"V\":\"S009\"},{\"VIII\":\"S007\"}]\n",
    "# print(ud)\n",
    "udv=[]\n",
    "for i in range(len(ud)):\n",
    "    for j in ud[i].keys():\n",
    "        udv.append(ud[i].get(j))\n",
    "print(udv)"
   ]
  },
  {
   "cell_type": "code",
   "execution_count": 34,
   "id": "f0f26708",
   "metadata": {},
   "outputs": [
    {
     "name": "stdout",
     "output_type": "stream",
     "text": [
      "{'S009', 'S002', 'S001', 'S005', 'S007'}\n"
     ]
    }
   ],
   "source": [
    "sudv=set(udv)\n",
    "print(sudv)"
   ]
  },
  {
   "cell_type": "code",
   "execution_count": 63,
   "id": "4bc5980c",
   "metadata": {},
   "outputs": [],
   "source": [
    "dict1= {'1':['a','b'], '2':['c','d']}\n",
    "d1=[]\n",
    "for i in dict1:\n",
    "    d1.append(dict1.get(i))"
   ]
  },
  {
   "cell_type": "code",
   "execution_count": 47,
   "id": "b7b21fe4",
   "metadata": {},
   "outputs": [
    {
     "name": "stdout",
     "output_type": "stream",
     "text": [
      "[['a', 'b'], ['c', 'd']]\n"
     ]
    }
   ],
   "source": [
    "print(d1)"
   ]
  },
  {
   "cell_type": "code",
   "execution_count": 54,
   "id": "ce17d0c7",
   "metadata": {},
   "outputs": [
    {
     "name": "stdout",
     "output_type": "stream",
     "text": [
      "ac\n",
      "ad\n",
      "bc\n",
      "bd\n"
     ]
    }
   ],
   "source": [
    "for i in d1[0]:\n",
    "    for j in d1[1]:\n",
    "        print(i+j)"
   ]
  },
  {
   "cell_type": "code",
   "execution_count": 55,
   "id": "5f44a133",
   "metadata": {},
   "outputs": [],
   "source": [
    "d11=dict.fromkeys(dict1,dict1)"
   ]
  },
  {
   "cell_type": "code",
   "execution_count": 56,
   "id": "6b05e6ea",
   "metadata": {},
   "outputs": [
    {
     "data": {
      "text/plain": [
       "{'1': {'1': ['a', 'b'], '2': ['c', 'd']},\n",
       " '2': {'1': ['a', 'b'], '2': ['c', 'd']}}"
      ]
     },
     "execution_count": 56,
     "metadata": {},
     "output_type": "execute_result"
    }
   ],
   "source": [
    "d11"
   ]
  },
  {
   "cell_type": "code",
   "execution_count": 64,
   "id": "6cb92925",
   "metadata": {},
   "outputs": [
    {
     "data": {
      "text/plain": [
       "{'1': ['a', 'b'], '2': ['c', 'd'], 1: 'hello'}"
      ]
     },
     "execution_count": 64,
     "metadata": {},
     "output_type": "execute_result"
    }
   ],
   "source": [
    "dict1.setdefault(1,\"hello\")\n",
    "dict1"
   ]
  },
  {
   "cell_type": "code",
   "execution_count": 65,
   "id": "8a9c9c33",
   "metadata": {},
   "outputs": [
    {
     "data": {
      "text/plain": [
       "{'1': ['a', 'b'], '2': ['c', 'd'], 1: 'hello'}"
      ]
     },
     "execution_count": 65,
     "metadata": {},
     "output_type": "execute_result"
    }
   ],
   "source": [
    "dict1.setdefault('1',\"hello\")\n",
    "dict1"
   ]
  },
  {
   "cell_type": "code",
   "execution_count": null,
   "id": "ff3d0695",
   "metadata": {},
   "outputs": [],
   "source": []
  }
 ],
 "metadata": {
  "kernelspec": {
   "display_name": "Python 3",
   "language": "python",
   "name": "python3"
  },
  "language_info": {
   "codemirror_mode": {
    "name": "ipython",
    "version": 3
   },
   "file_extension": ".py",
   "mimetype": "text/x-python",
   "name": "python",
   "nbconvert_exporter": "python",
   "pygments_lexer": "ipython3",
   "version": "3.9.0"
  }
 },
 "nbformat": 4,
 "nbformat_minor": 5
}
