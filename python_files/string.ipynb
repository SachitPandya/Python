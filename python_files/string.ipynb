{
 "cells": [
  {
   "cell_type": "code",
   "execution_count": 2,
   "id": "b2c5b1ce",
   "metadata": {},
   "outputs": [
    {
     "name": "stdout",
     "output_type": "stream",
     "text": [
      "hello\n"
     ]
    }
   ],
   "source": [
    "str1=\"hello\"\n",
    "print(str1)"
   ]
  },
  {
   "cell_type": "code",
   "execution_count": 3,
   "id": "993234e5",
   "metadata": {},
   "outputs": [
    {
     "name": "stdout",
     "output_type": "stream",
     "text": [
      "Hello\n"
     ]
    }
   ],
   "source": [
    "str2=\"H\"+str1[1:]\n",
    "print(str2)"
   ]
  },
  {
   "cell_type": "code",
   "execution_count": 4,
   "id": "f088c447",
   "metadata": {},
   "outputs": [
    {
     "name": "stdout",
     "output_type": "stream",
     "text": [
      "Im a       \n",
      "student\n"
     ]
    }
   ],
   "source": [
    "s1=\"\"\"Im a       \n",
    "student\"\"\"      # \n",
    "print(s1)       # this will print the string as it is i.e in multiple lines"
   ]
  },
  {
   "cell_type": "code",
   "execution_count": 5,
   "id": "0ac622d5",
   "metadata": {},
   "outputs": [
    {
     "name": "stdout",
     "output_type": "stream",
     "text": [
      "this is multiple lines\n"
     ]
    }
   ],
   "source": [
    "ss2=\"this is \" \\\n",
    "\"multiple lines\"     # \"\\\" works as an conectivity operator telling the system the line is not over and we can not even add an comment after '\\'\n",
    "print(ss2)           # this will print the string in a single line basically it wil directly concat the string "
   ]
  },
  {
   "cell_type": "code",
   "execution_count": 6,
   "id": "5882cfa5",
   "metadata": {},
   "outputs": [
    {
     "name": "stdout",
     "output_type": "stream",
     "text": [
      "{'a': 3, 'n': -2} <class 'dict'>\n"
     ]
    }
   ],
   "source": [
    "aa=({s1[3]:3,s1[-2]:-2})        #accessing an element in a string and which can be converted into an list,tuple,set and dictionary\n",
    "print(aa,type(aa))"
   ]
  },
  {
   "cell_type": "code",
   "execution_count": 7,
   "id": "e3f242e5",
   "metadata": {},
   "outputs": [
    {
     "name": "stdout",
     "output_type": "stream",
     "text": [
      " a       \n",
      "student\n",
      "tneduts\n",
      "       a mI\n"
     ]
    }
   ],
   "source": [
    "print(s1[2:])       #Slicing a string\n",
    "print(s1[::-1])     #Reverse a string"
   ]
  },
  {
   "cell_type": "code",
   "execution_count": 8,
   "id": "09c3458a",
   "metadata": {},
   "outputs": [],
   "source": [
    "del str1       #delets a string "
   ]
  },
  {
   "cell_type": "code",
   "execution_count": 9,
   "id": "7125f619",
   "metadata": {},
   "outputs": [
    {
     "name": "stdout",
     "output_type": "stream",
     "text": [
      "22\n"
     ]
    }
   ],
   "source": [
    "print(len(ss2))"
   ]
  },
  {
   "cell_type": "code",
   "execution_count": 10,
   "id": "566a4e65",
   "metadata": {},
   "outputs": [
    {
     "name": "stdout",
     "output_type": "stream",
     "text": [
      "HELLO\n",
      "hello\n"
     ]
    }
   ],
   "source": [
    "print(str2.upper())\n",
    "print(str2.lower())\n"
   ]
  },
  {
   "cell_type": "code",
   "execution_count": 11,
   "id": "da6aad41",
   "metadata": {},
   "outputs": [
    {
     "name": "stdout",
     "output_type": "stream",
     "text": [
      "Im a       \n",
      "student\n"
     ]
    }
   ],
   "source": [
    "print(s1.strip())"
   ]
  },
  {
   "cell_type": "code",
   "execution_count": 12,
   "id": "b32e8711",
   "metadata": {},
   "outputs": [
    {
     "name": "stdout",
     "output_type": "stream",
     "text": [
      "I'm a       \n",
      "student\n"
     ]
    }
   ],
   "source": [
    "print(s1.replace(\"Im\",\"I'm\"))"
   ]
  },
  {
   "cell_type": "code",
   "execution_count": 13,
   "id": "b596f4e4",
   "metadata": {},
   "outputs": [
    {
     "name": "stdout",
     "output_type": "stream",
     "text": [
      "this is multiple lines  Im a       \n",
      "student\n"
     ]
    }
   ],
   "source": [
    "s3=ss2+ \"  \"+s1\n",
    "print(s3)"
   ]
  },
  {
   "cell_type": "code",
   "execution_count": 14,
   "id": "aca800cb",
   "metadata": {},
   "outputs": [
    {
     "name": "stdout",
     "output_type": "stream",
     "text": [
      "this is multiple linesthis is multiple lines\n"
     ]
    }
   ],
   "source": [
    "print(ss2 * 2)"
   ]
  },
  {
   "cell_type": "code",
   "execution_count": 15,
   "id": "99838ed5",
   "metadata": {},
   "outputs": [
    {
     "name": "stdout",
     "output_type": "stream",
     "text": [
      "         sss         \n"
     ]
    }
   ],
   "source": [
    "s=\"         sss         \"\n",
    "print(s)"
   ]
  },
  {
   "cell_type": "code",
   "execution_count": 16,
   "id": "26bac021",
   "metadata": {},
   "outputs": [
    {
     "name": "stdout",
     "output_type": "stream",
     "text": [
      "sss\n"
     ]
    }
   ],
   "source": [
    "print(s.strip())"
   ]
  },
  {
   "cell_type": "code",
   "execution_count": 17,
   "id": "383c1124",
   "metadata": {},
   "outputs": [
    {
     "name": "stdout",
     "output_type": "stream",
     "text": [
      "Name is: Sam, And age is :21\n"
     ]
    }
   ],
   "source": [
    "name='Sam'\n",
    "age=21\n",
    "print(f\"Name is: {name}, And age is :{age}\")"
   ]
  },
  {
   "cell_type": "code",
   "execution_count": 18,
   "id": "e279e5bb",
   "metadata": {},
   "outputs": [
    {
     "name": "stdout",
     "output_type": "stream",
     "text": [
      "Name is Sachit and Age is 21\n"
     ]
    }
   ],
   "source": [
    "print(\"Name is {} and Age is {}\".format(\"Sachit\",21))"
   ]
  },
  {
   "cell_type": "code",
   "execution_count": 19,
   "id": "b0b0a8e3",
   "metadata": {},
   "outputs": [
    {
     "data": {
      "text/plain": [
       "True"
      ]
     },
     "execution_count": 19,
     "metadata": {},
     "output_type": "execute_result"
    }
   ],
   "source": [
    "'Im' in s1"
   ]
  },
  {
   "cell_type": "code",
   "execution_count": 20,
   "id": "7eb50484",
   "metadata": {},
   "outputs": [
    {
     "data": {
      "text/plain": [
       "False"
      ]
     },
     "execution_count": 20,
     "metadata": {},
     "output_type": "execute_result"
    }
   ],
   "source": [
    "'st' not in s1"
   ]
  },
  {
   "cell_type": "code",
   "execution_count": 21,
   "id": "9652d692",
   "metadata": {},
   "outputs": [
    {
     "name": "stdout",
     "output_type": "stream",
     "text": [
      "hl\n"
     ]
    }
   ],
   "source": [
    "sl=[\"h\",'l']\n",
    "nsl=\"\".join(sl)\n",
    "print(nsl)"
   ]
  },
  {
   "cell_type": "code",
   "execution_count": 22,
   "id": "c447450c",
   "metadata": {},
   "outputs": [
    {
     "name": "stdout",
     "output_type": "stream",
     "text": [
      "['m', 'y', ' ', 'n', 'a', 'm', 'e', ' ', 'i', 's', ' ', 'S', 'a', 'C', 'H', 'i', 't', ' ', 'p', 'a', 'N', 'D', 'y', 'a', ' ', 'a', 'n', 'd', ' ', 'm', 'y', ' ', 'a', 'g', 'e', ' ', 'i', 's', ' ', '2', '1']\n",
      "sy name is SaCHit paNDya and my age is 21\n"
     ]
    }
   ],
   "source": [
    "ls='my name is SaCHit paNDya and my age is 21'\n",
    "lls=list(ls)\n",
    "print(lls)\n",
    "lls[0]='s'\n",
    "ls=\"\".join(lls)\n",
    "print(ls)"
   ]
  },
  {
   "cell_type": "code",
   "execution_count": 23,
   "id": "f2a70c7c",
   "metadata": {},
   "outputs": [
    {
     "name": "stdout",
     "output_type": "stream",
     "text": [
      "<class 'str'>\n"
     ]
    }
   ],
   "source": [
    "print(type(ls))"
   ]
  },
  {
   "cell_type": "code",
   "execution_count": 24,
   "id": "bbe2ce6d",
   "metadata": {},
   "outputs": [
    {
     "data": {
      "text/plain": [
       "'Sy name is sachit pandya and my age is 21'"
      ]
     },
     "execution_count": 24,
     "metadata": {},
     "output_type": "execute_result"
    }
   ],
   "source": [
    "ls.capitalize()"
   ]
  },
  {
   "cell_type": "code",
   "execution_count": 25,
   "id": "458ec1d0",
   "metadata": {},
   "outputs": [
    {
     "data": {
      "text/plain": [
       "'sy name is sachit pandya and my age is 21'"
      ]
     },
     "execution_count": 25,
     "metadata": {},
     "output_type": "execute_result"
    }
   ],
   "source": [
    "ls.casefold()"
   ]
  },
  {
   "cell_type": "code",
   "execution_count": 26,
   "id": "a1af067d",
   "metadata": {},
   "outputs": [
    {
     "data": {
      "text/plain": [
       "'sy name is SaCHit paNDya and my age is 21'"
      ]
     },
     "execution_count": 26,
     "metadata": {},
     "output_type": "execute_result"
    }
   ],
   "source": [
    "ls.center(15)"
   ]
  },
  {
   "cell_type": "code",
   "execution_count": 27,
   "id": "ad293a6e",
   "metadata": {},
   "outputs": [
    {
     "data": {
      "text/plain": [
       "6"
      ]
     },
     "execution_count": 27,
     "metadata": {},
     "output_type": "execute_result"
    }
   ],
   "source": [
    "ls.count('a')"
   ]
  },
  {
   "cell_type": "code",
   "execution_count": 28,
   "id": "d707e0e4",
   "metadata": {},
   "outputs": [
    {
     "name": "stdout",
     "output_type": "stream",
     "text": [
      "b'sy name is SaCHit paNDya and my age is 21'\n"
     ]
    }
   ],
   "source": [
    "ls1=ls.encode()\n",
    "print(ls1)"
   ]
  },
  {
   "cell_type": "code",
   "execution_count": 29,
   "id": "59d86f31",
   "metadata": {},
   "outputs": [
    {
     "data": {
      "text/plain": [
       "False"
      ]
     },
     "execution_count": 29,
     "metadata": {},
     "output_type": "execute_result"
    }
   ],
   "source": [
    "ls.endswith('sachit')"
   ]
  },
  {
   "cell_type": "code",
   "execution_count": 30,
   "id": "06202f03",
   "metadata": {},
   "outputs": [
    {
     "name": "stdout",
     "output_type": "stream",
     "text": [
      "Ye aagya     ->   aba\n",
      "false    ->   daba\n",
      "false    ->   jaba\n",
      "NOO\n",
      "NOO\n",
      "false    ->   tuba\n"
     ]
    }
   ],
   "source": [
    "l=['aba','daba','jaba','tibi','tubu','tuba']\n",
    "for i in range(len(l)):\n",
    "    if l[i].endswith('a'):\n",
    "        if l[i].startswith('a'):\n",
    "            print('Ye aagya     ->  ',l[i])\n",
    "        else:\n",
    "            print(\"false    ->  \",l[i])\n",
    "    else:\n",
    "        print(\"NOO\")"
   ]
  },
  {
   "cell_type": "code",
   "execution_count": 31,
   "id": "9bfced3f",
   "metadata": {},
   "outputs": [
    {
     "data": {
      "text/plain": [
       "'hello'"
      ]
     },
     "execution_count": 31,
     "metadata": {},
     "output_type": "execute_result"
    }
   ],
   "source": [
    "ls11=\"h\\te\\tll\\to\"\n",
    "ls11.expandtabs(-333)"
   ]
  },
  {
   "cell_type": "code",
   "execution_count": 32,
   "id": "587c04a3",
   "metadata": {},
   "outputs": [
    {
     "name": "stdout",
     "output_type": "stream",
     "text": [
      "sy name is SaCHit paNDya and my age is 21\n"
     ]
    },
    {
     "data": {
      "text/plain": [
       "7"
      ]
     },
     "execution_count": 32,
     "metadata": {},
     "output_type": "execute_result"
    }
   ],
   "source": [
    "print(ls)\n",
    "ls.find(\" i\")"
   ]
  },
  {
   "cell_type": "code",
   "execution_count": 33,
   "id": "af7a10f8",
   "metadata": {},
   "outputs": [
    {
     "data": {
      "text/plain": [
       "True"
      ]
     },
     "execution_count": 33,
     "metadata": {},
     "output_type": "execute_result"
    }
   ],
   "source": [
    "ls.isprintable()"
   ]
  },
  {
   "cell_type": "code",
   "execution_count": 34,
   "id": "8bf594f7",
   "metadata": {},
   "outputs": [
    {
     "name": "stdout",
     "output_type": "stream",
     "text": [
      "\tgf \n"
     ]
    },
    {
     "data": {
      "text/plain": [
       "False"
      ]
     },
     "execution_count": 34,
     "metadata": {},
     "output_type": "execute_result"
    }
   ],
   "source": [
    "ls111=\"\\tgf \"\n",
    "print(ls111)\n",
    "ls111.isprintable()"
   ]
  },
  {
   "cell_type": "code",
   "execution_count": null,
   "id": "1152eba1",
   "metadata": {},
   "outputs": [
    {
     "data": {
      "text/plain": [
       "'Sachit is 21'"
      ]
     },
     "execution_count": 35,
     "metadata": {},
     "output_type": "execute_result"
    }
   ],
   "source": [
    "data={'name':\"Sachit\",'age':\"21\"}\n",
    "new_data=\"{name} is {age}\".format_map(data)\n",
    "\n",
    "new_data"
   ]
  },
  {
   "cell_type": "code",
   "execution_count": 36,
   "id": "5107de1c",
   "metadata": {},
   "outputs": [],
   "source": [
    "l1=\"apple,bnana,cherry\"\n"
   ]
  },
  {
   "cell_type": "code",
   "execution_count": 37,
   "id": "a832f781",
   "metadata": {},
   "outputs": [
    {
     "data": {
      "text/plain": [
       "'apple,bnana,cherry'"
      ]
     },
     "execution_count": 37,
     "metadata": {},
     "output_type": "execute_result"
    }
   ],
   "source": [
    "l1.strip() "
   ]
  },
  {
   "cell_type": "code",
   "execution_count": 38,
   "id": "26bb994c",
   "metadata": {},
   "outputs": [
    {
     "data": {
      "text/plain": [
       "['apple', 'bnana', 'cherry']"
      ]
     },
     "execution_count": 38,
     "metadata": {},
     "output_type": "execute_result"
    }
   ],
   "source": [
    "l1.rsplit(',',)                            "
   ]
  },
  {
   "cell_type": "code",
   "execution_count": 39,
   "id": "b076a9a9",
   "metadata": {},
   "outputs": [
    {
     "data": {
      "text/plain": [
       "['apple', 'bnana', 'cherry']"
      ]
     },
     "execution_count": 39,
     "metadata": {},
     "output_type": "execute_result"
    }
   ],
   "source": [
    "l1.split(',')"
   ]
  },
  {
   "cell_type": "code",
   "execution_count": 40,
   "id": "afde2d6a",
   "metadata": {},
   "outputs": [
    {
     "data": {
      "text/plain": [
       "4"
      ]
     },
     "execution_count": 40,
     "metadata": {},
     "output_type": "execute_result"
    }
   ],
   "source": [
    "ls.index('a')"
   ]
  },
  {
   "cell_type": "code",
   "execution_count": 41,
   "id": "d9cb713e",
   "metadata": {},
   "outputs": [
    {
     "data": {
      "text/plain": [
       "6"
      ]
     },
     "execution_count": 41,
     "metadata": {},
     "output_type": "execute_result"
    }
   ],
   "source": [
    "ls.index('e')"
   ]
  },
  {
   "cell_type": "code",
   "execution_count": 42,
   "id": "0e17a928",
   "metadata": {},
   "outputs": [
    {
     "data": {
      "text/plain": [
       "False"
      ]
     },
     "execution_count": 42,
     "metadata": {},
     "output_type": "execute_result"
    }
   ],
   "source": [
    "new_data.isalnum()"
   ]
  },
  {
   "cell_type": "code",
   "execution_count": 43,
   "id": "f92ec4a1",
   "metadata": {},
   "outputs": [
    {
     "name": "stdout",
     "output_type": "stream",
     "text": [
      "Sachit is 21\n"
     ]
    }
   ],
   "source": [
    "print(new_data)"
   ]
  },
  {
   "cell_type": "code",
   "execution_count": 44,
   "id": "cc682980",
   "metadata": {},
   "outputs": [
    {
     "data": {
      "text/plain": [
       "False"
      ]
     },
     "execution_count": 44,
     "metadata": {},
     "output_type": "execute_result"
    }
   ],
   "source": [
    "a1=\"hellomy á\"\n",
    "a2= '\\u00B2'\n",
    "a3='psasarsasaisasansasat'\n",
    "a1.isalpha()"
   ]
  },
  {
   "cell_type": "code",
   "execution_count": 45,
   "id": "1679d3ba",
   "metadata": {},
   "outputs": [
    {
     "data": {
      "text/plain": [
       "False"
      ]
     },
     "execution_count": 45,
     "metadata": {},
     "output_type": "execute_result"
    }
   ],
   "source": [
    "a2.isascii()"
   ]
  },
  {
   "cell_type": "code",
   "execution_count": 46,
   "id": "e209d2ff",
   "metadata": {},
   "outputs": [
    {
     "data": {
      "text/plain": [
       "False"
      ]
     },
     "execution_count": 46,
     "metadata": {},
     "output_type": "execute_result"
    }
   ],
   "source": [
    "a2.isdecimal()"
   ]
  },
  {
   "cell_type": "code",
   "execution_count": 47,
   "id": "398767f4",
   "metadata": {},
   "outputs": [
    {
     "data": {
      "text/plain": [
       "True"
      ]
     },
     "execution_count": 47,
     "metadata": {},
     "output_type": "execute_result"
    }
   ],
   "source": [
    "a2.isdigit()"
   ]
  },
  {
   "cell_type": "code",
   "execution_count": 48,
   "id": "aea1481f",
   "metadata": {},
   "outputs": [
    {
     "data": {
      "text/plain": [
       "True"
      ]
     },
     "execution_count": 48,
     "metadata": {},
     "output_type": "execute_result"
    }
   ],
   "source": [
    "a2.isnumeric()"
   ]
  },
  {
   "cell_type": "code",
   "execution_count": 49,
   "id": "c1a10878",
   "metadata": {},
   "outputs": [
    {
     "data": {
      "text/plain": [
       "True"
      ]
     },
     "execution_count": 49,
     "metadata": {},
     "output_type": "execute_result"
    }
   ],
   "source": [
    "a3.isidentifier()"
   ]
  },
  {
   "cell_type": "code",
   "execution_count": 50,
   "id": "7805979d",
   "metadata": {},
   "outputs": [
    {
     "data": {
      "text/plain": [
       "False"
      ]
     },
     "execution_count": 50,
     "metadata": {},
     "output_type": "execute_result"
    }
   ],
   "source": [
    "ls.islower()\n"
   ]
  },
  {
   "cell_type": "code",
   "execution_count": 51,
   "id": "4ff37040",
   "metadata": {},
   "outputs": [
    {
     "data": {
      "text/plain": [
       "False"
      ]
     },
     "execution_count": 51,
     "metadata": {},
     "output_type": "execute_result"
    }
   ],
   "source": [
    "a2.isspace()    \n"
   ]
  },
  {
   "cell_type": "code",
   "execution_count": 52,
   "id": "53f766fc",
   "metadata": {},
   "outputs": [
    {
     "data": {
      "text/plain": [
       "True"
      ]
     },
     "execution_count": 52,
     "metadata": {},
     "output_type": "execute_result"
    }
   ],
   "source": [
    "ls.isprintable()"
   ]
  },
  {
   "cell_type": "code",
   "execution_count": 53,
   "id": "ef99eba6",
   "metadata": {},
   "outputs": [
    {
     "data": {
      "text/plain": [
       "False"
      ]
     },
     "execution_count": 53,
     "metadata": {},
     "output_type": "execute_result"
    }
   ],
   "source": [
    "ls.istitle()"
   ]
  },
  {
   "cell_type": "code",
   "execution_count": 54,
   "id": "c6782d55",
   "metadata": {},
   "outputs": [
    {
     "data": {
      "text/plain": [
       "'Hello'"
      ]
     },
     "execution_count": 54,
     "metadata": {},
     "output_type": "execute_result"
    }
   ],
   "source": [
    "a4=\"HELLO\"\n",
    "a4.title()"
   ]
  },
  {
   "cell_type": "code",
   "execution_count": 55,
   "id": "efd245e6",
   "metadata": {},
   "outputs": [
    {
     "data": {
      "text/plain": [
       "False"
      ]
     },
     "execution_count": 55,
     "metadata": {},
     "output_type": "execute_result"
    }
   ],
   "source": [
    "a4.istitle()"
   ]
  },
  {
   "cell_type": "code",
   "execution_count": 56,
   "id": "8e62a508",
   "metadata": {},
   "outputs": [
    {
     "data": {
      "text/plain": [
       "True"
      ]
     },
     "execution_count": 56,
     "metadata": {},
     "output_type": "execute_result"
    }
   ],
   "source": [
    "a4.isupper()"
   ]
  },
  {
   "cell_type": "code",
   "execution_count": 78,
   "id": "6533dcba",
   "metadata": {},
   "outputs": [
    {
     "name": "stdout",
     "output_type": "stream",
     "text": [
      "sy name is SaCHit paNDya and my age is 21\n",
      "         sy name is SaCHit paNDya and my age is 21\n"
     ]
    }
   ],
   "source": [
    "print(ls)\n",
    "print(ls.rjust(50))"
   ]
  },
  {
   "cell_type": "code",
   "execution_count": 58,
   "id": "a28963f4",
   "metadata": {},
   "outputs": [],
   "source": [
    "str11=\"aeiouu\"\n",
    "str22=\"123456\""
   ]
  },
  {
   "cell_type": "code",
   "execution_count": 59,
   "id": "9e74f87a",
   "metadata": {},
   "outputs": [
    {
     "name": "stdout",
     "output_type": "stream",
     "text": [
      "sy name is SaCHit paNDya and my age is 21\n",
      "aeiouu 123456\n",
      "{97: 49, 101: 50, 105: 51, 111: 52, 117: 54}\n"
     ]
    },
    {
     "data": {
      "text/plain": [
       "'sy n1m2 3s S1CH3t p1NDy1 1nd my 1g2 3s 21'"
      ]
     },
     "execution_count": 59,
     "metadata": {},
     "output_type": "execute_result"
    }
   ],
   "source": [
    "ls1=ls\n",
    "print(ls1)\n",
    "print(str11,str22)\n",
    "ls2=ls1.maketrans(str11,str22)\n",
    "print(ls2)\n",
    "ls1.translate(ls2)"
   ]
  },
  {
   "cell_type": "code",
   "execution_count": null,
   "id": "176d48d0",
   "metadata": {},
   "outputs": [
    {
     "name": "stdout",
     "output_type": "stream",
     "text": [
      "{97: '123', 98: '457'}\n",
      "sy n123me is S123CHit p123NDy123 123nd my 123ge is 21\n"
     ]
    }
   ],
   "source": [
    "d={\"a\":\"123\",\"b\":\"457\"}\n",
    "ls3=ls1.maketrans(d)\n",
    "print(ls3)\n",
    "print(ls1.translate(ls3))"
   ]
  },
  {
   "cell_type": "code",
   "execution_count": 61,
   "id": "f5e78972",
   "metadata": {},
   "outputs": [
    {
     "data": {
      "text/plain": [
       "'Sy name iS SaCHit paNDya and my age iS 21'"
      ]
     },
     "execution_count": 61,
     "metadata": {},
     "output_type": "execute_result"
    }
   ],
   "source": [
    "ls.replace(\"s\",\"S\")"
   ]
  },
  {
   "cell_type": "code",
   "execution_count": 62,
   "id": "4fad1f0c",
   "metadata": {},
   "outputs": [
    {
     "data": {
      "text/plain": [
       "('sy name ', 'is', ' SaCHit paNDya and my age is 21')"
      ]
     },
     "execution_count": 62,
     "metadata": {},
     "output_type": "execute_result"
    }
   ],
   "source": [
    "ls.partition('is')"
   ]
  },
  {
   "cell_type": "code",
   "execution_count": 63,
   "id": "d5df28cb",
   "metadata": {},
   "outputs": [
    {
     "data": {
      "text/plain": [
       "'sy name is SaCHit paNDya and my age is 21'"
      ]
     },
     "execution_count": 63,
     "metadata": {},
     "output_type": "execute_result"
    }
   ],
   "source": [
    "ls.removeprefix('y' )"
   ]
  },
  {
   "cell_type": "code",
   "execution_count": 64,
   "id": "a422cdc2",
   "metadata": {},
   "outputs": [
    {
     "data": {
      "text/plain": [
       "'sy name is SaCHit paNDya and my age is '"
      ]
     },
     "execution_count": 64,
     "metadata": {},
     "output_type": "execute_result"
    }
   ],
   "source": [
    "ls.removesuffix('21')"
   ]
  },
  {
   "cell_type": "code",
   "execution_count": 65,
   "id": "2a8c3543",
   "metadata": {},
   "outputs": [
    {
     "data": {
      "text/plain": [
       "37"
      ]
     },
     "execution_count": 65,
     "metadata": {},
     "output_type": "execute_result"
    }
   ],
   "source": [
    "ls.rindex('s')\n",
    "    "
   ]
  },
  {
   "cell_type": "code",
   "execution_count": 66,
   "id": "9e8f74e0",
   "metadata": {},
   "outputs": [
    {
     "data": {
      "text/plain": [
       "32"
      ]
     },
     "execution_count": 66,
     "metadata": {},
     "output_type": "execute_result"
    }
   ],
   "source": [
    "ls.rfind('a')"
   ]
  },
  {
   "cell_type": "code",
   "execution_count": 67,
   "id": "abfdbfdf",
   "metadata": {},
   "outputs": [
    {
     "data": {
      "text/plain": [
       "('sy name is SaCHit paNDya and my age ', 'i', 's 21')"
      ]
     },
     "execution_count": 67,
     "metadata": {},
     "output_type": "execute_result"
    }
   ],
   "source": [
    "ls.rpartition('i')"
   ]
  },
  {
   "cell_type": "code",
   "execution_count": 68,
   "id": "2a61faae",
   "metadata": {},
   "outputs": [],
   "source": [
    "ls12=\"Apple,Cherry,Banana\""
   ]
  },
  {
   "cell_type": "code",
   "execution_count": 69,
   "id": "415299bc",
   "metadata": {},
   "outputs": [
    {
     "data": {
      "text/plain": [
       "['Apple', 'Cherry,Banana']"
      ]
     },
     "execution_count": 69,
     "metadata": {},
     "output_type": "execute_result"
    }
   ],
   "source": [
    "ls12.split(',',1)"
   ]
  },
  {
   "cell_type": "code",
   "execution_count": 70,
   "id": "e4871b12",
   "metadata": {},
   "outputs": [
    {
     "data": {
      "text/plain": [
       "['Im a       \\n', 'student']"
      ]
     },
     "execution_count": 70,
     "metadata": {},
     "output_type": "execute_result"
    }
   ],
   "source": [
    "s1.splitlines(2)"
   ]
  },
  {
   "cell_type": "code",
   "execution_count": 71,
   "id": "fb8de4bf",
   "metadata": {},
   "outputs": [
    {
     "data": {
      "text/plain": [
       "'iM A       \\nSTUDENT'"
      ]
     },
     "execution_count": 71,
     "metadata": {},
     "output_type": "execute_result"
    }
   ],
   "source": [
    "s1.swapcase()"
   ]
  },
  {
   "cell_type": "code",
   "execution_count": 72,
   "id": "836d4eb6",
   "metadata": {},
   "outputs": [
    {
     "data": {
      "text/plain": [
       "'00000000000000000000000000000000000000000000000000000000000000000000000000000000000000000000Im a       \\nstudent'"
      ]
     },
     "execution_count": 72,
     "metadata": {},
     "output_type": "execute_result"
    }
   ],
   "source": [
    "s1.zfill(111)"
   ]
  },
  {
   "cell_type": "code",
   "execution_count": 73,
   "id": "b6d39eb7",
   "metadata": {},
   "outputs": [
    {
     "data": {
      "text/plain": [
       "'0000000000000000000sy name is SaCHit paNDya and my age is 21'"
      ]
     },
     "execution_count": 73,
     "metadata": {},
     "output_type": "execute_result"
    }
   ],
   "source": [
    "ls.zfill(60)"
   ]
  }
 ],
 "metadata": {
  "kernelspec": {
   "display_name": "Python 3",
   "language": "python",
   "name": "python3"
  },
  "language_info": {
   "codemirror_mode": {
    "name": "ipython",
    "version": 3
   },
   "file_extension": ".py",
   "mimetype": "text/x-python",
   "name": "python",
   "nbconvert_exporter": "python",
   "pygments_lexer": "ipython3",
   "version": "3.11.0"
  }
 },
 "nbformat": 4,
 "nbformat_minor": 5
}
