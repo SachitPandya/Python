{
 "cells": [
  {
   "cell_type": "markdown",
   "id": "78a9ee92",
   "metadata": {},
   "source": [
    "#### LIST"
   ]
  },
  {
   "cell_type": "markdown",
   "id": "2253b3e2",
   "metadata": {},
   "source": [
    "1. Flatten Nested List Structure"
   ]
  },
  {
   "cell_type": "code",
   "execution_count": 6,
   "id": "3fd747ce",
   "metadata": {},
   "outputs": [
    {
     "data": {
      "text/plain": [
       "[0, 10, 20, 30, 40, 50, 60, 70, 75, 76, 78, 80, 90, 100, 110, 120]"
      ]
     },
     "execution_count": 6,
     "metadata": {},
     "output_type": "execute_result"
    }
   ],
   "source": [
    "nested_list= [0, 10, [20, 30], 40, 50, [60, [70,75,[76,78]], 80], [90, 100, 110, 120]]\n",
    "flattend_list=[]\n",
    "def flatten_list(lst):\n",
    "    for i in lst:\n",
    "        if type(i)==list:\n",
    "            flatten_list(i)\n",
    "        else:\n",
    "            flattend_list.append(i)\n",
    "    return flattend_list\n",
    "\n",
    "flattend_list=flatten_list(nested_list)\n",
    "flattend_list"
   ]
  },
  {
   "cell_type": "markdown",
   "id": "a85310b8",
   "metadata": {},
   "source": [
    "2. Write a Python program to decode a run-length message."
   ]
  },
  {
   "cell_type": "code",
   "execution_count": null,
   "id": "42760007",
   "metadata": {},
   "outputs": [
    {
     "data": {
      "text/plain": [
       "[1, 1, 2, 3, 4, 4, 4, 5, 1]"
      ]
     },
     "execution_count": 16,
     "metadata": {},
     "output_type": "execute_result"
    }
   ],
   "source": [
    "encoded_list=[[2, 1], 2, 3, [3, 4], 5, 1]\n",
    "def decode_list(lst):\n",
    "    f_list=[]\n",
    "    for i in lst:\n",
    "        if type(i)==list:\n",
    "            for _ in range(i[0]):\n",
    "                f_list.append(i[1])\n",
    "        else:            \n",
    "            f_list.append(i)\n",
    "\n",
    "    return f_list\n",
    "\n",
    "final_list=decode_list(encoded_list)\n",
    "final_list"
   ]
  },
  {
   "cell_type": "markdown",
   "id": "d170a8a4",
   "metadata": {},
   "source": [
    "3. Write a Python program to split a given list into two parts where the length of the first part of the list is given."
   ]
  },
  {
   "cell_type": "code",
   "execution_count": 29,
   "id": "4cd7e7c2",
   "metadata": {},
   "outputs": [
    {
     "data": {
      "text/plain": [
       "[[1, 1, 2], [3, 4, 4, 5, 1]]"
      ]
     },
     "execution_count": 29,
     "metadata": {},
     "output_type": "execute_result"
    }
   ],
   "source": [
    "lst_3=[1, 1, 2, 3, 4, 4, 5, 1]\n",
    "first_part_lenm=3\n",
    "\n",
    "def list_split(lst):\n",
    "    temp_list=[]\n",
    "    r_lst=[]\n",
    "    for i in range(first_part_lenm):\n",
    "        temp_list.append(lst[i])\n",
    "\n",
    "    j=0\n",
    "    while j <first_part_lenm:\n",
    "        lst.pop(0)\n",
    "        j+=1\n",
    "\n",
    "    r_lst.append(temp_list)\n",
    "    r_lst.append(lst)\n",
    "    return r_lst\n",
    "\n",
    "spllit_list=list_split(lst_3)\n",
    "spllit_list\n"
   ]
  },
  {
   "cell_type": "markdown",
   "id": "be1e4a0c",
   "metadata": {},
   "source": [
    "4. Write a Python program to find common elements in a given list of lists."
   ]
  },
  {
   "cell_type": "code",
   "execution_count": 9,
   "id": "2753a6fa",
   "metadata": {},
   "outputs": [
    {
     "data": {
      "text/plain": [
       "{2, 3, 4, 7}"
      ]
     },
     "execution_count": 9,
     "metadata": {},
     "output_type": "execute_result"
    }
   ],
   "source": [
    "lst_4=[[7, 2, 3, 4, 7], [9, 2, 3, 2, 5], [8, 2, 3, 4, 4]]\n",
    "cmp_lst=set()\n",
    "def common_element(lst):\n",
    "    temp_list=set()\n",
    "    for i in lst:\n",
    "        for j in i:                          \n",
    "            if j in cmp_lst:\n",
    "                temp_list.add(j)\n",
    "            else:\n",
    "                cmp_lst.add(j)\n",
    "    return temp_list\n",
    "\n",
    "x=common_element(lst_4)\n",
    "x"
   ]
  },
  {
   "cell_type": "markdown",
   "id": "d0322751",
   "metadata": {},
   "source": [
    "#### Tuple"
   ]
  },
  {
   "cell_type": "markdown",
   "id": "223ead18",
   "metadata": {},
   "source": [
    "1. Write a Python program to convert a given tuple of positive integers into an integer."
   ]
  },
  {
   "cell_type": "code",
   "execution_count": 11,
   "id": "20cac4ec",
   "metadata": {},
   "outputs": [
    {
     "data": {
      "text/plain": [
       "102040570"
      ]
     },
     "execution_count": 11,
     "metadata": {},
     "output_type": "execute_result"
    }
   ],
   "source": [
    "tup_1=(10, 20, 40, 5, 70)\n",
    "def tup_int(tup):\n",
    "    temp_int=\"\"\n",
    "    for i in tup:\n",
    "        temp_int+=str(i)\n",
    "    tempint1=int(temp_int)\n",
    "    return tempint1\n",
    "\n",
    "imt2=tup_int(tup_1)\n",
    "imt2"
   ]
  },
  {
   "cell_type": "markdown",
   "id": "a536ce2e",
   "metadata": {},
   "source": [
    "2. Count the number of even and odd numbers in a tuple."
   ]
  },
  {
   "cell_type": "code",
   "execution_count": 13,
   "id": "c317b73d",
   "metadata": {},
   "outputs": [
    {
     "name": "stdout",
     "output_type": "stream",
     "text": [
      "14 11\n"
     ]
    }
   ],
   "source": [
    "tup_2=(1,2,3,4,5,5,6,7,8,4,1,2,3,43,2,12,3,4,45,34,3,4,5,3,3)\n",
    "\n",
    "def even_odd(tup):\n",
    "    count_even=0\n",
    "    count_odd=0\n",
    "    for i in tup:\n",
    "        if i%2==0:\n",
    "            count_even+=1\n",
    "        else:\n",
    "            count_odd+=1\n",
    "\n",
    "    return count_odd,count_even\n",
    "\n",
    "odd,even=even_odd(tup_2)\n",
    "\n",
    "print(odd,even)"
   ]
  },
  {
   "cell_type": "markdown",
   "id": "0f30748e",
   "metadata": {},
   "source": [
    "3. Nested Tuple Sorting\n",
    "\n",
    "You are given a list of tuples containing a name and marks in multiple subjects.\n",
    "Sort the list by average marks (descending), then by name (ascending) if averages are equal."
   ]
  },
  {
   "cell_type": "code",
   "execution_count": 1,
   "id": "3eea67f6",
   "metadata": {},
   "outputs": [
    {
     "data": {
      "text/plain": [
       "{'Alice': 80.0, 'Bob': 90.0, 'Carol': 80.0}"
      ]
     },
     "execution_count": 1,
     "metadata": {},
     "output_type": "execute_result"
    }
   ],
   "source": [
    "students = [\n",
    "    (\"Alice\", (80, 90, 70)),\n",
    "    (\"Bob\", (90, 90, 90)),\n",
    "    (\"Carol\", (80, 90, 70))\n",
    "]\n",
    "avg_marks={}\n",
    "for i in students:\n",
    "    total=0\n",
    "    for j in i[1]:\n",
    "        total+=j\n",
    "    avg=total/(len(i[1]))\n",
    "    avg_marks[i[0]]=avg\n",
    "\n",
    "sorted(avg_marks)\n",
    "avg_marks\n",
    "    "
   ]
  },
  {
   "cell_type": "code",
   "execution_count": null,
   "id": "63fbad0f",
   "metadata": {},
   "outputs": [
    {
     "data": {
      "text/plain": [
       "'2.3.2'"
      ]
     },
     "execution_count": 3,
     "metadata": {},
     "output_type": "execute_result"
    }
   ],
   "source": []
  },
  {
   "cell_type": "code",
   "execution_count": null,
   "id": "7245e3f3",
   "metadata": {},
   "outputs": [],
   "source": []
  }
 ],
 "metadata": {
  "kernelspec": {
   "display_name": "Python 3",
   "language": "python",
   "name": "python3"
  },
  "language_info": {
   "codemirror_mode": {
    "name": "ipython",
    "version": 3
   },
   "file_extension": ".py",
   "mimetype": "text/x-python",
   "name": "python",
   "nbconvert_exporter": "python",
   "pygments_lexer": "ipython3",
   "version": "3.11.0"
  }
 },
 "nbformat": 4,
 "nbformat_minor": 5
}
