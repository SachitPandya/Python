{
 "cells": [
  {
   "cell_type": "code",
   "execution_count": null,
   "id": "f90cc6e5",
   "metadata": {},
   "outputs": [
    {
     "ename": "ModuleNotFoundError",
     "evalue": "No module named 'ss'",
     "output_type": "error",
     "traceback": [
      "\u001b[31m---------------------------------------------------------------------------\u001b[39m",
      "\u001b[31mModuleNotFoundError\u001b[39m                       Traceback (most recent call last)",
      "\u001b[36mCell\u001b[39m\u001b[36m \u001b[39m\u001b[32mIn[8]\u001b[39m\u001b[32m, line 2\u001b[39m\n\u001b[32m      1\u001b[39m \u001b[38;5;28;01mimport\u001b[39;00m\u001b[38;5;250m \u001b[39m\u001b[34;01mos\u001b[39;00m\n\u001b[32m----> \u001b[39m\u001b[32m2\u001b[39m \u001b[38;5;28;01mfrom\u001b[39;00m\u001b[38;5;250m \u001b[39m\u001b[34;01mss\u001b[39;00m\u001b[38;5;250m \u001b[39m\u001b[38;5;28;01mimport\u001b[39;00m base_dir\n\u001b[32m      3\u001b[39m \u001b[38;5;28mprint\u001b[39m(base_dir)\n\u001b[32m      4\u001b[39m base_path=os.getcwd()\n",
      "\u001b[31mModuleNotFoundError\u001b[39m: No module named 'ss'"
     ]
    }
   ],
   "source": [
    "import os\n",
    "from ss import base_dir\n",
    "print(base_dir)\n",
    "base_path=os.getcwd()\n",
    "# file15=\"file15.txt\"\n",
    "print(base_path)\n",
    "# os.chdir(\"../\")\n",
    "file16_name=\"file19.txt\"\n",
    "\n",
    "file_p=os.path.join(base_path,\"txt_files2\")\n",
    "if os.path.exists(file_p):\n",
    "    file16_path=os.path.join(file_p,file16_name)\n",
    "else:\n",
    "    folder=\"txt_files2\"\n",
    "    dir=os.path.join(base_path,folder)\n",
    "    dir1=os.makedirs(dir)\n",
    "    file16_path=os.path.join(base_path,dir1,file16_name)\n",
    "\n",
    "with open(file16_path,\"w\") as file16:\n",
    "    file16.write(\"hell1\")"
   ]
  },
  {
   "cell_type": "code",
   "execution_count": null,
   "id": "38cb3fb1",
   "metadata": {},
   "outputs": [],
   "source": []
  }
 ],
 "metadata": {
  "kernelspec": {
   "display_name": "Python 3",
   "language": "python",
   "name": "python3"
  },
  "language_info": {
   "codemirror_mode": {
    "name": "ipython",
    "version": 3
   },
   "file_extension": ".py",
   "mimetype": "text/x-python",
   "name": "python",
   "nbconvert_exporter": "python",
   "pygments_lexer": "ipython3",
   "version": "3.11.0"
  }
 },
 "nbformat": 4,
 "nbformat_minor": 5
}
