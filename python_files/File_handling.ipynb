{
 "cells": [
  {
   "cell_type": "markdown",
   "id": "98fd9c00",
   "metadata": {},
   "source": [
    "Opening  a file and reading the contents of the file "
   ]
  },
  {
   "cell_type": "code",
   "execution_count": 2,
   "id": "15bf9d27",
   "metadata": {},
   "outputs": [],
   "source": [
    "import os\n",
    "base_dir=r\"C:\\Users\\BAPS\\Desktop\\Python\\txt_files\""
   ]
  },
  {
   "cell_type": "code",
   "execution_count": 3,
   "id": "aac5e542",
   "metadata": {},
   "outputs": [
    {
     "name": "stdout",
     "output_type": "stream",
     "text": [
      "<_io.TextIOWrapper name='C:\\\\Users\\\\BAPS\\\\Desktop\\\\Python\\\\txt_files\\\\file.txt' mode='r' encoding='cp1252'>\n",
      "When opening a file, we must specify the mode we want to which specifies wha\n"
     ]
    }
   ],
   "source": [
    "file_name=\"file.txt\"\n",
    "file_path= os.path.join(base_dir,file_name)\n",
    "with open(file_path,'r') as file:    # with is used for resource management,we don't need to close the file explicitly with will automatically do that for you\n",
    "# file=open(\"file.txt\",'r')     # This is also the way \n",
    "\n",
    "    print(file)                 #Prints theinformation of the file\n",
    "    c=file.read(76)\n",
    "\n",
    "    print(c)        #prints the content of the file\n",
    "    # file.close()\n",
    "    # x=file.read()     # will give error as file has been closed   "
   ]
  },
  {
   "cell_type": "markdown",
   "id": "c29bf41b",
   "metadata": {},
   "source": [
    "Write Mode"
   ]
  },
  {
   "cell_type": "code",
   "execution_count": 4,
   "id": "84ffa3d3",
   "metadata": {},
   "outputs": [],
   "source": [
    "file1_name=\"file1.txt\"\n",
    "file1_path= os.path.join(base_dir,file1_name)\n",
    "file1=open(file1_path,\"w\")\n",
    "file1.write(\"hello i have used write method here.\\t\")  #creates a new file if file doesn't exist or if file exists erases the content of file and rewrite with the content provided inside write()\n",
    "file1.close()    # It is very imp to close the file to release the the resources and to save the changes "
   ]
  },
  {
   "cell_type": "code",
   "execution_count": 5,
   "id": "611e403a",
   "metadata": {},
   "outputs": [],
   "source": [
    "file2_name=\"file2.txt\"\n",
    "file2_path= os.path.join(base_dir,file2_name)\n",
    "file2=open(file2_path,\"w\")\n",
    "file2.write(c)      #using this we can pass another file inside the write\n",
    "file2.close() "
   ]
  },
  {
   "cell_type": "markdown",
   "id": "3510deb4",
   "metadata": {},
   "source": [
    "Append Mode"
   ]
  },
  {
   "cell_type": "code",
   "execution_count": 6,
   "id": "a9788aef",
   "metadata": {},
   "outputs": [],
   "source": [
    "file3_name=\"file5.txt\"\n",
    "file3_path= os.path.join(base_dir,file3_name)\n",
    "file3=open(file3_path,\"a\") # if file is not there it creates the file \n",
    "file3.write(\"This is append mode\")  # if file is there append mode does not replace the exisiting content just adds it after the exisiting content \n",
    "file3.close()"
   ]
  },
  {
   "cell_type": "markdown",
   "id": "c9def0ac",
   "metadata": {},
   "source": [
    "rb mode converts the content of the string into binary\n"
   ]
  },
  {
   "cell_type": "code",
   "execution_count": 7,
   "id": "9cbc91b5",
   "metadata": {},
   "outputs": [
    {
     "name": "stdout",
     "output_type": "stream",
     "text": [
      "b'ho11o\\r\\n802 Hurray we dont have to use the close function\\tHurray we dont have to use the close function\\r\\n\\tHurray we dont have to use the close function\\tHurray we dont have to use the close function\\tHurray we dont have to use the close function'\n"
     ]
    }
   ],
   "source": [
    "file4_name=\"file_binary.txt\"\n",
    "file4_path= os.path.join(base_dir,file4_name)\n",
    "file4=open(file4_path,\"rb\")\n",
    "# file4.write(\"hoooo\")\n",
    "ca=file4.read()\n",
    "print(ca)\n",
    "file4.close()"
   ]
  },
  {
   "cell_type": "markdown",
   "id": "24a3b5c0",
   "metadata": {},
   "source": [
    "\"with()\" method  automatically closes the file once you come out of it.It helps in memory managemnt and you dont have to close the file explicitly"
   ]
  },
  {
   "cell_type": "code",
   "execution_count": 8,
   "id": "9f6113be",
   "metadata": {},
   "outputs": [],
   "source": [
    "with open(file4_path,\"a\") as file5:\n",
    "    file5.write(\"\\tHurray we dont have to use the close function\")"
   ]
  },
  {
   "cell_type": "markdown",
   "id": "2a2dbfc0",
   "metadata": {},
   "source": [
    "r+ method"
   ]
  },
  {
   "cell_type": "code",
   "execution_count": 9,
   "id": "c1378b77",
   "metadata": {},
   "outputs": [],
   "source": [
    "file4=open(file4_path,\"r+\")\n",
    "file4.write(\"ho11\")                # it doesn't creates a new file and also if file exists it doesn't truncates it just add at the starting of the file\n",
    "file4.close()"
   ]
  },
  {
   "cell_type": "markdown",
   "id": "f4d54ebc",
   "metadata": {},
   "source": [
    "rb+ "
   ]
  },
  {
   "cell_type": "code",
   "execution_count": 10,
   "id": "0eacd110",
   "metadata": {},
   "outputs": [
    {
     "name": "stdout",
     "output_type": "stream",
     "text": [
      "b' have used write method here.\\t'\n"
     ]
    }
   ],
   "source": [
    "with open(file1_path,\"rb+\") as file7:\n",
    "    file7.write(b'1010102')\n",
    "    r=file7.read()\n",
    "    print(r)"
   ]
  },
  {
   "cell_type": "markdown",
   "id": "461e0aec",
   "metadata": {},
   "source": [
    "wb"
   ]
  },
  {
   "cell_type": "code",
   "execution_count": 11,
   "id": "fce65dd2",
   "metadata": {},
   "outputs": [],
   "source": [
    "with open(file1_path,\"wb\") as file8:\n",
    "    file8.write(b\"hell\")"
   ]
  },
  {
   "cell_type": "markdown",
   "id": "7faa94f7",
   "metadata": {},
   "source": [
    "w+"
   ]
  },
  {
   "cell_type": "code",
   "execution_count": 12,
   "id": "ce122227",
   "metadata": {},
   "outputs": [
    {
     "name": "stdout",
     "output_type": "stream",
     "text": [
      "\n"
     ]
    }
   ],
   "source": [
    "with open(file1_path,\"w+\") as file9:\n",
    "    file9.write(\"hhh\")\n",
    "    f=file9.read()\n",
    "    print(f)"
   ]
  },
  {
   "cell_type": "markdown",
   "id": "e982f6fd",
   "metadata": {},
   "source": [
    "wb+\n"
   ]
  },
  {
   "cell_type": "code",
   "execution_count": 13,
   "id": "68cbfe93",
   "metadata": {},
   "outputs": [
    {
     "name": "stdout",
     "output_type": "stream",
     "text": [
      "b''\n"
     ]
    }
   ],
   "source": [
    "with open(file1_path,\"wb+\") as file7:\n",
    "    file7.write(b'1010102')\n",
    "    r=file7.read()\n",
    "    print(r)"
   ]
  },
  {
   "cell_type": "markdown",
   "id": "f9ca179f",
   "metadata": {},
   "source": [
    "ab"
   ]
  },
  {
   "cell_type": "code",
   "execution_count": 14,
   "id": "9a2d6c69",
   "metadata": {},
   "outputs": [],
   "source": [
    "with open(file1_path,\"ab\") as file7:\n",
    "    file7.write(b'1010102')"
   ]
  },
  {
   "cell_type": "markdown",
   "id": "33508ec7",
   "metadata": {},
   "source": [
    "ab+"
   ]
  },
  {
   "cell_type": "code",
   "execution_count": 15,
   "id": "9f56fab8",
   "metadata": {},
   "outputs": [
    {
     "name": "stdout",
     "output_type": "stream",
     "text": [
      "b''\n"
     ]
    }
   ],
   "source": [
    "with open(file1_path,\"ab+\") as file7:\n",
    "    file7.write(b'1010102')\n",
    "    r=file7.read()\n",
    "    print(r)"
   ]
  },
  {
   "cell_type": "markdown",
   "id": "e5814e29",
   "metadata": {},
   "source": [
    "a+"
   ]
  },
  {
   "cell_type": "code",
   "execution_count": 16,
   "id": "1eec172a",
   "metadata": {},
   "outputs": [
    {
     "name": "stdout",
     "output_type": "stream",
     "text": [
      "\n"
     ]
    }
   ],
   "source": [
    "with open(file1_path,\"a+\") as file7:\n",
    "    file7.write('1010102')\n",
    "    r=file7.read()\n",
    "    print(r)"
   ]
  },
  {
   "cell_type": "markdown",
   "id": "e306ec1b",
   "metadata": {},
   "source": [
    "x"
   ]
  },
  {
   "cell_type": "code",
   "execution_count": 17,
   "id": "726f5469",
   "metadata": {},
   "outputs": [
    {
     "ename": "FileExistsError",
     "evalue": "[Errno 17] File exists: 'C:\\\\Users\\\\BAPS\\\\Desktop\\\\Python\\\\txt_files\\\\file12.txt'",
     "output_type": "error",
     "traceback": [
      "\u001b[31m---------------------------------------------------------------------------\u001b[39m",
      "\u001b[31mFileExistsError\u001b[39m                           Traceback (most recent call last)",
      "\u001b[36mCell\u001b[39m\u001b[36m \u001b[39m\u001b[32mIn[17]\u001b[39m\u001b[32m, line 3\u001b[39m\n\u001b[32m      1\u001b[39m file12_name=\u001b[33m\"\u001b[39m\u001b[33mfile12.txt\u001b[39m\u001b[33m\"\u001b[39m\n\u001b[32m      2\u001b[39m file12_path= os.path.join(base_dir,file12_name)\n\u001b[32m----> \u001b[39m\u001b[32m3\u001b[39m \u001b[38;5;28;01mwith\u001b[39;00m \u001b[38;5;28;43mopen\u001b[39;49m\u001b[43m(\u001b[49m\u001b[43mfile12_path\u001b[49m\u001b[43m,\u001b[49m\u001b[33;43m\"\u001b[39;49m\u001b[33;43mx\u001b[39;49m\u001b[33;43m\"\u001b[39;49m\u001b[43m)\u001b[49m \u001b[38;5;28;01mas\u001b[39;00m file7:       \u001b[38;5;66;03m#if file is present it will give an error,else it will create an file\u001b[39;00m\n\u001b[32m      4\u001b[39m     \u001b[38;5;28;01mpass\u001b[39;00m\n",
      "\u001b[36mFile \u001b[39m\u001b[32m~\\AppData\\Roaming\\Python\\Python311\\site-packages\\IPython\\core\\interactiveshell.py:326\u001b[39m, in \u001b[36m_modified_open\u001b[39m\u001b[34m(file, *args, **kwargs)\u001b[39m\n\u001b[32m    319\u001b[39m \u001b[38;5;28;01mif\u001b[39;00m file \u001b[38;5;129;01min\u001b[39;00m {\u001b[32m0\u001b[39m, \u001b[32m1\u001b[39m, \u001b[32m2\u001b[39m}:\n\u001b[32m    320\u001b[39m     \u001b[38;5;28;01mraise\u001b[39;00m \u001b[38;5;167;01mValueError\u001b[39;00m(\n\u001b[32m    321\u001b[39m         \u001b[33mf\u001b[39m\u001b[33m\"\u001b[39m\u001b[33mIPython won\u001b[39m\u001b[33m'\u001b[39m\u001b[33mt let you open fd=\u001b[39m\u001b[38;5;132;01m{\u001b[39;00mfile\u001b[38;5;132;01m}\u001b[39;00m\u001b[33m by default \u001b[39m\u001b[33m\"\u001b[39m\n\u001b[32m    322\u001b[39m         \u001b[33m\"\u001b[39m\u001b[33mas it is likely to crash IPython. If you know what you are doing, \u001b[39m\u001b[33m\"\u001b[39m\n\u001b[32m    323\u001b[39m         \u001b[33m\"\u001b[39m\u001b[33myou can use builtins\u001b[39m\u001b[33m'\u001b[39m\u001b[33m open.\u001b[39m\u001b[33m\"\u001b[39m\n\u001b[32m    324\u001b[39m     )\n\u001b[32m--> \u001b[39m\u001b[32m326\u001b[39m \u001b[38;5;28;01mreturn\u001b[39;00m \u001b[43mio_open\u001b[49m\u001b[43m(\u001b[49m\u001b[43mfile\u001b[49m\u001b[43m,\u001b[49m\u001b[43m \u001b[49m\u001b[43m*\u001b[49m\u001b[43margs\u001b[49m\u001b[43m,\u001b[49m\u001b[43m \u001b[49m\u001b[43m*\u001b[49m\u001b[43m*\u001b[49m\u001b[43mkwargs\u001b[49m\u001b[43m)\u001b[49m\n",
      "\u001b[31mFileExistsError\u001b[39m: [Errno 17] File exists: 'C:\\\\Users\\\\BAPS\\\\Desktop\\\\Python\\\\txt_files\\\\file12.txt'"
     ]
    }
   ],
   "source": [
    "file12_name=\"file12.txt\"\n",
    "file12_path= os.path.join(base_dir,file12_name)\n",
    "with open(file12_path,\"x\") as file7:       #if file is present it will give an error,else it will create an file\n",
    "    pass"
   ]
  },
  {
   "cell_type": "markdown",
   "id": "3906e727",
   "metadata": {},
   "source": [
    "xb"
   ]
  },
  {
   "cell_type": "code",
   "execution_count": null,
   "id": "43f4f9f1",
   "metadata": {},
   "outputs": [],
   "source": [
    "file233_name=\"file233.txt\"\n",
    "file233_path= os.path.join(base_dir,file233_name)\n",
    "with open(file233_path,\"xb\") as file7:      \n",
    "    file7.write(b\"helo ole\")"
   ]
  },
  {
   "cell_type": "markdown",
   "id": "33e9b987",
   "metadata": {},
   "source": [
    "x+"
   ]
  },
  {
   "cell_type": "code",
   "execution_count": null,
   "id": "eeef0d75",
   "metadata": {},
   "outputs": [
    {
     "name": "stdout",
     "output_type": "stream",
     "text": [
      "\n"
     ]
    }
   ],
   "source": [
    "file13_name=\"file13.txt\"\n",
    "file13_path= os.path.join(base_dir,file13_name)\n",
    "with open(file13_path,\"x+\") as file10:\n",
    "    file10.write(\"ole ole ole \")\n",
    "    ca=file10.read()\n",
    "    print(ca)    "
   ]
  },
  {
   "cell_type": "markdown",
   "id": "6aa589c6",
   "metadata": {},
   "source": [
    "xb+"
   ]
  },
  {
   "cell_type": "code",
   "execution_count": null,
   "id": "487dc803",
   "metadata": {},
   "outputs": [
    {
     "ename": "FileExistsError",
     "evalue": "[Errno 17] File exists: 'file131.txt'",
     "output_type": "error",
     "traceback": [
      "\u001b[31m---------------------------------------------------------------------------\u001b[39m",
      "\u001b[31mFileExistsError\u001b[39m                           Traceback (most recent call last)",
      "\u001b[36mCell\u001b[39m\u001b[36m \u001b[39m\u001b[32mIn[27]\u001b[39m\u001b[32m, line 1\u001b[39m\n\u001b[32m----> \u001b[39m\u001b[32m1\u001b[39m \u001b[38;5;28;01mwith\u001b[39;00m \u001b[38;5;28;43mopen\u001b[39;49m\u001b[43m(\u001b[49m\u001b[33;43m\"\u001b[39;49m\u001b[33;43mfile131.txt\u001b[39;49m\u001b[33;43m\"\u001b[39;49m\u001b[43m,\u001b[49m\u001b[33;43m\"\u001b[39;49m\u001b[33;43mxb+\u001b[39;49m\u001b[33;43m\"\u001b[39;49m\u001b[43m)\u001b[49m \u001b[38;5;28;01mas\u001b[39;00m file10:\n\u001b[32m      2\u001b[39m     file10.write(\u001b[33mb\u001b[39m\u001b[33m\"\u001b[39m\u001b[33mole ole ole \u001b[39m\u001b[33m\"\u001b[39m)\n\u001b[32m      3\u001b[39m     ca=file10.read(\u001b[32m2\u001b[39m)\n",
      "\u001b[36mFile \u001b[39m\u001b[32m~\\AppData\\Roaming\\Python\\Python311\\site-packages\\IPython\\core\\interactiveshell.py:326\u001b[39m, in \u001b[36m_modified_open\u001b[39m\u001b[34m(file, *args, **kwargs)\u001b[39m\n\u001b[32m    319\u001b[39m \u001b[38;5;28;01mif\u001b[39;00m file \u001b[38;5;129;01min\u001b[39;00m {\u001b[32m0\u001b[39m, \u001b[32m1\u001b[39m, \u001b[32m2\u001b[39m}:\n\u001b[32m    320\u001b[39m     \u001b[38;5;28;01mraise\u001b[39;00m \u001b[38;5;167;01mValueError\u001b[39;00m(\n\u001b[32m    321\u001b[39m         \u001b[33mf\u001b[39m\u001b[33m\"\u001b[39m\u001b[33mIPython won\u001b[39m\u001b[33m'\u001b[39m\u001b[33mt let you open fd=\u001b[39m\u001b[38;5;132;01m{\u001b[39;00mfile\u001b[38;5;132;01m}\u001b[39;00m\u001b[33m by default \u001b[39m\u001b[33m\"\u001b[39m\n\u001b[32m    322\u001b[39m         \u001b[33m\"\u001b[39m\u001b[33mas it is likely to crash IPython. If you know what you are doing, \u001b[39m\u001b[33m\"\u001b[39m\n\u001b[32m    323\u001b[39m         \u001b[33m\"\u001b[39m\u001b[33myou can use builtins\u001b[39m\u001b[33m'\u001b[39m\u001b[33m open.\u001b[39m\u001b[33m\"\u001b[39m\n\u001b[32m    324\u001b[39m     )\n\u001b[32m--> \u001b[39m\u001b[32m326\u001b[39m \u001b[38;5;28;01mreturn\u001b[39;00m \u001b[43mio_open\u001b[49m\u001b[43m(\u001b[49m\u001b[43mfile\u001b[49m\u001b[43m,\u001b[49m\u001b[43m \u001b[49m\u001b[43m*\u001b[49m\u001b[43margs\u001b[49m\u001b[43m,\u001b[49m\u001b[43m \u001b[49m\u001b[43m*\u001b[49m\u001b[43m*\u001b[49m\u001b[43mkwargs\u001b[49m\u001b[43m)\u001b[49m\n",
      "\u001b[31mFileExistsError\u001b[39m: [Errno 17] File exists: 'file131.txt'"
     ]
    }
   ],
   "source": [
    "with open(\"file131.txt\",\"xb+\") as file10:\n",
    "    file10.write(b\"ole ole ole \")\n",
    "    ca=file10.read()\n",
    "    print(ca)    "
   ]
  },
  {
   "cell_type": "markdown",
   "id": "029e476d",
   "metadata": {},
   "source": [
    "how to read a line\n"
   ]
  },
  {
   "cell_type": "code",
   "execution_count": null,
   "id": "87dfd114",
   "metadata": {},
   "outputs": [
    {
     "name": "stdout",
     "output_type": "stream",
     "text": [
      "['When opening a file, we must specify the mode we want to which specifies what we want to do with the file. \\n', 'Here a table of the different modes available:\\n']\n"
     ]
    }
   ],
   "source": [
    "with open(file_path,\"r\") as file11:\n",
    "    print(file11.readlines(150))       #reads all the lines of a file and giver the answer in form of a list"
   ]
  },
  {
   "cell_type": "code",
   "execution_count": null,
   "id": "af9c623d",
   "metadata": {},
   "outputs": [
    {
     "name": "stdout",
     "output_type": "stream",
     "text": [
      "When opening a file, we must specify the mode we want to which specifies what we want to do with the file. \n",
      "\n"
     ]
    }
   ],
   "source": [
    "with open(file_path,\"r\") as file11:\n",
    "    print(file11.readline())    #reads a particular line and if we pass a value inside then it reads that amount of words"
   ]
  },
  {
   "cell_type": "markdown",
   "id": "345eeaf1",
   "metadata": {},
   "source": [
    "How to read specific amount of lines"
   ]
  },
  {
   "cell_type": "code",
   "execution_count": null,
   "id": "bc8720ce",
   "metadata": {},
   "outputs": [
    {
     "name": "stdout",
     "output_type": "stream",
     "text": [
      "Objects whose gravitational fields are too strong for light to escape were first considered in the 18th century by John Michell and Pierre-Simon Laplace. \n",
      "\n",
      "['A black hole is a massive, compact astronomical object so dense that its gravity prevents anything from escaping, even light.\\n', \"Albert Einstein's theory of general relativity predicts that a sufficiently compact mass will form a black hole.\\n\", '[3] The boundary of no escape is called the event horizon. A black hole has a great effect on the fate and circumstances of an object crossing it, but has no locally detectable features according to general relativity.\\n', '[4] In many ways, a black hole acts like an ideal black body, as it reflects no light.[5][6] Quantum field theory in curved spacetime predicts that event horizons emit Hawking radiation, with the same spectrum as a black body of a temperature inversely proportional to its mass. \\n', 'This temperature is of the order of billionths of a kelvin for stellar black holes, making it essentially impossible to observe directly.\\n']\n",
      "\n"
     ]
    }
   ],
   "source": [
    "with open(file12_path,\"r\") as file12:\n",
    "    c=file12.readlines()\n",
    "    print(c[5])         #prints line 5\n",
    "    print(c[:5])        #prints the lines upto line 5\n",
    "    "
   ]
  },
  {
   "cell_type": "code",
   "execution_count": null,
   "id": "05a00070",
   "metadata": {},
   "outputs": [
    {
     "name": "stdout",
     "output_type": "stream",
     "text": [
      "A black hole is a massive, compact astronomical object so dense that its gravity prevents anything from escaping, even light.\n",
      "\n"
     ]
    }
   ],
   "source": [
    "with open(file12_path,\"r\") as file12:\n",
    "    c1=file12.readline()\n",
    "    print(c1)"
   ]
  },
  {
   "cell_type": "code",
   "execution_count": 20,
   "id": "8cb3dc50",
   "metadata": {},
   "outputs": [
    {
     "name": "stdout",
     "output_type": "stream",
     "text": [
      "marks of student 1 in maths: 112\n",
      "marks of student 1 in english: 90\n",
      "marks of student 1 in Science: 178\n",
      "\n",
      "marks of student 2 in maths: 128\n",
      "marks of student 2 in english: 68\n",
      "marks of student 2 in Science: 46\n",
      "\n",
      "marks of student 3 in maths: 24\n",
      "marks of student 3 in english: 46\n",
      "marks of student 3 in Science: 146\n",
      "\n"
     ]
    }
   ],
   "source": [
    "file13_name=\"file13.txt\"\n",
    "file13_path=os.path.join(base_dir,file13_name)\n",
    "\n",
    "with open(file13_path, 'r') as f:\n",
    "    i = 0\n",
    "    while True:\n",
    "        i = i + 1\n",
    "        line = f.readline()\n",
    "        if not line:\n",
    "            break\n",
    " \n",
    "        m1 = int(line.split(\",\")[0])\n",
    "        m2 = int(line.split(\",\")[1])\n",
    "        m3 = int(line.split(\",\")[2])\n",
    " \n",
    "        print(f\"marks of student {i} in maths: {m1*2}\")\n",
    "        print(f\"marks of student {i} in english: {m2*2}\")\n",
    "        print(f\"marks of student {i} in Science: {m3*2}\")\n",
    "        print()"
   ]
  },
  {
   "cell_type": "markdown",
   "id": "5880aa7c",
   "metadata": {},
   "source": [
    "Seek()"
   ]
  },
  {
   "cell_type": "code",
   "execution_count": null,
   "id": "f70ad27c",
   "metadata": {},
   "outputs": [
    {
     "name": "stdout",
     "output_type": "stream",
     "text": [
      "['Objects whose gravitational fields are too strong for light to escape were first considered in the 18th century by John Michell and Pierre-Simon Laplace. \\n', 'In 1916, Karl Schwarzschild found the first modern solution of general relativity that would characterise a black hole. Due to his influential research, the Schwarzschild metric is named after him.\\n', 'David Finkelstein, in 1958, first published the interpretation of \"black hole\" as a region of space from which nothing can escape. Black holes were long considered a mathematical curiosity; it was not until the 1960s that theoretical work showed they were a generic prediction of general relativity. The discovery of neutron stars by Jocelyn Bell Burnell in 1967 sparked interest in gravitationally collapsed compact objects as a possible astrophysical reality. The first black hole known was Cygnus X-1, identified by several researchers independently in 1971.[7][8]\\n', 'Black holes typically form when massive stars collapse at the end of their life cycle. After a black hole has formed, it can grow by absorbing mass from its surroundings. Supermassive black holes of millions of solar masses may form by absorbing other stars and merging with other black holes, or via direct collapse of gas clouds. There is consensus that supermassive black holes exist in the centres of most galaxies.\\n', 'The presence of a black hole can be inferred through its interaction with other matter and with electromagnetic radiation such as visible light. Matter falling toward a black hole can form an accretion disk of infalling plasma, heated by friction and emitting light. In extreme cases, this creates a quasar, some of the brightest objects in the universe. Stars passing too close to a supermassive black hole can be shredded into streamers that shine very brightly before being \"swallowed.\"[9] If other stars are orbiting a black hole, their orbits can be used to determine the black hole\\'s mass and location. Such observations can be used to exclude possible alternatives such as neutron stars. In this way, astronomers have identified numerous stellar black hole candidates in binary systems and established that the radio source known as Sagittarius A*, at the core of the Milky Way galaxy, contains a supermassive black hole of about 4.3 million solar masses.\\n', '\\n', 'History\\n', 'The idea of a body so big that even light could not escape was briefly proposed by English astronomical pioneer and clergyman John Michell and independently by French scientist Pierre-Simon Laplace. Both scholars proposed very large stars rather than the modern model of stars with extraordinary density.[10]\\n', \"Michell's idea, in a short part of a letter published in 1784, calculated that a star with the same density but 500 times the radius of the sun would not let any emitted light escape; the surface escape velocity would exceed the speed of light. Michell correctly noted that such supermassive but non-radiating bodies might be detectable through their gravitational effects on nearby visible bodies.[10][11][12]\\n\", 'In 1796, Laplace mentioned that a star could be invisible if it were sufficiently large while speculating on the origin of the Solar System in his book Exposition du SystÃ¨me du Monde. Franz Xaver von Zach asked Laplace for a mathematical analysis, which Laplace provided and published in journal edited by von Zach.[10]\\n', \"Scholars of the time were initially excited by the proposal that giant but invisible 'dark stars' might be hiding in plain view, but enthusiasm dampened when the wavelike nature of light became apparent in the early nineteenth century,[13] since light was understood as a wave rather than a particle, it was unclear what, if any, influence gravity would have on escaping light waves.[10][12]\"]\n"
     ]
    }
   ],
   "source": [
    "with open(file12_path, 'r') as f:\n",
    "    x=(f.readlines())\n",
    "    y=f.seek(5)         #seek offsets the cursor to specific place and can also be used tp print specific lines \n",
    "    print(x[y:])\n",
    "    "
   ]
  },
  {
   "cell_type": "code",
   "execution_count": null,
   "id": "9e8ffd69",
   "metadata": {},
   "outputs": [
    {
     "name": "stdout",
     "output_type": "stream",
     "text": [
      "['k hole is a massive, compact astronomical object so dense that its gravity prevents anything from escaping, even light.\\n', \"Albert Einstein's theory of general relativity predicts that a sufficiently compact mass will form a black hole.\\n\", '[3] The boundary of no escape is called the event horizon. A black hole has a great effect on the fate and circumstances of an object crossing it, but has no locally detectable features according to general relativity.\\n', '[4] In many ways, a black hole acts like an ideal black body, as it reflects no light.[5][6] Quantum field theory in curved spacetime predicts that event horizons emit Hawking radiation, with the same spectrum as a black body of a temperature inversely proportional to its mass. \\n', 'This temperature is of the order of billionths of a kelvin for stellar black holes, making it essentially impossible to observe directly.\\n', 'Objects whose gravitational fields are too strong for light to escape were first considered in the 18th century by John Michell and Pierre-Simon Laplace. \\n', 'In 1916, Karl Schwarzschild found the first modern solution of general relativity that would characterise a black hole. Due to his influential research, the Schwarzschild metric is named after him.\\n', 'David Finkelstein, in 1958, first published the interpretation of \"black hole\" as a region of space from which nothing can escape. Black holes were long considered a mathematical curiosity; it was not until the 1960s that theoretical work showed they were a generic prediction of general relativity. The discovery of neutron stars by Jocelyn Bell Burnell in 1967 sparked interest in gravitationally collapsed compact objects as a possible astrophysical reality. The first black hole known was Cygnus X-1, identified by several researchers independently in 1971.[7][8]\\n', 'Black holes typically form when massive stars collapse at the end of their life cycle. After a black hole has formed, it can grow by absorbing mass from its surroundings. Supermassive black holes of millions of solar masses may form by absorbing other stars and merging with other black holes, or via direct collapse of gas clouds. There is consensus that supermassive black holes exist in the centres of most galaxies.\\n', 'The presence of a black hole can be inferred through its interaction with other matter and with electromagnetic radiation such as visible light. Matter falling toward a black hole can form an accretion disk of infalling plasma, heated by friction and emitting light. In extreme cases, this creates a quasar, some of the brightest objects in the universe. Stars passing too close to a supermassive black hole can be shredded into streamers that shine very brightly before being \"swallowed.\"[9] If other stars are orbiting a black hole, their orbits can be used to determine the black hole\\'s mass and location. Such observations can be used to exclude possible alternatives such as neutron stars. In this way, astronomers have identified numerous stellar black hole candidates in binary systems and established that the radio source known as Sagittarius A*, at the core of the Milky Way galaxy, contains a supermassive black hole of about 4.3 million solar masses.\\n', '\\n', 'History\\n', 'The idea of a body so big that even light could not escape was briefly proposed by English astronomical pioneer and clergyman John Michell and independently by French scientist Pierre-Simon Laplace. Both scholars proposed very large stars rather than the modern model of stars with extraordinary density.[10]\\n', \"Michell's idea, in a short part of a letter published in 1784, calculated that a star with the same density but 500 times the radius of the sun would not let any emitted light escape; the surface escape velocity would exceed the speed of light. Michell correctly noted that such supermassive but non-radiating bodies might be detectable through their gravitational effects on nearby visible bodies.[10][11][12]\\n\", 'In 1796, Laplace mentioned that a star could be invisible if it were sufficiently large while speculating on the origin of the Solar System in his book Exposition du SystÃ¨me du Monde. Franz Xaver von Zach asked Laplace for a mathematical analysis, which Laplace provided and published in journal edited by von Zach.[10]\\n', \"Scholars of the time were initially excited by the proposal that giant but invisible 'dark stars' might be hiding in plain view, but enthusiasm dampened when the wavelike nature of light became apparent in the early nineteenth century,[13] since light was understood as a wave rather than a particle, it was unclear what, if any, influence gravity would have on escaping light waves.[10][12]\"]\n"
     ]
    }
   ],
   "source": [
    "with open(file12_path, 'r') as f:    \n",
    "    f.seek(6)\n",
    "    print(f.readlines())"
   ]
  },
  {
   "cell_type": "markdown",
   "id": "871a3f83",
   "metadata": {},
   "source": [
    "tell()"
   ]
  },
  {
   "cell_type": "code",
   "execution_count": null,
   "id": "6285331e",
   "metadata": {},
   "outputs": [
    {
     "name": "stdout",
     "output_type": "stream",
     "text": [
      "127\n"
     ]
    }
   ],
   "source": [
    "with open(file12_path,'r') as f:\n",
    "    f.readline()\n",
    "    print(f.tell())     #tells us where is the cursor pointer inside the file.It can be used to determine the starting of new line "
   ]
  },
  {
   "cell_type": "code",
   "execution_count": null,
   "id": "6f59958b",
   "metadata": {},
   "outputs": [
    {
     "name": "stdout",
     "output_type": "stream",
     "text": [
      "0\n"
     ]
    }
   ],
   "source": [
    "with open(file12_path,'r') as f:\n",
    "    print(f.tell()) "
   ]
  },
  {
   "cell_type": "code",
   "execution_count": null,
   "id": "262a3833",
   "metadata": {},
   "outputs": [
    {
     "name": "stdout",
     "output_type": "stream",
     "text": [
      "9\n"
     ]
    }
   ],
   "source": [
    "with open(file12_path,'r') as f:\n",
    "    f.seek(9)\n",
    "    print(f.tell()) "
   ]
  },
  {
   "cell_type": "code",
   "execution_count": null,
   "id": "6aea2479",
   "metadata": {},
   "outputs": [
    {
     "name": "stdout",
     "output_type": "stream",
     "text": [
      "A black hole is a massive, compact astronomical object so dense that its gravity prevents anything from escaping, even light.\n",
      "\n"
     ]
    }
   ],
   "source": [
    "with open(file12_path,'r') as f:\n",
    "    # f.readline()\n",
    "    x=f.tell()          \n",
    "    f.seek(x)               \n",
    "    print(f.readline())\n"
   ]
  },
  {
   "cell_type": "code",
   "execution_count": null,
   "id": "96d09a84",
   "metadata": {},
   "outputs": [],
   "source": [
    "file14_name=\"file14.txt\"\n",
    "file14_path=os.path.join(base_dir,file14_name)\n",
    "with open(file14_path,'w') as file14:\n",
    "    file14.write('[1,2,3,4,5]')"
   ]
  },
  {
   "cell_type": "code",
   "execution_count": null,
   "id": "b56bf15e",
   "metadata": {},
   "outputs": [
    {
     "name": "stdout",
     "output_type": "stream",
     "text": [
      "[1,2,3,4,5] <class 'str'>\n",
      "['[', '1', ',', '2', ',', '3', ',', '4', ',', '5', ']'] <class 'list'>\n"
     ]
    }
   ],
   "source": [
    "with open(file14_path,'r') as file14:\n",
    "    x=file14.readlines()\n",
    "    for i in x:\n",
    "        print(i,type(i))\n",
    "        a=list(i)\n",
    "        print(a,type(a))"
   ]
  },
  {
   "cell_type": "code",
   "execution_count": null,
   "id": "78fb780f",
   "metadata": {},
   "outputs": [],
   "source": [
    "\n",
    "# ch=os.chdir(\"./\")\n",
    "# print(ch)\n",
    "#do stuff in parent directory\n",
    "# dir=os.chdir()  \n",
    "# print(dir)               \n",
    "# file_p=os.path.join(pathq,\"txt_files\", file15)\n",
    "# print(file_p)\n",
    "\n",
    "# with open(file_p,\"w\") as file15:\n",
    "#     file15.write(\"hell0\")"
   ]
  },
  {
   "cell_type": "code",
   "execution_count": null,
   "id": "f62be26d",
   "metadata": {},
   "outputs": [],
   "source": [
    "# base_path=os.getcwd()\n",
    "# file16_name=\"file16.txt\"\n",
    "# print(base_path)\n",
    "# # file_p=os.path.join(pathq,\"txt_files1\")\n",
    "# # if os.path.exists(file_p):\n",
    "# #     file16_path=os.path.join(file_p,file16_name)\n",
    "# # else:\n",
    "# #     folder=\"txt_files1\"\n",
    "# #     dir=os.path.join(pathq,folder)\n",
    "# #     dir1=os.makedirs(dir)\n",
    "# #     file16_path=os.path.join(pathq,dir1,file16_name)\n",
    "\n",
    "\n",
    "# # with open(file16_path,\"w\") as file16:\n",
    "# #     file16.write(\"hell1\")"
   ]
  },
  {
   "cell_type": "code",
   "execution_count": null,
   "id": "81f1bf1f",
   "metadata": {},
   "outputs": [],
   "source": [
    "# file15=\"file15.txt\"\n",
    "# print(base_path)\n",
    "\n",
    "# file16_name=\"file18.txt\"\n",
    "# file_p=os.path.join(base_path,\"txt_files1\")\n",
    "# if os.path.exists(file_p):\n",
    "#     file16_path=os.path.join(file_p,file16_name)\n",
    "# else:\n",
    "#     folder=\"txt_files1\"\n",
    "#     dir=os.path.join(base_path,folder)\n",
    "#     dir1=os.makedirs(dir)\n",
    "#     file16_path=os.path.join(base_path,dir,file16_name)\n",
    " \n",
    "# with open(file16_path,\"w\") as file16:\n",
    "#     file16.write(\"hello2\")"
   ]
  },
  {
   "cell_type": "code",
   "execution_count": 1,
   "id": "b5448f6e",
   "metadata": {},
   "outputs": [
    {
     "name": "stdout",
     "output_type": "stream",
     "text": [
      "c:\\Users\\BAPS\\Desktop\\Python\\python_files c:\\Users\\BAPS\\Desktop\\Python\n"
     ]
    }
   ],
   "source": [
    "import os\n",
    "val1=os.getcwd()\n",
    "os.getenv(\"Python\")\n",
    "# os.chdir(\"..\")\n",
    "val2=os.path.dirname(val1)\n",
    "print(val1,val2,)\n",
    "file16_name=\"file19.txt\"\n",
    "i=True\n",
    "while i:\n",
    "\n",
    "    if val2.endswith(\"\\Python\"):\n",
    "        file_p=os.path.join(val2,\"txt_files1\")\n",
    "        if os.path.exists(file_p):\n",
    "            file16_path=os.path.join(file_p,file16_name)\n",
    "            i=False\n",
    "        else:\n",
    "            folder=\"txt_files1\"\n",
    "            dir=os.path.join(val2,folder)\n",
    "            dir1=os.makedirs(dir)\n",
    "            file16_path=os.path.join(val2,dir1,file16_name)\n",
    "            i=False\n",
    "    else:\n",
    "        pass"
   ]
  },
  {
   "cell_type": "code",
   "execution_count": 1,
   "id": "1d58a778",
   "metadata": {},
   "outputs": [
    {
     "name": "stdout",
     "output_type": "stream",
     "text": [
      "c:\\Users\\BAPS\\Desktop\\Python\\python_files\n"
     ]
    }
   ],
   "source": [
    "import os\n",
    "base_path=os.getcwd()\n",
    "file15=\"file15.txt\"\n",
    "print(base_path)\n",
    " \n",
    "file16_name=\"file16.txt\"\n",
    " \n",
    "file_p=os.path.join(base_path,\"txt_files1\")\n",
    "if os.path.exists(file_p):\n",
    "    file16_path=os.path.join(file_p,file16_name)\n",
    "else:\n",
    "    folder=\"txt_files1\"\n",
    "    dir=os.path.join(base_path,folder)\n",
    "    dir1=os.makedirs(dir)\n",
    "    file16_path=os.path.join(base_path,dir1,file16_name)\n",
    " \n",
    " \n",
    "with open(file16_path,\"w\") as file16:\n",
    "    file16.write(\"hell21\")"
   ]
  },
  {
   "cell_type": "code",
   "execution_count": null,
   "id": "2913ad64",
   "metadata": {},
   "outputs": [
    {
     "name": "stdout",
     "output_type": "stream",
     "text": [
      "c:\\Users\\BAPS\\Desktop\\Python\\python_files\n",
      "c:\\Users\\BAPS\\Desktop\\Python\\python.txt\n"
     ]
    }
   ],
   "source": [
    "import os\n",
    "s= os.getcwd()\n",
    "print(s)\n",
    "s1=os.path.dirname(s)\n",
    "\n",
    "file123=\"python.txt\"\n",
    "\n",
    "new_path=os.path.join(s1,file123)\n",
    "print(new_path)\n",
    "\n"
   ]
  },
  {
   "cell_type": "code",
   "execution_count": 5,
   "id": "b5e2cb80",
   "metadata": {},
   "outputs": [
    {
     "name": "stdout",
     "output_type": "stream",
     "text": [
      "<class 'str'>\n",
      "hello\n"
     ]
    }
   ],
   "source": [
    "import os\n",
    " \n",
    "working_dir = os.getcwd()\n",
    " \n",
    "# base_path1 = r\"C:\\Users\\BAPS\\ayush\\koge\"\n",
    " \n",
    "file_name = \"file18.txt\"\n",
    " \n",
    "fp = os.path.join(working_dir , file_name)\n",
    "print(type(fp))\n",
    "with open(fp,'r') as file:\n",
    "    print(file.read())"
   ]
  },
  {
   "cell_type": "code",
   "execution_count": null,
   "id": "78f1b3c2",
   "metadata": {},
   "outputs": [],
   "source": []
  }
 ],
 "metadata": {
  "kernelspec": {
   "display_name": "Python 3",
   "language": "python",
   "name": "python3"
  },
  "language_info": {
   "codemirror_mode": {
    "name": "ipython",
    "version": 3
   },
   "file_extension": ".py",
   "mimetype": "text/x-python",
   "name": "python",
   "nbconvert_exporter": "python",
   "pygments_lexer": "ipython3",
   "version": "3.11.0"
  }
 },
 "nbformat": 4,
 "nbformat_minor": 5
}
