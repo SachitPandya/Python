{
 "cells": [
  {
   "cell_type": "markdown",
   "id": "3ebe4d03",
   "metadata": {},
   "source": [
    "### Import required libraries"
   ]
  },
  {
   "cell_type": "code",
   "execution_count": null,
   "id": "3511fda1",
   "metadata": {},
   "outputs": [],
   "source": [
    "# Libraries to process file and visualization for EDA\n",
    "import os\n",
    "import numpy as np\n",
    "import pandas as pd\n",
    "import matplotlib.pyplot as plt\n",
    "import seaborn as sns\n",
    "\n",
    "# Outlier detection \n",
    "from scipy.stats import zscore\n",
    "\n",
    "%matplotlib inline\n",
    "sns.set(style='white', context='notebook')"
   ]
  },
  {
   "cell_type": "code",
   "execution_count": null,
   "id": "b01546bc",
   "metadata": {},
   "outputs": [],
   "source": [
    "# (style='white', context='notebook')"
   ]
  },
  {
   "cell_type": "code",
   "execution_count": null,
   "id": "e1535a21",
   "metadata": {},
   "outputs": [],
   "source": [
    "# Get current working directory\n",
    "# print(os.getcwd())\n",
    "# Change current working directory pointing to dataset\n",
    "# os.chdir(r\"../data/project/regression\")"
   ]
  },
  {
   "cell_type": "markdown",
   "id": "70c23b5c",
   "metadata": {},
   "source": [
    "### Import Dataset"
   ]
  },
  {
   "cell_type": "code",
   "execution_count": null,
   "id": "4803bfe2",
   "metadata": {},
   "outputs": [],
   "source": [
    "# Import dataset file and get panda dataframe. Also copy original dataframe to future reference.\n",
    "dataset = pd.read_csv(r\"USA_Housing.csv\")\n",
    "dataset_original = dataset"
   ]
  },
  {
   "cell_type": "code",
   "execution_count": null,
   "id": "1d6f2dbd",
   "metadata": {},
   "outputs": [],
   "source": [
    "# Check few columns and related data values \n",
    "dataset.head()"
   ]
  },
  {
   "cell_type": "code",
   "execution_count": null,
   "id": "00ed6e27",
   "metadata": {},
   "outputs": [],
   "source": [
    "# Check all available columns\n",
    "dataset.columns"
   ]
  },
  {
   "cell_type": "code",
   "execution_count": null,
   "id": "ef1749dc",
   "metadata": {},
   "outputs": [],
   "source": [
    "# Check all column datatypes also observe Non-Null values\n",
    "dataset.info()\n",
    "\n",
    "# Observation : There are total 5000 records available. \n",
    "    # Other than 'Address' column all columns are numerical having datatype float64\n",
    "    # and We can see there are some missing values Avg. Area Income, Avg. Area Number of Rooms and \n",
    "# Avg. Area Number of Bedrooms columns"
   ]
  },
  {
   "cell_type": "code",
   "execution_count": null,
   "id": "fd543269",
   "metadata": {},
   "outputs": [],
   "source": [
    "# Drop unnecessary feature(s)\n",
    "# dataset = dataset.iloc[:, 0:6]\n",
    "dataset = dataset.drop(columns=['Address'], axis=1) "
   ]
  },
  {
   "cell_type": "code",
   "execution_count": null,
   "id": "46971915",
   "metadata": {},
   "outputs": [],
   "source": []
  },
  {
   "cell_type": "markdown",
   "id": "25be71b7",
   "metadata": {},
   "source": [
    "### Checking missing values"
   ]
  },
  {
   "cell_type": "code",
   "execution_count": null,
   "id": "6a5045da",
   "metadata": {},
   "outputs": [],
   "source": [
    "# Get total missing values and it's percentages\n",
    "total_missing = dataset.isnull().sum()\n",
    "percentage_missing = total_missing * 100 / len(dataset)\n",
    "missing_value_df = pd.DataFrame(data=[total_missing, percentage_missing], index=[\"Total\", \"%\"]).T\n",
    "missing_value_df\n",
    "\n",
    "# Observation : Here we do have missing values in dataset but no colum have missing values 25% or greater so no need to \n",
    "# drop any column but we will do imputation.\n",
    "                                    \n",
    "# In imputation if variable is char then we will use mode function and if it is numeric then we will first check for\n",
    "# outrliers if there are outrliers then we will impute by median else we will impute using mean"
   ]
  },
  {
   "cell_type": "code",
   "execution_count": null,
   "id": "bfd50191",
   "metadata": {},
   "outputs": [],
   "source": [
    "# If MEAN and MEDIAN difference is more than 10% then there are possible outliers present in data.\n",
    "dataset.describe().T\n",
    "\n",
    "\n",
    "# Observation : As there is not much MEAN and MEDIAN difference for each column so there are less or no outliers"
   ]
  },
  {
   "cell_type": "markdown",
   "id": "3dfc1294",
   "metadata": {},
   "source": [
    "### Univirate Analysis"
   ]
  },
  {
   "cell_type": "code",
   "execution_count": null,
   "id": "a5b9a5cd",
   "metadata": {
    "scrolled": true
   },
   "outputs": [],
   "source": [
    "### Draw Scatter plot for numerical columns And analyse the distribution \n",
    "for column in dataset.columns :\n",
    "    plt.figure()\n",
    "    sns.scatterplot(data=dataset, x=column, y=dataset.index,hue=dataset.Price)"
   ]
  },
  {
   "cell_type": "code",
   "execution_count": null,
   "id": "970a9887",
   "metadata": {},
   "outputs": [],
   "source": [
    "### Draw hist plot for numerical columns And analyse the distribution \n",
    "for column in dataset.columns : \n",
    "    plt.figure()\n",
    "    sns.displot(dataset[column],color='darkorange',kind='kde')\n",
    "#     sns.displot(dataset[column], color='darkorange', kind='hist')\n",
    "    \n",
    "# Observation : Here we can see other than column 'Avg. Area Number of Bedrooms' \n",
    "# all columns seems to be Normally/Gaussian/Symetrically distributed."
   ]
  },
  {
   "cell_type": "code",
   "execution_count": null,
   "id": "3e56ac6f",
   "metadata": {},
   "outputs": [],
   "source": [
    "### Draw box plot \n",
    "# Identify Outliers  for numerical columns. It represents the five-point summary. \n",
    "for column in dataset.columns :\n",
    "    plt.figure()\n",
    "    sns.boxplot(x = dataset[column], data = dataset, hue=column)\n",
    "    \n",
    "# Observation : There are outliers in columns 'Avg. Area Income', 'Avg. Area House Age', 'Avg. Area Number of Rooms',\n",
    "#  'Avg. Area Number of Bedrooms', 'Area Population' and 'Price'"
   ]
  },
  {
   "cell_type": "markdown",
   "id": "ac54fdfe",
   "metadata": {},
   "source": [
    "### Bi-virate analysis"
   ]
  },
  {
   "cell_type": "code",
   "execution_count": null,
   "id": "f986efcf",
   "metadata": {},
   "outputs": [],
   "source": [
    "# Visualize relation with each independend and dependent variable\n",
    "sns.pairplot(data=dataset)"
   ]
  },
  {
   "cell_type": "code",
   "execution_count": null,
   "id": "1438aa6c",
   "metadata": {},
   "outputs": [],
   "source": [
    "# Calculate co-relation\n",
    "corr = dataset.corr()\n",
    "corr"
   ]
  },
  {
   "cell_type": "code",
   "execution_count": null,
   "id": "44ad3f18",
   "metadata": {},
   "outputs": [],
   "source": [
    "# plot co-relation in heat map to check multi-co-linearility between features\n",
    "plt.subplots(figsize=(8,8))\n",
    "sns.heatmap(corr,cmap= 'RdYlGn',annot=True)\n",
    "plt.show()"
   ]
  },
  {
   "cell_type": "markdown",
   "id": "2cac97e7",
   "metadata": {},
   "source": [
    "### Pre-processing"
   ]
  },
  {
   "cell_type": "code",
   "execution_count": null,
   "id": "17fba811",
   "metadata": {},
   "outputs": [],
   "source": [
    "# Check Skewness and Kurtosisto check if data require scaling/transformation or not.\n",
    "\n",
    "skew = dataset.skew()\n",
    "print(\"\\nSkew\\n\")\n",
    "print(skew)\n",
    "\n",
    "print(\"\\nKurt\\n\")\n",
    "kurt = dataset.kurt()\n",
    "print(kurt)\n",
    "\n",
    "# Observation : Skew and Kurt values are in range -3 to 3 then no need to have a transformation."
   ]
  },
  {
   "cell_type": "code",
   "execution_count": null,
   "id": "cd98ec49",
   "metadata": {},
   "outputs": [],
   "source": [
    "# Outlier Removal : Z-Score method\n",
    "# We will use z-score method to remove outliers as in univirate analysis we have seen our data is uniformally distributed\n",
    "print('Before outlier removal : ',dataset.shape)\n",
    "# cols = ['Avg. Area Income', 'Avg. Area House Age', 'Avg. Area Number of Rooms', 'Area Population', 'Price']\n",
    "z = np.abs(zscore(dataset, axis = 1))\n",
    "threshold = 3\n",
    "# print(np.where(z>threshold))\n",
    "dataset = dataset[(z < threshold).all(axis=1)]\n",
    "print('After Z-Score approach : ',dataset.shape)\n",
    "\n",
    "# As we have Avg. Area Number of Bedrooms column is not normally distributed then let's use IQR method for outlier removal\n",
    "cols = ['Avg. Area Number of Bedrooms']\n",
    "Q1 = dataset.quantile(0.25)  # Q1\n",
    "Q3 = dataset.quantile(0.75)  # Q3\n",
    "IQR = Q3-Q1\n",
    "dataset = dataset[~((dataset<(Q1-1.5*IQR)) | (dataset>(Q3+1.5*IQR)))]\n",
    "print('After IQR approach : ',dataset.shape)"
   ]
  },
  {
   "cell_type": "code",
   "execution_count": null,
   "id": "bde27023",
   "metadata": {},
   "outputs": [],
   "source": [
    "# Handling missing value \n",
    "# Let's impute missing values of column Avg. Area Income, Avg. Area Number of Rooms and Avg. Area Number of Bedrooms\n",
    "\n",
    "dataset['Avg. Area Income'] = dataset['Avg. Area Income'].fillna(dataset['Avg. Area Income'].median())\n",
    "dataset['Avg. Area Number of Rooms'] = dataset['Avg. Area Number of Rooms'].fillna(dataset['Avg. Area Number of Rooms'].mean())\n",
    "dataset['Avg. Area Number of Bedrooms'] = dataset['Avg. Area Number of Bedrooms'].fillna(dataset['Avg. Area Number of Bedrooms'].mean())\n",
    "\n",
    "# dataset['Avg. Area House Age'] = dataset['Avg. Area House Age'].fillna(dataset['Avg. Area House Age'].mean())\n",
    "# dataset['Area Population'] = dataset['Area Population'].fillna(dataset['Area Population'].mean())\n",
    "# dataset['Price'] = dataset['Price'].fillna(dataset['Price'].mean())\n"
   ]
  },
  {
   "cell_type": "markdown",
   "id": "333288a9",
   "metadata": {},
   "source": []
  },
  {
   "cell_type": "code",
   "execution_count": null,
   "id": "4bb17537",
   "metadata": {},
   "outputs": [],
   "source": [
    "# Now we do no have any missing values\n",
    "dataset.isnull().sum()"
   ]
  },
  {
   "cell_type": "code",
   "execution_count": null,
   "id": "690b6ddf",
   "metadata": {},
   "outputs": [],
   "source": [
    "# Prepare data for train and test, first drop dependent variable\n",
    "x = dataset.drop(columns=['Price'])\n",
    "x"
   ]
  },
  {
   "cell_type": "code",
   "execution_count": null,
   "id": "7a63921c",
   "metadata": {},
   "outputs": [],
   "source": [
    "# Get dependent variable from  dataframe\n",
    "y = dataset['Price']\n",
    "y"
   ]
  },
  {
   "cell_type": "markdown",
   "id": "78170d73",
   "metadata": {},
   "source": [
    "###                                                                    ------------ END ------------"
   ]
  }
 ],
 "metadata": {
  "kernelspec": {
   "display_name": "Python 3",
   "language": "python",
   "name": "python3"
  },
  "language_info": {
   "codemirror_mode": {
    "name": "ipython",
    "version": 3
   },
   "file_extension": ".py",
   "mimetype": "text/x-python",
   "name": "python",
   "nbconvert_exporter": "python",
   "pygments_lexer": "ipython3",
   "version": "3.11.0"
  }
 },
 "nbformat": 4,
 "nbformat_minor": 5
}
