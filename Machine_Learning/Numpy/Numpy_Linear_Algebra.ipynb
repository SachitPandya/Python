{
 "cells": [
  {
   "cell_type": "code",
   "execution_count": 1,
   "id": "f6586875",
   "metadata": {},
   "outputs": [],
   "source": [
    "import numpy as np"
   ]
  },
  {
   "cell_type": "code",
   "execution_count": 2,
   "id": "2c4b0b54",
   "metadata": {},
   "outputs": [
    {
     "data": {
      "text/plain": [
       "(array([[6, 3],\n",
       "        [2, 9]], dtype=int32),\n",
       " array([[4, 0, 4],\n",
       "        [1, 5, 4]], dtype=int32),\n",
       " array([[0, 4],\n",
       "        [2, 0],\n",
       "        [0, 2]], dtype=int32))"
      ]
     },
     "execution_count": 2,
     "metadata": {},
     "output_type": "execute_result"
    }
   ],
   "source": [
    "a1=np.random.randint(10,size=(2,2))\n",
    "a2=np.random.randint(10,size=(2,3))\n",
    "a3=np.random.randint(10,size=(3,2))\n",
    "a1,a2,a3"
   ]
  },
  {
   "cell_type": "code",
   "execution_count": 3,
   "id": "ec1c0268",
   "metadata": {},
   "outputs": [
    {
     "data": {
      "text/plain": [
       "(array([[27, 15, 36],\n",
       "        [17, 45, 44]], dtype=int32),\n",
       " array([[27, 15, 36],\n",
       "        [17, 45, 44]], dtype=int32))"
      ]
     },
     "execution_count": 3,
     "metadata": {},
     "output_type": "execute_result"
    }
   ],
   "source": [
    "a1@a2,np.dot(a1,a2)     #dot product"
   ]
  },
  {
   "cell_type": "markdown",
   "id": "5ab5c641",
   "metadata": {},
   "source": [
    "numpy.linalg.multi_dot -> performs dot product on more than two arrays together"
   ]
  },
  {
   "cell_type": "code",
   "execution_count": 4,
   "id": "cdbc9377",
   "metadata": {},
   "outputs": [
    {
     "data": {
      "text/plain": [
       "array([[ 30, 180],\n",
       "       [ 90, 156]], dtype=int32)"
      ]
     },
     "execution_count": 4,
     "metadata": {},
     "output_type": "execute_result"
    }
   ],
   "source": [
    "np.linalg.multi_dot((a1,a2,a3))"
   ]
  },
  {
   "cell_type": "markdown",
   "id": "03ae16e2",
   "metadata": {},
   "source": [
    "np.vdot() -> complex conjucate is takes when first element is complex \n",
    "- for higher dimension arrays the resultant is flattend into a single output"
   ]
  },
  {
   "cell_type": "code",
   "execution_count": 5,
   "id": "e76d9a38",
   "metadata": {},
   "outputs": [
    {
     "data": {
      "text/plain": [
       "np.complex128(28-3j)"
      ]
     },
     "execution_count": 5,
     "metadata": {},
     "output_type": "execute_result"
    }
   ],
   "source": [
    "np.vdot([2+3j],[5+6j])  #if first term is complex ,the conjucate of only the first tem is taken for dot product"
   ]
  },
  {
   "cell_type": "code",
   "execution_count": 6,
   "id": "ce54522a",
   "metadata": {},
   "outputs": [
    {
     "data": {
      "text/plain": [
       "np.int32(16)"
      ]
     },
     "execution_count": 6,
     "metadata": {},
     "output_type": "execute_result"
    }
   ],
   "source": [
    "np.vdot(a3,a2)      #flattens the array into a single output"
   ]
  },
  {
   "cell_type": "code",
   "execution_count": 7,
   "id": "68254edd",
   "metadata": {},
   "outputs": [
    {
     "data": {
      "text/plain": [
       "(array([[8, 3, 6, 3],\n",
       "        [0, 8, 3, 8]], dtype=int32),\n",
       " array([[6, 7, 9, 2],\n",
       "        [1, 8, 9, 4],\n",
       "        [6, 6, 5, 6]], dtype=int32))"
      ]
     },
     "execution_count": 7,
     "metadata": {},
     "output_type": "execute_result"
    }
   ],
   "source": [
    "a4=np.random.randint(10,size=(2,4))\n",
    "a5=np.random.randint(10,size=(3,4))\n",
    "a4,a5"
   ]
  },
  {
   "cell_type": "code",
   "execution_count": 8,
   "id": "2b38e69a",
   "metadata": {},
   "outputs": [
    {
     "ename": "ValueError",
     "evalue": "operands could not be broadcast together with remapped shapes [original->remapped]: (2,4)->(2,) (3,4)->(3,)  and requested shape ()",
     "output_type": "error",
     "traceback": [
      "\u001b[31m---------------------------------------------------------------------------\u001b[39m",
      "\u001b[31mValueError\u001b[39m                                Traceback (most recent call last)",
      "\u001b[36mCell\u001b[39m\u001b[36m \u001b[39m\u001b[32mIn[8]\u001b[39m\u001b[32m, line 1\u001b[39m\n\u001b[32m----> \u001b[39m\u001b[32m1\u001b[39m \u001b[43mnp\u001b[49m\u001b[43m.\u001b[49m\u001b[43mvecdot\u001b[49m\u001b[43m(\u001b[49m\u001b[43ma4\u001b[49m\u001b[43m,\u001b[49m\u001b[43ma5\u001b[49m\u001b[43m)\u001b[49m       \u001b[38;5;66;03m#performs the dot product of vectors\u001b[39;00m\n\u001b[32m      2\u001b[39m \u001b[38;5;66;03m#multiplies one to one  \u001b[39;00m\n",
      "\u001b[31mValueError\u001b[39m: operands could not be broadcast together with remapped shapes [original->remapped]: (2,4)->(2,) (3,4)->(3,)  and requested shape ()"
     ]
    }
   ],
   "source": [
    "np.vecdot(a4,a5)       #performs the dot product of vectors\n",
    "#multiplies one to one  "
   ]
  },
  {
   "cell_type": "code",
   "execution_count": null,
   "id": "d8094b5c",
   "metadata": {},
   "outputs": [
    {
     "data": {
      "text/plain": [
       "np.int32(187)"
      ]
     },
     "execution_count": 10,
     "metadata": {},
     "output_type": "execute_result"
    }
   ],
   "source": [
    "np.vdot(a4,a5)   "
   ]
  },
  {
   "cell_type": "code",
   "execution_count": null,
   "id": "7f207df4",
   "metadata": {},
   "outputs": [
    {
     "data": {
      "text/plain": [
       "array([102,  85], dtype=int32)"
      ]
     },
     "execution_count": 11,
     "metadata": {},
     "output_type": "execute_result"
    }
   ],
   "source": [
    "np.linalg.vecdot(a5,a4)     #same as dot product ,but it is limited to array API only"
   ]
  },
  {
   "cell_type": "code",
   "execution_count": null,
   "id": "710722fe",
   "metadata": {},
   "outputs": [
    {
     "data": {
      "text/plain": [
       "(array([[6, 6, 2, 4],\n",
       "        [4, 0, 4, 0]], dtype=int32),\n",
       " array([[9, 8, 3, 4],\n",
       "        [6, 4, 8, 7],\n",
       "        [4, 6, 4, 8]], dtype=int32))"
      ]
     },
     "execution_count": 46,
     "metadata": {},
     "output_type": "execute_result"
    }
   ],
   "source": [
    "a4,a5"
   ]
  },
  {
   "cell_type": "code",
   "execution_count": null,
   "id": "2d820bb0",
   "metadata": {},
   "outputs": [
    {
     "data": {
      "text/plain": [
       "array([[124, 104, 100],\n",
       "       [ 48,  56,  32]], dtype=int32)"
      ]
     },
     "execution_count": 47,
     "metadata": {},
     "output_type": "execute_result"
    }
   ],
   "source": [
    "np.inner(a4,a5)     #returns dot product of the two matrices    \n",
    "# if two matrices of shape [2*4]\n",
    "#then resultant will be\n",
    "# [[a1b1],[a1b2]\n",
    "#   [a2b1],[a2b2]]\n",
    "\n",
    "# shape of the resultant would be [a[row],b[row]]"
   ]
  },
  {
   "cell_type": "code",
   "execution_count": null,
   "id": "d8dfad8d",
   "metadata": {},
   "outputs": [
    {
     "data": {
      "text/plain": [
       "(array([[2, 6, 6, 0],\n",
       "        [7, 4, 6, 7]], dtype=int32),\n",
       " array([[3, 7, 9, 2],\n",
       "        [0, 5, 5, 5]], dtype=int32))"
      ]
     },
     "execution_count": 14,
     "metadata": {},
     "output_type": "execute_result"
    }
   ],
   "source": [
    "a4,a5"
   ]
  },
  {
   "cell_type": "code",
   "execution_count": null,
   "id": "932439f8",
   "metadata": {},
   "outputs": [
    {
     "data": {
      "text/plain": [
       "((2, 4), (2, 4))"
      ]
     },
     "execution_count": 15,
     "metadata": {},
     "output_type": "execute_result"
    }
   ],
   "source": [
    "a4.shape,a5.shape"
   ]
  },
  {
   "cell_type": "code",
   "execution_count": null,
   "id": "40aa29f7",
   "metadata": {},
   "outputs": [
    {
     "data": {
      "text/plain": [
       "array([[ 6, 14, 18,  4,  0, 10, 10, 10],\n",
       "       [18, 42, 54, 12,  0, 30, 30, 30],\n",
       "       [18, 42, 54, 12,  0, 30, 30, 30],\n",
       "       [ 0,  0,  0,  0,  0,  0,  0,  0],\n",
       "       [21, 49, 63, 14,  0, 35, 35, 35],\n",
       "       [12, 28, 36,  8,  0, 20, 20, 20],\n",
       "       [18, 42, 54, 12,  0, 30, 30, 30],\n",
       "       [21, 49, 63, 14,  0, 35, 35, 35]], dtype=int32)"
      ]
     },
     "execution_count": 16,
     "metadata": {},
     "output_type": "execute_result"
    }
   ],
   "source": [
    "np.outer(a4,a5) #returns an array of values of each number of a1 * each number of a2\n",
    "# converts the ndim array into 1D if greater dim array is given"
   ]
  },
  {
   "cell_type": "code",
   "execution_count": null,
   "id": "146c22f4",
   "metadata": {},
   "outputs": [
    {
     "data": {
      "text/plain": [
       "(array([7, 2, 1, 5], dtype=int32), array([1, 5, 8, 6, 6], dtype=int32))"
      ]
     },
     "execution_count": 17,
     "metadata": {},
     "output_type": "execute_result"
    }
   ],
   "source": [
    "a6=np.random.randint(10,size=(4,))\n",
    "a7=np.random.randint(10,size=(5,))\n",
    "a6,a7"
   ]
  },
  {
   "cell_type": "code",
   "execution_count": null,
   "id": "8d0d592e",
   "metadata": {},
   "outputs": [
    {
     "data": {
      "text/plain": [
       "((4,), (5,))"
      ]
     },
     "execution_count": 18,
     "metadata": {},
     "output_type": "execute_result"
    }
   ],
   "source": [
    "a6.shape,a7.shape"
   ]
  },
  {
   "cell_type": "code",
   "execution_count": null,
   "id": "6100543c",
   "metadata": {},
   "outputs": [
    {
     "data": {
      "text/plain": [
       "array([[ 7, 35, 56, 42, 42],\n",
       "       [ 2, 10, 16, 12, 12],\n",
       "       [ 1,  5,  8,  6,  6],\n",
       "       [ 5, 25, 40, 30, 30]], dtype=int32)"
      ]
     },
     "execution_count": 19,
     "metadata": {},
     "output_type": "execute_result"
    }
   ],
   "source": [
    "np.linalg.outer(a6,a7)  #for linalg.outer ndim should only be 1 and it works same as outer"
   ]
  },
  {
   "cell_type": "code",
   "execution_count": null,
   "id": "80e9c142",
   "metadata": {},
   "outputs": [],
   "source": [
    "a8=np.random.randint(10,size=(3,2))\n",
    "a9=np.random.randint(10,size=(3,3,3))"
   ]
  },
  {
   "cell_type": "code",
   "execution_count": null,
   "id": "38e9d20d",
   "metadata": {},
   "outputs": [
    {
     "data": {
      "text/plain": [
       "array([[  3,  52,  54,  47,  21,  94, 108,  59,  18,  62,  74,  32,  12,\n",
       "         58,  66,  38],\n",
       "       [ 27, 468, 486, 423, 189, 846, 972, 531, 162, 558, 666, 288, 108,\n",
       "        522, 594, 342],\n",
       "       [ 21, 364, 378, 329, 147, 658, 756, 413, 126, 434, 518, 224,  84,\n",
       "        406, 462, 266],\n",
       "       [ 27, 468, 486, 423, 189, 846, 972, 531, 162, 558, 666, 288, 108,\n",
       "        522, 594, 342],\n",
       "       [ 18, 312, 324, 282, 126, 564, 648, 354, 108, 372, 444, 192,  72,\n",
       "        348, 396, 228],\n",
       "       [ 12, 208, 216, 188,  84, 376, 432, 236,  72, 248, 296, 128,  48,\n",
       "        232, 264, 152],\n",
       "       [ 12, 208, 216, 188,  84, 376, 432, 236,  72, 248, 296, 128,  48,\n",
       "        232, 264, 152],\n",
       "       [ 18, 312, 324, 282, 126, 564, 648, 354, 108, 372, 444, 192,  72,\n",
       "        348, 396, 228]], dtype=int32)"
      ]
     },
     "execution_count": 42,
     "metadata": {},
     "output_type": "execute_result"
    }
   ],
   "source": [
    "np.outer(a8,a9)"
   ]
  },
  {
   "cell_type": "code",
   "execution_count": null,
   "id": "a5de8e46",
   "metadata": {},
   "outputs": [],
   "source": [
    "# np.linalg.outer(a4,a5)        #it won't work for ndim greater than 1"
   ]
  },
  {
   "cell_type": "code",
   "execution_count": null,
   "id": "9d612000",
   "metadata": {},
   "outputs": [],
   "source": [
    "a8=np.random.randint(10,size=(4,2))"
   ]
  },
  {
   "cell_type": "code",
   "execution_count": null,
   "id": "8aa8a526",
   "metadata": {},
   "outputs": [
    {
     "data": {
      "text/plain": [
       "array([54, 40], dtype=int32)"
      ]
     },
     "execution_count": 23,
     "metadata": {},
     "output_type": "execute_result"
    }
   ],
   "source": [
    "np.matmul(a5,a6)        #works similar to dot product   "
   ]
  },
  {
   "cell_type": "code",
   "execution_count": null,
   "id": "4d5c8e11",
   "metadata": {},
   "outputs": [
    {
     "data": {
      "text/plain": [
       "array([[114, 138],\n",
       "       [ 85,  95]], dtype=int32)"
      ]
     },
     "execution_count": 24,
     "metadata": {},
     "output_type": "execute_result"
    }
   ],
   "source": [
    "np.matmul(a5,a8)       "
   ]
  },
  {
   "cell_type": "code",
   "execution_count": null,
   "id": "acecd991",
   "metadata": {},
   "outputs": [
    {
     "data": {
      "text/plain": [
       "array([[  3,  52,  54,  47],\n",
       "       [ 21,  94, 108,  59],\n",
       "       [ 18,  62,  74,  32],\n",
       "       [ 12,  58,  66,  38]], dtype=int32)"
      ]
     },
     "execution_count": 25,
     "metadata": {},
     "output_type": "execute_result"
    }
   ],
   "source": [
    "np.matmul(a8,a5)"
   ]
  },
  {
   "cell_type": "code",
   "execution_count": null,
   "id": "8a67db58",
   "metadata": {},
   "outputs": [
    {
     "data": {
      "text/plain": [
       "array([[  3,  52,  54,  47],\n",
       "       [ 21,  94, 108,  59],\n",
       "       [ 18,  62,  74,  32],\n",
       "       [ 12,  58,  66,  38]], dtype=int32)"
      ]
     },
     "execution_count": 26,
     "metadata": {},
     "output_type": "execute_result"
    }
   ],
   "source": [
    "a9=np.linalg.matmul(a8,a5)\n",
    "a9"
   ]
  },
  {
   "cell_type": "code",
   "execution_count": null,
   "id": "1e4c024c",
   "metadata": {},
   "outputs": [
    {
     "data": {
      "text/plain": [
       "array([54, 40], dtype=int32)"
      ]
     },
     "execution_count": 27,
     "metadata": {},
     "output_type": "execute_result"
    }
   ],
   "source": [
    "np.linalg.matmul(a5,a6)     #works similar to matmul"
   ]
  },
  {
   "cell_type": "code",
   "execution_count": null,
   "id": "19e24875",
   "metadata": {},
   "outputs": [
    {
     "data": {
      "text/plain": [
       "(array([[3, 7, 9, 2],\n",
       "        [0, 5, 5, 5]], dtype=int32),\n",
       " array([[2, 6, 6, 0],\n",
       "        [7, 4, 6, 7]], dtype=int32))"
      ]
     },
     "execution_count": 28,
     "metadata": {},
     "output_type": "execute_result"
    }
   ],
   "source": [
    "a5,a4"
   ]
  },
  {
   "cell_type": "code",
   "execution_count": null,
   "id": "53da6f9e",
   "metadata": {},
   "outputs": [
    {
     "data": {
      "text/plain": [
       "((4, 2), (2, 4))"
      ]
     },
     "execution_count": 29,
     "metadata": {},
     "output_type": "execute_result"
    }
   ],
   "source": [
    "a8.shape,a5.shape"
   ]
  },
  {
   "cell_type": "code",
   "execution_count": null,
   "id": "38b8a5f5",
   "metadata": {},
   "outputs": [],
   "source": [
    "a10=np.random.randint(10,size=(4,4))"
   ]
  },
  {
   "cell_type": "code",
   "execution_count": null,
   "id": "00e11374",
   "metadata": {},
   "outputs": [
    {
     "data": {
      "text/plain": [
       "array([[100,  90],\n",
       "       [ 36,  10],\n",
       "       [ 71,  60],\n",
       "       [ 77,  45]], dtype=int32)"
      ]
     },
     "execution_count": 31,
     "metadata": {},
     "output_type": "execute_result"
    }
   ],
   "source": [
    "np.matvec(a5,a10)"
   ]
  },
  {
   "cell_type": "code",
   "execution_count": null,
   "id": "890d4997",
   "metadata": {},
   "outputs": [
    {
     "data": {
      "text/plain": [
       "array([[85, 62, 56, 76],\n",
       "       [80, 55, 25, 35]], dtype=int32)"
      ]
     },
     "execution_count": 32,
     "metadata": {},
     "output_type": "execute_result"
    }
   ],
   "source": [
    "np.matmul(a5,a10)        #number of columns should be same"
   ]
  },
  {
   "cell_type": "code",
   "execution_count": null,
   "id": "d9fa0188",
   "metadata": {},
   "outputs": [
    {
     "data": {
      "text/plain": [
       "array([[2, 7],\n",
       "       [6, 4],\n",
       "       [6, 6],\n",
       "       [0, 7]], dtype=int32)"
      ]
     },
     "execution_count": 33,
     "metadata": {},
     "output_type": "execute_result"
    }
   ],
   "source": [
    "np.transpose(a4)"
   ]
  },
  {
   "cell_type": "code",
   "execution_count": null,
   "id": "ddbe0812",
   "metadata": {},
   "outputs": [
    {
     "data": {
      "text/plain": [
       "np.float64(378.0000000000001)"
      ]
     },
     "execution_count": 49,
     "metadata": {},
     "output_type": "execute_result"
    }
   ],
   "source": [
    "np.linalg.det(a10)      #determinant of the matrix"
   ]
  },
  {
   "cell_type": "code",
   "execution_count": null,
   "id": "ee61c627",
   "metadata": {},
   "outputs": [
    {
     "data": {
      "text/plain": [
       "array([[ 0.14285714,  0.07936508, -0.29100529,  0.08465608],\n",
       "       [-0.28571429, -0.04761905,  0.50793651,  0.01587302],\n",
       "       [-0.42857143,  0.26190476,  0.87301587, -0.25396825],\n",
       "       [ 0.42857143, -0.15079365, -0.61375661,  0.10582011]])"
      ]
     },
     "execution_count": 35,
     "metadata": {},
     "output_type": "execute_result"
    }
   ],
   "source": [
    "np.linalg.inv(a10)      #returns the invers of the matrix"
   ]
  },
  {
   "cell_type": "code",
   "execution_count": null,
   "id": "e0f82c6d",
   "metadata": {},
   "outputs": [
    {
     "data": {
      "text/plain": [
       "array([[-0.10061832,  0.0831928 , -0.04384486,  0.11129848],\n",
       "       [ 0.0831928 , -0.10230467,  0.08094435,  0.02529511],\n",
       "       [-0.04384486,  0.08094435,  0.25463744, -0.1079258 ],\n",
       "       [ 0.11129848,  0.02529511, -0.1079258 , -0.03372681]])"
      ]
     },
     "execution_count": 36,
     "metadata": {},
     "output_type": "execute_result"
    }
   ],
   "source": [
    "np.linalg.pinv(a10,hermitian=True) #calculates the (Moore-Penrose) pseudo inverse of the matrix"
   ]
  },
  {
   "cell_type": "code",
   "execution_count": null,
   "id": "5da4ec50",
   "metadata": {},
   "outputs": [],
   "source": []
  },
  {
   "cell_type": "markdown",
   "id": "4bdda969",
   "metadata": {},
   "source": [
    "x0 + 2 * x1 = 1 and 3 * x0 + 5 * x1 = 2:"
   ]
  },
  {
   "cell_type": "code",
   "execution_count": null,
   "id": "66e25644",
   "metadata": {},
   "outputs": [
    {
     "data": {
      "text/plain": [
       "((2, 3), (2, 2))"
      ]
     },
     "execution_count": 37,
     "metadata": {},
     "output_type": "execute_result"
    }
   ],
   "source": [
    "a2.shape,a1.shape"
   ]
  },
  {
   "cell_type": "code",
   "execution_count": null,
   "id": "2bc22302",
   "metadata": {},
   "outputs": [
    {
     "data": {
      "text/plain": [
       "(array([[3, 9],\n",
       "        [0, 0]], dtype=int32),\n",
       " array([[1, 1, 9],\n",
       "        [2, 2, 7]], dtype=int32))"
      ]
     },
     "execution_count": 10,
     "metadata": {},
     "output_type": "execute_result"
    }
   ],
   "source": [
    "a1,a2"
   ]
  },
  {
   "cell_type": "code",
   "execution_count": null,
   "id": "6d8b6835",
   "metadata": {},
   "outputs": [
    {
     "data": {
      "text/plain": [
       "(array([[72,  4],\n",
       "        [ 4, 70]], dtype=int32),\n",
       " array([4, 1], dtype=int32))"
      ]
     },
     "execution_count": 18,
     "metadata": {},
     "output_type": "execute_result"
    }
   ],
   "source": [
    "a11=np.random.randint(100,size=(2,2))\n",
    "a12=np.random.randint(10,size=(2,))\n",
    "a11,a12"
   ]
  },
  {
   "cell_type": "code",
   "execution_count": null,
   "id": "10697589",
   "metadata": {},
   "outputs": [
    {
     "data": {
      "text/plain": [
       "array([0.05493631, 0.0111465 ])"
      ]
     },
     "execution_count": 19,
     "metadata": {},
     "output_type": "execute_result"
    }
   ],
   "source": [
    "np.linalg.solve(a11,a12)      #solve the system of linear equation"
   ]
  },
  {
   "cell_type": "code",
   "execution_count": null,
   "id": "a32a00fb",
   "metadata": {},
   "outputs": [
    {
     "data": {
      "text/plain": [
       "(array([0.05493631, 0.0111465 ]),\n",
       " array([], dtype=float64),\n",
       " np.int32(2),\n",
       " array([75.12310563, 66.87689437]))"
      ]
     },
     "execution_count": 28,
     "metadata": {},
     "output_type": "execute_result"
    }
   ],
   "source": [
    "np.linalg.lstsq(a11,a12)      #returns the least squared solution of the system of linear algebra\n",
    "\n",
    "#output 1 -> array of least squared solutions\n",
    "#output 2 -> Sums of squared residuals: \n",
    "#output 3 -> Rank of matrix\n",
    "#output 4 -> singular value of matrix a"
   ]
  },
  {
   "cell_type": "code",
   "execution_count": null,
   "id": "6a3e7399",
   "metadata": {},
   "outputs": [
    {
     "data": {
      "text/plain": [
       "(array([[ 0.        ,  0.        ,  0.        ,  0.        ],\n",
       "        [-0.07142857,  0.01428571,  0.06428571,  0.15      ],\n",
       "        [-0.14285714,  0.02857143,  0.12857143,  0.3       ],\n",
       "        [-0.21428571,  0.04285714,  0.19285714,  0.45      ]]),\n",
       " array([], dtype=float64),\n",
       " np.int32(1),\n",
       " array([3.74165739]))"
      ]
     },
     "execution_count": 40,
     "metadata": {},
     "output_type": "execute_result"
    }
   ],
   "source": [
    "x = np.array([[0, 1, 2, 3]])\n",
    "y = np.array([[-1, 0.2, 0.9, 2.1]])\n",
    "np.linalg.lstsq(x,y)"
   ]
  },
  {
   "cell_type": "code",
   "execution_count": null,
   "id": "2370d81f",
   "metadata": {},
   "outputs": [],
   "source": [
    "r1=([[1,2,1],[-2,-3,1],[3,5,0]])"
   ]
  },
  {
   "cell_type": "code",
   "execution_count": null,
   "id": "c414ed9a",
   "metadata": {},
   "outputs": [
    {
     "data": {
      "text/plain": [
       "np.int64(2)"
      ]
     },
     "execution_count": 27,
     "metadata": {},
     "output_type": "execute_result"
    }
   ],
   "source": [
    "np.linalg.matrix_rank(r1)       #returns the rank of the matrix\n",
    "#rank is the number of rows or columns that are linearly independenx1t"
   ]
  },
  {
   "cell_type": "markdown",
   "id": "ee71541e",
   "metadata": {},
   "source": [
    "# Questions"
   ]
  },
  {
   "cell_type": "code",
   "execution_count": 13,
   "id": "40390109",
   "metadata": {},
   "outputs": [
    {
     "data": {
      "text/plain": [
       "array([[ 7, 13, 37, 44,  6, 47,  5],\n",
       "       [ 6, 18, 35, 44, 11, 11,  9],\n",
       "       [44, 33, 17, 19,  1, 40,  8],\n",
       "       [ 7, 39, 48,  6, 47, 11,  8],\n",
       "       [29,  7, 16, 32, 16, 40,  5],\n",
       "       [31, 20, 11, 42, 25, 43, 20],\n",
       "       [33, 10, 35, 26, 17, 23, 48]], dtype=int32)"
      ]
     },
     "execution_count": 13,
     "metadata": {},
     "output_type": "execute_result"
    }
   ],
   "source": [
    "a13=np.random.randint(1,49,size=(7,7))\n",
    "a13"
   ]
  },
  {
   "cell_type": "code",
   "execution_count": 14,
   "id": "3983b3c4",
   "metadata": {},
   "outputs": [
    {
     "data": {
      "text/plain": [
       "array([ 7, 18, 17,  6, 16, 43, 48], dtype=int32)"
      ]
     },
     "execution_count": 14,
     "metadata": {},
     "output_type": "execute_result"
    }
   ],
   "source": [
    "np.diag(a13)"
   ]
  },
  {
   "cell_type": "code",
   "execution_count": 19,
   "id": "460354ef",
   "metadata": {},
   "outputs": [],
   "source": [
    "for i in range(len(a13)):\n",
    "    a13[i,i]=-999"
   ]
  },
  {
   "cell_type": "code",
   "execution_count": 20,
   "id": "bf1c32cb",
   "metadata": {},
   "outputs": [
    {
     "data": {
      "text/plain": [
       "array([[-999,   13,   37,   44,    6,   47,    5],\n",
       "       [   6, -999,   35,   44,   11,   11,    9],\n",
       "       [  44,   33, -999,   19,    1,   40,    8],\n",
       "       [   7,   39,   48, -999,   47,   11,    8],\n",
       "       [  29,    7,   16,   32, -999,   40,    5],\n",
       "       [  31,   20,   11,   42,   25, -999,   20],\n",
       "       [  33,   10,   35,   26,   17,   23, -999]], dtype=int32)"
      ]
     },
     "execution_count": 20,
     "metadata": {},
     "output_type": "execute_result"
    }
   ],
   "source": [
    "a13"
   ]
  },
  {
   "cell_type": "code",
   "execution_count": 23,
   "id": "9d653f5c",
   "metadata": {},
   "outputs": [
    {
     "data": {
      "text/plain": [
       "array([[-999,   13,   37,   44,    6,   47,    5],\n",
       "       [   6, -999,   35,   44,   11,   11,    9],\n",
       "       [  44,   33, -999,   19,    1,   40,    8],\n",
       "       [   7,   39,   48, -999,   47,   11,    8],\n",
       "       [  29,    7,   16,   32, -999,   40,    5],\n",
       "       [  31,   20,   11,   42,   25, -999,   20],\n",
       "       [  33,   10,   35,   26,   17,   23, -999]], dtype=int32)"
      ]
     },
     "execution_count": 23,
     "metadata": {},
     "output_type": "execute_result"
    }
   ],
   "source": [
    "np.where(a13==np.diag(a13),-999,a13)"
   ]
  },
  {
   "cell_type": "markdown",
   "id": "de5f614d",
   "metadata": {},
   "source": [
    "Conditional Replacement with np.where Generate a 1D array of 50 random integers between 10 and 90. Replace all values > 60 with 1 and ≤ 60 with 0 using np.where."
   ]
  },
  {
   "cell_type": "code",
   "execution_count": 42,
   "id": "c1eba2a9",
   "metadata": {},
   "outputs": [
    {
     "data": {
      "text/plain": [
       "array([46, 83, 83, 36, 84, 69, 64, 51, 39, 76, 29, 50, 66, 47, 28, 77, 36,\n",
       "       56, 71, 21, 32, 57, 21, 36, 88, 27, 69, 44, 80, 84, 86, 15, 58, 44,\n",
       "       16, 64, 81, 17, 84, 22, 28, 57, 76, 70, 75, 69, 58, 23, 75, 49],\n",
       "      dtype=int32)"
      ]
     },
     "execution_count": 42,
     "metadata": {},
     "output_type": "execute_result"
    }
   ],
   "source": [
    "a14=np.random.randint(10,91,size=(50,))\n",
    "a14"
   ]
  },
  {
   "cell_type": "code",
   "execution_count": 52,
   "id": "b71937bc",
   "metadata": {},
   "outputs": [
    {
     "data": {
      "text/plain": [
       "array([ 0, 83, 83,  0, 84, 69, 64,  0,  0, 76,  0,  0, 66,  0,  0, 77,  0,\n",
       "        0, 71,  0,  0,  0,  0,  0, 88,  0, 69,  0, 80, 84, 86,  0,  0,  0,\n",
       "        0, 64, 81,  0, 84,  0,  0,  0, 76, 70, 75, 69,  0,  0, 75,  0],\n",
       "      dtype=int32)"
      ]
     },
     "execution_count": 52,
     "metadata": {},
     "output_type": "execute_result"
    }
   ],
   "source": [
    "a14a=np.where(a14<=60,0,a14)\n",
    "a14a"
   ]
  },
  {
   "cell_type": "code",
   "execution_count": 53,
   "id": "4ab5da80",
   "metadata": {},
   "outputs": [
    {
     "data": {
      "text/plain": [
       "array([0, 1, 1, 0, 1, 1, 1, 0, 0, 1, 0, 0, 1, 0, 0, 1, 0, 0, 1, 0, 0, 0,\n",
       "       0, 0, 1, 0, 1, 0, 1, 1, 1, 0, 0, 0, 0, 1, 1, 0, 1, 0, 0, 0, 1, 1,\n",
       "       1, 1, 0, 0, 1, 0], dtype=int32)"
      ]
     },
     "execution_count": 53,
     "metadata": {},
     "output_type": "execute_result"
    }
   ],
   "source": [
    "np.where(a14a>60,1,a14a)"
   ]
  },
  {
   "cell_type": "code",
   "execution_count": null,
   "id": "1c215562",
   "metadata": {},
   "outputs": [
    {
     "data": {
      "text/plain": [
       "array([0, 1, 1, 0, 1, 1, 1, 0, 0, 1, 0, 0, 1, 0, 0, 1, 0, 0, 1, 0, 0, 0,\n",
       "       0, 0, 1, 0, 1, 0, 1, 1, 1, 0, 0, 0, 0, 1, 1, 0, 1, 0, 0, 0, 1, 1,\n",
       "       1, 1, 0, 0, 1, 0])"
      ]
     },
     "execution_count": 50,
     "metadata": {},
     "output_type": "execute_result"
    }
   ],
   "source": [
    "np.where(a14>60,1,0)"
   ]
  },
  {
   "cell_type": "code",
   "execution_count": 56,
   "id": "45bd444f",
   "metadata": {},
   "outputs": [
    {
     "data": {
      "text/plain": [
       "array([ 0,  2,  2,  0,  2, 69, 64,  0,  0,  2,  0,  0, 66,  0,  0,  2,  0,\n",
       "        0,  2,  0,  0,  0,  0,  0,  2,  0, 69,  0,  2,  2,  2,  0,  0,  0,\n",
       "        0, 64,  2,  0,  2,  0,  0,  0,  2, 70,  2, 69,  0,  0,  2,  0],\n",
       "      dtype=int32)"
      ]
     },
     "execution_count": 56,
     "metadata": {},
     "output_type": "execute_result"
    }
   ],
   "source": [
    "np.where(a14<60,0,np.where(a14>70,2,a14))"
   ]
  },
  {
   "cell_type": "code",
   "execution_count": 59,
   "id": "bf5bcd5e",
   "metadata": {},
   "outputs": [
    {
     "data": {
      "text/plain": [
       "array([ 7, 16, 12,  1, 16,  0,  5,  0,  8,  7,  8, 11, 18, 16,  0,  4,  5,\n",
       "       13,  8, 17,  3], dtype=int32)"
      ]
     },
     "execution_count": 59,
     "metadata": {},
     "output_type": "execute_result"
    }
   ],
   "source": [
    "a15=np.random.randint(21,size=[21,])\n",
    "a15"
   ]
  },
  {
   "cell_type": "code",
   "execution_count": null,
   "id": "d416c1fc",
   "metadata": {},
   "outputs": [
    {
     "data": {
      "text/plain": [
       "array([  7,  23,  35,  36,  52,  52,  57,  57,  65,  72,  80,  91, 109,\n",
       "       125, 125, 129, 134, 147, 155, 172, 175])"
      ]
     },
     "execution_count": 60,
     "metadata": {},
     "output_type": "execute_result"
    }
   ],
   "source": [
    "np.cumsum(a15)  #returns the cummulative sum like accumulate"
   ]
  },
  {
   "cell_type": "code",
   "execution_count": null,
   "id": "cd02df1d",
   "metadata": {},
   "outputs": [
    {
     "data": {
      "text/plain": [
       "array([    7,   112,  1344,  1344, 21504,     0,     0,     0,     0,\n",
       "           0,     0,     0,     0,     0,     0,     0,     0,     0,\n",
       "           0,     0,     0])"
      ]
     },
     "execution_count": 61,
     "metadata": {},
     "output_type": "execute_result"
    }
   ],
   "source": [
    "np.cumprod(a15) #returns the cummulative product like accumulate"
   ]
  },
  {
   "cell_type": "markdown",
   "id": "43bd0f1f",
   "metadata": {},
   "source": [
    "Array Tiling and Repetition Create a 1D array [1, 2, 3]. Repeat each element 3 times using np.repeat() and then tile the entire array 2 times using np.tile()."
   ]
  },
  {
   "cell_type": "code",
   "execution_count": 66,
   "id": "30a96d73",
   "metadata": {},
   "outputs": [
    {
     "data": {
      "text/plain": [
       "array([1, 1, 1, 2, 2, 2, 3, 3, 3, 1, 1, 1, 2, 2, 2, 3, 3, 3])"
      ]
     },
     "execution_count": 66,
     "metadata": {},
     "output_type": "execute_result"
    }
   ],
   "source": [
    "a16=np.array([1,2,3])\n",
    "a16r=np.repeat(a16,3)   #repeates each element n times\n",
    "np.tile(a16r,2)"
   ]
  },
  {
   "cell_type": "markdown",
   "id": "80576789",
   "metadata": {},
   "source": [
    "Set Operations Given two 1D arrays a = [1, 2, 3, 4] and b = [3, 4, 5, 6], find their union, intersection, and set difference (a - b)."
   ]
  },
  {
   "cell_type": "code",
   "execution_count": 68,
   "id": "0b654028",
   "metadata": {},
   "outputs": [
    {
     "data": {
      "text/plain": [
       "(array([1, 2, 3, 4]), array([3, 4, 5, 6]))"
      ]
     },
     "execution_count": 68,
     "metadata": {},
     "output_type": "execute_result"
    }
   ],
   "source": [
    "a17=np.array([1,2,3,4])\n",
    "a18=np.array([3,4,5,6])\n",
    "a17,a18"
   ]
  },
  {
   "cell_type": "code",
   "execution_count": 74,
   "id": "13464277",
   "metadata": {},
   "outputs": [],
   "source": [
    "sa17,sa18=set(a17),set(a18)"
   ]
  },
  {
   "cell_type": "code",
   "execution_count": 80,
   "id": "6600293e",
   "metadata": {},
   "outputs": [
    {
     "data": {
      "text/plain": [
       "{np.int64(1), np.int64(2), np.int64(3), np.int64(4), np.int64(5), np.int64(6)}"
      ]
     },
     "execution_count": 80,
     "metadata": {},
     "output_type": "execute_result"
    }
   ],
   "source": [
    "u1718=sa17.union(sa18)\n",
    "u1718"
   ]
  },
  {
   "cell_type": "code",
   "execution_count": 81,
   "id": "96778b12",
   "metadata": {},
   "outputs": [
    {
     "data": {
      "text/plain": [
       "{np.int64(3), np.int64(4)}"
      ]
     },
     "execution_count": 81,
     "metadata": {},
     "output_type": "execute_result"
    }
   ],
   "source": [
    "sa17.intersection(sa18)"
   ]
  },
  {
   "cell_type": "code",
   "execution_count": 84,
   "id": "05edee62",
   "metadata": {},
   "outputs": [
    {
     "data": {
      "text/plain": [
       "{np.int64(5), np.int64(6)}"
      ]
     },
     "execution_count": 84,
     "metadata": {},
     "output_type": "execute_result"
    }
   ],
   "source": [
    "sa18 - sa17"
   ]
  },
  {
   "cell_type": "code",
   "execution_count": null,
   "id": "dcd608da",
   "metadata": {},
   "outputs": [],
   "source": []
  }
 ],
 "metadata": {
  "kernelspec": {
   "display_name": "Python 3",
   "language": "python",
   "name": "python3"
  },
  "language_info": {
   "codemirror_mode": {
    "name": "ipython",
    "version": 3
   },
   "file_extension": ".py",
   "mimetype": "text/x-python",
   "name": "python",
   "nbconvert_exporter": "python",
   "pygments_lexer": "ipython3",
   "version": "3.11.0"
  }
 },
 "nbformat": 4,
 "nbformat_minor": 5
}
