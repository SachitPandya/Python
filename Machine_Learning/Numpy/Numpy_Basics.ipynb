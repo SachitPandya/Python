{
 "cells": [
  {
   "cell_type": "code",
   "execution_count": 1,
   "id": "4cfe4b0b",
   "metadata": {},
   "outputs": [],
   "source": [
    "import numpy as np\n",
    "import pandas as pd\n",
    "import time"
   ]
  },
  {
   "cell_type": "code",
   "execution_count": 2,
   "id": "9c821f1f",
   "metadata": {},
   "outputs": [
    {
     "data": {
      "text/plain": [
       "'2.3.1'"
      ]
     },
     "execution_count": 2,
     "metadata": {},
     "output_type": "execute_result"
    }
   ],
   "source": [
    "np.__version__"
   ]
  },
  {
   "cell_type": "code",
   "execution_count": 3,
   "id": "81172fd0",
   "metadata": {},
   "outputs": [
    {
     "name": "stdout",
     "output_type": "stream",
     "text": [
      "0D-> [1]\n",
      "1D -> [1 2 3 4]\n",
      "2D -> [[1 2 3 4]\n",
      " [5 6 7 8]]\n",
      "3D -> [[[1 2 3 4]\n",
      "  [5 6 7 8]\n",
      "  [9 0 1 2]]]\n"
     ]
    }
   ],
   "source": [
    "a0=np.array([1])\n",
    "print(\"0D->\",a0)                  #creates a 0D array\n",
    "a1=np.array([1,2,3,4])\n",
    "print(\"1D ->\",a1)                 #creates a 1D array\n",
    "a2=np.array([[1,2,3,4],[5,6,7,8]])\n",
    "print(\"2D ->\",a2)                 #creates a 2D array\n",
    "a3=np.array([[[1,2,3,4],[5,6,7,8],[9,0,1,2]]])\n",
    "print(\"3D ->\",a3)                 #creates a 3D array"
   ]
  },
  {
   "cell_type": "code",
   "execution_count": 4,
   "id": "11870f95",
   "metadata": {},
   "outputs": [
    {
     "data": {
      "text/plain": [
       "3"
      ]
     },
     "execution_count": 4,
     "metadata": {},
     "output_type": "execute_result"
    }
   ],
   "source": [
    "a3.ndim"
   ]
  },
  {
   "cell_type": "code",
   "execution_count": 5,
   "id": "70dbc349",
   "metadata": {},
   "outputs": [
    {
     "name": "stdout",
     "output_type": "stream",
     "text": [
      "[[[1 2 3 4]\n",
      "  [5 6 7 8]]\n",
      "\n",
      " [[9 0 1 2]\n",
      "  [3 4 5 6]]] 3\n"
     ]
    }
   ],
   "source": [
    "a4=np.array([[[1,2,3,4],[5,6,7,8]],[[9,0,1,2],[3,4,5,6]]])          #another way to create a 3d array\n",
    "print(a4,a4.ndim)"
   ]
  },
  {
   "cell_type": "code",
   "execution_count": 6,
   "id": "75a9bb2f",
   "metadata": {},
   "outputs": [
    {
     "data": {
      "text/plain": [
       "(2, 2, 4)"
      ]
     },
     "execution_count": 6,
     "metadata": {},
     "output_type": "execute_result"
    }
   ],
   "source": [
    "a4.shape"
   ]
  },
  {
   "cell_type": "code",
   "execution_count": 7,
   "id": "8128e4fb",
   "metadata": {},
   "outputs": [
    {
     "data": {
      "text/html": [
       "<div>\n",
       "<style scoped>\n",
       "    .dataframe tbody tr th:only-of-type {\n",
       "        vertical-align: middle;\n",
       "    }\n",
       "\n",
       "    .dataframe tbody tr th {\n",
       "        vertical-align: top;\n",
       "    }\n",
       "\n",
       "    .dataframe thead th {\n",
       "        text-align: right;\n",
       "    }\n",
       "</style>\n",
       "<table border=\"1\" class=\"dataframe\">\n",
       "  <thead>\n",
       "    <tr style=\"text-align: right;\">\n",
       "      <th></th>\n",
       "      <th>0</th>\n",
       "      <th>1</th>\n",
       "      <th>2</th>\n",
       "      <th>3</th>\n",
       "    </tr>\n",
       "  </thead>\n",
       "  <tbody>\n",
       "    <tr>\n",
       "      <th>0</th>\n",
       "      <td>1</td>\n",
       "      <td>2</td>\n",
       "      <td>3</td>\n",
       "      <td>4</td>\n",
       "    </tr>\n",
       "    <tr>\n",
       "      <th>1</th>\n",
       "      <td>5</td>\n",
       "      <td>6</td>\n",
       "      <td>7</td>\n",
       "      <td>8</td>\n",
       "    </tr>\n",
       "  </tbody>\n",
       "</table>\n",
       "</div>"
      ],
      "text/plain": [
       "   0  1  2  3\n",
       "0  1  2  3  4\n",
       "1  5  6  7  8"
      ]
     },
     "execution_count": 7,
     "metadata": {},
     "output_type": "execute_result"
    }
   ],
   "source": [
    "pa1=pd.DataFrame(a2)        #converting an 2d array into df\n",
    "pa1"
   ]
  },
  {
   "cell_type": "code",
   "execution_count": 8,
   "id": "5b3b87e3",
   "metadata": {},
   "outputs": [
    {
     "data": {
      "text/plain": [
       "array([[0., 0., 0.],\n",
       "       [0., 0., 0.]])"
      ]
     },
     "execution_count": 8,
     "metadata": {},
     "output_type": "execute_result"
    }
   ],
   "source": [
    "z1=np.zeros((2,3))      #creates a zero matrix  \n",
    "z1      #return type of individual values is float"
   ]
  },
  {
   "cell_type": "code",
   "execution_count": 9,
   "id": "d54e6e22",
   "metadata": {},
   "outputs": [
    {
     "data": {
      "text/plain": [
       "array([[1., 1., 1.],\n",
       "       [1., 1., 1.]])"
      ]
     },
     "execution_count": 9,
     "metadata": {},
     "output_type": "execute_result"
    }
   ],
   "source": [
    "o1=np.ones((2,3))       #creates a one matrix\n",
    "o1                      #return type of individual values is float"
   ]
  },
  {
   "cell_type": "code",
   "execution_count": 10,
   "id": "49de8ea6",
   "metadata": {},
   "outputs": [
    {
     "data": {
      "text/plain": [
       "array([ 1.,  3.,  5.,  7.,  9., 11., 13., 15., 17., 19.])"
      ]
     },
     "execution_count": 10,
     "metadata": {},
     "output_type": "execute_result"
    }
   ],
   "source": [
    "ar1=np.arange(1,20,2,'float')       #creates 1D array of elements in the given range \n",
    "# arg1-> lower limit , arg2-> upper limit\n",
    "# arg3-> step , arg4-> datatype of return values\n",
    "ar1"
   ]
  },
  {
   "cell_type": "code",
   "execution_count": 11,
   "id": "fc2d5e10",
   "metadata": {},
   "outputs": [
    {
     "data": {
      "text/plain": [
       "array([[1, 1, 1],\n",
       "       [1, 1, 1]])"
      ]
     },
     "execution_count": 11,
     "metadata": {},
     "output_type": "execute_result"
    }
   ],
   "source": [
    "o1.astype('int')        #with this we can change the datatype of these arrays"
   ]
  },
  {
   "cell_type": "code",
   "execution_count": 12,
   "id": "a9fddb8a",
   "metadata": {},
   "outputs": [
    {
     "data": {
      "text/plain": [
       "array([[7, 6, 2, 3, 0],\n",
       "       [3, 2, 1, 9, 9],\n",
       "       [0, 3, 3, 2, 4],\n",
       "       [0, 9, 0, 2, 7]], dtype=int32)"
      ]
     },
     "execution_count": 12,
     "metadata": {},
     "output_type": "execute_result"
    }
   ],
   "source": [
    "ar1=np.random.randint(10,size=(4,5))    #random array of int\n",
    "ar1"
   ]
  },
  {
   "cell_type": "code",
   "execution_count": 13,
   "id": "50550b85",
   "metadata": {},
   "outputs": [
    {
     "data": {
      "text/plain": [
       "array([[[0.11155142, 0.30336478, 0.07924667, 0.72444833, 0.58985914],\n",
       "        [0.9532648 , 0.44078963, 0.70101783, 0.27660679, 0.41657521],\n",
       "        [0.13761345, 0.13370019, 0.10732094, 0.32387325, 0.23238369],\n",
       "        [0.42644327, 0.47125256, 0.2698113 , 0.29212755, 0.29486469]],\n",
       "\n",
       "       [[0.84517085, 0.51758322, 0.42873228, 0.00563863, 0.96619494],\n",
       "        [0.64974466, 0.21532483, 0.47139781, 0.69694134, 0.88327739],\n",
       "        [0.27086694, 0.32791744, 0.67667768, 0.59932751, 0.82355032],\n",
       "        [0.76139018, 0.87476572, 0.05454062, 0.09910366, 0.45197582]]])"
      ]
     },
     "execution_count": 13,
     "metadata": {},
     "output_type": "execute_result"
    }
   ],
   "source": [
    "ar2=np.random.random((2,4,5))     #create a random array of values b/w [0,1]\n",
    "ar2"
   ]
  },
  {
   "cell_type": "code",
   "execution_count": 14,
   "id": "c4d2ffd1",
   "metadata": {},
   "outputs": [
    {
     "data": {
      "text/plain": [
       "array([[0.73667446, 0.76027558, 0.77028558, 0.47596818, 0.25279699],\n",
       "       [0.69500826, 0.21872042, 0.71314684, 0.62321937, 0.3120063 ],\n",
       "       [0.41210261, 0.95605408, 0.35359303, 0.69818142, 0.74086902],\n",
       "       [0.93729483, 0.45556953, 0.31725096, 0.85379621, 0.37633558]])"
      ]
     },
     "execution_count": 14,
     "metadata": {},
     "output_type": "execute_result"
    }
   ],
   "source": [
    "ar3=np.random.rand(4,5)         #creates a random array of values 0-1\n",
    "ar3"
   ]
  },
  {
   "cell_type": "code",
   "execution_count": 15,
   "id": "a025a03c",
   "metadata": {},
   "outputs": [
    {
     "data": {
      "text/plain": [
       "array([ 0.77119782,  1.43470994, -1.98586118, -0.82653224,  1.44033439])"
      ]
     },
     "execution_count": 15,
     "metadata": {},
     "output_type": "execute_result"
    }
   ],
   "source": [
    "np.random.randn(5)      #creates an array of normal distrbution"
   ]
  },
  {
   "cell_type": "markdown",
   "id": "4815af22",
   "metadata": {},
   "source": [
    "seed()"
   ]
  },
  {
   "cell_type": "code",
   "execution_count": 16,
   "id": "4275a026",
   "metadata": {},
   "outputs": [
    {
     "data": {
      "text/plain": [
       "array([[44, 47, 64],\n",
       "       [67, 67,  9]], dtype=int32)"
      ]
     },
     "execution_count": 16,
     "metadata": {},
     "output_type": "execute_result"
    }
   ],
   "source": [
    "np.random.seed(0)\n",
    "sa0=np.random.randint(100,size=(2,3))\n",
    "sa0     "
   ]
  },
  {
   "cell_type": "code",
   "execution_count": 17,
   "id": "c7cb984b",
   "metadata": {},
   "outputs": [
    {
     "data": {
      "text/html": [
       "<div>\n",
       "<style scoped>\n",
       "    .dataframe tbody tr th:only-of-type {\n",
       "        vertical-align: middle;\n",
       "    }\n",
       "\n",
       "    .dataframe tbody tr th {\n",
       "        vertical-align: top;\n",
       "    }\n",
       "\n",
       "    .dataframe thead th {\n",
       "        text-align: right;\n",
       "    }\n",
       "</style>\n",
       "<table border=\"1\" class=\"dataframe\">\n",
       "  <thead>\n",
       "    <tr style=\"text-align: right;\">\n",
       "      <th></th>\n",
       "      <th>0</th>\n",
       "      <th>1</th>\n",
       "      <th>2</th>\n",
       "    </tr>\n",
       "  </thead>\n",
       "  <tbody>\n",
       "    <tr>\n",
       "      <th>0</th>\n",
       "      <td>168</td>\n",
       "      <td>527</td>\n",
       "      <td>493</td>\n",
       "    </tr>\n",
       "    <tr>\n",
       "      <th>1</th>\n",
       "      <td>584</td>\n",
       "      <td>534</td>\n",
       "      <td>299</td>\n",
       "    </tr>\n",
       "    <tr>\n",
       "      <th>2</th>\n",
       "      <td>466</td>\n",
       "      <td>75</td>\n",
       "      <td>360</td>\n",
       "    </tr>\n",
       "  </tbody>\n",
       "</table>\n",
       "</div>"
      ],
      "text/plain": [
       "     0    1    2\n",
       "0  168  527  493\n",
       "1  584  534  299\n",
       "2  466   75  360"
      ]
     },
     "execution_count": 17,
     "metadata": {},
     "output_type": "execute_result"
    }
   ],
   "source": [
    "np.random.seed(2)\n",
    "spa1=pd.DataFrame(np.random.randint(1000,size=(3,3)))\n",
    "spa1"
   ]
  },
  {
   "cell_type": "markdown",
   "id": "ed6daccf",
   "metadata": {},
   "source": [
    "Accessing values in np.array"
   ]
  },
  {
   "cell_type": "code",
   "execution_count": 18,
   "id": "a8b61c2f",
   "metadata": {},
   "outputs": [
    {
     "data": {
      "text/plain": [
       "np.int64(3)"
      ]
     },
     "execution_count": 18,
     "metadata": {},
     "output_type": "execute_result"
    }
   ],
   "source": [
    "a1[2]       #for 1D\n",
    "#returns the datatype and the value at that index"
   ]
  },
  {
   "cell_type": "code",
   "execution_count": 19,
   "id": "1e6ac3fc",
   "metadata": {},
   "outputs": [
    {
     "data": {
      "text/plain": [
       "array([5, 6, 7, 8])"
      ]
     },
     "execution_count": 19,
     "metadata": {},
     "output_type": "execute_result"
    }
   ],
   "source": [
    "a2[1,1]     #for a single value in 2D\n",
    "a2[1]       #for whole row "
   ]
  },
  {
   "cell_type": "code",
   "execution_count": 20,
   "id": "1afa77b7",
   "metadata": {},
   "outputs": [
    {
     "name": "stdout",
     "output_type": "stream",
     "text": [
      "4\n",
      "[3 4 5 6]\n",
      "[[9 0 1 2]\n",
      " [3 4 5 6]]\n"
     ]
    }
   ],
   "source": [
    "print(a4[1,1,1] )      #for single value in 3D\n",
    "print(a4[1,1])         #for single row in 3D\n",
    "print(a4[1])           #for a 2D matrix "
   ]
  },
  {
   "cell_type": "markdown",
   "id": "59abd777",
   "metadata": {},
   "source": [
    "Slicing"
   ]
  },
  {
   "cell_type": "code",
   "execution_count": 21,
   "id": "fe464510",
   "metadata": {},
   "outputs": [
    {
     "data": {
      "text/plain": [
       "array([2, 3, 4])"
      ]
     },
     "execution_count": 21,
     "metadata": {},
     "output_type": "execute_result"
    }
   ],
   "source": [
    "a1[1:]      #1D"
   ]
  },
  {
   "cell_type": "code",
   "execution_count": 22,
   "id": "290d3d10",
   "metadata": {},
   "outputs": [
    {
     "data": {
      "text/plain": [
       "array([[5, 6, 7, 8]])"
      ]
     },
     "execution_count": 22,
     "metadata": {},
     "output_type": "execute_result"
    }
   ],
   "source": [
    "a2[1:,2:]   #2d\n",
    "a2[1:]"
   ]
  },
  {
   "cell_type": "code",
   "execution_count": 23,
   "id": "70039943",
   "metadata": {},
   "outputs": [
    {
     "data": {
      "text/plain": [
       "array([[[0, 1, 2],\n",
       "        [4, 5, 6]]])"
      ]
     },
     "execution_count": 23,
     "metadata": {},
     "output_type": "execute_result"
    }
   ],
   "source": [
    "a4[1:]      #3d\n",
    "a4[1:,0:]\n",
    "a4[1:,0:,1:]"
   ]
  },
  {
   "cell_type": "code",
   "execution_count": 24,
   "id": "80679b50",
   "metadata": {},
   "outputs": [
    {
     "name": "stdout",
     "output_type": "stream",
     "text": [
      "[-93  62  77  -5 -25 -53 -37 -69  48  24]\n",
      "[ 77  -5 -25]\n",
      "[62 77 48 24]\n"
     ]
    }
   ],
   "source": [
    "arr1=np.random.randint(-100,100,size=(10,))\n",
    "print(arr1)\n",
    "\n",
    "ind=np.array([2,3,4])\n",
    "\n",
    "print(arr1[ind])        #we can access indices of array with the values of another array\n",
    "\n",
    "co=arr1>0\n",
    "print(arr1[co])     #we can filter values based on some condition"
   ]
  },
  {
   "cell_type": "code",
   "execution_count": 25,
   "id": "a07764b8",
   "metadata": {},
   "outputs": [
    {
     "data": {
      "text/plain": [
       "array([[9.09113361, 8.41512997, 7.49280585, 7.93398489, 8.59877116],\n",
       "       [6.29249043, 7.7310366 , 7.03653916, 5.88492312, 9.84816203],\n",
       "       [6.48509179, 6.43934408, 5.58096659, 5.90863519, 7.47144884],\n",
       "       [7.82882565, 6.10917584, 8.83745585, 7.88654034, 5.83911655]])"
      ]
     },
     "execution_count": 25,
     "metadata": {},
     "output_type": "execute_result"
    }
   ],
   "source": [
    "np.random.uniform(low=5,high=10,size=(4,5))"
   ]
  },
  {
   "cell_type": "markdown",
   "id": "40235fa9",
   "metadata": {},
   "source": [
    "For the same data which is faster np or pd"
   ]
  },
  {
   "cell_type": "code",
   "execution_count": 26,
   "id": "4b8742f5",
   "metadata": {},
   "outputs": [
    {
     "name": "stdout",
     "output_type": "stream",
     "text": [
      "numpy:  0.0 Pandas:  0.0011057853698730469\n",
      "numpy:  0.0 Pandas:  0.0\n",
      "numpy:  0.0 Pandas:  0.0\n",
      "numpy:  0.0 Pandas:  0.004084587097167969\n",
      "numpy:  0.0002887248992919922 Pandas:  0.0\n",
      "numpy:  0.0 Pandas:  0.0011126995086669922\n",
      "numpy:  0.0 Pandas:  0.00035834312438964844\n",
      "numpy:  0.0 Pandas:  0.0010738372802734375\n",
      "numpy:  0.0 Pandas:  0.0005104541778564453\n",
      "numpy:  0.0 Pandas:  0.0\n"
     ]
    }
   ],
   "source": [
    "for i in range(10):\n",
    "\n",
    "    t1=time.time()\n",
    "    np.mean(a2)\n",
    "    t2=time.time()\n",
    "    np_time= t2-t1\n",
    "\n",
    "    t1=time.time()\n",
    "    pa1.mean()\n",
    "    t2=time.time()\n",
    "    pd_time=t2-t1\n",
    "\n",
    "    print(\"numpy: \",np_time,\"Pandas: \",pd_time)"
   ]
  },
  {
   "cell_type": "markdown",
   "id": "326d984a",
   "metadata": {},
   "source": [
    "Arithmatic Operations"
   ]
  },
  {
   "cell_type": "code",
   "execution_count": 27,
   "id": "8ba27719",
   "metadata": {},
   "outputs": [
    {
     "name": "stdout",
     "output_type": "stream",
     "text": [
      "[1]\n",
      "\n",
      "[1 2 3 4]\n",
      "\n",
      "[[1 2 3 4]\n",
      " [5 6 7 8]]\n",
      "\n",
      "[[[1 2 3 4]\n",
      "  [5 6 7 8]\n",
      "  [9 0 1 2]]]\n",
      "\n",
      "[[[1 2 3 4]\n",
      "  [5 6 7 8]]\n",
      "\n",
      " [[9 0 1 2]\n",
      "  [3 4 5 6]]]\n"
     ]
    }
   ],
   "source": [
    "print(a0)\n",
    "print()\n",
    "print(a1)\n",
    "print()\n",
    "print(a2)\n",
    "print()\n",
    "print(a3)\n",
    "print()\n",
    "print(a4)"
   ]
  },
  {
   "cell_type": "code",
   "execution_count": 28,
   "id": "2be186f5",
   "metadata": {},
   "outputs": [],
   "source": [
    "ao1=np.random.randint(10,size=(5,))\n",
    "ao2=np.random.randint(100,size=(5,))"
   ]
  },
  {
   "cell_type": "code",
   "execution_count": 29,
   "id": "25e55e0e",
   "metadata": {},
   "outputs": [
    {
     "data": {
      "text/plain": [
       "16"
      ]
     },
     "execution_count": 29,
     "metadata": {},
     "output_type": "execute_result"
    }
   ],
   "source": [
    "a4.size"
   ]
  },
  {
   "cell_type": "code",
   "execution_count": 30,
   "id": "ef328d75",
   "metadata": {},
   "outputs": [
    {
     "data": {
      "text/plain": [
       "(2, 2, 4)"
      ]
     },
     "execution_count": 30,
     "metadata": {},
     "output_type": "execute_result"
    }
   ],
   "source": [
    "a4.shape"
   ]
  },
  {
   "cell_type": "code",
   "execution_count": 31,
   "id": "febcdcd5",
   "metadata": {},
   "outputs": [
    {
     "data": {
      "text/plain": [
       "3"
      ]
     },
     "execution_count": 31,
     "metadata": {},
     "output_type": "execute_result"
    }
   ],
   "source": [
    "a4.ndim"
   ]
  },
  {
   "cell_type": "code",
   "execution_count": 32,
   "id": "6ff96aaf",
   "metadata": {},
   "outputs": [
    {
     "data": {
      "text/plain": [
       "array([25, 24, 82, 65, 97], dtype=int32)"
      ]
     },
     "execution_count": 32,
     "metadata": {},
     "output_type": "execute_result"
    }
   ],
   "source": [
    "ao1+ao2     #for addition shape has to be same"
   ]
  },
  {
   "cell_type": "code",
   "execution_count": 33,
   "id": "7d2c4463",
   "metadata": {},
   "outputs": [
    {
     "data": {
      "text/plain": [
       "array([ 9, 20, 64, 49, 83], dtype=int32)"
      ]
     },
     "execution_count": 33,
     "metadata": {},
     "output_type": "execute_result"
    }
   ],
   "source": [
    "ao2-ao1     #for susbstraction shape has to be same"
   ]
  },
  {
   "cell_type": "code",
   "execution_count": 34,
   "id": "d021698c",
   "metadata": {},
   "outputs": [
    {
     "data": {
      "text/plain": [
       "array([[[ 1,  4,  9, 16],\n",
       "        [25, 36, 49, 64]],\n",
       "\n",
       "       [[ 9,  0,  3,  8],\n",
       "        [15, 24, 35, 48]]])"
      ]
     },
     "execution_count": 34,
     "metadata": {},
     "output_type": "execute_result"
    }
   ],
   "source": [
    "a4*a2       #for multiplication to happen\n",
    "#operand1[m*n] and operand2[y*z], then n==y\n"
   ]
  },
  {
   "cell_type": "code",
   "execution_count": 35,
   "id": "5a553eac",
   "metadata": {},
   "outputs": [
    {
     "data": {
      "text/plain": [
       "array([[[1.        , 1.        , 1.        , 1.        ],\n",
       "        [1.        , 1.        , 1.        , 1.        ]],\n",
       "\n",
       "       [[9.        , 0.        , 0.33333333, 0.5       ],\n",
       "        [0.6       , 0.66666667, 0.71428571, 0.75      ]]])"
      ]
     },
     "execution_count": 35,
     "metadata": {},
     "output_type": "execute_result"
    }
   ],
   "source": [
    "a4/a2      #for division to happen\n",
    "#operand1[m*n] and operand2[y*z], then n==y"
   ]
  },
  {
   "cell_type": "markdown",
   "id": "8691d1d2",
   "metadata": {},
   "source": [
    "### Broadcasting\n",
    "\n",
    "- What is broadcasting?\n",
    "    - Broadcasting is a feature of NumPy which performs an operation across multiple dimensions of data without replicating the data. This saves time and space. For example, if you have a 3x3 array (A) and want to add a 1x3 array (B), NumPy will add the row of (B) to every row of (A).\n",
    "    \n",
    "**The broadcasting rule:**\n",
    "In order to broadcast, the size of the trailing axes for both arrays in an operation must be either the same size or one of them must be one."
   ]
  },
  {
   "cell_type": "markdown",
   "id": "de92ac66",
   "metadata": {},
   "source": [
    "- Rules of Broadcasting\n",
    "    1. If the two arrays differ in their number of dimensions, the shape of the one with fewer dimensions is padded with ones on its leading (left) side.\n",
    "    \n",
    "    Example:\n",
    "    Array A: shape (3, 4)\n",
    "\n",
    "    Array B: shape (4,)  -> becomes (1, 4) for broadcasting comparison\n",
    "    "
   ]
  },
  {
   "cell_type": "markdown",
   "id": "f4bcebb3",
   "metadata": {},
   "source": [
    "2. If the shape of the two arrays does not match in any dimension, the array with shape equal to 1 in that dimension is stretched to match the other shape.\n",
    "\n",
    "\n",
    "    Example of compatible dimensions:\n",
    "     Array A: shape (5, 6)\n",
    "\n",
    "     Array B: shape (1, 6)  -> compatible (6 == 6, and 1 can be stretched to 5)\n",
    "\n",
    "     Example of incompatible dimensions:\n",
    "     Array A: shape (5, 6)\n",
    "     \n",
    "     Array B: shape (2, 6)  -> incompatible (5 != 2 and neither is 1)"
   ]
  },
  {
   "cell_type": "markdown",
   "id": "157a4d14",
   "metadata": {},
   "source": [
    "3. If in any dimension the sizes disagree and neither is equal to 1, an Valueerror is raised.\n"
   ]
  },
  {
   "cell_type": "code",
   "execution_count": 36,
   "id": "d32fbb59",
   "metadata": {},
   "outputs": [
    {
     "data": {
      "text/plain": [
       "array([[[1, 1, 1, 1],\n",
       "        [1, 1, 1, 1]],\n",
       "\n",
       "       [[9, 0, 0, 0],\n",
       "        [0, 0, 0, 0]]])"
      ]
     },
     "execution_count": 36,
     "metadata": {},
     "output_type": "execute_result"
    }
   ],
   "source": [
    "a4//a2      #floor division"
   ]
  },
  {
   "cell_type": "code",
   "execution_count": 37,
   "id": "d49bb3b3",
   "metadata": {},
   "outputs": [
    {
     "data": {
      "text/plain": [
       "(array([[3, 0, 0, 2],\n",
       "        [8, 8, 2, 9],\n",
       "        [6, 5, 6, 6],\n",
       "        [6, 3, 8, 2]], dtype=int32),\n",
       " array([[1, 4, 8, 1],\n",
       "        [6, 9, 5, 1],\n",
       "        [2, 4, 7, 6],\n",
       "        [4, 5, 8, 3]], dtype=int32))"
      ]
     },
     "execution_count": 37,
     "metadata": {},
     "output_type": "execute_result"
    }
   ],
   "source": [
    "ab=np.random.randint(10,size=(4,4))\n",
    "ab1=np.random.randint(10,size=(4,4))\n",
    "ab,ab1"
   ]
  },
  {
   "cell_type": "code",
   "execution_count": 38,
   "id": "d8c0bcd6",
   "metadata": {},
   "outputs": [
    {
     "data": {
      "text/plain": [
       "array([[ 4,  4,  8,  3],\n",
       "       [14, 17,  7, 10],\n",
       "       [ 8,  9, 13, 12],\n",
       "       [10,  8, 16,  5]], dtype=int32)"
      ]
     },
     "execution_count": 38,
     "metadata": {},
     "output_type": "execute_result"
    }
   ],
   "source": [
    "ab+ab1"
   ]
  },
  {
   "cell_type": "code",
   "execution_count": 39,
   "id": "a2141b7a",
   "metadata": {},
   "outputs": [
    {
     "data": {
      "text/plain": [
       "array([[[       1,        4,       27,      256],\n",
       "        [    3125,    46656,   823543, 16777216]],\n",
       "\n",
       "       [[       9,        0,        1,       16],\n",
       "        [     243,     4096,    78125,  1679616]]])"
      ]
     },
     "execution_count": 39,
     "metadata": {},
     "output_type": "execute_result"
    }
   ],
   "source": [
    "a4**a2  #power"
   ]
  },
  {
   "cell_type": "code",
   "execution_count": 40,
   "id": "4ea0c37e",
   "metadata": {},
   "outputs": [
    {
     "data": {
      "text/plain": [
       "array([[[ 1,  4,  9, 16],\n",
       "        [25, 36, 49, 64]],\n",
       "\n",
       "       [[81,  0,  1,  4],\n",
       "        [ 9, 16, 25, 36]]])"
      ]
     },
     "execution_count": 40,
     "metadata": {},
     "output_type": "execute_result"
    }
   ],
   "source": [
    "a4**2"
   ]
  },
  {
   "cell_type": "code",
   "execution_count": 41,
   "id": "ed132e20",
   "metadata": {},
   "outputs": [
    {
     "data": {
      "text/plain": [
       "array([ 1,  4,  9, 16])"
      ]
     },
     "execution_count": 41,
     "metadata": {},
     "output_type": "execute_result"
    }
   ],
   "source": [
    "np.square(a1)   #square "
   ]
  },
  {
   "cell_type": "code",
   "execution_count": 42,
   "id": "05ff07a6",
   "metadata": {},
   "outputs": [
    {
     "data": {
      "text/plain": [
       "array([[1.        , 1.41421356, 1.73205081, 2.        ],\n",
       "       [2.23606798, 2.44948974, 2.64575131, 2.82842712]])"
      ]
     },
     "execution_count": 42,
     "metadata": {},
     "output_type": "execute_result"
    }
   ],
   "source": [
    "np.sqrt(a2)     #sqrt"
   ]
  },
  {
   "cell_type": "code",
   "execution_count": 43,
   "id": "578b315f",
   "metadata": {},
   "outputs": [
    {
     "data": {
      "text/plain": [
       "array([[[1, 2, 3, 4],\n",
       "        [0, 1, 2, 3],\n",
       "        [4, 0, 1, 2]]])"
      ]
     },
     "execution_count": 43,
     "metadata": {},
     "output_type": "execute_result"
    }
   ],
   "source": [
    "a3%5"
   ]
  },
  {
   "cell_type": "code",
   "execution_count": 44,
   "id": "88abe8ee",
   "metadata": {},
   "outputs": [
    {
     "data": {
      "text/plain": [
       "np.int64(66)"
      ]
     },
     "execution_count": 44,
     "metadata": {},
     "output_type": "execute_result"
    }
   ],
   "source": [
    "np.sum(a4)"
   ]
  },
  {
   "cell_type": "code",
   "execution_count": 45,
   "id": "5d1a24fd",
   "metadata": {},
   "outputs": [
    {
     "data": {
      "text/plain": [
       "np.int32(77)"
      ]
     },
     "execution_count": 45,
     "metadata": {},
     "output_type": "execute_result"
    }
   ],
   "source": [
    "np.max(arr1)"
   ]
  },
  {
   "cell_type": "code",
   "execution_count": 46,
   "id": "249608d4",
   "metadata": {},
   "outputs": [
    {
     "data": {
      "text/plain": [
       "np.int32(-93)"
      ]
     },
     "execution_count": 46,
     "metadata": {},
     "output_type": "execute_result"
    }
   ],
   "source": [
    "np.min(arr1)"
   ]
  },
  {
   "cell_type": "code",
   "execution_count": 47,
   "id": "a7efab66",
   "metadata": {},
   "outputs": [
    {
     "data": {
      "text/plain": [
       "np.float64(2.54644359843292)"
      ]
     },
     "execution_count": 47,
     "metadata": {},
     "output_type": "execute_result"
    }
   ],
   "source": [
    "np.std(a4)      #standard deviation"
   ]
  },
  {
   "cell_type": "code",
   "execution_count": 48,
   "id": "e7c9cc81",
   "metadata": {},
   "outputs": [
    {
     "data": {
      "text/plain": [
       "np.float64(6.484375)"
      ]
     },
     "execution_count": 48,
     "metadata": {},
     "output_type": "execute_result"
    }
   ],
   "source": [
    "np.var(a4)      #variance"
   ]
  },
  {
   "cell_type": "code",
   "execution_count": 49,
   "id": "438877f2",
   "metadata": {},
   "outputs": [
    {
     "data": {
      "text/plain": [
       "np.float64(4.125)"
      ]
     },
     "execution_count": 49,
     "metadata": {},
     "output_type": "execute_result"
    }
   ],
   "source": [
    "np.mean(a4)"
   ]
  },
  {
   "cell_type": "code",
   "execution_count": 50,
   "id": "d52100ae",
   "metadata": {},
   "outputs": [
    {
     "data": {
      "text/plain": [
       "np.float64(4.0)"
      ]
     },
     "execution_count": 50,
     "metadata": {},
     "output_type": "execute_result"
    }
   ],
   "source": [
    "np.median(a4)"
   ]
  },
  {
   "cell_type": "markdown",
   "id": "74b80893",
   "metadata": {},
   "source": [
    "reshape() -> reshapes the array into desired dimensions if the convertion is possible "
   ]
  },
  {
   "cell_type": "code",
   "execution_count": 51,
   "id": "e8f30e2d",
   "metadata": {},
   "outputs": [],
   "source": [
    "ra4=a4.reshape(4,2,2)"
   ]
  },
  {
   "cell_type": "code",
   "execution_count": 52,
   "id": "3eb016ff",
   "metadata": {},
   "outputs": [
    {
     "data": {
      "text/plain": [
       "(4, 2, 2)"
      ]
     },
     "execution_count": 52,
     "metadata": {},
     "output_type": "execute_result"
    }
   ],
   "source": [
    "ra4.shape"
   ]
  },
  {
   "cell_type": "code",
   "execution_count": 53,
   "id": "7ca82e90",
   "metadata": {},
   "outputs": [
    {
     "data": {
      "text/plain": [
       "array([[[1, 2, 3],\n",
       "        [4, 5, 6]],\n",
       "\n",
       "       [[7, 8, 9],\n",
       "        [0, 1, 2]]])"
      ]
     },
     "execution_count": 53,
     "metadata": {},
     "output_type": "execute_result"
    }
   ],
   "source": [
    "ra3=a3.reshape(2,2,3)\n",
    "ra3"
   ]
  },
  {
   "cell_type": "code",
   "execution_count": 54,
   "id": "c976d9ed",
   "metadata": {},
   "outputs": [],
   "source": [
    "ra2=np.random.randint(10,size=(1,2,2))"
   ]
  },
  {
   "cell_type": "code",
   "execution_count": 55,
   "id": "a8aef229",
   "metadata": {},
   "outputs": [
    {
     "data": {
      "text/plain": [
       "(array([[[0, 0],\n",
       "         [5, 7]]], dtype=int32),\n",
       " array([[1, 2, 3, 4],\n",
       "        [5, 6, 7, 8]]))"
      ]
     },
     "execution_count": 55,
     "metadata": {},
     "output_type": "execute_result"
    }
   ],
   "source": [
    "ra2,a2"
   ]
  },
  {
   "cell_type": "code",
   "execution_count": 56,
   "id": "70fb5a24",
   "metadata": {},
   "outputs": [
    {
     "data": {
      "text/plain": [
       "array([[[ 0,  0],\n",
       "        [15, 28]],\n",
       "\n",
       "       [[ 0,  0],\n",
       "        [35, 56]],\n",
       "\n",
       "       [[ 0,  0],\n",
       "        [ 5, 14]],\n",
       "\n",
       "       [[ 0,  0],\n",
       "        [25, 42]]])"
      ]
     },
     "execution_count": 56,
     "metadata": {},
     "output_type": "execute_result"
    }
   ],
   "source": [
    "ra4*ra2     #when working with 3d you have to keep in mind all the three dimensions"
   ]
  },
  {
   "cell_type": "code",
   "execution_count": 57,
   "id": "27d57faa",
   "metadata": {},
   "outputs": [
    {
     "data": {
      "text/plain": [
       "((2, 2, 4), (4, 2, 2), (2, 4), (1, 2, 2))"
      ]
     },
     "execution_count": 57,
     "metadata": {},
     "output_type": "execute_result"
    }
   ],
   "source": [
    "a4.shape,ra4.shape,a2.shape,ra2.shape"
   ]
  },
  {
   "cell_type": "code",
   "execution_count": 58,
   "id": "743e0dbe",
   "metadata": {},
   "outputs": [
    {
     "data": {
      "text/plain": [
       "(array([[[ 1,  4,  9, 16],\n",
       "         [25, 36, 49, 64]],\n",
       " \n",
       "        [[ 9,  0,  3,  8],\n",
       "         [15, 24, 35, 48]]]),\n",
       " (2, 2, 4))"
      ]
     },
     "execution_count": 58,
     "metadata": {},
     "output_type": "execute_result"
    }
   ],
   "source": [
    "a2*a4,(a2*a4).shape"
   ]
  },
  {
   "cell_type": "code",
   "execution_count": 59,
   "id": "154a9edd",
   "metadata": {},
   "outputs": [
    {
     "data": {
      "text/plain": [
       "array([[ 2,  4,  6,  8],\n",
       "       [ 6,  8, 10, 12]])"
      ]
     },
     "execution_count": 59,
     "metadata": {},
     "output_type": "execute_result"
    }
   ],
   "source": [
    "a2+a1       #broadcasting is increasing the size of a1 to be compatible with a2"
   ]
  },
  {
   "cell_type": "code",
   "execution_count": 60,
   "id": "412accb2",
   "metadata": {},
   "outputs": [
    {
     "data": {
      "text/plain": [
       "array([[[ 2,  4,  6,  8],\n",
       "        [ 6,  8, 10, 12]],\n",
       "\n",
       "       [[10,  2,  4,  6],\n",
       "        [ 4,  6,  8, 10]]])"
      ]
     },
     "execution_count": 60,
     "metadata": {},
     "output_type": "execute_result"
    }
   ],
   "source": [
    "a1+a4"
   ]
  },
  {
   "cell_type": "code",
   "execution_count": 61,
   "id": "207dc478",
   "metadata": {},
   "outputs": [
    {
     "data": {
      "text/plain": [
       "array([[[1, 2, 3, 4],\n",
       "        [5, 6, 7, 8]],\n",
       "\n",
       "       [[9, 0, 1, 2],\n",
       "        [3, 4, 5, 6]]])"
      ]
     },
     "execution_count": 61,
     "metadata": {},
     "output_type": "execute_result"
    }
   ],
   "source": [
    "a4"
   ]
  },
  {
   "cell_type": "markdown",
   "id": "5b3decab",
   "metadata": {},
   "source": [
    "Transpose()"
   ]
  },
  {
   "cell_type": "code",
   "execution_count": 62,
   "id": "e59d4342",
   "metadata": {},
   "outputs": [
    {
     "data": {
      "text/plain": [
       "array([[[1, 9],\n",
       "        [5, 3]],\n",
       "\n",
       "       [[2, 0],\n",
       "        [6, 4]],\n",
       "\n",
       "       [[3, 1],\n",
       "        [7, 5]],\n",
       "\n",
       "       [[4, 2],\n",
       "        [8, 6]]])"
      ]
     },
     "execution_count": 62,
     "metadata": {},
     "output_type": "execute_result"
    }
   ],
   "source": [
    "a4.transpose()      #another way to do transpose"
   ]
  },
  {
   "cell_type": "code",
   "execution_count": 63,
   "id": "b807010e",
   "metadata": {},
   "outputs": [
    {
     "data": {
      "text/plain": [
       "array([[1, 2, 3, 4],\n",
       "       [5, 6, 7, 8]])"
      ]
     },
     "execution_count": 63,
     "metadata": {},
     "output_type": "execute_result"
    }
   ],
   "source": [
    "a2"
   ]
  },
  {
   "cell_type": "code",
   "execution_count": 64,
   "id": "cfab2304",
   "metadata": {},
   "outputs": [
    {
     "data": {
      "text/plain": [
       "array([[9, 8],\n",
       "       [7, 6],\n",
       "       [5, 4]])"
      ]
     },
     "execution_count": 64,
     "metadata": {},
     "output_type": "execute_result"
    }
   ],
   "source": [
    "a5=np.array([[9,8],[7,6],[5,4]])\n",
    "a5"
   ]
  },
  {
   "cell_type": "code",
   "execution_count": 65,
   "id": "eb4ecd0b",
   "metadata": {},
   "outputs": [
    {
     "data": {
      "text/plain": [
       "(array([[1, 2, 3],\n",
       "        [5, 6, 7]]),\n",
       " array([[9, 8],\n",
       "        [7, 6],\n",
       "        [5, 4]]),\n",
       " array([[ 38,  32],\n",
       "        [122, 104]]))"
      ]
     },
     "execution_count": 65,
     "metadata": {},
     "output_type": "execute_result"
    }
   ],
   "source": [
    "a2[:,:3],a5,np.dot(a2[:,:3],a5)         #dot product"
   ]
  },
  {
   "cell_type": "code",
   "execution_count": 66,
   "id": "73705236",
   "metadata": {},
   "outputs": [
    {
     "data": {
      "text/plain": [
       "array([[1, 2, 3],\n",
       "       [5, 6, 7]])"
      ]
     },
     "execution_count": 66,
     "metadata": {},
     "output_type": "execute_result"
    }
   ],
   "source": [
    "a2[:,:3]"
   ]
  },
  {
   "cell_type": "code",
   "execution_count": 67,
   "id": "24262107",
   "metadata": {},
   "outputs": [
    {
     "data": {
      "text/plain": [
       "array([[9, 8],\n",
       "       [7, 6],\n",
       "       [5, 4]])"
      ]
     },
     "execution_count": 67,
     "metadata": {},
     "output_type": "execute_result"
    }
   ],
   "source": [
    "a5"
   ]
  },
  {
   "cell_type": "code",
   "execution_count": 68,
   "id": "9c9f16c5",
   "metadata": {},
   "outputs": [],
   "source": [
    "# np.dot(a2,ra2)      #will only work if dimensions are same"
   ]
  },
  {
   "cell_type": "code",
   "execution_count": 69,
   "id": "a87112ea",
   "metadata": {},
   "outputs": [
    {
     "data": {
      "text/plain": [
       "array([[ 38,  32],\n",
       "       [122, 104]])"
      ]
     },
     "execution_count": 69,
     "metadata": {},
     "output_type": "execute_result"
    }
   ],
   "source": [
    "a2[:,:3] @ a5       #another way of cross product"
   ]
  },
  {
   "cell_type": "code",
   "execution_count": 70,
   "id": "99db0078",
   "metadata": {},
   "outputs": [
    {
     "data": {
      "text/plain": [
       "np.int64(8)"
      ]
     },
     "execution_count": 70,
     "metadata": {},
     "output_type": "execute_result"
    }
   ],
   "source": [
    "a4.argmax()         #returns the index of largest element"
   ]
  },
  {
   "cell_type": "code",
   "execution_count": 71,
   "id": "2fa15a6a",
   "metadata": {},
   "outputs": [
    {
     "data": {
      "text/plain": [
       "np.int64(9)"
      ]
     },
     "execution_count": 71,
     "metadata": {},
     "output_type": "execute_result"
    }
   ],
   "source": [
    "a4.argmin()         #returns the index of smallest element"
   ]
  },
  {
   "cell_type": "code",
   "execution_count": 72,
   "id": "0e14467e",
   "metadata": {},
   "outputs": [
    {
     "data": {
      "text/plain": [
       "array([93, 62, 77,  5, 25, 53, 37, 69, 48, 24], dtype=int32)"
      ]
     },
     "execution_count": 72,
     "metadata": {},
     "output_type": "execute_result"
    }
   ],
   "source": [
    "np.absolute(arr1)           #returns the absolute value     \n"
   ]
  },
  {
   "cell_type": "code",
   "execution_count": 73,
   "id": "d3ffb5f1",
   "metadata": {},
   "outputs": [
    {
     "data": {
      "text/plain": [
       "array([[0, 1, 0, 0, 0],\n",
       "       [0, 0, 1, 0, 0],\n",
       "       [0, 0, 0, 1, 0],\n",
       "       [0, 0, 0, 0, 1]])"
      ]
     },
     "execution_count": 73,
     "metadata": {},
     "output_type": "execute_result"
    }
   ],
   "source": [
    "np.eye(4,5,1,'int')       #creates a 2D identity matrix\n",
    "#arg1,arg2 -> rows and columns\n",
    "#arg3 -> offset\n",
    "#ar4 -> datatype"
   ]
  },
  {
   "cell_type": "code",
   "execution_count": 74,
   "id": "d1fb4192",
   "metadata": {},
   "outputs": [
    {
     "data": {
      "text/plain": [
       "array([[ 0.84147098,  0.90929743,  0.14112001, -0.7568025 ],\n",
       "       [-0.95892427, -0.2794155 ,  0.6569866 ,  0.98935825]])"
      ]
     },
     "execution_count": 74,
     "metadata": {},
     "output_type": "execute_result"
    }
   ],
   "source": [
    "np.sin(a2)          #sin valu"
   ]
  },
  {
   "cell_type": "code",
   "execution_count": 75,
   "id": "64f5c2f9",
   "metadata": {},
   "outputs": [
    {
     "data": {
      "text/plain": [
       "array([1, 2, 3, 4])"
      ]
     },
     "execution_count": 75,
     "metadata": {},
     "output_type": "execute_result"
    }
   ],
   "source": [
    "a1"
   ]
  },
  {
   "cell_type": "code",
   "execution_count": 76,
   "id": "ab9e53c8",
   "metadata": {},
   "outputs": [
    {
     "data": {
      "text/plain": [
       "array([[1, 0, 0, 0],\n",
       "       [0, 2, 0, 0],\n",
       "       [0, 0, 3, 0],\n",
       "       [0, 0, 0, 4]])"
      ]
     },
     "execution_count": 76,
     "metadata": {},
     "output_type": "execute_result"
    }
   ],
   "source": [
    "np.diagflat(a1)     #flats the matrix into an diagonal matrix with diagonal values being the values of the array"
   ]
  },
  {
   "cell_type": "code",
   "execution_count": 77,
   "id": "39646bb3",
   "metadata": {},
   "outputs": [
    {
     "data": {
      "text/plain": [
       "array([[1111,    1,    2,    3],\n",
       "       [   4, 1111,    6,    7],\n",
       "       [   8,    9, 1111,   11],\n",
       "       [  12,   13,   14, 1111]])"
      ]
     },
     "execution_count": 77,
     "metadata": {},
     "output_type": "execute_result"
    }
   ],
   "source": [
    "d=np.diag_indices(4,2)      #returns the indices to access the main diagonal\n",
    "#arg1 -> size of matrix\n",
    "#arg2 -> ndim\n",
    "a=np.arange(16).reshape(4,4)\n",
    "a[d]=1111\n",
    "a"
   ]
  },
  {
   "cell_type": "code",
   "execution_count": 78,
   "id": "da25383f",
   "metadata": {},
   "outputs": [
    {
     "data": {
      "text/plain": [
       "array([[   1,    2,    3, 1111],\n",
       "       [   4,    6,    7, 1111],\n",
       "       [   8,    9,   11, 1111],\n",
       "       [  12,   13,   14, 1111]])"
      ]
     },
     "execution_count": 78,
     "metadata": {},
     "output_type": "execute_result"
    }
   ],
   "source": [
    "np.apply_along_axis(sorted,1,a)"
   ]
  },
  {
   "cell_type": "code",
   "execution_count": 79,
   "id": "546885da",
   "metadata": {},
   "outputs": [
    {
     "data": {
      "text/plain": [
       "array([[   4,    1,    2,    3],\n",
       "       [   8,    9,    6,    7],\n",
       "       [  12,   13,   14,   11],\n",
       "       [1111, 1111, 1111, 1111]])"
      ]
     },
     "execution_count": 79,
     "metadata": {},
     "output_type": "execute_result"
    }
   ],
   "source": [
    "np.apply_along_axis(sorted,0,a)"
   ]
  },
  {
   "cell_type": "code",
   "execution_count": 80,
   "id": "c12f7008",
   "metadata": {},
   "outputs": [
    {
     "data": {
      "text/plain": [
       "array([1111, 1111, 1111, 1111])"
      ]
     },
     "execution_count": 80,
     "metadata": {},
     "output_type": "execute_result"
    }
   ],
   "source": [
    "def addi(a):\n",
    "     return (a[0] + a[-1])\n",
    "\n",
    "ar11=np.apply_along_axis(np.max,0,a)      \n",
    "#arg1- > function\n",
    "# axis -> 0==row 1==column\n",
    "# arg3 -> array \n",
    "ar11 "
   ]
  },
  {
   "cell_type": "code",
   "execution_count": 81,
   "id": "91840f43",
   "metadata": {},
   "outputs": [
    {
     "data": {
      "text/plain": [
       "array([[1111, 1111, 1111, 1111]])"
      ]
     },
     "execution_count": 81,
     "metadata": {},
     "output_type": "execute_result"
    }
   ],
   "source": [
    "np.apply_over_axes(np.max,a,0)      #same as above function ,only difference is that the ouput can be varied based on the axis\n",
    "#arg1- > function\n",
    "# arg2 -> array \n",
    "# arg3 -> axis -> 0==row 1==column  "
   ]
  },
  {
   "cell_type": "code",
   "execution_count": 82,
   "id": "9a96b841",
   "metadata": {},
   "outputs": [
    {
     "data": {
      "text/plain": [
       "np.int64(7)"
      ]
     },
     "execution_count": 82,
     "metadata": {},
     "output_type": "execute_result"
    }
   ],
   "source": [
    "np.nanargmin(a2)        #index of min leaving NaN values \n",
    "np.nanargmax(a2)"
   ]
  },
  {
   "cell_type": "code",
   "execution_count": 83,
   "id": "20117bc5",
   "metadata": {},
   "outputs": [
    {
     "data": {
      "text/plain": [
       "array([1, 5])"
      ]
     },
     "execution_count": 83,
     "metadata": {},
     "output_type": "execute_result"
    }
   ],
   "source": [
    "np.amax(a2,1)       #returns the maxvalue along the axis\n",
    "np.amin(a2,1)"
   ]
  },
  {
   "cell_type": "code",
   "execution_count": 84,
   "id": "e746d751",
   "metadata": {},
   "outputs": [
    {
     "data": {
      "text/plain": [
       "array([[1, 2, 3, 4],\n",
       "       [5, 6, 7, 8]])"
      ]
     },
     "execution_count": 84,
     "metadata": {},
     "output_type": "execute_result"
    }
   ],
   "source": [
    "a2"
   ]
  },
  {
   "cell_type": "code",
   "execution_count": 85,
   "id": "c563d56f",
   "metadata": {},
   "outputs": [
    {
     "data": {
      "text/plain": [
       "((2, 5),\n",
       " array([[ 1, 11,  2,  3,  4],\n",
       "        [ 5, 11,  6,  7,  8]]))"
      ]
     },
     "execution_count": 85,
     "metadata": {},
     "output_type": "execute_result"
    }
   ],
   "source": [
    "a_=np.insert(a2,1,11,axis=1)        #inserts value at the given index\n",
    "#arg1 -> array               #when working with 2d or higher dimensions axis must be specidfied ,else it will convert the ndim array into a 1d array.      \n",
    "#arg2 -> index\n",
    "#arg3 -> value\n",
    "\n",
    "a_.shape,a_"
   ]
  },
  {
   "cell_type": "code",
   "execution_count": 86,
   "id": "5f2ec4ef",
   "metadata": {},
   "outputs": [
    {
     "data": {
      "text/plain": [
       "array([[1, 2, 3, 4],\n",
       "       [5, 6, 7, 8]])"
      ]
     },
     "execution_count": 86,
     "metadata": {},
     "output_type": "execute_result"
    }
   ],
   "source": [
    "a2"
   ]
  },
  {
   "cell_type": "code",
   "execution_count": 87,
   "id": "e2d751db",
   "metadata": {},
   "outputs": [
    {
     "data": {
      "text/plain": [
       "array([[1, 2, 3, 4],\n",
       "       [5, 6, 7, 8]])"
      ]
     },
     "execution_count": 87,
     "metadata": {},
     "output_type": "execute_result"
    }
   ],
   "source": [
    "np.delete(a_,1,axis=1)     #delets from index\n",
    "#it also flattens the array if axis not given"
   ]
  },
  {
   "cell_type": "code",
   "execution_count": 88,
   "id": "6630290b",
   "metadata": {},
   "outputs": [
    {
     "data": {
      "text/plain": [
       "array([[ 1,  2,  3,  4,  1, 11,  2,  3,  4],\n",
       "       [ 5,  6,  7,  8,  5, 11,  6,  7,  8]])"
      ]
     },
     "execution_count": 88,
     "metadata": {},
     "output_type": "execute_result"
    }
   ],
   "source": [
    "np.append(a2,a_,axis=1)     #appends the two arrays"
   ]
  },
  {
   "cell_type": "code",
   "execution_count": 89,
   "id": "06d44c0b",
   "metadata": {},
   "outputs": [
    {
     "data": {
      "text/plain": [
       "(array([[0.32287421, 0.76193   , 0.93262856, 0.71121724, 0.51743076],\n",
       "        [0.8844716 , 0.55363384, 0.5736425 , 0.39393329, 0.92654675],\n",
       "        [0.00554442, 0.7284985 , 0.35575363, 0.21293324, 0.36202741],\n",
       "        [0.87830029, 0.36332589, 0.50320692, 0.76748826, 0.91447557]]),\n",
       " array([[0.3, 0.8, 0.9, 0.7, 0.5],\n",
       "        [0.9, 0.6, 0.6, 0.4, 0.9],\n",
       "        [0. , 0.7, 0.4, 0.2, 0.4],\n",
       "        [0.9, 0.4, 0.5, 0.8, 0.9]]))"
      ]
     },
     "execution_count": 89,
     "metadata": {},
     "output_type": "execute_result"
    }
   ],
   "source": [
    "r1=np.random.rand(4,5)\n",
    "r1,np.around(r1,decimals=1)        #rounds off to the nearest int if decimals not provided\n",
    "#negative decimals round off to the nearest 10"
   ]
  },
  {
   "cell_type": "code",
   "execution_count": 90,
   "id": "75a208fe",
   "metadata": {},
   "outputs": [
    {
     "data": {
      "text/plain": [
       "array([[4, 3, 2, 1],\n",
       "       [8, 7, 6, 5]])"
      ]
     },
     "execution_count": 90,
     "metadata": {},
     "output_type": "execute_result"
    }
   ],
   "source": [
    "np.flip(a2,axis=1)     #flips the array ,if no axis reverses the element"
   ]
  },
  {
   "cell_type": "code",
   "execution_count": 91,
   "id": "04ffb1be",
   "metadata": {},
   "outputs": [
    {
     "data": {
      "text/plain": [
       "array([[4, 3, 2, 1],\n",
       "       [8, 7, 6, 5]])"
      ]
     },
     "execution_count": 91,
     "metadata": {},
     "output_type": "execute_result"
    }
   ],
   "source": [
    "np.fliplr(a2)       # flips in L->R "
   ]
  },
  {
   "cell_type": "code",
   "execution_count": 92,
   "id": "0d7c39b0",
   "metadata": {},
   "outputs": [
    {
     "data": {
      "text/plain": [
       "array([[5, 6, 7, 8],\n",
       "       [1, 2, 3, 4]])"
      ]
     },
     "execution_count": 92,
     "metadata": {},
     "output_type": "execute_result"
    }
   ],
   "source": [
    "np.flipud(a2)       #flips U->R"
   ]
  },
  {
   "cell_type": "code",
   "execution_count": 93,
   "id": "27c49e11",
   "metadata": {},
   "outputs": [
    {
     "data": {
      "text/plain": [
       "array([[[1, 2, 3, 4],\n",
       "        [0, 6, 7, 8],\n",
       "        [0, 0, 1, 2]]])"
      ]
     },
     "execution_count": 93,
     "metadata": {},
     "output_type": "execute_result"
    }
   ],
   "source": [
    "np.triu(a3)     #return the upper part of the trianegle"
   ]
  },
  {
   "cell_type": "code",
   "execution_count": 94,
   "id": "fd60730b",
   "metadata": {},
   "outputs": [
    {
     "data": {
      "text/plain": [
       "array([[[1, 0, 0, 0],\n",
       "        [5, 6, 0, 0],\n",
       "        [9, 0, 1, 0]]])"
      ]
     },
     "execution_count": 94,
     "metadata": {},
     "output_type": "execute_result"
    }
   ],
   "source": [
    "np.tril(a3)         #return the left side of matrix"
   ]
  },
  {
   "cell_type": "code",
   "execution_count": 95,
   "id": "87b52d4a",
   "metadata": {},
   "outputs": [
    {
     "data": {
      "text/plain": [
       "array([[0., 0., 0.],\n",
       "       [1., 0., 0.],\n",
       "       [1., 1., 0.]])"
      ]
     },
     "execution_count": 95,
     "metadata": {},
     "output_type": "execute_result"
    }
   ],
   "source": [
    "np.tri(3,3,-1)      #returns a left part of matrix with values of 1 \n",
    "# arg1,arg2 -> rows and columns\n",
    "#arg3 -> offset"
   ]
  },
  {
   "cell_type": "code",
   "execution_count": 96,
   "id": "12a3b32b",
   "metadata": {},
   "outputs": [
    {
     "data": {
      "text/plain": [
       "array([[[0, 1],\n",
       "        [2, 3]]])"
      ]
     },
     "execution_count": 96,
     "metadata": {},
     "output_type": "execute_result"
    }
   ],
   "source": [
    "ea=np.empty((1,2,2), dtype=\"int\")      #creates a random array and no use of seed\n",
    "ea  #it creates an empty array"
   ]
  },
  {
   "cell_type": "code",
   "execution_count": 97,
   "id": "efd7c0ec",
   "metadata": {},
   "outputs": [
    {
     "data": {
      "text/plain": [
       "array([[[25895968444448860, 23925768161198147],\n",
       "        [32370111954616435, 22518277314052188]]])"
      ]
     },
     "execution_count": 97,
     "metadata": {},
     "output_type": "execute_result"
    }
   ],
   "source": [
    "np.empty_like(ea)           #creates another random array of same size as passed inside the function"
   ]
  },
  {
   "cell_type": "code",
   "execution_count": 98,
   "id": "07808268",
   "metadata": {},
   "outputs": [
    {
     "data": {
      "text/plain": [
       "array([[[0., 0.],\n",
       "        [0., 0.]]])"
      ]
     },
     "execution_count": 98,
     "metadata": {},
     "output_type": "execute_result"
    }
   ],
   "source": [
    "np.zeros_like(ea,subok=True,dtype='float',order='F')       #creates a zero array of same size as passed inside the function\n",
    "# subok  : If true, then newly created array will be sub-class of array;otherwise, a base-class array\n",
    "# order  : C_contiguous or F_contiguous\n",
    "#          C-contiguous order in memory(last index varies the fastest)  C order means that operating row-rise on the array will be slightly quicker\n",
    "#          FORTRAN-contiguous order in memory (first index varies the fastest)."
   ]
  },
  {
   "cell_type": "code",
   "execution_count": 99,
   "id": "ce9f2ce1",
   "metadata": {},
   "outputs": [
    {
     "data": {
      "text/plain": [
       "array([[7, 1, 9],\n",
       "       [2, 1, 0],\n",
       "       [7, 1, 8]], dtype=int32)"
      ]
     },
     "execution_count": 99,
     "metadata": {},
     "output_type": "execute_result"
    }
   ],
   "source": [
    "a6=np.random.randint(10,size=(3,3))\n",
    "a6\n"
   ]
  },
  {
   "cell_type": "code",
   "execution_count": 100,
   "id": "3427074f",
   "metadata": {},
   "outputs": [
    {
     "data": {
      "text/plain": [
       "array([7, 1, 8], dtype=int32)"
      ]
     },
     "execution_count": 100,
     "metadata": {},
     "output_type": "execute_result"
    }
   ],
   "source": [
    "np.diag(a6)     #prints the diagonal values of the matrix"
   ]
  },
  {
   "cell_type": "code",
   "execution_count": 101,
   "id": "0c1dc5a1",
   "metadata": {},
   "outputs": [
    {
     "data": {
      "text/plain": [
       "matrix([[9, 8],\n",
       "        [7, 6],\n",
       "        [5, 4]])"
      ]
     },
     "execution_count": 101,
     "metadata": {},
     "output_type": "execute_result"
    }
   ],
   "source": [
    "np.asmatrix(a5)     #returns a matrix "
   ]
  },
  {
   "cell_type": "code",
   "execution_count": 102,
   "id": "3a7e508b",
   "metadata": {},
   "outputs": [
    {
     "data": {
      "text/plain": [
       "(array([[1, 2, 3, 4],\n",
       "        [5, 6, 7, 8]]),\n",
       " array([[7, 1, 9],\n",
       "        [2, 1, 0],\n",
       "        [7, 1, 8]], dtype=int32))"
      ]
     },
     "execution_count": 102,
     "metadata": {},
     "output_type": "execute_result"
    }
   ],
   "source": [
    "a2,a6"
   ]
  },
  {
   "cell_type": "code",
   "execution_count": 103,
   "id": "11691af7",
   "metadata": {},
   "outputs": [
    {
     "data": {
      "text/plain": [
       "matrix([[1, 2, 3, 4, 7, 1, 9],\n",
       "        [5, 6, 7, 8, 2, 1, 0]])"
      ]
     },
     "execution_count": 103,
     "metadata": {},
     "output_type": "execute_result"
    }
   ],
   "source": [
    "np.bmat([a2,a6[:2]])        #returns a matrix by concatinating tw nested objetcs"
   ]
  },
  {
   "cell_type": "code",
   "execution_count": 104,
   "id": "e91cccaf",
   "metadata": {},
   "outputs": [
    {
     "data": {
      "text/plain": [
       "matrix([[1, 2, 3, 8, 9, 4, 5, 6, 6, 7]])"
      ]
     },
     "execution_count": 104,
     "metadata": {},
     "output_type": "execute_result"
    }
   ],
   "source": [
    "l1=[[1,2,3],[8,9]]\n",
    "l2=[[4,5,6],[6,7]]\n",
    "np.bmat([l1,l2])        \n",
    "# np.bmat('l1;l2')        #for this way dimension should be min of 2d"
   ]
  },
  {
   "cell_type": "code",
   "execution_count": 105,
   "id": "76c1e3a3",
   "metadata": {},
   "outputs": [
    {
     "data": {
      "text/plain": [
       "array([[7, 1, 9],\n",
       "       [2, 1, 0],\n",
       "       [7, 1, 8]], dtype=int32)"
      ]
     },
     "execution_count": 105,
     "metadata": {},
     "output_type": "execute_result"
    }
   ],
   "source": [
    "a6"
   ]
  },
  {
   "cell_type": "code",
   "execution_count": 106,
   "id": "61ce58bb",
   "metadata": {},
   "outputs": [
    {
     "data": {
      "text/plain": [
       "array([[1, 8, 7],\n",
       "       [1, 9, 2],\n",
       "       [1, 0, 7]], dtype=int32)"
      ]
     },
     "execution_count": 106,
     "metadata": {},
     "output_type": "execute_result"
    }
   ],
   "source": [
    "np.roll(a6,2)       #shifts the elemnts of the array by the specified factor   \n",
    "#by default axis is 1"
   ]
  },
  {
   "cell_type": "code",
   "execution_count": 107,
   "id": "d878cc60",
   "metadata": {},
   "outputs": [
    {
     "data": {
      "text/plain": [
       "array([[2, 1, 0],\n",
       "       [7, 1, 8],\n",
       "       [7, 1, 9]], dtype=int32)"
      ]
     },
     "execution_count": 107,
     "metadata": {},
     "output_type": "execute_result"
    }
   ],
   "source": [
    "np.roll(a6,5,axis=0)    #shifts entire row when axis is 0"
   ]
  },
  {
   "cell_type": "code",
   "execution_count": 108,
   "id": "f08bb8fc",
   "metadata": {},
   "outputs": [
    {
     "data": {
      "text/plain": [
       "array([[1., 0., 0., 0., 0.],\n",
       "       [0., 1., 0., 0., 0.],\n",
       "       [0., 0., 1., 0., 0.],\n",
       "       [0., 0., 0., 1., 0.],\n",
       "       [0., 0., 0., 0., 1.]])"
      ]
     },
     "execution_count": 108,
     "metadata": {},
     "output_type": "execute_result"
    }
   ],
   "source": [
    "np.identity(5)      #creates an square identity array "
   ]
  },
  {
   "cell_type": "code",
   "execution_count": 109,
   "id": "dd849046",
   "metadata": {},
   "outputs": [
    {
     "data": {
      "text/plain": [
       "array([[18,  1, 18],\n",
       "       [ 2,  1,  0],\n",
       "       [18,  1, 18]], dtype=int32)"
      ]
     },
     "execution_count": 109,
     "metadata": {},
     "output_type": "execute_result"
    }
   ],
   "source": [
    "np.place(a6,a6>6,[18])      #makes changes in the original array based on some condition\n",
    "#arg1 -> input array\n",
    "#arg2 -> condition\n",
    "#arg3 -> value to be replaced with\n",
    "a6"
   ]
  },
  {
   "cell_type": "code",
   "execution_count": 110,
   "id": "003f7826",
   "metadata": {},
   "outputs": [
    {
     "data": {
      "text/plain": [
       "array([ True, False,  True, False, False,  True, False,  True])"
      ]
     },
     "execution_count": 110,
     "metadata": {},
     "output_type": "execute_result"
    }
   ],
   "source": [
    "np.extract(a6>6,a6)     # returns the values that satisfy the contion\n",
    "#if arg1 -> condition and\n",
    "#  arg2 -> array returns values\n",
    "\n",
    "#if \n",
    "# arg1-> array and\n",
    "#  arg2-> condition \n",
    "\n",
    "np.extract(a6,a6>4)     #returns a bool array "
   ]
  },
  {
   "cell_type": "code",
   "execution_count": 111,
   "id": "e50d26ac",
   "metadata": {},
   "outputs": [
    {
     "data": {
      "text/plain": [
       "array([[18,  1],\n",
       "       [ 2,  1],\n",
       "       [18,  1]], dtype=int32)"
      ]
     },
     "execution_count": 111,
     "metadata": {},
     "output_type": "execute_result"
    }
   ],
   "source": [
    "np.compress([1,2],a6,axis=1)       #returns a sliced string  \n",
    "# arg1 -> index\n",
    "# arg2 -> array\n",
    "\n",
    "# arg3 -> axis (optional)"
   ]
  },
  {
   "cell_type": "code",
   "execution_count": 112,
   "id": "617f05d6",
   "metadata": {},
   "outputs": [
    {
     "data": {
      "text/plain": [
       "(array([[[2, 1, 0, 9],\n",
       "         [8, 7, 6, 5],\n",
       "         [4, 3, 2, 1]]]),\n",
       " array([[[1, 2, 3, 4],\n",
       "         [5, 6, 7, 8],\n",
       "         [9, 0, 1, 2]]]))"
      ]
     },
     "execution_count": 112,
     "metadata": {},
     "output_type": "execute_result"
    }
   ],
   "source": [
    "np.rot90(a3,2,axes=(1,2)),a3       #rotates the arry by 90 degrees anti clock wise\n",
    "# arg1 -> array\n",
    "# arg2 -> number of times to be rotated\n",
    "# arg3 -> axes on which to be rotated"
   ]
  },
  {
   "cell_type": "code",
   "execution_count": 113,
   "id": "af4e425e",
   "metadata": {},
   "outputs": [
    {
     "data": {
      "text/plain": [
       "array([[[18,  1, 18, 18,  1, 18],\n",
       "        [ 2,  1,  0,  2,  1,  0],\n",
       "        [18,  1, 18, 18,  1, 18],\n",
       "        [18,  1, 18, 18,  1, 18],\n",
       "        [ 2,  1,  0,  2,  1,  0],\n",
       "        [18,  1, 18, 18,  1, 18]],\n",
       "\n",
       "       [[18,  1, 18, 18,  1, 18],\n",
       "        [ 2,  1,  0,  2,  1,  0],\n",
       "        [18,  1, 18, 18,  1, 18],\n",
       "        [18,  1, 18, 18,  1, 18],\n",
       "        [ 2,  1,  0,  2,  1,  0],\n",
       "        [18,  1, 18, 18,  1, 18]],\n",
       "\n",
       "       [[18,  1, 18, 18,  1, 18],\n",
       "        [ 2,  1,  0,  2,  1,  0],\n",
       "        [18,  1, 18, 18,  1, 18],\n",
       "        [18,  1, 18, 18,  1, 18],\n",
       "        [ 2,  1,  0,  2,  1,  0],\n",
       "        [18,  1, 18, 18,  1, 18]]], dtype=int32)"
      ]
     },
     "execution_count": 113,
     "metadata": {},
     "output_type": "execute_result"
    }
   ],
   "source": [
    "t1=np.tile(a6,(3,2,2))    #returns the array by repeting its value n time\n",
    "# arg1 -> array\n",
    "# arg2 -> times of repetition   ,this be also passed as an nd \n",
    "t1"
   ]
  },
  {
   "cell_type": "code",
   "execution_count": 114,
   "id": "d7adcd78",
   "metadata": {},
   "outputs": [
    {
     "data": {
      "text/plain": [
       "array([18,  1, 18, 18,  1, 18,  2,  1,  0,  2,  1,  0, 18,  1, 18, 18,  1,\n",
       "       18, 18,  1, 18, 18,  1, 18,  2,  1,  0,  2,  1,  0, 18,  1, 18, 18,\n",
       "        1, 18, 18,  1, 18, 18,  1, 18,  2,  1,  0,  2,  1,  0, 18,  1, 18,\n",
       "       18,  1, 18, 18,  1, 18, 18,  1, 18,  2,  1,  0,  2,  1,  0, 18,  1,\n",
       "       18, 18,  1, 18, 18,  1, 18, 18,  1, 18,  2,  1,  0,  2,  1,  0, 18,\n",
       "        1, 18, 18,  1, 18, 18,  1, 18, 18,  1, 18,  2,  1,  0,  2,  1,  0,\n",
       "       18,  1, 18, 18,  1, 18], dtype=int32)"
      ]
     },
     "execution_count": 114,
     "metadata": {},
     "output_type": "execute_result"
    }
   ],
   "source": [
    "r11=np.ravel(t1)        #returns a flattend 1D array\n",
    "r11"
   ]
  },
  {
   "cell_type": "code",
   "execution_count": 115,
   "id": "727f18cd",
   "metadata": {},
   "outputs": [
    {
     "data": {
      "text/plain": [
       "array([[False, False],\n",
       "       [False, False],\n",
       "       [False, False]])"
      ]
     },
     "execution_count": 115,
     "metadata": {},
     "output_type": "execute_result"
    }
   ],
   "source": [
    "np.isinf(a5)    #returns bool array for if (+,-)inf is present or not\n",
    "#arg1 -> input array\n",
    "#arg2(optional) -> array_name where you want to store\n",
    "#arg3(optional)-> condition\n"
   ]
  },
  {
   "cell_type": "code",
   "execution_count": 116,
   "id": "5a578c91",
   "metadata": {},
   "outputs": [
    {
     "data": {
      "text/plain": [
       "array([[ True,  True],\n",
       "       [ True,  True],\n",
       "       [ True,  True]])"
      ]
     },
     "execution_count": 116,
     "metadata": {},
     "output_type": "execute_result"
    }
   ],
   "source": [
    "~np.isinf(a5)   #works opposite of isinf()\n"
   ]
  },
  {
   "cell_type": "code",
   "execution_count": 117,
   "id": "ead84ebb",
   "metadata": {},
   "outputs": [
    {
     "name": "stdout",
     "output_type": "stream",
     "text": [
      "[False False False False]\n",
      "[ True False False  True]\n"
     ]
    }
   ],
   "source": [
    "a = np.array([np.inf, 2, 0, -np.inf])\n",
    "out_arr = np.zeros_like(a, dtype=bool)\n",
    "print(out_arr)\n",
    "np.isinf(a, out=out_arr, where=(a != 0))        #this can also be used to check for a condition\n",
    "print(out_arr)  "
   ]
  },
  {
   "cell_type": "code",
   "execution_count": 118,
   "id": "762ba903",
   "metadata": {},
   "outputs": [
    {
     "data": {
      "text/plain": [
       "True"
      ]
     },
     "execution_count": 118,
     "metadata": {},
     "output_type": "execute_result"
    }
   ],
   "source": [
    "np.isrealobj(a6)        #returns true if array has all real objects\n",
    "#if imaginary/complex part returns false"
   ]
  },
  {
   "cell_type": "code",
   "execution_count": 119,
   "id": "0d5a5822",
   "metadata": {},
   "outputs": [
    {
     "data": {
      "text/plain": [
       "True"
      ]
     },
     "execution_count": 119,
     "metadata": {},
     "output_type": "execute_result"
    }
   ],
   "source": [
    "np.isscalar(1)      #returns a bool after checking the element is scalar or not\n",
    "# scalar is a single digit\n",
    "#array ,list,matrix etc. are not scalar"
   ]
  },
  {
   "cell_type": "code",
   "execution_count": 120,
   "id": "2f8ce090",
   "metadata": {},
   "outputs": [
    {
     "data": {
      "text/plain": [
       "array([False, False, False, False])"
      ]
     },
     "execution_count": 120,
     "metadata": {},
     "output_type": "execute_result"
    }
   ],
   "source": [
    "np.isneginf(a1)     #returns true if element is negative infinity"
   ]
  },
  {
   "cell_type": "code",
   "execution_count": 121,
   "id": "4d5c1b36",
   "metadata": {},
   "outputs": [
    {
     "data": {
      "text/plain": [
       "array([False, False, False, False])"
      ]
     },
     "execution_count": 121,
     "metadata": {},
     "output_type": "execute_result"
    }
   ],
   "source": [
    "np.isposinf(a1)     #returns true if element is +ve infinity"
   ]
  },
  {
   "cell_type": "code",
   "execution_count": 122,
   "id": "c6824d47",
   "metadata": {},
   "outputs": [
    {
     "data": {
      "text/plain": [
       "array([ True])"
      ]
     },
     "execution_count": 122,
     "metadata": {},
     "output_type": "execute_result"
    }
   ],
   "source": [
    "np.iscomplex([1+1j])    #returns true if element is complex,if imaginary part is 0 it will return false"
   ]
  },
  {
   "cell_type": "code",
   "execution_count": 123,
   "id": "94d53b25",
   "metadata": {},
   "outputs": [
    {
     "data": {
      "text/plain": [
       "np.True_"
      ]
     },
     "execution_count": 123,
     "metadata": {},
     "output_type": "execute_result"
    }
   ],
   "source": [
    "np.isnan(a1)        #returns true if element is NaN\n",
    "np.isnan(np.nan)"
   ]
  },
  {
   "cell_type": "code",
   "execution_count": 124,
   "id": "c17c9a9f",
   "metadata": {},
   "outputs": [
    {
     "data": {
      "text/plain": [
       "True"
      ]
     },
     "execution_count": 124,
     "metadata": {},
     "output_type": "execute_result"
    }
   ],
   "source": [
    "np.iscomplexobj(1+0j)    #returns true if element is complex,if imaginary part is 0 it will return true"
   ]
  },
  {
   "cell_type": "code",
   "execution_count": 125,
   "id": "084a7906",
   "metadata": {},
   "outputs": [
    {
     "data": {
      "text/plain": [
       "True"
      ]
     },
     "execution_count": 125,
     "metadata": {},
     "output_type": "execute_result"
    }
   ],
   "source": [
    "np.isreal(1+0j)     #returns true if element is not complex,if imaginary part is 0 it will return true"
   ]
  },
  {
   "cell_type": "code",
   "execution_count": 126,
   "id": "0b03bcf7",
   "metadata": {},
   "outputs": [
    {
     "data": {
      "text/plain": [
       "np.False_"
      ]
     },
     "execution_count": 126,
     "metadata": {},
     "output_type": "execute_result"
    }
   ],
   "source": [
    "np.isfinite(a1)     #checks whether element is finite or not\n",
    "np.isfinite(np.nan)"
   ]
  },
  {
   "cell_type": "code",
   "execution_count": 127,
   "id": "e3418cec",
   "metadata": {},
   "outputs": [
    {
     "data": {
      "text/plain": [
       "True"
      ]
     },
     "execution_count": 127,
     "metadata": {},
     "output_type": "execute_result"
    }
   ],
   "source": [
    "aaa=np.array([[1,2,3],[4,5,6]],order='F')       \n",
    "np.isfortran(aaa)       #returns true if array is F contigous\n",
    "# FORTRAN-contiguous order in memory (first index varies the fastest). F order means that column-wise operations will be faster."
   ]
  },
  {
   "cell_type": "code",
   "execution_count": 128,
   "id": "34d0d06f",
   "metadata": {},
   "outputs": [
    {
     "data": {
      "text/plain": [
       "array([0.78539816, 1.10714872, 1.24904577, 1.32581766])"
      ]
     },
     "execution_count": 128,
     "metadata": {},
     "output_type": "execute_result"
    }
   ],
   "source": [
    "np.arctan(a1)   # calculates inverse tan of elements"
   ]
  },
  {
   "cell_type": "code",
   "execution_count": 129,
   "id": "78c121ba",
   "metadata": {},
   "outputs": [
    {
     "data": {
      "text/plain": [
       "array([1, 2, 3, 4])"
      ]
     },
     "execution_count": 129,
     "metadata": {},
     "output_type": "execute_result"
    }
   ],
   "source": [
    "a1"
   ]
  },
  {
   "cell_type": "code",
   "execution_count": 130,
   "id": "86022253",
   "metadata": {},
   "outputs": [],
   "source": [
    "a11=np.array([5,4,3,2])"
   ]
  },
  {
   "cell_type": "code",
   "execution_count": 131,
   "id": "ff4277b7",
   "metadata": {},
   "outputs": [
    {
     "data": {
      "text/plain": [
       "array([5.09901951, 4.47213595, 4.24264069, 4.47213595])"
      ]
     },
     "execution_count": 131,
     "metadata": {},
     "output_type": "execute_result"
    }
   ],
   "source": [
    "np.hypot(a1,a11)        #returns the hypotenous considering the given elements as P and B\n",
    "#arg1 -> first input\n",
    "#arg2 -> second input"
   ]
  },
  {
   "cell_type": "code",
   "execution_count": 132,
   "id": "4d835e52",
   "metadata": {},
   "outputs": [
    {
     "data": {
      "text/plain": [
       "array([[[1., 1., 1., 1., 1.],\n",
       "        [1., 1., 1., 1., 1.],\n",
       "        [1., 1., 1., 1., 1.],\n",
       "        [1., 1., 1., 1., 1.]],\n",
       "\n",
       "       [[1., 1., 1., 1., 1.],\n",
       "        [1., 1., 1., 1., 1.],\n",
       "        [1., 1., 1., 1., 1.],\n",
       "        [1., 1., 1., 1., 1.]]])"
      ]
     },
     "execution_count": 132,
     "metadata": {},
     "output_type": "execute_result"
    }
   ],
   "source": [
    "np.ceil(ar2)    #returns the ceiling value of a float after roundoff"
   ]
  },
  {
   "cell_type": "code",
   "execution_count": 133,
   "id": "c525d9ba",
   "metadata": {},
   "outputs": [
    {
     "data": {
      "text/plain": [
       "array([[[0., 0., 0., 0., 0.],\n",
       "        [0., 0., 0., 0., 0.],\n",
       "        [0., 0., 0., 0., 0.],\n",
       "        [0., 0., 0., 0., 0.]],\n",
       "\n",
       "       [[0., 0., 0., 0., 0.],\n",
       "        [0., 0., 0., 0., 0.],\n",
       "        [0., 0., 0., 0., 0.],\n",
       "        [0., 0., 0., 0., 0.]]])"
      ]
     },
     "execution_count": 133,
     "metadata": {},
     "output_type": "execute_result"
    }
   ],
   "source": [
    "np.floor(ar2)       #returns the floor value when rounded off"
   ]
  },
  {
   "cell_type": "code",
   "execution_count": 134,
   "id": "11425693",
   "metadata": {},
   "outputs": [
    {
     "data": {
      "text/plain": [
       "array([ 57.29577951, 114.59155903, 171.88733854, 229.18311805])"
      ]
     },
     "execution_count": 134,
     "metadata": {},
     "output_type": "execute_result"
    }
   ],
   "source": [
    "np.degrees(a1)      #returns the value in degress \n",
    "# input values are considered to be as radians"
   ]
  },
  {
   "cell_type": "code",
   "execution_count": 135,
   "id": "10486649",
   "metadata": {},
   "outputs": [
    {
     "data": {
      "text/plain": [
       "array([0.01745329, 0.03490659, 0.05235988, 0.06981317])"
      ]
     },
     "execution_count": 135,
     "metadata": {},
     "output_type": "execute_result"
    }
   ],
   "source": [
    "np.radians(a1)  #returns values in radians\n",
    "# input values are considered to be as degrees"
   ]
  },
  {
   "cell_type": "code",
   "execution_count": 136,
   "id": "a760c36e",
   "metadata": {},
   "outputs": [
    {
     "data": {
      "text/plain": [
       "array([ 57.29577951, 114.59155903, 171.88733854, 229.18311805])"
      ]
     },
     "execution_count": 136,
     "metadata": {},
     "output_type": "execute_result"
    }
   ],
   "source": [
    "np.rad2deg(a1)\n",
    "# same as np.degrees()"
   ]
  },
  {
   "cell_type": "code",
   "execution_count": 137,
   "id": "75e5916e",
   "metadata": {},
   "outputs": [],
   "source": [
    "ra11=np.deg2rad(a1)\n",
    "#same as np.radians()"
   ]
  },
  {
   "cell_type": "code",
   "execution_count": 138,
   "id": "1e9c2844",
   "metadata": {},
   "outputs": [
    {
     "data": {
      "text/plain": [
       "array([ 1, 16, 27, 16])"
      ]
     },
     "execution_count": 138,
     "metadata": {},
     "output_type": "execute_result"
    }
   ],
   "source": [
    "np.power(a1,a11)        #a1[i]**a11[i]  \n",
    "#returns answer in integer array"
   ]
  },
  {
   "cell_type": "code",
   "execution_count": 139,
   "id": "1ff3dec1",
   "metadata": {},
   "outputs": [
    {
     "data": {
      "text/plain": [
       "array([ 1., 16., 27., 16.])"
      ]
     },
     "execution_count": 139,
     "metadata": {},
     "output_type": "execute_result"
    }
   ],
   "source": [
    "np.float_power(a1,a11)  #a1[i]**a11[i]  \n",
    "#returns answer in float array"
   ]
  },
  {
   "cell_type": "code",
   "execution_count": 140,
   "id": "4a323db6",
   "metadata": {},
   "outputs": [
    {
     "data": {
      "text/plain": [
       "array([0.        , 0.69314718, 1.09861229, 1.38629436])"
      ]
     },
     "execution_count": 140,
     "metadata": {},
     "output_type": "execute_result"
    }
   ],
   "source": [
    "np.log(a1)      #calculates natural log"
   ]
  },
  {
   "cell_type": "code",
   "execution_count": 141,
   "id": "e6f812b7",
   "metadata": {},
   "outputs": [
    {
     "data": {
      "text/plain": [
       "array([0.        , 0.30103   , 0.47712125, 0.60205999])"
      ]
     },
     "execution_count": 141,
     "metadata": {},
     "output_type": "execute_result"
    }
   ],
   "source": [
    "np.log10(a1)        #calculates log base 10"
   ]
  },
  {
   "cell_type": "code",
   "execution_count": 142,
   "id": "8261f45b",
   "metadata": {},
   "outputs": [
    {
     "data": {
      "text/plain": [
       "array([0.69314718, 1.09861229, 1.38629436, 1.60943791])"
      ]
     },
     "execution_count": 142,
     "metadata": {},
     "output_type": "execute_result"
    }
   ],
   "source": [
    "np.log1p(a1)    #calculates natural log of (n+1)"
   ]
  },
  {
   "cell_type": "code",
   "execution_count": 143,
   "id": "7f04b3f2",
   "metadata": {},
   "outputs": [
    {
     "data": {
      "text/plain": [
       "array([0.       , 1.       , 1.5849625, 2.       ])"
      ]
     },
     "execution_count": 143,
     "metadata": {},
     "output_type": "execute_result"
    }
   ],
   "source": [
    "np.log2(a1)     #calculates log base 2"
   ]
  },
  {
   "cell_type": "code",
   "execution_count": 144,
   "id": "0538eee7",
   "metadata": {},
   "outputs": [
    {
     "data": {
      "text/plain": [
       "array([30, 86])"
      ]
     },
     "execution_count": 144,
     "metadata": {},
     "output_type": "execute_result"
    }
   ],
   "source": [
    "np.dot(a2,a11)  #calculates the dot product"
   ]
  },
  {
   "cell_type": "code",
   "execution_count": 145,
   "id": "bf82abb0",
   "metadata": {},
   "outputs": [
    {
     "data": {
      "text/plain": [
       "np.complex128(23-2j)"
      ]
     },
     "execution_count": 145,
     "metadata": {},
     "output_type": "execute_result"
    }
   ],
   "source": [
    "np.vdot(2+3j,4+5j)"
   ]
  },
  {
   "cell_type": "code",
   "execution_count": 146,
   "id": "c4a1f1ed",
   "metadata": {},
   "outputs": [
    {
     "data": {
      "text/plain": [
       "(array([[12,  9],\n",
       "        [32, 17]]),\n",
       " np.int64(30))"
      ]
     },
     "execution_count": 146,
     "metadata": {},
     "output_type": "execute_result"
    }
   ],
   "source": [
    "a = np.array([[1, 4], [5, 6]])\n",
    "b = np.array([[4, 1], [2, 2]])\n",
    "\n",
    "np.dot(a,b),np.vdot(a,b)    "
   ]
  },
  {
   "cell_type": "code",
   "execution_count": 147,
   "id": "78b48076",
   "metadata": {},
   "outputs": [
    {
     "data": {
      "text/plain": [
       "(np.int64(30), np.int64(30))"
      ]
     },
     "execution_count": 147,
     "metadata": {},
     "output_type": "execute_result"
    }
   ],
   "source": [
    "\n",
    "np.vdot(a1,a11),np.dot(a1,a11)"
   ]
  },
  {
   "cell_type": "code",
   "execution_count": 148,
   "id": "f2aed3ca",
   "metadata": {},
   "outputs": [
    {
     "data": {
      "text/plain": [
       "np.complex128(23-2j)"
      ]
     },
     "execution_count": 148,
     "metadata": {},
     "output_type": "execute_result"
    }
   ],
   "source": [
    "np.vdot(2+3j,4+5j)      #when complex number is taken as inout ,vdot() takes the complex conjucate of it\n",
    "# complex conjucate is of (a+bj) is (a-bj)\n"
   ]
  },
  {
   "cell_type": "code",
   "execution_count": 149,
   "id": "2c0f71d3",
   "metadata": {},
   "outputs": [],
   "source": [
    "ar4=np.array([0.324,1.33,22.43322,1.7655])"
   ]
  },
  {
   "cell_type": "code",
   "execution_count": 150,
   "id": "0f3527d0",
   "metadata": {},
   "outputs": [
    {
     "data": {
      "text/plain": [
       "array([ 0.,  1., 22.,  1.])"
      ]
     },
     "execution_count": 150,
     "metadata": {},
     "output_type": "execute_result"
    }
   ],
   "source": [
    "np.trunc(ar4)       #removes the decimal part of the float value"
   ]
  },
  {
   "cell_type": "code",
   "execution_count": 151,
   "id": "7bb99a1d",
   "metadata": {},
   "outputs": [
    {
     "data": {
      "text/plain": [
       "array([0.2, 0.5, 1. , 2. ])"
      ]
     },
     "execution_count": 151,
     "metadata": {},
     "output_type": "execute_result"
    }
   ],
   "source": [
    "np.divide(a1,a11)       #divides arg1/arg2"
   ]
  },
  {
   "cell_type": "code",
   "execution_count": 152,
   "id": "fd9fd793",
   "metadata": {},
   "outputs": [
    {
     "data": {
      "text/plain": [
       "array([0, 0, 1, 2])"
      ]
     },
     "execution_count": 152,
     "metadata": {},
     "output_type": "execute_result"
    }
   ],
   "source": [
    "np.floor_divide(a1,a11)         #floor divides arg1/arg2"
   ]
  },
  {
   "cell_type": "code",
   "execution_count": 153,
   "id": "e8d97cd6",
   "metadata": {},
   "outputs": [
    {
     "data": {
      "text/plain": [
       "array([0.2, 0.5, 1. , 2. ])"
      ]
     },
     "execution_count": 153,
     "metadata": {},
     "output_type": "execute_result"
    }
   ],
   "source": [
    "np.true_divide(a1,a11)      #divides arg1/arg2"
   ]
  },
  {
   "cell_type": "code",
   "execution_count": 154,
   "id": "140b35b4",
   "metadata": {},
   "outputs": [
    {
     "data": {
      "text/plain": [
       "array([2, 3, 4])"
      ]
     },
     "execution_count": 154,
     "metadata": {},
     "output_type": "execute_result"
    }
   ],
   "source": [
    "a4.flat[0:]        #converts the n dimensinal arry into 1D array ,we have to use slicing  \n",
    "a4.flat[1:4]       # we also access particular values "
   ]
  },
  {
   "cell_type": "code",
   "execution_count": 155,
   "id": "cac4385b",
   "metadata": {},
   "outputs": [
    {
     "data": {
      "text/plain": [
       "(array([ 1.71828183,  6.3890561 , 19.08553692, 53.59815003]),\n",
       " array([1, 2, 3, 4]))"
      ]
     },
     "execution_count": 155,
     "metadata": {},
     "output_type": "execute_result"
    }
   ],
   "source": [
    "np.expm1(a1),a1      #returns the exponential values nius 1\n",
    "# i.e  [(e=2.71828)**n]-1"
   ]
  },
  {
   "cell_type": "code",
   "execution_count": 156,
   "id": "16601422",
   "metadata": {},
   "outputs": [
    {
     "data": {
      "text/plain": [
       "array([ 2.71828183,  7.3890561 , 20.08553692, 54.59815003])"
      ]
     },
     "execution_count": 156,
     "metadata": {},
     "output_type": "execute_result"
    }
   ],
   "source": [
    "np.exp(a1)      #returns exponential values\n",
    "## i.e  [(e=2.71828)**n]"
   ]
  },
  {
   "cell_type": "code",
   "execution_count": 157,
   "id": "f0cb50d9",
   "metadata": {},
   "outputs": [
    {
     "data": {
      "text/plain": [
       "(array([0, 1, 1, 1, 1]), array([1, 2, 3, 4]))"
      ]
     },
     "execution_count": 157,
     "metadata": {},
     "output_type": "execute_result"
    }
   ],
   "source": [
    "np.bincount(a1) ,a1    #only works for 1D arrary\n",
    "\n",
    "# z2=np.zeros((5,),dtype='int')\n",
    "\n",
    "# np.bincount(z2)"
   ]
  },
  {
   "cell_type": "code",
   "execution_count": 158,
   "id": "51cbe338",
   "metadata": {},
   "outputs": [
    {
     "data": {
      "text/plain": [
       "array([1, 3, 0, 0, 1, 1, 0, 1])"
      ]
     },
     "execution_count": 158,
     "metadata": {},
     "output_type": "execute_result"
    }
   ],
   "source": [
    "a12=np.array([1,1,1,4,5,7,0])       #counts the occurance of indices in the array \n",
    "np.bincount(a12)\n",
    "#for example 1 has come 3 time,so it is counting 1 as index and printing 3 at index 1 has it has come 3 time and it is true for all"
   ]
  },
  {
   "cell_type": "code",
   "execution_count": 159,
   "id": "7ed87256",
   "metadata": {},
   "outputs": [
    {
     "data": {
      "text/plain": [
       "(array([0., 0., 0., 0.]),\n",
       " array([0.01745329, 0.03490659, 0.05235988, 0.06981317]))"
      ]
     },
     "execution_count": 159,
     "metadata": {},
     "output_type": "execute_result"
    }
   ],
   "source": [
    "np.rint(ra11),ra11      #rounds off the elements to the nearest integer value"
   ]
  },
  {
   "cell_type": "code",
   "execution_count": 160,
   "id": "d9b6027d",
   "metadata": {},
   "outputs": [
    {
     "data": {
      "text/plain": [
       "array([1.        , 1.        , 1.        , 1.58740105, 1.70997595,\n",
       "       1.91293118, 0.        ])"
      ]
     },
     "execution_count": 160,
     "metadata": {},
     "output_type": "execute_result"
    }
   ],
   "source": [
    "np.cbrt(a12)        #returns the bube root of the elements"
   ]
  },
  {
   "cell_type": "code",
   "execution_count": null,
   "id": "783b1254",
   "metadata": {},
   "outputs": [
    {
     "data": {
      "text/plain": [
       "(array([[1, 1, 1, 1],\n",
       "        [1, 1, 1, 1]]),\n",
       " array([[1, 2, 3, 4],\n",
       "        [5, 6, 7, 8]]))"
      ]
     },
     "execution_count": 161,
     "metadata": {},
     "output_type": "execute_result"
    }
   ],
   "source": [
    "np.ones_like(a2),a2"
   ]
  },
  {
   "cell_type": "code",
   "execution_count": 162,
   "id": "8f2e1be3",
   "metadata": {},
   "outputs": [
    {
     "data": {
      "text/plain": [
       "array([[10, 10, 10, 10],\n",
       "       [10, 10, 10, 10]])"
      ]
     },
     "execution_count": 162,
     "metadata": {},
     "output_type": "execute_result"
    }
   ],
   "source": [
    "np.full_like(a2,10)"
   ]
  },
  {
   "cell_type": "code",
   "execution_count": 163,
   "id": "87a15a56",
   "metadata": {},
   "outputs": [
    {
     "data": {
      "text/plain": [
       "array([[1, 2, 3, 4],\n",
       "       [5, 6, 7, 8]])"
      ]
     },
     "execution_count": 163,
     "metadata": {},
     "output_type": "execute_result"
    }
   ],
   "source": [
    "a2"
   ]
  },
  {
   "cell_type": "code",
   "execution_count": 164,
   "id": "680b4ac4",
   "metadata": {},
   "outputs": [
    {
     "data": {
      "text/plain": [
       "array([  24, 1680])"
      ]
     },
     "execution_count": 164,
     "metadata": {},
     "output_type": "execute_result"
    }
   ],
   "source": [
    "np.prod(a2,axis=1)      #multiplies elements of the array\n",
    "#if no axis given multiplies all elements \n",
    "# if axis given multiplies along nly the axis"
   ]
  },
  {
   "cell_type": "markdown",
   "id": "1f1dfe15",
   "metadata": {},
   "source": [
    "- Vstack () -> np.vstack is function that stacks the two arrays on the horizontal axis\n",
    "\n",
    "    Rules -> \n",
    "    \n",
    "    1. all dimensions should be same,apart from the vertical axis\n",
    "    \n",
    "        i.e. is number of columns and ndim should be same (x,y,z) x and z should be same for v stack"
   ]
  },
  {
   "cell_type": "code",
   "execution_count": 165,
   "id": "977aa6c1",
   "metadata": {},
   "outputs": [
    {
     "data": {
      "text/plain": [
       "(array([1, 2, 3, 4]), array([5, 4, 3, 2]))"
      ]
     },
     "execution_count": 165,
     "metadata": {},
     "output_type": "execute_result"
    }
   ],
   "source": [
    "a1,a11"
   ]
  },
  {
   "cell_type": "code",
   "execution_count": 166,
   "id": "d9dc0a51",
   "metadata": {},
   "outputs": [
    {
     "data": {
      "text/plain": [
       "array([[1, 2, 3, 4],\n",
       "       [5, 4, 3, 2]])"
      ]
     },
     "execution_count": 166,
     "metadata": {},
     "output_type": "execute_result"
    }
   ],
   "source": [
    "np.vstack((a1,a11))"
   ]
  },
  {
   "cell_type": "code",
   "execution_count": 167,
   "id": "6c169d87",
   "metadata": {},
   "outputs": [
    {
     "data": {
      "text/plain": [
       "((1, 3, 4), (3, 3), (2, 2, 4), (2, 4), (4,), 1, 2)"
      ]
     },
     "execution_count": 167,
     "metadata": {},
     "output_type": "execute_result"
    }
   ],
   "source": [
    "a3.shape,a6.shape,a4.shape,a2.shape,a1.shape,a1.ndim,a2.ndim"
   ]
  },
  {
   "cell_type": "code",
   "execution_count": 168,
   "id": "0f66e5b4",
   "metadata": {},
   "outputs": [
    {
     "data": {
      "text/plain": [
       "array([[[1, 2, 3, 4],\n",
       "        [5, 6, 7, 8],\n",
       "        [9, 0, 1, 2]]])"
      ]
     },
     "execution_count": 168,
     "metadata": {},
     "output_type": "execute_result"
    }
   ],
   "source": [
    "a3"
   ]
  },
  {
   "cell_type": "code",
   "execution_count": 169,
   "id": "efb89fb8",
   "metadata": {},
   "outputs": [
    {
     "data": {
      "text/plain": [
       "(array([[1, 2, 3, 4],\n",
       "        [5, 6, 7, 8]]),\n",
       " array([1, 2, 3, 4]))"
      ]
     },
     "execution_count": 169,
     "metadata": {},
     "output_type": "execute_result"
    }
   ],
   "source": [
    "a2,a1"
   ]
  },
  {
   "cell_type": "code",
   "execution_count": 170,
   "id": "0b7f795b",
   "metadata": {},
   "outputs": [
    {
     "data": {
      "text/plain": [
       "array([[1, 2, 3, 4],\n",
       "       [5, 6, 7, 8],\n",
       "       [1, 2, 3, 4]])"
      ]
     },
     "execution_count": 170,
     "metadata": {},
     "output_type": "execute_result"
    }
   ],
   "source": [
    "np.vstack((a2,a1))"
   ]
  },
  {
   "cell_type": "code",
   "execution_count": 171,
   "id": "2c402aab",
   "metadata": {},
   "outputs": [],
   "source": [
    "# np.vstack((a3,a4))     #these will give error as nmber of columns don't match"
   ]
  },
  {
   "cell_type": "code",
   "execution_count": 172,
   "id": "fb0e76b0",
   "metadata": {},
   "outputs": [],
   "source": [
    "# np.vstack((a6,a2))    #these will give error as number of dimensions not match"
   ]
  },
  {
   "cell_type": "code",
   "execution_count": 173,
   "id": "56ee1c3a",
   "metadata": {},
   "outputs": [
    {
     "data": {
      "text/plain": [
       "array([[[1, 2, 3, 4],\n",
       "        [5, 6, 7, 8]],\n",
       "\n",
       "       [[9, 0, 1, 2],\n",
       "        [3, 4, 5, 6]]])"
      ]
     },
     "execution_count": 173,
     "metadata": {},
     "output_type": "execute_result"
    }
   ],
   "source": [
    "a4"
   ]
  },
  {
   "cell_type": "code",
   "execution_count": 174,
   "id": "777a33e4",
   "metadata": {},
   "outputs": [
    {
     "data": {
      "text/plain": [
       "array([[[5, 6, 7, 8],\n",
       "        [9, 0, 1, 2]],\n",
       "\n",
       "       [[3, 4, 5, 6],\n",
       "        [7, 8, 9, 0]]])"
      ]
     },
     "execution_count": 174,
     "metadata": {},
     "output_type": "execute_result"
    }
   ],
   "source": [
    "a7=np.array([[[5,6,7,8],[9,0,1,2]],[[3,4,5,6],[7,8,9,0]]])\n",
    "a7"
   ]
  },
  {
   "cell_type": "code",
   "execution_count": 175,
   "id": "8610348a",
   "metadata": {},
   "outputs": [
    {
     "data": {
      "text/plain": [
       "array([[[5, 6, 7, 8],\n",
       "        [9, 0, 1, 2]],\n",
       "\n",
       "       [[3, 4, 5, 6],\n",
       "        [7, 8, 9, 0]],\n",
       "\n",
       "       [[1, 2, 3, 4],\n",
       "        [5, 6, 7, 8]],\n",
       "\n",
       "       [[9, 0, 1, 2],\n",
       "        [3, 4, 5, 6]]])"
      ]
     },
     "execution_count": 175,
     "metadata": {},
     "output_type": "execute_result"
    }
   ],
   "source": [
    "np.vstack((a7,a4))"
   ]
  },
  {
   "cell_type": "markdown",
   "id": "9653b46a",
   "metadata": {},
   "source": [
    " - hstack() -> np.hstack() concats the arrays on horizontal axis i.e. coumn wise\n",
    "\n",
    "    Rules ->\n",
    "    1. Number of dimensions and rows should be same number of columns can vary"
   ]
  },
  {
   "cell_type": "code",
   "execution_count": 176,
   "id": "0b024b22",
   "metadata": {},
   "outputs": [
    {
     "data": {
      "text/plain": [
       "array([[[46, 59, 73],\n",
       "        [78, 94, 95],\n",
       "        [32, 16, 21]]], dtype=int32)"
      ]
     },
     "execution_count": 176,
     "metadata": {},
     "output_type": "execute_result"
    }
   ],
   "source": [
    "a8=np.random.randint(100,size=(1,3,3))\n",
    "a8"
   ]
  },
  {
   "cell_type": "code",
   "execution_count": 177,
   "id": "43b344a4",
   "metadata": {},
   "outputs": [
    {
     "data": {
      "text/plain": [
       "(array([[[1, 2, 3, 4],\n",
       "         [5, 6, 7, 8]],\n",
       " \n",
       "        [[9, 0, 1, 2],\n",
       "         [3, 4, 5, 6]]]),\n",
       " array([[[5, 6, 7, 8],\n",
       "         [9, 0, 1, 2]],\n",
       " \n",
       "        [[3, 4, 5, 6],\n",
       "         [7, 8, 9, 0]]]))"
      ]
     },
     "execution_count": 177,
     "metadata": {},
     "output_type": "execute_result"
    }
   ],
   "source": [
    "a4,a7"
   ]
  },
  {
   "cell_type": "code",
   "execution_count": 178,
   "id": "006d61c0",
   "metadata": {},
   "outputs": [
    {
     "data": {
      "text/plain": [
       "array([[[1, 2, 3, 4],\n",
       "        [5, 6, 7, 8],\n",
       "        [5, 6, 7, 8],\n",
       "        [9, 0, 1, 2]],\n",
       "\n",
       "       [[9, 0, 1, 2],\n",
       "        [3, 4, 5, 6],\n",
       "        [3, 4, 5, 6],\n",
       "        [7, 8, 9, 0]]])"
      ]
     },
     "execution_count": 178,
     "metadata": {},
     "output_type": "execute_result"
    }
   ],
   "source": [
    "np.hstack((a4,a7))"
   ]
  },
  {
   "cell_type": "markdown",
   "id": "acdfefdf",
   "metadata": {},
   "source": [
    "- dtsack -> np.dstack() stacks the arrays along the third axis i.e. depth"
   ]
  },
  {
   "cell_type": "markdown",
   "id": "bb01b61e",
   "metadata": {},
   "source": [
    "vstack -> doesn't goes inside any brackets \n",
    "\n",
    "hstack -> goes inside one bracket\n",
    "\n",
    "dstack -> goes inside two brackets"
   ]
  },
  {
   "cell_type": "code",
   "execution_count": 179,
   "id": "a2fa5673",
   "metadata": {},
   "outputs": [
    {
     "data": {
      "text/plain": [
       "array([[[1, 2, 3, 4],\n",
       "        [5, 6, 7, 8],\n",
       "        [5, 6, 7, 8],\n",
       "        [9, 0, 1, 2]],\n",
       "\n",
       "       [[9, 0, 1, 2],\n",
       "        [3, 4, 5, 6],\n",
       "        [3, 4, 5, 6],\n",
       "        [7, 8, 9, 0]]])"
      ]
     },
     "execution_count": 179,
     "metadata": {},
     "output_type": "execute_result"
    }
   ],
   "source": [
    "np.hstack((a4,a7))"
   ]
  },
  {
   "cell_type": "code",
   "execution_count": 180,
   "id": "5e89ea9f",
   "metadata": {},
   "outputs": [
    {
     "data": {
      "text/plain": [
       "(array([[[1, 2, 3, 4],\n",
       "         [5, 6, 7, 8]],\n",
       " \n",
       "        [[9, 0, 1, 2],\n",
       "         [3, 4, 5, 6]]]),\n",
       " array([[[5, 6, 7, 8],\n",
       "         [9, 0, 1, 2]],\n",
       " \n",
       "        [[3, 4, 5, 6],\n",
       "         [7, 8, 9, 0]]]))"
      ]
     },
     "execution_count": 180,
     "metadata": {},
     "output_type": "execute_result"
    }
   ],
   "source": [
    "a4, a7"
   ]
  },
  {
   "cell_type": "code",
   "execution_count": 181,
   "id": "02bff777",
   "metadata": {},
   "outputs": [
    {
     "data": {
      "text/plain": [
       "array([[[ 1,  2,  3,  4, 46, 59, 73],\n",
       "        [ 5,  6,  7,  8, 78, 94, 95],\n",
       "        [ 9,  0,  1,  2, 32, 16, 21]]])"
      ]
     },
     "execution_count": 181,
     "metadata": {},
     "output_type": "execute_result"
    }
   ],
   "source": [
    "np.dstack((a3,a8))"
   ]
  },
  {
   "cell_type": "code",
   "execution_count": 182,
   "id": "8ca0d793",
   "metadata": {},
   "outputs": [
    {
     "data": {
      "text/plain": [
       "((1, 2, 2), (1, 2, 2))"
      ]
     },
     "execution_count": 182,
     "metadata": {},
     "output_type": "execute_result"
    }
   ],
   "source": [
    "a9=np.array([[[1,2],[3,4]]])\n",
    "a10=np.array([[[5,6],[7,8]]])\n",
    "a9.shape,a10.shape"
   ]
  },
  {
   "cell_type": "code",
   "execution_count": 183,
   "id": "af783e33",
   "metadata": {},
   "outputs": [
    {
     "data": {
      "text/plain": [
       "array([[[1, 2, 5, 6],\n",
       "        [3, 4, 7, 8]]])"
      ]
     },
     "execution_count": 183,
     "metadata": {},
     "output_type": "execute_result"
    }
   ],
   "source": [
    "np.dstack((a9,a10))"
   ]
  },
  {
   "cell_type": "code",
   "execution_count": 184,
   "id": "18ab211a",
   "metadata": {},
   "outputs": [
    {
     "data": {
      "text/plain": [
       "array([[1, 2],\n",
       "       [3, 4],\n",
       "       [5, 6],\n",
       "       [7, 8]])"
      ]
     },
     "execution_count": 184,
     "metadata": {},
     "output_type": "execute_result"
    }
   ],
   "source": [
    "a13=np.array([[1,2],[3,4]])\n",
    "a14=np.array([[5,6],[7,8]])\n",
    "\n",
    "np.vstack((a13,a14))"
   ]
  },
  {
   "cell_type": "code",
   "execution_count": 185,
   "id": "664477c9",
   "metadata": {},
   "outputs": [
    {
     "data": {
      "text/plain": [
       "(array([[[1, 3],\n",
       "         [2, 4]],\n",
       " \n",
       "        [[5, 6],\n",
       "         [7, 8]]]),\n",
       " array([[[10, 30],\n",
       "         [20, 40]],\n",
       " \n",
       "        [[50, 60],\n",
       "         [70, 80]]]),\n",
       " array([[[ 1,  3],\n",
       "         [ 2,  4]],\n",
       " \n",
       "        [[ 5,  6],\n",
       "         [ 7,  8]],\n",
       " \n",
       "        [[10, 30],\n",
       "         [20, 40]],\n",
       " \n",
       "        [[50, 60],\n",
       "         [70, 80]]]))"
      ]
     },
     "execution_count": 185,
     "metadata": {},
     "output_type": "execute_result"
    }
   ],
   "source": [
    "a15 = np.array([[[1,3],[2,4]], [[5,6], [7,8]]])\n",
    "a16 = np.array([[[10,30],[20,40]], [[50,60], [70,80]]])\n",
    "a15,a16,np.vstack((a15, a16))"
   ]
  },
  {
   "cell_type": "code",
   "execution_count": 186,
   "id": "b4c02fcc",
   "metadata": {},
   "outputs": [
    {
     "data": {
      "text/plain": [
       "array([[[ 1,  3],\n",
       "        [ 2,  4],\n",
       "        [10, 30],\n",
       "        [20, 40]],\n",
       "\n",
       "       [[ 5,  6],\n",
       "        [ 7,  8],\n",
       "        [50, 60],\n",
       "        [70, 80]]])"
      ]
     },
     "execution_count": 186,
     "metadata": {},
     "output_type": "execute_result"
    }
   ],
   "source": [
    "a15 = np.array([[[1,3],[2,4]], [[5,6], [7,8]]])\n",
    "a16 = np.array([[[10,30],[20,40]], [[50,60], [70,80]]])\n",
    "np.hstack((a15, a16))"
   ]
  },
  {
   "cell_type": "code",
   "execution_count": 187,
   "id": "12b3eae7",
   "metadata": {},
   "outputs": [],
   "source": [
    "a17=np.vstack((a15,a16))"
   ]
  },
  {
   "cell_type": "code",
   "execution_count": 188,
   "id": "15be0d71",
   "metadata": {},
   "outputs": [
    {
     "data": {
      "text/plain": [
       "array([[[ 1,  3],\n",
       "        [ 2,  4]],\n",
       "\n",
       "       [[ 5,  6],\n",
       "        [ 7,  8]],\n",
       "\n",
       "       [[10, 30],\n",
       "        [20, 40]],\n",
       "\n",
       "       [[50, 60],\n",
       "        [70, 80]]])"
      ]
     },
     "execution_count": 188,
     "metadata": {},
     "output_type": "execute_result"
    }
   ],
   "source": [
    "a17"
   ]
  },
  {
   "cell_type": "code",
   "execution_count": 189,
   "id": "0ae2089e",
   "metadata": {},
   "outputs": [
    {
     "data": {
      "text/plain": [
       "(array([[12,  3, 11, 18,  2],\n",
       "        [ 9, 12, 16, 12,  2],\n",
       "        [12,  6,  8, 17, 10],\n",
       "        [16, 18,  6,  3, 17]], dtype=int32),\n",
       " array([[11, 17,  5],\n",
       "        [18, 14,  9],\n",
       "        [ 6, 10,  5],\n",
       "        [19,  8,  9],\n",
       "        [ 8,  5,  9]], dtype=int32))"
      ]
     },
     "execution_count": 189,
     "metadata": {},
     "output_type": "execute_result"
    }
   ],
   "source": [
    "a18=np.random.randint(1,20,size=(4,5))\n",
    "a19=np.random.randint(1,20,size=(5,3))\n",
    "a18,a19"
   ]
  },
  {
   "cell_type": "code",
   "execution_count": 190,
   "id": "a7d3bac2",
   "metadata": {},
   "outputs": [
    {
     "data": {
      "text/plain": [
       "(array([[610, 510, 322],\n",
       "        [655, 587, 359],\n",
       "        [691, 554, 397],\n",
       "        [729, 693, 452]], dtype=int32),\n",
       " array([[610, 510, 322],\n",
       "        [655, 587, 359],\n",
       "        [691, 554, 397],\n",
       "        [729, 693, 452]], dtype=int32))"
      ]
     },
     "execution_count": 190,
     "metadata": {},
     "output_type": "execute_result"
    }
   ],
   "source": [
    "np.dot(a18,a19),a18@a19"
   ]
  },
  {
   "cell_type": "markdown",
   "id": "70b6b4fe",
   "metadata": {},
   "source": [
    "vsplit() -> splits array into sub aarays vertically"
   ]
  },
  {
   "cell_type": "code",
   "execution_count": 191,
   "id": "671e78d5",
   "metadata": {},
   "outputs": [
    {
     "data": {
      "text/plain": [
       "[array([[[1, 3],\n",
       "         [2, 4]]]),\n",
       " array([[[5, 6],\n",
       "         [7, 8]]]),\n",
       " array([[[10, 30],\n",
       "         [20, 40]]]),\n",
       " array([[[50, 60],\n",
       "         [70, 80]]])]"
      ]
     },
     "execution_count": 191,
     "metadata": {},
     "output_type": "execute_result"
    }
   ],
   "source": [
    "np.vsplit(a17,4)        #the split won't happen if splitting the array, meant it is dividing into unequal parts \n",
    "#arg1 -> array to be passed\n",
    "#rg2 -> number of splits "
   ]
  },
  {
   "cell_type": "code",
   "execution_count": 192,
   "id": "998262a1",
   "metadata": {},
   "outputs": [
    {
     "data": {
      "text/plain": [
       "[array([[12,  3, 11, 18,  2],\n",
       "        [ 9, 12, 16, 12,  2],\n",
       "        [12,  6,  8, 17, 10]], dtype=int32),\n",
       " array([], shape=(0, 5), dtype=int32),\n",
       " array([[12,  6,  8, 17, 10],\n",
       "        [16, 18,  6,  3, 17]], dtype=int32)]"
      ]
     },
     "execution_count": 192,
     "metadata": {},
     "output_type": "execute_result"
    }
   ],
   "source": [
    "np.vsplit(a18,np.array([3,2]))      #it also splits if we provide the indices of the array "
   ]
  },
  {
   "cell_type": "markdown",
   "id": "c52ec974",
   "metadata": {},
   "source": [
    "hsplit() -> splits the array horizontally/columns into sub arrays"
   ]
  },
  {
   "cell_type": "code",
   "execution_count": 193,
   "id": "af2a2d0f",
   "metadata": {},
   "outputs": [
    {
     "data": {
      "text/plain": [
       "array([[[1, 3],\n",
       "        [2, 4]],\n",
       "\n",
       "       [[5, 6],\n",
       "        [7, 8]]])"
      ]
     },
     "execution_count": 193,
     "metadata": {},
     "output_type": "execute_result"
    }
   ],
   "source": [
    "a15"
   ]
  },
  {
   "cell_type": "code",
   "execution_count": 194,
   "id": "69d8c310",
   "metadata": {},
   "outputs": [
    {
     "data": {
      "text/plain": [
       "[array([[[1, 3]],\n",
       " \n",
       "        [[5, 6]]]),\n",
       " array([[[2, 4]],\n",
       " \n",
       "        [[7, 8]]])]"
      ]
     },
     "execution_count": 194,
     "metadata": {},
     "output_type": "execute_result"
    }
   ],
   "source": [
    "np.hsplit(a15,2)        # arg1 -> array\n",
    "#arg2 -> number of sub parts"
   ]
  },
  {
   "cell_type": "code",
   "execution_count": 195,
   "id": "e86b32b8",
   "metadata": {},
   "outputs": [
    {
     "data": {
      "text/plain": [
       "[array([[[1, 3]],\n",
       " \n",
       "        [[5, 6]]]),\n",
       " array([], shape=(2, 0, 2), dtype=int64),\n",
       " array([[[2, 4]],\n",
       " \n",
       "        [[7, 8]]])]"
      ]
     },
     "execution_count": 195,
     "metadata": {},
     "output_type": "execute_result"
    }
   ],
   "source": [
    "np.hsplit(a15,np.array([1,1]))      #can't split if resultant has unequal parts "
   ]
  },
  {
   "cell_type": "code",
   "execution_count": 196,
   "id": "dca6af47",
   "metadata": {},
   "outputs": [
    {
     "data": {
      "text/plain": [
       "[array([[[1, 2, 3, 4]],\n",
       " \n",
       "        [[9, 0, 1, 2]]]),\n",
       " array([], shape=(2, 0, 4), dtype=int64),\n",
       " array([[[5, 6, 7, 8]],\n",
       " \n",
       "        [[3, 4, 5, 6]]])]"
      ]
     },
     "execution_count": 196,
     "metadata": {},
     "output_type": "execute_result"
    }
   ],
   "source": [
    "np.hsplit(a4,np.array([1,1]))"
   ]
  },
  {
   "cell_type": "code",
   "execution_count": 197,
   "id": "a9f18422",
   "metadata": {},
   "outputs": [
    {
     "data": {
      "text/plain": [
       "[array([1, 2]), array([3, 4])]"
      ]
     },
     "execution_count": 197,
     "metadata": {},
     "output_type": "execute_result"
    }
   ],
   "source": [
    "np.hsplit(a1,2)"
   ]
  },
  {
   "cell_type": "markdown",
   "id": "48f0f5bc",
   "metadata": {},
   "source": [
    "dsplit() ->"
   ]
  },
  {
   "cell_type": "code",
   "execution_count": 198,
   "id": "a65d42cd",
   "metadata": {},
   "outputs": [
    {
     "data": {
      "text/plain": [
       "array([[[1, 3],\n",
       "        [2, 4]],\n",
       "\n",
       "       [[5, 6],\n",
       "        [7, 8]]])"
      ]
     },
     "execution_count": 198,
     "metadata": {},
     "output_type": "execute_result"
    }
   ],
   "source": [
    "a15"
   ]
  },
  {
   "cell_type": "code",
   "execution_count": 199,
   "id": "d068d783",
   "metadata": {},
   "outputs": [
    {
     "data": {
      "text/plain": [
       "[array([[[1],\n",
       "         [2]],\n",
       " \n",
       "        [[5],\n",
       "         [7]]]),\n",
       " array([[[3],\n",
       "         [4]],\n",
       " \n",
       "        [[6],\n",
       "         [8]]])]"
      ]
     },
     "execution_count": 199,
     "metadata": {},
     "output_type": "execute_result"
    }
   ],
   "source": [
    "np.dsplit(a15,2)"
   ]
  },
  {
   "cell_type": "code",
   "execution_count": 200,
   "id": "4f513c1a",
   "metadata": {},
   "outputs": [
    {
     "data": {
      "text/plain": [
       "array([[[1, 2, 3, 4],\n",
       "        [5, 6, 7, 8]],\n",
       "\n",
       "       [[9, 0, 1, 2],\n",
       "        [3, 4, 5, 6]]])"
      ]
     },
     "execution_count": 200,
     "metadata": {},
     "output_type": "execute_result"
    }
   ],
   "source": [
    "a4"
   ]
  },
  {
   "cell_type": "code",
   "execution_count": 201,
   "id": "25b54d15",
   "metadata": {},
   "outputs": [],
   "source": [
    "a21,b21=np.hsplit(a4,2)     #this way we can store splitted array into different variables"
   ]
  },
  {
   "cell_type": "code",
   "execution_count": 202,
   "id": "bc1b413b",
   "metadata": {},
   "outputs": [
    {
     "data": {
      "text/plain": [
       "array([[[5, 6, 7, 8]],\n",
       "\n",
       "       [[3, 4, 5, 6]]])"
      ]
     },
     "execution_count": 202,
     "metadata": {},
     "output_type": "execute_result"
    }
   ],
   "source": [
    "b21"
   ]
  },
  {
   "cell_type": "code",
   "execution_count": 203,
   "id": "d397d30e",
   "metadata": {},
   "outputs": [
    {
     "data": {
      "text/plain": [
       "[array([[[1, 2],\n",
       "         [5, 6]],\n",
       " \n",
       "        [[9, 0],\n",
       "         [3, 4]]]),\n",
       " array([[[3, 4],\n",
       "         [7, 8]],\n",
       " \n",
       "        [[1, 2],\n",
       "         [5, 6]]])]"
      ]
     },
     "execution_count": 203,
     "metadata": {},
     "output_type": "execute_result"
    }
   ],
   "source": [
    "np.dsplit(a4,2)"
   ]
  },
  {
   "cell_type": "markdown",
   "id": "7d13a70a",
   "metadata": {},
   "source": [
    "column_stack() -> \n",
    "1. converts 1D array into 2D array \n",
    "2. if already 2D returns transpose \n",
    "3. IF 3D matrix and number of matrix is 1 then nothing happens and just converts 3D matrix into 2D matrix\n",
    "4. In 3D , number of matrix is more than 1,then if performs hstack and converts 3D->2D\n",
    "\n",
    "\n",
    "- when merging two arrays using column stack\n",
    "1. if arrays are 1D and 2D column_stack performs dstack \n",
    "2. if arrays are 3D column_stack performs hstack"
   ]
  },
  {
   "cell_type": "code",
   "execution_count": 204,
   "id": "2656ecf1",
   "metadata": {},
   "outputs": [
    {
     "data": {
      "text/plain": [
       "(array([[1, 5],\n",
       "        [2, 6],\n",
       "        [3, 7],\n",
       "        [4, 8]]),\n",
       " array([[1, 2, 3, 4],\n",
       "        [5, 6, 7, 8]]))"
      ]
     },
     "execution_count": 204,
     "metadata": {},
     "output_type": "execute_result"
    }
   ],
   "source": [
    "np.column_stack(a2),a2"
   ]
  },
  {
   "cell_type": "code",
   "execution_count": 205,
   "id": "66861d27",
   "metadata": {},
   "outputs": [
    {
     "data": {
      "text/plain": [
       "(array([[12,  9, 12, 16],\n",
       "        [ 3, 12,  6, 18],\n",
       "        [11, 16,  8,  6],\n",
       "        [18, 12, 17,  3],\n",
       "        [ 2,  2, 10, 17]], dtype=int32),\n",
       " array([[12,  3, 11, 18,  2],\n",
       "        [ 9, 12, 16, 12,  2],\n",
       "        [12,  6,  8, 17, 10],\n",
       "        [16, 18,  6,  3, 17]], dtype=int32))"
      ]
     },
     "execution_count": 205,
     "metadata": {},
     "output_type": "execute_result"
    }
   ],
   "source": [
    "np.column_stack(a18),a18"
   ]
  },
  {
   "cell_type": "code",
   "execution_count": 206,
   "id": "98094790",
   "metadata": {},
   "outputs": [
    {
     "data": {
      "text/plain": [
       "(array([[10, 30, 50, 60],\n",
       "        [20, 40, 70, 80]]),\n",
       " array([[[10, 30],\n",
       "         [20, 40]],\n",
       " \n",
       "        [[50, 60],\n",
       "         [70, 80]]]))"
      ]
     },
     "execution_count": 206,
     "metadata": {},
     "output_type": "execute_result"
    }
   ],
   "source": [
    "np.column_stack(a16),a16"
   ]
  },
  {
   "cell_type": "code",
   "execution_count": 207,
   "id": "4edaa461",
   "metadata": {},
   "outputs": [
    {
     "data": {
      "text/plain": [
       "array([[[ 6, 19],\n",
       "        [24,  8],\n",
       "        [28, 14],\n",
       "        [21, 17]],\n",
       "\n",
       "       [[19, 19],\n",
       "        [27,  3],\n",
       "        [15,  2],\n",
       "        [22,  5]],\n",
       "\n",
       "       [[ 5, 18],\n",
       "        [ 5, 29],\n",
       "        [12, 28],\n",
       "        [ 6, 17]]], dtype=int32)"
      ]
     },
     "execution_count": 207,
     "metadata": {},
     "output_type": "execute_result"
    }
   ],
   "source": [
    "a22=np.random.randint(30,size=(3,4,2))\n",
    "a22"
   ]
  },
  {
   "cell_type": "code",
   "execution_count": 208,
   "id": "1aed4fdb",
   "metadata": {},
   "outputs": [
    {
     "data": {
      "text/plain": [
       "array([[ 6, 19, 19, 19,  5, 18],\n",
       "       [24,  8, 27,  3,  5, 29],\n",
       "       [28, 14, 15,  2, 12, 28],\n",
       "       [21, 17, 22,  5,  6, 17]], dtype=int32)"
      ]
     },
     "execution_count": 208,
     "metadata": {},
     "output_type": "execute_result"
    }
   ],
   "source": [
    "np.column_stack(a22)"
   ]
  },
  {
   "cell_type": "code",
   "execution_count": 209,
   "id": "33f20098",
   "metadata": {},
   "outputs": [
    {
     "data": {
      "text/plain": [
       "array([[[12,  5],\n",
       "        [16,  5],\n",
       "        [20, 24],\n",
       "        [26, 19]]], dtype=int32)"
      ]
     },
     "execution_count": 209,
     "metadata": {},
     "output_type": "execute_result"
    }
   ],
   "source": [
    "a23=np.random.randint(30,size=(1,4,2))\n",
    "a23"
   ]
  },
  {
   "cell_type": "code",
   "execution_count": 210,
   "id": "0f119b9a",
   "metadata": {},
   "outputs": [
    {
     "data": {
      "text/plain": [
       "array([[12,  5],\n",
       "       [16,  5],\n",
       "       [20, 24],\n",
       "       [26, 19]], dtype=int32)"
      ]
     },
     "execution_count": 210,
     "metadata": {},
     "output_type": "execute_result"
    }
   ],
   "source": [
    "np.column_stack(a23)"
   ]
  },
  {
   "cell_type": "code",
   "execution_count": 211,
   "id": "87c6ad69",
   "metadata": {},
   "outputs": [
    {
     "data": {
      "text/plain": [
       "(array([[1, 2, 3, 4]]), array([1, 2, 3, 4]))"
      ]
     },
     "execution_count": 211,
     "metadata": {},
     "output_type": "execute_result"
    }
   ],
   "source": [
    "np.column_stack(a1),a1"
   ]
  },
  {
   "cell_type": "code",
   "execution_count": 212,
   "id": "cd7c84a7",
   "metadata": {},
   "outputs": [
    {
     "data": {
      "text/plain": [
       "(array([[9, 7, 5],\n",
       "        [8, 6, 4]]),\n",
       " array([[9, 8],\n",
       "        [7, 6],\n",
       "        [5, 4]]))"
      ]
     },
     "execution_count": 212,
     "metadata": {},
     "output_type": "execute_result"
    }
   ],
   "source": [
    "np.column_stack(a5),a5"
   ]
  },
  {
   "cell_type": "code",
   "execution_count": 213,
   "id": "3dce7b43",
   "metadata": {},
   "outputs": [
    {
     "name": "stdout",
     "output_type": "stream",
     "text": [
      "hstack [1 2 3 4 5 6]\n",
      "vstack [[1 2 3]\n",
      " [4 5 6]]\n",
      "dstack [[[1 4]\n",
      "  [2 5]\n",
      "  [3 6]]]\n"
     ]
    }
   ],
   "source": [
    "a24=np.array((1,2,3))\n",
    "a25=np.array((4,5,6))\n",
    "\n",
    "print(\"hstack\",np.hstack((a24,a25)))\n",
    "print(\"vstack\",np.vstack((a24,a25)))\n",
    "print(\"dstack\",np.dstack((a24,a25)))"
   ]
  },
  {
   "cell_type": "code",
   "execution_count": 214,
   "id": "b12e1b53",
   "metadata": {},
   "outputs": [
    {
     "data": {
      "text/plain": [
       "array([[1, 4],\n",
       "       [2, 5],\n",
       "       [3, 6]])"
      ]
     },
     "execution_count": 214,
     "metadata": {},
     "output_type": "execute_result"
    }
   ],
   "source": [
    "np.column_stack((a24,a25))"
   ]
  },
  {
   "cell_type": "code",
   "execution_count": 215,
   "id": "b3f9aecf",
   "metadata": {},
   "outputs": [
    {
     "data": {
      "text/plain": [
       "(array([[7, 5, 9],\n",
       "        [4, 5, 2]], dtype=int32),\n",
       " array([[6, 0, 5],\n",
       "        [7, 1, 6]], dtype=int32))"
      ]
     },
     "execution_count": 215,
     "metadata": {},
     "output_type": "execute_result"
    }
   ],
   "source": [
    "a26=np.random.randint(10,size=(2,3))\n",
    "a27=np.random.randint(10,size=(2,3))\n",
    "a26,a27"
   ]
  },
  {
   "cell_type": "code",
   "execution_count": 216,
   "id": "e48cbdfe",
   "metadata": {},
   "outputs": [
    {
     "name": "stdout",
     "output_type": "stream",
     "text": [
      "hstack [[7 5 9 6 0 5]\n",
      " [4 5 2 7 1 6]]\n",
      "vstack [[7 5 9]\n",
      " [4 5 2]\n",
      " [6 0 5]\n",
      " [7 1 6]]\n",
      "dstack [[[7 6]\n",
      "  [5 0]\n",
      "  [9 5]]\n",
      "\n",
      " [[4 7]\n",
      "  [5 1]\n",
      "  [2 6]]]\n"
     ]
    }
   ],
   "source": [
    "print(\"hstack\",np.hstack((a26,a27)))\n",
    "print(\"vstack\",np.vstack((a26,a27)))\n",
    "print(\"dstack\",np.dstack((a26,a27)))"
   ]
  },
  {
   "cell_type": "code",
   "execution_count": 217,
   "id": "d13249ee",
   "metadata": {},
   "outputs": [
    {
     "data": {
      "text/plain": [
       "array([[7, 5, 9, 6, 0, 5],\n",
       "       [4, 5, 2, 7, 1, 6]], dtype=int32)"
      ]
     },
     "execution_count": 217,
     "metadata": {},
     "output_type": "execute_result"
    }
   ],
   "source": [
    "np.column_stack((a26,a27))"
   ]
  },
  {
   "cell_type": "code",
   "execution_count": 218,
   "id": "9b04963e",
   "metadata": {},
   "outputs": [
    {
     "data": {
      "text/plain": [
       "(array([7, 0, 1], dtype=int32), array([2, 4, 0], dtype=int32))"
      ]
     },
     "execution_count": 218,
     "metadata": {},
     "output_type": "execute_result"
    }
   ],
   "source": [
    "a28=np.random.randint(10,size=(3,))\n",
    "a29=np.random.randint(10,size=(3,))\n",
    "a28,a29"
   ]
  },
  {
   "cell_type": "code",
   "execution_count": 219,
   "id": "99d3c0ea",
   "metadata": {},
   "outputs": [
    {
     "name": "stdout",
     "output_type": "stream",
     "text": [
      "hstack [7 0 1 2 4 0]\n",
      "vstack [[7 0 1]\n",
      " [2 4 0]]\n",
      "dstack [[[7 2]\n",
      "  [0 4]\n",
      "  [1 0]]]\n"
     ]
    }
   ],
   "source": [
    "print(\"hstack\",np.hstack((a28,a29)))\n",
    "print(\"vstack\",np.vstack((a28,a29)))\n",
    "print(\"dstack\",np.dstack((a28,a29)))"
   ]
  },
  {
   "cell_type": "code",
   "execution_count": 220,
   "id": "e307107e",
   "metadata": {},
   "outputs": [
    {
     "data": {
      "text/plain": [
       "array([[7, 2],\n",
       "       [0, 4],\n",
       "       [1, 0]], dtype=int32)"
      ]
     },
     "execution_count": 220,
     "metadata": {},
     "output_type": "execute_result"
    }
   ],
   "source": [
    "np.column_stack((a28,a29))"
   ]
  },
  {
   "cell_type": "code",
   "execution_count": 221,
   "id": "18fd2efa",
   "metadata": {},
   "outputs": [
    {
     "data": {
      "text/plain": [
       "(array([[[6, 6, 8],\n",
       "         [6, 9, 5],\n",
       "         [1, 5, 9]],\n",
       " \n",
       "        [[4, 9, 8],\n",
       "         [3, 4, 6],\n",
       "         [2, 4, 7]]], dtype=int32),\n",
       " array([[[5, 1, 3],\n",
       "         [7, 4, 5],\n",
       "         [1, 2, 3]],\n",
       " \n",
       "        [[6, 1, 2],\n",
       "         [9, 6, 0],\n",
       "         [5, 3, 5]]], dtype=int32))"
      ]
     },
     "execution_count": 221,
     "metadata": {},
     "output_type": "execute_result"
    }
   ],
   "source": [
    "a30=np.random.randint(10,size=(2,3,3))\n",
    "a31=np.random.randint(10,size=(2,3,3))\n",
    "a30,a31"
   ]
  },
  {
   "cell_type": "code",
   "execution_count": 222,
   "id": "b1ea5cd0",
   "metadata": {},
   "outputs": [
    {
     "data": {
      "text/plain": [
       "array([[[6, 6, 8],\n",
       "        [6, 9, 5],\n",
       "        [1, 5, 9],\n",
       "        [5, 1, 3],\n",
       "        [7, 4, 5],\n",
       "        [1, 2, 3]],\n",
       "\n",
       "       [[4, 9, 8],\n",
       "        [3, 4, 6],\n",
       "        [2, 4, 7],\n",
       "        [6, 1, 2],\n",
       "        [9, 6, 0],\n",
       "        [5, 3, 5]]], dtype=int32)"
      ]
     },
     "execution_count": 222,
     "metadata": {},
     "output_type": "execute_result"
    }
   ],
   "source": [
    "np.column_stack((a30,a31))"
   ]
  },
  {
   "cell_type": "markdown",
   "id": "f45e35aa",
   "metadata": {},
   "source": [
    "- concatenate() -> merges two arrays into one, based on the axis"
   ]
  },
  {
   "cell_type": "code",
   "execution_count": 223,
   "id": "15b33b52",
   "metadata": {},
   "outputs": [
    {
     "data": {
      "text/plain": [
       "(array([[[1, 2, 3, 4]],\n",
       " \n",
       "        [[9, 0, 1, 2]]]),\n",
       " array([[[5, 6, 7, 8]],\n",
       " \n",
       "        [[3, 4, 5, 6]]]))"
      ]
     },
     "execution_count": 223,
     "metadata": {},
     "output_type": "execute_result"
    }
   ],
   "source": [
    "a21,b21"
   ]
  },
  {
   "cell_type": "code",
   "execution_count": 224,
   "id": "0709ee52",
   "metadata": {},
   "outputs": [
    {
     "data": {
      "text/plain": [
       "array([[[1, 2, 3, 4]],\n",
       "\n",
       "       [[9, 0, 1, 2]],\n",
       "\n",
       "       [[5, 6, 7, 8]],\n",
       "\n",
       "       [[3, 4, 5, 6]]])"
      ]
     },
     "execution_count": 224,
     "metadata": {},
     "output_type": "execute_result"
    }
   ],
   "source": [
    "np.concatenate((a21,b21))"
   ]
  },
  {
   "cell_type": "code",
   "execution_count": 225,
   "id": "4b98b054",
   "metadata": {},
   "outputs": [
    {
     "data": {
      "text/plain": [
       "array([[[1, 2, 3, 4]],\n",
       "\n",
       "       [[9, 0, 1, 2]]])"
      ]
     },
     "execution_count": 225,
     "metadata": {},
     "output_type": "execute_result"
    }
   ],
   "source": [
    "np.concatenate((a21,b21[:,:0]),axis=1) #every axis aprt from concatination axis should be same\n",
    "#like if axis==0, it performs vstack\n",
    "#if axis ==1,it performs hsatck"
   ]
  },
  {
   "cell_type": "code",
   "execution_count": 226,
   "id": "8f1335c3",
   "metadata": {},
   "outputs": [
    {
     "data": {
      "text/plain": [
       "(array([[[1, 2, 3, 4]],\n",
       " \n",
       "        [[9, 0, 1, 2]]]),\n",
       " array([[[5, 6, 7, 8]],\n",
       " \n",
       "        [[3, 4, 5, 6]]]))"
      ]
     },
     "execution_count": 226,
     "metadata": {},
     "output_type": "execute_result"
    }
   ],
   "source": [
    "a21,b21"
   ]
  },
  {
   "cell_type": "code",
   "execution_count": 227,
   "id": "f206b5d6",
   "metadata": {},
   "outputs": [
    {
     "data": {
      "text/plain": [
       "(array([[2, 8, 9],\n",
       "        [7, 3, 0],\n",
       "        [4, 6, 2]], dtype=int32),\n",
       " array([[7, 9, 3],\n",
       "        [1, 1, 9],\n",
       "        [9, 0, 8]], dtype=int32))"
      ]
     },
     "execution_count": 227,
     "metadata": {},
     "output_type": "execute_result"
    }
   ],
   "source": [
    "a32=np.random.randint(10,size=(3,3))        \n",
    "a33=np.random.randint(10,size=(3,3))\n",
    "a32,a33"
   ]
  },
  {
   "cell_type": "code",
   "execution_count": 228,
   "id": "230f9933",
   "metadata": {},
   "outputs": [
    {
     "data": {
      "text/plain": [
       "array([[2, 8, 9, 7, 9, 3],\n",
       "       [7, 3, 0, 1, 1, 9],\n",
       "       [4, 6, 2, 9, 0, 8]], dtype=int32)"
      ]
     },
     "execution_count": 228,
     "metadata": {},
     "output_type": "execute_result"
    }
   ],
   "source": [
    "np.concatenate((a32,a33),axis=1)"
   ]
  },
  {
   "cell_type": "code",
   "execution_count": 229,
   "id": "de849b76",
   "metadata": {},
   "outputs": [
    {
     "data": {
      "text/plain": [
       "(array([[2, 8, 9],\n",
       "        [7, 3, 0],\n",
       "        [4, 6, 2]], dtype=int32),\n",
       " array([[7, 1, 9],\n",
       "        [9, 1, 0],\n",
       "        [3, 9, 8]], dtype=int32))"
      ]
     },
     "execution_count": 229,
     "metadata": {},
     "output_type": "execute_result"
    }
   ],
   "source": [
    "a32,a33.T"
   ]
  },
  {
   "cell_type": "markdown",
   "id": "0ed45f8a",
   "metadata": {},
   "source": [
    "- array_split() -> splits array into multiple sub arrays"
   ]
  },
  {
   "cell_type": "code",
   "execution_count": 230,
   "id": "23e18c88",
   "metadata": {},
   "outputs": [
    {
     "data": {
      "text/plain": [
       "array([[10,  8, 99, 46, 35, 78, 79],\n",
       "       [54, 49,  6, 97, 98, 95, 49],\n",
       "       [29, 34, 54, 59, 97, 99, 13],\n",
       "       [12, 47, 83, 58, 44, 66, 31],\n",
       "       [35, 50, 90, 10, 91, 42, 43],\n",
       "       [35, 42,  3, 93, 64,  5, 10],\n",
       "       [11, 94, 81, 82, 65, 86, 34]], dtype=int32)"
      ]
     },
     "execution_count": 230,
     "metadata": {},
     "output_type": "execute_result"
    }
   ],
   "source": [
    "a34=np.random.randint(100,size=(7,7))\n",
    "a34"
   ]
  },
  {
   "cell_type": "code",
   "execution_count": 231,
   "id": "79676851",
   "metadata": {},
   "outputs": [
    {
     "data": {
      "text/plain": [
       "(array([[10,  8, 99, 46, 35, 78, 79],\n",
       "        [54, 49,  6, 97, 98, 95, 49],\n",
       "        [29, 34, 54, 59, 97, 99, 13]], dtype=int32),\n",
       " array([[12, 47, 83, 58, 44, 66, 31],\n",
       "        [35, 50, 90, 10, 91, 42, 43]], dtype=int32),\n",
       " array([[35, 42,  3, 93, 64,  5, 10],\n",
       "        [11, 94, 81, 82, 65, 86, 34]], dtype=int32))"
      ]
     },
     "execution_count": 231,
     "metadata": {},
     "output_type": "execute_result"
    }
   ],
   "source": [
    "b2,b3,b4=np.array_split(a34,3)      # if number of sub arrays is more than the size of array then,it it will create remaining arrays as empty arrays\n",
    "#it divides the array into sub arrays and doesn't worry about the equal size\n",
    "#axis=0 (by default) -> splits row wise\n",
    "#axis=1 -> splits column wise\n",
    "b2,b3,b4"
   ]
  },
  {
   "cell_type": "code",
   "execution_count": 232,
   "id": "400d6d19",
   "metadata": {},
   "outputs": [
    {
     "data": {
      "text/plain": [
       "array([ 8, 49, 34], dtype=int32)"
      ]
     },
     "execution_count": 232,
     "metadata": {},
     "output_type": "execute_result"
    }
   ],
   "source": [
    "b2[:,1]"
   ]
  },
  {
   "cell_type": "code",
   "execution_count": 246,
   "id": "879c63f7",
   "metadata": {},
   "outputs": [
    {
     "data": {
      "text/plain": [
       "array([[28, 80, 73, 46],\n",
       "       [62, 54, 80, 54],\n",
       "       [48, 51,  7, 51],\n",
       "       [63, 64, 88, 53],\n",
       "       [49, 75, 47, 16],\n",
       "       [38, 46, 59, 87]], dtype=int32)"
      ]
     },
     "execution_count": 246,
     "metadata": {},
     "output_type": "execute_result"
    }
   ],
   "source": [
    "a111=np.random.randint(100,size=(6,4))\n",
    "a111"
   ]
  },
  {
   "cell_type": "code",
   "execution_count": 256,
   "id": "5ca21070",
   "metadata": {},
   "outputs": [
    {
     "name": "stdout",
     "output_type": "stream",
     "text": [
      "[28 80 73 46]\n",
      "[62 54 80 54]\n",
      "[63 64 88 53]\n",
      "[38 46 59 87]\n"
     ]
    },
    {
     "data": {
      "text/plain": [
       "array([1, 1, 0, 1, 0, 1])"
      ]
     },
     "execution_count": 256,
     "metadata": {},
     "output_type": "execute_result"
    }
   ],
   "source": [
    "a1111=np.where(np.sum(a111,axis=1)>200,1,0)\n",
    "for i in range(len(a1111)):\n",
    "    if a1111[i]==1:\n",
    "        print(a111[i])\n",
    "a1111"
   ]
  },
  {
   "cell_type": "code",
   "execution_count": null,
   "id": "e449c67c",
   "metadata": {},
   "outputs": [],
   "source": []
  }
 ],
 "metadata": {
  "kernelspec": {
   "display_name": "Python 3",
   "language": "python",
   "name": "python3"
  },
  "language_info": {
   "codemirror_mode": {
    "name": "ipython",
    "version": 3
   },
   "file_extension": ".py",
   "mimetype": "text/x-python",
   "name": "python",
   "nbconvert_exporter": "python",
   "pygments_lexer": "ipython3",
   "version": "3.11.0"
  }
 },
 "nbformat": 4,
 "nbformat_minor": 5
}
