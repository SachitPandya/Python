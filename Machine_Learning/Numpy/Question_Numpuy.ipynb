{
 "cells": [
  {
   "cell_type": "code",
   "execution_count": 3,
   "id": "7b81ee3b",
   "metadata": {},
   "outputs": [],
   "source": [
    "import numpy as np"
   ]
  },
  {
   "cell_type": "markdown",
   "id": "0a409195",
   "metadata": {},
   "source": [
    "1. Create a NumPy array of integers from 10 to 50 (inclusive) and print all even numbers from it."
   ]
  },
  {
   "cell_type": "code",
   "execution_count": 4,
   "id": "e3aad741",
   "metadata": {},
   "outputs": [
    {
     "data": {
      "text/plain": [
       "(array([10, 12, 14, 16, 18, 20, 22, 24, 26, 28, 30, 32, 34, 36, 38, 40, 42,\n",
       "        44, 46, 48, 50]),\n",
       " array([10, 11, 12, 13, 14, 15, 16, 17, 18, 19, 20, 21, 22, 23, 24, 25, 26,\n",
       "        27, 28, 29, 30, 31, 32, 33, 34, 35, 36, 37, 38, 39, 40, 41, 42, 43,\n",
       "        44, 45, 46, 47, 48, 49, 50]))"
      ]
     },
     "execution_count": 4,
     "metadata": {},
     "output_type": "execute_result"
    }
   ],
   "source": [
    "even_number=np.arange(10,51)\n",
    "even_number1=even_number[even_number %2 ==0]\n",
    "even_number1,even_number"
   ]
  },
  {
   "cell_type": "markdown",
   "id": "b34d1e65",
   "metadata": {},
   "source": [
    "2. Generate a 3×3 identity matrix using NumPy."
   ]
  },
  {
   "cell_type": "code",
   "execution_count": 5,
   "id": "a908ecd1",
   "metadata": {},
   "outputs": [
    {
     "data": {
      "text/plain": [
       "array([[1., 0., 0.],\n",
       "       [0., 1., 0.],\n",
       "       [0., 0., 1.]])"
      ]
     },
     "execution_count": 5,
     "metadata": {},
     "output_type": "execute_result"
    }
   ],
   "source": [
    "idenitty_arr=np.identity(3)\n",
    "idenitty_arr"
   ]
  },
  {
   "cell_type": "markdown",
   "id": "23ff8dbc",
   "metadata": {},
   "source": [
    "3. Find the mean, median, and standard deviation of a NumPy array [2, 4, 6, 8, 10]."
   ]
  },
  {
   "cell_type": "code",
   "execution_count": 6,
   "id": "5fb2500f",
   "metadata": {},
   "outputs": [
    {
     "name": "stdout",
     "output_type": "stream",
     "text": [
      "6.0 6.0 2.8284271247461903\n"
     ]
    }
   ],
   "source": [
    "arr=np.array((2,4,6,8,10))\n",
    "arr_mean=np.mean(arr)\n",
    "arr_median=np.median(arr)\n",
    "arr_sd=np.std(arr)\n",
    "\n",
    "print(arr_mean,arr_median,arr_sd)"
   ]
  },
  {
   "cell_type": "markdown",
   "id": "dddd5ebc",
   "metadata": {},
   "source": [
    "4. Reshape a 1D array of 16 elements into a 4×4 matrix and print its transpose.\n",
    "\n"
   ]
  },
  {
   "cell_type": "code",
   "execution_count": 7,
   "id": "0cbaa471",
   "metadata": {},
   "outputs": [
    {
     "name": "stdout",
     "output_type": "stream",
     "text": [
      "(1, 16)\n",
      "(4, 4)\n"
     ]
    }
   ],
   "source": [
    "rnd_arr=np.random.randint(20,size=(1,16))\n",
    "print(rnd_arr.shape)\n",
    "reshape_arr=rnd_arr.reshape(4,4)\n",
    "print(reshape_arr.shape)"
   ]
  },
  {
   "cell_type": "markdown",
   "id": "be86bc6f",
   "metadata": {},
   "source": [
    "5. Create two arrays, A = [1, 2, 3] and B = [4, 5, 6]. Perform element-wise addition, subtraction, multiplication, and division using NumPy functions."
   ]
  },
  {
   "cell_type": "code",
   "execution_count": 8,
   "id": "6cd02989",
   "metadata": {},
   "outputs": [
    {
     "name": "stdout",
     "output_type": "stream",
     "text": [
      "[5 7 9] [-3 -3 -3] [ 4 10 18] [0.25 0.4  0.5 ]\n"
     ]
    }
   ],
   "source": [
    "a=np.array((1,2,3))\n",
    "b=np.array((4,5,6))\n",
    "\n",
    "addi=a+b\n",
    "sub=a-b\n",
    "mul=a*b\n",
    "div=a/b\n",
    "\n",
    "print(addi,sub,mul,div)"
   ]
  },
  {
   "cell_type": "markdown",
   "id": "ad0453d0",
   "metadata": {},
   "source": [
    "6. Create a 5×5 random matrix and replace all values greater than 0.5 with 1, and others with 0."
   ]
  },
  {
   "cell_type": "code",
   "execution_count": 9,
   "id": "569efe4d",
   "metadata": {},
   "outputs": [
    {
     "data": {
      "text/plain": [
       "array([[1., 0., 1., 1., 1.],\n",
       "       [0., 0., 0., 1., 1.],\n",
       "       [1., 1., 0., 0., 0.],\n",
       "       [0., 0., 0., 1., 1.],\n",
       "       [1., 0., 0., 1., 0.]])"
      ]
     },
     "execution_count": 9,
     "metadata": {},
     "output_type": "execute_result"
    }
   ],
   "source": [
    "arr=np.random.random((5,5))\n",
    "for i in range(len(arr)):\n",
    "    for j in range(len(arr[i])):\n",
    "        if arr[i][j]>=0.5:\n",
    "            arr[i][j]=1\n",
    "        else:\n",
    "            arr[i][j]=0\n",
    "arr"
   ]
  },
  {
   "cell_type": "markdown",
   "id": "1f9737c7",
   "metadata": {},
   "source": [
    "7. Stack two arrays vertically and horizontally. Example:\n",
    "\n",
    "A = np.array([[1,2],[3,4]])\n",
    "B = np.array([[5,6],[7,8]])"
   ]
  },
  {
   "cell_type": "code",
   "execution_count": 10,
   "id": "e5ffad1f",
   "metadata": {},
   "outputs": [
    {
     "name": "stdout",
     "output_type": "stream",
     "text": [
      "[[1 2 5 6]\n",
      " [3 4 7 8]]\n",
      "\n",
      "[[1 2]\n",
      " [3 4]\n",
      " [5 6]\n",
      " [7 8]]\n"
     ]
    }
   ],
   "source": [
    "A=np.array(((1,2),(3,4)))\n",
    "B=np.array(((5,6),(7,8)))\n",
    "A,B\n",
    "\n",
    "AB_hStack=np.hstack((A,B))\n",
    "AB_vStack=np.vstack((A,B))\n",
    "\n",
    "print(AB_hStack)\n",
    "print()\n",
    "print(AB_vStack)"
   ]
  },
  {
   "cell_type": "markdown",
   "id": "b6289dc8",
   "metadata": {},
   "source": [
    "8. Extract the diagonal elements of a given 4×4 matrix and find their sum.\n",
    "\n"
   ]
  },
  {
   "cell_type": "code",
   "execution_count": 11,
   "id": "631b26ea",
   "metadata": {},
   "outputs": [
    {
     "name": "stdout",
     "output_type": "stream",
     "text": [
      "Array is  -> \n",
      " [[ 2 67 12  5]\n",
      " [65 66 26 67]\n",
      " [63 22 36 60]\n",
      " [17 52 60 96]]\n",
      "\n",
      "Sum of Diagonal is -> 200\n"
     ]
    }
   ],
   "source": [
    "arr=np.random.randint(100,size=(4,4))\n",
    "dia_arr=np.diag(arr)\n",
    "sum=np.sum(dia_arr)\n",
    "            \n",
    "print(\"Array is  -> \\n\",arr)\n",
    "print(\"\\nSum of Diagonal is ->\",sum)        "
   ]
  },
  {
   "cell_type": "markdown",
   "id": "fb3e1ed3",
   "metadata": {},
   "source": [
    "9. Generate a random array of size 10 and normalize it so that the total sum of all elements becomes 1.\n",
    "\n"
   ]
  },
  {
   "cell_type": "code",
   "execution_count": 12,
   "id": "722d7ccd",
   "metadata": {},
   "outputs": [
    {
     "name": "stdout",
     "output_type": "stream",
     "text": [
      "Array is -> \n",
      " [48 38 68 46 92 43 91  3 68 40]\n",
      "\n",
      "Normalised Array is -> \n",
      " [0.08938547 0.0707635  0.12662942 0.08566108 0.17132216 0.08007449\n",
      " 0.16945996 0.00558659 0.12662942 0.0744879 ]\n"
     ]
    }
   ],
   "source": [
    "arr=np.random.randint(100,size=(10))\n",
    "nrm_arr=arr/np.sum(arr)\n",
    "print(\"Array is -> \\n\",arr)\n",
    "print(\"\\nNormalised Array is -> \\n\",nrm_arr)"
   ]
  },
  {
   "cell_type": "markdown",
   "id": "6c6a23fc",
   "metadata": {},
   "source": [
    "10. Write a function using NumPy that takes two matrices as input and returns their dot product if possible, otherwise prints “Matrix multiplication not possible”."
   ]
  },
  {
   "cell_type": "code",
   "execution_count": 13,
   "id": "16fe0a7a",
   "metadata": {},
   "outputs": [
    {
     "data": {
      "text/plain": [
       "array([[19, 22],\n",
       "       [43, 50]])"
      ]
     },
     "execution_count": 13,
     "metadata": {},
     "output_type": "execute_result"
    }
   ],
   "source": [
    "def dot_prod(arr1,arr2):\n",
    "    try:\n",
    "        dot_arr=np.dot(arr1,arr2)\n",
    "        return dot_arr\n",
    "    except ValueError:\n",
    "        return \"Matrix Multiplication not possible\"\n",
    "    \n",
    "x=dot_prod(A,B)\n",
    "x\n",
    "   "
   ]
  },
  {
   "cell_type": "markdown",
   "id": "52a7d42f",
   "metadata": {},
   "source": [
    "11. Broadcasting & Conditional Replacement\n",
    "\n",
    "Create a 10×10 random array of integers between 1–100. Replace all even numbers with their half value and all odd numbers with their double value using NumPy vectorized operations (without loops)."
   ]
  },
  {
   "cell_type": "code",
   "execution_count": 14,
   "id": "d808b690",
   "metadata": {},
   "outputs": [
    {
     "data": {
      "text/plain": [
       "array([[ 19.,  26., 146.,   5.,  38.,   3.,  40., 130.,  34.,   1.],\n",
       "       [154.,  36.,  14.,  13., 102.,  42.,  38., 170.,   6.,  58.],\n",
       "       [ 15.,  30., 102., 138.,  44.,  44., 190., 194., 174.,   7.],\n",
       "       [  5.,   4.,  32.,  31.,  46.,  29.,   1.,   2., 122.,  41.],\n",
       "       [ 18., 178.,   7.,  24., 146.,  62.,  36.,   2., 142.,  11.],\n",
       "       [ 25.,  29.,   2., 138.,  50.,  22., 154.,  54., 106., 162.],\n",
       "       [ 21., 166.,   8., 130., 138.,  13., 198.,  44.,   4.,  54.],\n",
       "       [ 13.,  46.,   5.,  34.,  12.,  14.,  19.,  29.,  42.,  78.],\n",
       "       [ 18.,  66.,  70.,  22.,  12.,   8.,  44.,  13.,  36., 186.],\n",
       "       [150., 126.,  94.,  66., 178.,  12.,  28.,  33.,  39.,   2.]])"
      ]
     },
     "execution_count": 14,
     "metadata": {},
     "output_type": "execute_result"
    }
   ],
   "source": [
    "np.random.seed(1)\n",
    "arr=np.random.randint(1,100,size=(10,10))\n",
    "n_arr=np.where(arr %2==0,arr/2,arr*2)\n",
    "n_arr"
   ]
  },
  {
   "cell_type": "markdown",
   "id": "5028ac01",
   "metadata": {},
   "source": [
    "12. Advanced Indexing & Masking\n",
    "\n",
    "Given a 5×5 matrix of random floats between 0–1, find and replace all elements greater than the mean of the matrix with 1 and all elements less than or equal to the mean with 0."
   ]
  },
  {
   "cell_type": "code",
   "execution_count": 15,
   "id": "a6e822d1",
   "metadata": {},
   "outputs": [
    {
     "data": {
      "text/plain": [
       "array([[1, 1, 0, 0, 1],\n",
       "       [0, 1, 1, 0, 1],\n",
       "       [0, 1, 1, 0, 1],\n",
       "       [1, 0, 1, 1, 0],\n",
       "       [1, 0, 1, 1, 0]])"
      ]
     },
     "execution_count": 15,
     "metadata": {},
     "output_type": "execute_result"
    }
   ],
   "source": [
    "arr=np.random.random((5,5)  )\n",
    "an_arr=np.where(arr>np.mean(arr),1,0)\n",
    "an_arr"
   ]
  },
  {
   "cell_type": "markdown",
   "id": "b301f360",
   "metadata": {},
   "source": [
    "13. Linear Algebra Challenge\n",
    "\n",
    "Create a 3×3 matrix with random integers between 1–10. Compute:\n",
    "\n",
    "Determinant\n",
    "\n",
    "Inverse (if possible)\n",
    "\n",
    "Eigenvalues and eigenvectors"
   ]
  },
  {
   "cell_type": "code",
   "execution_count": 16,
   "id": "ab6479b5",
   "metadata": {},
   "outputs": [
    {
     "name": "stdout",
     "output_type": "stream",
     "text": [
      "Aray is ->\n",
      " [[19  1  2]\n",
      " [12 28  7]\n",
      " [ 2 10 22]]\n",
      "\n",
      "Determinat array is -> 10251.999999999989 \n",
      "\n",
      "Inverse of the array is -> \n",
      " [[ 0.0532579  -0.00019508 -0.00477956]\n",
      " [-0.02438549  0.04038236 -0.01063207]\n",
      " [ 0.00624268 -0.01833789  0.05072181]] \n",
      "\n",
      "Eigen Values -> [35.3035533 +0.j         16.84822335+2.55598668j 16.84822335-2.55598668j] \n",
      "\n",
      "Eigen Vectors ->\n",
      " [[ 0.12270001+0.j          0.17395358+0.3327639j   0.17395358-0.3327639j ]\n",
      " [ 0.78436802+0.j          0.378115  -0.27141056j  0.378115  +0.27141056j]\n",
      " [ 0.60803907+0.j         -0.80148218+0.j         -0.80148218-0.j        ]]\n"
     ]
    }
   ],
   "source": [
    "def det(arr):\n",
    "    return np.linalg.det(arr)\n",
    "\n",
    "def inverse(arr):\n",
    "    try:\n",
    "        return np.linalg.inv(arr)\n",
    "    except np.linalg.LinAlgError:\n",
    "        return \"Array OInverse doesn't exist\"\n",
    "\n",
    "def eigen_values_and_vector(arr):\n",
    "    return np.linalg.eig(arr)\n",
    "\n",
    "\n",
    "arr=np.random.randint(30,size=(3,3))\n",
    "\n",
    "x= det(arr)\n",
    "y=inverse(arr)\n",
    "z,vect=eigen_values_and_vector(arr)\n",
    "print(\"Aray is ->\\n\",arr)\n",
    "print(\"\\nDeterminat array is ->\",x,\"\\n\\nInverse of the array is -> \\n\",y,\"\\n\\nEigen Values ->\",z,\"\\n\\nEigen Vectors ->\\n\",vect)\n"
   ]
  },
  {
   "cell_type": "markdown",
   "id": "4d616b44",
   "metadata": {},
   "source": [
    "14. Multi-dimensional Array Manipulation\n",
    "\n",
    "Create a 3×3×3 array of integers between 1–50.\n",
    "\n",
    "Compute the sum along each axis (axis 0, axis 1, axis 2).\n",
    "\n",
    "Find the maximum element in the entire 3D array and its index."
   ]
  },
  {
   "cell_type": "code",
   "execution_count": 19,
   "id": "c58dae4f",
   "metadata": {},
   "outputs": [
    {
     "name": "stdout",
     "output_type": "stream",
     "text": [
      "[[1. 1. 1.]\n",
      " [1. 1. 1.]\n",
      " [1. 1. 1.]]\n"
     ]
    },
    {
     "data": {
      "text/plain": [
       "array([[1., 1., 1.],\n",
       "       [1., 1., 1.],\n",
       "       [1., 1., 1.]])"
      ]
     },
     "execution_count": 19,
     "metadata": {},
     "output_type": "execute_result"
    }
   ],
   "source": [
    "arr1=np.random.randint(1,50,size=(3,3,3))\n",
    "sum_axis0=0\n",
    "sum_axis1=0\n",
    "sum_axis2=0\n",
    "res_arr_axis0=np.ones((3,3))\n",
    "\n",
    "print(res_arr_axis0)\n",
    "\n",
    "def axis0_sum(arr):\n",
    "    i,j,k=arr.shape\n",
    "    return res_arr_axis0\n",
    "x=axis0_sum(arr1)\n",
    "x\n"
   ]
  },
  {
   "cell_type": "code",
   "execution_count": 18,
   "id": "8ddd2694",
   "metadata": {},
   "outputs": [
    {
     "data": {
      "text/plain": [
       "array([[[26, 15, 14],\n",
       "        [21, 44,  7],\n",
       "        [14, 16, 25]],\n",
       "\n",
       "       [[10,  3,  8],\n",
       "        [ 6, 37, 38],\n",
       "        [22, 41, 14]],\n",
       "\n",
       "       [[28, 48, 14],\n",
       "        [41, 15, 46],\n",
       "        [24, 17, 29]]], dtype=int32)"
      ]
     },
     "execution_count": 18,
     "metadata": {},
     "output_type": "execute_result"
    }
   ],
   "source": [
    "arr1=np.random.randint(1,50,size=(3,3,3))\n",
    "arr1"
   ]
  },
  {
   "cell_type": "markdown",
   "id": "20394429",
   "metadata": {},
   "source": [
    "15. NumPy + Python Functions + Logic\n",
    "\n",
    "Write a function that takes a NumPy array of student marks (shape: 5 students × 5 subjects) and:\n",
    "\n",
    "Normalizes the marks of each student to a scale of 0–1.\n",
    "\n",
    "Computes the average normalized marks for each student.\n",
    "\n",
    "Returns a list of tuples: (student_index, average_normalized_mark, grade) where grade is:\n",
    "\n",
    "A → ≥0.8\n",
    "\n",
    "B → ≥0.6\n",
    "\n",
    "C → ≥0.4\n",
    "\n",
    "F → <0.4"
   ]
  },
  {
   "cell_type": "code",
   "execution_count": null,
   "id": "b4c411ae",
   "metadata": {},
   "outputs": [],
   "source": []
  }
 ],
 "metadata": {
  "kernelspec": {
   "display_name": "Python 3",
   "language": "python",
   "name": "python3"
  },
  "language_info": {
   "codemirror_mode": {
    "name": "ipython",
    "version": 3
   },
   "file_extension": ".py",
   "mimetype": "text/x-python",
   "name": "python",
   "nbconvert_exporter": "python",
   "pygments_lexer": "ipython3",
   "version": "3.11.0"
  }
 },
 "nbformat": 4,
 "nbformat_minor": 5
}
