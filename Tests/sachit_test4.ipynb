{
 "cells": [
  {
   "cell_type": "markdown",
   "id": "e4720d25",
   "metadata": {},
   "source": [
    "1. Create a lambda function to find the maximum of three numbers without using the built-in max() function.  "
   ]
  },
  {
   "cell_type": "code",
   "execution_count": 1,
   "id": "f653eb27",
   "metadata": {},
   "outputs": [
    {
     "name": "stdout",
     "output_type": "stream",
     "text": [
      "222\n"
     ]
    }
   ],
   "source": [
    "num1,num2,num3=222,99,89\n",
    "min_num=lambda x,y,z: x if x>y and y>z else (y if x<y and y>z else z)\n",
    "print(min_num(num1,num2,num3))"
   ]
  },
  {
   "cell_type": "markdown",
   "id": "2dca3e0f",
   "metadata": {},
   "source": [
    "2. Write a lambda function to extract the domain from an email address."
   ]
  },
  {
   "cell_type": "code",
   "execution_count": null,
   "id": "0a82c96c",
   "metadata": {},
   "outputs": [
    {
     "data": {
      "text/plain": [
       "'gmail.com'"
      ]
     },
     "execution_count": 2,
     "metadata": {},
     "output_type": "execute_result"
    }
   ],
   "source": [
    "given_emailID=\"Sam18@gmail.com\"\n",
    "#this function finds the \"@\" symbol in the email and prints the domain based on the index of the '@' symbol as domain always starts after the '@' symbol\n",
    "#arg -> str  output -> str\n",
    "valid_email=lambda x: x[x.find('@')+1:] if x.find('@')>0 else \"enter a valid email id\"       \n",
    "valid_email(given_emailID)"
   ]
  },
  {
   "cell_type": "markdown",
   "id": "ae4d3bb3",
   "metadata": {},
   "source": [
    "3. Write a lambda function to find the minimum value in a list of dictionaries based on a specific key."
   ]
  },
  {
   "cell_type": "code",
   "execution_count": 90,
   "id": "0e7f14fa",
   "metadata": {},
   "outputs": [
    {
     "name": "stdout",
     "output_type": "stream",
     "text": [
      "{'name': 'Mukund', 'marks': 88}\n"
     ]
    }
   ],
   "source": [
    "lst_of_dict=[{'name':'Sachit','marks':90},{'name':'Mukund','marks':88},{'name':'Ayush','marks':89}]\n",
    "min_marks= min(lst_of_dict, key=lambda x: x[\"marks\"])\n",
    "print(min_marks)"
   ]
  },
  {
   "cell_type": "markdown",
   "id": "e037aab9",
   "metadata": {},
   "source": [
    "4. Create a function that uses both local and global variables to perform a complex mathematical operation."
   ]
  },
  {
   "cell_type": "code",
   "execution_count": null,
   "id": "f639cf65",
   "metadata": {},
   "outputs": [
    {
     "name": "stdout",
     "output_type": "stream",
     "text": [
      "5040\n"
     ]
    }
   ],
   "source": [
    "import math\n",
    "#declared result as an global variable\n",
    "result = 0\n",
    "#function takes two numbers as args num1,num2->float/int \n",
    "#converts args into int and return the result after calculating the permuation of these two numbers\n",
    "#error handling has been applied as if someone puts a string in place of a number\n",
    "#output -> int\n",
    "def permutation(num1,num2):\n",
    "    global result\n",
    "    try:\n",
    "        num1=int(num1)\n",
    "        num2=int(num2)\n",
    "        result=math.perm(num1,num2)\n",
    "        return result\n",
    "    except (TypeError,ValueError):\n",
    "        return \"enter valid numbers\"\n",
    "print(permutation(7,6))"
   ]
  },
  {
   "cell_type": "markdown",
   "id": "4196bc9a",
   "metadata": {},
   "source": [
    "5. Write a function that modifies a global variable within a local scope. Explain the scope of the variables."
   ]
  },
  {
   "cell_type": "markdown",
   "id": "3eb627e8",
   "metadata": {},
   "source": [
    "A variable has types of scopes\n",
    "1. Global -> these variables can be accessed and used anywhere in the program \n",
    "2. Local -> There scope is only inside the function/method/class/loop under which they are defined if we try to access them outside it's scope it will give error \n",
    "3. NonLocal -> When in nested functions if we want to keep the changes of variable of outside function using inside functin we declare that function as nonlocal so whenever we change the value in inside function the changed value will be reflected in outside function"
   ]
  },
  {
   "cell_type": "code",
   "execution_count": 8,
   "id": "4b113be3",
   "metadata": {},
   "outputs": [
    {
     "name": "stdout",
     "output_type": "stream",
     "text": [
      "20\n",
      "10\n"
     ]
    }
   ],
   "source": [
    "#this function is first defining a variable as global then it is printing variable after that changes the value of the variable \n",
    "#output -> int\n",
    "def modify_global():\n",
    "    num1=20\n",
    "    print(num1)\n",
    "\n",
    "num1=10\n",
    "modify_global()\n",
    "#value of num1 gets back to 10 as 20 was assigned inside the function\n",
    "print(num1)"
   ]
  },
  {
   "cell_type": "markdown",
   "id": "97a91c0b",
   "metadata": {},
   "source": [
    "6. Write a program that uses a global variable to keep track of the number of times a function has been called, and the function should return this count."
   ]
  },
  {
   "cell_type": "code",
   "execution_count": 7,
   "id": "f414c6ac",
   "metadata": {},
   "outputs": [
    {
     "name": "stdout",
     "output_type": "stream",
     "text": [
      "69\n"
     ]
    }
   ],
   "source": [
    "import random\n",
    "counter=0\n",
    "#this function is incrementing the value of counter by one\n",
    "\n",
    "def increment_counter():\n",
    "    global counter\n",
    "    counter+=1\n",
    "\n",
    "#this function prints the counter value\n",
    "#output -> int\n",
    "def print_counter():\n",
    "    print(counter)\n",
    "\n",
    "#using random module to get a random number so for that number of times the increment_counter() method will run\n",
    "upper_limit=random.randrange(1,100)\n",
    "\n",
    "for i in range(upper_limit):\n",
    "    increment_counter()\n",
    "\n",
    "print_counter()"
   ]
  },
  {
   "cell_type": "markdown",
   "id": "4c9e7a5c",
   "metadata": {},
   "source": [
    "7. Create a regular expression to match valid IP addresses and return the type of IP address, i.e., IPV4/IPV6.\n",
    "IPV4 Example: 192.168.0.1\n",
    "IPV4 Range: (250-255).(200-249).(100-199).(0-99)\n",
    "       \n",
    "\n",
    "\n",
    "IPV6 Example: 2001:db8:3333:4444:CCCC:DDDD:EEEE:FFFF\n",
    "\n",
    "IPV6 Rules:\n",
    "\n",
    "\n",
    "(1.) Format: IPv6 addresses are written as eight groups of four hexadecimal digits, separated by colons. \n",
    "\n",
    "(2.) Hexadecimal: Each group represents 16 bits and can contain any value from 0000 to FFFF. \n",
    "\n",
    "(3.) Leading Zero Compression: Leading zeros within a group can be omitted, so 0042 becomes 42. \n",
    "\n",
    "(4.) Zero Compression: Consecutive blocks of zeros can be replaced with a double colon (::), but this can only be done once in an address. \n",
    "\n",
    "(5.) Single Colons: A double colon (::) can represent one or more blocks of zero    "
   ]
  },
  {
   "cell_type": "code",
   "execution_count": 15,
   "id": "0a9190e7",
   "metadata": {},
   "outputs": [
    {
     "name": "stdout",
     "output_type": "stream",
     "text": [
      "IPv4\n",
      "IPv6\n",
      "Invalid IP\n",
      "Invalid IP\n"
     ]
    }
   ],
   "source": [
    "import re\n",
    " \n",
    "def identify_ip(ip):\n",
    "    ipv4_pattern = r\"^(25[0-5])\\.(2[0-4]\\d)\\.(1\\d{2})\\.(\\d{1,2})$\"\n",
    "    ipv6_pattern = r\"^(([0-9a-fA-F]{1,4}:){7}[0-9a-fA-F]{1,4}|([0-9a-fA-F]{1,4}:){1,7}:|:([0-9a-fA-F]{1,4}:){1,7})$\"\n",
    "    \n",
    "    if re.match(ipv4_pattern, ip):\n",
    "        return \"IPv4\"\n",
    "    elif re.match(ipv6_pattern, ip):\n",
    "        return \"IPv6\"\n",
    "    else:\n",
    "        return \"Invalid IP\"\n",
    " \n",
    "print(identify_ip(\"250.249.150.45\"))\n",
    "print(identify_ip(\"2001:db8:3333:4444:CCCC:DDDD:EEEE:FFFF\"))\n",
    "print(identify_ip(\"300.10.10.10\"))\n",
    "print(identify_ip(\"2001:db8::1\"))"
   ]
  },
  {
   "cell_type": "markdown",
   "id": "4bffc788",
   "metadata": {},
   "source": [
    "8. Write a regular expression to match and extract all hashtags from a social media post."
   ]
  },
  {
   "cell_type": "code",
   "execution_count": 6,
   "id": "71612d45",
   "metadata": {},
   "outputs": [
    {
     "name": "stdout",
     "output_type": "stream",
     "text": [
      "['#living_wonderfull', '#happy']\n"
     ]
    }
   ],
   "source": [
    "#imported the re module for regular expressions\n",
    "import re\n",
    "\n",
    "#This is the pattern based on which the matching will happen and will extract all hashtags \n",
    "pattern=r\"#[0-9]*[a-zA-Z]*\\w+\"\n",
    "\n",
    "#this is the hashtag\n",
    "hashtag=\"my life #living_wonderfull peacefull #happy\"\n",
    "\n",
    "#storing all the hashtags into a list using re.findall\n",
    "lst_of_hashtags=re.findall(pattern,hashtag)\n",
    "print(lst_of_hashtags)"
   ]
  },
  {
   "cell_type": "code",
   "execution_count": 118,
   "id": "1f54436c",
   "metadata": {},
   "outputs": [
    {
     "name": "stdout",
     "output_type": "stream",
     "text": [
      "['#ayush', '#am', '#hello', '#hii']\n"
     ]
    }
   ],
   "source": [
    "import re\n",
    " \n",
    "txt_file = \"\"\"#ayush# hello #am&t\n",
    "#hello\n",
    "hello #hii bye\"\"\"\n",
    " \n",
    "extracted_tags = re.findall(r\"#+\\w+\" , txt_file )\n",
    "print(extracted_tags)"
   ]
  },
  {
   "cell_type": "markdown",
   "id": "b71dfa91",
   "metadata": {},
   "source": [
    "9. Implement a function using re.search() to find all occurrences of a word within a certain distance (e.g., within 5 words) of another word in a text."
   ]
  },
  {
   "cell_type": "code",
   "execution_count": 9,
   "id": "4e239ede",
   "metadata": {},
   "outputs": [
    {
     "name": "stdout",
     "output_type": "stream",
     "text": [
      "The word [ is ] has appeared : 3 times inside the specified distance\n",
      "[(7, 9), (1, 3), (4, 6)]\n"
     ]
    }
   ],
   "source": [
    "def find_word(input_string,input_word,distance):\n",
    "    span_of_word=[]\n",
    "    start=0\n",
    "    set_of_words=set()\n",
    "    word=input_word\n",
    "    counter=0\n",
    "    try:\n",
    "        for i in range(len(input_string)):\n",
    "            res=re.search(word,input_string[start:])\n",
    "            if res.span() not in span_of_word:\n",
    "                span_of_word.append(res.span())\n",
    "                set_of_words.add(res.span())\n",
    "                start=span_of_word[len(span_of_word)-1][1]\n",
    "        for i in range(len(span_of_word)):\n",
    "            if span_of_word[len(span_of_word)-1][1]-span_of_word[len(span_of_word)-2][1]<distance:\n",
    "                counter+=1\n",
    "\n",
    "        if counter==0:\n",
    "            print(\"The given word [\",word,\"] doesn't come under the specified distance\")\n",
    "        else: \n",
    "            print(\"The word [\",word,\"] has appeared :\",counter,\"times inside the specified distance\")\n",
    "            print(span_of_word)\n",
    "\n",
    "    except AttributeError:\n",
    "        print(\"Given word doesn't exist in the string\")\n",
    "\n",
    "str=\"Space, is is the is  final frontier, is a vast and mysterious expanse beyond Earth. It is a near-perfect vacuum, containing stars, planets, and galaxies. Space is also the realm of cosmic phenomena like nebulae and black holes. The study of space, called astronomy, helps us understand our place in the universe. \"\n",
    "find_word(str,\"is\",500000)"
   ]
  },
  {
   "cell_type": "markdown",
   "id": "0edea1e0",
   "metadata": {},
   "source": [
    "10. Implement a program using capturing groups to extract the values of named parameters from a URL, also use re.search().\n",
    "\tExtract name, age, and city from the below URL: https://example.com/page?name=John&age=30&city=NewYork"
   ]
  },
  {
   "cell_type": "code",
   "execution_count": 71,
   "id": "e2b61ca0",
   "metadata": {},
   "outputs": [
    {
     "name": "stdout",
     "output_type": "stream",
     "text": [
      "name = John honda age = 30 city = NewYork\n"
     ]
    }
   ],
   "source": [
    "given_URL=\"https://example.com/page?name=John honda&age=30&city=NewYork\"\n",
    "\n",
    "pattern=re.compile(r\"name=(?P<name>[^&]+)&age=(?P<age>\\d+)&city=(?P<city>[^&]+)\")\n",
    "# print(pattern)\n",
    "patt=re.search(pattern,given_URL)\n",
    "# print(patt)\n",
    "print('name =',patt.group(1),'age =',patt.group(2),'city =',patt.group(3))"
   ]
  },
  {
   "cell_type": "code",
   "execution_count": null,
   "id": "796b8794",
   "metadata": {},
   "outputs": [],
   "source": []
  }
 ],
 "metadata": {
  "kernelspec": {
   "display_name": "Python 3",
   "language": "python",
   "name": "python3"
  },
  "language_info": {
   "codemirror_mode": {
    "name": "ipython",
    "version": 3
   },
   "file_extension": ".py",
   "mimetype": "text/x-python",
   "name": "python",
   "nbconvert_exporter": "python",
   "pygments_lexer": "ipython3",
   "version": "3.11.0"
  }
 },
 "nbformat": 4,
 "nbformat_minor": 5
}
