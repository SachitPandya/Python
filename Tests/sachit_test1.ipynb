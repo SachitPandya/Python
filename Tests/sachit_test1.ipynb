{
 "cells": [
  {
   "cell_type": "markdown",
   "id": "752b54f1",
   "metadata": {},
   "source": [
    "1. You are given a list of integers where each value represents the index to jump to next. Write a function to detect if there's a loop (infinite cycle)."
   ]
  },
  {
   "cell_type": "code",
   "execution_count": 7,
   "id": "9ec1b295",
   "metadata": {},
   "outputs": [],
   "source": [
    "def count_length(item_of_which_you_want_length):\n",
    "    counter=0\n",
    "    for item in item_of_which_you_want_length:\n",
    "        counter+=1\n",
    "    return counter"
   ]
  },
  {
   "cell_type": "code",
   "execution_count": 8,
   "id": "300824c0",
   "metadata": {},
   "outputs": [
    {
     "name": "stdout",
     "output_type": "stream",
     "text": [
      "There is an infinite loop\n"
     ]
    }
   ],
   "source": [
    "def check_infinite_loop(input_list):\n",
    "    counter=0\n",
    "    length_of_list=count_length(input_list)\n",
    "    index=0\n",
    "    while counter<=length_of_list:\n",
    "        if  input_list[index] < length_of_list:\n",
    "            index=input_list[index]\n",
    "        else:\n",
    "            print(\"There is no infinite loop\")\n",
    "            break\n",
    "        counter+=1\n",
    "\n",
    "        if counter>length_of_list:\n",
    "            print(\"There is an infinite loop\")\n",
    "\n",
    "given_list=[1,2,1,3,4]\n",
    "check_infinite_loop(given_list)   \n"
   ]
  },
  {
   "cell_type": "code",
   "execution_count": 9,
   "id": "23c4d602",
   "metadata": {},
   "outputs": [
    {
     "name": "stdout",
     "output_type": "stream",
     "text": [
      "infinite loop\n"
     ]
    }
   ],
   "source": [
    "\"\"\"in this code the function is performing the task of of jumping the indexes the number of times the the values is on that index \n",
    "Eg -> in starting the index is at [0] and it's value is 4 so it will jump four places and go to 4th index with value -1...\n",
    "this will continue untill if we are out of the list or the counter is > len(list)\"\"\"\n",
    "def inifinite_loop(in_str):\n",
    "    counter=0\n",
    "    length=count_length(in_str)\n",
    "    ind=0\n",
    "    while counter<=length:\n",
    "        if ind < length:\n",
    "            ind+=in_str[ind]\n",
    "        else:\n",
    "            print(\"no infinite loop\")\n",
    "            break\n",
    "        counter+=1\n",
    "                        \n",
    "        if counter>length:\n",
    "            print(\"infinite loop\")\n",
    "\n",
    "giv_list=[4,1,-1,0,-1]\n",
    "inifinite_loop(giv_list)"
   ]
  },
  {
   "cell_type": "markdown",
   "id": "a307794c",
   "metadata": {},
   "source": [
    "2. Given a list of integers and a target number, return the indices of two numbers that add up to the target."
   ]
  },
  {
   "cell_type": "code",
   "execution_count": 10,
   "id": "b8a31871",
   "metadata": {},
   "outputs": [
    {
     "name": "stdout",
     "output_type": "stream",
     "text": [
      "[(1, 4), (2, 3), (2, 6), (3, 2), (4, 1), (4, 5), (4, 7), (5, 4), (6, 2), (7, 4)]\n"
     ]
    }
   ],
   "source": [
    "given_list=[1,2,3,4,5,2,4,2]\n",
    "target=7\n",
    "counter=count_length(given_list)\n",
    "indices=[]\n",
    "num1=0\n",
    "index,indix=0,0\n",
    "\n",
    "while num1 < counter:\n",
    "    num2=0\n",
    "    while num2 < counter:\n",
    "        if given_list[num1]+given_list[num2]==target:\n",
    "            indices+=[(num1,num2)]\n",
    "        num2+=1\n",
    "    num1+=1\n",
    "\n",
    "    \n",
    "    # while index < count_length(indices):\n",
    "    #     while indix < count_length(indices):\n",
    "    #         if indices[index]==indices[indix]:\n",
    "    #             indices=indices[:index]+indices[index+1:]\n",
    "    #         indix+=1\n",
    "    #     index+=1\n",
    "\n",
    "print(indices)"
   ]
  },
  {
   "cell_type": "markdown",
   "id": "95959c1a",
   "metadata": {},
   "source": [
    "3. Write a function that checks if brackets in a string are balanced. Consider {}, [], and () as valid brackets."
   ]
  },
  {
   "cell_type": "code",
   "execution_count": 11,
   "id": "de21b7ef",
   "metadata": {},
   "outputs": [
    {
     "name": "stdout",
     "output_type": "stream",
     "text": [
      "Hello {my na }me is[\n"
     ]
    }
   ],
   "source": [
    "def is_brackets_balanced(string_to_be_checked):\n",
    "    counter=count_length(string_to_be_checked)\n",
    "    result_string=\" \"\n",
    "    index=0\n",
    "    while index <= counter:\n",
    "        if \"[\" or \"{\" or \"(\" in string_to_be_checked:\n",
    "           if index==\"}\"or \"]\" or \")\":\n",
    "               result_string=string_to_be_checked[:index]+string_to_be_checked[index+1:]\n",
    "        \n",
    "        index+=1\n",
    "    print(result_string)            \n",
    "\n",
    "\n",
    "input_string=\"Hello {my na }me is[\"\n",
    "is_brackets_balanced(input_string)"
   ]
  },
  {
   "cell_type": "code",
   "execution_count": 12,
   "id": "c70fe09c",
   "metadata": {},
   "outputs": [],
   "source": [
    "def count_item(str,item,end_index=count_length(str)):\n",
    "    count_item=0\n",
    "    for i in str:\n",
    "        if item ==i :\n",
    "            count_item+=1\n",
    "    return count_item\n",
    "\n",
    "# for i in range(len(lst)):\n",
    "    # for j in lst[i]:\n"
   ]
  },
  {
   "cell_type": "code",
   "execution_count": 27,
   "id": "d24cd6a7",
   "metadata": {},
   "outputs": [
    {
     "name": "stdout",
     "output_type": "stream",
     "text": [
      "string not balanced\n",
      "Total time 0.0\n",
      "152\n"
     ]
    }
   ],
   "source": [
    "import sys\n",
    "import time\n",
    "\n",
    "def is_brackets_balanced(str):\n",
    "    counter=count_length(str)\n",
    "    i=0\n",
    "    while i<=counter:\n",
    "        i+=1\n",
    "        # if ((count_item(str,\"[\") + count_item(str,\"]\")) %2 ==0  and count_item(str,\"[\") == count_item(str,\"]\"))\\\n",
    "        #     and (count_item(str,\"{\") + count_item(str,\"}\"))  %2 ==0 and count_item(str,\"{\") == count_item(str,\"}\") \\\n",
    "        #     and (count_item(str,\"(\") + count_item(str,\")\")) %2 ==0  and count_item(str,\"(\") == count_item(str,\")\"):\n",
    "        if str==\" \"*counter:\n",
    "            print(\"Space bar not allowed\")\n",
    "            break\n",
    "        else:\n",
    "            if count_length(str)<1:\n",
    "                print(\"entr a string of minimum length 1\")\n",
    "                break\n",
    "\n",
    "            elif (count_item(str,\"[\") == count_item(str,\"]\"))and count_item(str,\"{\") == count_item(str,\"}\") \\\n",
    "                and  count_item(str,\"(\") == count_item(str,\")\"):\n",
    "                print(\"string balanced\")\n",
    "                break\n",
    "            else: \n",
    "                print(\"string not balanced\")\n",
    "                break\n",
    "str=\"}}{{{{} \"\n",
    "\n",
    "# str1=input()\n",
    "start_time=time.time()\n",
    "is_brackets_balanced(str)\n",
    "end_time=time.time()\n",
    "total_time=end_time-start_time\n",
    "print(\"Total time\",total_time)\n",
    "print(sys.getsizeof(is_brackets_balanced))"
   ]
  },
  {
   "cell_type": "code",
   "execution_count": 14,
   "id": "e4b6a18a",
   "metadata": {},
   "outputs": [],
   "source": [
    "given_brackets_string = \"[\"\n",
    " \n",
    "if (given_brackets_string.count('[') + given_brackets_string.count(']')) % 2 == 0 and (given_brackets_string.count('[') == given_brackets_string.count(']')):\n",
    "    if (given_brackets_string.count('(') + given_brackets_string.count(')')) % 2 == 0 and (given_brackets_string.count('(') == given_brackets_string.count(')')):\n",
    "        if (given_brackets_string.count('{') + given_brackets_string.count(']')) % 2 == 0 and (given_brackets_string.count('{') == given_brackets_string.count('}')):\n",
    "            print(\"string is balanced\")\n",
    "        else :\n",
    "            print(\"string is not balanced\")         \n"
   ]
  },
  {
   "cell_type": "markdown",
   "id": "af40571f",
   "metadata": {},
   "source": [
    "4. Write a program to construct a magic square, where each row, column, and diagonal sum to the same value."
   ]
  },
  {
   "cell_type": "code",
   "execution_count": 47,
   "id": "11480f46",
   "metadata": {},
   "outputs": [
    {
     "name": "stdout",
     "output_type": "stream",
     "text": [
      "[[8, 1, 6], [3, 5, 7], [4, 9, 2]]\n"
     ]
    }
   ],
   "source": [
    "number=int(input(\"enter the size of square matrix:\"))\n",
    "# magic_square=np.zeror(row,column)\n",
    "row = 0\n",
    "column = number//2\n",
    "# print(row,column)\n",
    "magic_square=[[0 for _ in range(number)] for _ in range(number)]\n",
    "# print(magic_square)\n",
    "# item=1\n",
    "# while item <=(number*number):\n",
    "for item in range(1,(number*number)+1):\n",
    "    # magic_square[row][column] ==0\n",
    "\n",
    "    magic_square[row][column]=item\n",
    "\n",
    "    row=(row-1)%number\n",
    "    column=(column+1)%number\n",
    "\n",
    "    if magic_square[row][column]!=0:\n",
    "        row=(row+2)%number\n",
    "        column=(column-1)%number\n",
    "\n",
    "\n",
    "print(magic_square)\n"
   ]
  },
  {
   "cell_type": "code",
   "execution_count": 38,
   "id": "ecd06d18",
   "metadata": {},
   "outputs": [
    {
     "name": "stdout",
     "output_type": "stream",
     "text": [
      "[[8, 1, 6], [3, 5, 7], [4, 9, 2]]\n"
     ]
    }
   ],
   "source": [
    "n=int(input(\"enter size\"))\n",
    "square=[[0 for _ in range(n)] for _ in range(n)]\n",
    " \n",
    "i=0\n",
    "j=n//2\n",
    "for val in range(1,n*n+1):\n",
    "    square[i][j]=val\n",
    "    i=(i-1)%n\n",
    "    j=(j+1)%n\n",
    "    if square[i][j]!=0:\n",
    "        i=(i+2)%n\n",
    "        j=(j-1)%n\n",
    " \n",
    "print(square)"
   ]
  },
  {
   "cell_type": "markdown",
   "id": "0b1ec0fa",
   "metadata": {},
   "source": [
    "5. Arrange n people in a circle and kill every kth person until only one remains. Find the survivor based on initial position and k.\n"
   ]
  },
  {
   "cell_type": "code",
   "execution_count": 16,
   "id": "e6b91b7f",
   "metadata": {},
   "outputs": [
    {
     "name": "stdout",
     "output_type": "stream",
     "text": [
      "[4]\n"
     ]
    }
   ],
   "source": [
    "initial_survivors= [1,2,3,4,5]\n",
    "step=2\n",
    "index=0\n",
    "counter=count_length(initial_survivors)\n",
    "while index < counter:\n",
    "    counter=count_length(initial_survivors)\n",
    "    # print(initial_survivors[index])\n",
    "    index=(index+step)%counter\n",
    "    initial_survivors=initial_survivors[:index] + initial_survivors[index+1:]\n",
    "\n",
    "    if count_length(initial_survivors)==1:\n",
    "        print(initial_survivors)\n",
    "        break\n",
    "    # elif index>counter:\n",
    "    #     rem_length=count_length(initial_survivors[index:])\n",
    "    #     index=step-rem_length\n",
    "    #     print(index,rem_length)"
   ]
  },
  {
   "cell_type": "code",
   "execution_count": 17,
   "id": "39d2463d",
   "metadata": {},
   "outputs": [
    {
     "name": "stdout",
     "output_type": "stream",
     "text": [
      "initial_survivors\n"
     ]
    }
   ],
   "source": [
    "for index in initial_survivors:\n",
    "    initial_survivors=initial_survivors[:index+step] + initial_survivors[index+step+1:]\n",
    "    index+=step\n",
    "    if index > counter:\n",
    "        rem_length=count_length(initial_survivors[index:])\n",
    "        index=(step-rem_length)%counter\n",
    "        \n",
    "    if count_length(initial_survivors)==1:\n",
    "        print(\"initial_survivors\")\n",
    "    else:\n",
    "        print(initial_survivors,\"no\")"
   ]
  },
  {
   "cell_type": "code",
   "execution_count": 18,
   "id": "15a1a630",
   "metadata": {},
   "outputs": [
    {
     "name": "stdout",
     "output_type": "stream",
     "text": [
      "[4]\n"
     ]
    }
   ],
   "source": [
    "def survivors(initial_list):\n",
    "    index=0\n",
    "    step=2\n",
    "    for i in initial_list:\n",
    "        count=count_length(initial_list)\n",
    "        index=(index+step)%count\n",
    "        initial_list=initial_list[:index]+initial_list[index+1:]\n",
    "        # print(index,count)\n",
    "        if count_length(initial_list)==1:\n",
    "            print(initial_list)\n",
    "            break\n",
    "\n",
    "giv_list=[1,2,3,4,5]\n",
    "survivors(giv_list)"
   ]
  },
  {
   "cell_type": "code",
   "execution_count": 19,
   "id": "6ff8a36e",
   "metadata": {},
   "outputs": [
    {
     "name": "stdout",
     "output_type": "stream",
     "text": [
      "People killed: [9, 3, 3, 3, 1, 6, 8]\n",
      "Survivor: 7\n"
     ]
    }
   ],
   "source": [
    "# 5. Arrange n people in a circle and kill every kth person until only one remains. Find the survivor based on initial position and k.\n",
    "l = [1, 3, 6,9, 3,7, 8, 3]\n",
    "k = 3\n",
    "i = 0  \n",
    "l1 = []  # To store the killed people\n",
    " \n",
    "while len(l) > 1:\n",
    "        # Calculate the next index to remove using modulo to handle the circular nature\n",
    "    i = (i + k ) % len(l)  # `k-1` to match the correct index after each kill\n",
    "    s = l.pop(i)  # Remove the person at the index and store the value\n",
    "    l1.append(s)  # Append the killed person to the list l1\n",
    " \n",
    "# After the loop ends, there will be only one person left\n",
    "print(f\"People killed: {l1}\")\n",
    "print(f\"Survivor: {l[0]}\")"
   ]
  },
  {
   "cell_type": "markdown",
   "id": "e28bc33f",
   "metadata": {},
   "source": [
    "6. Given a string, find the longest substring without repeating characters."
   ]
  },
  {
   "cell_type": "code",
   "execution_count": 20,
   "id": "d6826021",
   "metadata": {},
   "outputs": [
    {
     "name": "stdout",
     "output_type": "stream",
     "text": [
      "helo my na\n"
     ]
    }
   ],
   "source": [
    "input_string=\"helo my name is sam\"\n",
    "sub_str=\"\"\n",
    "for index in input_string:\n",
    "    if index not in sub_str:\n",
    "        sub_str=sub_str+index\n",
    "    elif index==\" \":\n",
    "        sub_str=sub_str+index\n",
    "    else:\n",
    "        break\n",
    "print(sub_str)"
   ]
  },
  {
   "cell_type": "code",
   "execution_count": 21,
   "id": "6930b69f",
   "metadata": {},
   "outputs": [
    {
     "name": "stdout",
     "output_type": "stream",
     "text": [
      "['h', 'e', 'y', ' ', 'h', 'o', 'w', ' ', 'a', 'r', 'e', ' ', 'u', ' ', 'b', 'b', 'b', 'b', 'b', 'b', 'b', 'b', 'b', 'b', 'b', 'b', 'b', 'b', 'b', 'b', 'b', 'b', 'b', 'b', 'b', 'b', 'b', 'b', 'b', 'b', 'b', 'b', 'b', 'b', 'b', 'b', 'b', 'b', 'b', 'b', 'b', 'b', 'b', 'b', 'b', 'h', 'e', 'y', ' ', 'h', 'o', 'w', ' ', 'a', 'r', 'e', ' ', 'u', ' ', 'b', 'b', 'b', 'b', 'b', 'b', 'b', 'b', 'b', 'b', 'b', 'b', 'b', 'b', 'b', 'b', 'b', 'b', 'b', 'b', 'b', 'b', 'b', 'b', 'b', 'b', 'b', 'b', 'b', 'b', 'b', 'b', 'b', 'b', 'b', 'b', 'b', 'b', 'b', 'b', 'b']\n"
     ]
    }
   ],
   "source": [
    "input_string=\"hey how are u bbbbbbbbbbbbbbbbbbbbbbbbbbbbbbbbbbbbbbbbb\"\n",
    "lst=[]\n",
    "set1=[]\n",
    "i=0\n",
    "while i < count_length(input_string):\n",
    "    if input_string[i] not in set1:\n",
    "        set1+=input_string[i]\n",
    "        # print(set1)\n",
    "    elif input_string[i] in set1:\n",
    "        if input_string[i]==\" \":\n",
    "            lst+=input_string[:i]+input_string[i:]\n",
    "        else:\n",
    "            i+=1\n",
    "        # print(lst)\n",
    "    \n",
    "    elif input_string[i]==\" \":\n",
    "        lst=input_string[i]\n",
    "    i+=1\n",
    "\n",
    "print(lst)"
   ]
  },
  {
   "cell_type": "code",
   "execution_count": 22,
   "id": "62af232d",
   "metadata": {},
   "outputs": [
    {
     "name": "stdout",
     "output_type": "stream",
     "text": [
      "3\n"
     ]
    }
   ],
   "source": [
    "def substring(s):\n",
    "    index = {}  \n",
    "    start = 0        \n",
    "    max_len = 0\n",
    " \n",
    "    for i in range(len(s)):\n",
    "      if s[i] in index and index[s[i]] >= start:\n",
    "        start = index[s[i]] + 1\n",
    " \n",
    "      index[s[i]] = i\n",
    "      current_len = i - start + 1      \n",
    "      #print(s)\n",
    " \n",
    "      max_len = max(max_len, current_len)  \n",
    "    return max_len\n",
    "\n",
    "print(substring(\"hello\"))"
   ]
  },
  {
   "cell_type": "code",
   "execution_count": 23,
   "id": "92857750",
   "metadata": {},
   "outputs": [
    {
     "ename": "SyntaxError",
     "evalue": "incomplete input (3872016282.py, line 2)",
     "output_type": "error",
     "traceback": [
      "  \u001b[36mCell\u001b[39m\u001b[36m \u001b[39m\u001b[32mIn[23]\u001b[39m\u001b[32m, line 2\u001b[39m\n\u001b[31m    \u001b[39m\n    ^\n\u001b[31mSyntaxError\u001b[39m\u001b[31m:\u001b[39m incomplete input\n"
     ]
    }
   ],
   "source": [
    "def max_sub_str(str):\n",
    "    "
   ]
  },
  {
   "cell_type": "code",
   "execution_count": null,
   "id": "866a984b",
   "metadata": {},
   "outputs": [
    {
     "name": "stdout",
     "output_type": "stream",
     "text": [
      "['{']\n",
      "['{']\n",
      "Not Balanced\n",
      "['{']\n"
     ]
    }
   ],
   "source": [
    "def balanced(st):\n",
    "    list1 = []\n",
    "    for i in st:\n",
    "        if i == '{' or i == '(' or i == '[':\n",
    "            list1.append(i)\n",
    "    print(list1)\n",
    "    for j in range(len(list1)):\n",
    "        if list1[j] == \"}\":\n",
    "            list1.remove(\"{\")\n",
    "        elif list1[j] == \"]\":\n",
    "            list1.remove(\"[\")\n",
    "        elif list1[j] == \")\":\n",
    "            list1.remove(\"(\")\n",
    "    print(list1)\n",
    "\n",
    "    if (len(list1) != 0):\n",
    "        print(\"Not Balanced\")      \n",
    "    else:\n",
    "        print(\"Balanced\")    \n",
    "    print(list1)\n",
    "balanced(\"{}}\")\n",
    "\n",
    "# print(sys.getsizeof(balanced))\n",
    " "
   ]
  },
  {
   "cell_type": "code",
   "execution_count": null,
   "id": "85b437f0",
   "metadata": {},
   "outputs": [
    {
     "name": "stdout",
     "output_type": "stream",
     "text": [
      "f ['(']\n",
      "f ['(', ')']\n",
      ") ['(', ')']\n",
      "( ['(', ')']\n",
      "[')']\n",
      "not\n"
     ]
    }
   ],
   "source": [
    "def is_balanced(str):\n",
    "    lst1=[]\n",
    "    for i in str:\n",
    "        if i == '{' or '[' or '(':\n",
    "            lst1+=i\n",
    "        \n",
    "        print(\"f\",lst1)\n",
    "\n",
    "        if i==\"]\":\n",
    "            print(\"]\",lst1)\n",
    "            if \"[\" in lst1:\n",
    "                lst1.remove(\"[\")\n",
    "        elif i ==\"}\":\n",
    "            if \"{\" in lst1:\n",
    "                lst1.remove(\"{\")\n",
    "        elif i==\")\":\n",
    "            print(\")\",lst1)\n",
    "            if \"(\" in lst1:\n",
    "                print(\"(\",lst1)\n",
    "                lst1.remove(\"(\")\n",
    "\n",
    "    print(lst1)\n",
    "    if count_length(lst1)==0:\n",
    "        print(\"balanced\")\n",
    "    else: \n",
    "        print(\"not\")\n",
    "is_balanced(\"()\")"
   ]
  },
  {
   "cell_type": "code",
   "execution_count": 32,
   "id": "12ffa184",
   "metadata": {},
   "outputs": [
    {
     "name": "stdout",
     "output_type": "stream",
     "text": [
      "balanced\n"
     ]
    }
   ],
   "source": [
    "def is_balanced(str):\n",
    "    f=0\n",
    "    lst = []\n",
    "    for i in str:\n",
    "        if i == \"[\":\n",
    "            lst += i\n",
    "        elif i == \"(\":\n",
    "            lst += i\n",
    "        elif i == \"{\":\n",
    "            lst += i\n",
    " \n",
    "        elif i == \"]\":\n",
    "            if \"[\" in lst:\n",
    "                lst.remove(\"[\")\n",
    "            else:\n",
    "                # print(\"not balanced\")\n",
    "                f=1\n",
    "                \n",
    " \n",
    "        elif i == \"}\":\n",
    "            if \"{\" in lst:\n",
    "                lst.remove(\"{\")\n",
    "            else:\n",
    "                # print(\"not balanced\")\n",
    "                f=1\n",
    "                \n",
    " \n",
    "        elif i == \")\":\n",
    "            if \"(\" in lst:\n",
    "                lst.remove(\"(\")\n",
    "            else:\n",
    "                # print(\"not balanced\")\n",
    "                f=1\n",
    "                \n",
    "    else:\n",
    "        if len(lst) == 0:\n",
    "            print(\"balanced\")\n",
    "        else:\n",
    "            if f==1:\n",
    "                print(\"not balanced\")\n",
    "\n",
    "s = \"{{}{}}\"\n",
    "is_balanced(s)"
   ]
  },
  {
   "cell_type": "code",
   "execution_count": null,
   "id": "5b9974ab",
   "metadata": {},
   "outputs": [],
   "source": []
  }
 ],
 "metadata": {
  "kernelspec": {
   "display_name": "Python 3",
   "language": "python",
   "name": "python3"
  },
  "language_info": {
   "codemirror_mode": {
    "name": "ipython",
    "version": 3
   },
   "file_extension": ".py",
   "mimetype": "text/x-python",
   "name": "python",
   "nbconvert_exporter": "python",
   "pygments_lexer": "ipython3",
   "version": "3.11.0"
  }
 },
 "nbformat": 4,
 "nbformat_minor": 5
}
