{
 "cells": [
  {
   "cell_type": "markdown",
   "id": "66e19ff5",
   "metadata": {},
   "source": [
    "Que 1: Write a program to manage a shopping cart using functions. Include a global cart_total variable and show how local and global variables work when adding items."
   ]
  },
  {
   "cell_type": "code",
   "execution_count": null,
   "id": "ebdeab47",
   "metadata": {},
   "outputs": [
    {
     "name": "stdout",
     "output_type": "stream",
     "text": [
      "{'cricket bat': 30000, 'ball': 200}\n",
      "\n",
      "And total amount of the cart is 30200.0\n",
      "\n",
      "{'cricket bat': 30000}\n",
      "\n",
      "And total amount of the cart is 30000.0\n"
     ]
    }
   ],
   "source": [
    "#This function takes the item and it's value as an input and adds them into the cart\n",
    "# param  item->str     \n",
    "# value-> int/float\n",
    "\n",
    "def add_item(item,value,quantity):          \n",
    "    global cart_total               #This is the total amount of items in the cart .\n",
    "    global cart_items               #This is a dictionary storing the item in form of name and its cost\n",
    "    \n",
    "    cart_total += float(value)      #here im typecasting the value into float because if in case value came in form a str it should not give an error \n",
    "    cart_items[item]=value          \n",
    "\n",
    "#This function removs the item form the cart\n",
    "# param item -> str\n",
    "def remove_item(item):\n",
    "    global cart_total               \n",
    "    cart_total-=cart_items.get(item)        #This is the total amount of items in the cart \n",
    "    cart_items.pop(item)\n",
    "    # print(cart_total)\n",
    "    \n",
    "#This function shows all the items in the cart \n",
    "def show_cart():\n",
    "    print(cart_items)\n",
    "    print()\n",
    "    print(\"And total amount of the cart is\",cart_total)\n",
    "\n",
    "cart_total=0\n",
    "cart_items={}\n",
    "\n",
    "add_item(\"cricket bat\",30000)\n",
    "add_item(\"ball\",200)\n",
    "show_cart()\n",
    "remove_item(\"ball\")\n",
    "print()\n",
    "show_cart()"
   ]
  },
  {
   "cell_type": "markdown",
   "id": "bb484e14",
   "metadata": {},
   "source": [
    "Que 2: From a given list of words, generate a dictionary where keys are words and values are the length of each word using list comprehension and dictionary comprehension."
   ]
  },
  {
   "cell_type": "code",
   "execution_count": 148,
   "id": "a3fbb067",
   "metadata": {},
   "outputs": [
    {
     "name": "stdout",
     "output_type": "stream",
     "text": [
      "{'hello': 5, 'my': 2, 'name': 4, 'is': 2, ' sam': 4}\n"
     ]
    }
   ],
   "source": [
    "input_str=[\"hello\",\"my\",\"name\", \"is\",\" sam\" ]       #this is my input string\n",
    "#code here is taking 2 param words and it's length from input_sting and we are using the split function to break the string\n",
    "# and storing it in a variable in form of list of tuples \n",
    "length_of_words=[(words,len(words)) for words in input_str]    \n",
    "length_of_words=dict(length_of_words)       #here list of tuple is converted into a dictionary\n",
    "print(length_of_words)"
   ]
  },
  {
   "cell_type": "code",
   "execution_count": 146,
   "id": "19e8e3a7",
   "metadata": {},
   "outputs": [
    {
     "name": "stdout",
     "output_type": "stream",
     "text": [
      "{'hello': 5, 'my': 2, 'name': 4, 'is': 2, ' sam': 4}\n"
     ]
    }
   ],
   "source": [
    "input_str=[\"hello\",\"my\",\"name\", \"is\",\" sam\" ]       #this is my input string\n",
    "#code here is taking 2 param words and it's length from input_sting and we are using the split function to break the string\n",
    "# and storing it in a variable in form of list of tuples \n",
    "length_of_words={words:len(words) for words in input_str}  \n",
    "# length_of_words=dict(length_of_words)       #here list of tuple is converted into a dictionary\n",
    "print(length_of_words)"
   ]
  },
  {
   "cell_type": "markdown",
   "id": "3e5b6419",
   "metadata": {},
   "source": [
    "Que 3: Read a file students.txt containing names and scores. Each line is like Name,Score. Calculate and print the average score. Also handle missing or malformed lines."
   ]
  },
  {
   "cell_type": "code",
   "execution_count": null,
   "id": "a8766b8e",
   "metadata": {},
   "outputs": [],
   "source": [
    "import os\n",
    "base_pth=os.getcwd()            #\n",
    "file_name=\"students.txt\"\n",
    "file_path=os.path.join(base_pth,file_name)          "
   ]
  },
  {
   "cell_type": "code",
   "execution_count": 43,
   "id": "948b2014",
   "metadata": {},
   "outputs": [
    {
     "name": "stdout",
     "output_type": "stream",
     "text": [
      "['Sachit,80', 'Ayush,79', 'Mukund,79', 'Dusht,81', 'Mukul,89', 'Sumit,90', 'Nehal,78']\n",
      "\n",
      "['80', '79', '79', '81', '89', '90', '78']\n",
      "\n",
      "Sum is 576 And average is 82.28571428571429\n"
     ]
    }
   ],
   "source": [
    "with open(file_path,\"r\") as file:\n",
    "    content=file.read()\n",
    "# print(content)\n",
    "content1=content.split()\n",
    "print(content1)\n",
    "\n",
    "lst=[]\n",
    "for x in content1:\n",
    "     name, score = x.split(\",\")\n",
    "    #  print(name)\n",
    "     lst.append(score)\n",
    "print()\n",
    "print(lst)\n",
    "\n",
    "for index in content1:\n",
    "    if index.isdecimal():\n",
    "        lst.append(index)\n",
    "\n",
    "sum=0\n",
    "for index in lst:\n",
    "    sum+=int(index)\n",
    "print()\n",
    "print(\"Sum is\",sum,\"And average is\",sum/len(lst))"
   ]
  },
  {
   "cell_type": "code",
   "execution_count": 72,
   "id": "43974605",
   "metadata": {},
   "outputs": [],
   "source": [
    "def count_length(item_of_which_you_want_length):\n",
    "    counter=0\n",
    "    for item in item_of_which_you_want_length:\n",
    "        counter+=1\n",
    "    return counter"
   ]
  },
  {
   "cell_type": "code",
   "execution_count": 3,
   "id": "8a00c316",
   "metadata": {},
   "outputs": [
    {
     "name": "stdout",
     "output_type": "stream",
     "text": [
      "Sachit, 80\n",
      "Ayush, 79\n",
      "Mukund, 79\n",
      "Dusht, 81\n",
      "Mukul, 89\n",
      "Sumit, 90\n",
      "Nehal, 78\n",
      "['Sachit,', '80', 'Ayush,', '79', 'Mukund,', '79', 'Dusht,', '81', 'Mukul,', '89', 'Sumit,', '90', 'Nehal,', '78']\n",
      "['80', '79', '79', '81', '89', '90', '78']\n",
      "82.28571428571429\n"
     ]
    }
   ],
   "source": [
    "# Que 3: Read a file students.txt containing names and scores. Each line is like Name,Score. Calculate and print the average score. Also handle missing or malformed lines.\n",
    "with open(file_path , \"r+\") as file:\n",
    "    file.seek(0,0)\n",
    "    res = file.read()\n",
    "    print(res)\n",
    "   \n",
    "new_res  = res.split()\n",
    "print(new_res)\n",
    " \n",
    "l = []\n",
    "for x in new_res:\n",
    "    if x.isdecimal():\n",
    "        l.append(x)\n",
    "print(l)\n",
    " \n",
    "sum = 0\n",
    "for y in l:\n",
    "    sum += int(y)\n",
    "\n",
    "print(sum/len(l))\n"
   ]
  },
  {
   "cell_type": "markdown",
   "id": "e824a8fc",
   "metadata": {},
   "source": [
    "Que 4: Build a calculator that performs addition, subtraction, multiplication, or division based on user input. Handle division by zero and invalid operations."
   ]
  },
  {
   "cell_type": "code",
   "execution_count": 2,
   "id": "ffd21000",
   "metadata": {},
   "outputs": [
    {
     "data": {
      "text/plain": [
       "23.0"
      ]
     },
     "execution_count": 2,
     "metadata": {},
     "output_type": "execute_result"
    }
   ],
   "source": [
    "class Calculator:\n",
    "# function is used to perform basic maths calculations like addition,substraction,multiplication and division\n",
    "#param  operation -> str ,num1= int/float  ,num2=int/float\n",
    "    def calculation(self,operation,num1,num2):        \n",
    "        a=float(num1)\n",
    "        b=float(num2)\n",
    "        try:                        #using try and except block to check if whether the correct datatype is being used i.e. a number\n",
    "            if operation==\"add\":\n",
    "                self._result = a+b\n",
    "            elif operation==\"sub\":\n",
    "               self._result = a-b\n",
    "            elif operation==\"mul\":\n",
    "                self._result =a*b\n",
    "            elif operation==\"div\":\n",
    "                try:            #this is done to check if the divisor is zero or not \n",
    "                    self._result = a/b\n",
    "                except ZeroDivisionError:       \n",
    "                    return \"Second number can't be zero for division\"\n",
    "            else:\n",
    "                return \"Please enter a valid operation\"     #if any other operation comes other than the 4 this msg will come\n",
    "\n",
    "            return self._result         #result is private variable so that it can't be accessed outside the class\n",
    "        except ValueError:\n",
    "            print(\"Please enter a number\")      #if a number is str or an iterable it will give this msg \n",
    "\n",
    "c1=Calculator()\n",
    "c1.calculation(\"add\",23,'0')"
   ]
  },
  {
   "cell_type": "markdown",
   "id": "136e07a2",
   "metadata": {},
   "source": [
    "Que 5: Create a class Employee with name, salary, and department. Add a method get_bonus() that returns 10% bonus for \"HR\", 20% for \"IT\", and 15% for others."
   ]
  },
  {
   "cell_type": "code",
   "execution_count": 4,
   "id": "e9c73243",
   "metadata": {},
   "outputs": [
    {
     "name": "stdout",
     "output_type": "stream",
     "text": [
      "Bonus of Sachit is 20000.0\n"
     ]
    }
   ],
   "source": [
    "#class Employee has 4 attributes\n",
    "# param emp_name ->str , emp_salary ->int/float,emp_department ->str\n",
    "class Employee:\n",
    "    def __init__(self,emp_name,emp_salary,emp_department):\n",
    "        self.name=emp_name\n",
    "        self.salary=emp_salary\n",
    "        self.department=emp_department\n",
    "#This function is calculating the bonus of each emplyee based on it's department\n",
    "    def get_bonus(self):\n",
    "        if self.department==\"HR\":\n",
    "            bonus = self.salary *(10/100)\n",
    "        elif self.department==\"IT\":\n",
    "            bonus= self.salary *(20/100)\n",
    "        else:\n",
    "            bonus=self.salary *(15/100)\n",
    "        print(f\"Bonus of {self.name} is\",bonus)\n",
    "    \n",
    "e1=Employee(\"Sachit\",100000,\"IT\")\n",
    "e1.get_bonus()"
   ]
  },
  {
   "cell_type": "markdown",
   "id": "ac149a34",
   "metadata": {},
   "source": [
    "Que 6:Problem: Create a base class Account with balance and method deposit(). Create a derived class SavingsAccount that overrides deposit() to add 4% interest on each deposit."
   ]
  },
  {
   "cell_type": "code",
   "execution_count": 2,
   "id": "65286c94",
   "metadata": {},
   "outputs": [
    {
     "name": "stdout",
     "output_type": "stream",
     "text": [
      "110.4\n",
      "200\n"
     ]
    }
   ],
   "source": [
    "#class takes 2 inputs account_balnce and amount\n",
    "# param account_balnce -> int/float , amount ->int?float\n",
    "class Account:\n",
    "    def __init__(self,account_balance,amount):\n",
    "        self.account_balance=account_balance\n",
    "        self.amount=amount\n",
    "\n",
    "    def balance(self):      #this methods prints the balance\n",
    "        return self.account_balance\n",
    "    \n",
    "    def deposit(self):          #this method adds the amount to the balance \n",
    "        self.account_balance+=self.amount\n",
    "       \n",
    "\n",
    "class SavingsAccount(Account):      #SavingAccount class is child of Account class\n",
    "#here im initializing the attributes of parent into the child\n",
    "    # def __init__(self, account_balance, amount):\n",
    "    #     super().__init__(account_balance, amount)\n",
    "    def deposit(self):      # here im adding the amount to the balance with an interest of 4% of the amount of be deposited\n",
    "        self.account_balance=self.account_balance + self.amount+(self.amount)*0.04\n",
    "      \n",
    "sa1=SavingsAccount(100,10)\n",
    "sa1.deposit()\n",
    "print(sa1.balance())\n",
    "\n",
    "a1=Account(100,100)\n",
    "a1.deposit()\n",
    "print(a1.balance())"
   ]
  },
  {
   "cell_type": "markdown",
   "id": "6d9f2a57",
   "metadata": {},
   "source": [
    "Que 7:User Registration System with Encapsulation Create a User class with private attributes: __username, __password.\n",
    "- Add setter/getter methods with validation (e.g., password must  be at least 8 characters).\n",
    "- Add a @staticmethod for validating email formats."
   ]
  },
  {
   "cell_type": "code",
   "execution_count": 57,
   "id": "cb73f2ee",
   "metadata": {},
   "outputs": [
    {
     "name": "stdout",
     "output_type": "stream",
     "text": [
      "sam\n"
     ]
    },
    {
     "data": {
      "text/plain": [
       "'Please enter a valid email id'"
      ]
     },
     "execution_count": 57,
     "metadata": {},
     "output_type": "execute_result"
    }
   ],
   "source": [
    "class User:\n",
    "    def get_username(self):\n",
    "        return self.__username\n",
    "    \n",
    "    def set_username(self):\n",
    "        username=input(\"enter username\")\n",
    "        self.__username=username\n",
    "    \n",
    "    def set_password(self):\n",
    "        self.__password=None\n",
    "        password=input(\"enter password\")\n",
    "        if len(password)>=8:\n",
    "            self.__password=password\n",
    "        else:\n",
    "            print(\"Password should be of 8 characters\")\n",
    "\n",
    "    def get_password(self):\n",
    "        return self.__password\n",
    "    \n",
    "    @staticmethod\n",
    "    def verify_email():\n",
    "        emailid=input(\"enter email-id\")\n",
    "        if emailid.endswith(\".com\") and \"@\" in emailid:\n",
    "            return \"Valid Email Id\"\n",
    "        else:\n",
    "            return \"Please enter a valid email id\"\n",
    "        \n",
    "\n",
    "\n",
    "u1=User()\n",
    "u1.set_username()\n",
    "print(u1.get_username())\n",
    "u1.set_password()\n",
    "u1.verify_email()"
   ]
  },
  {
   "cell_type": "markdown",
   "id": "5187f18b",
   "metadata": {},
   "source": [
    "Que 8: Implement a Plugin System Create a base abstract class Plugin with an abstract method run().\n",
    "- Then, create different plugins like PrintPlugin, MathPlugin, etc., each overriding run().\n",
    "- Create a PluginManager to load and execute all plugins."
   ]
  },
  {
   "cell_type": "code",
   "execution_count": 22,
   "id": "f7ae7935",
   "metadata": {},
   "outputs": [
    {
     "name": "stdout",
     "output_type": "stream",
     "text": [
      "ClassPlugin is working\n",
      "MathPlugin is working\n",
      "PrintPlugin is working\n"
     ]
    }
   ],
   "source": [
    "from abc import ABC , abstractmethod\n",
    "\n",
    "class Plugin(ABC):\n",
    "    @abstractmethod\n",
    "    def run(self):\n",
    "        pass\n",
    "\n",
    "class PrintPlugin(Plugin):\n",
    "    def run():\n",
    "        return \"PrintPlugin is working\"\n",
    "    \n",
    "class MathPlugin(Plugin):\n",
    "    def run():\n",
    "        return \"MathPlugin is working\"\n",
    "    \n",
    "class ClassPlugin(Plugin):\n",
    "    def run():\n",
    "        return \"ClassPlugin is working\"\n",
    "    \n",
    "plugin_manager=[ClassPlugin,MathPlugin,PrintPlugin]\n",
    "for plgn in plugin_manager:\n",
    "    print(plgn.run())"
   ]
  }
 ],
 "metadata": {
  "kernelspec": {
   "display_name": "Python 3",
   "language": "python",
   "name": "python3"
  },
  "language_info": {
   "codemirror_mode": {
    "name": "ipython",
    "version": 3
   },
   "file_extension": ".py",
   "mimetype": "text/x-python",
   "name": "python",
   "nbconvert_exporter": "python",
   "pygments_lexer": "ipython3",
   "version": "3.11.0"
  }
 },
 "nbformat": 4,
 "nbformat_minor": 5
}
