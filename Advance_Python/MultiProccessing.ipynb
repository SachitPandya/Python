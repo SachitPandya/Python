{
 "cells": [
  {
   "cell_type": "markdown",
   "id": "10020a0c",
   "metadata": {},
   "source": [
    "Multiprocessing -> It refers to the ability of a system to break a process into smaller parts and perform them independently. It helps the processess to run concurrently allowing to more things to get done together rather than one at a time"
   ]
  },
  {
   "cell_type": "markdown",
   "id": "86660b00",
   "metadata": {},
   "source": [
    "to Use multiprocessing we need to import multiprocessing module "
   ]
  },
  {
   "cell_type": "code",
   "execution_count": 1,
   "id": "374cdb4a",
   "metadata": {},
   "outputs": [],
   "source": [
    "import multiprocessing"
   ]
  },
  {
   "cell_type": "markdown",
   "id": "ddd146f0",
   "metadata": {},
   "source": [
    "Programs has to be executed in main.py file\n"
   ]
  },
  {
   "cell_type": "markdown",
   "id": "f978b37a",
   "metadata": {},
   "source": [
    "if we want to create multiple processess we have to write it inside the [if __name__==\"__main__\":]\n",
    " block\n"
   ]
  },
  {
   "cell_type": "code",
   "execution_count": null,
   "id": "fe98416f",
   "metadata": {},
   "outputs": [
    {
     "name": "stdout",
     "output_type": "stream",
     "text": [
      "1750141988.041989 1750141988.0621018 1750141988.1532803\n",
      "0.02011275291442871 0.09117841720581055\n"
     ]
    }
   ],
   "source": [
    "import time\n",
    "import multiprocessing\n",
    "\n",
    "def square(n):\n",
    "    print(\"square : {}\".format(n*n))\n",
    "\n",
    "def cube(n):\n",
    "    print(\"cube : {}\".format(n**3))\n",
    "\n",
    "if __name__==\"__main__\":\n",
    "    p1=multiprocessing.Process(target =square, args=(10,))\n",
    "    p2=multiprocessing.Process(target=cube , args=(5,))\n",
    "\n",
    "    t1=time.time()\n",
    "    p1.start()\n",
    "    p2.start()\n",
    "    t2=time.time()\n",
    "    p1.join()\n",
    "    p2.join()\n",
    "    t3=time.time()\n",
    "    print(t1,t2,t3)\n",
    "    print((t2-t1),(t3-t2))"
   ]
  },
  {
   "cell_type": "markdown",
   "id": "3e64fe15",
   "metadata": {},
   "source": [
    "Advantages and Disadvantages of multiThreading and multiProccessing ->\n",
    "\n",
    "1. In multi Threading all the threads share the same memory block so when the OS switches between two threads it doesnt have to change the memory block\n",
    "\n",
    "    But in Multi Processing different processess can have different memory blocks requiring more internal comms and more time during context switching\n",
    "\n",
    "    MultiThreading can be useful when using I/O Operations such as reading a file as multiple threads because each thread can run I/O proccessess concurrently\n",
    "\n",
    "\n",
    "2.  When using CPU proccessess , that require high computational power,multiprocessing would be usefull as each process will have it's own memory \n",
    "\n",
    "Due to global interpreter lock(GIL) in python that allos only one thread to run at a , parralelism can't be acheived but concurrency can be acheived\n",
    "\n",
    "Multiprocessing is good for big ,seprate tasks while multithreading is good for smaller interconnected tasks"
   ]
  },
  {
   "cell_type": "code",
   "execution_count": 12,
   "id": "e07da84f",
   "metadata": {},
   "outputs": [
    {
     "name": "stdout",
     "output_type": "stream",
     "text": [
      "square : 100\n",
      "cube : 125\n",
      "1750142379.877252 1750142379.8808124 1750142379.8808124\n",
      "0.003560304641723633 0.0\n"
     ]
    }
   ],
   "source": [
    "import threading\n",
    "import time\n",
    "\n",
    "def square(n):\n",
    "    print(\"square : {}\".format(n*n))\n",
    "\n",
    "def cube(n):\n",
    "    print(\"cube : {}\".format(n**3))\n",
    "\n",
    "if __name__==\"__main__\":\n",
    "    p1=threading.Thread(target =square, args=(10,))\n",
    "    p2=threading.Thread(target=cube , args=(5,))\n",
    "\n",
    "    t1=time.time()\n",
    "    p1.start()\n",
    "    p2.start()\n",
    "    t2=time.time()\n",
    "    p1.join()\n",
    "    p2.join()\n",
    "    t3=time.time()\n",
    "    print(t1,t2,t3)\n",
    "    print((t2-t1),(t3-t2))"
   ]
  },
  {
   "cell_type": "code",
   "execution_count": null,
   "id": "c3f7231b",
   "metadata": {},
   "outputs": [
    {
     "name": "stdout",
     "output_type": "stream",
     "text": [
      "Cube of 3:27 <Thread(ThreadPoolExecutor-25_0, started 20984)>\n",
      "Cube of 4:64 <Thread(ThreadPoolExecutor-25_0, started 20984)>\n",
      "Cube of 5:125 <Thread(ThreadPoolExecutor-25_0, started 20984)>\n",
      "Cube of 6:216 <Thread(ThreadPoolExecutor-25_0, started 20984)>\n"
     ]
    }
   ],
   "source": []
  },
  {
   "cell_type": "markdown",
   "id": "6f4178b9",
   "metadata": {},
   "source": [
    "Similar to ThreadPool for multiproceesing we have pool"
   ]
  },
  {
   "cell_type": "code",
   "execution_count": null,
   "id": "d43628c3",
   "metadata": {},
   "outputs": [],
   "source": [
    "import multiprocessing\n",
    "import os,time\n",
    "\n",
    "def square1(x):\n",
    "    return x*x,os.getpid()\n",
    "\n",
    "if __name__==\"__main__\":\n",
    "    start=time.time()\n",
    "    with multiprocessing.Pool(processes=2) as mp:\n",
    "        num=[2,3,4,5,6]\n",
    "        res=mp.map(square1,num)\n",
    "        print(res,os.getpid())\n",
    "    t2=time.time()\n",
    "    print(t2-start)\n"
   ]
  },
  {
   "cell_type": "code",
   "execution_count": null,
   "id": "cb690c47",
   "metadata": {},
   "outputs": [
    {
     "ename": "NameError",
     "evalue": "name 'time' is not defined",
     "output_type": "error",
     "traceback": [
      "\u001b[31m---------------------------------------------------------------------------\u001b[39m",
      "\u001b[31mNameError\u001b[39m                                 Traceback (most recent call last)",
      "\u001b[36mCell\u001b[39m\u001b[36m \u001b[39m\u001b[32mIn[1]\u001b[39m\u001b[32m, line 14\u001b[39m\n\u001b[32m     11\u001b[39m         \u001b[38;5;28mprint\u001b[39m(n,os.getpid(),end=\u001b[33m\"\u001b[39m\u001b[33m \u001b[39m\u001b[33m\"\u001b[39m)\n\u001b[32m     13\u001b[39m \u001b[38;5;28;01mif\u001b[39;00m \u001b[34m__name__\u001b[39m==\u001b[33m\"\u001b[39m\u001b[33m__main__\u001b[39m\u001b[33m\"\u001b[39m:\n\u001b[32m---> \u001b[39m\u001b[32m14\u001b[39m     pt1=\u001b[43mtime\u001b[49m.time()\n\u001b[32m     15\u001b[39m     p1=multiprocessing.Process(target=even,args=(\u001b[32m2\u001b[39m,))\n\u001b[32m     16\u001b[39m     p2=multiprocessing.Process(target=odd,args=(\u001b[32m3\u001b[39m,))\n",
      "\u001b[31mNameError\u001b[39m: name 'time' is not defined"
     ]
    }
   ],
   "source": [
    "import multiprocessing\n",
    "import concurrent.futures\n",
    "import os,time\n",
    "\n",
    "def even(n):\n",
    "    if n%2==0:\n",
    "        print(n,os.getpid(),end=\" \")\n",
    "\n",
    "def odd(n):\n",
    "    if n%2!=0:\n",
    "        print(n,os.getpid(),end=\" \")\n",
    "\n",
    "if __name__==\"__main__\":\n",
    "    pt1=time.time()\n",
    "    p1=multiprocessing.Process(target=even,args=(2,))\n",
    "    p2=multiprocessing.Process(target=odd,args=(3,))\n",
    "\n",
    "    p1.start()\n",
    "    p2.start()\n",
    "    p1.join()\n",
    "    p2.join()\n",
    "    pt2=time.time()\n",
    "    print(\"Time using making processess explicitly: \",pt2-pt1)\n",
    "    print()\n",
    "def process_pool():\n",
    "    t1=time.time()\n",
    "    pool1=concurrent.futures.ProcessPoolExecutor(max_workers=3)\n",
    "    # pool1=multiprocessing.Pool(processes=3)\n",
    "    pool1.submit(even(2))\n",
    "    pool1.submit(odd(3))\n",
    "    t2=time.time()\n",
    "    print(\"Time using Processpool\" ,t2-t1)\n",
    "\n",
    "if __name__==\"__main__\":\n",
    "        process_pool()\n",
    "\n",
    "#which is better processpool or explicitly calling multiprocessing "
   ]
  },
  {
   "cell_type": "code",
   "execution_count": null,
   "id": "773ef9bc",
   "metadata": {},
   "outputs": [],
   "source": [
    "import multiprocessing\n",
    "import concurrent.futures\n",
    "import os,time\n",
    "\n",
    "def even(n):\n",
    "    if n%2==0:\n",
    "        print(n,os.getpid(),end=\" \")\n",
    "\n",
    "def odd(n):\n",
    "    if n%2!=0:\n",
    "        print(n,os.getpid(),end=\" \")\n",
    "\n",
    "if __name__==\"__main__\":\n",
    "    pt1=time.time()\n",
    "    p1=multiprocessing.Process(target=even,args=(2,))\n",
    "    p2=multiprocessing.Process(target=odd,args=(3,))\n",
    "\n",
    "    p1.start()\n",
    "    p2.start()\n",
    "    p1.join()\n",
    "    p2.join()\n",
    "    pt2=time.time()\n",
    "    print()\n",
    "    print(\"Time using making processess explicitly: \",pt2-pt1)\n",
    "    print()\n",
    "def process_pool():\n",
    "    t1=time.time()\n",
    "    pool1=concurrent.futures.ProcessPoolExecutor(max_workers=3)\n",
    "    # pool1=multiprocessing.Pool(processes=3)\n",
    "    pool1.submit(even(2))\n",
    "    pool1.submit(odd(3))\n",
    "    t2=time.time()\n",
    "    print()\n",
    "    print(\"Time using Processpool\" ,t2-t1)\n",
    "\n",
    "if __name__==\"__main__\":\n",
    "        process_pool()\n",
    "\n",
    "#which is better processpool or explicitly calling multiprocessing "
   ]
  }
 ],
 "metadata": {
  "kernelspec": {
   "display_name": "Python 3",
   "language": "python",
   "name": "python3"
  },
  "language_info": {
   "codemirror_mode": {
    "name": "ipython",
    "version": 3
   },
   "file_extension": ".py",
   "mimetype": "text/x-python",
   "name": "python",
   "nbconvert_exporter": "python",
   "pygments_lexer": "ipython3",
   "version": "3.11.0"
  }
 },
 "nbformat": 4,
 "nbformat_minor": 5
}
