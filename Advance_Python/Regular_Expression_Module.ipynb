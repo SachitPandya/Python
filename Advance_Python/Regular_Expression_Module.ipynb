{
 "cells": [
  {
   "cell_type": "markdown",
   "id": "6a45ca88",
   "metadata": {},
   "source": [
    "RegEx -> It is a sequence of chars that form a search pattern. These are used to find a pattern in the data"
   ]
  },
  {
   "cell_type": "code",
   "execution_count": 1,
   "id": "c88bfc5c",
   "metadata": {},
   "outputs": [],
   "source": [
    "import re"
   ]
  },
  {
   "cell_type": "code",
   "execution_count": 2,
   "id": "1d56a9d6",
   "metadata": {},
   "outputs": [],
   "source": [
    "# import re\n",
    "# s=\"vchfe hjcuhf hjkudvc45@gmail.com 4 4 5 222 4 parrot pet poot pu hjkudvc45@jdk.com t\"\n",
    "# s=s.split(' ')\n",
    "# print(s)\n",
    "# l=[]\n",
    "# for i in s:\n",
    "#     if re.findall('[a-z0-9]@.*.com',i):\n",
    "#         l.append(i)\n",
    "# print(l)"
   ]
  },
  {
   "cell_type": "markdown",
   "id": "d3bfdef9",
   "metadata": {},
   "source": [
    "Methods of RegEx"
   ]
  },
  {
   "cell_type": "markdown",
   "id": "53f0dd31",
   "metadata": {},
   "source": [
    "1. findall()  -> Returns the list of all matching chars\n"
   ]
  },
  {
   "cell_type": "code",
   "execution_count": 3,
   "id": "2fb59f5f",
   "metadata": {},
   "outputs": [
    {
     "data": {
      "text/plain": [
       "['Rohit Sharma 264 Rassie + van dossuen Shubham gill 208']"
      ]
     },
     "execution_count": 3,
     "metadata": {},
     "output_type": "execute_result"
    }
   ],
   "source": [
    "str1=\" Virat kohli 183 Rohit Sharma 264 Rassie + van dossuen Shubham gill 208\"\n",
    "re.findall('R.*',str1)"
   ]
  },
  {
   "cell_type": "markdown",
   "id": "14fcbe41",
   "metadata": {},
   "source": [
    "2.  Search() ->  Returns the match object for the string"
   ]
  },
  {
   "cell_type": "code",
   "execution_count": 4,
   "id": "acad9c9f",
   "metadata": {},
   "outputs": [
    {
     "name": "stdout",
     "output_type": "stream",
     "text": [
      "<re.Match object; span=(17, 18), match='R'>\n"
     ]
    }
   ],
   "source": [
    "x=re.search(\"R\",str1)\n",
    "print(x)"
   ]
  },
  {
   "cell_type": "markdown",
   "id": "5dce30b4",
   "metadata": {},
   "source": [
    "3. Split()  -> Split method is used to split the string into a list based on the spliting char provided we can give how many parts we want "
   ]
  },
  {
   "cell_type": "code",
   "execution_count": 5,
   "id": "a62fcb23",
   "metadata": {},
   "outputs": [
    {
     "name": "stdout",
     "output_type": "stream",
     "text": [
      "[' Virat kohli 183 ', 'ohit Sharma 264 ', 'assie + van dossuen Shubham gill 208']\n"
     ]
    }
   ],
   "source": [
    "x=re.split(\"R\",str1,2)      #arg 1 -> spliting char which will not be present in the result \n",
    "                            # arg 2 -> input_string  arg 3 -> number of parts we want\n",
    "print(x)"
   ]
  },
  {
   "cell_type": "code",
   "execution_count": 6,
   "id": "ecfe55dd",
   "metadata": {},
   "outputs": [
    {
     "name": "stdout",
     "output_type": "stream",
     "text": [
      "None\n"
     ]
    }
   ],
   "source": [
    "txt = \"The rain in Spain\"\n",
    "x = re.search(\" Portugal\", txt)\n",
    "print(x)        #if word is not present in the string it will return None"
   ]
  },
  {
   "cell_type": "markdown",
   "id": "678c5452",
   "metadata": {},
   "source": [
    "4. Sub() -> Substitutes the value to a char in the str"
   ]
  },
  {
   "cell_type": "code",
   "execution_count": 7,
   "id": "a4eb2205",
   "metadata": {},
   "outputs": [
    {
     "name": "stdout",
     "output_type": "stream",
     "text": [
      "_Virat_kohli_183_Rohit_Sharma_264_Rassie_+_van_dossuen_Shubham_gill_208\n"
     ]
    }
   ],
   "source": [
    "x=re.sub(\" \",\"_\",str1)\n",
    "print(x)"
   ]
  },
  {
   "cell_type": "code",
   "execution_count": 8,
   "id": "2d3bfe8f",
   "metadata": {},
   "outputs": [
    {
     "name": "stdout",
     "output_type": "stream",
     "text": [
      " Virat kohli 183 rohit Sharma 264 Rassie + van dossuen Shubham gill 208\n"
     ]
    }
   ],
   "source": [
    "y=re.sub( 'R',\"r\",str1,1)\n",
    "print(y)            #we can also give an arg to replace only a particular number of chars\n",
    "\n",
    "# arg 1 -> char to be replaced\n",
    "# arg 2 -> chat to be replaced with\n",
    "# arg 3 -> input str\n",
    "# arg4 (optional) -> number of times char should be replaced"
   ]
  },
  {
   "cell_type": "markdown",
   "id": "8b5d07b6",
   "metadata": {},
   "source": [
    "Match objects -> contains span=(form where to where substring exists),match=\"value that is matched\"\n",
    "\n",
    "It contains the info about the search and result"
   ]
  },
  {
   "cell_type": "code",
   "execution_count": 9,
   "id": "d105c712",
   "metadata": {},
   "outputs": [
    {
     "name": "stdout",
     "output_type": "stream",
     "text": [
      "(3, 4)\n"
     ]
    }
   ],
   "source": [
    "x=re.search(\"r\",str1)\n",
    "print(x.span())         #his shows form where to where in list substring is present"
   ]
  },
  {
   "cell_type": "code",
   "execution_count": 10,
   "id": "2d4c5719",
   "metadata": {},
   "outputs": [
    {
     "name": "stdout",
     "output_type": "stream",
     "text": [
      " Virat kohli 183 Rohit Sharma 264 Rassie + van dossuen Shubham gill 208\n"
     ]
    }
   ],
   "source": [
    "x=re.search(\"r\",str1)\n",
    "print(x.string)     #return the string passed in the group"
   ]
  },
  {
   "cell_type": "code",
   "execution_count": 11,
   "id": "6df8a19c",
   "metadata": {},
   "outputs": [
    {
     "name": "stdout",
     "output_type": "stream",
     "text": [
      "r\n"
     ]
    }
   ],
   "source": [
    "print(x.group())        #returns the part of the string where there was a match"
   ]
  },
  {
   "cell_type": "markdown",
   "id": "2b162647",
   "metadata": {},
   "source": [
    "Meta Characters -> char with special meaning"
   ]
  },
  {
   "cell_type": "markdown",
   "id": "7012d98e",
   "metadata": {},
   "source": [
    "1.  [] -> is set of chars"
   ]
  },
  {
   "cell_type": "code",
   "execution_count": 12,
   "id": "65226b89",
   "metadata": {},
   "outputs": [
    {
     "name": "stdout",
     "output_type": "stream",
     "text": [
      "['1', '8', '3', '2', '6', '4', '2', '0', '8']\n"
     ]
    }
   ],
   "source": [
    "x=re.findall(\"[0-9]\",str1)\n",
    "print(x)            #returns all chars in the present in []"
   ]
  },
  {
   "cell_type": "markdown",
   "id": "552326c0",
   "metadata": {},
   "source": [
    "2. \\ -> signals a special char"
   ]
  },
  {
   "cell_type": "markdown",
   "id": "f6a716d1",
   "metadata": {},
   "source": [
    "Special Sequences"
   ]
  },
  {
   "cell_type": "markdown",
   "id": "3df86430",
   "metadata": {},
   "source": [
    "i. \\d -> returns a match where string is [0-9]"
   ]
  },
  {
   "cell_type": "code",
   "execution_count": 13,
   "id": "676a3d3a",
   "metadata": {},
   "outputs": [
    {
     "data": {
      "text/plain": [
       "<re.Match object; span=(13, 14), match='1'>"
      ]
     },
     "execution_count": 13,
     "metadata": {},
     "output_type": "execute_result"
    }
   ],
   "source": [
    "x=re.search(\"\\d\",str1)\n",
    "x       "
   ]
  },
  {
   "cell_type": "markdown",
   "id": "611bafb9",
   "metadata": {},
   "source": [
    "ii. \\A -> returns match if specified char is start of string"
   ]
  },
  {
   "cell_type": "code",
   "execution_count": 14,
   "id": "77dea820",
   "metadata": {},
   "outputs": [
    {
     "name": "stdout",
     "output_type": "stream",
     "text": [
      "<re.Match object; span=(0, 6), match=' Virat'>\n",
      "None\n"
     ]
    }
   ],
   "source": [
    "x=re.search(\"\\A Virat\",str1)\n",
    "print(x)\n",
    "\n",
    "x=re.search(\"\\A Rohit\",str1)\n",
    "print(x)"
   ]
  },
  {
   "cell_type": "markdown",
   "id": "acd44c53",
   "metadata": {},
   "source": [
    "iii. \\b -> returns true if specified char is at start or end of the word"
   ]
  },
  {
   "cell_type": "code",
   "execution_count": 15,
   "id": "84ccd9ad",
   "metadata": {},
   "outputs": [
    {
     "data": {
      "text/plain": [
       "' Virat kohli 183 Rohit Sharma 264 Rassie + van dossuen Shubham gill 208'"
      ]
     },
     "execution_count": 15,
     "metadata": {},
     "output_type": "execute_result"
    }
   ],
   "source": [
    "str1"
   ]
  },
  {
   "cell_type": "code",
   "execution_count": 16,
   "id": "d06afadb",
   "metadata": {},
   "outputs": [
    {
     "name": "stdout",
     "output_type": "stream",
     "text": [
      "<re.Match object; span=(1, 3), match='Vi'>\n"
     ]
    }
   ],
   "source": [
    "x=re.search(r\"\\bVi\",str1)  #it is cheking if the char is at starting\n",
    "print(x)"
   ]
  },
  {
   "cell_type": "code",
   "execution_count": 17,
   "id": "adad5b14",
   "metadata": {},
   "outputs": [
    {
     "name": "stdout",
     "output_type": "stream",
     "text": [
      "<re.Match object; span=(4, 6), match='at'>\n"
     ]
    }
   ],
   "source": [
    "x=re.search(r\"at\\b\",str1)           #it is checking at the end of word\n",
    "print(x)            "
   ]
  },
  {
   "cell_type": "markdown",
   "id": "db2ca37c",
   "metadata": {},
   "source": [
    "iv. \\B  -> returns match if char is not present in beginning or in the end"
   ]
  },
  {
   "cell_type": "code",
   "execution_count": 18,
   "id": "f18616c3",
   "metadata": {},
   "outputs": [
    {
     "name": "stdout",
     "output_type": "stream",
     "text": [
      "<re.Match object; span=(2, 3), match='i'>\n"
     ]
    }
   ],
   "source": [
    "x=re.search(r\"\\Bi\",str1)\n",
    "print(x)"
   ]
  },
  {
   "cell_type": "markdown",
   "id": "bac2f76c",
   "metadata": {},
   "source": [
    "v. \\D -> returns match if string does not contain digits"
   ]
  },
  {
   "cell_type": "code",
   "execution_count": 56,
   "id": "00b651eb",
   "metadata": {},
   "outputs": [
    {
     "name": "stdout",
     "output_type": "stream",
     "text": [
      "[' ', 'V', 'i', 'r', 'a', 't', ' ', 'k', 'o', 'h', 'l', 'i', ' ', ' ', 'R', 'o', 'h', 'i', 't', ' ', 'S', 'h', 'a', 'r', 'm', 'a', ' ', ' ', 'R', 'a', 's', 's', 'i', 'e', ' ', '+', ' ', 'v', 'a', 'n', ' ', 'd', 'o', 's', 's', 'u', 'e', 'n', ' ', 'S', 'h', 'u', 'b', 'h', 'a', 'm', ' ', 'g', 'i', 'l', 'l', ' ']\n"
     ]
    }
   ],
   "source": [
    "x=re.findall(\"\\D\",str1)      #if i pass any char with in the \" \" search will work normally\n",
    "print(x)        #prints whitespace in place of a digit"
   ]
  },
  {
   "cell_type": "markdown",
   "id": "fdcdaf55",
   "metadata": {},
   "source": [
    "vi. \\s -> returns match if string has white space"
   ]
  },
  {
   "cell_type": "code",
   "execution_count": 20,
   "id": "c6c0a935",
   "metadata": {},
   "outputs": [
    {
     "name": "stdout",
     "output_type": "stream",
     "text": [
      "[' ', ' ', ' ', ' ', ' ', ' ', ' ', ' ', ' ', ' ', ' ', ' ', ' ']\n"
     ]
    }
   ],
   "source": [
    "x=re.findall(\"\\s\",str1)\n",
    "print(x)"
   ]
  },
  {
   "cell_type": "markdown",
   "id": "201e332b",
   "metadata": {},
   "source": [
    "vii. \\S -> returns match if string has no white space"
   ]
  },
  {
   "cell_type": "code",
   "execution_count": 21,
   "id": "da5d5445",
   "metadata": {},
   "outputs": [
    {
     "name": "stdout",
     "output_type": "stream",
     "text": [
      " Virat kohli 183 Rohit Sharma 264 Rassie + van dossuen Shubham gill 208\n",
      "['V', 'i', 'r', 'a', 't', 'k', 'o', 'h', 'l', 'i', '1', '8', '3', 'R', 'o', 'h', 'i', 't', 'S', 'h', 'a', 'r', 'm', 'a', '2', '6', '4', 'R', 'a', 's', 's', 'i', 'e', '+', 'v', 'a', 'n', 'd', 'o', 's', 's', 'u', 'e', 'n', 'S', 'h', 'u', 'b', 'h', 'a', 'm', 'g', 'i', 'l', 'l', '2', '0', '8']\n"
     ]
    }
   ],
   "source": [
    "print(str1)\n",
    "x=re.findall(\"\\S\",str1)\n",
    "print(x)"
   ]
  },
  {
   "cell_type": "markdown",
   "id": "164ecc7a",
   "metadata": {},
   "source": [
    "viii. \\w -> returns a match if string has char,digits,and underscore"
   ]
  },
  {
   "cell_type": "code",
   "execution_count": 22,
   "id": "3151bab3",
   "metadata": {},
   "outputs": [
    {
     "name": "stdout",
     "output_type": "stream",
     "text": [
      "[]\n"
     ]
    }
   ],
   "source": [
    "str2=\"!@#$%^&*()\"\n",
    "x=re.findall(\"\\w\",str2)     #also removes whitepace or special chars\n",
    "print(x)"
   ]
  },
  {
   "cell_type": "markdown",
   "id": "43f45cef",
   "metadata": {},
   "source": [
    "ix. \\W -> return a matchh if string is not word"
   ]
  },
  {
   "cell_type": "code",
   "execution_count": 23,
   "id": "fa97fb3e",
   "metadata": {},
   "outputs": [
    {
     "name": "stdout",
     "output_type": "stream",
     "text": [
      "['!', '@', '#', '$', '%', '^', '&', '*', '(', ')']\n"
     ]
    }
   ],
   "source": [
    "x=re.findall(\"\\W\",str2)         #also prints whitespace or special chars\n",
    "print(x)"
   ]
  },
  {
   "cell_type": "markdown",
   "id": "a961ffd2",
   "metadata": {},
   "source": [
    "x. \\Z -> return a match if string are at end of the string"
   ]
  },
  {
   "cell_type": "code",
   "execution_count": 24,
   "id": "2af3b414",
   "metadata": {},
   "outputs": [
    {
     "name": "stdout",
     "output_type": "stream",
     "text": [
      "<re.Match object; span=(68, 71), match='208'>\n"
     ]
    }
   ],
   "source": [
    "x=re.search(\"208\\Z\",str1)\n",
    "print(x)"
   ]
  },
  {
   "cell_type": "markdown",
   "id": "f215f80c",
   "metadata": {},
   "source": [
    "3. . -> denotes a single char"
   ]
  },
  {
   "cell_type": "code",
   "execution_count": 25,
   "id": "21b842a0",
   "metadata": {},
   "outputs": [
    {
     "name": "stdout",
     "output_type": "stream",
     "text": [
      "['Vi']\n"
     ]
    }
   ],
   "source": [
    "x=re.findall(\"V.\",str1)\n",
    "print(x)"
   ]
  },
  {
   "cell_type": "markdown",
   "id": "8c950758",
   "metadata": {},
   "source": [
    "4. ^ -> starts with "
   ]
  },
  {
   "cell_type": "code",
   "execution_count": 26,
   "id": "9f2d3339",
   "metadata": {},
   "outputs": [
    {
     "name": "stdout",
     "output_type": "stream",
     "text": [
      "[' Virat']\n",
      "[]\n"
     ]
    }
   ],
   "source": [
    "x=re.findall(\"^ Virat\",str1)\n",
    "print(x)    #returns if string starts with specified char\n",
    "\n",
    "x=re.findall(\"^ Rohit\",str1)\n",
    "print(x) "
   ]
  },
  {
   "cell_type": "markdown",
   "id": "e205c1ad",
   "metadata": {},
   "source": [
    "5. $ -> Ends with"
   ]
  },
  {
   "cell_type": "code",
   "execution_count": 27,
   "id": "e85eddc8",
   "metadata": {},
   "outputs": [
    {
     "name": "stdout",
     "output_type": "stream",
     "text": [
      "['208']\n",
      "[]\n"
     ]
    }
   ],
   "source": [
    "x=re.findall(\"208$\",str1)\n",
    "print(x)            #returns a value if it starts with a value\n",
    "\n",
    "x=re.findall(\"2$\",str1)\n",
    "print(x) "
   ]
  },
  {
   "cell_type": "markdown",
   "id": "9a6ab747",
   "metadata": {},
   "source": [
    "6. (*) -> zero or more occurances"
   ]
  },
  {
   "cell_type": "code",
   "execution_count": 28,
   "id": "f42ca7e3",
   "metadata": {},
   "outputs": [
    {
     "name": "stdout",
     "output_type": "stream",
     "text": [
      "['Virat kohli 183 Rohit']\n",
      "['', '', '', '', 'a', '', '', '', '', '', '', '', '', '', '', '', '', '', '', '', '', '', '', '', '', 'a', '', '', 'a', '', '', '', '', '', '', 'a', '', '', '', '', '', '', '', '', 'a', '', '', '', '', '', '', '', '', '', '', '', '', '', '', '', 'a', '', '', '', '', '', '', '', '', '', '', '']\n"
     ]
    }
   ],
   "source": [
    "x=re.findall(\"V.*t\",str1)\n",
    "print(x)        #returns a value\n",
    "\n",
    "x=re.findall(\"a*\",str1)\n",
    "print(x)        #returns a list of empy chars if char is not same"
   ]
  },
  {
   "cell_type": "markdown",
   "id": "1a13a218",
   "metadata": {},
   "source": [
    "7. (+) -> one or more occurances "
   ]
  },
  {
   "cell_type": "code",
   "execution_count": 29,
   "id": "929f5034",
   "metadata": {},
   "outputs": [
    {
     "name": "stdout",
     "output_type": "stream",
     "text": [
      "['Virat kohli 183 Rohit']\n"
     ]
    }
   ],
   "source": [
    "x=re.findall(\"V.+t\",str1)\n",
    "print(x) "
   ]
  },
  {
   "cell_type": "markdown",
   "id": "98c95642",
   "metadata": {},
   "source": [
    "8. ? -> zero or one occurance"
   ]
  },
  {
   "cell_type": "code",
   "execution_count": 30,
   "id": "11584663",
   "metadata": {},
   "outputs": [
    {
     "name": "stdout",
     "output_type": "stream",
     "text": [
      "['Virat']\n"
     ]
    }
   ],
   "source": [
    "x=re.findall(\"Vir.?t\",str1)     #returns match if there are only atmost 1 char in the passed string\n",
    "print(x) "
   ]
  },
  {
   "cell_type": "markdown",
   "id": "69fd6890",
   "metadata": {},
   "source": [
    "9. { } -> specifies the number of occurances"
   ]
  },
  {
   "cell_type": "code",
   "execution_count": 31,
   "id": "51be10cc",
   "metadata": {},
   "outputs": [
    {
     "name": "stdout",
     "output_type": "stream",
     "text": [
      "['Virat']\n"
     ]
    }
   ],
   "source": [
    "x=re.findall(\"V.{3}t\",str1)         # species the char in strng\n",
    "print(x)    "
   ]
  },
  {
   "cell_type": "markdown",
   "id": "be7ff0f2",
   "metadata": {},
   "source": [
    "10. | either or"
   ]
  },
  {
   "cell_type": "code",
   "execution_count": 32,
   "id": "99a4c4f3",
   "metadata": {},
   "outputs": [
    {
     "name": "stdout",
     "output_type": "stream",
     "text": [
      "['Virat']\n",
      "['Virat', 'Rohit']\n"
     ]
    }
   ],
   "source": [
    "x=re.findall(\"Virat|MS\",str1)\n",
    "print(x)        #returns match if min of one or is present\n",
    "\n",
    "x=re.findall(\"Virat|Rohit\",str1)\n",
    "print(x) "
   ]
  },
  {
   "cell_type": "markdown",
   "id": "bf67e17a",
   "metadata": {},
   "source": [
    "11. () -> Capture group ,it creates the search pattern into different groups"
   ]
  },
  {
   "cell_type": "markdown",
   "id": "5dcd5cf3",
   "metadata": {},
   "source": [
    "What it does is,it divides the search pattern into different parts and we can use a specific pattern from the whole pattern using capture group and to use a specific group it has indices [0] is whole pattern \n",
    "[1] is first part of the pattern [2] is second part and so on"
   ]
  },
  {
   "cell_type": "code",
   "execution_count": 55,
   "id": "b31d9e09",
   "metadata": {},
   "outputs": [
    {
     "name": "stdout",
     "output_type": "stream",
     "text": [
      "Full match: 2025-06-16\n",
      "Year: 2025\n",
      "Month: 06\n",
      "Day: 16\n"
     ]
    }
   ],
   "source": [
    "import re\n",
    "\n",
    "text = \"Date: 2025-06-16\"\n",
    "pattern = r\"(\\d+)-(\\d+)-(\\d+)\"\n",
    "match = re.search(pattern, text)\n",
    "\n",
    "if match:\n",
    "    print(\"Full match:\", match.group(0))  \n",
    "    print(\"Year:\", match.group(1))       \n",
    "    print(\"Month:\", match.group(2))      \n",
    "    print(\"Day:\", match.group(3)) "
   ]
  },
  {
   "cell_type": "markdown",
   "id": "bfd4a591",
   "metadata": {},
   "source": [
    "Sets -> set of chars inside []"
   ]
  },
  {
   "cell_type": "markdown",
   "id": "70904fa9",
   "metadata": {},
   "source": [
    "i. [n]"
   ]
  },
  {
   "cell_type": "code",
   "execution_count": 33,
   "id": "f9068802",
   "metadata": {},
   "outputs": [
    {
     "name": "stdout",
     "output_type": "stream",
     "text": [
      "['V']\n"
     ]
    }
   ],
   "source": [
    "x=re.findall(\"[V]\",str1)            #returns only the char/digits present inside the []\n",
    "print(x) "
   ]
  },
  {
   "cell_type": "markdown",
   "id": "039de250",
   "metadata": {},
   "source": [
    "ii. [^n]"
   ]
  },
  {
   "cell_type": "code",
   "execution_count": 34,
   "id": "97a694ba",
   "metadata": {},
   "outputs": [
    {
     "name": "stdout",
     "output_type": "stream",
     "text": [
      "[' ', 'i', 'r', 'a', 't', ' ', 'k', 'o', 'h', 'l', 'i', ' ', '1', '8', '3', ' ', 'R', 'o', 'h', 'i', 't', ' ', 'S', 'h', 'a', 'r', 'm', 'a', ' ', '2', '6', '4', ' ', 'R', 'a', 's', 's', 'i', 'e', ' ', '+', ' ', 'v', 'a', 'n', ' ', 'd', 'o', 's', 's', 'u', 'e', 'n', ' ', 'S', 'h', 'u', 'b', 'h', 'a', 'm', ' ', 'g', 'i', 'l', 'l', ' ', '2', '0', '8']\n"
     ]
    }
   ],
   "source": [
    "x=re.findall(\"[^V]\",str1)            #returns the word not present inside the []\n",
    "print(x) "
   ]
  },
  {
   "cell_type": "markdown",
   "id": "14ce8bfa",
   "metadata": {},
   "source": [
    "iii. [a-n] -> returns a match for a lower case letter"
   ]
  },
  {
   "cell_type": "code",
   "execution_count": 35,
   "id": "a8f03f9c",
   "metadata": {},
   "outputs": [
    {
     "name": "stdout",
     "output_type": "stream",
     "text": [
      "['i', 'a', 'k', 'h', 'l', 'i', 'h', 'i', 'h', 'a', 'm', 'a', 'a', 'i', 'e', 'a', 'n', 'd', 'e', 'n', 'h', 'b', 'h', 'a', 'm', 'g', 'i', 'l', 'l']\n"
     ]
    }
   ],
   "source": [
    "x=re.findall(\"[a-n]\",str1)            #returns only the word present inside the []\n",
    "print(x) "
   ]
  },
  {
   "cell_type": "markdown",
   "id": "50e67774",
   "metadata": {},
   "source": [
    "iv. [0-9] -> returns a match for digits"
   ]
  },
  {
   "cell_type": "code",
   "execution_count": 36,
   "id": "129d9e60",
   "metadata": {},
   "outputs": [
    {
     "name": "stdout",
     "output_type": "stream",
     "text": [
      "['1', '8', '3', '2', '6', '4', '2', '0', '8']\n"
     ]
    }
   ],
   "source": [
    "x=re.findall(\"[0-9]\",str1)            #returns only the word present inside the []\n",
    "print(x) "
   ]
  },
  {
   "cell_type": "markdown",
   "id": "f03dfbfc",
   "metadata": {},
   "source": [
    "v. [0-1][0-9]  -> returns a number between 00 and 59 in this example"
   ]
  },
  {
   "cell_type": "code",
   "execution_count": 58,
   "id": "399e0ed1",
   "metadata": {},
   "outputs": [
    {
     "name": "stdout",
     "output_type": "stream",
     "text": [
      " Virat kohli 183 Rohit Sharma 264 Rassie + van dossuen Shubham gill 208\n",
      "['183', '264', '208']\n"
     ]
    }
   ],
   "source": [
    "print(str1)\n",
    "x=re.findall(\"[0-2][0-9][0-9]\",str1)            #returns only the word present inside the []\n",
    "print(x) "
   ]
  },
  {
   "cell_type": "markdown",
   "id": "1761d10c",
   "metadata": {},
   "source": [
    "vi. [a-zA-Z] -> returns a match if there are any chars"
   ]
  },
  {
   "cell_type": "code",
   "execution_count": 38,
   "id": "2b395b77",
   "metadata": {},
   "outputs": [
    {
     "name": "stdout",
     "output_type": "stream",
     "text": [
      "['V', 'i', 'r', 'a', 't', 'k', 'o', 'h', 'l', 'i', 'R', 'o', 'h', 'i', 't', 'S', 'h', 'a', 'r', 'm', 'a', 'R', 'a', 's', 's', 'i', 'e', 'v', 'a', 'n', 'd', 'o', 's', 's', 'u', 'e', 'n', 'S', 'h', 'u', 'b', 'h', 'a', 'm', 'g', 'i', 'l', 'l']\n"
     ]
    }
   ],
   "source": [
    "x=re.findall(\"[a-zA-z]\",str1)            #returns only the word present inside the []\n",
    "print(x) "
   ]
  },
  {
   "cell_type": "markdown",
   "id": "94894495",
   "metadata": {},
   "source": [
    "vii. [+] -> in sets [  +, *, ., |, (), $,{}  ] has no special meaning so [ + ] means return a match for (+) char"
   ]
  },
  {
   "cell_type": "code",
   "execution_count": 39,
   "id": "a671ca9e",
   "metadata": {},
   "outputs": [
    {
     "name": "stdout",
     "output_type": "stream",
     "text": [
      "['+']\n"
     ]
    }
   ],
   "source": [
    "x=re.findall(\"[+]\",str1)\n",
    "print(x) "
   ]
  },
  {
   "cell_type": "markdown",
   "id": "517f6e8d",
   "metadata": {},
   "source": [
    "Flags"
   ]
  },
  {
   "cell_type": "markdown",
   "id": "cb101a0b",
   "metadata": {},
   "source": [
    "1. re.ASCII / re.A  -> returns match for only ascii"
   ]
  },
  {
   "cell_type": "code",
   "execution_count": 40,
   "id": "3f2533fb",
   "metadata": {},
   "outputs": [
    {
     "name": "stdout",
     "output_type": "stream",
     "text": [
      "['H', 'a', 'l', 'a', 'n', 'd']\n",
      "['H', 'a', 'l', 'a', 'n', 'd']\n"
     ]
    }
   ],
   "source": [
    "name=\"HÅaland\"\n",
    "x=re.findall(\"\\w\",name,re.ASCII)\n",
    "print(x) \n",
    "\n",
    "name=\"HÅaland\"\n",
    "x=re.findall(\"\\w\",name,re.A)\n",
    "print(x) "
   ]
  },
  {
   "cell_type": "markdown",
   "id": "187aa3b8",
   "metadata": {},
   "source": [
    "2. re.DEBUG -> returns debug information"
   ]
  },
  {
   "cell_type": "code",
   "execution_count": 41,
   "id": "cd7dbe75",
   "metadata": {},
   "outputs": [
    {
     "name": "stdout",
     "output_type": "stream",
     "text": [
      "IN\n",
      "  CATEGORY CATEGORY_WORD\n",
      "\n",
      " 0. INFO 7 0b100 1 1 (to 8)\n",
      "      in\n",
      " 5.     CATEGORY UNI_WORD\n",
      " 7.     FAILURE\n",
      " 8: IN 4 (to 13)\n",
      "10.   CATEGORY UNI_WORD\n",
      "12.   FAILURE\n",
      "13: SUCCESS\n",
      "['H', 'Å', 'a', 'l', 'a', 'n', 'd']\n"
     ]
    }
   ],
   "source": [
    "name=\"HÅaland\"\n",
    "x=re.findall(\"\\w\",name,re.DEBUG)\n",
    "print(x) "
   ]
  },
  {
   "cell_type": "markdown",
   "id": "154eb2b2",
   "metadata": {},
   "source": [
    "3. re.DOTALL / re.S -> "
   ]
  },
  {
   "cell_type": "code",
   "execution_count": 42,
   "id": "3b91788d",
   "metadata": {},
   "outputs": [
    {
     "name": "stdout",
     "output_type": "stream",
     "text": [
      "['is\\nSam']\n"
     ]
    }
   ],
   "source": [
    "txt = \"\"\"Hi\n",
    "my\n",
    "name\n",
    "is\n",
    "Sam\"\"\"\n",
    "\n",
    "x=re.findall(\"is.Sam\",txt,re.DOTALL)\n",
    "print(x)            #returns a match evenif the next char is in new line"
   ]
  },
  {
   "cell_type": "markdown",
   "id": "ca12533f",
   "metadata": {},
   "source": [
    "with out re.DOTALL"
   ]
  },
  {
   "cell_type": "code",
   "execution_count": 43,
   "id": "ed1292a7",
   "metadata": {},
   "outputs": [
    {
     "name": "stdout",
     "output_type": "stream",
     "text": [
      "[]\n"
     ]
    }
   ],
   "source": [
    "print(re.findall(\"me.is\", txt))"
   ]
  },
  {
   "cell_type": "code",
   "execution_count": 44,
   "id": "c9bddeee",
   "metadata": {},
   "outputs": [
    {
     "name": "stdout",
     "output_type": "stream",
     "text": [
      "['me\\nis']\n"
     ]
    }
   ],
   "source": [
    "print(re.findall(\"me.is\", txt, re.S))"
   ]
  },
  {
   "cell_type": "markdown",
   "id": "53b64c1a",
   "metadata": {},
   "source": [
    "4. re.IGNORECASE / re.I -> ignore the case  when seacrching"
   ]
  },
  {
   "cell_type": "code",
   "execution_count": 45,
   "id": "b24e086c",
   "metadata": {},
   "outputs": [
    {
     "name": "stdout",
     "output_type": "stream",
     "text": [
      "['Sam']\n"
     ]
    }
   ],
   "source": [
    "print(re.findall(\"sam\", txt, re.IGNORECASE))"
   ]
  },
  {
   "cell_type": "code",
   "execution_count": 46,
   "id": "bb0c32ba",
   "metadata": {},
   "outputs": [
    {
     "name": "stdout",
     "output_type": "stream",
     "text": [
      "['is']\n"
     ]
    }
   ],
   "source": [
    "print(re.findall(\"is\", txt, re.I))"
   ]
  },
  {
   "cell_type": "markdown",
   "id": "f9357ac2",
   "metadata": {},
   "source": [
    "5. re.MULTILINE / re.M -> searches for match at the starting of each line"
   ]
  },
  {
   "cell_type": "code",
   "execution_count": 47,
   "id": "7b96ed97",
   "metadata": {},
   "outputs": [
    {
     "name": "stdout",
     "output_type": "stream",
     "text": [
      "['is']\n",
      "['is']\n"
     ]
    }
   ],
   "source": [
    "print(re.findall(\"^is\", txt, re.MULTILINE))\n",
    "print(re.findall(\"^is\", txt, re.M))"
   ]
  },
  {
   "cell_type": "markdown",
   "id": "31769a1f",
   "metadata": {},
   "source": [
    "6. re.NOFLAG -> no flag is set on patter"
   ]
  },
  {
   "cell_type": "code",
   "execution_count": 48,
   "id": "d6a33b6b",
   "metadata": {},
   "outputs": [
    {
     "name": "stdout",
     "output_type": "stream",
     "text": [
      "['is']\n"
     ]
    }
   ],
   "source": [
    "print(re.findall(\"is\", txt, re.NOFLAG))"
   ]
  },
  {
   "cell_type": "markdown",
   "id": "49f30f2e",
   "metadata": {},
   "source": [
    "7. re.UNICODE /re.U -> returns unicode matches"
   ]
  },
  {
   "cell_type": "code",
   "execution_count": 49,
   "id": "ced2efcb",
   "metadata": {},
   "outputs": [
    {
     "name": "stdout",
     "output_type": "stream",
     "text": [
      "['H', 'Å', 'a', 'l', 'a', 'n', 'd']\n",
      "['H', 'Å', 'a', 'l', 'a', 'n', 'd']\n"
     ]
    }
   ],
   "source": [
    "print(re.findall(\"\\w\", name, re.UNICODE))\n",
    "print(re.findall(\"\\w\", name, re.U))"
   ]
  },
  {
   "cell_type": "markdown",
   "id": "c5e7f754",
   "metadata": {},
   "source": [
    "8. re.VERBOSE / re.X  -> matches for a specific pattern in whole string"
   ]
  },
  {
   "cell_type": "code",
   "execution_count": 50,
   "id": "258aa018",
   "metadata": {},
   "outputs": [
    {
     "name": "stdout",
     "output_type": "stream",
     "text": [
      "['rain', 'Spain', 'mainly', 'plain']\n"
     ]
    }
   ],
   "source": [
    "text = \"The rain in Spain falls mainly on the plain\"\n",
    "\n",
    "#Find and return words that contains the phrase \"ain\":\n",
    "\n",
    "pattern = \"\"\"\n",
    "[A-Za-z]* #starts with any letter\n",
    "ain+      #contains 'ain'\n",
    "[a-z]*    #followed by any small letter\"\"\"\n",
    "\n",
    "print(re.findall(pattern, text, re.VERBOSE))"
   ]
  },
  {
   "cell_type": "code",
   "execution_count": null,
   "id": "d4e0584b",
   "metadata": {},
   "outputs": [],
   "source": []
  }
 ],
 "metadata": {
  "kernelspec": {
   "display_name": "Python 3",
   "language": "python",
   "name": "python3"
  },
  "language_info": {
   "codemirror_mode": {
    "name": "ipython",
    "version": 3
   },
   "file_extension": ".py",
   "mimetype": "text/x-python",
   "name": "python",
   "nbconvert_exporter": "python",
   "pygments_lexer": "ipython3",
   "version": "3.11.0"
  }
 },
 "nbformat": 4,
 "nbformat_minor": 5
}
