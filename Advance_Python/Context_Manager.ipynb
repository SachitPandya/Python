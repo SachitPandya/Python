{
 "cells": [
  {
   "cell_type": "markdown",
   "id": "6c6293e0",
   "metadata": {},
   "source": [
    "Context Managers -> Provides a way to to automatically set and clean the resources once the done is done\n"
   ]
  },
  {
   "cell_type": "markdown",
   "id": "23308d9d",
   "metadata": {},
   "source": [
    "One example of these context manager is with() function in file handling when it's used we dont have to close the file explicitly"
   ]
  },
  {
   "cell_type": "markdown",
   "id": "d6717588",
   "metadata": {},
   "source": [
    "When codes have complex in multiple exits , manually closing these files can be highly dangerous and error prone.Thats why we use context manager"
   ]
  },
  {
   "cell_type": "markdown",
   "id": "b13b0296",
   "metadata": {},
   "source": [
    "Creating a custom context manager"
   ]
  },
  {
   "cell_type": "code",
   "execution_count": 47,
   "id": "51bd8475",
   "metadata": {},
   "outputs": [
    {
     "name": "stdout",
     "output_type": "stream",
     "text": [
      "init method is called\n",
      "entering file file.txt\n",
      "\n",
      "Helloo this is context manager\n",
      "\n",
      "exiting\n",
      "True\n"
     ]
    }
   ],
   "source": [
    "class FileManager:\n",
    "    def __init__(self,filename,mode):\n",
    "        self.name=filename\n",
    "        self.mode=mode\n",
    "        print(\"init method is called\")\n",
    "    \n",
    "    def __enter__(self):\n",
    "        self.file=open(self.name,self.mode)\n",
    "        print(f\"entering file {self.name}\")\n",
    "        print()\n",
    "        return self.file\n",
    "\n",
    "    def __exit__(self,exc_type,exc_value,traceback):\n",
    "        self.file.close()\n",
    "        print(\"exiting\")\n",
    "\n",
    "with FileManager('file.txt','r') as files:\n",
    "    print(files.read())\n",
    "\n",
    "print(files.closed)"
   ]
  },
  {
   "cell_type": "code",
   "execution_count": 49,
   "id": "977381fc",
   "metadata": {},
   "outputs": [
    {
     "name": "stdout",
     "output_type": "stream",
     "text": [
      "Elapsed time: 0.010315179824829102 seconds\n"
     ]
    }
   ],
   "source": [
    "import time\n",
    "\n",
    "class Timer:\n",
    "   def __enter__(self):\n",
    "       self.start_time = time.time()\n",
    "       return self\n",
    "\n",
    "   def __exit__(self, exc_type, exc_value, traceback):\n",
    "       self.end_time = time.time()\n",
    "       elapsed_time = self.end_time - self.start_time\n",
    "       print(f\"Elapsed time: {elapsed_time} seconds\")\n",
    "\n",
    "\n",
    "with Timer() as timer:\n",
    "       # Code block to measure the execution time\n",
    "    time.sleep(.01)"
   ]
  },
  {
   "cell_type": "code",
   "execution_count": null,
   "id": "3ee11be7",
   "metadata": {},
   "outputs": [],
   "source": []
  }
 ],
 "metadata": {
  "kernelspec": {
   "display_name": "Python 3",
   "language": "python",
   "name": "python3"
  },
  "language_info": {
   "codemirror_mode": {
    "name": "ipython",
    "version": 3
   },
   "file_extension": ".py",
   "mimetype": "text/x-python",
   "name": "python",
   "nbconvert_exporter": "python",
   "pygments_lexer": "ipython3",
   "version": "3.11.0"
  }
 },
 "nbformat": 4,
 "nbformat_minor": 5
}
