{
 "cells": [
  {
   "cell_type": "markdown",
   "id": "bedcfc74",
   "metadata": {},
   "source": [
    "Always use .py file for multithreading and multiprocessing\n",
    "\n",
    "\n",
    ".ipynb can be un predictable and try to avoid it\n",
    "\n",
    "\n",
    "Using main.py for the same"
   ]
  },
  {
   "cell_type": "markdown",
   "id": "0198febc",
   "metadata": {},
   "source": [
    "Thread -> It is a light weight sub part of a process ,which can execute a instruction"
   ]
  },
  {
   "cell_type": "markdown",
   "id": "78eca8d9",
   "metadata": {},
   "source": [
    "MultiThreading -> It is process of running these threads concurrently with in a single process, this is also known as ead Parallelism"
   ]
  },
  {
   "cell_type": "markdown",
   "id": "1f9573f6",
   "metadata": {},
   "source": [
    "When a process starts it starts with a main thread,but later on a sub process can be delegated to anither thread,which will work normally,these both threads work in an overlappng manner ,once the work of subthread is finished it then merges into the main thread.and output is generated."
   ]
  },
  {
   "cell_type": "markdown",
   "id": "8cef5f64",
   "metadata": {},
   "source": [
    "Properties ->\n",
    "1. It can be preempted\n",
    "2. It can be put on sleep while other threads are working"
   ]
  },
  {
   "cell_type": "code",
   "execution_count": 57,
   "id": "6950ac68",
   "metadata": {},
   "outputs": [
    {
     "name": "stdout",
     "output_type": "stream",
     "text": [
      "0\n",
      "2\n",
      "4\n",
      "6\n",
      "8\n",
      "10\n",
      "12\n",
      "14\n",
      "16\n",
      "18\n",
      "1\n",
      "3\n",
      "5\n",
      "7\n",
      "9\n",
      "11\n",
      "13\n",
      "15\n",
      "17\n",
      "19\n"
     ]
    }
   ],
   "source": [
    "import threading\n",
    "import time\n",
    "def even():\n",
    "    for i in range(0,20,2):\n",
    "        print(i)\n",
    "\n",
    "def odd():\n",
    "    for i in range(1,20,2):\n",
    "        print(i)\n",
    "\n",
    "th1=threading.Thread(target=even)\n",
    "th2=threading.Thread(target=odd)\n",
    "time.sleep(2)\n",
    "th1.start()\n",
    "# time.sleep\n",
    "th2.start()"
   ]
  },
  {
   "cell_type": "markdown",
   "id": "5de97465",
   "metadata": {},
   "source": [
    "It is not compulsory for threads to return output in the order they are called"
   ]
  },
  {
   "cell_type": "markdown",
   "id": "201fca7e",
   "metadata": {},
   "source": [
    "_thread MOdule -> It is low level thread module .offers basic API for the thread mgmt supports concurrent execution of threads.within shared global space"
   ]
  },
  {
   "cell_type": "markdown",
   "id": "c712ff79",
   "metadata": {},
   "source": [
    "Threading Module -> It builds on _thread to provide high level and comprehensive API.Provides more powerfull tools for managing threads,making it easier to work with threads"
   ]
  },
  {
   "cell_type": "markdown",
   "id": "568931f6",
   "metadata": {},
   "source": [
    "start() -. starts the thread\n",
    "\n",
    "\n",
    "join()-> once the execution is finished the threads are joined together and untill the execution of thrads is not finished the output is not printed.It tells the thread to wait untill the thread gets terminated"
   ]
  },
  {
   "cell_type": "code",
   "execution_count": null,
   "id": "f05072ec",
   "metadata": {},
   "outputs": [],
   "source": [
    "from threading import Thread\n",
    "import time\n",
    "\n",
    "def add(x,y):\n",
    "    result=x+y\n",
    "    for i in range(1,10):\n",
    "        print(result)\n",
    "\n",
    "def cube(x):\n",
    "    result=x**3\n",
    "    print(result)\n",
    "\n",
    "def printing():\n",
    "    print(\"Thread running is finished\")\n",
    "\n",
    "t1=Thread(target=add, args=(6,7))\n",
    "time.sleep(23)\n",
    "t2=Thread(target=cube, args=(5,))\n",
    "t3=Thread(target=printing)\n",
    "\n",
    "t1.start()\n",
    "time.sleep(1)\n",
    "t2.start()\n",
    "t1.join()"
   ]
  },
  {
   "cell_type": "code",
   "execution_count": null,
   "id": "4b9ff2e2",
   "metadata": {},
   "outputs": [],
   "source": [
    "t3.is_alive()       #returns a boolean to whether the sting is terminated or not"
   ]
  },
  {
   "cell_type": "markdown",
   "id": "ebcd7dc8",
   "metadata": {},
   "source": [
    "Creating a thread using the threading.thread class"
   ]
  },
  {
   "cell_type": "code",
   "execution_count": null,
   "id": "e605d5e2",
   "metadata": {},
   "outputs": [
    {
     "name": "stdout",
     "output_type": "stream",
     "text": [
      "StartingThread-1\n",
      "StartingThread-2\n",
      "Exiting main thread\n"
     ]
    },
    {
     "name": "stdout",
     "output_type": "stream",
     "text": [
      "Thread-2 Tue Jun 17 15:09:57 2025\n",
      "Thread-1 Tue Jun 17 15:10:01 2025\n",
      "Thread-2 Tue Jun 17 15:10:01 2025\n",
      "Thread-2 Tue Jun 17 15:10:03 2025\n",
      "Thread-1 Tue Jun 17 15:10:05 2025\n",
      "Thread-2 Tue Jun 17 15:10:07 2025\n",
      "Thread-2 Tue Jun 17 15:10:09 2025\n",
      "Thread-1 Tue Jun 17 15:10:11 2025\n",
      "Thread-2 Tue Jun 17 15:10:13 2025\n",
      "Thread-2 Tue Jun 17 15:10:15 2025\n",
      "Thread-1 Tue Jun 17 15:10:15 2025\n",
      "Thread-2 Tue Jun 17 15:10:19 2025\n",
      "Thread-1 Tue Jun 17 15:10:21 2025\n",
      "Thread-2 Tue Jun 17 15:10:21 2025\n",
      "ExitingThread-2\n",
      "Thread-1 Tue Jun 17 15:10:25 2025\n",
      "Thread-2 Tue Jun 17 15:10:25 2025\n",
      "ExitingThread-2\n",
      "Thread-1 Tue Jun 17 15:10:31 2025\n",
      "Thread-1 Tue Jun 17 15:10:35 2025\n",
      "Thread-1 Tue Jun 17 15:10:41 2025\n",
      "ExitingThread-1\n",
      "Thread-1 Tue Jun 17 15:10:45 2025\n",
      "ExitingThread-1\n"
     ]
    }
   ],
   "source": [
    "import threading,time\n",
    "flag=0\n",
    "#this class is initializing a thread name,ID,and the delay after which it is g0ing to get performed\n",
    "class MainThread(threading.Thread):\n",
    "    def __init__(self,ThreadID,name ,counter):\n",
    "        threading.Thread.__init__(self)\n",
    "        self.ThreadID=ThreadID\n",
    "        self.name=name\n",
    "        self.counter=counter\n",
    "# this method takes the name from and counter and calls the function to execute the thread \n",
    "    def run(self):\n",
    "        print(\"Starting\"+self.name)\n",
    "        print_time(self.name,5,self.counter)\n",
    "        print(\"Exiting\"+self.name)\n",
    "    \n",
    "# This method is used to timestamp the time at which the thread is executed and to exit/terminate the thread,the thread is executd untill the counter is not==0\n",
    "def print_time(threadname,counter,delay):\n",
    "        while counter:\n",
    "            if flag:\n",
    "                threadname.exit()\n",
    "            time.sleep(delay)\n",
    "            print(\"%s %s\" % (threadname,time.ctime(time.time())))\n",
    "            counter-=1\n",
    "\n",
    "t1=MainThread(1,\"Thread-1\",10)\n",
    "t2=MainThread(2,\"Thread-2\",6)\n",
    "\n",
    "t1.start()\n",
    "t2.start()\n",
    "print(\"Exiting main thread\")"
   ]
  },
  {
   "cell_type": "markdown",
   "id": "fa768180",
   "metadata": {},
   "source": [
    "Creating threads using Functions"
   ]
  },
  {
   "cell_type": "code",
   "execution_count": null,
   "id": "746e9179",
   "metadata": {},
   "outputs": [],
   "source": [
    "import time\n",
    "from threading import Thread\n",
    "\n",
    "\n",
    "def thread_task(Threadname,delay):\n",
    "    for count in range(1,9):\n",
    "        time.sleep(delay)\n",
    "        print(\" Thread name : {} and Count: {}\".format(Threadname,count))\n",
    "\n",
    "thread1=Thread(target = thread_task,  args=(\"Thread 1\",2))\n",
    "thread2=Thread(target = thread_task,  args=(\"Thread 2\",1))\n",
    "\n",
    "thread1.start()\n",
    "thread2.start()\n",
    "\n",
    "thread2.join()\n",
    "thread1.join()"
   ]
  },
  {
   "cell_type": "code",
   "execution_count": null,
   "id": "9a866327",
   "metadata": {},
   "outputs": [],
   "source": [
    "import threading\n",
    "def cal_square(num):\n",
    "    return num*num\n",
    "def cal_cube(num):\n",
    "    return num**3\n",
    "t1=threading.Thread(target=cal_square,args=(10,))\n",
    "t2=threading.Thread(target=(cal_cube),args=(10,))\n",
    "a1=t1.start()\n",
    "a2=t2.start()\n",
    "t1.join()\n",
    "t2.join()\n",
    "print(t1,t2)\n",
    "# obj1=print(cal_square(10))\n",
    "# obj2=print(cal_cube(10))\n",
    "# print(obj1)"
   ]
  },
  {
   "cell_type": "markdown",
   "id": "6f6e7ef1",
   "metadata": {},
   "source": [
    "This way we canuse return function while working with threads"
   ]
  },
  {
   "cell_type": "code",
   "execution_count": null,
   "id": "722ad6ea",
   "metadata": {},
   "outputs": [],
   "source": [
    "from threading import Thread\n",
    "\n",
    "class CustomThread(Thread):\n",
    "    def __init__(self, group=None, target=None, name=None, args=(), kwargs={}, verbose=None):\n",
    "        # Initializing the Thread class\n",
    "        super().__init__(group, target, name, args, kwargs)\n",
    "        self._return = None\n",
    "\n",
    "    # Overriding the Thread.run function\n",
    "    def run(self):\n",
    "        if self._target is not None:\n",
    "            self._return = self._target(*self._args, **self._kwargs)\n",
    "\n",
    "    def join(self):\n",
    "        super().join()\n",
    "        return self._return\n",
    "\n",
    "def multiply(n1, n2):\n",
    "    return n1 * n2\n",
    "\n",
    "thread = CustomThread(target=multiply, args=(2, 3))\n",
    "thread.start()\n",
    "print(thread.join())"
   ]
  },
  {
   "cell_type": "markdown",
   "id": "9b408d33",
   "metadata": {},
   "source": [
    "Threadpool -> It is a collection of threads that are made in advance and can be reused later for multiple tasks\n",
    "\n",
    "\n",
    "concurrent.futures  module provide ThreadPoolExecuter class for easy creation and managing of threads"
   ]
  },
  {
   "cell_type": "markdown",
   "id": "98f93872",
   "metadata": {},
   "source": [
    "if __name__==\"__main__\":   This line prevents the code to run on any file,when it is imported as an module and only executes the program when it is runned directly\n",
    "\n",
    "using \"main\" lets us call this function when used as module"
   ]
  },
  {
   "cell_type": "code",
   "execution_count": 3,
   "id": "5ccdfe1c",
   "metadata": {},
   "outputs": [
    {
     "name": "stdout",
     "output_type": "stream",
     "text": [
      "Worker thread running\n",
      "Worker thread running\n",
      "8\n",
      "<_MainThread(MainThread, started 11524)>\n",
      "Worker thread running\n",
      "Worker thread running\n",
      "Worker thread running\n",
      "Main thread continuing to run\n"
     ]
    }
   ],
   "source": [
    "import concurrent.futures\n",
    "import threading\n",
    "\n",
    "def worker():\n",
    "    print(\"Worker thread running\")\n",
    " \n",
    "#This allows us to create threads as much as we want  \n",
    "pool = concurrent.futures.ThreadPoolExecutor(max_workers=2)     \n",
    " \n",
    "pool.submit(worker)     #submits/schedules an fucntion to be executed\n",
    "pool.submit(worker)\n",
    "pool.submit(worker)\n",
    "pool.submit(worker)\n",
    "pool.submit(worker)\n",
    "\n",
    "print(threading.active_count())         #returns the number of active threads\n",
    "# print(threading.enumerate())          #returns the of all the active threads in the same system\n",
    "print(threading.current_thread())       #returns the name of the current thread\n",
    " \n",
    "pool.shutdown(wait=True)      #waits for all the worker threads to get executed and all its resources to be released then only it the main thread is allowed to run\n",
    "print(\"Main thread continuing to run\")"
   ]
  },
  {
   "cell_type": "markdown",
   "id": "40a5830e",
   "metadata": {},
   "source": [
    "Using map() with multithreading"
   ]
  },
  {
   "cell_type": "code",
   "execution_count": 42,
   "id": "7a6dbe58",
   "metadata": {},
   "outputs": [
    {
     "name": "stdout",
     "output_type": "stream",
     "text": [
      "Cube of 3:27 <Thread(ThreadPoolExecutor-39_0, started 19576)>\n",
      "Cube of 4:64 <Thread(ThreadPoolExecutor-39_0, started 19576)>\n",
      "Cube of 5:125 <Thread(ThreadPoolExecutor-39_0, started 19576)>\n",
      "Cube of 6:216 <Thread(ThreadPoolExecutor-39_0, started 19576)>\n"
     ]
    }
   ],
   "source": [
    "from concurrent.futures import ThreadPoolExecutor\n",
    "import threading\n",
    "from time import sleep\n",
    "values = [3,4,5,6]\n",
    "\n",
    "def cube(x):\n",
    "    print(f'Cube of {x}:{x*x*x}',threading.current_thread())\n",
    "\n",
    "if __name__ == '__main__':\n",
    "    result =[]\n",
    "#when using with we dont have to start and join the threads explicitly \n",
    "    with ThreadPoolExecutor(max_workers=2) as exe:          \n",
    "        exe.submit(cube)\n",
    "        # Maps the method 'cube' with a list of values.\n",
    "        result = exe.map(cube,values)"
   ]
  },
  {
   "cell_type": "code",
   "execution_count": 1,
   "id": "e4263fcc",
   "metadata": {},
   "outputs": [
    {
     "name": "stdout",
     "output_type": "stream",
     "text": [
      "[(4, 10684), (9, 10684), (16, 10684), (25, 10684), (36, 10684)] 10684\n",
      "0.0017247200012207031\n"
     ]
    }
   ],
   "source": [
    "import multiprocessing\n",
    "import os,time\n",
    "import concurrent.futures\n",
    "\n",
    "def square1(x):\n",
    "    return x*x,os.getpid()\n",
    "\n",
    "if __name__==\"__main__\":\n",
    "    start=time.time()\n",
    "    pool1=concurrent.futures.ThreadPoolExecutor(max_workers=10)\n",
    "    num=[2,3,4,5,6]\n",
    "    res=list(pool1.map(square1,num))\n",
    "    print(res,os.getpid())\n",
    "    t2=time.time()\n",
    "    print(t2-start)\n"
   ]
  },
  {
   "cell_type": "code",
   "execution_count": null,
   "id": "3f1e4eec",
   "metadata": {},
   "outputs": [],
   "source": [
    "import multiprocessing\n",
    "import os,time\n",
    "import concurrent.futures\n",
    "import threading\n",
    "import re\n",
    "\n",
    "\n",
    "def find_word(input_string,input_word,distance):\n",
    "    span_of_word=[]\n",
    "    start=0\n",
    "    set_of_words=set()\n",
    "    word=input_word\n",
    "    counter=0\n",
    "    try:\n",
    "        for i in range(len(input_string)):\n",
    "            res=re.search(word,input_string[start:])\n",
    "            if res.span() not in span_of_word:\n",
    "                span_of_word.append(res.span())\n",
    "                set_of_words.add(res.span())\n",
    "                start=span_of_word[len(span_of_word)-1][1]\n",
    "        for i in range(len(span_of_word)):\n",
    "            if span_of_word[len(span_of_word)-1][1]-span_of_word[len(span_of_word)-2][1]<distance:\n",
    "                counter+=1\n",
    "\n",
    "        if counter==0:\n",
    "            print(\"The given word [\",word,\"] doesn't come under the specified distance\")\n",
    "        else: \n",
    "            print(\"The word [\",word,\"] has appeared :\",counter,\"times inside the specified distance\")\n",
    "            print(span_of_word,os.getpid())\n",
    "\n",
    "    except AttributeError:\n",
    "        print(\"Given word doesn't exist in the string\")\n",
    "\n",
    "# find_word(str,\"is\",500000)\n",
    "\n",
    "if __name__==\"__main__\":\n",
    "    str=\"Space, is is the is  final frontier, is a vast and mysterious expanse beyond Earth. It is a near-perfect vacuum, containing stars, planets, and galaxies. Space is also the realm of cosmic phenomena like nebulae and black holes. The study of space, called astronomy, helps us understand our place in the universe. \"\n",
    "    str1=\"Space, is  is the final frontier, is \"\n",
    "    start=time.time()\n",
    "    pool1=concurrent.futures.ThreadPoolExecutor(max_workers=40)\n",
    "    res=pool1.submit(find_word(str,\"is\",50))\n",
    "    print(res,threading.current_thread())\n",
    "    t2=time.time()\n",
    "    res1=pool1.submit(find_word(str1,\"is\",5))\n",
    "    print(res1,threading.current_thread())\n",
    "    t3=time.time()\n",
    "    print(t2-start)\n",
    "    print(t3-t2)"
   ]
  },
  {
   "cell_type": "markdown",
   "id": "7114d86c",
   "metadata": {},
   "source": [
    "Deamon Thread -> is a thread that runs in the background and doesn't affect the execution of our program.\n",
    "when we a declare a thread as deamon OS starts in the background and it doesn't have control on when to get terminated.\n",
    "We can run non critical  on the deamon thread which can be useful "
   ]
  },
  {
   "cell_type": "code",
   "execution_count": null,
   "id": "213aeee1",
   "metadata": {},
   "outputs": [],
   "source": [
    "import threading \n",
    "from time import sleep\n",
    "\n",
    "# function to be executed in a new thread\n",
    "def run():\n",
    "   # get the current thread\n",
    "   thread = threading.current_thread()\n",
    "   # is it a daemon thread?\n",
    "   print(f'Daemon thread: {thread.daemon}')\n",
    "\n",
    "# Create a new thread  \n",
    "thread = threading.Thread(target=run)\n",
    "\n",
    "# Using the daemon property set the thread as daemon before starting the thread\n",
    "thread.daemon = True\n",
    "\n",
    "# start the thread\n",
    "thread.start()\n",
    "\n",
    "print('Is Main Thread is Daemon thread:', threading.current_thread().daemon)\n",
    "\n",
    "# Block for a short time to allow the daemon thread to run\n",
    "sleep(0.5)"
   ]
  }
 ],
 "metadata": {
  "kernelspec": {
   "display_name": "Python 3",
   "language": "python",
   "name": "python3"
  },
  "language_info": {
   "codemirror_mode": {
    "name": "ipython",
    "version": 3
   },
   "file_extension": ".py",
   "mimetype": "text/x-python",
   "name": "python",
   "nbconvert_exporter": "python",
   "pygments_lexer": "ipython3",
   "version": "3.11.0"
  }
 },
 "nbformat": 4,
 "nbformat_minor": 5
}
