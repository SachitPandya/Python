{
 "cells": [
  {
   "cell_type": "markdown",
   "id": "ac5f3751",
   "metadata": {},
   "source": [
    "Decorators -> Are a special type of function that takes another function as an input.Decorators modify the functionality of the function"
   ]
  },
  {
   "cell_type": "markdown",
   "id": "bfaac8a4",
   "metadata": {},
   "source": [
    "Nested functions"
   ]
  },
  {
   "cell_type": "code",
   "execution_count": null,
   "id": "0d7e9e35",
   "metadata": {},
   "outputs": [
    {
     "data": {
      "text/plain": [
       "11"
      ]
     },
     "execution_count": 1,
     "metadata": {},
     "output_type": "execute_result"
    }
   ],
   "source": [
    "def out(x):             \n",
    "    def inner(y):\n",
    "        return x+y\n",
    "    return inner\n",
    "\n",
    "x=out(5)\n",
    "r=x(6)\n",
    "r"
   ]
  },
  {
   "cell_type": "markdown",
   "id": "3d09c96a",
   "metadata": {},
   "source": [
    "Flow is first the outer function calculator is called in line 7 it takes 2 args then it goes through function calculator and when it encounters \"return add()\" it will go inside add function and returns the value "
   ]
  },
  {
   "cell_type": "code",
   "execution_count": null,
   "id": "decb3907",
   "metadata": {},
   "outputs": [
    {
     "name": "stdout",
     "output_type": "stream",
     "text": [
      "20\n"
     ]
    }
   ],
   "source": [
    "def calculator(x,y):        \n",
    "    x=x**2\n",
    "    y=y**2\n",
    "    def add():          \n",
    "        return x+y\n",
    "    return add()\n",
    "x=calculator(2,4)\n",
    "print(str(x))"
   ]
  },
  {
   "cell_type": "markdown",
   "id": "850025be",
   "metadata": {},
   "source": [
    "Function as an argument"
   ]
  },
  {
   "cell_type": "code",
   "execution_count": 15,
   "id": "fc08e142",
   "metadata": {},
   "outputs": [
    {
     "data": {
      "text/plain": [
       "34"
      ]
     },
     "execution_count": 15,
     "metadata": {},
     "output_type": "execute_result"
    }
   ],
   "source": [
    "def add(x,y):\n",
    "    return x+y\n",
    "\n",
    "def calculation(func,a,b):\n",
    "    return func(a,b)\n",
    "\n",
    "x=calculation(add,13,21)\n",
    "x"
   ]
  },
  {
   "cell_type": "markdown",
   "id": "75693253",
   "metadata": {},
   "source": [
    "Function as an return value "
   ]
  },
  {
   "cell_type": "markdown",
   "id": "d735ba25",
   "metadata": {},
   "source": [
    "Here im returning function player as an reference and not an function ,thats why when im printing the pl im calling it with a function and not it's value"
   ]
  },
  {
   "cell_type": "code",
   "execution_count": 21,
   "id": "ff61b2bf",
   "metadata": {},
   "outputs": [
    {
     "name": "stdout",
     "output_type": "stream",
     "text": [
      "Virat Kohli\n"
     ]
    }
   ],
   "source": [
    "def cricket(name):\n",
    "    def player():\n",
    "        return name\n",
    "    return player\n",
    "\n",
    "pl=cricket(\"Virat Kohli\")\n",
    "print(pl())"
   ]
  },
  {
   "cell_type": "markdown",
   "id": "c4d4012c",
   "metadata": {},
   "source": [
    "Decorators"
   ]
  },
  {
   "cell_type": "code",
   "execution_count": 136,
   "id": "4b8f5ee0",
   "metadata": {},
   "outputs": [
    {
     "name": "stdout",
     "output_type": "stream",
     "text": [
      "MS is a cricketer\n"
     ]
    }
   ],
   "source": [
    "def cricketer(func):\n",
    "    def inner():\n",
    "        func()\n",
    "        print(\" is a cricketer\")\n",
    "    return inner\n",
    "\n",
    "def name():\n",
    "    print(input(),end=\"\")\n",
    "\n",
    "df=cricketer(name)\n",
    "df()"
   ]
  },
  {
   "cell_type": "markdown",
   "id": "20359a9d",
   "metadata": {},
   "source": [
    "when i use @ with a def name it automatically calls that function and goes in that function first then when the below function is called it comes in that function"
   ]
  },
  {
   "cell_type": "markdown",
   "id": "653128d8",
   "metadata": {},
   "source": [
    "Decorators with parameter"
   ]
  },
  {
   "cell_type": "code",
   "execution_count": 137,
   "id": "82c21c84",
   "metadata": {},
   "outputs": [
    {
     "name": "stdout",
     "output_type": "stream",
     "text": [
      "hey\n",
      "RohitRohitRohitRohitRohit is a cricketer\n"
     ]
    }
   ],
   "source": [
    "def cricketer(func):\n",
    "    def inner(n):\n",
    "        func(n)\n",
    "        print(\" is a cricketer\")\n",
    "    return inner\n",
    "\n",
    "@cricketer\n",
    "def name(n):\n",
    "    print(\"hey\")\n",
    "    print(\"Rohit\"*n,end=\"\")\n",
    "name(5)"
   ]
  },
  {
   "cell_type": "code",
   "execution_count": 146,
   "id": "88d459e5",
   "metadata": {},
   "outputs": [
    {
     "data": {
      "text/plain": [
       "0"
      ]
     },
     "execution_count": 146,
     "metadata": {},
     "output_type": "execute_result"
    }
   ],
   "source": [
    "def mul(func):\n",
    "    def checker(a,b):\n",
    "        if b==0:\n",
    "            return 0\n",
    "        return (func(a,b))\n",
    "    return checker      # should never put paranthesis after function name here \n",
    "\n",
    "@mul\n",
    "def multiply(a,b):\n",
    "    print(a*b)\n",
    "\n",
    "multiply(8,0)"
   ]
  },
  {
   "cell_type": "code",
   "execution_count": 135,
   "id": "348ace09",
   "metadata": {},
   "outputs": [
    {
     "name": "stdout",
     "output_type": "stream",
     "text": [
      "('fail', 12)\n",
      "('pass', 43)\n",
      "('pass', 64)\n",
      "Distinction  87\n",
      "('pass', 54)\n",
      "('fail', 32)\n"
     ]
    }
   ],
   "source": [
    "def get_marks(result):\n",
    "    def distinction(marks):\n",
    "        for mark in marks:\n",
    "            if mark > 75:\n",
    "                print(\"Distinction \",mark)\n",
    "            else:\n",
    "                print(result(mark))\n",
    "    return distinction\n",
    "\n",
    "@get_marks\n",
    "def result(mark):\n",
    "        if mark>33:\n",
    "            return \"pass\",mark\n",
    "        else: \n",
    "            return \"fail\",mark\n",
    "\n",
    "marks=[12,43,64,87,54,32]\n",
    "result(marks)\n"
   ]
  },
  {
   "cell_type": "markdown",
   "id": "6485052a",
   "metadata": {},
   "source": [
    "Chaining of decorators"
   ]
  },
  {
   "cell_type": "code",
   "execution_count": null,
   "id": "6e2e5541",
   "metadata": {},
   "outputs": [],
   "source": [
    "def star(func):\n",
    "    def inner(*args,**kwargs):\n",
    "        print(\"*\"*15)\n",
    "        func(*args,**kwargs)\n",
    "        print(\"*\"*15)\n",
    "    return inner\n",
    "\n",
    "def underscore(func):\n",
    "    def inner(*args,**kwargs):\n",
    "        print(\"_\"*13)\n",
    "        func(*args,**kwargs)\n",
    "        print(\"_\"*13)\n",
    "    return inner"
   ]
  },
  {
   "cell_type": "code",
   "execution_count": 183,
   "id": "6b1b80a5",
   "metadata": {},
   "outputs": [
    {
     "name": "stdout",
     "output_type": "stream",
     "text": [
      "***************\n",
      "_____________\n",
      "Sam is great\n",
      "_____________\n",
      "***************\n",
      "***************\n",
      "_____________\n",
      "Sam is great\n",
      "_____________\n",
      "***************\n"
     ]
    }
   ],
   "source": [
    "@star\n",
    "@underscore\n",
    "def printer(msg):\n",
    "    print(msg)\n",
    "printer(\"Sam is great\")\n",
    "\n",
    "# This is equivalent to\n",
    "\n",
    "def printer(msg):\n",
    "    print(msg)\n",
    "\n",
    "printer = star(underscore(printer))\n",
    "printer(\"Sam is great\")"
   ]
  },
  {
   "cell_type": "markdown",
   "id": "9df9ec20",
   "metadata": {},
   "source": [
    "Types of Decorators"
   ]
  },
  {
   "cell_type": "markdown",
   "id": "c89a9384",
   "metadata": {},
   "source": [
    "1. Function decorators"
   ]
  },
  {
   "cell_type": "code",
   "execution_count": 190,
   "id": "e1d25c24",
   "metadata": {},
   "outputs": [
    {
     "name": "stdout",
     "output_type": "stream",
     "text": [
      "1 4 9 16 25 36 49 "
     ]
    }
   ],
   "source": [
    "def square_num(func):\n",
    "    def num_sq(lst):\n",
    "        for num in lst:\n",
    "            print(num**2,end=\" \")\n",
    "        func(num)\n",
    "    return num_sq\n",
    "\n",
    "@square_num\n",
    "def sq_printer(num):\n",
    "    return num\n",
    "\n",
    "lst=[1,2,3,4,5,6,7]\n",
    "sq_printer(lst)"
   ]
  },
  {
   "cell_type": "markdown",
   "id": "64d6cd77",
   "metadata": {},
   "source": [
    "2. class Decorator"
   ]
  },
  {
   "cell_type": "code",
   "execution_count": 192,
   "id": "f34325b7",
   "metadata": {},
   "outputs": [
    {
     "name": "stdout",
     "output_type": "stream",
     "text": [
      "289\n"
     ]
    }
   ],
   "source": [
    "class Sum:\n",
    "    def __init__(self,func):\n",
    "        self.func=func\n",
    "    \n",
    "    def __call__(self, *args, **kwrgs):\n",
    "        result=self.func(*args,**kwrgs)\n",
    "        return result ** 2\n",
    "    \n",
    "@Sum\n",
    "def add(a,b):\n",
    "    return a+b\n",
    "\n",
    "print(add(8,9))"
   ]
  },
  {
   "cell_type": "markdown",
   "id": "20ee7bf7",
   "metadata": {},
   "source": [
    "Write a Python program to create a decorator to convert the return value of a function to a specified data type."
   ]
  },
  {
   "cell_type": "code",
   "execution_count": 5,
   "id": "fd64ee5e",
   "metadata": {},
   "outputs": [
    {
     "data": {
      "text/plain": [
       "(786.0, float)"
      ]
     },
     "execution_count": 5,
     "metadata": {},
     "output_type": "execute_result"
    }
   ],
   "source": [
    "def convert_datatype(func):\n",
    "\n",
    "    def inner(datatype_to_be_changed,input_data):\n",
    "        input_data=str(input_data)\n",
    "        try:\n",
    "                in_data=datatype_to_be_changed(input_data)\n",
    "                func(datatype_to_be_changed,input_data)\n",
    "                return (in_data,type(in_data))\n",
    "        except ValueError:\n",
    "                print(\"DataType can't be changed\")\n",
    "            \n",
    "    return inner\n",
    "\n",
    "@convert_datatype\n",
    "def change_data(data,in_data):\n",
    "    pass\n",
    "\n",
    "change_data(float,'786')"
   ]
  },
  {
   "cell_type": "code",
   "execution_count": 216,
   "id": "20fc53a9",
   "metadata": {},
   "outputs": [
    {
     "name": "stdout",
     "output_type": "stream",
     "text": [
      "4352.0\n"
     ]
    },
    {
     "data": {
      "text/plain": [
       "float"
      ]
     },
     "execution_count": 216,
     "metadata": {},
     "output_type": "execute_result"
    }
   ],
   "source": [
    "def deco_convert_type(data_type):\n",
    "    def inner(func):\n",
    "        def wrapper(*args):\n",
    "            res = func(*args)\n",
    "            return data_type(res)\n",
    "        return wrapper\n",
    "    return inner\n",
    " \n",
    "@deco_convert_type(float)\n",
    "def multiply_nos(numbers):\n",
    "    total = 1\n",
    "    for i in numbers:\n",
    "        total *= i\n",
    "    return total\n",
    " \n",
    "final_res = multiply_nos([1,2,34,4,4,4,1])\n",
    "print(final_res)\n",
    "type(final_res)"
   ]
  },
  {
   "cell_type": "markdown",
   "id": "50cffb4d",
   "metadata": {},
   "source": [
    "3. Built In Decorator"
   ]
  },
  {
   "cell_type": "markdown",
   "id": "148a55f6",
   "metadata": {},
   "source": [
    "1. Abstract Method -> This is done in abstraction.ipynb \n",
    "2. Static Method\n",
    "3. Class Method\n",
    "are done in OOPs in Class_and_Objects.ipynb file"
   ]
  }
 ],
 "metadata": {
  "kernelspec": {
   "display_name": "Python 3",
   "language": "python",
   "name": "python3"
  },
  "language_info": {
   "codemirror_mode": {
    "name": "ipython",
    "version": 3
   },
   "file_extension": ".py",
   "mimetype": "text/x-python",
   "name": "python",
   "nbconvert_exporter": "python",
   "pygments_lexer": "ipython3",
   "version": "3.11.0"
  }
 },
 "nbformat": 4,
 "nbformat_minor": 5
}
