{
 "cells": [
  {
   "cell_type": "markdown",
   "id": "faf522eb",
   "metadata": {},
   "source": [
    "Iterators"
   ]
  },
  {
   "cell_type": "markdown",
   "id": "55a1ea7c",
   "metadata": {},
   "source": [
    "Iterators -> It holds the sequence of values and provides sequential traversal in iterables.\n"
   ]
  },
  {
   "cell_type": "markdown",
   "id": "4abaf773",
   "metadata": {},
   "source": [
    "__itr__() method initilizes the sequence "
   ]
  },
  {
   "cell_type": "markdown",
   "id": "cf5ca007",
   "metadata": {},
   "source": [
    "__next__() method iterates the sequence and prints it one by one"
   ]
  },
  {
   "cell_type": "code",
   "execution_count": 31,
   "id": "11db7d70",
   "metadata": {},
   "outputs": [
    {
     "name": "stdout",
     "output_type": "stream",
     "text": [
      "s\n",
      "a\n",
      "m\n"
     ]
    }
   ],
   "source": [
    "str1=\"sam\"\n",
    "\n",
    "def ps(str1):\n",
    "    for i in str1:\n",
    "        yield i\n",
    "\n",
    "s=ps(str1)\n",
    "for s1 in str1:\n",
    "    print(next(s))"
   ]
  },
  {
   "cell_type": "code",
   "execution_count": 33,
   "id": "9c3d02ce",
   "metadata": {},
   "outputs": [
    {
     "name": "stdout",
     "output_type": "stream",
     "text": [
      "s\n"
     ]
    }
   ],
   "source": [
    "it1=iter(str1)      #This is initilizing the iterable\n",
    "print(next(it1))    # This is printing the values in iterable"
   ]
  },
  {
   "cell_type": "code",
   "execution_count": 44,
   "id": "8f1877dd",
   "metadata": {},
   "outputs": [
    {
     "name": "stdout",
     "output_type": "stream",
     "text": [
      "2\n",
      "4\n",
      "6\n",
      "8\n",
      "10\n"
     ]
    }
   ],
   "source": [
    "class even_num():\n",
    "    def __iter__(self):\n",
    "        self.n=2\n",
    "        return self\n",
    "\n",
    "    def __next__(self):\n",
    "        x=self.n\n",
    "        self.n+=2\n",
    "        return x\n",
    "\n",
    "even=even_num()\n",
    "it2=iter(even)\n",
    "\n",
    "for i in range(5):\n",
    "    print(next(it2))\n"
   ]
  },
  {
   "cell_type": "code",
   "execution_count": 36,
   "id": "e72c7b69",
   "metadata": {},
   "outputs": [
    {
     "name": "stdout",
     "output_type": "stream",
     "text": [
      "ayush\n",
      "dusht\n",
      "mukul\n",
      "mukund\n",
      "sachit\n",
      "sumit\n",
      "End if list\n"
     ]
    }
   ],
   "source": [
    "lst=[\"ayush\",\"dusht\",\"mukul\",\"mukund\",\"sachit\",\"sumit\"]\n",
    "it3=iter(lst)\n",
    "\n",
    "while True:\n",
    "    try:\n",
    "        print(next(it3))\n",
    "    except StopIteration:\n",
    "        print(\"End if list\")\n",
    "        break"
   ]
  },
  {
   "cell_type": "markdown",
   "id": "540cfd1f",
   "metadata": {},
   "source": [
    "Generators"
   ]
  },
  {
   "cell_type": "markdown",
   "id": "7e40d5ed",
   "metadata": {},
   "source": [
    "generator -> is similar as a function with atleast 1 yield statement in it\n",
    "\n",
    "-> it doesn't return a single value it returns a generator object,so that sequnetial values can be printed"
   ]
  },
  {
   "cell_type": "code",
   "execution_count": 17,
   "id": "0d5c98cc",
   "metadata": {},
   "outputs": [
    {
     "name": "stdout",
     "output_type": "stream",
     "text": [
      "7 6 5 4 3 2 1 "
     ]
    },
    {
     "data": {
      "text/plain": [
       "192"
      ]
     },
     "execution_count": 17,
     "metadata": {},
     "output_type": "execute_result"
    }
   ],
   "source": [
    "def rev_number(upper_num):\n",
    "    while upper_num!=0:\n",
    "        yield upper_num\n",
    "        upper_num-=1\n",
    "\n",
    "x=rev_number(7)\n",
    "for i in x:\n",
    "    print(i,end=\" \")\n",
    "\n",
    "import sys\n",
    "sys.getsizeof(rev_number(5))"
   ]
  },
  {
   "cell_type": "code",
   "execution_count": 20,
   "id": "12021b52",
   "metadata": {},
   "outputs": [
    {
     "data": {
      "text/plain": [
       "28"
      ]
     },
     "execution_count": 20,
     "metadata": {},
     "output_type": "execute_result"
    }
   ],
   "source": [
    "def rev_number(upper_num):\n",
    "    while upper_num!=0:\n",
    "        upper_num-=1\n",
    "        return upper_num\n",
    "    \n",
    "import sys\n",
    "sys.getsizeof(rev_number(5))  "
   ]
  },
  {
   "cell_type": "code",
   "execution_count": 6,
   "id": "c15f3c04",
   "metadata": {},
   "outputs": [],
   "source": [
    "l=[x for x in range(1,10)]"
   ]
  },
  {
   "cell_type": "code",
   "execution_count": 15,
   "id": "140c796e",
   "metadata": {},
   "outputs": [
    {
     "name": "stdout",
     "output_type": "stream",
     "text": [
      "28\n",
      "184\n"
     ]
    }
   ],
   "source": [
    "import sys\n",
    "l1=iter(l)\n",
    "print(sys.getsizeof(next(l1)))\n",
    "print(sys.getsizeof(l))"
   ]
  },
  {
   "cell_type": "markdown",
   "id": "8c7d25d0",
   "metadata": {},
   "source": [
    "IterTools Module\n",
    "-> It is a module that has methods from which we can efficiently handle the iterables"
   ]
  },
  {
   "cell_type": "markdown",
   "id": "c91d698a",
   "metadata": {},
   "source": [
    "terminating iterators"
   ]
  },
  {
   "cell_type": "code",
   "execution_count": 40,
   "id": "a7863552",
   "metadata": {},
   "outputs": [
    {
     "name": "stdout",
     "output_type": "stream",
     "text": [
      "[1, 3, 6, 10, 15]\n"
     ]
    }
   ],
   "source": [
    "import itertools \n",
    "lst=[1,2,3,4,5]\n",
    "sum1=itertools.accumulate(lst)\n",
    "print(list(sum1))\n"
   ]
  },
  {
   "cell_type": "code",
   "execution_count": 31,
   "id": "6c4309e0",
   "metadata": {},
   "outputs": [
    {
     "data": {
      "text/plain": [
       "'itertools.batched(lst,2)'"
      ]
     },
     "execution_count": 31,
     "metadata": {},
     "output_type": "execute_result"
    }
   ],
   "source": [
    "\"\"\"itertools.batched(lst,2)\"\"\"   #This will only work in py 3.12 and above \n",
    "#Output will be [(1,2),(3,45),(6,76),(5,45)]"
   ]
  },
  {
   "cell_type": "code",
   "execution_count": 41,
   "id": "ca30ebf2",
   "metadata": {},
   "outputs": [
    {
     "name": "stdout",
     "output_type": "stream",
     "text": [
      "[1, 2, 3, 4, 5, 6, 7, 8, 9, 10]\n",
      "104 104 48\n"
     ]
    }
   ],
   "source": [
    "lst2=[6,7,8,9,10]\n",
    "chain1=itertools.chain(lst,lst2)\n",
    "print(list(chain1))     # This merges two iterables into an single iterable\n",
    "print(sys.getsizeof(lst),sys.getsizeof(lst2),sys.getsizeof(chain1))"
   ]
  },
  {
   "cell_type": "code",
   "execution_count": 50,
   "id": "6adffaff",
   "metadata": {},
   "outputs": [
    {
     "name": "stdout",
     "output_type": "stream",
     "text": [
      "[2, 4]\n"
     ]
    }
   ],
   "source": [
    "even =[x%2==0 for x in lst]  \n",
    "com1=itertools.compress(lst,even)\n",
    "print(list(com1))"
   ]
  },
  {
   "cell_type": "code",
   "execution_count": null,
   "id": "7d53f98c",
   "metadata": {},
   "outputs": [],
   "source": []
  },
  {
   "cell_type": "code",
   "execution_count": null,
   "id": "be95c91b",
   "metadata": {},
   "outputs": [],
   "source": []
  }
 ],
 "metadata": {
  "kernelspec": {
   "display_name": "Python 3",
   "language": "python",
   "name": "python3"
  },
  "language_info": {
   "codemirror_mode": {
    "name": "ipython",
    "version": 3
   },
   "file_extension": ".py",
   "mimetype": "text/x-python",
   "name": "python",
   "nbconvert_exporter": "python",
   "pygments_lexer": "ipython3",
   "version": "3.11.0"
  }
 },
 "nbformat": 4,
 "nbformat_minor": 5
}
