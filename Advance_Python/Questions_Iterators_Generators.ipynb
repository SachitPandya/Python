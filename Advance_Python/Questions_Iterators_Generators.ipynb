{
 "cells": [
  {
   "cell_type": "markdown",
   "id": "2764954a",
   "metadata": {},
   "source": [
    "1. Cubes Generator"
   ]
  },
  {
   "cell_type": "code",
   "execution_count": 48,
   "id": "7b0a6458",
   "metadata": {},
   "outputs": [
    {
     "name": "stdout",
     "output_type": "stream",
     "text": [
      "<generator object cubes at 0x000002909E9D6670>\n",
      "0\n",
      "1\n",
      "8\n",
      "27\n",
      "64\n",
      "125\n"
     ]
    }
   ],
   "source": [
    "def cubes(n):\n",
    "    for i in range(n):\n",
    "        yield i**3\n",
    "\n",
    "c1=cubes(6)\n",
    "print(c1)\n",
    "for i in c1:\n",
    "    print(i)"
   ]
  },
  {
   "cell_type": "markdown",
   "id": "bdb1ad6f",
   "metadata": {},
   "source": [
    "2. Random Number Generator"
   ]
  },
  {
   "cell_type": "code",
   "execution_count": 47,
   "id": "73ce5912",
   "metadata": {},
   "outputs": [
    {
     "name": "stdout",
     "output_type": "stream",
     "text": [
      "21\n",
      "34\n",
      "35\n",
      "24\n",
      "18\n",
      "23\n"
     ]
    }
   ],
   "source": [
    "import random\n",
    "def random_num(start_num,end_num):\n",
    "    yield random.randrange(start_num,end_num)\n",
    "\n",
    "# c2=random_num(1,39)\n",
    "for i in range(6):\n",
    "    print(next(random_num(1,39)))        "
   ]
  },
  {
   "cell_type": "markdown",
   "id": "d656df39",
   "metadata": {},
   "source": [
    "3. Prime Number in given range"
   ]
  },
  {
   "cell_type": "code",
   "execution_count": 32,
   "id": "171941ac",
   "metadata": {},
   "outputs": [
    {
     "name": "stdout",
     "output_type": "stream",
     "text": [
      "23 29 31 37 41 43 47 53 59 61 67 71 73 79 83 89 "
     ]
    }
   ],
   "source": [
    "def isprime(start_num,end_num):\n",
    "    for i in range(start_num,end_num):\n",
    "        h=i//2\n",
    "        f=1\n",
    "        for j in range(2,h+1):\n",
    "            if i%j==0:\n",
    "                f=0  \n",
    "        if f==1:\n",
    "            yield i\n",
    "    \n",
    "for i in isprime(20,90):\n",
    "    print(i,end=\" \")"
   ]
  },
  {
   "cell_type": "markdown",
   "id": "d85ce35b",
   "metadata": {},
   "source": [
    "4. Fibonacci generator"
   ]
  },
  {
   "cell_type": "code",
   "execution_count": 41,
   "id": "76d85aa2",
   "metadata": {},
   "outputs": [
    {
     "name": "stdout",
     "output_type": "stream",
     "text": [
      "1 2 3 5 8 13 21 34 55 89 "
     ]
    }
   ],
   "source": [
    "def fibonacci(start,end):\n",
    "    i_num=start+1\n",
    "    for i in range(start,end):\n",
    "        num1=start\n",
    "        num2=i_num        \n",
    "        num3=num1+num2\n",
    "\n",
    "        yield num3\n",
    "\n",
    "        start=num2\n",
    "        i_num=num3\n",
    "\n",
    "for i in fibonacci(0,10):\n",
    "    print(i,end=\" \")"
   ]
  },
  {
   "cell_type": "code",
   "execution_count": null,
   "id": "38ad9539",
   "metadata": {},
   "outputs": [],
   "source": []
  }
 ],
 "metadata": {
  "kernelspec": {
   "display_name": "Python 3",
   "language": "python",
   "name": "python3"
  },
  "language_info": {
   "codemirror_mode": {
    "name": "ipython",
    "version": 3
   },
   "file_extension": ".py",
   "mimetype": "text/x-python",
   "name": "python",
   "nbconvert_exporter": "python",
   "pygments_lexer": "ipython3",
   "version": "3.11.0"
  }
 },
 "nbformat": 4,
 "nbformat_minor": 5
}
