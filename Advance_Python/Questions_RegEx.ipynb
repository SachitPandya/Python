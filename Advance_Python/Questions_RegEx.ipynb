{
 "cells": [
  {
   "cell_type": "markdown",
   "id": "0abcae71",
   "metadata": {},
   "source": [
    "1. Allowed Characters Check only should have  [a-zA-Z0-9]"
   ]
  },
  {
   "cell_type": "code",
   "execution_count": 11,
   "id": "e9d75843",
   "metadata": {},
   "outputs": [],
   "source": [
    "import re"
   ]
  },
  {
   "cell_type": "code",
   "execution_count": 12,
   "id": "3f1a00f2",
   "metadata": {},
   "outputs": [],
   "source": [
    "def valid(in_str):\n",
    "    if in_str:\n",
    "        print(\"valid\")\n",
    "    else:\n",
    "        print(\"not valid\")"
   ]
  },
  {
   "cell_type": "code",
   "execution_count": 13,
   "id": "bd4d110d",
   "metadata": {},
   "outputs": [
    {
     "data": {
      "text/plain": [
       "True"
      ]
     },
     "execution_count": 13,
     "metadata": {},
     "output_type": "execute_result"
    }
   ],
   "source": [
    "def check_string(input_string):\n",
    "    res=len(re.findall(\"[a-zA-Z0-9]\",input_string))\n",
    "    white_space=len(re.findall(\"\\s\",input_string))\n",
    "    if len(input_string)==res+white_space:\n",
    "        return True \n",
    "    else: return False\n",
    "\n",
    "str1=\"NehaalDixit61790comb\"\n",
    "check_string(str1)"
   ]
  },
  {
   "cell_type": "markdown",
   "id": "869efd30",
   "metadata": {},
   "source": [
    "2. Write a Python program that matches a string that has an a followed by zero or more b's."
   ]
  },
  {
   "cell_type": "code",
   "execution_count": 14,
   "id": "148184bb",
   "metadata": {},
   "outputs": [
    {
     "name": "stdout",
     "output_type": "stream",
     "text": [
      "valid\n"
     ]
    }
   ],
   "source": [
    "str2=\"abbbb\"\n",
    "\n",
    "res2=re.search(\"^a(b*)$\",str2)\n",
    "# print(res2)\n",
    "if res2:\n",
    "    print('valid')\n",
    "else:\n",
    "    print(\"not\")"
   ]
  },
  {
   "cell_type": "markdown",
   "id": "bcb4760b",
   "metadata": {},
   "source": [
    "3. Write a Python program that matches a string that has an a followed by one or more b's."
   ]
  },
  {
   "cell_type": "code",
   "execution_count": 15,
   "id": "fa4effea",
   "metadata": {},
   "outputs": [
    {
     "name": "stdout",
     "output_type": "stream",
     "text": [
      "valid\n"
     ]
    }
   ],
   "source": [
    "str3=\"abbbbb\"\n",
    "\n",
    "res3=re.search(\"^a(b+)$\",str3)\n",
    "if res3:\n",
    "    print(\"valid\")\n",
    "else:\n",
    "    print(\"not\")"
   ]
  },
  {
   "cell_type": "markdown",
   "id": "cd837fab",
   "metadata": {},
   "source": [
    "4. Write a Python program that matches a string that has an a followed by zero or one 'b'."
   ]
  },
  {
   "cell_type": "code",
   "execution_count": 16,
   "id": "4356e360",
   "metadata": {},
   "outputs": [
    {
     "name": "stdout",
     "output_type": "stream",
     "text": [
      "valid\n"
     ]
    }
   ],
   "source": [
    "str4=\"ab\"\n",
    "res4=re.search(\"ab?$\",str4)\n",
    "valid(res4)"
   ]
  },
  {
   "cell_type": "markdown",
   "id": "c8a38bde",
   "metadata": {},
   "source": [
    "5. Write a Python program that matches a string that has an a followed by minimum of three 'b'."
   ]
  },
  {
   "cell_type": "code",
   "execution_count": 17,
   "id": "6ac61847",
   "metadata": {},
   "outputs": [
    {
     "name": "stdout",
     "output_type": "stream",
     "text": [
      "valid\n"
     ]
    }
   ],
   "source": [
    "str5=\"abbbbcc\"\n",
    "pattern='ab{3}'\n",
    "res5=re.findall(pattern,str5)\n",
    "valid(res5)"
   ]
  },
  {
   "cell_type": "markdown",
   "id": "07f9159b",
   "metadata": {},
   "source": [
    "6. Write a Python program that matches a string that has an a followed by two to three 'b'."
   ]
  },
  {
   "cell_type": "code",
   "execution_count": 18,
   "id": "f04fcd1a",
   "metadata": {},
   "outputs": [
    {
     "name": "stdout",
     "output_type": "stream",
     "text": [
      "['abbb']\n",
      "valid\n"
     ]
    }
   ],
   "source": [
    "str6=\"babbb\"\n",
    "res6=re.findall('ab{2,3}',str6)\n",
    "print(res6)\n",
    "valid(res6)"
   ]
  },
  {
   "cell_type": "markdown",
   "id": "b1bbf895",
   "metadata": {},
   "source": [
    "7. Write a Python program to find sequences of lowercase letters joined by an underscore."
   ]
  },
  {
   "cell_type": "code",
   "execution_count": 19,
   "id": "b8dd0455",
   "metadata": {},
   "outputs": [
    {
     "name": "stdout",
     "output_type": "stream",
     "text": [
      "['hello_my_name_is']\n",
      "valid\n"
     ]
    }
   ],
   "source": [
    "str7=\"hello_my_name_is fksad asndkanl sam\"\n",
    "# hello_my_name_is\n",
    "x = str7.count('_')\n",
    "pat = '[a-z]+_[a-z]*'*x\n",
    "# print(pat)\n",
    "\n",
    "pattern7=pat\n",
    "res7=re.findall(pattern7,str7)\n",
    "print(res7)\n",
    "valid(res7)"
   ]
  },
  {
   "cell_type": "markdown",
   "id": "480643d8",
   "metadata": {},
   "source": [
    "8. Write a Python program to find the sequences of one upper case letter followed by lower case letters."
   ]
  },
  {
   "cell_type": "code",
   "execution_count": 20,
   "id": "c3f2944b",
   "metadata": {},
   "outputs": [
    {
     "name": "stdout",
     "output_type": "stream",
     "text": [
      "['Hello', 'Name', 'Sam']\n",
      "valid\n"
     ]
    }
   ],
   "source": [
    "str8=\"Hello my Name is Sam\"\n",
    "pattern8=\"[A-Z]+[a-z]+\"\n",
    "\n",
    "res8=re.findall(pattern8,str8)\n",
    "print(res8)\n",
    "valid(res8)"
   ]
  },
  {
   "cell_type": "markdown",
   "id": "4227b095",
   "metadata": {},
   "source": [
    "9. Write a Python program that matches a string that has an 'a' followed by anything ending in 'b'."
   ]
  },
  {
   "cell_type": "code",
   "execution_count": 21,
   "id": "5ecfa262",
   "metadata": {},
   "outputs": [
    {
     "name": "stdout",
     "output_type": "stream",
     "text": [
      "['aleb', 'abbb', 'abb']\n",
      "valid\n"
     ]
    }
   ],
   "source": [
    "str9=\" paleb My name pjiabbbdd is Sam abba\"\n",
    "pattern9=r\"a+[a-z]*b+\"\n",
    "\n",
    "res9=re.findall(pattern9,str9)\n",
    "print(res9)\n",
    "valid(res9)"
   ]
  },
  {
   "cell_type": "markdown",
   "id": "a179c37d",
   "metadata": {},
   "source": [
    "10. Write a Python program that matches a word at the beginning of a string."
   ]
  },
  {
   "cell_type": "code",
   "execution_count": 22,
   "id": "03fe96fd",
   "metadata": {},
   "outputs": [
    {
     "name": "stdout",
     "output_type": "stream",
     "text": [
      "['Virat']\n",
      "valid\n"
     ]
    }
   ],
   "source": [
    "str10=\"Virat Kohli is GOAT\"\n",
    "pattern10=r\"\\AVirat\"\n",
    "res10=re.findall(pattern10,str10)\n",
    "print(res10)\n",
    "valid(res10)"
   ]
  },
  {
   "cell_type": "markdown",
   "id": "31a65689",
   "metadata": {},
   "source": [
    "11. Write a Python program that matches a word at the end of a string, with optional punctuation."
   ]
  },
  {
   "cell_type": "code",
   "execution_count": 23,
   "id": "ba3db4cb",
   "metadata": {},
   "outputs": [
    {
     "name": "stdout",
     "output_type": "stream",
     "text": [
      "['GOAT']\n",
      "valid\n"
     ]
    }
   ],
   "source": [
    "str11=\"Virat Kohli is GOAT\"\n",
    "pattern11=r\"goat\\Z\"\n",
    "res11=re.findall(pattern11,str11,re.IGNORECASE)\n",
    "print(res11)\n",
    "valid(res11)"
   ]
  },
  {
   "cell_type": "markdown",
   "id": "0816f549",
   "metadata": {},
   "source": [
    "12. Write a Python program that matches a word containing 'z'."
   ]
  },
  {
   "cell_type": "code",
   "execution_count": 24,
   "metadata": {},
   "outputs": [
    {
     "name": "stdout",
     "output_type": "stream",
     "text": [
      "['Zebra', 'helzo', 'herbovourz']\n",
      "valid\n"
     ]
    }
   ],
   "source": [
    "str12=\" Zebra is a  helzo herbovourz\"\n",
    "pattern12=r\"[a-zA-z]*z+[a-zA-Z]*\"\n",
    "res12=re.findall(pattern12,str12,re.I)\n",
    "print(res12)\n",
    "valid(res12)"
   ]
  },
  {
   "cell_type": "markdown",
   "id": "5044f95f",
   "metadata": {},
   "source": [
    "13. Write a Python program that matches a word containing 'z', not the start or end of the word."
   ]
  },
  {
   "cell_type": "code",
   "execution_count": 25,
   "id": "b94616d9",
   "metadata": {},
   "outputs": [
    {
     "name": "stdout",
     "output_type": "stream",
     "text": [
      "['nzme', 'nzme']\n",
      "valid\n"
     ]
    }
   ],
   "source": [
    "str13=\"Helloz zy nzme nzme is Sam\"\n",
    "pattern13=\"\\w+z+\\w+\"\n",
    "res13=re.findall(pattern13,str13,re.I)\n",
    "print(res13)\n",
    "valid(res13)"
   ]
  },
  {
   "cell_type": "markdown",
   "id": "b655851c",
   "metadata": {},
   "source": [
    "14. Write a Python program to match a string that contains only upper and lowercase letters, numbers, and underscores."
   ]
  },
  {
   "cell_type": "code",
   "execution_count": 26,
   "id": "e8520c32",
   "metadata": {},
   "outputs": [
    {
     "name": "stdout",
     "output_type": "stream",
     "text": [
      "['Hel', 'lo', 'My', 'name_is', 'Sam18']\n",
      "valid\n"
     ]
    }
   ],
   "source": [
    "str14=\"Hel@lo My name_is  @Sam18\"\n",
    "pattern14=r\"\\w+\"\n",
    "res14=re.findall(pattern14,str14,re.I)\n",
    "print(res14)\n",
    "valid(res14)"
   ]
  },
  {
   "cell_type": "markdown",
   "id": "9bcb8e64",
   "metadata": {},
   "source": [
    "15. Write a Python program that starts each string with a specific number."
   ]
  },
  {
   "cell_type": "code",
   "execution_count": 27,
   "id": "a22b58c3",
   "metadata": {},
   "outputs": [
    {
     "name": "stdout",
     "output_type": "stream",
     "text": [
      "['9Hello', '9hgfkutf']\n",
      "valid\n",
      "\n",
      "9Hello\n",
      "9hgfkutf\n",
      "These are words that start with same digit\n"
     ]
    }
   ],
   "source": [
    "str15=\"\"\"9Hello  my name us\n",
    "9hgfkutf\"\"\"\n",
    "pattern15=r\"^9+\\w+\"\n",
    "res15=re.findall(pattern15,str15,re.MULTILINE)\n",
    "print(res15)\n",
    "valid(res15)\n",
    "\n",
    "with open(\"file1.txt\",\"w\") as file15:\n",
    "    for i in res15:\n",
    "        file15.write(i+\"\\n\")\n",
    "    file15.write(\"These are words that start with same digit\")\n",
    "print()\n",
    "try: \n",
    "    with open(\"file1.txt\",\"r\") as file15:\n",
    "        print(file15.read())\n",
    "\n",
    "except FileNotFoundError:\n",
    "    print(\"Could not find the file\")"
   ]
  },
  {
   "cell_type": "markdown",
   "id": "79b34bac",
   "metadata": {},
   "source": [
    "16. Write a Python program to remove leading zeros from an IP address."
   ]
  },
  {
   "cell_type": "code",
   "execution_count": 28,
   "id": "01aa5f20",
   "metadata": {},
   "outputs": [
    {
     "name": "stdout",
     "output_type": "stream",
     "text": [
      "208.8.17.12345\n",
      "valid\n"
     ]
    }
   ],
   "source": [
    "str16=\"208.08.017.12345\"\n",
    "pattern16=\"\\.0+\"\n",
    "res16=re.sub(pattern16,'.',str16)\n",
    "print(res16)\n",
    "valid(res16)"
   ]
  },
  {
   "cell_type": "markdown",
   "id": "4ff4b781",
   "metadata": {},
   "source": [
    "17. Write a Python program to check for a number at the end of a string."
   ]
  },
  {
   "cell_type": "code",
   "execution_count": 29,
   "id": "c55bd472",
   "metadata": {},
   "outputs": [
    {
     "name": "stdout",
     "output_type": "stream",
     "text": [
      "['Hello9', 'is7', 'Sam9']\n",
      "valid\n"
     ]
    }
   ],
   "source": [
    "str17=\"Hello9 my name is7 Sam9\"\n",
    "pattern17=\"[a-zA-Z]+[0-9]\"\n",
    "res17=re.findall(pattern17,str17)\n",
    "print(res17)\n",
    "valid(res17)"
   ]
  },
  {
   "cell_type": "markdown",
   "id": "7f73ccdb",
   "metadata": {},
   "source": [
    "18. Write a Python program to search for numbers (0-9) of length between 1 and 3 in a given string."
   ]
  },
  {
   "cell_type": "code",
   "execution_count": null,
   "id": "c81d56fc",
   "metadata": {},
   "outputs": [
    {
     "name": "stdout",
     "output_type": "stream",
     "text": [
      "['123', '45', '679', '32', '789']\n",
      "valid\n"
     ]
    }
   ],
   "source": [
    "str18=\"123 45 6798 32 789 \"\n",
    "pattern18=r\"\\b[0-9]{1,3}\"\n",
    "res18=re.findall(pattern18,str18)\n",
    "print(res18)\n",
    "valid(res18)"
   ]
  },
  {
   "cell_type": "markdown",
   "id": "24afdfef",
   "metadata": {},
   "source": [
    "19. Write a Python program to search for literal strings within a string."
   ]
  },
  {
   "cell_type": "code",
   "execution_count": 31,
   "id": "06f7cdfb",
   "metadata": {},
   "outputs": [
    {
     "name": "stdout",
     "output_type": "stream",
     "text": [
      "['fox'] valid\n",
      "['dog'] valid\n",
      "[] not valid\n"
     ]
    }
   ],
   "source": [
    "str19=\"The quick brown fox jumps over the lazy dog.\"\n",
    "pattern19=['fox', 'dog', 'horse']\n",
    "for p in pattern19:\n",
    "    res19=re.findall(p,str19)\n",
    "    print(res19,end=\" \")\n",
    "    valid(res19)"
   ]
  },
  {
   "cell_type": "markdown",
   "id": "568c7f45",
   "metadata": {},
   "source": [
    "20. Write a regular expression to match valid dates in the format `YYYY-MM-DD"
   ]
  },
  {
   "cell_type": "code",
   "execution_count": 80,
   "id": "84b8c266",
   "metadata": {},
   "outputs": [
    {
     "name": "stdout",
     "output_type": "stream",
     "text": [
      "['2004-01', '12', '18', '20', '18', '18', '20', '24'] "
     ]
    }
   ],
   "source": [
    "import re\n",
    "pattern20=r\"^[0-9].{3}+-+0[1-9]|1[0-2]+-+0[1-9]|1[0-9]|2[0-9]|3[0-1]+\\s+\"\n",
    "str20=\"2004-01-12 18-01-2004 18-01/04 01-18-2024\"\n",
    "res20=re.findall(pattern20,str20)\n",
    "print(res20,end=\" \")"
   ]
  },
  {
   "cell_type": "markdown",
   "id": "f7aa6b30",
   "metadata": {},
   "source": [
    "21. Implement a regular expression with the verbose and ignore-case modifier to match variations of a specific word."
   ]
  },
  {
   "cell_type": "code",
   "execution_count": 98,
   "id": "ff276a89",
   "metadata": {},
   "outputs": [
    {
     "name": "stdout",
     "output_type": "stream",
     "text": [
      "['Space', 'final', 'vast', 'expanse', 'Earth', 'near', 'vacuum', 'containing', 'stars', 'planets', 'galaxies', 'Space', 'realm', 'nebulae', 'black', 'space', 'called', 'understand', 'place']\n"
     ]
    }
   ],
   "source": [
    "str21=\"Space, is is the is  final frontier, is a vast and mysterious expanse beyond Earth. It is a near-perfect vacuum, containing stars, planets, and galaxies. Space is also the realm of cosmic phenomena like nebulae and black holes. The study of space, called astronomy, helps us understand our place in the universe. \"\n",
    "word=r'\\w+a\\w+'\n",
    "res21=re.findall(word,str21,re.I)\n",
    "print(res21)"
   ]
  },
  {
   "cell_type": "code",
   "execution_count": null,
   "id": "605f4531",
   "metadata": {},
   "outputs": [
    {
     "name": "stdout",
     "output_type": "stream",
     "text": [
      "['a ', 'a ', 'a ']\n"
     ]
    }
   ],
   "source": []
  },
  {
   "cell_type": "code",
   "execution_count": null,
   "id": "59965388",
   "metadata": {},
   "outputs": [],
   "source": []
  }
 ],
 "metadata": {
  "kernelspec": {
   "display_name": "Python 3",
   "language": "python",
   "name": "python3"
  },
  "language_info": {
   "codemirror_mode": {
    "name": "ipython",
    "version": 3
   },
   "file_extension": ".py",
   "mimetype": "text/x-python",
   "name": "python",
   "nbconvert_exporter": "python",
   "pygments_lexer": "ipython3",
   "version": "3.11.0"
  }
 },
 "nbformat": 4,
 "nbformat_minor": 5
}
