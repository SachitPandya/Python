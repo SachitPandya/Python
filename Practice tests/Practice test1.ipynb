{
 "cells": [
  {
   "cell_type": "markdown",
   "id": "9f05bb2d",
   "metadata": {},
   "source": [
    "Practice Test- I :\n",
    "1. Create a program that uses a while loop to print numbers from 1 to 10 but stops the loop if the number 5 is encountered."
   ]
  },
  {
   "cell_type": "markdown",
   "id": "9a551043",
   "metadata": {},
   "source": [
    "1.1 Without builtin "
   ]
  },
  {
   "cell_type": "code",
   "execution_count": 6,
   "id": "787ed056",
   "metadata": {},
   "outputs": [
    {
     "name": "stdout",
     "output_type": "stream",
     "text": [
      "1\n",
      "2\n",
      "3\n",
      "4\n"
     ]
    }
   ],
   "source": [
    "i=1\n",
    "while i<=10:\n",
    "    if i==5:\n",
    "        i+=5\n",
    "    else:\n",
    "        print(i)\n",
    "    i+=1\n",
    "    "
   ]
  },
  {
   "cell_type": "markdown",
   "id": "07e951df",
   "metadata": {},
   "source": [
    "1.2 With builtIn"
   ]
  },
  {
   "cell_type": "code",
   "execution_count": 9,
   "id": "8b08cc34",
   "metadata": {},
   "outputs": [
    {
     "name": "stdout",
     "output_type": "stream",
     "text": [
      "1\n",
      "2\n",
      "3\n",
      "4\n"
     ]
    }
   ],
   "source": [
    "i=1\n",
    "while i in range(1,10):\n",
    "    if i==5:\n",
    "        break\n",
    "    else:\n",
    "        print(i)\n",
    "    i+=1"
   ]
  },
  {
   "cell_type": "markdown",
   "id": "7b8e27f7",
   "metadata": {},
   "source": [
    "2. Write a program that takes an integer input from the user and checks if it is even or odd using the modulus operator."
   ]
  },
  {
   "cell_type": "code",
   "execution_count": 11,
   "id": "8e5981b7",
   "metadata": {},
   "outputs": [
    {
     "name": "stdout",
     "output_type": "stream",
     "text": [
      "even\n"
     ]
    }
   ],
   "source": [
    "n=int(input())\n",
    "if n%2==0:\n",
    "    print(\"even\")\n",
    "else:\n",
    "    print(\"odd\")"
   ]
  },
  {
   "cell_type": "markdown",
   "id": "653850a5",
   "metadata": {},
   "source": [
    "3. Create a function that takes a list of integers as input and returns a new list containing only the even numbers squared.\n"
   ]
  },
  {
   "cell_type": "code",
   "execution_count": 43,
   "id": "213a2097",
   "metadata": {},
   "outputs": [
    {
     "name": "stdout",
     "output_type": "stream",
     "text": [
      "[4, 16, 36, 64]\n"
     ]
    }
   ],
   "source": [
    "def Even_Sq(lst):\n",
    "    lst1=[]\n",
    "    for i in range(len(lst)):\n",
    "        if lst[i]%2==0:\n",
    "            sq=lst[i]*lst[i]\n",
    "            lst1.append(sq)\n",
    "    return lst1\n",
    "\n",
    "lst=[1,2,4,5,3,6,8]\n",
    "x=Even_Sq(lst)\n",
    "print(x)"
   ]
  },
  {
   "cell_type": "code",
   "execution_count": 60,
   "id": "cbb1c152",
   "metadata": {},
   "outputs": [
    {
     "name": "stdout",
     "output_type": "stream",
     "text": [
      "[4, 16]\n"
     ]
    }
   ],
   "source": [
    "def WoIn_Even_Sq(lst):\n",
    "    lst1=[]\n",
    "    for i in lst:\n",
    "        if i%2==0:\n",
    "            s=i*i\n",
    "            lst1=lst1+[s]\n",
    "    return lst1\n",
    "\n",
    "lst=[1,2,4,5,3]\n",
    "sq=WoIn_Even_Sq(lst)\n",
    "print(sq)"
   ]
  },
  {
   "cell_type": "markdown",
   "id": "c2538291",
   "metadata": {},
   "source": [
    "4. Write a program that generates a random number between 1 and 100. Allow the user to guess the number. Provide hints such as \"Too high\" or \"Too low\" until the user guesses correctly. Include the number of attempts in the output."
   ]
  },
  {
   "cell_type": "markdown",
   "id": "f870023e",
   "metadata": {},
   "source": [
    "Ans 4 is in the riz.py file"
   ]
  },
  {
   "cell_type": "markdown",
   "id": "dd4c09d5",
   "metadata": {},
   "source": [
    "5. Implement a function that takes a sentence as input and returns a new sentence with the words reversed but maintains the order of words in the sentence."
   ]
  },
  {
   "cell_type": "markdown",
   "id": "9faf4cef",
   "metadata": {},
   "source": [
    "with using builtin\n"
   ]
  },
  {
   "cell_type": "code",
   "execution_count": 73,
   "id": "a87856d8",
   "metadata": {},
   "outputs": [
    {
     "data": {
      "text/plain": [
       "'olleh ym eman'"
      ]
     },
     "execution_count": 73,
     "metadata": {},
     "output_type": "execute_result"
    }
   ],
   "source": [
    "def Reverse_words(string1):\n",
    "    string=string1[::-1]\n",
    "    lst=string.split()\n",
    "    lst.reverse()\n",
    "    string1=\" \".join(lst)\n",
    "    return string1\n",
    "str=input(\"enter sentence:\")\n",
    "Reverse_words(str)"
   ]
  },
  {
   "cell_type": "markdown",
   "id": "1ff104ed",
   "metadata": {},
   "source": [
    "Without using Builtin"
   ]
  },
  {
   "cell_type": "code",
   "execution_count": 61,
   "id": "577ce0da",
   "metadata": {},
   "outputs": [
    {
     "name": "stdout",
     "output_type": "stream",
     "text": [
      "olleh y ema si \n"
     ]
    }
   ],
   "source": [
    "def Wo_Reverse_words(str_):\n",
    "    lst=[]\n",
    "    str2=\" \"\n",
    "    for i in str_:\n",
    "        str2+=i\n",
    "        if i ==' ':\n",
    "            lst.append(str2[1:-1])\n",
    "            str2=''\n",
    "    lst.append(str2)\n",
    "    return(lst)\n",
    "    \n",
    "def rev(num):\n",
    "    re = ''\n",
    "    for i in range(len(num)-1,-1,-1):\n",
    "        re+=num[i]\n",
    "    return(re)        \n",
    "\n",
    "str=input(\"enter string: \")\n",
    "x =Wo_Reverse_words(str)\n",
    "re=''\n",
    "for i in x:\n",
    "    re+=rev(i)+' '\n",
    "print(re)         "
   ]
  },
  {
   "cell_type": "code",
   "execution_count": 64,
   "id": "4d88431b",
   "metadata": {},
   "outputs": [
    {
     "name": "stdout",
     "output_type": "stream",
     "text": [
      " ym eman si  \n"
     ]
    }
   ],
   "source": [
    "# method 2\n",
    " \n",
    "s = \" my name is  \"\n",
    "i = 0\n",
    "j = 1\n",
    "l = []\n",
    "while j<=len(s)-1:\n",
    "    if s[j] != \" \":\n",
    "        j+=1\n",
    " \n",
    "    elif s[j] == \" \":\n",
    "        l.append(s[i:j])\n",
    "        i=j\n",
    "        j+=1\n",
    "       \n",
    " \n",
    "l1 = []\n",
    "for x in l:\n",
    "    l1.append(x[::-1])\n",
    " \n",
    "s1 = \" \"\n",
    "for x in l1:\n",
    "    s1+=x\n",
    "print(s1)\n",
    " "
   ]
  },
  {
   "cell_type": "markdown",
   "id": "5ba16974",
   "metadata": {},
   "source": [
    "6. Implement a function that takes a list of numbers as input and returns the sum of all the numbers that are divisible by both 3 and 5."
   ]
  },
  {
   "cell_type": "code",
   "execution_count": 58,
   "id": "c511252c",
   "metadata": {},
   "outputs": [
    {
     "name": "stdout",
     "output_type": "stream",
     "text": [
      "[15, 90, 89, 150, 87] 255\n"
     ]
    }
   ],
   "source": [
    "def Sum_div(lst):\n",
    "    sum=0\n",
    "    for i in lst:\n",
    "        if i%3==0 and i%5==0:\n",
    "            sum+=i\n",
    "    print(lst,sum)\n",
    "\n",
    "lst1=[]\n",
    "n=int(input(\"enter the number of elements for the list\"))\n",
    "for i in range(n):\n",
    "    x=int(input(\"enter element for list\"))\n",
    "    lst1.append(x)\n",
    "Sum_div(lst1)"
   ]
  },
  {
   "cell_type": "code",
   "execution_count": null,
   "id": "d865c7e6",
   "metadata": {},
   "outputs": [],
   "source": []
  }
 ],
 "metadata": {
  "kernelspec": {
   "display_name": "Python 3",
   "language": "python",
   "name": "python3"
  },
  "language_info": {
   "codemirror_mode": {
    "name": "ipython",
    "version": 3
   },
   "file_extension": ".py",
   "mimetype": "text/x-python",
   "name": "python",
   "nbconvert_exporter": "python",
   "pygments_lexer": "ipython3",
   "version": "3.11.0"
  }
 },
 "nbformat": 4,
 "nbformat_minor": 5
}
