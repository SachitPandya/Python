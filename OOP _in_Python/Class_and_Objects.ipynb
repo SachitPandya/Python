{
 "cells": [
  {
   "cell_type": "markdown",
   "id": "7515b11d",
   "metadata": {},
   "source": [
    "Class -> It is a user defined data type.It is the blueprint of the object .It tells the object how to behave"
   ]
  },
  {
   "cell_type": "markdown",
   "id": "4a120441",
   "metadata": {},
   "source": [
    "Object -> It is the instance of the class."
   ]
  },
  {
   "cell_type": "code",
   "execution_count": 1,
   "id": "e1158f3f",
   "metadata": {},
   "outputs": [],
   "source": [
    "class First:\n",
    "    sound=\"Bowww\""
   ]
  },
  {
   "cell_type": "code",
   "execution_count": 4,
   "id": "5d9a89ae",
   "metadata": {},
   "outputs": [
    {
     "name": "stdout",
     "output_type": "stream",
     "text": [
      "Bowww\n"
     ]
    }
   ],
   "source": [
    "First1=First()\n",
    "print(First1.sound)"
   ]
  },
  {
   "cell_type": "markdown",
   "id": "3d49e815",
   "metadata": {},
   "source": [
    "__str__()  -> method allows us to print a custom string for the object"
   ]
  },
  {
   "cell_type": "code",
   "execution_count": 2,
   "id": "bf558cc9",
   "metadata": {},
   "outputs": [
    {
     "name": "stdout",
     "output_type": "stream",
     "text": [
      "Sunny cat 5\n",
      "Sunny is 5 years old and he is a cat\n"
     ]
    }
   ],
   "source": [
    "class Animal:\n",
    "\n",
    "    def __init__(self,name,age,species=\"Dog\"):\n",
    "        self.name=name\n",
    "        self.age=age\n",
    "        self.species=species\n",
    "    def __str__(self):\n",
    "        return f\"{self.name} is {self.age} years old and he is a {self.species}\"\n",
    "\n",
    "Animal1=Animal(\"Sunny\",5,\"cat\")\n",
    "print(Animal1.name,Animal1.species,Animal1.age)\n",
    "print(Animal1)"
   ]
  },
  {
   "cell_type": "code",
   "execution_count": 24,
   "id": "876945d5",
   "metadata": {},
   "outputs": [
    {
     "name": "stdout",
     "output_type": "stream",
     "text": [
      "Tommy Dog 2\n"
     ]
    }
   ],
   "source": [
    "Animal2=Animal(\"Tommy\",2)\n",
    "print(Animal2.name,Animal2.species,Animal2.age)"
   ]
  },
  {
   "cell_type": "markdown",
   "id": "6c5e5aa2",
   "metadata": {},
   "source": [
    "__init__() -> It is an inbuilt constructor of python it is called whenever a new object is created.It initializes the attributes of the class"
   ]
  },
  {
   "cell_type": "code",
   "execution_count": null,
   "id": "2d926238",
   "metadata": {},
   "outputs": [
    {
     "name": "stdout",
     "output_type": "stream",
     "text": [
      "Billu cat 5\n"
     ]
    }
   ],
   "source": [
    "Animal1.name=\"Billu\"    \n",
    "print(Animal1.name,Animal1.species,Animal1.age)"
   ]
  },
  {
   "cell_type": "code",
   "execution_count": 32,
   "id": "1263c884",
   "metadata": {},
   "outputs": [
    {
     "name": "stdout",
     "output_type": "stream",
     "text": [
      "Tommy Billu\n"
     ]
    }
   ],
   "source": [
    "print(Animal2.name,Animal1.name)"
   ]
  },
  {
   "cell_type": "markdown",
   "id": "893c763e",
   "metadata": {},
   "source": [
    "Self parameter -> is reference to the current instance of the class"
   ]
  },
  {
   "cell_type": "markdown",
   "id": "c13d61cf",
   "metadata": {},
   "source": [
    "Instance variable -> are one that are unique to a particular instance or a object"
   ]
  },
  {
   "cell_type": "markdown",
   "id": "eea7516d",
   "metadata": {},
   "source": [
    "Class variable -> are the variables that are of a class and are shared accross all objects"
   ]
  },
  {
   "cell_type": "code",
   "execution_count": null,
   "id": "93a41ec3",
   "metadata": {},
   "outputs": [
    {
     "name": "stdout",
     "output_type": "stream",
     "text": [
      "Virat is the G.O.A.T. of one-day cricket of not only India but of the world.He is a world renowned Crickter\n",
      "\n",
      "Steve is the G.O.A.T. of one-day cricket of not only Australia but of the world.He is a world renowned Crickter\n"
     ]
    }
   ],
   "source": [
    "class SportsPerson():\n",
    "    type=\"Crickter\"                 #class variable\n",
    "    def __init__(self,name,country):\n",
    "        self.name=name              #Instance variable\n",
    "        self.country=country        #Instance variable\n",
    "\n",
    "    def __str__(self):\n",
    "        return f\"{self.name} is the G.O.A.T. of one-day cricket of not only {self.country} but of the world.He is a world renowned {self.type}\"\n",
    "    \n",
    "p1=SportsPerson(\"Virat\",\"India\")\n",
    "print(p1)\n",
    "# print()\n",
    "# p1.__init__(\"Steve\",\"Australia\")\n",
    "# print(p1.__str__())"
   ]
  },
  {
   "cell_type": "code",
   "execution_count": null,
   "id": "4f7a6d4b",
   "metadata": {},
   "outputs": [
    {
     "name": "stdout",
     "output_type": "stream",
     "text": [
      "Ronaldo Portugal\n"
     ]
    }
   ],
   "source": [
    "SportsPerson.type=\"Footballer\"\n",
    "p2=SportsPerson(\"Ronaldo\",\"Portugal\")\n",
    "print(p2.name,p2.country)"
   ]
  },
  {
   "cell_type": "markdown",
   "id": "45c616de",
   "metadata": {},
   "source": [
    "ClassMethod -> It a decorator which allows us to convert any method into a class method"
   ]
  },
  {
   "cell_type": "code",
   "execution_count": 27,
   "id": "3b73f368",
   "metadata": {},
   "outputs": [
    {
     "name": "stdout",
     "output_type": "stream",
     "text": [
      "Steve Smith Australian\n"
     ]
    }
   ],
   "source": [
    "class Cricketer():\n",
    "    nationality=\"Australian\" \n",
    "    def __init__(self,name):\n",
    "        self.name = name\n",
    "    \n",
    "    @classmethod\n",
    "    def country(cls):       #cls is a variable like self we can use any different variable name if we want\n",
    "        return cls.nationality      \n",
    "    \n",
    "    # @staticmethod\n",
    "c1=Cricketer(\"Steve Smith\")\n",
    "print(c1.name,Cricketer.country())"
   ]
  },
  {
   "cell_type": "markdown",
   "id": "e86405d0",
   "metadata": {},
   "source": [
    "StaticMethod -> It is a class method but it doesn't require any  access instance or class parameter."
   ]
  },
  {
   "cell_type": "code",
   "execution_count": 28,
   "id": "e2eeb0b5",
   "metadata": {},
   "outputs": [
    {
     "name": "stdout",
     "output_type": "stream",
     "text": [
      "30\n"
     ]
    }
   ],
   "source": [
    "class Calculator():\n",
    "    @staticmethod\n",
    "    def sum(num1,num2):\n",
    "        return num1+num2\n",
    "    \n",
    "x=Calculator.sum(10,20)\n",
    "print(x)"
   ]
  },
  {
   "cell_type": "code",
   "execution_count": null,
   "id": "ea0de712",
   "metadata": {},
   "outputs": [
    {
     "ename": "SyntaxError",
     "evalue": "invalid syntax (1131808769.py, line 7)",
     "output_type": "error",
     "traceback": [
      "  \u001b[36mCell\u001b[39m\u001b[36m \u001b[39m\u001b[32mIn[48]\u001b[39m\u001b[32m, line 7\u001b[39m\n\u001b[31m    \u001b[39m\u001b[31mdef multiply(self.num1,self.num2):  # we can't pass self and cls parameters inside the StaticMethod\u001b[39m\n                     ^\n\u001b[31mSyntaxError\u001b[39m\u001b[31m:\u001b[39m invalid syntax\n"
     ]
    }
   ],
   "source": [
    "# class Calculator():\n",
    "#     def __init__(self,num1,num2):\n",
    "#         self.num1=num1\n",
    "#         self.num2=num2\n",
    "   \n",
    "#     @staticmethod \n",
    "#     def multiply(self.num1,self.num2):  # we can't pass self and cls parameters inside the StaticMethod\n",
    "#         return self.num1*self.num2\n",
    "\n",
    "# x=Calculator(10,20)\n",
    "# print(x.multiply())"
   ]
  },
  {
   "cell_type": "markdown",
   "id": "783706b1",
   "metadata": {},
   "source": [
    "InstanceMethod -> It is a attribute that is not shared by objects and it is different for all objects"
   ]
  },
  {
   "cell_type": "code",
   "execution_count": null,
   "id": "b7e2c5c4",
   "metadata": {},
   "outputs": [
    {
     "name": "stdout",
     "output_type": "stream",
     "text": [
      "Hello sam. How are you?\n"
     ]
    }
   ],
   "source": [
    "class Person():\n",
    "    def __init__(self,name):\n",
    "        self.name=name\n",
    "\n",
    "    def hello(self):                # This is an instance method\n",
    "        return f\"Hello {self.name}. How are you?\"\n",
    "    \n",
    "p1=Person(\"sam\")\n",
    "print(p1.hello())"
   ]
  },
  {
   "cell_type": "code",
   "execution_count": null,
   "id": "082b226a",
   "metadata": {},
   "outputs": [],
   "source": []
  }
 ],
 "metadata": {
  "kernelspec": {
   "display_name": "Python 3",
   "language": "python",
   "name": "python3"
  },
  "language_info": {
   "codemirror_mode": {
    "name": "ipython",
    "version": 3
   },
   "file_extension": ".py",
   "mimetype": "text/x-python",
   "name": "python",
   "nbconvert_exporter": "python",
   "pygments_lexer": "ipython3",
   "version": "3.11.0"
  }
 },
 "nbformat": 4,
 "nbformat_minor": 5
}
