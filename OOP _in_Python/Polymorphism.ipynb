{
 "cells": [
  {
   "cell_type": "markdown",
   "id": "dd2f87fd",
   "metadata": {},
   "source": [
    "Polymorphism -> It allows methods,functions or operators with same name to behave differently based on the data they are handling"
   ]
  },
  {
   "cell_type": "markdown",
   "id": "df8920a5",
   "metadata": {},
   "source": [
    "This is method overridding"
   ]
  },
  {
   "cell_type": "markdown",
   "id": "b3fefcb1",
   "metadata": {},
   "source": [
    "Python does not support method overloading as it is dynamically types so only run time polymorphism can happen\n"
   ]
  },
  {
   "cell_type": "code",
   "execution_count": 7,
   "id": "35fbed0f",
   "metadata": {},
   "outputs": [
    {
     "name": "stdout",
     "output_type": "stream",
     "text": [
      "254.34\n",
      "300\n",
      "Put the shape\n"
     ]
    }
   ],
   "source": [
    "class Shape():\n",
    "    def __init__(self):\n",
    "        pass\n",
    "\n",
    "    def area(self):\n",
    "        return \"Put the shape\"\n",
    "    \n",
    "class Rectangle(Shape):\n",
    "    def __init__(self,l,b):\n",
    "        self.l=l\n",
    "        self.b=b\n",
    "\n",
    "    def area(self):\n",
    "        return self.l*self.b\n",
    "\n",
    "class Circle(Shape):\n",
    "    def __init__(self,radius):\n",
    "        self.radius=radius\n",
    "    \n",
    "    def area(self):\n",
    "        return 3.14*self.radius**2\n",
    "\n",
    "lst=[Circle(9),Rectangle(60,5),Shape()]\n",
    "for s in lst:\n",
    "    print(s.area())"
   ]
  },
  {
   "cell_type": "markdown",
   "id": "adc76741",
   "metadata": {},
   "source": [
    "Operator overloading"
   ]
  },
  {
   "cell_type": "code",
   "execution_count": null,
   "id": "676d2780",
   "metadata": {},
   "outputs": [
    {
     "name": "stdout",
     "output_type": "stream",
     "text": [
      "9\n",
      "5\n"
     ]
    }
   ],
   "source": [
    "class Add():\n",
    "    def __init__(self,a):\n",
    "        self.a=a\n",
    "    def __add__(self,other):\n",
    "        return self.a+other.a\n",
    "    def __sub__(self,other):\n",
    "        return self.a-other.a\n",
    "    \n",
    "    \n",
    "a1=Add(2)\n",
    "a2=Add(7)\n",
    "print(a1+a2)   \n",
    "print(a2-a1) "
   ]
  },
  {
   "cell_type": "code",
   "execution_count": null,
   "id": "48609799",
   "metadata": {},
   "outputs": [],
   "source": []
  }
 ],
 "metadata": {
  "kernelspec": {
   "display_name": "Python 3",
   "language": "python",
   "name": "python3"
  },
  "language_info": {
   "codemirror_mode": {
    "name": "ipython",
    "version": 3
   },
   "file_extension": ".py",
   "mimetype": "text/x-python",
   "name": "python",
   "nbconvert_exporter": "python",
   "pygments_lexer": "ipython3",
   "version": "3.11.0"
  }
 },
 "nbformat": 4,
 "nbformat_minor": 5
}
