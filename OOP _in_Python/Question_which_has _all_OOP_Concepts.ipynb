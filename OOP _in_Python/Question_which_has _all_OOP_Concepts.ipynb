{
 "cells": [
  {
   "cell_type": "code",
   "execution_count": 2,
   "id": "e7efb769",
   "metadata": {},
   "outputs": [],
   "source": [
    "from abc import ABC, abstractmethod"
   ]
  },
  {
   "cell_type": "code",
   "execution_count": 3,
   "id": "aa408403",
   "metadata": {},
   "outputs": [
    {
     "name": "stdout",
     "output_type": "stream",
     "text": [
      "Dogesh bhai age is 9\n",
      "\n",
      "billu billi age is 5\n",
      "\n",
      "Simba has the position of King\n"
     ]
    }
   ],
   "source": [
    "class Animal():\n",
    "    def __init__(self,name,age,position):\n",
    "        self.name=name\n",
    "        self.__age=age              #age is private member\n",
    "        self.position=position\n",
    "\n",
    "    def speak(self):\n",
    "        return f\"{self.name} billi\"\n",
    "\n",
    "    def get_age(self):\n",
    "        return f\"age is {self.__age}\"\n",
    "\n",
    "class Dog(Animal):          # This is how you inherit a class, here Dog is child ,and Animal is parent\n",
    "    def speak(self):        #This is overridding the speak method that is in the Animal calss\n",
    "        return f\"{self.name} bhai\"   \n",
    "\n",
    "class Sher(Animal):\n",
    "    def position_in_Jungle(self):\n",
    "        print(f\"{self.name} has the position of {self.position}\")\n",
    "\n",
    "\n",
    "d1=Dog(\"Dogesh\",9,\"guard\")\n",
    "print(d1.speak(),d1.get_age())          # Here I'm calling a method which is not present in the child class\n",
    "print()\n",
    "\n",
    "c1=Animal(\"billu\",5,\"Sleeper\") \n",
    "print(c1.speak(),c1.get_age())      \n",
    "print()\n",
    "\n",
    "s1=Sher(\"Simba\",7,\"King\")\n",
    "s1.position_in_Jungle()"
   ]
  },
  {
   "cell_type": "code",
   "execution_count": null,
   "id": "d51439ca",
   "metadata": {},
   "outputs": [
    {
     "name": "stdout",
     "output_type": "stream",
     "text": [
      "Simba bhau has the position of King in the jungle is 7 years old\n"
     ]
    }
   ],
   "source": [
    "class Animal(ABC):\n",
    "    def __init__(self,name,age):\n",
    "        self.name=name                 #Public member and stores the name of animal\n",
    "        self.__age=age                 #age is private member,which stores the age of animal   \n",
    "        \"\"\" param  name -> str  age -> int \"\"\"                  \n",
    "    @abstractmethod\n",
    "    def get_pos(self):                       \n",
    "        pass\n",
    "\n",
    "    def get_name(self):                      #This will get the name \n",
    "        return f\"{self.name} bhai\"\n",
    "\n",
    "    def get_age(self):                       #This will print the age of \n",
    "        return f\"is {self.__age} years old\"\n",
    "\n",
    "class Sher(Animal):\n",
    "    def __init__(self, name, age, position):\n",
    "        super().__init__(name, age)\n",
    "        self.position=position               #Public member,it stores the position which the animal holds in the jungle\n",
    "        \"\"\"param position -> str\"\"\"  \n",
    "        \n",
    "    def get_name(self):                      #This is overridding the method that is in the Animal calss\n",
    "        return f\"{self.name} bhau\" \n",
    "\n",
    "    def get_pos(self):                       # Abstract method is overridden\n",
    "        return f\"{self.get_name()} has the position of {self.position} in the jungle\"\n",
    "\n",
    "s1=Sher(\"Simba\",7,\"King\")\n",
    "print(s1.get_pos(),s1.get_age())"
   ]
  },
  {
   "cell_type": "code",
   "execution_count": null,
   "id": "75762880",
   "metadata": {},
   "outputs": [],
   "source": []
  }
 ],
 "metadata": {
  "kernelspec": {
   "display_name": "Python 3",
   "language": "python",
   "name": "python3"
  },
  "language_info": {
   "codemirror_mode": {
    "name": "ipython",
    "version": 3
   },
   "file_extension": ".py",
   "mimetype": "text/x-python",
   "name": "python",
   "nbconvert_exporter": "python",
   "pygments_lexer": "ipython3",
   "version": "3.11.0"
  }
 },
 "nbformat": 4,
 "nbformat_minor": 5
}
