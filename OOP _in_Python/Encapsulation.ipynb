{
 "cells": [
  {
   "cell_type": "markdown",
   "id": "428ebef3",
   "metadata": {},
   "source": [
    "Encapsulation ->  It is the process of bundling up of data and methods into a single unit or class,It helps in keeping the data safe from direct access and ensure data integrity"
   ]
  },
  {
   "cell_type": "markdown",
   "id": "9967be2b",
   "metadata": {},
   "source": [
    "Public Members -> These are accessible from any where.any variable or method is public by defalt"
   ]
  },
  {
   "cell_type": "markdown",
   "id": "b0d406a0",
   "metadata": {},
   "source": [
    "Protected Memebers -> Can only be accessed in the class it is defined or the sub class"
   ]
  },
  {
   "cell_type": "markdown",
   "id": "b8b42dd9",
   "metadata": {},
   "source": [
    "Private Members -> It can't be accessed directly putside the class."
   ]
  },
  {
   "cell_type": "code",
   "execution_count": null,
   "id": "c738df1a",
   "metadata": {},
   "outputs": [
    {
     "name": "stdout",
     "output_type": "stream",
     "text": [
      "RCB   2025\n",
      "1\n",
      "RCB\n"
     ]
    }
   ],
   "source": [
    "class Cricket():\n",
    "    def __init__(self,name,trophies,year):\n",
    "        self.name=name                      #This is public member\n",
    "        self._trophies=trophies             #This is protected member\n",
    "        self.__year=year                    #This is a private member\n",
    "    def display_year(self):\n",
    "        print(self.name,\" \",self.__year)\n",
    "\n",
    "class Year(Cricket):\n",
    "    def display_trophies(self):\n",
    "        Cricket.display_year(self)\n",
    "        print(self._trophies)\n",
    "\n",
    "y1=Year(\"RCB\",1,\"2025\")\n",
    "\n",
    "y1.display_trophies()\n",
    "print(y1.name)"
   ]
  },
  {
   "cell_type": "code",
   "execution_count": null,
   "id": "f359a6de",
   "metadata": {},
   "outputs": [],
   "source": []
  }
 ],
 "metadata": {
  "kernelspec": {
   "display_name": "Python 3",
   "language": "python",
   "name": "python3"
  },
  "language_info": {
   "codemirror_mode": {
    "name": "ipython",
    "version": 3
   },
   "file_extension": ".py",
   "mimetype": "text/x-python",
   "name": "python",
   "nbconvert_exporter": "python",
   "pygments_lexer": "ipython3",
   "version": "3.11.0"
  }
 },
 "nbformat": 4,
 "nbformat_minor": 5
}
