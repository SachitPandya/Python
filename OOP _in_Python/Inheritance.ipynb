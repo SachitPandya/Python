{
 "cells": [
  {
   "cell_type": "markdown",
   "id": "b2e5179d",
   "metadata": {},
   "source": [
    "Inheritance -> It allows a class(child,subclass) to inherit the attributes and methods of another class(parent,sperclass)"
   ]
  },
  {
   "cell_type": "markdown",
   "id": "3f5aa4de",
   "metadata": {},
   "source": [
    "1. Single Inheritance   -> One parent and one child class"
   ]
  },
  {
   "cell_type": "code",
   "execution_count": 11,
   "id": "72ce86ed",
   "metadata": {},
   "outputs": [
    {
     "name": "stdout",
     "output_type": "stream",
     "text": [
      "Dogesh bhai age is 9\n",
      "\n",
      "billu billi age is 5\n"
     ]
    }
   ],
   "source": [
    "class Animal():\n",
    "    def __init__(self,name,age):\n",
    "        self.name=name\n",
    "        self.age=age\n",
    "\n",
    "    def speak(self):\n",
    "        return f\"{self.name} billi\"\n",
    "\n",
    "    def get_age(self):\n",
    "        return f\"age is {self.age}\"\n",
    "\n",
    "class Dog(Animal):       # This is how you inherit a class, here Dog is child ,and Animal is parent\n",
    "    def speak(self):\n",
    "        return f\"{self.name} bhai\"   \n",
    "\n",
    "d1=Dog(\"Dogesh\",9)\n",
    "print(d1.speak(),d1.get_age())          # Here I'm calling a method which is not present in the child class\n",
    "print()\n",
    "\n",
    "c1=Animal(\"billu\",5) \n",
    "print(c1.speak(),c1.get_age())      "
   ]
  },
  {
   "cell_type": "markdown",
   "id": "be4ad1c6",
   "metadata": {},
   "source": [
    "2. Multiple Inheritance ->  When for a single child class there is two or more than two parent class"
   ]
  },
  {
   "cell_type": "code",
   "execution_count": 14,
   "id": "317bd2c6",
   "metadata": {},
   "outputs": [],
   "source": [
    "class Jungle():\n",
    "    def __init__(self,pos):  \n",
    "        self.pos=pos\n",
    "    def get_age(self):\n",
    "        print(\"Age is this\")"
   ]
  },
  {
   "cell_type": "code",
   "execution_count": null,
   "id": "f5540d88",
   "metadata": {},
   "outputs": [
    {
     "name": "stdout",
     "output_type": "stream",
     "text": [
      "Simba bhau who is 2 years old and is King of the jungle\n",
      "Age is this\n",
      "Simba bhau who is 2 years old and is King of the jungle None\n",
      "Age is this\n",
      "None\n"
     ]
    }
   ],
   "source": [
    "class Sher(Animal,Jungle):\n",
    "    def __init__(self,name,age,pos):\n",
    "        Animal.__init__(self,name,age)\n",
    "        Jungle.__init__(self,pos)\n",
    "\n",
    "    def it_speak(self):\n",
    "        return f\"{self.name} bhau who is {self.age} years old and is {self.pos} of the jungle\"\n",
    "\n",
    "s1=Sher(\"Simba\",2,\"King\")\n",
    "print(s1.it_speak())\n",
    "print(s1.it_speak(),s1.get_age())\n",
    "\n",
    "class Jaguar(Jungle):\n",
    "    def __init__(self, pos):\n",
    "        super().__init__(pos)\n",
    "j1=Jaguar(\"lion\")\n",
    "print(j1.get_age())"
   ]
  },
  {
   "cell_type": "code",
   "execution_count": null,
   "id": "b1b0bf79",
   "metadata": {},
   "outputs": [
    {
     "name": "stdout",
     "output_type": "stream",
     "text": [
      "Simba\n",
      "2\n",
      "King\n",
      "Simba is 2 and he is the King of jungle\n"
     ]
    }
   ],
   "source": [
    "class Animal:\n",
    "    def __init__(self, name, age):\n",
    "        self.name = name\n",
    "        self.age = age\n",
    " \n",
    "class jungle:\n",
    "    def __init__(self, pos):\n",
    "        self.pos = pos\n",
    " \n",
    "class Sher(Animal, jungle):\n",
    "    def __init__(self, name, age, pos):\n",
    "        Animal.__init__(self, name, age)  \n",
    "        jungle.__init__(self, pos)\n",
    " \n",
    "s1 = Animal(\"simba\",2)\n",
    "s2 = jungle(\"king\")\n",
    "s3 = Sher(\"Simba\", 2, \"King\")\n",
    " \n",
    "print(s3.name)\n",
    "print(s3.age)\n",
    "print(s3.pos)\n",
    "print(f\"{s3.name} is {s3.age} and he is the {s3.pos} of jungle\")"
   ]
  },
  {
   "cell_type": "markdown",
   "id": "083360a6",
   "metadata": {},
   "source": [
    "MultiLevel Inheritance -> In this a class is child of a parent class and this child class is then a parent of another child class   \n",
    "\n",
    "\n",
    "\n",
    "\n",
    "\n",
    "\n",
    "\n",
    "\n",
    "\n",
    "\n",
    "class A:\n",
    "class B(A):\n",
    "class C(B):"
   ]
  },
  {
   "cell_type": "code",
   "execution_count": null,
   "id": "e92c7fc0",
   "metadata": {},
   "outputs": [
    {
     "name": "stdout",
     "output_type": "stream",
     "text": [
      "Pillu bhai is  1 months old\n"
     ]
    }
   ],
   "source": [
    "class Puppy(Dog):\n",
    "    def __init__(self, name, age):\n",
    "        super().__init__(name, age)     #Here I'm inheriting the __init__ of Animal \n",
    "\n",
    "    def __str__(self):\n",
    "        # return f\"{self.name} is {self.age} months old\"      # here I'm overriding the __str__ method \n",
    "        return f\"{self.speak()} is  {self.age} months old\"  \n",
    "pu1=Puppy(\"Pillu\",1)\n",
    "print(pu1)\n",
    "# print(pu1.speak())          #Speak method is of Dog"
   ]
  },
  {
   "cell_type": "markdown",
   "id": "3eb6fb0d",
   "metadata": {},
   "source": [
    "Heirarchial Inheritance -> In this a single parent class is inherited by many child classes"
   ]
  },
  {
   "cell_type": "code",
   "execution_count": null,
   "id": "d1ed3738",
   "metadata": {},
   "outputs": [
    {
     "name": "stdout",
     "output_type": "stream",
     "text": [
      "Shabash mere Cheete kya dodha h 100 pr\n",
      "100\n"
     ]
    }
   ],
   "source": [
    "class Cheetah(Animal):\n",
    "    def __init__(self,speed):\n",
    "        self.speed=speed\n",
    "    \n",
    "    def get_speed(self):\n",
    "        return f\"Shabash mere Cheete kya dodha h {self.speed} pr\"\n",
    "    \n",
    "c1=Cheetah(\"100\")\n",
    "print(c1.get_speed())\n",
    "print(f\"{c1.speed}\")"
   ]
  },
  {
   "cell_type": "markdown",
   "id": "26cdcf42",
   "metadata": {},
   "source": [
    "Hybrid Inheritance -> It is a mix of 2 types of inheritance"
   ]
  },
  {
   "cell_type": "code",
   "execution_count": null,
   "id": "942ef051",
   "metadata": {},
   "outputs": [
    {
     "name": "stdout",
     "output_type": "stream",
     "text": [
      "Tigor has 8 cubs\n"
     ]
    },
    {
     "data": {
      "text/plain": [
       "'Tigor bhai'"
      ]
     },
     "execution_count": 50,
     "metadata": {},
     "output_type": "execute_result"
    }
   ],
   "source": [
    "class Tiger(Puppy,Sher):\n",
    "    def __init__(self, name, age,cubs):\n",
    "        super().__init__(name, age)\n",
    "        self.cubs=cubs\n",
    "\n",
    "    def number_of_cubs(self):\n",
    "        return f\"{self.name} has {self.cubs} cubs\"\n",
    "    \n",
    "t1=Tiger(\"Tigor\",2,8)\n",
    "print(t1.number_of_cubs())\n",
    "t1.get_age()\n",
    "t1.speak()"
   ]
  },
  {
   "cell_type": "code",
   "execution_count": 35,
   "id": "edae1d28",
   "metadata": {},
   "outputs": [],
   "source": [
    "# # from abc import ABC , abstractmethods\n",
    "# class kody:\n",
    "#     def __init__(self,emp_name,emp_age):\n",
    " \n",
    "#         self.name = emp_name\n",
    "#         self.age = emp_age\n",
    "#         print(\"this is kody technolabs\")\n",
    " \n",
    "#     # @abstractmethods\n",
    "#     def skills(self):\n",
    "#         pass\n",
    " \n",
    "# class Python_intern(kody):\n",
    " \n",
    "#     def __init__(self,ml,dl):\n",
    "#         # super().__init__(emp_name,emp_age)\n",
    "#         self.ml = ml\n",
    "#         self.dl= dl\n",
    " \n",
    "#     def Model_train(self):\n",
    "#         print(\"here model gets trained\")\n",
    "   \n",
    "#     def skills(self):\n",
    "#         print(f\"required skills are {self.ml} and {self.dl}\")\n",
    " \n",
    "# class Java_intern(kody):\n",
    " \n",
    "#     def __init__(self,advance_java,nodejs):\n",
    "#         # super().__init__(emp_name,emp_age)\n",
    "       \n",
    "#         self.aj = advance_java\n",
    "#         self.nj = nodejs\n",
    " \n",
    "#     def app_development(self):\n",
    "#         print(\"applictions are developed here\")\n",
    " \n",
    " \n",
    "# class Jython_intern(Python_intern,Java_intern):\n",
    "   \n",
    "#     def __init__(self,emp_name,emp_age,ml,dl,advance_java,nodejs):\n",
    "#         # super().__init__(emp_name,emp_age,ml,dl)\n",
    "#         Python_intern().__init__(emp_name,emp_age,ml,dl)\n",
    "#         Java_intern().__init__(advance_java,nodejs)\n",
    " \n",
    "#     def app_dev_model(self):\n",
    "#         print(\"model training in java is done here\")\n",
    "       \n",
    "\n",
    "# p1 = Jython_intern(\"mukund\",21,\"Scikit-learn\",\"Neural Network\",\"Spring-boot\",\"Swer\")"
   ]
  },
  {
   "cell_type": "code",
   "execution_count": null,
   "id": "c6e06ed5",
   "metadata": {},
   "outputs": [
    {
     "name": "stdout",
     "output_type": "stream",
     "text": [
      "Yash of 20 has skills scikit_learn and neural_network\n",
      "\n",
      "Required skills are springboot and advancenode\n",
      "\n"
     ]
    },
    {
     "ename": "TypeError",
     "evalue": "Java_intern.__init__() missing 2 required positional arguments: 'advance_java' and 'nodejs'",
     "output_type": "error",
     "traceback": [
      "\u001b[31m---------------------------------------------------------------------------\u001b[39m",
      "\u001b[31mTypeError\u001b[39m                                 Traceback (most recent call last)",
      "\u001b[36mCell\u001b[39m\u001b[36m \u001b[39m\u001b[32mIn[81]\u001b[39m\u001b[32m, line 55\u001b[39m\n\u001b[32m     53\u001b[39m j2.skills()\n\u001b[32m     54\u001b[39m \u001b[38;5;28mprint\u001b[39m()\n\u001b[32m---> \u001b[39m\u001b[32m55\u001b[39m jp2=\u001b[43mJython_intern\u001b[49m\u001b[43m(\u001b[49m\u001b[33;43m\"\u001b[39;49m\u001b[33;43mYash\u001b[39;49m\u001b[33;43m\"\u001b[39;49m\u001b[43m,\u001b[49m\u001b[32;43m20\u001b[39;49m\u001b[43m,\u001b[49m\u001b[33;43m\"\u001b[39;49m\u001b[33;43mscikit_learn\u001b[39;49m\u001b[33;43m\"\u001b[39;49m\u001b[43m,\u001b[49m\u001b[43m \u001b[49m\u001b[33;43m\"\u001b[39;49m\u001b[33;43mneural_network\u001b[39;49m\u001b[33;43m\"\u001b[39;49m\u001b[43m,\u001b[49m\u001b[33;43m\"\u001b[39;49m\u001b[33;43mspringboot\u001b[39;49m\u001b[33;43m\"\u001b[39;49m\u001b[43m,\u001b[49m\u001b[33;43m\"\u001b[39;49m\u001b[33;43madvancenode\u001b[39;49m\u001b[33;43m\"\u001b[39;49m\u001b[43m)\u001b[49m\n\u001b[32m     56\u001b[39m jp2.skills()\n",
      "\u001b[36mCell\u001b[39m\u001b[36m \u001b[39m\u001b[32mIn[81]\u001b[39m\u001b[32m, line 40\u001b[39m, in \u001b[36mJython_intern.__init__\u001b[39m\u001b[34m(self, emp_name, emp_age, ml, dl, advance_java, nodejs)\u001b[39m\n\u001b[32m     39\u001b[39m \u001b[38;5;28;01mdef\u001b[39;00m\u001b[38;5;250m \u001b[39m\u001b[34m__init__\u001b[39m(\u001b[38;5;28mself\u001b[39m, emp_name, emp_age, ml, dl, advance_java, nodejs):\n\u001b[32m---> \u001b[39m\u001b[32m40\u001b[39m     \u001b[43mPython_intern\u001b[49m\u001b[43m.\u001b[49m\u001b[34;43m__init__\u001b[39;49m\u001b[43m(\u001b[49m\u001b[38;5;28;43mself\u001b[39;49m\u001b[43m,\u001b[49m\u001b[43memp_name\u001b[49m\u001b[43m,\u001b[49m\u001b[43memp_age\u001b[49m\u001b[43m,\u001b[49m\u001b[43m \u001b[49m\u001b[43mml\u001b[49m\u001b[43m,\u001b[49m\u001b[43m \u001b[49m\u001b[43mdl\u001b[49m\u001b[43m)\u001b[49m\n\u001b[32m     41\u001b[39m     Java_intern.\u001b[34m__init__\u001b[39m(\u001b[38;5;28mself\u001b[39m, emp_name, emp_age, advance_java, nodejs)\n",
      "\u001b[36mCell\u001b[39m\u001b[36m \u001b[39m\u001b[32mIn[81]\u001b[39m\u001b[32m, line 15\u001b[39m, in \u001b[36mPython_intern.__init__\u001b[39m\u001b[34m(self, emp_name, emp_age, ml, dl)\u001b[39m\n\u001b[32m     14\u001b[39m \u001b[38;5;28;01mdef\u001b[39;00m\u001b[38;5;250m \u001b[39m\u001b[34m__init__\u001b[39m(\u001b[38;5;28mself\u001b[39m, emp_name, emp_age, ml, dl):\n\u001b[32m---> \u001b[39m\u001b[32m15\u001b[39m     \u001b[38;5;28;43msuper\u001b[39;49m\u001b[43m(\u001b[49m\u001b[43m)\u001b[49m\u001b[43m.\u001b[49m\u001b[34;43m__init__\u001b[39;49m\u001b[43m(\u001b[49m\u001b[43memp_name\u001b[49m\u001b[43m,\u001b[49m\u001b[43m \u001b[49m\u001b[43memp_age\u001b[49m\u001b[43m)\u001b[49m\n\u001b[32m     16\u001b[39m     \u001b[38;5;28mself\u001b[39m.ml = ml\n\u001b[32m     17\u001b[39m     \u001b[38;5;28mself\u001b[39m.dl = dl\n",
      "\u001b[31mTypeError\u001b[39m: Java_intern.__init__() missing 2 required positional arguments: 'advance_java' and 'nodejs'"
     ]
    }
   ],
   "source": [
    "from abc import ABC, abstractmethod\n",
    " \n",
    "class Kody(ABC):\n",
    "    def __init__(self, emp_name, emp_age):\n",
    "        self.name = emp_name\n",
    "        self.age = emp_age\n",
    "        # print(\"This is Kody Technolabs\")\n",
    " \n",
    "    @abstractmethod\n",
    "    def skills(self):\n",
    "        pass\n",
    " \n",
    "class Python_intern(Kody):\n",
    "    def __init__(self, emp_name, emp_age, ml, dl):\n",
    "        super().__init__(emp_name, emp_age)\n",
    "        self.ml = ml\n",
    "        self.dl = dl\n",
    " \n",
    "    def model_train(self):\n",
    "        print(\"Here model gets trained\")\n",
    " \n",
    "    def skills(self):\n",
    "        print(f\"{self.name} of {self.age} has skills {self.ml} and {self.dl}\")\n",
    " \n",
    "class Java_intern(Kody):\n",
    "    def __init__(self, emp_name, emp_age, advance_java, nodejs):\n",
    "        super().__init__(emp_name, emp_age)\n",
    "        self.aj = advance_java\n",
    "        self.nj = nodejs\n",
    "        \n",
    "    def skills(self):\n",
    "        print(f\"Required skills are {self.aj} and {self.nj}\")\n",
    " \n",
    "    def app_development(self):\n",
    "        print(\"Applications are developed here\")\n",
    " \n",
    "class Jython_intern(Python_intern, Java_intern):\n",
    " \n",
    "    def __init__(self, emp_name, emp_age, ml, dl, advance_java, nodejs):\n",
    "        Python_intern.__init__(self,emp_name,emp_age, ml, dl)\n",
    "        Java_intern.__init__(self, emp_name, emp_age, advance_java, nodejs)\n",
    " \n",
    "    def skills(self):\n",
    "        print(f\"Required skills are {self.ml} ,{self.dl} , {self.aj} and {self.nj}\")\n",
    " \n",
    "    def app_dev_model(self):\n",
    "        print(\"Model training in Java is done here\")\n",
    " \n",
    "p2 = Python_intern(\"Yash\", 20, \"scikit_learn\", \"neural_network\")\n",
    "p2.skills()\n",
    "print()\n",
    "j2 = Java_intern(\"Yash\",20,\"springboot\",\"advancenode\")\n",
    "j2.skills()\n",
    "print()\n",
    "\n",
    "jp2=Jython_intern(\"Yash\",20,\"scikit_learn\", \"neural_network\",\"springboot\",\"advancenode\")\n",
    "jp2.skills()"
   ]
  },
  {
   "cell_type": "code",
   "execution_count": null,
   "id": "a6f4e292",
   "metadata": {},
   "outputs": [
    {
     "name": "stdout",
     "output_type": "stream",
     "text": [
      "Required skills are scikit_learn ,neural_network , springboot and advancenode\n",
      "\n",
      "Required skills are scikit_learn and neural_network\n",
      "\n",
      "Required skills are springboot and advancenode\n"
     ]
    }
   ],
   "source": [
    "# class Kody:\n",
    "#     def __init__(self, emp_name, emp_age):\n",
    "#         self.name = emp_name\n",
    "#         self.age = emp_age\n",
    "#         # print(\"This is Kody Technolabs\")\n",
    " \n",
    "#     @abstractmethod\n",
    "#     def skills(self):\n",
    "#         pass\n",
    " \n",
    "# class Python_intern(Kody):\n",
    "#     def __init__(self, emp_name, emp_age, ml, dl):\n",
    "#         Kody.__init__(self,emp_name, emp_age)\n",
    "#         self.ml = ml\n",
    "#         self.dl = dl\n",
    " \n",
    "#     def model_train(self):\n",
    "#         print(\"Here model gets trained\")\n",
    " \n",
    "#     def skills(self):\n",
    "#         print(f\"Required skills are {self.ml} and {self.dl}\")\n",
    " \n",
    "# class Java_intern(Kody):\n",
    "#     def __init__(self, emp_name, emp_age, advance_java, nodejs):\n",
    "#         Kody.__init__(self,emp_name, emp_age)\n",
    "#         self.aj = advance_java\n",
    "#         self.nj = nodejs\n",
    "#     def skills(self):\n",
    "#         print(f\"Required skills are {self.aj} and {self.nj}\")\n",
    " \n",
    "#     def app_development(self):\n",
    "#         print(\"Applications are developed here\")\n",
    " \n",
    "# class Jython_intern(Python_intern, Java_intern):\n",
    " \n",
    "#     def __init__(self, emp_name, emp_age, ml, dl, advance_java, nodejs):\n",
    "#         Python_intern.__init__(self, emp_name, emp_age, ml, dl)\n",
    "#         Java_intern.__init__(self, emp_name, emp_age, advance_java, nodejs)\n",
    " \n",
    "#     def skills(self):\n",
    "#         print(f\"Required skills are {self.ml} ,{self.dl} , {self.aj} and {self.nj}\")\n",
    " \n",
    "#     def app_dev_model(self):\n",
    "#         print(\"Model training in Java is done here\")\n",
    " \n",
    "# p2 = Jython_intern(\"Yash\", 20, \"scikit_learn\", \"neural_network\", \"springboot\",\"advancenode\")\n",
    "# p2.skills()\n",
    "\n",
    "# print()\n",
    "# p2 = Python_intern(\"Yash\", 20, \"scikit_learn\", \"neural_network\")\n",
    "# p2.skills()\n",
    "# print()\n",
    "# j2 = Java_intern(\"Yash\",20,\"springboot\",\"advancenode\")\n",
    "# j2.skills()\n"
   ]
  },
  {
   "cell_type": "code",
   "execution_count": null,
   "id": "dd25ff87",
   "metadata": {},
   "outputs": [],
   "source": []
  },
  {
   "cell_type": "code",
   "execution_count": 112,
   "id": "90d11f87",
   "metadata": {},
   "outputs": [
    {
     "name": "stdout",
     "output_type": "stream",
     "text": [
      "Required skills are scikit_learn ,neural_network , springboot and advancenode\n",
      "\n",
      "Required skills are scikit_learn and neural_network\n",
      "\n",
      "Required skills are springboot and advancenode\n"
     ]
    }
   ],
   "source": [
    "from abc import ABC, abstractmethod\n",
    "class Kody(ABC):\n",
    "    def __init__(self, emp_name, emp_age, **kwargs):\n",
    "        self.name = emp_name\n",
    "        self.age = emp_age\n",
    "       \n",
    "    @abstractmethod\n",
    "    def skills(self):\n",
    "        pass\n",
    " \n",
    "class Python_intern(Kody):\n",
    "    def __init__(self,emp_name, emp_age, ml, dl, **kwargs):\n",
    "        self.ml = ml\n",
    "        self.dl = dl\n",
    "        super().__init__(emp_name=emp_name, emp_age=emp_age, **kwargs)\n",
    "        \n",
    "    def model_train(self):\n",
    "        print(\"Here model gets trained\")\n",
    "    def skills(self):\n",
    "        print(f\"Required skills are {self.ml} and {self.dl}\")\n",
    " \n",
    "class Java_intern(Kody):\n",
    "    def __init__(self, emp_name, emp_age, advance_java, nodejs, **kwargs):\n",
    "        self.aj = advance_java\n",
    "        self.nj = nodejs\n",
    "        super().__init__(emp_name=emp_name, emp_age=emp_age, **kwargs)\n",
    "    def skills(self):\n",
    "        print(f\"Required skills are {self.aj} and {self.nj}\")\n",
    "    def app_development(self):\n",
    "        print(\"Applications are developed here\")\n",
    " \n",
    "class Jython_intern(Python_intern, Java_intern):\n",
    "    def __init__(self, emp_name, emp_age, ml, dl, advance_java, nodejs, **kwargs):\n",
    "        super().__init__( emp_name = emp_name, emp_age = emp_age, ml = ml, dl = dl,advance_java = advance_java, nodejs = nodejs,**kwargs)\n",
    "        # super().__init__(emp_name, emp_age, advance_java, nodejs)\n",
    "    def skills(self):\n",
    "        print(f\"Required skills are {self.ml} ,{self.dl} , {self.aj} and {self.nj}\")\n",
    "    def app_dev_model(self):\n",
    "        print(\"Model training in Java is done here\")\n",
    " \n",
    "\n",
    "jp1 = Jython_intern(\"Yash\", 20, \"scikit_learn\", \"neural_network\", \"springboot\",\"advancenode\")\n",
    "jp1.skills()\n",
    "\n",
    "print()\n",
    "p2 = Python_intern(\"Yash\", 20, \"scikit_learn\", \"neural_network\")\n",
    "p2.skills()\n",
    "print()\n",
    "\n",
    "j2 = Java_intern(\"Yash\",20,\"springboot\",\"advancenode\")\n",
    "j2.skills()"
   ]
  },
  {
   "cell_type": "code",
   "execution_count": null,
   "id": "b7dc20a6",
   "metadata": {},
   "outputs": [],
   "source": []
  }
 ],
 "metadata": {
  "kernelspec": {
   "display_name": "Python 3",
   "language": "python",
   "name": "python3"
  },
  "language_info": {
   "codemirror_mode": {
    "name": "ipython",
    "version": 3
   },
   "file_extension": ".py",
   "mimetype": "text/x-python",
   "name": "python",
   "nbconvert_exporter": "python",
   "pygments_lexer": "ipython3",
   "version": "3.11.0"
  }
 },
 "nbformat": 4,
 "nbformat_minor": 5
}
