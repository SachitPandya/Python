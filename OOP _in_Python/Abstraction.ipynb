{
 "cells": [
  {
   "cell_type": "markdown",
   "id": "21e792e0",
   "metadata": {},
   "source": [
    "Abstraction -> It is the property of OOPs to hide the irrelevent details from the user and showing only the relevent parts to the user"
   ]
  },
  {
   "cell_type": "markdown",
   "id": "3480776c",
   "metadata": {},
   "source": [
    "This is acheived using @abstractmethod decorator"
   ]
  },
  {
   "cell_type": "code",
   "execution_count": 4,
   "id": "d307321c",
   "metadata": {},
   "outputs": [],
   "source": [
    "from abc import ABC , abstractmethod"
   ]
  },
  {
   "cell_type": "code",
   "execution_count": null,
   "id": "c81910dd",
   "metadata": {},
   "outputs": [
    {
     "name": "stdout",
     "output_type": "stream",
     "text": [
      "Q7 9000000 Audi\n"
     ]
    }
   ],
   "source": [
    "class Car(ABC):                     # This is creating Abstract class inside which abstract method is defined                   \n",
    "    def __init__(self,model,price,brand):\n",
    "        self.brand=brand\n",
    "        self.price=price\n",
    "        self.model=model\n",
    "\n",
    "    @abstractmethod                 # untill Abc is not inherited you can't create a abstract class even if you have written @abstractmethod\n",
    "    def print_details(self):\n",
    "        return f\"{self.model}\"\n",
    "\n",
    "    def get_brand(self):\n",
    "        return self.brand\n",
    "    \n",
    "class Hatchback(Car):  \n",
    "    def print_details(self):\n",
    "        return f\"{self.model} {self.price}\"\n",
    "    \n",
    "h1=Hatchback(\"Q7\",9000000,\"Audi\")\n",
    "print(h1.print_details(),h1.get_brand())"
   ]
  },
  {
   "cell_type": "code",
   "execution_count": null,
   "id": "286960e5",
   "metadata": {},
   "outputs": [],
   "source": []
  }
 ],
 "metadata": {
  "kernelspec": {
   "display_name": "Python 3",
   "language": "python",
   "name": "python3"
  },
  "language_info": {
   "codemirror_mode": {
    "name": "ipython",
    "version": 3
   },
   "file_extension": ".py",
   "mimetype": "text/x-python",
   "name": "python",
   "nbconvert_exporter": "python",
   "pygments_lexer": "ipython3",
   "version": "3.11.0"
  }
 },
 "nbformat": 4,
 "nbformat_minor": 5
}
